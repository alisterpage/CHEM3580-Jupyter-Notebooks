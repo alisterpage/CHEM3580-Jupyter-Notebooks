{
 "cells": [
  {
   "cell_type": "markdown",
   "id": "987b3b72-abe4-45f7-a1c6-81eaa4908c42",
   "metadata": {},
   "source": [
    "# Specific Ion Effects in Electrolytes #"
   ]
  },
  {
   "cell_type": "markdown",
   "id": "0cd54852-2343-44a7-bb17-9cc49498009b",
   "metadata": {
    "jp-MarkdownHeadingCollapsed": true,
    "tags": []
   },
   "source": [
    "## Introduction ##"
   ]
  },
  {
   "cell_type": "markdown",
   "id": "f227b807-42bd-4acc-8f6a-0a1718c1c99f",
   "metadata": {},
   "source": [
    "Electrolytes are fundamentally important to colloid & interface science, and chemistry more broadly. The encompass acids, bases and salts, and are key components in batteries, fertilisers and cleaning agents. Even life itself requires electrolytes - you have often heard that life is based on water... it would be more accurate to say that life is based on _salty_ water - with the average ionic strength of the cytoplasm and plasma being ~ 0.15M."
   ]
  },
  {
   "cell_type": "markdown",
   "id": "68a048ea-2170-47b7-8b3e-e75dccaa2ccf",
   "metadata": {},
   "source": [
    "<div style=\"display:flex\">\n",
    "    <div style=\"width:75%;margin-right:40px;\">\n",
    "        In practically all of these contexts, the effect of the electrolyte is dependent not only on the ions' charges or concentrations, as suggested by widely-used theories (e.g. Debye-H&uuml;ckel theory), but also on their <i>identity</i>. For example, KF has accute toxicity in humans, while KI is used to treat hypothyroidism - clearly the <i>identity</i> of the anion here matters! Such phenomena, in which the ions' identities effect the physical properties and behaviour of a chemical system are collectively known as *specific ion effects*. Throughout colloid and interface science, specific ion effects are the rule, rather than the exception.\n",
    "        <br> <br>The first recorded  example of a specific ion effect is the well-known <b>Hofmeister Effect</b>, discovered by Franz Hofmeister (right) in 1888. Hofmeister noticed that salts' abilities to precipitate proteins from aqueous hen egg white solutions followed a specific order, which today we understand to be:\n",
    "    </div>\n",
    "    <div style=\"width:25%\">\n",
    "        <img src=\"https://cen.acs.org/content/dam/cen/85/48/8548sci1_hofmeistercxd.gif\" style=\"float:right;maxwidth:100%;maxheight:100%\">\n",
    "    </div>\n",
    "<div>"
   ]
  },
  {
   "cell_type": "markdown",
   "id": "5139fa6e-9f02-4ad9-a5c5-4a0fe2581898",
   "metadata": {},
   "source": [
    "$$\\require{mhchem}$$\n",
    "**Anions**:  $\\ce{C4H4O6^{2-}}$ (tartrate) > $\\ce{F-}$ $\\approx$ $\\ce{SO4^{2-}}$ > $\\ce{HPO4^{2-}}$ > $\\ce{H3CCOO-}$ (acetate) > $\\ce{HCO3-}$ $\\ce{Cl-}$ > $\\ce{Br-}$ > $\\ce{NO3-}$ > $\\ce{ClO3-}$ > $\\ce{I-}$ > $\\ce{SCN-}$\n",
    "\n",
    "**Cations**: $\\ce{Li+}$ > $\\ce{K+}$ $\\approx$ $\\ce{Na+}$ > $\\ce{NH4+}$ > $\\ce{Mg2+}$"
   ]
  },
  {
   "cell_type": "markdown",
   "id": "1b4e4adb-4fe7-4c4d-9791-89526a5de1df",
   "metadata": {},
   "source": [
    "<div style=\"display:flex\">\n",
    "    <div style=\"width:75%;margin-right:40px;\">\n",
    "        Here, \">\" indicates a stronger ability to precipitate the protein, or \"salt-out\" the protein, meaning that less of that salt is needed for the protein to precipitate.\n",
    "        <br> <br> Today, the Hofmeister Series is (quite literally) set in stone - the plaque on the right is still at Charles University in Prague, where Hofmeister performed these experiments. However, there are almost as many examples of specific ion effects that contradict this ordering, as examples that follow it! Understanding why this happens is still a very active field of research in chemistry, biology and physics. \n",
    "        <br> <br>\n",
    "        One theory often cited to explain why some salts \"salt-out\" macromolecules from solution (i.e. destabilise them, inducing their precipitation), while others \"salt-in\" macromolecules (i.e. stabilise them, preventing their precipitation) is based on the ions' tendency to interact with the surrounding water structure. Consider the figure on the right, which shows K<sup>+</sup> (blue) and Na<sup>+</sup> (green) cations interacting with RNaseA in water. You can see that Na<sup>+</sup> shows a preference to interact with the macromolecule, rather than the surrounding water environment. On the other hand, K<sup>+</sup> shows the opposite preference - it prefers to interact with the solvent. In other words, we would say that Na<sup>+</sup> has a <b>\"weaker solvation structure\"</b> in water, compared to K which has a <b>\"stronger solvation structure\"</b>. This causes Na<sup>+</sup> to stabilise the RNaseA structure, keeping it dissolved, while K<sup>+</sup>, which solvates in water more strongly, causes the RNaseA to precipitate from solution.\n",
    "    </div>\n",
    "    <div style=\"width:25%\">\n",
    "        <img src=\"https://upload.wikimedia.org/wikipedia/commons/thumb/2/26/Prag_Medizinische_Fakultät_Franz_Hofmeister_448.jpg/1024px-Prag_Medizinische_Fakultät_Franz_Hofmeister_448.jpg\" align=\"center\" style=\"float:right;maxwidth:100%;maxheight:50%\" />\n",
    "        <br> <br>\n",
    "        <img src=\"http://cen.acs.org/content/dam/cen/85/48/8548sci1_proteincxd1.gif\" align=\"center\" style=\"float:right;maxwidth:100%;maxheight:50%\" />\n",
    "    </div>\n",
    "</div>"
   ]
  },
  {
   "cell_type": "markdown",
   "id": "a4e28d05-ff27-486c-bb42-e0a502e899d0",
   "metadata": {},
   "source": [
    "It is clear from this example that **ion solvation in water is an example of a specific-ion effect**. This workshop will investigate this ion-specific solvation of ions using molecular dynamics simulations."
   ]
  },
  {
   "cell_type": "markdown",
   "id": "8deb9254-df78-4578-a6f6-550f33773f8d",
   "metadata": {},
   "source": [
    "### Workshop Aims ###\n",
    "\n",
    "In this workshop, we will use molecular dynamics simulations to investigate specific ion effects regarding the structure of aqueous electrolytes. \n",
    "\n",
    "The aims of this workshop are to - \n",
    "\n",
    "1. Perform NPT-MD simulations of aqueous NaF, NaCl and NaI solutions\n",
    "1. Investigate the solvation structure of dissolved cations and anions in these solutions using radial distribution functions\n",
    "1. Investigate the coordination structure of dissolved cations and anions in these solutions via coordination numbers. \n",
    "1. Elucidate specific-ion effects in these solvation and coordination structures in aqueous electrolytes. "
   ]
  },
  {
   "cell_type": "markdown",
   "id": "0e8b5a39-9493-42b9-aadf-c4872aea2af1",
   "metadata": {
    "tags": []
   },
   "source": [
    "## Simulating Electrolytes ##"
   ]
  },
  {
   "cell_type": "markdown",
   "id": "bfdba74f-3967-4d42-b331-337dbbaa1610",
   "metadata": {},
   "source": [
    "### Aqueous NaCl ###"
   ]
  },
  {
   "cell_type": "markdown",
   "id": "f9ad61d6-85d3-42bb-8571-69d1dfc9234b",
   "metadata": {},
   "source": [
    "#### Setting Things Up ####"
   ]
  },
  {
   "cell_type": "markdown",
   "id": "f32a020c-ba70-4790-8d5a-1bbf88b57b28",
   "metadata": {},
   "source": [
    "First things first - as we saw in Workshop 1, several modules need to be first loaded into our Jupyter notebook so that we can run our MD simulation. Let's take care of this now:from openmm.app import *\n",
    "from openmm import *\n",
    "from openmm.unit import *\n",
    "from sys import stdout\n",
    "import re\n",
    "import time\n",
    "import numpy as np"
   ]
  },
  {
   "cell_type": "code",
   "execution_count": null,
   "id": "d7fea191-0e63-4514-9bd3-c75da2888fc5",
   "metadata": {
    "tags": []
   },
   "outputs": [],
   "source": [
    "from openmm.app import *\n",
    "from openmm import *\n",
    "from openmm.unit import *\n",
    "from sys import stdout\n",
    "import re\n",
    "import time\n",
    "import numpy as np"
   ]
  },
  {
   "cell_type": "markdown",
   "id": "8f6ef5b1-c9b2-431f-b5af-a1433e62ddf8",
   "metadata": {},
   "source": [
    "Now let's define the physical parameters of our simulation. You can use the panels below to change them, however for now it is ok to leave them at their present values. "
   ]
  },
  {
   "cell_type": "code",
   "execution_count": null,
   "id": "12c6f3a8-c1df-4bb8-a30b-089079376ef8",
   "metadata": {
    "jupyter": {
     "source_hidden": true
    },
    "tags": []
   },
   "outputs": [],
   "source": [
    "import ipywidgets as widgets \n",
    "from IPython.display import display\n",
    "\n",
    "#SIMULATION TEMPERATURE\n",
    "# create a float text widget to input variable\n",
    "temp_text = widgets.FloatText(\n",
    "    value=298.0,  # default value \n",
    "    description='Simulation Temperature (K):',\n",
    "    step=1.0,  # step size\n",
    ")\n",
    "# adjust the layout of the widget\n",
    "temp_text.layout.width = 'auto'\n",
    "temp_text.style.description_width = 'initial'\n",
    "# define a function to update the variable\n",
    "def update_temp_text(change):\n",
    "    global simTemperature\n",
    "    simTemperature = change.new\n",
    "# register the update function with the widget\n",
    "temp_text.observe(update_temp_text, 'value')\n",
    "# display the widget\n",
    "display(temp_text)\n",
    "# access the selected temperature value\n",
    "simTemperature = temp_text.value*kelvin\n",
    "\n",
    "#BOXSIZE\n",
    "# create a float text widget to input variable\n",
    "temp_text = widgets.FloatText(\n",
    "    value=35.0,  # default value \n",
    "    description='Box Size (Angstrom):',\n",
    "    step=1.0,  # step size \n",
    ")\n",
    "# adjust the layout of the widget\n",
    "temp_text.layout.width = 'auto'\n",
    "temp_text.style.description_width = 'initial'\n",
    "# define a function to update the variable\n",
    "def update_temp_text(change):\n",
    "    global boxsize\n",
    "    boxsize = change.new\n",
    "# register the update function with the widget\n",
    "temp_text.observe(update_temp_text, 'value')\n",
    "# display the widget\n",
    "display(temp_text)\n",
    "# access the selected temperature value\n",
    "boxsize = temp_text.value\n",
    "\n",
    "#TIMESTEP\n",
    "# create a float text widget to input variable\n",
    "temp_text = widgets.FloatText(\n",
    "    value=1.0,  # default value \n",
    "    description='Time step (fs):',\n",
    "    step=0.5,  # step size \n",
    ")\n",
    "# adjust the layout of the widget\n",
    "temp_text.layout.width = 'auto'\n",
    "temp_text.style.description_width = 'initial'\n",
    "# define a function to update the variable\n",
    "def update_temp_text(change):\n",
    "    global simTimestep\n",
    "    simTimestep = change.new\n",
    "# register the update function with the widget\n",
    "temp_text.observe(update_temp_text, 'value')\n",
    "# display the widget\n",
    "display(temp_text)\n",
    "# access the selected temperature value\n",
    "simTimestep = temp_text.value*femtoseconds\n",
    "\n",
    "#PRESSURE\n",
    "# create a float text widget to input variable\n",
    "temp_text = widgets.FloatText(\n",
    "    value=1.0,  # default value \n",
    "    description='Simulation pressure (atm):',\n",
    "    step=0.10,  # step size \n",
    ")\n",
    "# adjust the layout of the widget\n",
    "temp_text.layout.width = 'auto'\n",
    "temp_text.style.description_width = 'initial'\n",
    "# define a function to update the variable\n",
    "def update_temp_text(change):\n",
    "    global simPressure\n",
    "    simPressure = change.new\n",
    "# register the update function with the widget\n",
    "temp_text.observe(update_temp_text, 'value')\n",
    "# display the widget\n",
    "display(temp_text)\n",
    "# access the selected temperature value\n",
    "simPressure = temp_text.value*atmospheres\n",
    "\n",
    "#STEPS\n",
    "# create a float text widget to input variable\n",
    "temp_text = widgets.FloatText(\n",
    "    value=10000,  # default value \n",
    "    description='# MD steps:',\n",
    "    step=100,  # step size \n",
    ")\n",
    "# adjust the layout of the widget\n",
    "temp_text.layout.width = 'auto'\n",
    "temp_text.style.description_width = 'initial'\n",
    "# define a function to update the variable\n",
    "def update_temp_text(change):\n",
    "    global simNumSteps\n",
    "    simNumSteps = change.new\n",
    "# register the update function with the widget\n",
    "temp_text.observe(update_temp_text, 'value')\n",
    "# display the widget\n",
    "display(temp_text)\n",
    "# access the selected temperature value\n",
    "simNumSteps = temp_text.value\n",
    "\n",
    "#SODIUM\n",
    "# create a float text widget to input variable\n",
    "temp_text = widgets.FloatText(\n",
    "    value=1,  # default value \n",
    "    description='# Cations:',\n",
    "    step=1,  # step size \n",
    ")\n",
    "# adjust the layout of the widget\n",
    "temp_text.layout.width = 'auto'\n",
    "temp_text.style.description_width = 'initial'\n",
    "# define a function to update the variable\n",
    "def update_temp_text(change):\n",
    "    global cation\n",
    "    cation = change.new\n",
    "# register the update function with the widget\n",
    "temp_text.observe(update_temp_text, 'value')\n",
    "# display the widget\n",
    "display(temp_text)\n",
    "# access the selected temperature value\n",
    "cation = temp_text.value\n",
    "\n",
    "#ANION\n",
    "# create a float text widget to input variable\n",
    "temp_text = widgets.FloatText(\n",
    "    value=1,  # default value \n",
    "    description='# Anions:',\n",
    "    step=1,  # step size \n",
    ")\n",
    "# adjust the layout of the widget\n",
    "temp_text.layout.width = 'auto'\n",
    "temp_text.style.description_width = 'initial'\n",
    "# define a function to update the variable\n",
    "def update_temp_text(change):\n",
    "    global anion\n",
    "    anion = change.new\n",
    "# register the update function with the widget\n",
    "temp_text.observe(update_temp_text, 'value')\n",
    "# display the widget\n",
    "display(temp_text)\n",
    "# access the selected temperature value\n",
    "anion = temp_text.value\n",
    "\n"
   ]
  },
  {
   "cell_type": "markdown",
   "id": "4752b014-3ae2-4421-bd54-874b0f859aea",
   "metadata": {},
   "source": [
    "The parameters above do not specify the the # of waters we will place in our simulation box. But knowing the size of the box, and the density of water (0.9987 g/cm$^3$ at STP) we can work out how many waters we need, and the resulting solution concentration:"
   ]
  },
  {
   "cell_type": "code",
   "execution_count": null,
   "id": "4979ffbb-7bf3-4d51-b2f2-9eb4ea65ed62",
   "metadata": {
    "tags": []
   },
   "outputs": [],
   "source": [
    "density=0.99705\n",
    "water=int(boxsize**3*density*1e6*(1e-10)**3/(18.01)*6.02214e23)\n",
    "concentration_molpercent=cation/water*100\n",
    "concentration_molar=cation*density*1e3/(water*18.01)\n",
    "print(\"Box size of\",boxsize,\"angstroms at density,\",density,\"g/cm3 requires \",water,\" water molecules\")\n",
    "print(\"concentration (mol%)=\",concentration_molpercent)\n",
    "print(\"concentration (M)=\",concentration_molar)"
   ]
  },
  {
   "cell_type": "markdown",
   "id": "060541b0-b0a2-4d19-b4f1-b8014f7a004f",
   "metadata": {},
   "source": [
    "Once you're happy with your simulation parameters, let's make sure their stored correctly by executing the next cell:"
   ]
  },
  {
   "cell_type": "code",
   "execution_count": null,
   "id": "9f2d9e31-c369-4d00-a59a-62c4c52a2be6",
   "metadata": {},
   "outputs": [],
   "source": [
    "print(f\"Simulation size: {water} waters\")\n",
    "print(f\"Box size: {boxsize} Ang.\")\n",
    "print(f\"Simulation temperature: {simTemperature}\")\n",
    "print(f\"Simulation pressure: {simPressure}\")\n",
    "print(f\"Simulation time step: {simTimestep}\")\n",
    "print(f\"# MD steps: {simNumSteps} ; Total simulation length: {simNumSteps * simTimestep} = {simNumSteps*simTimestep / 1000 / 1000 / femtoseconds * nanoseconds}.\")"
   ]
  },
  {
   "cell_type": "markdown",
   "id": "a91ef0d5-be8b-4ff0-998d-f14f2de1c9ac",
   "metadata": {},
   "source": [
    "#### Generating the Unit Cell ####"
   ]
  },
  {
   "cell_type": "markdown",
   "id": "2335ec9b-919a-4706-bf6e-29f70b97487b",
   "metadata": {},
   "source": [
    "With the parameters for our simulation now defined, we can generate our simulation box. As we have seen in Workshop 1, we will use ```packmol``` to do this.\n",
    "\n",
    "To start with, we will prepare the input file, ```packmol.in```, that ```packmol``` will go looking for. This input file tells ```packmol``` to build a box of waters according to the parameters that you just set above:"
   ]
  },
  {
   "cell_type": "code",
   "execution_count": null,
   "id": "0c0189fb-d0bb-4234-b5d4-48df71525dae",
   "metadata": {
    "tags": []
   },
   "outputs": [],
   "source": [
    "with open(\"packmol.in\", \"w\") as f:\n",
    "    f.write(\"tolerance 2.0\\n\")\n",
    "    f.write(\"filetype pdb\\n\")\n",
    "    f.write(\"output nacl_system.pdb\\n\") ### CHANGE THIS LINE FOR NaF, NaI \n",
    "    f.write(\"\\n\")\n",
    "    f.write(\"structure water.pdb\\n\")\n",
    "    f.write(\"  number {0}\\n\".format(water))\n",
    "    f.write(\"  inside cube 2. 2. 2. {0}\\n\".format(boxsize))\n",
    "    f.write(\"end structure\\n\")\n",
    "    f.write(\"structure na+.pdb\\n\")\n",
    "    f.write(\"  number {0}\\n\".format(int(cation)))\n",
    "    f.write(\"  inside cube 2. 2. 2. {0}\\n\".format(boxsize))\n",
    "    f.write(\"end structure\\n\")\n",
    "    f.write(\"structure cl-.pdb\\n\")  ### CHANGE THIS LINE FOR NaF, NaI \n",
    "    f.write(\"  number {0}\\n\".format(int(anion)))\n",
    "    f.write(\"  inside cube 2. 2. 2. {0}\\n\".format(boxsize))\n",
    "    f.write(\"end structure\\n\")\n",
    "    f.write(\"\\n\")\n",
    "    f.write(\"add_box_sides 1.0\\n\")"
   ]
  },
  {
   "cell_type": "markdown",
   "id": "46f33f40-4b03-409e-bf78-6ce16a2c0f67",
   "metadata": {},
   "source": [
    "Now we run ```packmol``` itself, and make sure that everything worked ok:"
   ]
  },
  {
   "cell_type": "code",
   "execution_count": null,
   "id": "40e36b40-3377-48e4-acf6-c77a5af3cfac",
   "metadata": {
    "tags": []
   },
   "outputs": [],
   "source": [
    "#%%bash\n",
    "!/home/chem3580/packmol < packmol.in > packmol.out"
   ]
  },
  {
   "cell_type": "code",
   "execution_count": null,
   "id": "65e836a6-c754-49d5-ae75-426ceeb95278",
   "metadata": {
    "scrolled": true,
    "tags": []
   },
   "outputs": [],
   "source": [
    "with open('packmol.out', 'r') as f:\n",
    "    text = f.read()\n",
    "    print(text)"
   ]
  },
  {
   "cell_type": "markdown",
   "id": "dd38a958-0263-4788-a242-2c3b9135f172",
   "metadata": {},
   "source": [
    "Let's take a look at the simulation box that you've just generated: "
   ]
  },
  {
   "cell_type": "code",
   "execution_count": null,
   "id": "a86d0d3e-4bab-4c64-bc2d-c91bcb98d161",
   "metadata": {
    "scrolled": true,
    "tags": []
   },
   "outputs": [],
   "source": [
    "with open('nacl_system.pdb', 'r') as f:\n",
    "    text = f.read()\n",
    "    print(text)"
   ]
  },
  {
   "cell_type": "markdown",
   "id": "aeecae10-83a7-4ece-8dcb-fa1528d2df94",
   "metadata": {},
   "source": [
    "For this workshop, we will only be using the TIP3P water model for these simulations, so we do not need to define dummy atoms etc., as we had to for the TIP4P water model simulations in Workshop 1. Finally, we will define the ```pdb``` using the PDB file that we just generated using ```packmol```:"
   ]
  },
  {
   "cell_type": "code",
   "execution_count": null,
   "id": "1c1e1db9-05d1-4f38-b4bf-5c644a5db7b6",
   "metadata": {},
   "outputs": [],
   "source": [
    "pdb = PDBFile('nacl_system.pdb')"
   ]
  },
  {
   "cell_type": "markdown",
   "id": "e94ba00f-4d25-434d-896b-3720fb10bf90",
   "metadata": {},
   "source": [
    "We can move on and define our MD simulation now!"
   ]
  },
  {
   "cell_type": "markdown",
   "id": "f0c2a22d-b698-4942-9bb6-487d14cb3b8e",
   "metadata": {},
   "source": [
    "#### Defining the MD Simulation ####"
   ]
  },
  {
   "cell_type": "markdown",
   "id": "c3cd56c6-7341-409a-a988-6baec6efe80c",
   "metadata": {},
   "source": [
    "We are now ready to setup the MD simulation objects using the ```OpenMM``` python module. The process for this is _exactly_ the same as that in Workshop 1 - we need to define: \n",
    "\n",
    "1. What forcefield we are going to use (this defines how bonded and non-bonded atoms interact with each other)\n",
    "1. What the system topology is (i.e. which atoms are connected to which atoms etc.)\n",
    "1. How we will control the simulation temperature and pressure (e.g. using a _thermostat_ or a _barostat_), and\n",
    "1. How we will iterate Newton's equations of motion (i.e. the _integrator_)\n",
    "\n",
    "Run the cells below. They will setup the simulation in the following way: \n",
    "\n",
    "1. We will apply the TIP3P water model forcefield and store it in  the ```tip3p_forcefield``` object. \n",
    "1. We combine the ```tip3p_forcefield``` object with the topology in our PDB file ```system.pdb``` (generated above using packmol) to define the MD simulation, which we store in the ```tip3p_system``` object. \n",
    "1. We add a barostat (the ```MonteCarloBarostat```) to the simulation using ```OpenMM```'s ```addForce``` module. \n",
    "1. We use ```OpenMM```'s ```NoseHooverIntegrator``` to iterate the equations of motion.\n"
   ]
  },
  {
   "cell_type": "code",
   "execution_count": null,
   "id": "0ae96e76-0cb0-4b4e-978f-32820c702896",
   "metadata": {},
   "outputs": [],
   "source": [
    "forcefield = ForceField('amber14-all.xml', 'amber14/tip3p.xml')"
   ]
  },
  {
   "cell_type": "code",
   "execution_count": null,
   "id": "818f66cb-add7-406e-a693-242132d0479d",
   "metadata": {},
   "outputs": [],
   "source": [
    "system = forcefield.createSystem(pdb.topology,nonbondedMethod=PME,nonbondedCutoff=14*angstrom,constraints=None,rigidWater=False)"
   ]
  },
  {
   "cell_type": "code",
   "execution_count": null,
   "id": "efede7ce-5856-4cef-acf7-60f8f48d1103",
   "metadata": {},
   "outputs": [],
   "source": [
    "system.addForce(MonteCarloBarostat(simPressure, simTemperature, 1))"
   ]
  },
  {
   "cell_type": "code",
   "execution_count": null,
   "id": "ffce76db-7cc1-4f97-a695-67d4b9ee7bfb",
   "metadata": {},
   "outputs": [],
   "source": [
    "integrator = NoseHooverIntegrator(simTemperature,0.1/picosecond,simTimestep)"
   ]
  },
  {
   "cell_type": "code",
   "execution_count": null,
   "id": "222c8638-9d84-4dbc-9c47-ed990fa2b2a7",
   "metadata": {},
   "outputs": [],
   "source": [
    "nacl = Simulation(pdb.topology,system,integrator)"
   ]
  },
  {
   "cell_type": "code",
   "execution_count": null,
   "id": "93d7bf66-e752-4561-8c2c-a97e238bff10",
   "metadata": {},
   "outputs": [],
   "source": [
    "nacl.context.setPositions(pdb.positions)"
   ]
  },
  {
   "cell_type": "markdown",
   "id": "8152c76e-5d59-4e84-88c1-8dc5c733443c",
   "metadata": {},
   "source": [
    "Note that we have defined the NaCl MD simulation here via the ```nacl``` object. Now we are ready to run!! "
   ]
  },
  {
   "cell_type": "markdown",
   "id": "978699aa-8bb3-45af-9e16-17427de8be74",
   "metadata": {},
   "source": [
    "#### Energy Minimisation ####"
   ]
  },
  {
   "cell_type": "markdown",
   "id": "d2993cf4-2ebe-488b-918e-c58b0650bf06",
   "metadata": {},
   "source": [
    "First things first - we have to minimise the energy of our ```nacl``` system to a local minimum on the potential energy surface. Run the next cell to do this: "
   ]
  },
  {
   "cell_type": "code",
   "execution_count": null,
   "id": "d60b8c2f-883a-4570-95d9-ca4d4f21f482",
   "metadata": {},
   "outputs": [],
   "source": [
    "print(\"Running Energy Minimisation:\")\n",
    "t0 = time.time()\n",
    "nacl.minimizeEnergy()\n",
    "t1 = time.time()\n",
    "minTime = t1-t0\n",
    "print(\"Minimisation took {} seconds\".format(minTime))"
   ]
  },
  {
   "cell_type": "markdown",
   "id": "8ab414a9-31aa-4696-9056-c3755d60e7c7",
   "metadata": {},
   "source": [
    "#### Running the MD Simulation ####"
   ]
  },
  {
   "cell_type": "markdown",
   "id": "672798ad-f84e-4498-bcab-124380a6934e",
   "metadata": {
    "tags": []
   },
   "source": [
    "The arrangement of waters and ions in your box should now correspond to a local energy minima, meaning that you are good to go - run the MD simulation!\n",
    "\n",
    "Before you do though, we want to make sure that we store the relevant data from the MD trajectory. The cell below will take care of this for you, and will track the progress of the MD simulation in two files ```nacl.dcd```, and ```nacl.csv```:"
   ]
  },
  {
   "cell_type": "code",
   "execution_count": null,
   "id": "fccaee0d-ff3c-4225-a561-d6f67a697720",
   "metadata": {},
   "outputs": [],
   "source": [
    "nacl.reporters.append(DCDReporter('nacl.dcd', 10))\n",
    "nacl.reporters.append(StateDataReporter(\n",
    "    'nacl.csv', \n",
    "    10, \n",
    "    step=True,\n",
    "    time=True,\n",
    "    temperature=True, \n",
    "    potentialEnergy=True, \n",
    "    kineticEnergy=True,\n",
    "    totalEnergy=True, \n",
    "    volume=True, \n",
    "    density=True\n",
    "))"
   ]
  },
  {
   "cell_type": "code",
   "execution_count": null,
   "id": "7a508e33-8697-4bc4-8be2-9f438447f3cd",
   "metadata": {},
   "outputs": [],
   "source": [
    "# Run the simulation:\n",
    "print('Start Simulation')\n",
    "t0 = time.time()\n",
    "nacl.step(simNumSteps)\n",
    "t1 = time.time()\n",
    "simTime = t1-t0\n",
    "print(\"Simulation took {} seconds for {} timesteps\".format(simTime,simNumSteps)) "
   ]
  },
  {
   "cell_type": "markdown",
   "id": "caaa92cb-5371-41b2-9953-2ea9ff0459d8",
   "metadata": {
    "tags": []
   },
   "source": [
    "### Exercise: Simulating Aqueous NaF ###"
   ]
  },
  {
   "cell_type": "markdown",
   "id": "0f2ae082-40c0-4d33-ba34-093571ff7aeb",
   "metadata": {},
   "source": [
    "Copy, paste and edit the sample code above that generated the ```nacl``` simulation object to: \n",
    "\n",
    "1. Generate a new ```packmol.in``` to create a 35 Angstrom box of water with a NaF ion pair in it. Use the pdb files \"na+.pdb\" and \"f-.pdb\" when generating this ```packmol.in``` file. (See \"**Generating the Unit Cell**\").\n",
    "1. Generate your  NaF aqueous solution box using ```packmol```. (See \"**Generating the Unit Cell**\").\n",
    "1. Minimise the energy of this aqueous NaF solution to a local minimim on the potential energy surface using ```OpenMM```. (See \"**Energy Minimisation**\").\n",
    "1. Create and run a 50 ps MD simulation of this aqueous NaF solution using the NPT ensemble using ```OpenMM``` (See \"**Running the MD Simulation**\"). \n",
    "\n",
    "##### Important Notes #####\n",
    "1. Insert as many code cells in the jupyter notebook below as you need. Try and keep your code as 'clean' as possible - it will help you solve and debug problems if and when they happen!\n",
    "1. If you get stuck, ask your demonstrator for help!\n",
    "1. <span style=\"color:red;\">REALLY IMPORTANT - make sure that you change all \"nacl\" to \"naf\" in your new code below. Otherwise you will destroy the NaCl simulation you just ran!</span>\n",
    "1. <span style=\"color:red;\">REALLY IMPORTANT - make sure that you change the \"cl-.pdb\" to \"f-.pdb\" when  you generate your ```packmol.in``` file - otherwise you will just be simulating aqueous NaCl again...</span>\n"
   ]
  },
  {
   "cell_type": "markdown",
   "id": "9f4fedd6-9fc9-4a0c-9e4b-6075e29560d0",
   "metadata": {
    "tags": []
   },
   "source": [
    "### Exercise: Simulating Aqueous NaI ###"
   ]
  },
  {
   "cell_type": "markdown",
   "id": "02f252b3-8e63-4d83-86c3-f35ada9a26ec",
   "metadata": {},
   "source": [
    "Copy, paste and edit the sample code above that generated the ```nacl``` simulation object to: \n",
    "\n",
    "1. Generate a new ```packmol.in``` to create a 35 Angstrom box of water with a NaI ion pair in it. Use the pdb files \"na+.pdb\" and \"i-.pdb\" when generating this ```packmol.in``` file. (See \"**Generating the Unit Cell**\").\n",
    "1. Generate your  NaI aqueous solution box using ```packmol```. (See \"**Generating the Unit Cell**\").\n",
    "1. Minimise the energy of this aqueous NaI solution to a local minimim on the potential energy surface using ```OpenMM```. (See \"**Energy Minimisation**\").\n",
    "1. Create and run a 50 ps MD simulation of this aqueous NaI solution using the NPT ensemble using ```OpenMM``` (See \"**Running the MD Simulation**\"). \n",
    "\n",
    "##### Important Notes #####\n",
    "1. Insert as many code cells in the jupyter notebook below as you need. Try and keep your code as 'clean' as possible - it will help you solve and debug problems if and when they happen!\n",
    "1. If you get stuck, ask your demonstrator for help!\n",
    "1. <span style=\"color:red;\">REALLY IMPORTANT - make sure that you change all \"nacl\" to \"nai\" in your new code below. Otherwise you will destroy the NaCl simulation you just ran!</span>\n",
    "1. <span style=\"color:red;\">REALLY IMPORTANT - make sure that you change the \"cl-.pdb\" to \"i-.pdb\" when  you generate your ```packmol.in``` file - otherwise you will just be simulating aqueous NaCl again...</span>\n"
   ]
  },
  {
   "cell_type": "markdown",
   "id": "2c81e335-4344-49b7-a143-df4b2c0524e1",
   "metadata": {},
   "source": [
    "### Analysis - Ion Solvation Structure ###"
   ]
  },
  {
   "cell_type": "markdown",
   "id": "8bf3577d-4020-45ea-ba1b-98397aa67bed",
   "metadata": {},
   "source": [
    "<div style=\"display:flex\">\n",
    "    <div style=\"width:70%;margin-right:40px;\">\n",
    "        In Workshop 1, we employed radial distribution functions to get a better understanding of the arrangement of individual molecules in bulk water, and therefore the hydrogen bonding structure of this liquid. Here, we will use radial distribution functions for a similar purpose - i.e. to understand how ions are solvated in bulk water (i.e. their \"solvation structure\"). The solvation structure of a Na<sup>+</sup> cation in water is shown schematically on the right - since this cation is positively charged, it interacts with surrounding water molecules predominantly via electrostatic interactions, which forces water to rearrange and coordinate the cation via the negative dipole on the oxygen atom. Conversely, Cl<sup>-</sup> anions predominantly interact via the positive dipoles on the hydrogen atoms. \n",
    "    </div>\n",
    "    <div style=\"width:25%\">\n",
    "        <img src=\"http://www.grandinetti.org/resources/Teaching/Chem121/Lectures/SolutionChemistry/water3.gif\" style=\"float:right;maxwidth:100%;maxheight:100%\">\n",
    "    </div>\n",
    "<div>"
   ]
  },
  {
   "cell_type": "markdown",
   "id": "24f39da8-3464-40fd-aaa8-a329f20827d9",
   "metadata": {},
   "source": [
    "We can investigate both of these interactions via the respective radial distribution functions - that is, \n",
    "\n",
    "1. The radial distribution function of O atoms around the Na$^+$ cation (i.e. $g_{\\text{Na-O}}(r)$)\n",
    "1. The radial distribution function of H atoms around the Cl$^-$ anion (i.e. $g_{\\text{Cl-H}}(r)$)\n",
    "\n",
    "And by comparing the $g_{\\text{Na-O}}(r)$ radial distribution function in the three different electrolytes we're studying here, we can begin to understand how the anion influences the cation's behaviour in an ion-specific way. "
   ]
  },
  {
   "cell_type": "markdown",
   "id": "8c4e12fb-0c3e-43a6-8872-b3c5eebc9bb8",
   "metadata": {},
   "source": [
    "Let's start with the NaCl solution - the NaF and NaI solutions will be an exercise for you below. We'll take our NaCl MD trajectory and use the MDAnalysis python module to calculate the same RDFs as shown in the Figure above. "
   ]
  },
  {
   "cell_type": "code",
   "execution_count": null,
   "id": "e095ec50-b9c4-4f24-ac71-e76683774e75",
   "metadata": {},
   "outputs": [],
   "source": [
    "import MDAnalysis as mda\n",
    "import MDAnalysis.analysis.rdf as rdf"
   ]
  },
  {
   "cell_type": "markdown",
   "id": "34081ad1-b69b-42fd-9432-ae12479e119f",
   "metadata": {},
   "source": [
    "Similar to Workshop 1, the first step is to define the ```MDAnalysis``` \"universe\", using the NaCl MD trajectory we just created above. We can do this using the ```nacl.dcd``` trajectory file and ```nacl_system.pdb``` PDB files: "
   ]
  },
  {
   "cell_type": "code",
   "execution_count": null,
   "id": "dbc26634-f1d3-4ec0-9b9b-e10433f386c1",
   "metadata": {},
   "outputs": [],
   "source": [
    "nacl_universe = mda.Universe('nacl_system.pdb','nacl.dcd')"
   ]
  },
  {
   "cell_type": "markdown",
   "id": "7a6ce47d-b6be-48a0-ba95-79e38ab676dd",
   "metadata": {},
   "source": [
    "We now need to tell MDAnalysis which pairs of atoms we want to investigate via the ```select_atoms``` function. We'll store the list of oxygen atoms in the variable ```O```, and the list of sodium atoms in the variable ```Na```, chlorine in ```Cl``` and hydrogen in ```H```:"
   ]
  },
  {
   "cell_type": "code",
   "execution_count": null,
   "id": "254a27a6-dfca-4c1c-a625-eaa226f870cd",
   "metadata": {},
   "outputs": [],
   "source": [
    "O = nacl_universe.select_atoms('name O')\n",
    "H = nacl_universe.select_atoms('name H1 or name H2')\n",
    "Na = nacl_universe.select_atoms('name NA')\n",
    "Cl = nacl_universe.select_atoms('name Cl')"
   ]
  },
  {
   "cell_type": "markdown",
   "id": "e15057b7-77f1-47be-9bae-fb30c3610435",
   "metadata": {},
   "source": [
    "Notice here that the 'names' of the different elements are all a bit different - this is necessary since they must match the names of the elements in the ```nacl_system.pdb``` file. \n",
    "\n",
    "Now, we tell MDAnalysis the details of the RDFs that we are after: "
   ]
  },
  {
   "cell_type": "code",
   "execution_count": null,
   "id": "19355762-6014-40a7-ad7f-15a65b52a0fc",
   "metadata": {},
   "outputs": [],
   "source": [
    "NaCl_NaO_rdf = rdf.InterRDF(Na,O,nbins=100,range=(1.0,10))\n",
    "ClH_rdf = rdf.InterRDF(Cl,H,nbins=100,range=(1.0,10))"
   ]
  },
  {
   "cell_type": "code",
   "execution_count": null,
   "id": "c0df56c3-ee81-495f-ae34-21fe3e2eafd7",
   "metadata": {},
   "outputs": [],
   "source": [
    "NaCl_NaO_rdf.run()\n",
    "ClH_rdf.run()"
   ]
  },
  {
   "cell_type": "markdown",
   "id": "17435f85-c861-4255-a422-c80d6ec8aab1",
   "metadata": {},
   "source": [
    "As in Workshop 1, this should only take a few seconds. When it is finished, we can plot the results and look at the RDF! We will use the ```matplotlib``` python module, as we have before, to do this. Note that the horizontal and vertical axis data we want to plot are actually now in the ```.bins``` and ```.rdf``` variables, respectively. So we will pass these two variables to the plot command below for both the $g_{\\text{Na-O}}(r)$ and $g_{\\text{Cl-H}}(r)$ radial distribution functions:"
   ]
  },
  {
   "cell_type": "code",
   "execution_count": null,
   "id": "34ed093e-007c-4689-aa1b-dd831728788c",
   "metadata": {},
   "outputs": [],
   "source": [
    "import matplotlib.pyplot as plt\n",
    "\n",
    "plt.plot(NaCl_NaO_rdf.bins,NaCl_NaO_rdf.rdf,label=\"Na-O\")\n",
    "plt.plot(ClH_rdf.bins,ClH_rdf.rdf,label=\"Cl-H\")\n",
    "plt.xlabel(\"r ($\\mathrm{\\AA}$)\")\n",
    "plt.ylabel(\"g(r)\")\n",
    "plt.legend()\n",
    "plt.ylim([0.0, 10])"
   ]
  },
  {
   "cell_type": "markdown",
   "id": "b1790f1d-ae05-4881-89c0-086143b849a1",
   "metadata": {},
   "source": [
    "#### Exercise - Ion Solvation in NaF and NaI ####"
   ]
  },
  {
   "cell_type": "markdown",
   "id": "423069bb-a734-4128-b6ae-869ccd6ddaf7",
   "metadata": {},
   "source": [
    "Using the sample code above that generated the $g_{\\text{Na-O}}(r)$ and $g_{\\text{Cl-H}}(r)$ radial distribution functions in aqueous NaCl, copy, paste and edit a new code to:\n",
    "\n",
    "1. Calculate $g_{\\text{Na-O}}(r)$ and $g_{\\text{F-H}}(r)$ radial distribution functions in aqueous NaF.\n",
    "1. Calculate $g_{\\text{Na-O}}(r)$ and $g_{\\text{I-H}}(r)$ radial distribution functions in aqueous NaI.\n",
    "1. Create a single plot comparing the $g_{\\text{Na-O}}(r)$ radial distribution functions in aqueous NaF, NaCl and NaI.\n",
    "1. Create a single plot comparing the $g_{\\text{Cl-H}}(r)$ radial distribution functions in aqueous NaF, NaCl and NaI.\n",
    "\n",
    "\n",
    "##### Important Notes #####\n",
    "1. Insert as many code cells in the jupyter notebook below as you need. Try and keep your code as 'clean' as possible - it will help you solve and debug problems if and when they happen!\n",
    "1. If you get stuck, ask your demonstrator for help!\n",
    "1. <span style=\"color:red;\">REALLY IMPORTANT - make sure that you change all \"nacl\" to \"naf\" and/or \"nai\" in your new code below for NaF and NaI. Otherwise you will destroy the NaCl RDFs you just calculated!</span>"
   ]
  },
  {
   "cell_type": "markdown",
   "id": "9d3e9f32-49e4-449a-ab45-339f3f96140c",
   "metadata": {},
   "source": [
    "### Analysis - Ion Solvation Coordination ###"
   ]
  },
  {
   "cell_type": "markdown",
   "id": "d5dd3631-3825-4867-a956-e75080cc5d93",
   "metadata": {},
   "source": [
    "While radial distributions give us useful information regarding the length-scale of intermolecular interactions, it is important to realise that they don't quantify the _number_ of interactions. That is, the radial distribution function for atoms A and B does not answer the question \"how many B atoms are bound to atom A?\" \n",
    "\n",
    "The answer to this question is given via the **coordination number**. As we have seen in the lectures for this course, the coordination number is defined in terms of the radial distribution function itself, \n",
    "\n",
    "$$n_{AB}(r,\\Delta r) = 4\\pi\\rho \\int_{0}^{r'} r^{2} g_{AB} (r, \\Delta r) dr$$\n",
    "\n",
    "In effect, the coordination number is the sum of all B atoms found on a sphere centred on atom A of increasing radius $r$. This number, $n_{AB}$ is the answer to the previous question. \n",
    "\n",
    "Let's see how coordination numbers work in practice, using aqueous NaCl as our example. "
   ]
  },
  {
   "cell_type": "markdown",
   "id": "8776b441-29ef-472f-bc93-cbc7100e7947",
   "metadata": {},
   "source": [
    "To start with, lets calculate the value of $\\rho$ for our simulation.  $\\rho$ is the particle density of the simulation - i.e. the number of particles per unit volume for our simulation box, $\\frac{n}{V}$. Here, both $N$ and $V$ are already known - $N$ is just $3 \\times N_{\\text{water}}$ and V is the volume of the simulation box. We can calculate $n$ easily: "
   ]
  },
  {
   "cell_type": "code",
   "execution_count": null,
   "id": "58e7b984-5cc5-476e-9fc1-72514417dc8c",
   "metadata": {},
   "outputs": [],
   "source": [
    "N = water*3"
   ]
  },
  {
   "cell_type": "markdown",
   "id": "6683ddd3-adef-4ac9-8e6c-a4dd4d07b67f",
   "metadata": {},
   "source": [
    "The volume of the box is also easily recovered from the ```MDAnalysis``` universe for our aqueous NaCl simulation, which includes a ```dimensions``` variable: "
   ]
  },
  {
   "cell_type": "code",
   "execution_count": null,
   "id": "b0200668-14c0-4bb0-8488-1f23965a374b",
   "metadata": {},
   "outputs": [],
   "source": [
    "box=nacl_universe.dimensions\n",
    "print(box)"
   ]
  },
  {
   "cell_type": "markdown",
   "id": "ccf4e9b0-88a2-488c-ae97-1172a446d519",
   "metadata": {},
   "source": [
    "The first 3 numbers here are the lengths of the sides of the box in angstrom, the last 3 numbers are the angles of between them (our box is a cube, so these are all 90 $^{\\circ}$ in this case). The volume of the box is just the product of thee side lengths: "
   ]
  },
  {
   "cell_type": "code",
   "execution_count": null,
   "id": "98b8fa93-7686-4718-90ed-abc2e88d9a1d",
   "metadata": {},
   "outputs": [],
   "source": [
    "volume = np.prod(box[0:2])\n",
    "print(\"Box volume is \",volume,\"angstrom^3\")"
   ]
  },
  {
   "cell_type": "markdown",
   "id": "df5fc55e-42b7-4358-97db-b13a155a9226",
   "metadata": {},
   "source": [
    "So we can now calculate $\\rho$: "
   ]
  },
  {
   "cell_type": "code",
   "execution_count": null,
   "id": "05be00d3-804b-4946-8f54-945860910fd0",
   "metadata": {},
   "outputs": [],
   "source": [
    "rho = N / volume\n",
    "print(\"Particle density is\",rho,\"particles / Angstrom^3 \")"
   ]
  },
  {
   "cell_type": "markdown",
   "id": "4e047dee-ad6a-4419-b17b-92bec9c1ff89",
   "metadata": {},
   "source": [
    "The next step is to calculate the integral, i.e. $\\int_{0}^{r'} r^{2} g_{AB} (r, \\Delta r) dr$. To do this, we will use some useful functions in the Python ```numpy``` and ```itertools``` modules to save us some effort. Firstly, we will calculate $r^{2} g_{AB} (r, \\Delta r)$ for each value of $r$ that we have used in the radial distribution function. To do this, we will use ```Numpy```'s ```multiply``` function:"
   ]
  },
  {
   "cell_type": "code",
   "execution_count": null,
   "id": "8e6c9eb1-4dd3-4a91-91ae-7e6ee7167231",
   "metadata": {},
   "outputs": [],
   "source": [
    "NaCl_NaO_cdf=np.multiply(np.multiply(NaCl_NaO_rdf.bins,NaCl_NaO_rdf.bins),NaCl_NaO_rdf.rdf)/1000"
   ]
  },
  {
   "cell_type": "markdown",
   "id": "7d04de05-b90f-49ee-81bc-84802c529245",
   "metadata": {},
   "source": [
    "where we have stored the result in ```NaCl_NaO_cdf``` (```cdf``` here is short for 'cumulative distribution function'). We can now calculate the coordination number for the Na-O radial distribution function:"
   ]
  },
  {
   "cell_type": "code",
   "execution_count": null,
   "id": "4ce0aceb-a544-4eed-bbce-e31e7c3b7e7e",
   "metadata": {},
   "outputs": [],
   "source": [
    "from itertools import accumulate\n",
    "NaCl_n_NaO=4*math.pi*rho*np.fromiter(accumulate(NaCl_NaO_cdf),dtype='float')"
   ]
  },
  {
   "cell_type": "markdown",
   "id": "dc1d7cc4-0c79-41e3-ab9a-0c756e4140cc",
   "metadata": {},
   "source": [
    "Here we have used the ```itertools``` ```accumulate``` function to add up the numbers inside the ```NaCl_NaO_cdf``` array, i.e. calculate the value of the integral $\\int_{0}^{r'} r^{2} g_{AB} (r, \\Delta r) dr$. \n",
    "\n",
    "What does this coordination number look like? Let's plot it and see:"
   ]
  },
  {
   "cell_type": "code",
   "execution_count": null,
   "id": "c9f8313e-503d-4618-975a-11e2146cfbe5",
   "metadata": {},
   "outputs": [],
   "source": [
    "import matplotlib.pyplot as plt\n",
    "plt.plot(NaCl_NaO_rdf.bins, NaCl_NaO_rdf.rdf,label=\"Na-O RDF\")\n",
    "plt.plot(NaCl_NaO_rdf.bins,NaCl_n_NaO,linestyle=\":\", label=\"Na-O Coord. #\")\n",
    "plt.xlabel(\"r ($\\mathrm{\\AA}$)\")\n",
    "plt.legend()\n",
    "plt.ylabel(\"g(r)\")\n",
    "plt.ylim([0.0,20])"
   ]
  },
  {
   "cell_type": "markdown",
   "id": "c94dce24-f34c-46ef-9871-839ab1abdbc7",
   "metadata": {},
   "source": [
    "How do we interpret this coordination number? The principal Na-O interaction in aqueous NaCl solution corresponds to the sharp peak at ~2.5 Angstrom. Beyond this length scale, the Na-O radial distribution function quickly tends to the bulk limit value of 1.0. So, the value of the coordination number that corresponds to this initial principal peak tells us how many O atoms (i.e. water molecules) are coordinating the Na$^+$ cation in its first solvation shell. We can see that number is ~5.0. "
   ]
  },
  {
   "cell_type": "markdown",
   "id": "1b58ca22-f27b-4c7c-a234-8d8181894d28",
   "metadata": {},
   "source": [
    "We can repeat this calculation for the $g_{\\text{Cl-H}}(r)$ radial distribution function in aqueous NaCl to calculate # of H atoms coordinating the Cl$^-$ anion, simply by replacing the ```NaO_rdf``` variable with ```ClH_rdf```:"
   ]
  },
  {
   "cell_type": "code",
   "execution_count": null,
   "id": "b1ebc9af-7d8a-4660-a70d-463f8ea6dd3a",
   "metadata": {},
   "outputs": [],
   "source": [
    "ClH_cdf=np.multiply(np.multiply(ClH_rdf.bins,ClH_rdf.bins),ClH_rdf.rdf)/1000\n",
    "n_ClH=4*math.pi*rho*np.fromiter(accumulate(ClH_cdf),dtype='float')\n",
    "plt.plot(ClH_rdf.bins, ClH_rdf.rdf,label=\"Cl-H RDF\")\n",
    "plt.plot(ClH_rdf.bins,n_ClH,linestyle=\":\", label=\"Cl-H Coord. #\")\n",
    "plt.xlabel(\"r ($\\mathrm{\\AA}$)\")\n",
    "plt.legend()\n",
    "plt.ylabel(\"g(r)\")\n",
    "plt.ylim([0.0,20])"
   ]
  },
  {
   "cell_type": "markdown",
   "id": "3046f030-c4d0-4b9b-b074-d6f079c0c966",
   "metadata": {},
   "source": [
    "So - what this is showing us is that, even though there are equivalent ratios of cations and anions in this solution, the Na$^+$ cation is much more strongly coordinated by the water O atoms in its first solvation shell, compared to the coordination of Cl$^-$ anions by water H atoms."
   ]
  },
  {
   "cell_type": "markdown",
   "id": "206914ce-46ea-4880-9c3c-df8f34ff3fe9",
   "metadata": {},
   "source": [
    "#### Exercise - Ion Coordination in NaF and NaI ####"
   ]
  },
  {
   "cell_type": "markdown",
   "id": "d2d45bbf-38b8-4822-8995-090790556132",
   "metadata": {},
   "source": [
    "Using the sample code above that generated the $n_{\\text{Na-O}}(r)$ and $g_{\\text{Cl-H}}(r)$ coordination numbers in aqueous NaCl, copy, paste and edit a new code to:\n",
    "\n",
    "1. Calculate $n_{\\text{NaO}}(r)$ and $n_{\\text{FH}}(r)$ coordination numbers in aqueous NaF.\n",
    "1. Calculate $n_{\\text{NaO}}(r)$ and $n_{\\text{IH}}(r)$ coordination numbers in aqueous NaI.\n",
    "1. Create a single plot comparing the $n_{\\text{NaO}}(r)$ coordination numbers in aqueous NaF, NaCl and NaI.\n",
    "1. Create a single plot comparing the $n_{\\text{XH}}(r)$ coordination numbers (X = anion) in aqueous NaF, NaCl and NaI.\n",
    "\n",
    "\n",
    "##### Important Notes #####\n",
    "1. Insert as many code cells in the jupyter notebook below as you need. Try and keep your code as 'clean' as possible - it will help you solve and debug problems if and when they happen!\n",
    "1. If you get stuck, ask your demonstrator for help!\n",
    "1. <span style=\"color:red;\">REALLY IMPORTANT - make sure that you change all \"nacl\" to \"naf\" and/or \"nai\" in your new code below for NaF and NaI. Otherwise you will destroy the NaCl coordination numbers you just calculated!</span>"
   ]
  },
  {
   "cell_type": "markdown",
   "id": "eb080064-6077-474c-8dd9-a16daf714ade",
   "metadata": {
    "jp-MarkdownHeadingCollapsed": true,
    "tags": []
   },
   "source": [
    "## Discussion Questions and Information for Preparing Your Report ##"
   ]
  },
  {
   "cell_type": "markdown",
   "id": "60f03475-5675-4fd8-9e13-fe1c1d2e40ee",
   "metadata": {},
   "source": [
    "In your report, consider and discuss the following questions based on the data you have created above:\n",
    "\n",
    "1. In the aqueous electrolytes NaF, NaCl, NaI, which species has the greater propensity to interact with the solvent, and why? Explain your answer. \n",
    "1. Are the ion solvation structures of these electrolytes ion-specific? Explain your answer. \n",
    "1. Of these cations and anions, which has the greatest impact on the structure of the surrounding water solvent? Do you expect this to be dependent on concentration? Explain your answer.\n",
    "1. Are your results here, and your answers to the preceding questions, consistent with the order of the Hofmeister series for F$^-$, Cl$^-$ and I$^-$? \n",
    "1. Can you explain the trends you've observed in these simulations in terms of the fundamental intermolecular interactions present in these electrolytes (i.e. electrostatic, polarisation and dispersion interactions)? Explain your answer. \n",
    "\n",
    "_You may find the following references useful for preparing your report:_\n",
    "\n",
    "1. Gregory, K. P.,  Elliott, G. R., Robertson, H., Kumar, A.,  Webber, G. B., Wanless, E. J.,  Andersson, G. G., Craig, V. S. J.,  Page, A. J. Understanding Specific Ion Effects and the Hofmeister Series. _Physical Chemistry Chemical Physics_, **24**, 12682-12718 (2022). DOI: 10.1039/D2CP00847E\n",
    "1. Yagasaki, T., Matsumoto, M., Tanaka, H., Lennard-Jones Parameters Determined to Reproduce the Solubility of NaCl and KCl in SPC/E, TIP3P, and TIP4P/2005 Water. _Journal of Chemical Theory and Computation_, **16**, 2460 (2020). DOI: 10.1021/acs.jctc.9b00941\n",
    "1. Chandra, Dynamical Behavior of Anion−Water and Water−Water Hydrogen Bonds in Aqueous Electrolyte Solutions:  A Molecular Dynamics Study. _Journal of Physical Chemistry B_, **107**, 3899 (2003). DOI: 10.1021/jp022147d"
   ]
  },
  {
   "cell_type": "code",
   "execution_count": null,
   "id": "f820bb43-59c9-4d91-8a73-806aaae5a15a",
   "metadata": {},
   "outputs": [],
   "source": []
  }
 ],
 "metadata": {
  "kernelspec": {
   "display_name": "openMM",
   "language": "python",
   "name": "openmm"
  },
  "language_info": {
   "codemirror_mode": {
    "name": "ipython",
    "version": 3
   },
   "file_extension": ".py",
   "mimetype": "text/x-python",
   "name": "python",
   "nbconvert_exporter": "python",
   "pygments_lexer": "ipython3",
   "version": "3.11.0"
  }
 },
 "nbformat": 4,
 "nbformat_minor": 5
}
