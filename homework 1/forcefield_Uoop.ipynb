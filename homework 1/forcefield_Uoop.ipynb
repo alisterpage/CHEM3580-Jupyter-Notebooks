{
  "cells": [
    {
      "cell_type": "markdown",
      "metadata": {
        "id": "view-in-github",
        "colab_type": "text"
      },
      "source": [
        "<a href=\"https://colab.research.google.com/github/alisterpage/CHEM3580-Jupyter-Notebooks/blob/main/homework%201/forcefield_Uoop.ipynb\" target=\"_parent\"><img src=\"https://colab.research.google.com/assets/colab-badge.svg\" alt=\"Open In Colab\"/></a>"
      ]
    },
    {
      "cell_type": "markdown",
      "metadata": {
        "id": "ejZ08Xew3CFj"
      },
      "source": [
        "## Homework - Forcefield Parameter Development: U$_\\text{oop}$\n",
        "\n",
        "For this homework exercise, we will use quantum chemistry to develop the forcefield parameters for the out-of-plane bending term ($U_\\text{oop}(\\chi$)) for two molecules - the methylene radical, and formaldehyde.\n",
        ""
      ]
    },
    {
      "cell_type": "markdown",
      "metadata": {
        "id": "DeDCU9IOrUjN"
      },
      "source": [
        "**Run the code cell below to setup the environment and software you need for this exercise.** (It may take a minute or so to run...)\n"
      ]
    },
    {
      "cell_type": "code",
      "execution_count": 1,
      "metadata": {
        "cellView": "form",
        "id": "kp6SqarFumzm"
      },
      "outputs": [],
      "source": [
        "#@title\n",
        "!pip install pyscf geometric py3Dmol fortecubeview pythreejs -q 2>&1 >/dev/null\n",
        "import pyscf\n",
        "from pyscf import gto, scf, tools, lo, lib, dft\n",
        "#from pyscf.geomopt.berny_solver import optimize\n",
        "from pyscf.geomopt.geometric_solver import optimize\n",
        "from geometric.molecule import Molecule\n",
        "import py3Dmol\n",
        "import fortecubeview\n",
        "from google.colab import output\n",
        "output.enable_custom_widget_manager()\n",
        "import numpy as np\n",
        "from __future__ import print_function\n",
        "import sys"
      ]
    },
    {
      "cell_type": "markdown",
      "metadata": {
        "id": "oaDSOqBj3CFt"
      },
      "source": [
        "### Part 1: Methylene Radical\n",
        "\n",
        "The code cells below will optimise the geometry of the methylene radical with the H-H-H-C dihedral angle $\\chi$ frozen at the value you specify. The code will use density functional theory (B3LYP/6-31G(d)), which you have used previously in CHEM2410.\n",
        "\n",
        "Use this code to calculate the constrained energy of the methylene radical as a function of $\\chi$, for several different $\\chi$ values (consider a range of 0 - 50 degrees). Ensure that the optimised χ value (reported at the end of the calculation) is approximately the same as the value you fixed it at, and inspect the optimised structure to ensure that it is reasonable. Repeat the calculation as many times as you think necessary to get a reliable correlation between the optimised energy and the dihedral angle $\\chi$.\n",
        "\n"
      ]
    },
    {
      "cell_type": "markdown",
      "metadata": {
        "id": "FvGDWqHUrhnp"
      },
      "source": [
        "**Enter the value of the dihedral angle you want in the text box below.**"
      ]
    },
    {
      "cell_type": "code",
      "execution_count": 2,
      "metadata": {
        "cellView": "form",
        "colab": {
          "base_uri": "https://localhost:8080/",
          "height": 49,
          "referenced_widgets": [
            "346eeb8d1f054c28982acaf647432f5d",
            "2e66c704b5c74e4fa9674de918d6c743",
            "62e8786ea38b4a868fe4fd6bbde9d0c4"
          ]
        },
        "id": "as-PIjVUr-54",
        "outputId": "e33e4f9c-8c47-499a-dd4b-9468fffa8cdd"
      },
      "outputs": [
        {
          "output_type": "display_data",
          "data": {
            "text/plain": [
              "FloatText(value=0.0, description='Dihedral Angle (degrees):')"
            ],
            "application/vnd.jupyter.widget-view+json": {
              "version_major": 2,
              "version_minor": 0,
              "model_id": "346eeb8d1f054c28982acaf647432f5d"
            }
          },
          "metadata": {
            "application/vnd.jupyter.widget-view+json": {
              "colab": {
                "custom_widget_manager": {
                  "url": "https://ssl.gstatic.com/colaboratory-static/widgets/colab-cdn-widget-manager/2b70e893a8ba7c0f/manager.min.js"
                }
              }
            }
          }
        }
      ],
      "source": [
        "#@title 🎯🎯🎯\n",
        "import ipywidgets as widgets\n",
        "\n",
        "dihedral_textbox = widgets.FloatText(\n",
        "    value=0.0,\n",
        "    description='Dihedral Angle (degrees):',\n",
        "    disabled=False\n",
        ")\n",
        "\n",
        "display(dihedral_textbox)\n",
        "\n",
        "# Get the value entered by the user in the widget and store it as a float variable called dihedral\n"
      ]
    },
    {
      "cell_type": "markdown",
      "metadata": {
        "id": "vxfm_YE1rNJS"
      },
      "source": [
        "**Run the next code cell to do the B3LYP/6-31G(d) geometry optimisation**\n",
        "\n",
        "(You can ignore the output from this cell - the cell below summarises the key results for you)"
      ]
    },
    {
      "cell_type": "code",
      "execution_count": 3,
      "metadata": {
        "cellView": "form",
        "colab": {
          "base_uri": "https://localhost:8080/"
        },
        "collapsed": true,
        "id": "oidfKFQ42McO",
        "outputId": "c1adab1a-feae-4965-ef8e-a5f938464750"
      },
      "outputs": [
        {
          "output_type": "stream",
          "name": "stderr",
          "text": [
            "/usr/local/lib/python3.11/dist-packages/pyscf/dft/libxc.py:512: UserWarning: Since PySCF-2.3, B3LYP (and B3P86) are changed to the VWN-RPA variant, corresponding to the original definition by Stephens et al. (issue 1480) and the same as the B3LYP functional in Gaussian. To restore the VWN5 definition, you can put the setting \"B3LYP_WITH_VWN5 = True\" in pyscf_conf.py\n",
            "  warnings.warn('Since PySCF-2.3, B3LYP (and B3P86) are changed to the VWN-RPA variant, '\n"
          ]
        },
        {
          "output_type": "stream",
          "name": "stdout",
          "text": [
            "converged SCF energy = -39.8108667262493\n"
          ]
        },
        {
          "output_type": "stream",
          "name": "stderr",
          "text": [
            "geometric-optimize called with the following command line:\n",
            "/usr/local/lib/python3.11/dist-packages/colab_kernel_launcher.py -f /root/.local/share/jupyter/runtime/kernel-137e1141-68d4-488c-a3af-b67a057fd206.json\n",
            "\n",
            "                                        \u001b[91m())))))))))))))))/\u001b[0m                     \n",
            "                                    \u001b[91m())))))))))))))))))))))))),\u001b[0m                \n",
            "                                \u001b[91m*)))))))))))))))))))))))))))))))))\u001b[0m             \n",
            "                        \u001b[94m#,\u001b[0m    \u001b[91m()))))))))/\u001b[0m                \u001b[91m.)))))))))),\u001b[0m          \n",
            "                      \u001b[94m#%%%%,\u001b[0m  \u001b[91m())))))\u001b[0m                        \u001b[91m.))))))))*\u001b[0m        \n",
            "                      \u001b[94m*%%%%%%,\u001b[0m  \u001b[91m))\u001b[0m              \u001b[93m..\u001b[0m              \u001b[91m,))))))).\u001b[0m      \n",
            "                        \u001b[94m*%%%%%%,\u001b[0m         \u001b[93m***************/.\u001b[0m        \u001b[91m.)))))))\u001b[0m     \n",
            "                \u001b[94m#%%/\u001b[0m      \u001b[94m(%%%%%%,\u001b[0m    \u001b[93m/*********************.\u001b[0m       \u001b[91m)))))))\u001b[0m    \n",
            "              \u001b[94m.%%%%%%#\u001b[0m      \u001b[94m*%%%%%%,\u001b[0m  \u001b[93m*******/,\u001b[0m     \u001b[93m**********,\u001b[0m      \u001b[91m.))))))\u001b[0m   \n",
            "                \u001b[94m.%%%%%%/\u001b[0m      \u001b[94m*%%%%%%,\u001b[0m  \u001b[93m**\u001b[0m              \u001b[93m********\u001b[0m      \u001b[91m.))))))\u001b[0m  \n",
            "          \u001b[94m##\u001b[0m      \u001b[94m.%%%%%%/\u001b[0m      \u001b[94m(%%%%%%,\u001b[0m                  \u001b[93m,******\u001b[0m      \u001b[91m/)))))\u001b[0m  \n",
            "        \u001b[94m%%%%%%\u001b[0m      \u001b[94m.%%%%%%#\u001b[0m      \u001b[94m*%%%%%%,\u001b[0m    \u001b[92m,/////.\u001b[0m       \u001b[93m******\u001b[0m      \u001b[91m))))))\u001b[0m \n",
            "      \u001b[94m#%\u001b[0m      \u001b[94m%%\u001b[0m      \u001b[94m.%%%%%%/\u001b[0m      \u001b[94m*%%%%%%,\u001b[0m  \u001b[92m////////,\u001b[0m      \u001b[93m*****/\u001b[0m     \u001b[91m,)))))\u001b[0m \n",
            "    \u001b[94m#%%\u001b[0m  \u001b[94m%%%\u001b[0m  \u001b[94m%%%#\u001b[0m      \u001b[94m.%%%%%%/\u001b[0m      \u001b[94m(%%%%%%,\u001b[0m  \u001b[92m///////.\u001b[0m     \u001b[93m/*****\u001b[0m      \u001b[91m))))).\u001b[0m\n",
            "  \u001b[94m#%%%%.\u001b[0m      \u001b[94m%%%%%#\u001b[0m      \u001b[94m/%%%%%%*\u001b[0m      \u001b[94m#%%%%%%\u001b[0m   \u001b[92m/////)\u001b[0m     \u001b[93m******\u001b[0m      \u001b[91m))))),\u001b[0m\n",
            "    \u001b[94m#%%%%##%\u001b[0m  \u001b[94m%%%#\u001b[0m      \u001b[94m.%%%%%%/\u001b[0m      \u001b[94m(%%%%%%,\u001b[0m  \u001b[92m///////.\u001b[0m     \u001b[93m/*****\u001b[0m      \u001b[91m))))).\u001b[0m\n",
            "      \u001b[94m##\u001b[0m     \u001b[94m%%%\u001b[0m      \u001b[94m.%%%%%%/\u001b[0m      \u001b[94m*%%%%%%,\u001b[0m  \u001b[92m////////.\u001b[0m      \u001b[93m*****/\u001b[0m     \u001b[91m,)))))\u001b[0m \n",
            "        \u001b[94m#%%%%#\u001b[0m      \u001b[94m/%%%%%%/\u001b[0m      \u001b[94m(%%%%%%\u001b[0m      \u001b[92m/)/)//\u001b[0m       \u001b[93m******\u001b[0m      \u001b[91m))))))\u001b[0m \n",
            "          \u001b[94m##\u001b[0m      \u001b[94m.%%%%%%/\u001b[0m      \u001b[94m(%%%%%%,\u001b[0m                  \u001b[93m*******\u001b[0m      \u001b[91m))))))\u001b[0m  \n",
            "                \u001b[94m.%%%%%%/\u001b[0m      \u001b[94m*%%%%%%,\u001b[0m  \u001b[93m**.\u001b[0m             \u001b[93m/*******\u001b[0m      \u001b[91m.))))))\u001b[0m  \n",
            "              \u001b[94m*%%%%%%/\u001b[0m      \u001b[94m(%%%%%%\u001b[0m   \u001b[93m********/*..,*/*********\u001b[0m       \u001b[91m*))))))\u001b[0m   \n",
            "                \u001b[94m#%%/\u001b[0m      \u001b[94m(%%%%%%,\u001b[0m    \u001b[93m*********************/\u001b[0m        \u001b[91m)))))))\u001b[0m    \n",
            "                        \u001b[94m*%%%%%%,\u001b[0m         \u001b[93m,**************/\u001b[0m         \u001b[91m,))))))/\u001b[0m     \n",
            "                      \u001b[94m(%%%%%%\u001b[0m   \u001b[91m()\u001b[0m                              \u001b[91m))))))))\u001b[0m       \n",
            "                      \u001b[94m#%%%%,\u001b[0m  \u001b[91m())))))\u001b[0m                        \u001b[91m,)))))))),\u001b[0m        \n",
            "                        \u001b[94m#,\u001b[0m    \u001b[91m())))))))))\u001b[0m                \u001b[91m,)))))))))).\u001b[0m          \n",
            "                                 \u001b[91m()))))))))))))))))))))))))))))))/\u001b[0m             \n",
            "                                    \u001b[91m())))))))))))))))))))))))).\u001b[0m                \n",
            "                                         \u001b[91m())))))))))))))),\u001b[0m                     \n",
            "\n",
            "-=# \u001b[1;94m geomeTRIC started. Version: 1.1 \u001b[0m #=-\n",
            "Current date and time: 2025-05-19 23:24:34\n",
            "#========================================================#\n",
            "#| \u001b[92m    Arguments passed to driver run_optimizer():     \u001b[0m |#\n",
            "#========================================================#\n",
            "constraints               constraints.txt \n",
            "customengine              <pyscf.geomopt.geometric_solver.PySCFEngine object at 0x7d0c0b8cc810> \n",
            "input                     /tmp/tmp1ghdbc0w/6be2cf46-2a47-4867-b432-2175b8c5d58e \n",
            "logIni                    /usr/local/lib/python3.11/dist-packages/pyscf/geomopt/log.ini \n",
            "----------------------------------------------------------\n",
            "Custom engine selected.\n",
            "$freeze\n",
            "dihedral 1 2 3 4\n",
            "Bonds will be generated from interatomic distances less than 1.20 times sum of covalent radii\n",
            "12 internal coordinates being used (instead of 12 Cartesians)\n",
            "Internal coordinate system (atoms numbered from 1):\n",
            "Dihedral 1-2-3-4\n",
            "Distance 1-4\n",
            "Distance 2-4\n",
            "Distance 3-4\n",
            "Angle 1-4-3\n",
            "Angle 2-4-3\n",
            "Out-of-Plane 4-1-2-3\n",
            "Translation-X 1-4\n",
            "Translation-Y 1-4\n",
            "Translation-Z 1-4\n",
            "Rotation-A 1-4\n",
            "Rotation-B 1-4\n",
            "Rotation-C 1-4\n",
            "<class 'geometric.internal.Dihedral'> : 1\n",
            "<class 'geometric.internal.Distance'> : 3\n",
            "<class 'geometric.internal.Angle'> : 2\n",
            "<class 'geometric.internal.OutOfPlane'> : 1\n",
            "<class 'geometric.internal.TranslationX'> : 1\n",
            "<class 'geometric.internal.TranslationY'> : 1\n",
            "<class 'geometric.internal.TranslationZ'> : 1\n",
            "<class 'geometric.internal.RotationA'> : 1\n",
            "<class 'geometric.internal.RotationB'> : 1\n",
            "<class 'geometric.internal.RotationC'> : 1\n",
            "Constraint                         Current      Target       Diff.\n",
            "Dihedral 1-2-3-4                   0.00000     0.00000     0.00000\n",
            "> ===== Optimization Info: ====\n",
            "> Job type: Energy minimization\n",
            "> Maximum number of optimization cycles: 300\n",
            "> Initial / maximum trust radius (Angstrom): 0.100 / 0.300\n",
            "> Convergence Criteria:\n",
            "> Will converge when all 5 criteria are reached:\n",
            ">  |Delta-E| < 1.00e-06\n",
            ">  RMS-Ortho-Grad < 3.00e-04\n",
            ">  Max-Ortho-Grad < 4.50e-04\n",
            ">  RMS-Disp  < 1.20e-03\n",
            ">  Max-Disp  < 1.80e-03\n",
            "> \n",
            "> Constraints are requested. The following criterion is added:\n",
            ">  Max Constraint Violation (in Angstroms/degrees) < 1.00e-02 \n",
            "> === End Optimization Info ===\n"
          ]
        },
        {
          "output_type": "stream",
          "name": "stdout",
          "text": [
            "\n",
            "Geometry optimization cycle 1\n",
            "Cartesian coordinates (Angstrom)\n",
            " Atom        New coordinates             dX        dY        dZ\n",
            "   H   0.000000   0.000000   0.000000    0.000000  0.000000  0.000000\n",
            "   H   1.800000   0.000000   0.000000    0.000000  0.000000  0.000000\n",
            "   H   0.900000   0.000000   1.558846    0.000000  0.000000  0.000000\n",
            "   C   0.898859   0.000000   0.634076    0.000000  0.000000  0.000000\n",
            "converged SCF energy = -39.8108667262519\n",
            "--------------- SecondOrderROKS_Scanner gradients ---------------\n",
            "         x                y                z\n",
            "0 H    -0.0020232548     0.0000000000    -0.0154010438\n",
            "1 H     0.0030249963     0.0000000000    -0.0159131107\n",
            "2 H    -0.0000707577     0.0000000000    -0.1789145881\n",
            "3 C    -0.0009310381    -0.0000000000     0.2102307022\n",
            "----------------------------------------------\n",
            "cycle 1: E = -39.8108667263  dE = -39.8109  norm(grad) = 0.276969\n"
          ]
        },
        {
          "output_type": "stream",
          "name": "stderr",
          "text": [
            "Step    0 : Gradient = 1.385e-01/2.102e-01 (rms/max) Energy = -39.8108667263\n",
            "Hessian Eigenvalues: 3.06588e-02 5.00000e-02 5.00000e-02 ... 3.34767e-01 3.36821e-01 6.37970e-01\n"
          ]
        },
        {
          "output_type": "stream",
          "name": "stdout",
          "text": [
            "\n",
            "Geometry optimization cycle 2\n",
            "Cartesian coordinates (Angstrom)\n",
            " Atom        New coordinates             dX        dY        dZ\n",
            "   H  -0.068218   0.000000   0.036096   -0.068218  0.000000  0.036096\n",
            "   H   1.867443   0.000000   0.036700    0.067443  0.000000  0.036700\n",
            "   H   0.900191   0.000000   1.596609    0.000191  0.000000  0.037763\n",
            "   C   0.899447   0.000000   0.523433    0.000587  0.000000 -0.110642\n",
            "converged SCF energy = -39.8349526517005\n",
            "--------------- SecondOrderROKS_Scanner gradients ---------------\n",
            "         x                y                z\n",
            "0 H    -0.0050516515    -0.0000000000     0.0065163386\n",
            "1 H     0.0050777976    -0.0000000000     0.0066205721\n",
            "2 H     0.0000990225     0.0000000000    -0.0086371468\n",
            "3 C    -0.0001251511    -0.0000000000    -0.0045011652\n",
            "----------------------------------------------\n",
            "cycle 2: E = -39.8349526517  dE = -0.0240859  norm(grad) = 0.0152474\n"
          ]
        },
        {
          "output_type": "stream",
          "name": "stderr",
          "text": [
            "Step    1 : Displace = \u001b[0m7.988e-02\u001b[0m/\u001b[0m1.106e-01\u001b[0m (rms/max) Trust = 1.000e-01 (=) Grad_T = \u001b[0m7.624e-03\u001b[0m/\u001b[0m8.638e-03\u001b[0m (rms/max) E (change) = -39.8349526517 (\u001b[0m-2.409e-02\u001b[0m) Quality = \u001b[0m0.832\u001b[0m\n",
            "Hessian Eigenvalues: 3.06588e-02 5.00000e-02 5.00000e-02 ... 3.33784e-01 3.36347e-01 5.75125e-01\n"
          ]
        },
        {
          "output_type": "stream",
          "name": "stdout",
          "text": [
            "\n",
            "Geometry optimization cycle 3\n",
            "Cartesian coordinates (Angstrom)\n",
            " Atom        New coordinates             dX        dY        dZ\n",
            "   H  -0.016570   0.000000  -0.009964    0.051649  0.000000 -0.046060\n",
            "   H   1.815919   0.000000  -0.009726   -0.051524  0.000000 -0.046427\n",
            "   H   0.899873   0.000000   1.650466   -0.000317  0.000000  0.053857\n",
            "   C   0.899639   0.000000   0.562115    0.000192  0.000000  0.038682\n",
            "converged SCF energy = -39.8355937828456\n",
            "--------------- SecondOrderROKS_Scanner gradients ---------------\n",
            "         x                y                z\n",
            "0 H     0.0046298943     0.0000000000    -0.0032792102\n",
            "1 H    -0.0046615655     0.0000000000    -0.0032237681\n",
            "2 H     0.0000319847    -0.0000000000     0.0053108862\n",
            "3 C    -0.0000003057     0.0000000000     0.0011910997\n",
            "----------------------------------------------\n",
            "cycle 3: E = -39.8355937828  dE = -0.000641131  norm(grad) = 0.00969212\n"
          ]
        },
        {
          "output_type": "stream",
          "name": "stderr",
          "text": [
            "Step    2 : Displace = \u001b[0m5.915e-02\u001b[0m/\u001b[0m6.939e-02\u001b[0m (rms/max) Trust = 1.414e-01 (\u001b[92m+\u001b[0m) Grad_T = \u001b[0m4.846e-03\u001b[0m/\u001b[0m5.674e-03\u001b[0m (rms/max) E (change) = -39.8355937828 (\u001b[0m-6.411e-04\u001b[0m) Quality = \u001b[0m0.385\u001b[0m\n",
            "Hessian Eigenvalues: 3.06588e-02 5.00000e-02 5.00000e-02 ... 3.35703e-01 3.45572e-01 5.80679e-01\n"
          ]
        },
        {
          "output_type": "stream",
          "name": "stdout",
          "text": [
            "\n",
            "Geometry optimization cycle 4\n",
            "Cartesian coordinates (Angstrom)\n",
            " Atom        New coordinates             dX        dY        dZ\n",
            "   H  -0.038485   0.000000   0.007452   -0.021915 -0.000000  0.017416\n",
            "   H   1.837892   0.000000   0.007559    0.021974 -0.000000  0.017285\n",
            "   H   0.899805   0.000000   1.630228   -0.000069 -0.000000 -0.020238\n",
            "   C   0.899648   0.000000   0.547681    0.000010 -0.000000 -0.014435\n",
            "converged SCF energy = -39.8359973320177\n",
            "--------------- SecondOrderROKS_Scanner gradients ---------------\n",
            "         x                y                z\n",
            "0 H    -0.0002366129    -0.0000000000     0.0000496620\n",
            "1 H     0.0002668304     0.0000000000     0.0000551968\n",
            "2 H     0.0000198709     0.0000000000     0.0001083860\n",
            "3 C    -0.0000500811     0.0000000000    -0.0002155304\n",
            "----------------------------------------------\n",
            "cycle 4: E = -39.835997332  dE = -0.000403549  norm(grad) = 0.000440228\n"
          ]
        },
        {
          "output_type": "stream",
          "name": "stderr",
          "text": [
            "Step    3 : Displace = \u001b[0m2.336e-02\u001b[0m/\u001b[0m2.798e-02\u001b[0m (rms/max) Trust = 1.414e-01 (=) Grad_T = \u001b[92m2.201e-04\u001b[0m/\u001b[92m2.725e-04\u001b[0m (rms/max) E (change) = -39.8359973320 (\u001b[0m-4.035e-04\u001b[0m) Quality = \u001b[0m0.963\u001b[0m\n",
            "Hessian Eigenvalues: 3.06588e-02 5.00000e-02 5.00000e-02 ... 3.35778e-01 3.52357e-01 5.78693e-01\n"
          ]
        },
        {
          "output_type": "stream",
          "name": "stdout",
          "text": [
            "\n",
            "Geometry optimization cycle 5\n",
            "Cartesian coordinates (Angstrom)\n",
            " Atom        New coordinates             dX        dY        dZ\n",
            "   H  -0.037669   0.000000   0.007075    0.000816 -0.000000 -0.000377\n",
            "   H   1.837085   0.000000   0.007126   -0.000808 -0.000000 -0.000433\n",
            "   H   0.899755   0.000000   1.630646   -0.000050 -0.000000  0.000418\n",
            "   C   0.899690   0.000000   0.548166    0.000042 -0.000000  0.000486\n",
            "converged SCF energy = -39.8359978437722\n",
            "--------------- SecondOrderROKS_Scanner gradients ---------------\n",
            "         x                y                z\n",
            "0 H     0.0000052844     0.0000000000     0.0000112926\n",
            "1 H    -0.0000003520    -0.0000000000     0.0000181519\n",
            "2 H     0.0000084083     0.0000000000     0.0000947792\n",
            "3 C    -0.0000133377    -0.0000000000    -0.0001264983\n",
            "----------------------------------------------\n",
            "cycle 5: E = -39.8359978438  dE = -5.11755e-07  norm(grad) = 0.00016037\n"
          ]
        },
        {
          "output_type": "stream",
          "name": "stderr",
          "text": [
            "Step    4 : Displace = \u001b[92m7.176e-04\u001b[0m/\u001b[92m9.292e-04\u001b[0m (rms/max) Trust = 2.000e-01 (\u001b[92m+\u001b[0m) Grad_T = \u001b[92m8.019e-05\u001b[0m/\u001b[92m1.272e-04\u001b[0m (rms/max) E (change) = -39.8359978438 (\u001b[92m-5.118e-07\u001b[0m) Quality = \u001b[0m1.055\u001b[0m\n",
            "Hessian Eigenvalues: 3.06588e-02 5.00000e-02 5.00000e-02 ... 3.35778e-01 3.52357e-01 5.78693e-01\n",
            "Converged! =D\n",
            "\n",
            "    #==========================================================================#\n",
            "    #| If this code has benefited your research, please support us by citing: |#\n",
            "    #|                                                                        |#\n",
            "    #| Wang, L.-P.; Song, C.C. (2016) \"Geometry optimization made simple with |#\n",
            "    #| translation and rotation coordinates\", J. Chem, Phys. 144, 214108.     |#\n",
            "    #| http://dx.doi.org/10.1063/1.4952956                                    |#\n",
            "    #==========================================================================#\n",
            "    Time elapsed since start of run_optimizer: 20.470 seconds\n"
          ]
        },
        {
          "output_type": "stream",
          "name": "stdout",
          "text": [
            "converged SCF energy = -39.8359978437771\n"
          ]
        },
        {
          "output_type": "stream",
          "name": "stderr",
          "text": [
            "[(0, 1), (1, 2), (2, 3)]Measuring dihedral angle for four atoms that aren't bonded.  Hope you know what you're doing!"
          ]
        }
      ],
      "source": [
        "#@title 🎯🎯🎯\n",
        "#define molecule\n",
        "initial_dihedral = dihedral_textbox.value\n",
        "mol = gto.Mole()\n",
        "mol.atom = '''\n",
        "    H\n",
        "    H 1 1.8\n",
        "    H 2 1.8 1 60.0\n",
        "    C 1 1.1 2 35.2 3 {}\n",
        "'''.format(initial_dihedral)\n",
        "\n",
        "#define model chemistry & calculation\n",
        "mol.basis = '6-31g(d)'\n",
        "mol.spin=1;\n",
        "mol.build();\n",
        "mf = dft.ROKS(mol)\n",
        "mf.xc = 'b3lyp'\n",
        "mf = mf.newton()\n",
        "mf.kernel()\n",
        "\n",
        "# Optimize the geometry\n",
        "text = \"$freeze\\ndihedral 1 2 3 4\\n\"\n",
        "with open(\"constraints.txt\", \"w\") as f:\n",
        "    f.write(text)\n",
        "params = {\"constraints\": \"constraints.txt\",}\n",
        "mol_eq = optimize(mf, **params)\n",
        "\n",
        "#print(mol_eq.atom_coords())\n",
        "\n",
        "# Get the optimized energy\n",
        "mf = dft.ROKS(mol_eq)\n",
        "mf.xc = 'b3lyp'\n",
        "mf = mf.newton()\n",
        "mf.kernel()\n",
        "\n",
        "# Create a temporary XYZ file with the optimized coordinates\n",
        "symbols = [atom[0] for atom in mol_eq.atom];\n",
        "coords = mol_eq.atom_coords();\n",
        "with open(\"temp.xyz\", \"w\") as f:\n",
        "    f.write(\"%d\\n\" % len(symbols))\n",
        "    f.write(\"Generated by PySCF and Geometric\\n\")\n",
        "    for i in range(len(symbols)):\n",
        "        f.write(\"%s %f %f %f\\n\" % (symbols[i], coords[i,0], coords[i,1], coords[i,2]))\n",
        "\n",
        "# Convert the PySCF object to a `Molecule` object using the XYZ file and store dihedral angle.\n",
        "mol_geom = Molecule(\"temp.xyz\");\n",
        "dihedral=Molecule.measure_dihedrals(mol_geom,0,1,2,3);"
      ]
    },
    {
      "cell_type": "markdown",
      "metadata": {
        "id": "cOaSK9JwuqIT"
      },
      "source": [
        "**Run the next code cell to summarise the calculation and show the geometry of the molecule**"
      ]
    },
    {
      "cell_type": "code",
      "execution_count": 4,
      "metadata": {
        "cellView": "form",
        "colab": {
          "base_uri": "https://localhost:8080/",
          "height": 545
        },
        "id": "nTnry5TZdc-i",
        "outputId": "e44213b5-5356-4f70-9e75-11f4b5bcffc4"
      },
      "outputs": [
        {
          "output_type": "stream",
          "name": "stdout",
          "text": [
            "Initial dihedral before geometry optimisation: 0.0 degrees\n",
            "Final dihedral after geometry optimisation: 0.0 degrees\n",
            "Final energy after geometry optimisation: -39.835997843777086 Hartree\n"
          ]
        },
        {
          "output_type": "display_data",
          "data": {
            "application/3dmoljs_load.v0": "<div id=\"3dmolviewer_1747697097456692\"  style=\"position: relative; width: 640px; height: 480px;\">\n        <p id=\"3dmolwarning_1747697097456692\" style=\"background-color:#ffcccc;color:black\">3Dmol.js failed to load for some reason.  Please check your browser console for error messages.<br></p>\n        </div>\n<script>\n\nvar loadScriptAsync = function(uri){\n  return new Promise((resolve, reject) => {\n    //this is to ignore the existence of requirejs amd\n    var savedexports, savedmodule;\n    if (typeof exports !== 'undefined') savedexports = exports;\n    else exports = {}\n    if (typeof module !== 'undefined') savedmodule = module;\n    else module = {}\n\n    var tag = document.createElement('script');\n    tag.src = uri;\n    tag.async = true;\n    tag.onload = () => {\n        exports = savedexports;\n        module = savedmodule;\n        resolve();\n    };\n  var firstScriptTag = document.getElementsByTagName('script')[0];\n  firstScriptTag.parentNode.insertBefore(tag, firstScriptTag);\n});\n};\n\nif(typeof $3Dmolpromise === 'undefined') {\n$3Dmolpromise = null;\n  $3Dmolpromise = loadScriptAsync('https://cdnjs.cloudflare.com/ajax/libs/3Dmol/2.4.2/3Dmol-min.js');\n}\n\nvar viewer_1747697097456692 = null;\nvar warn = document.getElementById(\"3dmolwarning_1747697097456692\");\nif(warn) {\n    warn.parentNode.removeChild(warn);\n}\n$3Dmolpromise.then(function() {\nviewer_1747697097456692 = $3Dmol.createViewer(document.getElementById(\"3dmolviewer_1747697097456692\"),{backgroundColor:\"white\"});\nviewer_1747697097456692.zoomTo();\n\tviewer_1747697097456692.addModel(\"4\\nopt geom\\nH    0.000  0.000  0.000\\nH    3.402  0.000  0.000\\nH    1.701  0.000  2.946\\nC    1.699  0.000  1.198\\n\",\"xyz\");\n\tviewer_1747697097456692.setBackgroundColor(\"#CFB691\");\n\tviewer_1747697097456692.setStyle({\"sphere\": {\"radius\": 0.5}});\n\tviewer_1747697097456692.zoomTo();\nviewer_1747697097456692.render();\n});\n</script>",
            "text/html": [
              "<div id=\"3dmolviewer_1747697097456692\"  style=\"position: relative; width: 640px; height: 480px;\">\n",
              "        <p id=\"3dmolwarning_1747697097456692\" style=\"background-color:#ffcccc;color:black\">3Dmol.js failed to load for some reason.  Please check your browser console for error messages.<br></p>\n",
              "        </div>\n",
              "<script>\n",
              "\n",
              "var loadScriptAsync = function(uri){\n",
              "  return new Promise((resolve, reject) => {\n",
              "    //this is to ignore the existence of requirejs amd\n",
              "    var savedexports, savedmodule;\n",
              "    if (typeof exports !== 'undefined') savedexports = exports;\n",
              "    else exports = {}\n",
              "    if (typeof module !== 'undefined') savedmodule = module;\n",
              "    else module = {}\n",
              "\n",
              "    var tag = document.createElement('script');\n",
              "    tag.src = uri;\n",
              "    tag.async = true;\n",
              "    tag.onload = () => {\n",
              "        exports = savedexports;\n",
              "        module = savedmodule;\n",
              "        resolve();\n",
              "    };\n",
              "  var firstScriptTag = document.getElementsByTagName('script')[0];\n",
              "  firstScriptTag.parentNode.insertBefore(tag, firstScriptTag);\n",
              "});\n",
              "};\n",
              "\n",
              "if(typeof $3Dmolpromise === 'undefined') {\n",
              "$3Dmolpromise = null;\n",
              "  $3Dmolpromise = loadScriptAsync('https://cdnjs.cloudflare.com/ajax/libs/3Dmol/2.4.2/3Dmol-min.js');\n",
              "}\n",
              "\n",
              "var viewer_1747697097456692 = null;\n",
              "var warn = document.getElementById(\"3dmolwarning_1747697097456692\");\n",
              "if(warn) {\n",
              "    warn.parentNode.removeChild(warn);\n",
              "}\n",
              "$3Dmolpromise.then(function() {\n",
              "viewer_1747697097456692 = $3Dmol.createViewer(document.getElementById(\"3dmolviewer_1747697097456692\"),{backgroundColor:\"white\"});\n",
              "viewer_1747697097456692.zoomTo();\n",
              "\tviewer_1747697097456692.addModel(\"4\\nopt geom\\nH    0.000  0.000  0.000\\nH    3.402  0.000  0.000\\nH    1.701  0.000  2.946\\nC    1.699  0.000  1.198\\n\",\"xyz\");\n",
              "\tviewer_1747697097456692.setBackgroundColor(\"#CFB691\");\n",
              "\tviewer_1747697097456692.setStyle({\"sphere\": {\"radius\": 0.5}});\n",
              "\tviewer_1747697097456692.zoomTo();\n",
              "viewer_1747697097456692.render();\n",
              "});\n",
              "</script>"
            ]
          },
          "metadata": {}
        }
      ],
      "source": [
        "#@title 🎯🎯🎯\n",
        "#print summary\n",
        "print('Initial dihedral before geometry optimisation:', initial_dihedral,\"degrees\")\n",
        "print('Final dihedral after geometry optimisation:', abs(dihedral[0]), 'degrees')\n",
        "print('Final energy after geometry optimisation:', mf.e_tot,\"Hartree\")\n",
        "\n",
        "# get the atomic positions & write PDB file\n",
        "atom_pos = mol.atom_coords()\n",
        "atom_symbol = mol._atom\n",
        "\n",
        "with open('mol.xyz', 'w') as f:\n",
        "    f.write(f'{len(mol._atom)}\\n')\n",
        "    f.write('opt geom\\n')\n",
        "    for i, (symbol, pos) in enumerate(zip(atom_symbol, atom_pos)):\n",
        "        f.write(f'{symbol[0]}  {pos[0]:>7.3f}{pos[1]:>7.3f}{pos[2]:>7.3f}\\n')\n",
        "\n",
        "\n",
        "view = py3Dmol.view()\n",
        "view.addModel(open('mol.xyz', 'r').read(),'xyz')\n",
        "view.setBackgroundColor('#CFB691')\n",
        "view.setStyle({'sphere': {'radius': 0.5}})\n",
        "view.zoomTo()\n",
        "view.show()\n"
      ]
    },
    {
      "cell_type": "markdown",
      "metadata": {
        "id": "W9u-Sj4_3CFw"
      },
      "source": [
        "### Part 2: Formaldehyde\n",
        "\n",
        "The code cells below will optimise the geometry of formaldehyde with the O-H-H-C dihedral angle $\\chi$ frozen at the value you specify. The code will use density functional theory (B3LYP/6-31G(d)), which you have used previously in CHEM2410. _This is the same level of theory used for methylene, above_.\n",
        "\n",
        "Use this code to calculate the constrained energy of formaldehyde as a function of $\\chi$, for several different $\\chi$ values (consider a range of 0 - 50 degrees). Ensure that the optimised χ value (reported at the end of the calculation) is approximately the same as the value you fixed it at, and inspect the optimised structure to ensure that it is reasonable. Repeat the calculation as many times as you think necessary to get a reliable correlation between the optimised energy and the dihedral angle $\\chi$.\n",
        "\n"
      ]
    },
    {
      "cell_type": "markdown",
      "metadata": {
        "id": "Tv-ycjR13CFx"
      },
      "source": [
        "**Enter the value of the dihedral angle you want in the text box below.**"
      ]
    },
    {
      "cell_type": "code",
      "execution_count": 5,
      "metadata": {
        "cellView": "form",
        "id": "iUvuejFu3CFx",
        "outputId": "53a0a0b2-7126-4df6-c507-d16f465d2703",
        "colab": {
          "base_uri": "https://localhost:8080/",
          "height": 49,
          "referenced_widgets": [
            "c33b4eadf1f3467cb45389790e3d0b8b",
            "a68a470a51b74605b4c62ff9f99708a8",
            "b178791f0fc0408b801d1ebd43d82184"
          ]
        }
      },
      "outputs": [
        {
          "output_type": "display_data",
          "data": {
            "text/plain": [
              "FloatText(value=0.0, description='Dihedral Angle (degrees):')"
            ],
            "application/vnd.jupyter.widget-view+json": {
              "version_major": 2,
              "version_minor": 0,
              "model_id": "c33b4eadf1f3467cb45389790e3d0b8b"
            }
          },
          "metadata": {
            "application/vnd.jupyter.widget-view+json": {
              "colab": {
                "custom_widget_manager": {
                  "url": "https://ssl.gstatic.com/colaboratory-static/widgets/colab-cdn-widget-manager/2b70e893a8ba7c0f/manager.min.js"
                }
              }
            }
          }
        }
      ],
      "source": [
        "#@title  🎯🎯🎯\n",
        "import ipywidgets as widgets\n",
        "\n",
        "dihedral_textbox = widgets.FloatText(\n",
        "    value=0.0,\n",
        "    description='Dihedral Angle (degrees):',\n",
        "    disabled=False\n",
        ")\n",
        "\n",
        "display(dihedral_textbox)\n",
        "\n",
        "# Get the value entered by the user in the widget and store it as a float variable called dihedral\n"
      ]
    },
    {
      "cell_type": "markdown",
      "metadata": {
        "id": "AICwCSpK3CFx"
      },
      "source": [
        "**Run the next code cell to do the B3LYP/6-31G(d) geometry optimisation**\n",
        "\n",
        "(You can ignore the output from this cell - the cell below summarises the key results for you)"
      ]
    },
    {
      "cell_type": "code",
      "execution_count": 6,
      "metadata": {
        "cellView": "form",
        "collapsed": true,
        "id": "AzQgBROd3CFx",
        "outputId": "61b4e4f8-d35e-49c0-d439-8d3f86e26d8e",
        "colab": {
          "base_uri": "https://localhost:8080/"
        }
      },
      "outputs": [
        {
          "output_type": "stream",
          "name": "stdout",
          "text": [
            "converged SCF energy = -114.498075600104\n"
          ]
        },
        {
          "output_type": "stream",
          "name": "stderr",
          "text": [
            "geometric-optimize called with the following command line:\n",
            "/usr/local/lib/python3.11/dist-packages/colab_kernel_launcher.py -f /root/.local/share/jupyter/runtime/kernel-137e1141-68d4-488c-a3af-b67a057fd206.json\n",
            "\n",
            "                                        \u001b[91m())))))))))))))))/\u001b[0m                     \n",
            "                                    \u001b[91m())))))))))))))))))))))))),\u001b[0m                \n",
            "                                \u001b[91m*)))))))))))))))))))))))))))))))))\u001b[0m             \n",
            "                        \u001b[94m#,\u001b[0m    \u001b[91m()))))))))/\u001b[0m                \u001b[91m.)))))))))),\u001b[0m          \n",
            "                      \u001b[94m#%%%%,\u001b[0m  \u001b[91m())))))\u001b[0m                        \u001b[91m.))))))))*\u001b[0m        \n",
            "                      \u001b[94m*%%%%%%,\u001b[0m  \u001b[91m))\u001b[0m              \u001b[93m..\u001b[0m              \u001b[91m,))))))).\u001b[0m      \n",
            "                        \u001b[94m*%%%%%%,\u001b[0m         \u001b[93m***************/.\u001b[0m        \u001b[91m.)))))))\u001b[0m     \n",
            "                \u001b[94m#%%/\u001b[0m      \u001b[94m(%%%%%%,\u001b[0m    \u001b[93m/*********************.\u001b[0m       \u001b[91m)))))))\u001b[0m    \n",
            "              \u001b[94m.%%%%%%#\u001b[0m      \u001b[94m*%%%%%%,\u001b[0m  \u001b[93m*******/,\u001b[0m     \u001b[93m**********,\u001b[0m      \u001b[91m.))))))\u001b[0m   \n",
            "                \u001b[94m.%%%%%%/\u001b[0m      \u001b[94m*%%%%%%,\u001b[0m  \u001b[93m**\u001b[0m              \u001b[93m********\u001b[0m      \u001b[91m.))))))\u001b[0m  \n",
            "          \u001b[94m##\u001b[0m      \u001b[94m.%%%%%%/\u001b[0m      \u001b[94m(%%%%%%,\u001b[0m                  \u001b[93m,******\u001b[0m      \u001b[91m/)))))\u001b[0m  \n",
            "        \u001b[94m%%%%%%\u001b[0m      \u001b[94m.%%%%%%#\u001b[0m      \u001b[94m*%%%%%%,\u001b[0m    \u001b[92m,/////.\u001b[0m       \u001b[93m******\u001b[0m      \u001b[91m))))))\u001b[0m \n",
            "      \u001b[94m#%\u001b[0m      \u001b[94m%%\u001b[0m      \u001b[94m.%%%%%%/\u001b[0m      \u001b[94m*%%%%%%,\u001b[0m  \u001b[92m////////,\u001b[0m      \u001b[93m*****/\u001b[0m     \u001b[91m,)))))\u001b[0m \n",
            "    \u001b[94m#%%\u001b[0m  \u001b[94m%%%\u001b[0m  \u001b[94m%%%#\u001b[0m      \u001b[94m.%%%%%%/\u001b[0m      \u001b[94m(%%%%%%,\u001b[0m  \u001b[92m///////.\u001b[0m     \u001b[93m/*****\u001b[0m      \u001b[91m))))).\u001b[0m\n",
            "  \u001b[94m#%%%%.\u001b[0m      \u001b[94m%%%%%#\u001b[0m      \u001b[94m/%%%%%%*\u001b[0m      \u001b[94m#%%%%%%\u001b[0m   \u001b[92m/////)\u001b[0m     \u001b[93m******\u001b[0m      \u001b[91m))))),\u001b[0m\n",
            "    \u001b[94m#%%%%##%\u001b[0m  \u001b[94m%%%#\u001b[0m      \u001b[94m.%%%%%%/\u001b[0m      \u001b[94m(%%%%%%,\u001b[0m  \u001b[92m///////.\u001b[0m     \u001b[93m/*****\u001b[0m      \u001b[91m))))).\u001b[0m\n",
            "      \u001b[94m##\u001b[0m     \u001b[94m%%%\u001b[0m      \u001b[94m.%%%%%%/\u001b[0m      \u001b[94m*%%%%%%,\u001b[0m  \u001b[92m////////.\u001b[0m      \u001b[93m*****/\u001b[0m     \u001b[91m,)))))\u001b[0m \n",
            "        \u001b[94m#%%%%#\u001b[0m      \u001b[94m/%%%%%%/\u001b[0m      \u001b[94m(%%%%%%\u001b[0m      \u001b[92m/)/)//\u001b[0m       \u001b[93m******\u001b[0m      \u001b[91m))))))\u001b[0m \n",
            "          \u001b[94m##\u001b[0m      \u001b[94m.%%%%%%/\u001b[0m      \u001b[94m(%%%%%%,\u001b[0m                  \u001b[93m*******\u001b[0m      \u001b[91m))))))\u001b[0m  \n",
            "                \u001b[94m.%%%%%%/\u001b[0m      \u001b[94m*%%%%%%,\u001b[0m  \u001b[93m**.\u001b[0m             \u001b[93m/*******\u001b[0m      \u001b[91m.))))))\u001b[0m  \n",
            "              \u001b[94m*%%%%%%/\u001b[0m      \u001b[94m(%%%%%%\u001b[0m   \u001b[93m********/*..,*/*********\u001b[0m       \u001b[91m*))))))\u001b[0m   \n",
            "                \u001b[94m#%%/\u001b[0m      \u001b[94m(%%%%%%,\u001b[0m    \u001b[93m*********************/\u001b[0m        \u001b[91m)))))))\u001b[0m    \n",
            "                        \u001b[94m*%%%%%%,\u001b[0m         \u001b[93m,**************/\u001b[0m         \u001b[91m,))))))/\u001b[0m     \n",
            "                      \u001b[94m(%%%%%%\u001b[0m   \u001b[91m()\u001b[0m                              \u001b[91m))))))))\u001b[0m       \n",
            "                      \u001b[94m#%%%%,\u001b[0m  \u001b[91m())))))\u001b[0m                        \u001b[91m,)))))))),\u001b[0m        \n",
            "                        \u001b[94m#,\u001b[0m    \u001b[91m())))))))))\u001b[0m                \u001b[91m,)))))))))).\u001b[0m          \n",
            "                                 \u001b[91m()))))))))))))))))))))))))))))))/\u001b[0m             \n",
            "                                    \u001b[91m())))))))))))))))))))))))).\u001b[0m                \n",
            "                                         \u001b[91m())))))))))))))),\u001b[0m                     \n",
            "\n",
            "-=# \u001b[1;94m geomeTRIC started. Version: 1.1 \u001b[0m #=-\n",
            "Current date and time: 2025-05-19 23:31:09\n",
            "#========================================================#\n",
            "#| \u001b[92m    Arguments passed to driver run_optimizer():     \u001b[0m |#\n",
            "#========================================================#\n",
            "constraints               constraints.txt \n",
            "customengine              <pyscf.geomopt.geometric_solver.PySCFEngine object at 0x7d0c0b8c3a90> \n",
            "input                     /tmp/tmpzudttant/b10412ef-2dd5-405d-ab47-3b79ac144cc1 \n",
            "logIni                    /usr/local/lib/python3.11/dist-packages/pyscf/geomopt/log.ini \n",
            "----------------------------------------------------------\n",
            "Custom engine selected.\n",
            "$freeze\n",
            "dihedral 1 2 3 4\n",
            "Bonds will be generated from interatomic distances less than 1.20 times sum of covalent radii\n",
            "12 internal coordinates being used (instead of 12 Cartesians)\n",
            "Internal coordinate system (atoms numbered from 1):\n",
            "Dihedral 1-2-3-4\n",
            "Distance 1-4\n",
            "Distance 2-4\n",
            "Distance 3-4\n",
            "Angle 1-4-3\n",
            "Angle 2-4-3\n",
            "Out-of-Plane 4-1-2-3\n",
            "Translation-X 1-4\n",
            "Translation-Y 1-4\n",
            "Translation-Z 1-4\n",
            "Rotation-A 1-4\n",
            "Rotation-B 1-4\n",
            "Rotation-C 1-4\n",
            "<class 'geometric.internal.Dihedral'> : 1\n",
            "<class 'geometric.internal.Distance'> : 3\n",
            "<class 'geometric.internal.Angle'> : 2\n",
            "<class 'geometric.internal.OutOfPlane'> : 1\n",
            "<class 'geometric.internal.TranslationX'> : 1\n",
            "<class 'geometric.internal.TranslationY'> : 1\n",
            "<class 'geometric.internal.TranslationZ'> : 1\n",
            "<class 'geometric.internal.RotationA'> : 1\n",
            "<class 'geometric.internal.RotationB'> : 1\n",
            "<class 'geometric.internal.RotationC'> : 1\n",
            "Constraint                         Current      Target       Diff.\n",
            "Dihedral 1-2-3-4                   0.00000     0.00000     0.00000\n",
            "> ===== Optimization Info: ====\n",
            "> Job type: Energy minimization\n",
            "> Maximum number of optimization cycles: 300\n",
            "> Initial / maximum trust radius (Angstrom): 0.100 / 0.300\n",
            "> Convergence Criteria:\n",
            "> Will converge when all 5 criteria are reached:\n",
            ">  |Delta-E| < 1.00e-06\n",
            ">  RMS-Ortho-Grad < 3.00e-04\n",
            ">  Max-Ortho-Grad < 4.50e-04\n",
            ">  RMS-Disp  < 1.20e-03\n",
            ">  Max-Disp  < 1.80e-03\n",
            "> \n",
            "> Constraints are requested. The following criterion is added:\n",
            ">  Max Constraint Violation (in Angstroms/degrees) < 1.00e-02 \n",
            "> === End Optimization Info ===\n"
          ]
        },
        {
          "output_type": "stream",
          "name": "stdout",
          "text": [
            "\n",
            "Geometry optimization cycle 1\n",
            "Cartesian coordinates (Angstrom)\n",
            " Atom        New coordinates             dX        dY        dZ\n",
            "   O   0.000000   0.000000   0.000000    0.000000  0.000000  0.000000\n",
            "   H   2.030000   0.000000   0.000000    0.000000  0.000000  0.000000\n",
            "   H   1.152088   0.000000   1.651112    0.000000  0.000000  0.000000\n",
            "   C   1.064413   0.000000   0.554098    0.000000  0.000000  0.000000\n",
            "converged SCF energy = -114.498075600096\n",
            "--------------- SecondOrderRKS_Scanner gradients ---------------\n",
            "         x                y                z\n",
            "0 O     0.0100598509    -0.0000000000     0.0063694309\n",
            "1 H     0.0010096455     0.0000000000    -0.0002769819\n",
            "2 H    -0.0013259256    -0.0000000000    -0.0064134995\n",
            "3 C    -0.0097126876    -0.0000000000     0.0003542970\n",
            "----------------------------------------------\n",
            "cycle 1: E = -114.4980756  dE = -114.498  norm(grad) = 0.0167398\n"
          ]
        },
        {
          "output_type": "stream",
          "name": "stderr",
          "text": [
            "Step    0 : Gradient = 8.370e-03/1.191e-02 (rms/max) Energy = -114.4980756001\n",
            "Hessian Eigenvalues: 3.47347e-02 5.00000e-02 5.00000e-02 ... 3.22556e-01 3.36256e-01 1.04823e+00\n"
          ]
        },
        {
          "output_type": "stream",
          "name": "stdout",
          "text": [
            "\n",
            "Geometry optimization cycle 2\n",
            "Cartesian coordinates (Angstrom)\n",
            " Atom        New coordinates             dX        dY        dZ\n",
            "   O   0.000076   0.000000  -0.011488    0.000076  0.000000 -0.011488\n",
            "   H   2.024159  -0.000000  -0.004052   -0.005841 -0.000000 -0.004052\n",
            "   H   1.156889   0.000000   1.663105    0.004801  0.000000  0.011993\n",
            "   C   1.064071   0.000000   0.556237   -0.000342  0.000000  0.002139\n",
            "converged SCF energy = -114.498192025351\n",
            "--------------- SecondOrderRKS_Scanner gradients ---------------\n",
            "         x                y                z\n",
            "0 O     0.0016953430    -0.0000000000    -0.0011204567\n",
            "1 H    -0.0002615003    -0.0000000000    -0.0014615303\n",
            "2 H     0.0005882437    -0.0000000000     0.0001996024\n",
            "3 C    -0.0019991152     0.0000000000     0.0024176532\n",
            "----------------------------------------------\n",
            "cycle 2: E = -114.498192025  dE = -0.000116425  norm(grad) = 0.00406958\n"
          ]
        },
        {
          "output_type": "stream",
          "name": "stderr",
          "text": [
            "Step    1 : Displace = \u001b[0m9.394e-03\u001b[0m/\u001b[0m1.345e-02\u001b[0m (rms/max) Trust = 1.000e-01 (=) Grad_T = \u001b[0m2.035e-03\u001b[0m/\u001b[0m3.137e-03\u001b[0m (rms/max) E (change) = -114.4981920254 (\u001b[0m-1.164e-04\u001b[0m) Quality = \u001b[0m0.785\u001b[0m\n",
            "Hessian Eigenvalues: 3.47347e-02 4.99796e-02 5.00000e-02 ... 3.19925e-01 3.93183e-01 9.38279e-01\n"
          ]
        },
        {
          "output_type": "stream",
          "name": "stdout",
          "text": [
            "\n",
            "Geometry optimization cycle 3\n",
            "Cartesian coordinates (Angstrom)\n",
            " Atom        New coordinates             dX        dY        dZ\n",
            "   O  -0.009450   0.000000  -0.006029   -0.009526  0.000000  0.005459\n",
            "   H   2.032706  -0.000000   0.003136    0.008547 -0.000000  0.007188\n",
            "   H   1.155804   0.000000   1.657622   -0.001085  0.000000 -0.005484\n",
            "   C   1.064871   0.000000   0.547343    0.000800  0.000000 -0.008894\n",
            "converged SCF energy = -114.498160850044\n",
            "--------------- SecondOrderRKS_Scanner gradients ---------------\n",
            "         x                y                z\n",
            "0 O    -0.0046349005    -0.0000000000    -0.0000037974\n",
            "1 H     0.0011049064    -0.0000000000     0.0018749660\n",
            "2 H     0.0000353096     0.0000000000     0.0018307171\n",
            "3 C     0.0035290364     0.0000000000    -0.0036703537\n",
            "----------------------------------------------\n",
            "cycle 3: E = -114.49816085  dE = 3.11753e-05  norm(grad) = 0.00744963\n"
          ]
        },
        {
          "output_type": "stream",
          "name": "stderr",
          "text": [
            "Step    2 : Displace = \u001b[0m9.418e-03\u001b[0m/\u001b[0m1.138e-02\u001b[0m (rms/max) Trust = 1.414e-01 (\u001b[92m+\u001b[0m) Grad_T = \u001b[0m3.725e-03\u001b[0m/\u001b[0m5.092e-03\u001b[0m (rms/max) E (change) = -114.4981608500 (\u001b[91m+3.118e-05\u001b[0m) Quality = \u001b[91m-0.551\u001b[0m\n",
            "Hessian Eigenvalues: 3.47347e-02 4.99515e-02 5.00000e-02 ... 3.33977e-01 5.35249e-01 9.93469e-01\n"
          ]
        },
        {
          "output_type": "stream",
          "name": "stdout",
          "text": [
            "\n",
            "Geometry optimization cycle 4\n",
            "Cartesian coordinates (Angstrom)\n",
            " Atom        New coordinates             dX        dY        dZ\n",
            "   O  -0.004087   0.000000  -0.008452    0.005363 -0.000000 -0.002423\n",
            "   H   2.028025  -0.000000  -0.000585   -0.004681  0.000000 -0.003721\n",
            "   H   1.155281   0.000000   1.659271   -0.000523 -0.000000  0.001649\n",
            "   C   1.064525   0.000000   0.551674   -0.000346 -0.000000  0.004331\n",
            "converged SCF energy = -114.498215560747\n",
            "--------------- SecondOrderRKS_Scanner gradients ---------------\n",
            "         x                y                z\n",
            "0 O    -0.0003239053    -0.0000000000     0.0001277825\n",
            "1 H     0.0001504546    -0.0000000000     0.0002854287\n",
            "2 H     0.0000873395     0.0000000000     0.0003805446\n",
            "3 C     0.0001153645    -0.0000000000    -0.0007602800\n",
            "----------------------------------------------\n",
            "cycle 4: E = -114.498215561  dE = -5.47107e-05  norm(grad) = 0.000984442\n"
          ]
        },
        {
          "output_type": "stream",
          "name": "stderr",
          "text": [
            "Step    3 : Displace = \u001b[0m4.802e-03\u001b[0m/\u001b[0m5.957e-03\u001b[0m (rms/max) Trust = 4.709e-03 (\u001b[91m-\u001b[0m) Grad_T = \u001b[0m4.922e-04\u001b[0m/\u001b[0m7.690e-04\u001b[0m (rms/max) E (change) = -114.4982155607 (\u001b[0m-5.471e-05\u001b[0m) Quality = \u001b[0m1.010\u001b[0m\n",
            "Hessian Eigenvalues: 3.47347e-02 4.99470e-02 5.00000e-02 ... 3.33935e-01 5.29402e-01 9.98181e-01\n"
          ]
        },
        {
          "output_type": "stream",
          "name": "stdout",
          "text": [
            "\n",
            "Geometry optimization cycle 5\n",
            "Cartesian coordinates (Angstrom)\n",
            " Atom        New coordinates             dX        dY        dZ\n",
            "   O  -0.003476   0.000000  -0.009334    0.000611  0.000000 -0.000882\n",
            "   H   2.027218  -0.000000  -0.001377   -0.000807  0.000000 -0.000792\n",
            "   H   1.154429   0.000000   1.659080   -0.000851  0.000000 -0.000191\n",
            "   C   1.064334   0.000000   0.552079   -0.000191  0.000000  0.000405\n",
            "converged SCF energy = -114.498216661131\n",
            "--------------- SecondOrderRKS_Scanner gradients ---------------\n",
            "         x                y                z\n",
            "0 O     0.0000858265    -0.0000000000     0.0000488135\n",
            "1 H     0.0000202735     0.0000000000     0.0000040335\n",
            "2 H     0.0000346904     0.0000000000     0.0000426365\n",
            "3 C    -0.0001125163    -0.0000000000    -0.0000616925\n",
            "----------------------------------------------\n",
            "cycle 5: E = -114.498216661  dE = -1.10038e-06  norm(grad) = 0.000172231\n"
          ]
        },
        {
          "output_type": "stream",
          "name": "stderr",
          "text": [
            "Step    4 : Displace = \u001b[92m7.454e-04\u001b[0m/\u001b[92m9.273e-04\u001b[0m (rms/max) Trust = 6.659e-03 (\u001b[92m+\u001b[0m) Grad_T = \u001b[92m8.612e-05\u001b[0m/\u001b[92m1.283e-04\u001b[0m (rms/max) E (change) = -114.4982166611 (\u001b[0m-1.100e-06\u001b[0m) Quality = \u001b[0m1.026\u001b[0m\n",
            "Hessian Eigenvalues: 3.47347e-02 4.74148e-02 5.00000e-02 ... 3.24918e-01 5.40422e-01 1.03230e+00\n"
          ]
        },
        {
          "output_type": "stream",
          "name": "stdout",
          "text": [
            "\n",
            "Geometry optimization cycle 6\n",
            "Cartesian coordinates (Angstrom)\n",
            " Atom        New coordinates             dX        dY        dZ\n",
            "   O  -0.003626   0.000000  -0.009997   -0.000150  0.000000 -0.000663\n",
            "   H   2.027023  -0.000000  -0.001540   -0.000195  0.000000 -0.000163\n",
            "   H   1.153747   0.000000   1.658697   -0.000683  0.000000 -0.000382\n",
            "   C   1.064066   0.000000   0.551739   -0.000269  0.000000 -0.000339\n",
            "converged SCF energy = -114.49821667398\n",
            "--------------- SecondOrderRKS_Scanner gradients ---------------\n",
            "         x                y                z\n",
            "0 O     0.0000323793    -0.0000000000     0.0000165106\n",
            "1 H     0.0000042352    -0.0000000000    -0.0000055003\n",
            "2 H     0.0000166605    -0.0000000000     0.0000056353\n",
            "3 C    -0.0000252014    -0.0000000000     0.0000172072\n",
            "----------------------------------------------\n",
            "cycle 6: E = -114.498216674  dE = -1.28494e-08  norm(grad) = 5.10856e-05\n"
          ]
        },
        {
          "output_type": "stream",
          "name": "stderr",
          "text": [
            "Step    5 : Displace = \u001b[92m5.379e-05\u001b[0m/\u001b[92m7.296e-05\u001b[0m (rms/max) Trust = 9.418e-03 (\u001b[92m+\u001b[0m) Grad_T = \u001b[92m2.554e-05\u001b[0m/\u001b[92m3.635e-05\u001b[0m (rms/max) E (change) = -114.4982166740 (\u001b[92m-1.285e-08\u001b[0m) Quality = \u001b[0m0.351\u001b[0m\n",
            "Hessian Eigenvalues: 3.47347e-02 4.74148e-02 5.00000e-02 ... 3.24918e-01 5.40422e-01 1.03230e+00\n",
            "Converged! =D\n",
            "\n",
            "    #==========================================================================#\n",
            "    #| If this code has benefited your research, please support us by citing: |#\n",
            "    #|                                                                        |#\n",
            "    #| Wang, L.-P.; Song, C.C. (2016) \"Geometry optimization made simple with |#\n",
            "    #| translation and rotation coordinates\", J. Chem, Phys. 144, 214108.     |#\n",
            "    #| http://dx.doi.org/10.1063/1.4952956                                    |#\n",
            "    #==========================================================================#\n",
            "    Time elapsed since start of run_optimizer: 13.099 seconds\n"
          ]
        },
        {
          "output_type": "stream",
          "name": "stdout",
          "text": [
            "converged SCF energy = -114.498216674019\n"
          ]
        },
        {
          "output_type": "stream",
          "name": "stderr",
          "text": [
            "[(0, 1), (1, 2), (2, 3)]Measuring dihedral angle for four atoms that aren't bonded.  Hope you know what you're doing!"
          ]
        }
      ],
      "source": [
        "#@title  🎯🎯🎯\n",
        "#define molecule\n",
        "initial_dihedral = dihedral_textbox.value\n",
        "mol = gto.Mole()\n",
        "mol.atom = '''\n",
        "    O\n",
        "    H 1 2.03\n",
        "    H 2 1.87 1 62.0\n",
        "    C 1 1.2 2 27.5 3 {}\n",
        "'''.format(initial_dihedral)\n",
        "\n",
        "#define model chemistry & calculation\n",
        "mol.basis = '6-31g(d)'\n",
        "mol.spin=0;\n",
        "mol.build();\n",
        "mf = dft.RKS(mol)\n",
        "mf.xc = 'b3lyp'\n",
        "mf = mf.newton()\n",
        "mf.kernel()\n",
        "\n",
        "# Optimize the geometry\n",
        "text = \"$freeze\\ndihedral 1 2 3 4\\n\"\n",
        "with open(\"constraints.txt\", \"w\") as f:\n",
        "    f.write(text)\n",
        "params = {\"constraints\": \"constraints.txt\",}\n",
        "mol_eq = optimize(mf, **params)\n",
        "\n",
        "#print(mol_eq.atom_coords())\n",
        "\n",
        "# Get the optimized energy\n",
        "mf = dft.RKS(mol_eq)\n",
        "mf.xc = 'b3lyp'\n",
        "mf = mf.newton()\n",
        "mf.kernel()\n",
        "\n",
        "# Create a temporary XYZ file with the optimized coordinates\n",
        "symbols = [atom[0] for atom in mol_eq.atom];\n",
        "coords = mol_eq.atom_coords();\n",
        "with open(\"temp.xyz\", \"w\") as f:\n",
        "    f.write(\"%d\\n\" % len(symbols))\n",
        "    f.write(\"Generated by PySCF and Geometric\\n\")\n",
        "    for i in range(len(symbols)):\n",
        "        f.write(\"%s %f %f %f\\n\" % (symbols[i], coords[i,0], coords[i,1], coords[i,2]))\n",
        "\n",
        "# Convert the PySCF object to a `Molecule` object using the XYZ file and store dihedral angle.\n",
        "mol_geom = Molecule(\"temp.xyz\");\n",
        "dihedral=Molecule.measure_dihedrals(mol_geom,0,1,2,3);"
      ]
    },
    {
      "cell_type": "markdown",
      "metadata": {
        "id": "HuBkdITM3CFy"
      },
      "source": [
        "**Run the next code cell to summarise the calculation and show the geometry of the molecule**\n",
        "\n",
        "**NOTE: The 'Final dihedral' value is the one you need to use in determining $k_c$.**"
      ]
    },
    {
      "cell_type": "code",
      "execution_count": 7,
      "metadata": {
        "cellView": "form",
        "id": "VUmCqq-X3CFy",
        "outputId": "e23cb52e-d1da-4f7d-dfdc-71563247a392",
        "colab": {
          "base_uri": "https://localhost:8080/",
          "height": 545
        }
      },
      "outputs": [
        {
          "output_type": "stream",
          "name": "stdout",
          "text": [
            "Initial dihedral before geometry optimisation: 0.0 degrees\n",
            "Final dihedral after geometry optimisation: 0.0 degrees\n",
            "Final energy after geometry optimisation: -114.49821667401876 Hartree\n"
          ]
        },
        {
          "output_type": "display_data",
          "data": {
            "application/3dmoljs_load.v0": "<div id=\"3dmolviewer_1747697486475407\"  style=\"position: relative; width: 640px; height: 480px;\">\n        <p id=\"3dmolwarning_1747697486475407\" style=\"background-color:#ffcccc;color:black\">3Dmol.js failed to load for some reason.  Please check your browser console for error messages.<br></p>\n        </div>\n<script>\n\nvar loadScriptAsync = function(uri){\n  return new Promise((resolve, reject) => {\n    //this is to ignore the existence of requirejs amd\n    var savedexports, savedmodule;\n    if (typeof exports !== 'undefined') savedexports = exports;\n    else exports = {}\n    if (typeof module !== 'undefined') savedmodule = module;\n    else module = {}\n\n    var tag = document.createElement('script');\n    tag.src = uri;\n    tag.async = true;\n    tag.onload = () => {\n        exports = savedexports;\n        module = savedmodule;\n        resolve();\n    };\n  var firstScriptTag = document.getElementsByTagName('script')[0];\n  firstScriptTag.parentNode.insertBefore(tag, firstScriptTag);\n});\n};\n\nif(typeof $3Dmolpromise === 'undefined') {\n$3Dmolpromise = null;\n  $3Dmolpromise = loadScriptAsync('https://cdnjs.cloudflare.com/ajax/libs/3Dmol/2.4.2/3Dmol-min.js');\n}\n\nvar viewer_1747697486475407 = null;\nvar warn = document.getElementById(\"3dmolwarning_1747697486475407\");\nif(warn) {\n    warn.parentNode.removeChild(warn);\n}\n$3Dmolpromise.then(function() {\nviewer_1747697486475407 = $3Dmol.createViewer(document.getElementById(\"3dmolviewer_1747697486475407\"),{backgroundColor:\"white\"});\nviewer_1747697486475407.zoomTo();\n\tviewer_1747697486475407.addModel(\"4\\nopt geom\\nO    0.000  0.000  0.000\\nH    3.836  0.000  0.000\\nH    2.177  0.000  3.120\\nC    2.011  0.000  1.047\\n\",\"xyz\");\n\tviewer_1747697486475407.setBackgroundColor(\"#CFB691\");\n\tviewer_1747697486475407.setStyle({\"sphere\": {\"radius\": 0.5}});\n\tviewer_1747697486475407.zoomTo();\nviewer_1747697486475407.render();\n});\n</script>",
            "text/html": [
              "<div id=\"3dmolviewer_1747697486475407\"  style=\"position: relative; width: 640px; height: 480px;\">\n",
              "        <p id=\"3dmolwarning_1747697486475407\" style=\"background-color:#ffcccc;color:black\">3Dmol.js failed to load for some reason.  Please check your browser console for error messages.<br></p>\n",
              "        </div>\n",
              "<script>\n",
              "\n",
              "var loadScriptAsync = function(uri){\n",
              "  return new Promise((resolve, reject) => {\n",
              "    //this is to ignore the existence of requirejs amd\n",
              "    var savedexports, savedmodule;\n",
              "    if (typeof exports !== 'undefined') savedexports = exports;\n",
              "    else exports = {}\n",
              "    if (typeof module !== 'undefined') savedmodule = module;\n",
              "    else module = {}\n",
              "\n",
              "    var tag = document.createElement('script');\n",
              "    tag.src = uri;\n",
              "    tag.async = true;\n",
              "    tag.onload = () => {\n",
              "        exports = savedexports;\n",
              "        module = savedmodule;\n",
              "        resolve();\n",
              "    };\n",
              "  var firstScriptTag = document.getElementsByTagName('script')[0];\n",
              "  firstScriptTag.parentNode.insertBefore(tag, firstScriptTag);\n",
              "});\n",
              "};\n",
              "\n",
              "if(typeof $3Dmolpromise === 'undefined') {\n",
              "$3Dmolpromise = null;\n",
              "  $3Dmolpromise = loadScriptAsync('https://cdnjs.cloudflare.com/ajax/libs/3Dmol/2.4.2/3Dmol-min.js');\n",
              "}\n",
              "\n",
              "var viewer_1747697486475407 = null;\n",
              "var warn = document.getElementById(\"3dmolwarning_1747697486475407\");\n",
              "if(warn) {\n",
              "    warn.parentNode.removeChild(warn);\n",
              "}\n",
              "$3Dmolpromise.then(function() {\n",
              "viewer_1747697486475407 = $3Dmol.createViewer(document.getElementById(\"3dmolviewer_1747697486475407\"),{backgroundColor:\"white\"});\n",
              "viewer_1747697486475407.zoomTo();\n",
              "\tviewer_1747697486475407.addModel(\"4\\nopt geom\\nO    0.000  0.000  0.000\\nH    3.836  0.000  0.000\\nH    2.177  0.000  3.120\\nC    2.011  0.000  1.047\\n\",\"xyz\");\n",
              "\tviewer_1747697486475407.setBackgroundColor(\"#CFB691\");\n",
              "\tviewer_1747697486475407.setStyle({\"sphere\": {\"radius\": 0.5}});\n",
              "\tviewer_1747697486475407.zoomTo();\n",
              "viewer_1747697486475407.render();\n",
              "});\n",
              "</script>"
            ]
          },
          "metadata": {}
        }
      ],
      "source": [
        "#@title 🎯🎯🎯\n",
        "#print summary\n",
        "print('Initial dihedral before geometry optimisation:', initial_dihedral,\"degrees\")\n",
        "print('Final dihedral after geometry optimisation:', abs(dihedral[0]), 'degrees')\n",
        "print('Final energy after geometry optimisation:', mf.e_tot,\"Hartree\")\n",
        "\n",
        "# get the atomic positions & write PDB file\n",
        "atom_pos = mol.atom_coords()\n",
        "atom_symbol = mol._atom\n",
        "\n",
        "with open('mol.xyz', 'w') as f:\n",
        "    f.write(f'{len(mol._atom)}\\n')\n",
        "    f.write('opt geom\\n')\n",
        "    for i, (symbol, pos) in enumerate(zip(atom_symbol, atom_pos)):\n",
        "        f.write(f'{symbol[0]}  {pos[0]:>7.3f}{pos[1]:>7.3f}{pos[2]:>7.3f}\\n')\n",
        "\n",
        "\n",
        "view = py3Dmol.view()\n",
        "view.addModel(open('mol.xyz', 'r').read(),'xyz')\n",
        "view.setBackgroundColor('#CFB691')\n",
        "view.setStyle({'sphere': {'radius': 0.5}})\n",
        "view.zoomTo()\n",
        "view.show()\n"
      ]
    },
    {
      "cell_type": "markdown",
      "metadata": {
        "id": "3XMCZqIm3CFy"
      },
      "source": [
        "### Questions\n",
        "\n",
        "1. Use your data to estimate the out-of-plane bending force constant $k^c$ for the out-of-plane bending potentials in the methylene radical and formaldeyde. (It is easiest to do this analysis in Microsoft Excel.)\n",
        "1. Both of these molecules have equivalent structure and a central sp$^2$-hybridised carbon atom. Why do you think the $k^c$ values for these two potentials are so different? Explain your answer in terms of the electronic structure and bonding in these molecules.\n",
        "\n",
        "**Submit your homework as a single MS excel file. You will be assessed on (1) the accuracy of your force constant value, and its $\\pm$ margin of error, and (2) your answer to question 2, above.**"
      ]
    },
    {
      "cell_type": "markdown",
      "metadata": {
        "id": "mrpwOs8E3CFz"
      },
      "source": []
    }
  ],
  "metadata": {
    "colab": {
      "provenance": [],
      "include_colab_link": true
    },
    "kernelspec": {
      "display_name": "Python 3",
      "name": "python3"
    },
    "language_info": {
      "name": "python"
    },
    "widgets": {
      "application/vnd.jupyter.widget-state+json": {
        "346eeb8d1f054c28982acaf647432f5d": {
          "model_module": "@jupyter-widgets/controls",
          "model_name": "FloatTextModel",
          "model_module_version": "1.5.0",
          "state": {
            "_dom_classes": [],
            "_model_module": "@jupyter-widgets/controls",
            "_model_module_version": "1.5.0",
            "_model_name": "FloatTextModel",
            "_view_count": null,
            "_view_module": "@jupyter-widgets/controls",
            "_view_module_version": "1.5.0",
            "_view_name": "FloatTextView",
            "continuous_update": false,
            "description": "Dihedral Angle (degrees):",
            "description_tooltip": null,
            "disabled": false,
            "layout": "IPY_MODEL_2e66c704b5c74e4fa9674de918d6c743",
            "step": null,
            "style": "IPY_MODEL_62e8786ea38b4a868fe4fd6bbde9d0c4",
            "value": 0
          }
        },
        "2e66c704b5c74e4fa9674de918d6c743": {
          "model_module": "@jupyter-widgets/base",
          "model_name": "LayoutModel",
          "model_module_version": "1.2.0",
          "state": {
            "_model_module": "@jupyter-widgets/base",
            "_model_module_version": "1.2.0",
            "_model_name": "LayoutModel",
            "_view_count": null,
            "_view_module": "@jupyter-widgets/base",
            "_view_module_version": "1.2.0",
            "_view_name": "LayoutView",
            "align_content": null,
            "align_items": null,
            "align_self": null,
            "border": null,
            "bottom": null,
            "display": null,
            "flex": null,
            "flex_flow": null,
            "grid_area": null,
            "grid_auto_columns": null,
            "grid_auto_flow": null,
            "grid_auto_rows": null,
            "grid_column": null,
            "grid_gap": null,
            "grid_row": null,
            "grid_template_areas": null,
            "grid_template_columns": null,
            "grid_template_rows": null,
            "height": null,
            "justify_content": null,
            "justify_items": null,
            "left": null,
            "margin": null,
            "max_height": null,
            "max_width": null,
            "min_height": null,
            "min_width": null,
            "object_fit": null,
            "object_position": null,
            "order": null,
            "overflow": null,
            "overflow_x": null,
            "overflow_y": null,
            "padding": null,
            "right": null,
            "top": null,
            "visibility": null,
            "width": null
          }
        },
        "62e8786ea38b4a868fe4fd6bbde9d0c4": {
          "model_module": "@jupyter-widgets/controls",
          "model_name": "DescriptionStyleModel",
          "model_module_version": "1.5.0",
          "state": {
            "_model_module": "@jupyter-widgets/controls",
            "_model_module_version": "1.5.0",
            "_model_name": "DescriptionStyleModel",
            "_view_count": null,
            "_view_module": "@jupyter-widgets/base",
            "_view_module_version": "1.2.0",
            "_view_name": "StyleView",
            "description_width": ""
          }
        },
        "c33b4eadf1f3467cb45389790e3d0b8b": {
          "model_module": "@jupyter-widgets/controls",
          "model_name": "FloatTextModel",
          "model_module_version": "1.5.0",
          "state": {
            "_dom_classes": [],
            "_model_module": "@jupyter-widgets/controls",
            "_model_module_version": "1.5.0",
            "_model_name": "FloatTextModel",
            "_view_count": null,
            "_view_module": "@jupyter-widgets/controls",
            "_view_module_version": "1.5.0",
            "_view_name": "FloatTextView",
            "continuous_update": false,
            "description": "Dihedral Angle (degrees):",
            "description_tooltip": null,
            "disabled": false,
            "layout": "IPY_MODEL_a68a470a51b74605b4c62ff9f99708a8",
            "step": null,
            "style": "IPY_MODEL_b178791f0fc0408b801d1ebd43d82184",
            "value": 0
          }
        },
        "a68a470a51b74605b4c62ff9f99708a8": {
          "model_module": "@jupyter-widgets/base",
          "model_name": "LayoutModel",
          "model_module_version": "1.2.0",
          "state": {
            "_model_module": "@jupyter-widgets/base",
            "_model_module_version": "1.2.0",
            "_model_name": "LayoutModel",
            "_view_count": null,
            "_view_module": "@jupyter-widgets/base",
            "_view_module_version": "1.2.0",
            "_view_name": "LayoutView",
            "align_content": null,
            "align_items": null,
            "align_self": null,
            "border": null,
            "bottom": null,
            "display": null,
            "flex": null,
            "flex_flow": null,
            "grid_area": null,
            "grid_auto_columns": null,
            "grid_auto_flow": null,
            "grid_auto_rows": null,
            "grid_column": null,
            "grid_gap": null,
            "grid_row": null,
            "grid_template_areas": null,
            "grid_template_columns": null,
            "grid_template_rows": null,
            "height": null,
            "justify_content": null,
            "justify_items": null,
            "left": null,
            "margin": null,
            "max_height": null,
            "max_width": null,
            "min_height": null,
            "min_width": null,
            "object_fit": null,
            "object_position": null,
            "order": null,
            "overflow": null,
            "overflow_x": null,
            "overflow_y": null,
            "padding": null,
            "right": null,
            "top": null,
            "visibility": null,
            "width": null
          }
        },
        "b178791f0fc0408b801d1ebd43d82184": {
          "model_module": "@jupyter-widgets/controls",
          "model_name": "DescriptionStyleModel",
          "model_module_version": "1.5.0",
          "state": {
            "_model_module": "@jupyter-widgets/controls",
            "_model_module_version": "1.5.0",
            "_model_name": "DescriptionStyleModel",
            "_view_count": null,
            "_view_module": "@jupyter-widgets/base",
            "_view_module_version": "1.2.0",
            "_view_name": "StyleView",
            "description_width": ""
          }
        }
      }
    }
  },
  "nbformat": 4,
  "nbformat_minor": 0
}