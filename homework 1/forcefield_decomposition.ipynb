{
  "cells": [
    {
      "cell_type": "markdown",
      "metadata": {
        "colab_type": "text",
        "id": "view-in-github"
      },
      "source": [
        "<a href=\"https://colab.research.google.com/github/alisterpage/CHEM3580-Jupyter-Notebooks/blob/main/homework%201/forcefield_decomposition.ipynb\" target=\"_parent\"><img src=\"https://colab.research.google.com/assets/colab-badge.svg\" alt=\"Open In Colab\"/></a>"
      ]
    },
    {
      "cell_type": "markdown",
      "metadata": {
        "id": "JIn_Ui_Y03gU"
      },
      "source": [
        "## Homework - Looking Under the Hood of an MD Forcefield\n",
        "\n",
        "For this homework exercise, you will analyse the individual terms that make up a MD forcefield. We will use a 'toy system' for this exercise - a (very short) MD simulation of a short polyanaline structure:\n",
        "\n",
        "<img src=\"https://www.sigmaaldrich.com/deepweb/assets/sigmaaldrich/product/structures/321/351/d3d44a62-b187-46ad-94ad-b8be32d61fec/640/d3d44a62-b187-46ad-94ad-b8be32d61fec.png\" alt=\"Molecule\" width=\"400\">"
      ]
    },
    {
      "cell_type": "markdown",
      "metadata": {},
      "source": [
        "\n",
        "\n",
        "To get started, run the code cell below to setup the Google Colab environment. (Expect it to take 1-2 minutes the first time you run it)\n",
        "\n",
        "    "
      ]
    },
    {
      "cell_type": "code",
      "execution_count": null,
      "metadata": {
        "colab": {
          "base_uri": "https://localhost:8080/"
        },
        "id": "5k1m4siRCpqD",
        "outputId": "11f5c5de-028f-47dd-f674-cdac78e7b66a"
      },
      "outputs": [],
      "source": [
        "#@title Setup Environment\n",
        "!pip install -q condacolab\n",
        "import condacolab\n",
        "condacolab.install()\n",
        "!conda install -c conda-forge packmol openmm -q 2>&1 >/dev/null"
      ]
    },
    {
      "cell_type": "code",
      "execution_count": null,
      "metadata": {
        "id": "3YCE_rWA6leG"
      },
      "outputs": [],
      "source": [
        "#@title Load our Packages\n",
        "from openmm.app import *\n",
        "from openmm import *\n",
        "from openmm.unit import *\n",
        "from sys import stdout\n",
        "import re\n",
        "import time\n",
        "import numpy as np\n",
        "import matplotlib.pyplot as plt"
      ]
    },
    {
      "cell_type": "markdown",
      "metadata": {
        "id": "4K5U_3H703gd"
      },
      "source": [
        "You're ready to setup your simulation - execute the next code cell, which will define all of the necessary parameters for your simulation."
      ]
    },
    {
      "cell_type": "code",
      "execution_count": null,
      "metadata": {
        "id": "0H9OUzBx1zP6"
      },
      "outputs": [],
      "source": [
        "#@title Setup the MD Simulation\n",
        "pdb_content = \"\"\"\\\n",
        "REMARK *\n",
        "REMARK   DATE:     8/ 5/ 9     14:44:19      CREATED BY USER: mjw\n",
        "ATOM      1  N   ALA     1       0.024  -0.103  -0.101  1.00  0.00      AAL\n",
        "ATOM      2  HT1 ALA     1       0.027  -1.132  -0.239  1.00  0.00      AAL\n",
        "ATOM      3  HT2 ALA     1      -0.805   0.163   0.471  1.00  0.00      AAL\n",
        "ATOM      4  HT3 ALA     1      -0.059   0.384  -1.019  1.00  0.00      AAL\n",
        "ATOM      5  CA  ALA     1       1.247   0.375   0.636  1.00  0.00      AAL\n",
        "ATOM      6  HA  ALA     1       0.814   0.861   1.495  1.00  0.00      AAL\n",
        "ATOM      7  CB  ALA     1       2.057  -0.772   1.289  1.00  0.00      AAL\n",
        "ATOM      8  HB1 ALA     1       3.136  -0.752   1.032  1.00  0.00      AAL\n",
        "ATOM      9  HB2 ALA     1       1.990  -0.641   2.395  1.00  0.00      AAL\n",
        "ATOM     10  HB3 ALA     1       1.656  -1.782   1.063  1.00  0.00      AAL\n",
        "ATOM     11  C   ALA     1       1.956   1.579   0.036  1.00  0.00      AAL\n",
        "ATOM     12  O   ALA     1       1.219   2.525  -0.201  1.00  0.00      AAL\n",
        "ATOM     13  N   ALA     2       3.289   1.631  -0.202  1.00  0.00      AAL\n",
        "ATOM     14  HN  ALA     2       3.939   0.868  -0.174  1.00  0.00      AAL\n",
        "ATOM     15  CA  ALA     2       3.990   2.909  -0.215  1.00  0.00      AAL\n",
        "ATOM     16  HA  ALA     2       3.742   3.440   0.695  1.00  0.00      AAL\n",
        "ATOM     17  CB  ALA     2       3.662   3.802  -1.434  1.00  0.00      AAL\n",
        "ATOM     18  HB1 ALA     2       4.192   4.778  -1.358  1.00  0.00      AAL\n",
        "ATOM     19  HB2 ALA     2       3.956   3.311  -2.382  1.00  0.00      AAL\n",
        "ATOM     20  HB3 ALA     2       2.577   4.027  -1.467  1.00  0.00      AAL\n",
        "ATOM     21  C   ALA     2       5.487   2.654  -0.128  1.00  0.00      AAL\n",
        "ATOM     22  O   ALA     2       5.889   1.489  -0.137  1.00  0.00      AAL\n",
        "ATOM     23  N   ALA     3       6.275   3.733  -0.037  1.00  0.00      AAL\n",
        "ATOM     24  HN  ALA     3       5.963   4.691  -0.028  1.00  0.00      AAL\n",
        "ATOM     25  CA  ALA     3       7.707   3.802   0.068  1.00  0.00      AAL\n",
        "ATOM     26  HA  ALA     3       8.160   3.418  -0.833  1.00  0.00      AAL\n",
        "ATOM     27  CB  ALA     3       8.233   3.093   1.333  1.00  0.00      AAL\n",
        "ATOM     28  HB1 ALA     3       9.342   3.149   1.356  1.00  0.00      AAL\n",
        "ATOM     29  HB2 ALA     3       7.835   3.593   2.240  1.00  0.00      AAL\n",
        "ATOM     30  HB3 ALA     3       7.923   2.030   1.332  1.00  0.00      AAL\n",
        "ATOM     31  C   ALA     3       8.018   5.323   0.136  1.00  0.00      AAL\n",
        "ATOM     32  OT1 ALA     3       7.032   6.119   0.127  1.00  0.00      AAL\n",
        "ATOM     33  OT2 ALA     3       9.219   5.692   0.188  1.00  0.00      AAL\n",
        "TER      34      ALA      3\n",
        "END\n",
        "\"\"\"\n",
        "\n",
        "with open(\"ala_ala_ala.pdb\", \"w\") as f:\n",
        "    f.write(pdb_content)\n",
        "\n",
        "forcefield = ForceField('amber14-all.xml')\n",
        "system = forcefield.createSystem(pdb.topology)\n",
        "\n",
        "for i, f in enumerate(system.getForces()):\n",
        "    f.setForceGroup(i)\n",
        "\n",
        "\n",
        "integrator = VerletIntegrator(0.001*picoseconds)\n",
        "simulation = Simulation(pdb.topology, system, integrator)\n",
        "simulation.context.setPositions(pdb.positions)\n",
        "simulation.context.setVelocitiesToTemperature(300*kelvin)\n",
        "\n",
        "# Perform local energy minimization\n",
        "print(\"Minimizing energy...\")\n",
        "simulation.minimizeEnergy(maxIterations=1000)"
      ]
    },
    {
      "cell_type": "markdown",
      "metadata": {
        "id": "KC9AdS1k03ge"
      },
      "source": [
        "You're ready to run the simulation! Execute the next code cell to simulate 1000 steps of Newton's equations of motion, using the AMBER forcefield (we will use this more extensively in the workshops for this part of the course)."
      ]
    },
    {
      "cell_type": "code",
      "execution_count": null,
      "metadata": {
        "id": "oiUnTsMuDEYz"
      },
      "outputs": [],
      "source": [
        "#@title Run the MD Simulation\n",
        "\n",
        "total_steps = 1000\n",
        "report_interval = 10\n",
        "ncols = 5  # total energy columns, we will only show 4 of them in col_order\n",
        "\n",
        "# Prepare force names once\n",
        "names = [f.getName() for f in system.getForces()]\n",
        "nrows = (len(names) + ncols - 1) // ncols\n",
        "\n",
        "# Pad to fill full column layout\n",
        "while len(names) < nrows * ncols:\n",
        "    names.append(\"\")\n",
        "\n",
        "# Column order for display: col0, col4, col1, col2\n",
        "col_order = [0, 4, 1, 2]\n",
        "\n",
        "# Print headers\n",
        "# print(\"\\nForce Field Components (kJ/mol):\")\n",
        "# for row in range(nrows):\n",
        "#     headers = [\"{:<10}\".format(\"Step #\")]\n",
        "#     headers += [f\"{names[col*nrows + row]:>22}\" for col in col_order]\n",
        "#     if row == 0:\n",
        "#         headers += [f\"{'Total PE':>22}\", f\"{'Total KE':>22}\"]\n",
        "#     print(\"\".join(headers))\n",
        "\n",
        "# Step and print values\n",
        "for step in range(0, total_steps, report_interval):\n",
        "    simulation.step(report_interval)\n",
        "\n",
        "    # Get per-force energies\n",
        "    energies = []\n",
        "    for i in range(len(system.getForces())):\n",
        "        state = simulation.context.getState(getEnergy=True, groups={i})\n",
        "        energy = state.getPotentialEnergy().value_in_unit(kilojoules_per_mole)\n",
        "        energies.append(energy)\n",
        "\n",
        "    # Pad energies\n",
        "    while len(energies) < nrows * ncols:\n",
        "        energies.append(\"\")\n",
        "\n",
        "    # Get global state for total potential energy and temperature\n",
        "    global_state = simulation.context.getState(getEnergy=True)\n",
        "    total_PE = global_state.getPotentialEnergy().value_in_unit(kilojoules_per_mole)\n",
        "    total_KE = global_state.getKineticEnergy().value_in_unit(kilojoules_per_mole)\n",
        "\n",
        "    # # Print formatted rows\n",
        "    # for row in range(nrows):\n",
        "    #     values = [f\"{step + report_interval:<10}\"]\n",
        "    #     values += [\n",
        "    #         f\"{energies[col*nrows + row]:22.5e}\" if isinstance(energies[col*nrows + row], float)\n",
        "    #         else f\"{'':>22}\"\n",
        "    #         for col in col_order\n",
        "    #     ]\n",
        "    #     if row == 0:\n",
        "    #         values += [f\"{total_PE:22.5e}\", f\"{total_KE:22.5e}\"]\n",
        "    #     print(\"\".join(values))"
      ]
    },
    {
      "cell_type": "markdown",
      "metadata": {
        "id": "NQpjSh5T03gf"
      },
      "source": [
        "With your MD trajectory complete, run the next cell to generate the main result that you need to analyse for your first homework submission."
      ]
    },
    {
      "cell_type": "code",
      "execution_count": null,
      "metadata": {
        "colab": {
          "base_uri": "https://localhost:8080/",
          "height": 417
        },
        "id": "e61v6vI6Jg1F",
        "outputId": "b32c18b6-e77e-4de7-9b6e-fbff356bf1e0"
      },
      "outputs": [],
      "source": [
        "# Column order used in printout\n",
        "col_order = [0, 4, 1, 2]\n",
        "ncols = 5\n",
        "nrows = (len(system.getForces()) + ncols - 1) // ncols\n",
        "\n",
        "# Get and pad force names\n",
        "names = [f.getName() for f in system.getForces()]\n",
        "while len(names) < nrows * ncols:\n",
        "    names.append(\"\")\n",
        "\n",
        "# Labels for the selected columns\n",
        "column_labels = []\n",
        "for col in col_order:\n",
        "    idx = col * nrows\n",
        "    column_labels.append(names[idx])\n",
        "\n",
        "# Initialize data\n",
        "step_numbers = []\n",
        "force_group_energies = {label: [] for label in column_labels}\n",
        "total_PE = []\n",
        "total_KE = []\n",
        "\n",
        "# Reset simulation\n",
        "simulation.context.setPositions(pdb.positions)\n",
        "simulation.minimizeEnergy(maxIterations=1000)\n",
        "\n",
        "# Collect data\n",
        "for step in range(0, total_steps, report_interval):\n",
        "    simulation.step(report_interval)\n",
        "    step_number = step + report_interval\n",
        "    step_numbers.append(step_number)\n",
        "\n",
        "    # Per-force energies\n",
        "    energies = []\n",
        "    for i in range(len(system.getForces())):\n",
        "        state = simulation.context.getState(getEnergy=True, groups={i})\n",
        "        energy = state.getPotentialEnergy().value_in_unit(kilojoules_per_mole)\n",
        "        energies.append(energy)\n",
        "\n",
        "    while len(energies) < nrows * ncols:\n",
        "        energies.append(np.nan)\n",
        "\n",
        "    for col, label in zip(col_order, column_labels):\n",
        "        idx = col * nrows\n",
        "        force_group_energies[label].append(energies[idx])\n",
        "\n",
        "    # Global energies\n",
        "    state_global = simulation.context.getState(getEnergy=True)\n",
        "    total_PE.append(state_global.getPotentialEnergy().value_in_unit(kilojoules_per_mole))\n",
        "    total_KE.append(state_global.getKineticEnergy().value_in_unit(kilojoules_per_mole))\n",
        "\n",
        "# Plotting in 2x1 grid (side-by-side)\n",
        "fig, (ax1, ax2) = plt.subplots(nrows=1, ncols=2, figsize=(14, 5), sharex=True)\n",
        "\n",
        "# Left: Force group energies\n",
        "for label in force_group_energies:\n",
        "    ax1.plot(step_numbers, force_group_energies[label], label=label)\n",
        "ax1.set_title(\"Force Field Components\")\n",
        "ax1.set_xlabel(\"Simulation Step\")\n",
        "ax1.set_ylabel(\"Energy (kJ/mol)\")\n",
        "ax1.legend()\n",
        "ax1.grid(True)\n",
        "\n",
        "# Right: Total PE and KE\n",
        "ax2.plot(step_numbers, total_PE, label=\"Total potential energy\", color='tab:blue')\n",
        "ax2.plot(step_numbers, total_KE, label=\"Total kinetic energy\", color='tab:orange')\n",
        "ax2.set_title(\"Total Energies\")\n",
        "ax2.set_xlabel(\"Simulation Step\")\n",
        "ax2.set_ylabel(\"Energy (kJ/mol)\")\n",
        "ax2.legend()\n",
        "ax2.grid(True)\n",
        "\n",
        "plt.tight_layout()\n",
        "plt.show()"
      ]
    },
    {
      "cell_type": "markdown",
      "metadata": {
        "id": "YNLZIRrsFs0k"
      },
      "source": [
        "# Questions\n",
        "\n",
        "Your homework for this week is to answer the following questions based on the output produced above. Each question carries equal weighting. You're encouraged to base your answers on the lecture notes and other resources, but your submission **must be your own work**.\n",
        "\n",
        "\n",
        "1. Write the full general expression for a molecular dynamics (mechanics) force field, such as the AMBER force field used in this simulation. What is the difference between the bonded and non-bonded interactions in this force field? Which energy terms represent bonded interactions and which represent non-bonded interactions?\n",
        "1. Explain the relative magnitudes of the bonded and non-bonded interactions observed in this simulation. \n",
        "1. Why must the total non-bonded interaction in this molecule always be negative? Explain your answer in terms of the physical interactions included in this term, and how they relate to the molecule's structure.\n",
        "1. Why must the total harmonic bond and angle energies always positive? Explain your answer in terms of the formulation of these two forcefield components, and how they relate to the molecule's structure..\n",
        "1. Why is the total kinetic energy always positive? \n",
        "1. What do you notice about the total potential and kinetic energy throughout the entire simulation? What fundamental universal principal is responsible for this?\n",
        "\n",
        "**Submit your homework as a single handwritten file (NOT typed etc.) - upload a scanned copy of your answers.** \n",
        "\n",
        "**Use equations/diagrams wherever necessary in your answers.**\n",
        "\n",
        "**Ensure that all answers are appropriately labelled and presented clearly.**\n",
        "    "
      ]
    }
  ],
  "metadata": {
    "colab": {
      "include_colab_link": true,
      "provenance": []
    },
    "kernelspec": {
      "display_name": "Python 3",
      "name": "python3"
    },
    "language_info": {
      "name": "python"
    }
  },
  "nbformat": 4,
  "nbformat_minor": 0
}
