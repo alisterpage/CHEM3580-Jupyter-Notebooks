{
  "cells": [
    {
      "cell_type": "markdown",
      "metadata": {
        "colab_type": "text",
        "id": "view-in-github"
      },
      "source": [
        "<a href=\"https://colab.research.google.com/github/alisterpage/CHEM3580-Jupyter-Notebooks/blob/main/homework%5C%201/forcefield_decomposition.ipynb\" target=\"_parent\"><img src=\"https://colab.research.google.com/assets/colab-badge.svg\" alt=\"Open In Colab\"/></a>"
      ]
    },
    {
      "cell_type": "markdown",
      "metadata": {},
      "source": [
        "## Homework - Looking Under the Hood of an MD Forcefield\n",
        "\n",
        "For this homework exercise, you will decompose the individual terms that make up a MD forcefield. We will use a 'toy system' for this exercise - a (very short) MD simulation of a single alanine trimer. \n",
        "\n",
        "To get started, run the code cell below to setup the Google Colab environment. (Expect it to take 1-2 minutes the first time you run it)\n",
        "\n",
        "    "
      ]
    },
    {
      "cell_type": "code",
      "execution_count": null,
      "metadata": {
        "colab": {
          "base_uri": "https://localhost:8080/"
        },
        "id": "5k1m4siRCpqD",
        "outputId": "91ae318a-f338-49ad-eb86-6697f40d817d"
      },
      "outputs": [],
      "source": [
        "#@title Setup Environment\n",
        "!pip install -q condacolab\n",
        "import condacolab\n",
        "condacolab.install()\n",
        "!conda install -c conda-forge packmol openmm   -q 2>&1 >/dev/null"
      ]
    },
    {
      "cell_type": "code",
      "execution_count": null,
      "metadata": {
        "colab": {
          "base_uri": "https://localhost:8080/",
          "height": 37,
          "referenced_widgets": [
            "d9da31c2402f465787f3c877e8e8ed8e"
          ]
        },
        "id": "3YCE_rWA6leG",
        "outputId": "8af60782-1a0e-42c7-a1a3-7749c79a9219"
      },
      "outputs": [],
      "source": [
        "from openmm.app import *\n",
        "from openmm import *\n",
        "from openmm.unit import *\n",
        "from sys import stdout\n",
        "import re\n",
        "import time\n",
        "import numpy as np\n",
        "import matplotlib.pyplot as plt"
      ]
    },
    {
      "cell_type": "markdown",
      "metadata": {},
      "source": [
        "You're ready to setup your simulation - execute the next code cell, which will define all of the necessary parameters for your simulation."
      ]
    },
    {
      "cell_type": "code",
      "execution_count": null,
      "metadata": {
        "id": "JPqS-mW0CuPq"
      },
      "outputs": [],
      "source": [
        "pdb = PDBFile('ala_ala_ala.pdb')\n",
        "forcefield = ForceField('amber14-all.xml')\n",
        "system = forcefield.createSystem(pdb.topology)\n",
        "\n",
        "for i, f in enumerate(system.getForces()):\n",
        "    f.setForceGroup(i)\n",
        "\n",
        "\n",
        "integrator = VerletIntegrator(0.001*picoseconds)\n",
        "simulation = Simulation(pdb.topology, system, integrator)\n",
        "simulation.context.setPositions(pdb.positions)\n",
        "simulation.context.setVelocitiesToTemperature(300*kelvin)\n",
        "\n",
        "# Perform local energy minimization\n",
        "print(\"Minimizing energy...\")\n",
        "simulation.minimizeEnergy(maxIterations=1000)"
      ]
    },
    {
      "cell_type": "markdown",
      "metadata": {},
      "source": [
        "You're ready to run the simulation! Execute the next code cell to simulate 1000 steps of Newton's equations of motion, using the AMOEBA forcefield (we will use this more extensively in the workshops for this part of the course). "
      ]
    },
    {
      "cell_type": "code",
      "execution_count": null,
      "metadata": {
        "colab": {
          "base_uri": "https://localhost:8080/"
        },
        "id": "oiUnTsMuDEYz",
        "outputId": "3b919109-9ce7-4210-c73d-64a1198f183e"
      },
      "outputs": [],
      "source": [
        "total_steps = 1000\n",
        "report_interval = 10\n",
        "ncols = 5  # total energy columns, we will only show 4 of them in col_order\n",
        "\n",
        "# Prepare force names once\n",
        "names = [f.getName() for f in system.getForces()]\n",
        "nrows = (len(names) + ncols - 1) // ncols\n",
        "\n",
        "# Pad to fill full column layout\n",
        "while len(names) < nrows * ncols:\n",
        "    names.append(\"\")\n",
        "\n",
        "# Column order for display: col0, col4, col1, col2\n",
        "col_order = [0, 4, 1, 2]\n",
        "\n",
        "# Print headers\n",
        "# print(\"\\nForce Field Components (kJ/mol):\")\n",
        "# for row in range(nrows):\n",
        "#     headers = [\"{:<10}\".format(\"Step #\")]\n",
        "#     headers += [f\"{names[col*nrows + row]:>22}\" for col in col_order]\n",
        "#     if row == 0:\n",
        "#         headers += [f\"{'Total PE':>22}\", f\"{'Total KE':>22}\"]\n",
        "#     print(\"\".join(headers))\n",
        "\n",
        "# Step and print values\n",
        "for step in range(0, total_steps, report_interval):\n",
        "    simulation.step(report_interval)\n",
        "\n",
        "    # Get per-force energies\n",
        "    energies = []\n",
        "    for i in range(len(system.getForces())):\n",
        "        state = simulation.context.getState(getEnergy=True, groups={i})\n",
        "        energy = state.getPotentialEnergy().value_in_unit(kilojoules_per_mole)\n",
        "        energies.append(energy)\n",
        "\n",
        "    # Pad energies\n",
        "    while len(energies) < nrows * ncols:\n",
        "        energies.append(\"\")\n",
        "\n",
        "    # Get global state for total potential energy and temperature\n",
        "    global_state = simulation.context.getState(getEnergy=True)\n",
        "    total_PE = global_state.getPotentialEnergy().value_in_unit(kilojoules_per_mole)\n",
        "    total_KE = global_state.getKineticEnergy().value_in_unit(kilojoules_per_mole)\n",
        "\n",
        "    # # Print formatted rows\n",
        "    # for row in range(nrows):\n",
        "    #     values = [f\"{step + report_interval:<10}\"]\n",
        "    #     values += [\n",
        "    #         f\"{energies[col*nrows + row]:22.5e}\" if isinstance(energies[col*nrows + row], float)\n",
        "    #         else f\"{'':>22}\"\n",
        "    #         for col in col_order\n",
        "    #     ]\n",
        "    #     if row == 0:\n",
        "    #         values += [f\"{total_PE:22.5e}\", f\"{total_KE:22.5e}\"]\n",
        "    #     print(\"\".join(values))"
      ]
    },
    {
      "cell_type": "markdown",
      "metadata": {},
      "source": [
        "With your MD trajectory complete, run the next cell to generate the main result that you need to analyse for your first homework submission. "
      ]
    },
    {
      "cell_type": "code",
      "execution_count": null,
      "metadata": {
        "colab": {
          "base_uri": "https://localhost:8080/",
          "height": 417
        },
        "id": "e61v6vI6Jg1F",
        "outputId": "e98b5a6d-be2b-47a6-c90b-7f045acb01a1"
      },
      "outputs": [],
      "source": [
        "# Column order used in printout\n",
        "col_order = [0, 4, 1, 2]\n",
        "ncols = 5\n",
        "nrows = (len(system.getForces()) + ncols - 1) // ncols\n",
        "\n",
        "# Get and pad force names\n",
        "names = [f.getName() for f in system.getForces()]\n",
        "while len(names) < nrows * ncols:\n",
        "    names.append(\"\")\n",
        "\n",
        "# Labels for the selected columns\n",
        "column_labels = []\n",
        "for col in col_order:\n",
        "    idx = col * nrows\n",
        "    column_labels.append(names[idx])\n",
        "\n",
        "# Initialize data\n",
        "step_numbers = []\n",
        "force_group_energies = {label: [] for label in column_labels}\n",
        "total_PE = []\n",
        "total_KE = []\n",
        "\n",
        "# Reset simulation\n",
        "simulation.context.setPositions(pdb.positions)\n",
        "simulation.minimizeEnergy(maxIterations=1000)\n",
        "\n",
        "# Collect data\n",
        "for step in range(0, total_steps, report_interval):\n",
        "    simulation.step(report_interval)\n",
        "    step_number = step + report_interval\n",
        "    step_numbers.append(step_number)\n",
        "\n",
        "    # Per-force energies\n",
        "    energies = []\n",
        "    for i in range(len(system.getForces())):\n",
        "        state = simulation.context.getState(getEnergy=True, groups={i})\n",
        "        energy = state.getPotentialEnergy().value_in_unit(kilojoules_per_mole)\n",
        "        energies.append(energy)\n",
        "\n",
        "    while len(energies) < nrows * ncols:\n",
        "        energies.append(np.nan)\n",
        "\n",
        "    for col, label in zip(col_order, column_labels):\n",
        "        idx = col * nrows\n",
        "        force_group_energies[label].append(energies[idx])\n",
        "\n",
        "    # Global energies\n",
        "    state_global = simulation.context.getState(getEnergy=True)\n",
        "    total_PE.append(state_global.getPotentialEnergy().value_in_unit(kilojoules_per_mole))\n",
        "    total_KE.append(state_global.getKineticEnergy().value_in_unit(kilojoules_per_mole))\n",
        "\n",
        "# Plotting in 2x1 grid (side-by-side)\n",
        "fig, (ax1, ax2) = plt.subplots(nrows=1, ncols=2, figsize=(14, 5), sharex=True)\n",
        "\n",
        "# Left: Force group energies\n",
        "for label in force_group_energies:\n",
        "    ax1.plot(step_numbers, force_group_energies[label], label=label)\n",
        "ax1.set_title(\"Force Field Components\")\n",
        "ax1.set_xlabel(\"Simulation Step\")\n",
        "ax1.set_ylabel(\"Energy (kJ/mol)\")\n",
        "ax1.legend()\n",
        "ax1.grid(True)\n",
        "\n",
        "# Right: Total PE and KE\n",
        "ax2.plot(step_numbers, total_PE, label=\"Total potential energy\", color='tab:blue')\n",
        "ax2.plot(step_numbers, total_KE, label=\"Total kinetic energy\", color='tab:orange')\n",
        "ax2.set_title(\"Total Energies\")\n",
        "ax2.set_xlabel(\"Simulation Step\")\n",
        "ax2.set_ylabel(\"Energy (kJ/mol)\")\n",
        "ax2.legend()\n",
        "ax2.grid(True)\n",
        "\n",
        "plt.tight_layout()\n",
        "plt.show()"
      ]
    },
    {
      "cell_type": "markdown",
      "metadata": {
        "id": "YNLZIRrsFs0k"
      },
      "source": [
        "# Questions\n",
        "\n",
        "1. Why is the total NonbondedForce always negative? Explain your answer in terms of the physical interactions included in this term.\n",
        "1. Why are the total Harmonic bond and angle energies always positive? Explain your answer in terms of the formulation of these two forcefield components.\n",
        "1. Why is the total kinetic energy always positive?\n",
        "1. How are the force field components related to the total potential energy, and the total kinetic energy?\n",
        "1. What do you notice about the total potential and kinetic energy throughout the entire simulation? What fundamental universal principal is responsible for this? "
      ]
    }
  ],
  "metadata": {
    "colab": {
      "authorship_tag": "ABX9TyPsWciQIwooAahU1rJS+kkd",
      "include_colab_link": true,
      "provenance": []
    },
    "kernelspec": {
      "display_name": "Python 3",
      "name": "python3"
    },
    "language_info": {
      "name": "python"
    },
    "widgets": {
      "application/vnd.jupyter.widget-state+json": {
        "d9da31c2402f465787f3c877e8e8ed8e": {
          "model_module": "nglview-js-widgets",
          "model_module_version": "3.1.4",
          "model_name": "ColormakerRegistryModel",
          "state": {
            "_dom_classes": [],
            "_model_module": "nglview-js-widgets",
            "_model_module_version": "3.1.4",
            "_model_name": "ColormakerRegistryModel",
            "_msg_ar": [],
            "_msg_q": [],
            "_ready": false,
            "_view_count": null,
            "_view_module": "nglview-js-widgets",
            "_view_module_version": "3.1.4",
            "_view_name": "ColormakerRegistryView",
            "layout": "IPY_MODEL_d35034fdec3147e19d1e82fc41c1a6f2",
            "tabbable": null,
            "tooltip": null
          }
        }
      }
    }
  },
  "nbformat": 4,
  "nbformat_minor": 0
}
