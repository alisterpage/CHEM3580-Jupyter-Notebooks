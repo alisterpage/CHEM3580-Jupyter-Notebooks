{
 "cells": [
  {
   "cell_type": "markdown",
   "id": "1fe701e6-e1e0-44b3-8743-a884b7b591b5",
   "metadata": {
    "tags": []
   },
   "source": [
    "# Workshop 1 - Water #"
   ]
  },
  {
   "cell_type": "markdown",
   "id": "97cd2eed-6c4c-486c-a81c-a9ac9c9306ff",
   "metadata": {
    "tags": []
   },
   "source": [
    "## Introduction ##"
   ]
  },
  {
   "cell_type": "markdown",
   "id": "a00c54e4-84a7-4018-b1f9-5f479a147eb9",
   "metadata": {},
   "source": [
    "Water is the most common and important chemical solvent - it is not only central to life, it plays a critical role in colloid, interface and soft matter systems. Solvents such as water are typically handled in MD simulations via distinct force fields called _**solvent models**_, designed specifically to describe a solvent environment around a solute (e.g. micelle, polymer, protein) as accurately and efficiently as possible. Solvent models constitute a distinct group of MD force fields – they consist of parameters that are optimized to reproduce specific experimental properties of that particular liquid, such as density, enthalpies of vaporization and self-diffusion coefficients. \n",
    "\n",
    "As with any MD simulation, to simulate liquid water we must provide information about each water molecule’s initial position and velocity, as well as the forces that water molecules exert on each other. However, solvent water models involve additional parameters, such as whether each water molecule is flexible, or held fixed (and if so, what the geometry of each water molecule is), how the charge is distributed within each water molecule, and how each water molecule interacts with those around it via van der Waals interactions. Each of these parameters greatly affect how physically realistic the water model’s characteristics are. Each different water model will therefore have its own successes and weaknesses. \n"
   ]
  },
  {
   "cell_type": "markdown",
   "id": "3db85135-dfc4-45bb-b678-6ed8b247de9f",
   "metadata": {
    "tags": []
   },
   "source": [
    "### MD Water Models ###"
   ]
  },
  {
   "cell_type": "markdown",
   "id": "59a74d17-8616-4d52-bbaf-7e035193d134",
   "metadata": {},
   "source": [
    "A perfect model of liquid water would use quantum mechanics to exactly solve the system's Schrödinger equation, an impossible task, even on modern computers. Instead, assumptions are made to create water ‘models’ designed for different purposes to speed things up. Water models generally fix the geometry of individual molecules and replace their H and O atoms with point charges and describe van der Waal interactions via a simple Lennard-Jones potential. In other words, the energy of water is described by, \n",
    "\n",
    "$$E_{ab} = \\sum_{i}^{i \\in \\text{mol. A}}\\sum_{j}^{j \\in \\text{mol. B}}\\frac{k_C q_i q_j}{r_ij} + \\frac{A}{r_{OO}^{12}} - \\frac{B}{r_{OO}^{6}}$$\n",
    "\n",
    "Notice that this expression does not depend on the distance between H and O atoms in the **same** water molecule. This means that the geometry in each water molecule is fixed. The total interaction between pairs of water molecules using this model therefore arises from 3 sites, and is just the sum of their electrostatic interaction (the first term), and their van der Waals interactions (the 2nd and 3rd terms). The latter is assumed to arise only from the oxygen atom. \n",
    "\n",
    "Simulating liquid water with 3-site water models therefore only requires **4 parameters** ($q_{O}$, $q_{H}$, $A$ and $B$) - this makes MD calculations extremely efficient. However, since there are only 4 parameters, water models are notoriously inflexible. For instance, values of $q_{O}$, $q_{H}$, $A$ and $B$ that give an accurate prediction of one property, such as water density, may give an inaccurate prediction of the heat of vaporisation. In the Table below, TIP3P and SPC/E are both examples of 3-site water models - we will be using TIP3P in this workhsop. \n",
    "\n",
    "One of the most popular attempts to solve this problem is to introduce \"fake\" atoms into the water molecule structure. These fictitious **dummy atoms** (\"M\") atoms have no mass, but a non-zero charge. They are generally placed near the oxygen atom, effectively changing the water molecule's dipole moment - and therefore the  electrostatic and van der Waals interactions between pairs of water molecules. Effectively the presence of the dummy atom in this water model mimics, in a crude way, the presence of the oxygen lone electron pairs. Such \"4-site\" water models rely on **5 parameters** ($q_{O}$, $q_{H}$,$q_{M}$, $A$ and $B$), so have an increased degree of flexibility and can predict some properties of liquid water more accurately. However this comes at the cost of (1) having to determine what the charge on the dummy atom M is, and where it should reside in the water molecule (see **r(OM)** in the table below). More importantly, the inclusion of an additional atom in the force field means that MD simulations will be slightly less efficient. In the Table below, TIP4P-Ew, TIP4P/Ice, TIP4P/2005 and OPC are all examples of 4-site water models, each designed to predict some specific property of water (for instance, the parameters of the TIP4P/Ice model were specifically designed for simulating different phases of solid water). In this workshop we will examine the performance of TIP4P-Ew.\n",
    "\n",
    "Yet more advanced water models have also been developed, such as the 5- and 6-site water models. An example of the 5-site water model is shown below - instead of a single dummy atom M, 5-site water models incorporate a pair of dummy atoms (\"L\") that mimic more accurately the position of the oxygen lone electron pairs. 6-site models incorporate these lone pair dummy atoms and the 4-site dummy atom M together. The incorporation of multiple dummy atoms generally improves the prediction of these models, but with a significant increase in model complexity and simulation  efficiency.\n",
    "\n",
    "\n",
    "\n"
   ]
  },
  {
   "cell_type": "markdown",
   "id": "6d0a758c-e175-44c6-94ef-3ebe008f923a",
   "metadata": {},
   "source": [
    "<img src=\"https://upload.wikimedia.org/wikipedia/commons/thumb/9/92/Water_models.svg/1024px-Water_models.svg.png\" align=\"center\"/>"
   ]
  },
  {
   "cell_type": "markdown",
   "id": "12ce043b-d25e-4a23-b3dd-cb31ea1b3f2b",
   "metadata": {
    "tags": []
   },
   "source": [
    "**Examples of 3- & 4-Site Water Models**\n",
    "| Model | $q_{O}$ (e) | $q_{H}$ (e) | $q_{M}$ (e) | r(OH) ($\\mathring A$) | $\\theta_{\\text{HOH}}$ (deg.) |  r(OM) ($\\mathring A$)  | A ($10^{3}$kcal$\\mathring A^{12}$mol$^{-1}$)  | B  ($10^{3}$kcal$\\mathring A^{12}$mol$^{-1}$) |\n",
    "| --- | --- | --- | --- | --- | --- | --- | --- | --- |\n",
    "| TIP3P | -0.834 | +0.417| -  | 0.9572 | 104.52 | - | 582.0 | 595.0 | \n",
    "| SPC/E | -0.8476 | +0.4238 | - | 1.0 | 109.47 | - | 629.4 | 625.5 |\n",
    "| TIP4P-Ew | - | +0.52422 | −1.04844 | 0.9572 | 104.52 | 0.125 | 656.1  | 653.5  |\n",
    "| TIP4P/Ice | - | +0.5897 | −1.1794 | 0.9572 | 104.52 | 0.1577 | 857.9  | 850.5 |\n",
    "| TIP4P/2005 | - | +0.5564 | −1.1128 | 0.9572 | 104.52 | 0.1577 | 731.3  | 736.0 |\n",
    "| OPC | | +0.6791 |  −1.3582 | 0.8724 | 103.6 | 0.1546 | 865.1 | 858.1 |\n",
    "| **Exp. water (gas-phase)**  |- |- | - | **0.9572** | **104.52** | - | - |"
   ]
  },
  {
   "cell_type": "markdown",
   "id": "3b456d31-9fdc-4527-a11b-615afa1e019a",
   "metadata": {
    "tags": []
   },
   "source": [
    "### Workshop Aims ###"
   ]
  },
  {
   "cell_type": "markdown",
   "id": "5d4a1ef5-1b15-404c-a9a8-def1f9adf137",
   "metadata": {},
   "source": [
    "In this workshop, we examine how well 3- and 4-site water models reproduce structural and dynamic properties of water under various physical conditions.\n",
    "\n",
    "The workshop addresses three questions:\n",
    " \n",
    "1. How reliable are the TIP3P and TIP4P-Ew  water models in reproducing the experimental density for liquid water at 298 K and 1 atm?\n",
    "1. How reliable are the TIP3P and TIP4P-Ew  water models in reproducing the structure of water at 298 K and 1 atm?\n",
    "1. How reliable are the TIP3P and TIP4P-Ew  water models in reproducing the self-diffusion dynamics of water at 298 K and 1 atm?\n"
   ]
  },
  {
   "cell_type": "markdown",
   "id": "75992d51-5e9e-4a95-b0ca-a5c6d43f64a7",
   "metadata": {
    "tags": []
   },
   "source": [
    "## Simulating Bulk Water ##"
   ]
  },
  {
   "cell_type": "markdown",
   "id": "f7db7891-1379-4ade-892b-aa71846259b4",
   "metadata": {
    "tags": []
   },
   "source": [
    "### TIP3P Water Simulation ###"
   ]
  },
  {
   "cell_type": "markdown",
   "id": "ed778f9b-6910-4846-b6b0-60903bf05510",
   "metadata": {},
   "source": [
    "#### Setting Things Up  ###"
   ]
  },
  {
   "cell_type": "markdown",
   "id": "6aed1780-b15b-46cc-b8fb-edc5aa2e5f36",
   "metadata": {},
   "source": [
    "First things first - as we saw in the previous introductory exercise, several modules need to be first loaded into our Jupyter notebook so that we can run our MD simulation. Let's take care of this now:"
   ]
  },
  {
   "cell_type": "code",
   "execution_count": null,
   "id": "d6c4f519-3de9-4f0e-a0ea-b7cb4aba6033",
   "metadata": {},
   "outputs": [],
   "source": [
    "from openmm.app import *\n",
    "from openmm import *\n",
    "from openmm.unit import *\n",
    "from sys import stdout\n",
    "import re\n",
    "import time\n",
    "import numpy as np"
   ]
  },
  {
   "cell_type": "markdown",
   "id": "2f6e173b-37a8-4d62-ba76-fc35078d4265",
   "metadata": {},
   "source": [
    "Now let's define the physical parameters of our simulation. You can use the panels below to change them, however for now it is ok to leave them at their present values. "
   ]
  },
  {
   "cell_type": "code",
   "execution_count": null,
   "id": "7960ece1-4d0b-409a-b726-23304e7a6d1e",
   "metadata": {
    "tags": []
   },
   "outputs": [],
   "source": [
    "import ipywidgets as widgets \n",
    "from IPython.display import display\n",
    "\n",
    "#SIMULATION TEMPERATURE\n",
    "# create a float text widget to input variable\n",
    "temp_text = widgets.FloatText(\n",
    "    value=298.0,  # default value \n",
    "    description='Simulation Temperature (K):',\n",
    "    step=1.0,  # step size\n",
    ")\n",
    "# adjust the layout of the widget\n",
    "temp_text.layout.width = 'auto'\n",
    "temp_text.style.description_width = 'initial'\n",
    "# define a function to update the variable\n",
    "def update_temp_text(change):\n",
    "    global simTemperature\n",
    "    simTemperature = change.new\n",
    "# register the update function with the widget\n",
    "temp_text.observe(update_temp_text, 'value')\n",
    "# display the widget\n",
    "display(temp_text)\n",
    "# access the selected temperature value\n",
    "simTemperature = temp_text.value*kelvin\n",
    "\n",
    "#BOXSIZE\n",
    "# create a float text widget to input variable\n",
    "temp_text = widgets.FloatText(\n",
    "    value=24.0,  # default value \n",
    "    description='Box Size (Angstrom):',\n",
    "    step=1.0,  # step size \n",
    ")\n",
    "# adjust the layout of the widget\n",
    "temp_text.layout.width = 'auto'\n",
    "temp_text.style.description_width = 'initial'\n",
    "# define a function to update the variable\n",
    "def update_temp_text(change):\n",
    "    global boxsize\n",
    "    boxsize = change.new\n",
    "# register the update function with the widget\n",
    "temp_text.observe(update_temp_text, 'value')\n",
    "# display the widget\n",
    "display(temp_text)\n",
    "# access the selected temperature value\n",
    "boxsize = temp_text.value\n",
    "\n",
    "#TIMESTEP\n",
    "# create a float text widget to input variable\n",
    "temp_text = widgets.FloatText(\n",
    "    value=1.0,  # default value \n",
    "    description='Time step (fs):',\n",
    "    step=0.5,  # step size \n",
    ")\n",
    "# adjust the layout of the widget\n",
    "temp_text.layout.width = 'auto'\n",
    "temp_text.style.description_width = 'initial'\n",
    "# define a function to update the variable\n",
    "def update_temp_text(change):\n",
    "    global simTimestep\n",
    "    simTimestep = change.new\n",
    "# register the update function with the widget\n",
    "temp_text.observe(update_temp_text, 'value')\n",
    "# display the widget\n",
    "display(temp_text)\n",
    "# access the selected temperature value\n",
    "simTimestep = temp_text.value*femtoseconds\n",
    "\n",
    "#PRESSURE\n",
    "# create a float text widget to input variable\n",
    "temp_text = widgets.FloatText(\n",
    "    value=1.0,  # default value \n",
    "    description='Simulation pressure (atm):',\n",
    "    step=0.10,  # step size \n",
    ")\n",
    "# adjust the layout of the widget\n",
    "temp_text.layout.width = 'auto'\n",
    "temp_text.style.description_width = 'initial'\n",
    "# define a function to update the variable\n",
    "def update_temp_text(change):\n",
    "    global simPressure\n",
    "    simPressure = change.new\n",
    "# register the update function with the widget\n",
    "temp_text.observe(update_temp_text, 'value')\n",
    "# display the widget\n",
    "display(temp_text)\n",
    "# access the selected temperature value\n",
    "simPressure = temp_text.value*atmospheres\n",
    "\n",
    "#STEPS\n",
    "# create a float text widget to input variable\n",
    "temp_text = widgets.FloatText(\n",
    "    value=100000,  # default value \n",
    "    description='# MD steps:',\n",
    "    step=100,  # step size \n",
    ")\n",
    "# adjust the layout of the widget\n",
    "temp_text.layout.width = 'auto'\n",
    "temp_text.style.description_width = 'initial'\n",
    "# define a function to update the variable\n",
    "def update_temp_text(change):\n",
    "    global simNumSteps\n",
    "    simNumSteps = change.new\n",
    "# register the update function with the widget\n",
    "temp_text.observe(update_temp_text, 'value')\n",
    "# display the widget\n",
    "display(temp_text)\n",
    "# access the selected temperature value\n",
    "simNumSteps = temp_text.value"
   ]
  },
  {
   "cell_type": "markdown",
   "id": "350ae7bc-5ed7-42be-b489-193754b238a9",
   "metadata": {},
   "source": [
    "The parameters above do not specify the the # of waters we will place in our simulation box. But knowing the size of the box, and the density of water (0.9987 g/cm$^3$ at STP) we can work out how many waters we will have:"
   ]
  },
  {
   "cell_type": "code",
   "execution_count": null,
   "id": "0108bed4-1a4c-44a0-a6ac-a12fc8452d46",
   "metadata": {},
   "outputs": [],
   "source": [
    "density=0.99705\n",
    "water=int(boxsize**3*density*1e6*(1e-10)**3/(18.01)*6.02214e23)\n",
    "print(\"Box size of\",boxsize,\"angstroms at density,\",density,\"g/cm3 requires \",water,\" water molecules\")"
   ]
  },
  {
   "cell_type": "markdown",
   "id": "4a0996ea-5430-48ae-844f-ac8f8cc72417",
   "metadata": {},
   "source": [
    "For now, you can leave these parameters unchanged from their default values. Let's make sure their stored correctly by executing the next cell:"
   ]
  },
  {
   "cell_type": "code",
   "execution_count": null,
   "id": "a8d6d9c5-3b2e-4888-9d82-180d17d62d8d",
   "metadata": {},
   "outputs": [],
   "source": [
    "print(f\"Simulation size: {water} waters\")\n",
    "print(f\"Box size: {boxsize} Ang.\")\n",
    "print(f\"Simulation temperature: {simTemperature}\")\n",
    "print(f\"Simulation pressure: {simPressure}\")\n",
    "print(f\"Simulation time step: {simTimestep}\")\n",
    "print(f\"# MD steps: {simNumSteps} ; Total simulation length: {simNumSteps * simTimestep} = {simNumSteps*simTimestep / 1000 / 1000 / femtoseconds * nanoseconds}.\")\n",
    "pdbFile = 'system.pdb'"
   ]
  },
  {
   "cell_type": "markdown",
   "id": "002586bd-ca8d-4806-b9e1-54fa01605940",
   "metadata": {},
   "source": [
    "#### Generating the Unit Cell ####"
   ]
  },
  {
   "cell_type": "markdown",
   "id": "b993e4ae-64a5-4c60-bb25-dfb0a2248490",
   "metadata": {},
   "source": [
    "With the parameters for our simulation now defined, we need to generate the actual \"box\" of water molecules that we will use for the simulation. We will use an external program call ```packmol``` to do this. ```packmol``` is widely used for generating condensed phase systems in biology, materials science and colloid & interface science. Here we are only generating a water box, but it is capable of [much more complicated stuff](https://m3g.github.io/packmol/examples.shtml) as well. \n",
    "\n",
    "To start with, we will prepare the input file, ```packmol.in```, that ```packmol``` will go looking for. This input file tells ```packmol``` to build a box of waters according to the parameters that you just set above:"
   ]
  },
  {
   "cell_type": "code",
   "execution_count": null,
   "id": "33f27559-0fe0-4b1e-a6fa-2718a72f2147",
   "metadata": {},
   "outputs": [],
   "source": [
    "with open(\"packmol.in\", \"w\") as f:\n",
    "    f.write(\"tolerance 2.0\\n\")\n",
    "    f.write(\"filetype pdb\\n\")\n",
    "    f.write(\"output system.pdb\\n\")\n",
    "    f.write(\"\\n\")\n",
    "    f.write(\"structure water.pdb\\n\")\n",
    "    f.write(\"  number {0}\\n\".format(int(water)))\n",
    "    f.write(\"  inside cube 2. 2. 2. {0}\\n\".format(boxsize))\n",
    "    f.write(\"end structure\\n\")\n",
    "    f.write(\"\\n\")\n",
    "    f.write(\"add_box_sides 1.0\\n\")\n"
   ]
  },
  {
   "cell_type": "markdown",
   "id": "c710b7a0-2b80-466e-bd16-2d278d0a14af",
   "metadata": {},
   "source": [
    "Now we run ```packmol``` itself, and make sure that everything worked ok:"
   ]
  },
  {
   "cell_type": "code",
   "execution_count": null,
   "id": "0c0cc273-72ed-4169-87f5-8b346873f4de",
   "metadata": {},
   "outputs": [],
   "source": [
    "#%%bash\n",
    "!/home/chem3580/Downloads/ENTER/envs/openMM/bin/packmol < packmol.in > packmol.out"
   ]
  },
  {
   "cell_type": "code",
   "execution_count": null,
   "id": "31d487e5-2676-4b34-99a3-0e2490f9d8be",
   "metadata": {
    "scrolled": true,
    "tags": []
   },
   "outputs": [],
   "source": [
    "with open('packmol.out', 'r') as f:\n",
    "    text = f.read()\n",
    "    print(text)"
   ]
  },
  {
   "cell_type": "markdown",
   "id": "6ae67490-fca2-4218-a551-75ef9c65ead8",
   "metadata": {},
   "source": [
    "Let's take a look at the simulation box that you've just generated: "
   ]
  },
  {
   "cell_type": "code",
   "execution_count": null,
   "id": "3d2d8471-ce12-4e9a-9c87-2d6084d67dc1",
   "metadata": {
    "scrolled": true,
    "tags": []
   },
   "outputs": [],
   "source": [
    "with open('system.pdb', 'r') as f:\n",
    "    text = f.read()\n",
    "    print(text)"
   ]
  },
  {
   "cell_type": "markdown",
   "id": "2667f66d-0c96-479e-b260-f524ae425c01",
   "metadata": {},
   "source": [
    "Notice here that the only particles in the simulation box so far are hydrogen and oxygen atoms. This is fine for the TIP3P water model, however a bit later we will have to adjust this file to include the \"M\" dummy atoms when we use the TIP4P water model. "
   ]
  },
  {
   "cell_type": "markdown",
   "id": "d12a59f6-d8d1-4d3c-b5f2-14efcae60c75",
   "metadata": {},
   "source": [
    "#### Defining the MD Simulation ####"
   ]
  },
  {
   "cell_type": "markdown",
   "id": "911ada96-8d9d-4a41-a10b-ff7282765ffa",
   "metadata": {},
   "source": [
    "We are now ready to setup the MD simulation objects using the ```OpenMM``` python module. The process for this is _exactly_ the same as that in the introductory workshop - we need to define: \n",
    "\n",
    "1. What forcefield we are going to use (this defines how bonded and non-bonded atoms interact with each other)\n",
    "1. What the system topology is (i.e. which atoms are connected to which atoms etc.)\n",
    "1. How we will control the simulation temperature and pressure (e.g. using a _thermostat_ or a _barostat_), and\n",
    "1. How we will iterate Newton's equations of motion (i.e. the _integrator_)\n",
    "\n",
    "Run the cells below. They will setup the simulation in the following way: \n",
    "\n",
    "1. We will apply the TIP3P water model forcefield and store it in  the ```tip3p_forcefield``` object. \n",
    "1. We combine the ```tip3p_forcefield``` object with the topology in our PDB file ```system.pdb``` (generated above using packmol) to define the MD simulation, which we store in the ```tip3p_system``` object. \n",
    "1. We add a barostat (the ```MonteCarloBarostat```) to the simulation using ```OpenMM```'s ```addForce``` module. \n",
    "1. We use ```OpenMM```'s ```NoseHooverIntegrator``` to iterate the equations of motion.\n"
   ]
  },
  {
   "cell_type": "code",
   "execution_count": null,
   "id": "e7140148-05de-4d14-a438-81f4fc470732",
   "metadata": {},
   "outputs": [],
   "source": [
    "pdb = PDBFile('system.pdb')"
   ]
  },
  {
   "cell_type": "code",
   "execution_count": null,
   "id": "5463d0f2-90e4-4ce7-8b22-736d24924bce",
   "metadata": {},
   "outputs": [],
   "source": [
    "tip3p_forcefield = ForceField('tip3p.xml')"
   ]
  },
  {
   "cell_type": "code",
   "execution_count": null,
   "id": "f5f2f0be-2701-45c3-8474-a73be25f78c1",
   "metadata": {},
   "outputs": [],
   "source": [
    "tip3p_system = tip3p_forcefield.createSystem(\n",
    "    pdb.topology,\n",
    "    nonbondedMethod=PME,\n",
    "    nonbondedCutoff=11*angstrom,\n",
    "    constraints=None,\n",
    "    rigidWater=False)"
   ]
  },
  {
   "cell_type": "code",
   "execution_count": null,
   "id": "1eb6dd30-c358-4a7a-abdf-b75e5c8461f4",
   "metadata": {},
   "outputs": [],
   "source": [
    "tip3p_system.addForce(MonteCarloBarostat(simPressure, simTemperature, 1))"
   ]
  },
  {
   "cell_type": "code",
   "execution_count": null,
   "id": "2b3d9190-1a08-4e96-ade5-f81bdb5e0fdf",
   "metadata": {},
   "outputs": [],
   "source": [
    "tip3p_integrator = NoseHooverIntegrator(\n",
    "    simTemperature, \n",
    "    1.0/picosecond, \n",
    "    simTimestep\n",
    ")"
   ]
  },
  {
   "cell_type": "markdown",
   "id": "e7dc62fd-878d-4aa0-91f8-14ace6ee9fe0",
   "metadata": {},
   "source": [
    "Finally, we tie all of these details together in the ```tip3p_simulation``` object, via ```OpenMM```'s ```Simulation``` module:"
   ]
  },
  {
   "cell_type": "code",
   "execution_count": null,
   "id": "95c000be-00c2-4602-b3c6-3d7b575378b9",
   "metadata": {},
   "outputs": [],
   "source": [
    "tip3p_simulation = Simulation(pdb.topology, tip3p_system, tip3p_integrator)\n",
    "tip3p_simulation.context.setPositions(pdb.positions)"
   ]
  },
  {
   "cell_type": "markdown",
   "id": "5d3077bb-eda2-46c0-acde-3f759ca5a18a",
   "metadata": {},
   "source": [
    "Now we are ready to run!! \n",
    "\n",
    "First things first - we have to minimise the energy of our water box to a local minimum on the potential energy surface. Run the next cell to do this: "
   ]
  },
  {
   "cell_type": "code",
   "execution_count": null,
   "id": "1040f558-2763-4cdb-9c63-2bada30ef8d4",
   "metadata": {},
   "outputs": [],
   "source": [
    "print(\"Running Energy Minimisation:\")\n",
    "t0 = time.time()\n",
    "tip3p_simulation.minimizeEnergy()\n",
    "t1 = time.time()\n",
    "minTime = t1-t0\n",
    "print(\"Minimisation took {} seconds\".format(minTime))"
   ]
  },
  {
   "cell_type": "markdown",
   "id": "4fbecc58-2fcd-4adf-9ef4-b7f5a08b8abb",
   "metadata": {},
   "source": [
    "The arrangement of waters in your box should now correspond to a local energy minimisation, meaning that you are good to go - run the MD simulation!\n",
    "\n",
    "Before we do though, we want to make sure that we store the relevant data from the MD trajectory. The cell below will take care of this for you, and will track the progress of the MD simulation in a file ```tip3p_Equil.dcd```:"
   ]
  },
  {
   "cell_type": "code",
   "execution_count": null,
   "id": "1cb59a3f-c662-4021-8671-5d2d3dd6de43",
   "metadata": {},
   "outputs": [],
   "source": [
    "tip3p_simulation.reporters.append(DCDReporter('tip3p_water.dcd', 10))\n",
    "tip3p_simulation.reporters.append(StateDataReporter(\n",
    "    'tip3p_water.csv', \n",
    "    10, \n",
    "    step=True,\n",
    "    temperature=True, \n",
    "    potentialEnergy=True, \n",
    "    kineticEnergy=True,\n",
    "    totalEnergy=True, \n",
    "    volume=True, \n",
    "    density=True\n",
    "))"
   ]
  },
  {
   "cell_type": "markdown",
   "id": "20b5bfd0-207d-4922-a357-3a7ad56dfab3",
   "metadata": {},
   "source": [
    "Run the next cell to run your MD simulation!"
   ]
  },
  {
   "cell_type": "code",
   "execution_count": null,
   "id": "a7261396-04ff-4673-99bb-0b5dc3f0ede5",
   "metadata": {
    "tags": []
   },
   "outputs": [],
   "source": [
    "print('Start Simulation')\n",
    "t0 = time.time()\n",
    "tip3p_simulation.step(simNumSteps)\n",
    "t1 = time.time()\n",
    "simTime = t1-t0\n",
    "print(\"Simulation took {} seconds for {} timesteps\".format(simTime,simNumSteps)) "
   ]
  },
  {
   "cell_type": "markdown",
   "id": "daacbade-e51f-4d2b-b6a1-8a17285b50cf",
   "metadata": {
    "tags": []
   },
   "source": [
    "### TIP4P-Ew Water Simulation ###"
   ]
  },
  {
   "cell_type": "markdown",
   "id": "97926c57-33f0-4740-9cf1-13fa55611a94",
   "metadata": {},
   "source": [
    "We'll now re-simulate the same box of water using a different force field for a comparison. The setup is a little simpler here, since we do not have to load python modules, construct the simulation box with ```packmol```, define the MD simulation parameters etc. \n",
    "\n",
    "We only need to setup the new MD simulation object using ```OpenMM```. The process for this is _exactly_ the same as that above - recall, we need to define: \n",
    "\n",
    "1. What forcefield we are going to use (this defines how bonded and non-bonded atoms interact with each other)\n",
    "1. What the system topology is (i.e. which atoms are connected to which atoms etc.)\n",
    "1. How we will control the simulation temperature and pressure (e.g. using a _thermostat_ or a _barostat_), and\n",
    "1. How we will iterate Newton's equations of motion (i.e. the _integrator_)\n",
    "\n",
    "Run the cells below. They will setup the simulation in the following way: \n",
    "\n",
    "1. We will apply the TIP4P-Ew water model forcefield and store it in  the ```tip4pew_forcefield``` object. \n",
    "1. We combine the ```tip4pew_forcefield``` object with the topology in our PDB file ```system.pdb``` (generated above using packmol) to define the MD simulation, which we store in the ```tip4pew_system``` object. \n",
    "1. We add a barostat (the ```MonteCarloBarostat```) to the simulation using ```OpenMM```'s ```addForce``` module. \n",
    "1. We use ```OpenMM```'s ```NoseHooverIntegrator``` to iterate the equations of motion.\n",
    "\n",
    "Notice that we are only changing **1 aspect** of our MD simulation - the water model itself - _all other aspects of the MD simulation are the same._ This means that any & all differences between our TIP3P and TIP4P-Ew simulations can only be caused by the differences in the water models themselves. "
   ]
  },
  {
   "cell_type": "code",
   "execution_count": null,
   "id": "4280e789-162a-4ffc-a573-1bb699fbf088",
   "metadata": {},
   "outputs": [],
   "source": [
    "tip4pew_forcefield = ForceField('tip4pew.xml')"
   ]
  },
  {
   "cell_type": "code",
   "execution_count": null,
   "id": "aaa4dd75-6aac-4b61-b76d-d8c83db32e7d",
   "metadata": {},
   "outputs": [],
   "source": [
    "modeller = Modeller(pdb.topology, pdb.positions)\n",
    "modeller.addExtraParticles(tip4pew_forcefield)\n",
    "PDBFile.writeFile(modeller.topology, modeller.positions, open('system_tip4pew.pdb', 'w'))\n",
    "tip4pew_pdb = PDBFile('system_tip4pew.pdb','M')"
   ]
  },
  {
   "cell_type": "code",
   "execution_count": null,
   "id": "987d30a5-9f21-4ec3-84d1-7ad48b2f98af",
   "metadata": {},
   "outputs": [],
   "source": [
    "tip4pew_system = tip4pew_forcefield.createSystem(tip4pew_pdb.topology,nonbondedMethod=PME,nonbondedCutoff=11*angstrom,constraints=None,rigidWater=False)\n",
    "tip4pew_system.addForce(MonteCarloBarostat(simPressure, simTemperature, 1))\n",
    "tip4pew_integrator = NoseHooverIntegrator(\n",
    "    simTemperature, \n",
    "    1.0/picosecond, \n",
    "    simTimestep\n",
    ")\n",
    "tip4pew_simulation = Simulation(tip4pew_pdb.topology, tip4pew_system, tip4pew_integrator)\n",
    "tip4pew_simulation.context.setPositions(tip4pew_pdb.positions)"
   ]
  },
  {
   "cell_type": "markdown",
   "id": "f01f6459-dcf4-4144-b18d-91eec897482f",
   "metadata": {},
   "source": [
    "You now have your TIP4P-Ew water MD simulation set up and ready to run. Now it's your turn to write some of your own code!"
   ]
  },
  {
   "cell_type": "markdown",
   "id": "f6f7aec8-3292-4c9d-add5-b296c6cc3cc3",
   "metadata": {},
   "source": [
    "#### Exercise ####"
   ]
  },
  {
   "cell_type": "markdown",
   "id": "81851a8e-9dc4-418f-8113-b23b7be630bd",
   "metadata": {},
   "source": [
    "1. Copy and paste the **energy minimisation** python code above from your TIP3P simulation, edit your new code as needed, and minimise the energy of your water simulation box using the TIP4P water model. _NOTE - remember to change 'tip3p' to 'tip4pew' in all variable names!_\n",
    "1. Copy and paste the **MD simulation** python code above from your TIP3P simulation, edit your new code as needed, and run the MD simulation of your water simulation box using the TIP4P water model. _NOTE - remember to tell your Jupyter notebook to record your trajectory in a DCD file first!!_\n",
    "\n",
    "##### Important Notes #####\n",
    "1. Insert as many code cells in the jupyter notebook below as you need. Try and keep your code as 'clean' as possible - it will help you solve and debug problems if and when they happen!\n",
    "1. If you get stuck, ask your demonstrator for help!\n",
    "1. <span style=\"color:red;\">REALLY IMPORTANT - make sure that you change all \"tip3p\" to \"tip4pew\" in your new code below. Otherwise you will destroy the TIP3P water simulation you just ran!</span>"
   ]
  },
  {
   "cell_type": "markdown",
   "id": "0a6bbbd3-d49e-4868-8b73-5496a0ab9381",
   "metadata": {},
   "source": [
    "## Analysis - Have we Reached Equilibrium?? ##"
   ]
  },
  {
   "cell_type": "markdown",
   "id": "5327f3cb-4dbb-44b0-81aa-f0fabf41bf5c",
   "metadata": {},
   "source": [
    "With our 2 water MD simulations now complete, the first thing we have to ensure is that we have equilibrated both systems. As we have discussed in the lectures, the thermodynamic variables that we expect to be equilibrated (i.e. be, on average, constant in the equilibrated simulation) depends on the _ensemble_ that we are enforcing on the system. Here we are using an **NPT ensemble**. This means we need to check that both the temperature and pressure have equilibrated. We will measure the latter via the system density (since a liquid's density is determined by the pressure imposed on it - if density is constant, then pressure must also have equilibrated). \n",
    "\n",
    "All of the information we need to check equilibration was stored in the ```tip3p_water.csv``` file above for the TIP3P simulation, and the file you specified for the TIP4P-ew simulation. Let's quickly take a look at the contents of these files: "
   ]
  },
  {
   "cell_type": "code",
   "execution_count": null,
   "id": "645cbc3e-fc84-4c87-a5ba-9bd0c28962ec",
   "metadata": {
    "scrolled": true,
    "tags": []
   },
   "outputs": [],
   "source": [
    "with open('tip3p_water.csv', 'r') as f:\n",
    "    text = f.read()\n",
    "    print(text)"
   ]
  },
  {
   "cell_type": "markdown",
   "id": "2311b436-0184-46a6-984e-317d3558c51a",
   "metadata": {},
   "source": [
    "This is a ```csv``` file (comma separated values), which can be easily imported into programs like MS Excel. It is just as easy though to quickly plot the data in this file using Python's ```Numpy``` module using the ```genfromtxt``` function. We will do this below and store the contents of this file in the variable ```data```:"
   ]
  },
  {
   "cell_type": "code",
   "execution_count": null,
   "id": "0504ffee-de9a-40f7-bd0f-b8313a549c4a",
   "metadata": {},
   "outputs": [],
   "source": [
    "data = np.genfromtxt('tip3p_water.csv', skip_header=1,delimiter=',')"
   ]
  },
  {
   "cell_type": "markdown",
   "id": "e2707f74-0042-463d-ab71-60049f6a974f",
   "metadata": {},
   "source": [
    "The variable ```data``` is a 2D array, where individual columns correspond to the columns in the file ```tip3p_water.csv```. The first column is the # of MD time steps in the MD simulation. In Python, this is not the 1st column in the ```data``` array, it is actually the 0th column. Let's use this column to define the array ```time``` which contains the physical times in picoseconds of these MD time steps: "
   ]
  },
  {
   "cell_type": "code",
   "execution_count": null,
   "id": "be8c9f73-703c-48ef-8f4b-8f6edc0dc3c2",
   "metadata": {},
   "outputs": [],
   "source": [
    "timestep=0.001 #units of ps\n",
    "time = data[:,0]*timestep"
   ]
  },
  {
   "cell_type": "markdown",
   "id": "6b1ab55f-94c3-4c70-bc84-b6c54b5fec45",
   "metadata": {},
   "source": [
    "We now want to store the temperature and density data columns in ```data``` - above we can see that these are the 4th and 6th columns, respectively:"
   ]
  },
  {
   "cell_type": "code",
   "execution_count": null,
   "id": "213960b3-fec2-43b5-ace8-55f2b2874223",
   "metadata": {},
   "outputs": [],
   "source": [
    "temperature = data[:,4]\n",
    "density = data[:,6]"
   ]
  },
  {
   "cell_type": "markdown",
   "id": "bf16dd18-042c-456f-87f3-6b02d2e9762b",
   "metadata": {},
   "source": [
    "With the time, temperature and density data now saved, we can use the ```matplotlib``` python module, as we have before, to show how the simulation temperature and density is changing over time: "
   ]
  },
  {
   "cell_type": "code",
   "execution_count": null,
   "id": "21ed51a2-8866-4fe2-bbeb-22a62d250e68",
   "metadata": {},
   "outputs": [],
   "source": [
    "import matplotlib.pyplot as plt\n",
    "plt.plot(time,density)\n",
    "plt.xlabel(\"Time (ps)\")\n",
    "plt.ylabel(\"Density (g/cm$^3$)\")\n",
    "plt.show()"
   ]
  },
  {
   "cell_type": "code",
   "execution_count": null,
   "id": "ebf0294e-a5a7-4be8-a83b-e83afc8d21b8",
   "metadata": {},
   "outputs": [],
   "source": [
    "plt.plot(time,temperature)\n",
    "plt.xlabel(\"Time (ps)\")\n",
    "plt.ylabel(\"Temperature (K)\")\n",
    "plt.show()"
   ]
  },
  {
   "cell_type": "markdown",
   "id": "5684fefe-07e8-4dfb-80ae-664227a3d27c",
   "metadata": {},
   "source": [
    "What are these two plots telling us? Firstly, looking at the evolution of simulation temperature vs time, we see that the initial temperature of the simulation is exactly 0 K - this is because our energy minimisation did not take into account thermal vibrations/motions of the molecules in the simulation. Once we start running the NPT-MD simulation itself, the temperature - very quickly - rises to ~298 K, which is the target temperature for ensemble. This is the effect of the **MD thermostat** that we have applied to the ensemble. In effect, the thermostat is forcing the motion of the atoms in the system to accelerate until the velocities of their velocities on average correspond to a constant value of 298 K. \n",
    "\n",
    "While this is happening, the density of the liquid gradually equilibrates to ~1 g/cm$^3$ - this is the effect of the **MD barostat** that we have applied to the ensemble. The barostat is not actually changing the density, rather it is changing the volume of the box (which depends on the surrounding pressure), but since the number of molecules in the simulation is constant, the density changes when the box volume changes. "
   ]
  },
  {
   "cell_type": "markdown",
   "id": "a55a0a46-f490-433f-a505-b6790ffbdad9",
   "metadata": {},
   "source": [
    "Have we equilibrated the simulation? Since we have an NPT ensemble, we need to consider if N, P and T are all approximately conserved within the timescale of the simulation:\n",
    "\n",
    "1. N - this is trivial, since it the number of molecules in the box are not chaning. \n",
    "1. P - Pressure varies quite significantly, but within the last ~20 ps of the simulation averages to a relatively constant value (which we will calculate in a moment). \n",
    "1. T - Temperature appears to be oscillating closely around our target temperature of 298 K within the first ~20 ps of the simulation, so this is conserved as well. \n",
    "\n",
    "What are the values of our simulation temperature and density? We can use Python's ```Numpy``` module to calculate these values quite easily using the code below. \n",
    "\n",
    "<span style=\"color:red;\">NOTE - the code below calculates the average density between 80-100 ps, and the average temperature between 20-100 ps. These ranges are appropriate based on the data above, but YOUR simulation may require you to specify different ranges in the code below.</span>\n",
    "\n"
   ]
  },
  {
   "cell_type": "code",
   "execution_count": null,
   "id": "a34a8f80-a2c7-4e99-bca2-ff09a2711f7e",
   "metadata": {},
   "outputs": [],
   "source": [
    "average_density=np.mean(density[8000:10000]) \n",
    "stdev_density=np.std(density[8000:10000])\n",
    "print(\"Density is\",average_density,\"+/-\",stdev_density,\" g/cm3\")\n",
    "average_temperature=np.mean(temperature[2000:10000])\n",
    "stdev_temperature=np.std(temperature[2000:10000])\n",
    "print(\"Temperature is\",average_temperature,\"+/-\",stdev_temperature,\" K\")"
   ]
  },
  {
   "cell_type": "markdown",
   "id": "5db378f0-1b4c-452b-91bd-0befca7fcd17",
   "metadata": {},
   "source": [
    "For this simulation, it appears that we have a converged NPT ensemble! This means that we can use it to reliably measure structural and dynamic properties of liquid water. "
   ]
  },
  {
   "cell_type": "code",
   "execution_count": null,
   "id": "42dc4346-6b71-4a2a-9aee-745ffd5b735a",
   "metadata": {},
   "outputs": [],
   "source": [
    "data = np.genfromtxt('tip4pew_water.csv', skip_header=1,delimiter=',')\n",
    "timestep=0.001 #units of ps\n",
    "time = data[:,0]*timestep\n",
    "density = data[:,6]\n",
    "temperature = data[:,4]"
   ]
  },
  {
   "cell_type": "code",
   "execution_count": null,
   "id": "c8a810ad-c199-445e-8202-e94d6ab1d97b",
   "metadata": {},
   "outputs": [],
   "source": [
    "plt.plot(time,density)\n",
    "plt.xlabel(\"Time (ps)\")\n",
    "plt.ylabel(\"Density (g/cm$^3$)\")\n",
    "plt.show()"
   ]
  },
  {
   "cell_type": "code",
   "execution_count": null,
   "id": "95a08e9f-b0e2-4569-a561-8ca251456875",
   "metadata": {},
   "outputs": [],
   "source": [
    "plt.plot(time,temperature)\n",
    "plt.xlabel(\"Time (ps)\")\n",
    "plt.ylabel(\"Temperature (K)\")\n",
    "plt.show()"
   ]
  },
  {
   "cell_type": "code",
   "execution_count": null,
   "id": "ae2ae841-98e8-47ed-ac0d-48849ece060a",
   "metadata": {},
   "outputs": [],
   "source": [
    "average_density=np.mean(density[8000:10000])\n",
    "stdev_density=np.std(density[8000:10000])\n",
    "print(\"Density is\",average_density,\"+/-\",stdev_density,\" g/cm3\")\n",
    "average_temperature=np.mean(temperature[2000:10000])\n",
    "stdev_temperature=np.std(temperature[2000:10000])\n",
    "print(\"Temperature is\",average_temperature,\"+/-\",stdev_temperature,\" K\")"
   ]
  },
  {
   "cell_type": "markdown",
   "id": "df317398-e5f1-411c-86d2-88d6c9a036c8",
   "metadata": {},
   "source": [
    "### Exercise ###"
   ]
  },
  {
   "cell_type": "markdown",
   "id": "6a933b85-2254-4c91-87f5-051080a91530",
   "metadata": {},
   "source": [
    "1. Use the code provided above to repeat the density and temperature analysis for the TIP4Pew water model MD simulations that you ran previously. \n",
    "1. Compare your simulated water density and temperature with the TIP3P values calculated previously, and with the experimental data provided above. \n",
    "\n",
    "##### Important Notes #####\n",
    "1. Insert as many code cells in the jupyter notebook below as you need. Try and keep your code as 'clean' as possible - it will help you solve and debug problems if and when they happen!\n",
    "1. If you get stuck, ask your demonstrator for help!\n",
    "1. <span style=\"color:red;\">REALLY IMPORTANT - make sure that you change all \"tip3p\" to \"tip4pew\" in your new code below. Otherwise you will destroy the TIP3P RDFs you just calculated!</span>"
   ]
  },
  {
   "cell_type": "markdown",
   "id": "00927e20-1e06-4b51-b923-cc5b5b8d5072",
   "metadata": {
    "tags": []
   },
   "source": [
    "## Analysis - Water Structure & the Radial Distribution Function ##"
   ]
  },
  {
   "cell_type": "markdown",
   "id": "7f133f7b-16c3-462a-913d-6c8b3fcf1d38",
   "metadata": {},
   "source": [
    "Having demonstrated that we have achieved an equilibrium NPT ensemble in the previous section, we can now see what this ensemble tells us about the structure of water itself. \n",
    "\n",
    "The two extreme scenarios of molecular interaction are solids, having molecules with strong interactions, which are aligned in a rigid crystal, and gases, having molecules with no to minimal interactions, with essentially no regular arrangement in their structure. The amount of interaction (and thus structure) of molecules in a liquid falls in the middle. This is one of the things that makes liquids so interesting - ***and the main reason almost all chemistry occurs in a solvent!***\n",
    "\n",
    "The structure in a liquid can be characterized by a radial distribution function (RDF), g(r). An RDF is a measure of the radial frequency of particles around some point in space. Typically, we use RDFs to measure the likelihood of finding an atom type (e.g. oxygen) around another atom type (e.g. hydrogen). For a monatomic gas, g(r) is flat, because any atom is a random distance from all other atoms. There is no preferred distance; all are equally likely. For a crystalline solid, g(r) has regular, sharp peaks, because atoms are regularly spaced from each other - you will be familiar with this from X-ray diffraction patterns. In a solid, only some distances are likely; others are essentially forbidden. \n",
    "\n",
    "Liquids, on the other hand, are structured locally but random at long range. This means a liquid g(r) resembles that of a solid at short-range, but that of a gas at long-range. Most liquids typically exhibit a few distinct short range peaks, these correspond to **solvation shells**. The position of these peaks indicate the length scale of each solvation shell, and the height of that peak indicates how pronounced the corresponding shell is in structure, relative to the surrounding bulk liquid environment. Eventually, as the nonlocal density becomes identical to the bulk density, g(r) flattens and tends to the bulk value of 1. \n",
    "\n",
    "For water, the amount of local structure can be characterized via the O-O, O-H and H-H g(r) functions (i.e. \"oxygens around oxygens\", \"hydrogens around oxygens\" and \"hyrogens around hydrogens\"), which are shown in the Figure below. This figure is produced via neutron diffraction measurements, however MD is also capable of producing RDFs. These RDFs show that: \n",
    "\n",
    "1. The hydrogen bonding structure in bulk water (i.e. the O-H g(r))  extends well beyond the first solvation shell (there are two hydrogen bond interactions at ~2 and 3.5 $\\mathring A$, respectively). \n",
    "1. The interaction length between neighbouring water molecules (via the O-O g(r)). The figure below shows that water arranges itself into ~3 distinct solvation shells at ~2.5, 4.5 and 7 $\\mathring A$, respectively. \n",
    "\n",
    "So, water is **really** structured!! Now that we understand this, we can begin to understand the physical and chemical properties of water, and why some of them change in the presence of solutes and interfaces (as we will see in the next workshop). "
   ]
  },
  {
   "cell_type": "markdown",
   "id": "482032d3-a8df-4b05-a44f-b389826d2dc4",
   "metadata": {},
   "source": [
    "<img src=\"https://static-02.hindawi.com/articles/isrn/volume-2013/279463/figures/279463.fig.0021.jpg\" align=\"left\" width=\"500\" height=\"500\"/>\n",
    "<img src=\"https://upload.wikimedia.org/wikipedia/commons/e/ea/Molecular_Schematic_for_Interpreting_a_Radial_Distribution_Function.png\" align=\"center\" width=\"400\" height=\"400\"/>\n"
   ]
  },
  {
   "cell_type": "markdown",
   "id": "4138c8f8-849b-44f3-a230-6ce81cfdc733",
   "metadata": {},
   "source": [
    "Let's take our MD trajectory and use the ```MDAnalysis``` python module to calculate the same RDFs as shown in the Figure above. "
   ]
  },
  {
   "cell_type": "code",
   "execution_count": null,
   "id": "a545f484-2d0b-4d51-88fc-6859255070a8",
   "metadata": {},
   "outputs": [],
   "source": [
    "import MDAnalysis as mda\n",
    "import MDAnalysis.analysis.rdf as rdf"
   ]
  },
  {
   "cell_type": "markdown",
   "id": "364639d5-e36b-4814-9e7b-f232db51903e",
   "metadata": {},
   "source": [
    "MDAnalysis is extremely powerful, and relies on what is known as a 'universe' (essentially, all the information that defines an MD trajectory, i.e. the topology, the coordinates and the force field). Once we have defined a universe based on our trajectory, we can perform the RDF analysis. Let's store the universe in the variable ```tip3p_u```:"
   ]
  },
  {
   "cell_type": "code",
   "execution_count": null,
   "id": "f6506b9b-f822-42a1-a7ff-6ccbfead5562",
   "metadata": {},
   "outputs": [],
   "source": [
    "tip3p_u = mda.Universe('system.pdb','tip3p_water.dcd') #NOTE - make sure you set this .pdb filename correctly for your TIP4Pew simulation below"
   ]
  },
  {
   "cell_type": "markdown",
   "id": "31750ed9-f7f7-48e8-938c-23d53840f0b6",
   "metadata": {},
   "source": [
    "We now need to tell ```MDAnalysis``` which pairs of atoms we want to investigate. To start with, let's look at the main O-O interaction and the O-H hydrogen bonding interaction in your bulk water MD simulation. We will use the ```select_atoms``` function to do this, and store the list of oxygen atoms in the variable ```O_tip3p```, and the list of hydrogen atoms in the variable ```H_tip3p```:"
   ]
  },
  {
   "cell_type": "code",
   "execution_count": null,
   "id": "5b9c3bc1-6867-4c11-b351-efb7f26a38ad",
   "metadata": {},
   "outputs": [],
   "source": [
    "O_tip3p = tip3p_u.select_atoms('name O')\n",
    "H_tip3p = tip3p_u.select_atoms('name H1 or name H2')"
   ]
  },
  {
   "cell_type": "markdown",
   "id": "9157619c-ca55-4a9a-a3fb-c00994613c6f",
   "metadata": {},
   "source": [
    "Notice here that we are telling ```MDAnalysis``` specific atom labels (e.g. H1, H2, which are the two distinct H atoms in the water molecule), which match the labels in the PDB file produced previously by ```packmol```. \n",
    "\n",
    "Now we have to tell ```MDAnalysis``` the details of the RDF that we are after: "
   ]
  },
  {
   "cell_type": "code",
   "execution_count": null,
   "id": "6a485dd9-51f8-441b-8468-9c4d5584c282",
   "metadata": {},
   "outputs": [],
   "source": [
    "OO_rdf_tip3p = rdf.InterRDF(O_tip3p,O_tip3p,nbins=100,range=(1.0,10))\n",
    "OH_rdf_tip3p = rdf.InterRDF(O_tip3p,H_tip3p,nbins=100,range=(1.0,10))"
   ]
  },
  {
   "cell_type": "markdown",
   "id": "3b386c34-c7a6-490d-a4f4-2c72169ccfa6",
   "metadata": {},
   "source": [
    "Here, we are using MDAnalysis's ```InterRDF``` function to calculate the RDF between each oxygen and every other oxygen, and store this in the ```OO_rdf``` object. The same information for the O-H RDF will be stored in the ```OH_rdf_tip3p``` object. For both RDFs, we will measure the RDF between 1 $\\mathring A$ and 10 $\\mathring A$ (see the ```range``` variable) at 100 points (see the ```nbins``` variable).\n",
    "\n",
    "Now let's run the analysis:"
   ]
  },
  {
   "cell_type": "code",
   "execution_count": null,
   "id": "65e1f1c4-ae60-4574-9176-db8d6d5a89b9",
   "metadata": {},
   "outputs": [],
   "source": [
    "OO_rdf_tip3p.run()\n",
    "OH_rdf_tip3p.run()"
   ]
  },
  {
   "cell_type": "markdown",
   "id": "32256168-1a85-48d7-916d-9fceda68c0e0",
   "metadata": {},
   "source": [
    "This should only take a minute or so. When it is finished, we can plot the results and look at the RDF! We will use the ```matplotlib``` python module, as we have before, to do this. Note that the horizontal and vertical axis data we want to plot are actually now in the ```rdf_calc``` object, as the ```rdf_calc.bins``` and ```rdf_calc.rdf``` variables, respectively. So we will pass these two variables to the plot command below:"
   ]
  },
  {
   "cell_type": "code",
   "execution_count": null,
   "id": "d1b0681b-7961-4859-8724-0205551bdb8b",
   "metadata": {},
   "outputs": [],
   "source": [
    "import matplotlib.pyplot as plt\n",
    "\n",
    "plt.plot(OO_rdf_tip3p.bins,OO_rdf_tip3p.rdf,label=\"O-O\")\n",
    "plt.plot(OH_rdf_tip3p.bins,OH_rdf_tip3p.rdf,label=\"O-H\")\n",
    "plt.xlabel(\"r ($\\mathrm{\\AA}$)\")\n",
    "plt.ylabel(\"g(r)\")\n",
    "plt.legend()\n",
    "plt.ylim([0.0, 5])"
   ]
  },
  {
   "cell_type": "markdown",
   "id": "c8ed5f70-0203-47a3-aaed-b444282bf653",
   "metadata": {},
   "source": [
    "#### Exercise ####"
   ]
  },
  {
   "cell_type": "markdown",
   "id": "5cda2ca7-4ff2-4cc1-8cd7-0770202e4c0a",
   "metadata": {},
   "source": [
    "1. Use the code provided above to repeat the RDF analysis for the TIP4Pew water model MD simulations that you ran above. \n",
    "1. Use the code provided above to produce a single plot that compares the TIP3P and TIP4Pew water models' predictions for the O-O radial distribution functions\n",
    "1. Use the code provided above to produce a single plot that compares the TIP3P and TIP4Pew water models' predictions for the O-H radial distribution functions\n",
    "1. Compare your simulated water structure with the experimental data provided above. \n",
    "\n",
    "##### Important Notes #####\n",
    "1. Insert as many code cells in the jupyter notebook below as you need. Try and keep your code as 'clean' as possible - it will help you solve and debug problems if and when they happen!\n",
    "1. If you get stuck, ask your demonstrator for help!\n",
    "1. <span style=\"color:red;\">REALLY IMPORTANT - make sure that you change all \"tip3p\" to \"tip4pew\" in your new code below. Otherwise you will destroy the TIP3P RDFs you just calculated!</span>"
   ]
  },
  {
   "cell_type": "markdown",
   "id": "e85319b5-b0bb-4d59-bc54-33afa4bfe2a0",
   "metadata": {
    "tags": []
   },
   "source": [
    "## Analysis - Self Diffusion Coefficients in Bulk Water ##"
   ]
  },
  {
   "cell_type": "markdown",
   "id": "6644352e-63d4-45ab-8392-16e7b386bcfb",
   "metadata": {},
   "source": [
    "Thermal fluctuations in a liquid cause a dissolved molecule to wander from its original position, executing a ‘random walk’. Eventually, the displacement of the molecule  is determined by its  **diffusion coefficient, D** (measured in area per time, e.g. m2/s). The diffusion coefficient is a proportionality constant, which relates the rate of diffusion of the molecule to that molecule's concentration gradient. Effectively, molecules and particles will move faster to a region where their concentration is lower (you know this already – drop some food colouring in water, and watch what happens!). \n",
    "\n",
    "The **self-diffusion coefficient**, as opposed to the diffusion coefficient, specifically refers to a molecule’s diffusion relative to its own bulk motion. That is, the self-diffusion coefficient of water is the diffusion coefficient of a single water molecule diffusing through bulk water. Mills determined the self-diffusion coefficient of water to be 2.299 $\\times$ 10$^{-9}$ m$^2$/s at 298 K (see the table below for the variation of this value with temperature). In terms of other solvents, water’s diffusion is similar to toluene (2.267 $\\times$ 10$^{-9}$ m$^2$/s) and higher than cyclohexane (1.1470 $\\times$ 10$^{-9}$ m$^2$/s). Water’s diffusion is typical of small molecules and is actually one of the few properties for which it is ***not*** unusual."
   ]
  },
  {
   "cell_type": "markdown",
   "id": "3b98dbe0-6237-4d2d-9825-44af3c83b55f",
   "metadata": {},
   "source": [
    "**Experimental Self-Diffusion Coefficients for Water**\n",
    "| Temperature ($^\\circ$ C) | D ( $\\times$ 10$^{-9}$ m$^2$/s) \n",
    "| --- | --- | \n",
    "|1|1.149|\n",
    "|4|1.276|\n",
    "|5|1.313|\n",
    "|15|1.777|\n",
    "|25|2.299|\n",
    "|35|2.919|\n",
    "|45|3.575|\n"
   ]
  },
  {
   "cell_type": "markdown",
   "id": "5eded611-e47c-49a5-8720-5309eec5a6e4",
   "metadata": {},
   "source": [
    "As we have seen in the lectures for this section of the course, the most common way to calculate D is to use Einstein's relation over long simulation times,\n",
    "\n",
    "$$D = \\frac{1}{6}\\frac{\\left\\langle \\left| \\mathbf{r}_{i}(t) - \\mathbf{r}_{i}(0) \\right|^{2}\\right\\rangle}{t} $$\n",
    "\n",
    "where $\\mathbf{r}_{i}(t)$ is the position of the $i^{\\text{th}}$ particle at time $t$. The quantity $\\left| \\mathbf{r}_{i}(t) - \\mathbf{r}_{i}(0) \\right|$ is the displacement that particle $i$ has moved in time $t$. The angle brackets $\\left\\langle \\right\\rangle$ indicate a time-averaged property. \n",
    "\n",
    "If we consider the equation above carefully, we can see that by plotting the mean-squared displacement $\\left\\langle \\left| \\mathbf{r}_{i}(t) - \\mathbf{r}_{i}(0) \\right|^{2}\\right\\rangle $ as a function of time (i.e. $\\left\\langle \\left| \\mathbf{r}_{i}(t) - \\mathbf{r}_{i}(0) \\right|^{2}\\right\\rangle $ on the vertical axis, time $t$ on the horizontal axis), the diffusion coefficient $D$ can be calculated simply as **1/6 $\\times$ the slope of this curve.**"
   ]
  },
  {
   "cell_type": "markdown",
   "id": "e2b29b16-175b-4142-bd6f-fc81f40240fe",
   "metadata": {},
   "source": [
    "Let's take our MD trajectory and use the ```MDAnalysis``` python module to calculate the self-diffusion coefficient of water using the TIP3P and TIP4P-Ew water modles. Just as for the RDF analysis above, ```MDAnalysis``` has a module specifically for calculating diffusion coefficients via the mean squared displacement method, described above. To start with, let's import this module:"
   ]
  },
  {
   "cell_type": "code",
   "execution_count": null,
   "id": "2fd747ee-589b-4f4e-89ab-e1fda61c8180",
   "metadata": {},
   "outputs": [],
   "source": [
    "import MDAnalysis.analysis.msd as msd"
   ]
  },
  {
   "cell_type": "markdown",
   "id": "f0924dea-e0e7-4757-bc74-9cbcaa4d35f5",
   "metadata": {},
   "source": [
    "And now we will tell ```MDAnalysis``` to measure the mean squared displacement of each individual water molecule in the simulation. Ideally we should use the centre of mass to define the 'position' of each water molecule. But for this workshop it is enough to approximate this position to be the position of the Oxygen atom (this position is quite close to the centre of mass anyway). In other words, we'll use the oxygen atom as a proxy for the centre of mass, and just measure the displacement of this atom instead. \n",
    "\n",
    "We have already defined our ```MDAnalysis``` universe above for our TIP3P simulation (```tip3p_u```). The code below defines a new object ```MSD``` which controls the parameters of the mean squared displacement calculation: "
   ]
  },
  {
   "cell_type": "code",
   "execution_count": null,
   "id": "3999d5fc-3f8f-418c-ab90-fe726ee3a381",
   "metadata": {},
   "outputs": [],
   "source": [
    "MSD = msd.EinsteinMSD(tip3p_u, select='name O', msd_type='xyz', fft=True)"
   ]
  },
  {
   "cell_type": "markdown",
   "id": "2a162472-3e1d-459c-9e58-e260ce966c1a",
   "metadata": {},
   "source": [
    "Now we can run the analysis. We'll store the output in the variable ```tip3p_msd```: "
   ]
  },
  {
   "cell_type": "code",
   "execution_count": null,
   "id": "e856ae3e-f8ab-487e-8286-f96c8a5b730d",
   "metadata": {},
   "outputs": [],
   "source": [
    "MSD.run()"
   ]
  },
  {
   "cell_type": "markdown",
   "id": "2068bc91-22b9-4b38-9046-5e1a5d4d24de",
   "metadata": {},
   "source": [
    "What does the plot of the mean-squared displacement $\\left\\langle \\left| \\mathbf{r}_{i}(t) - \\mathbf{r}_{i}(0) \\right|^{2}\\right\\rangle $ vs time look like? We can create this plot using the code below: "
   ]
  },
  {
   "cell_type": "code",
   "execution_count": null,
   "id": "ace7e56f-e565-417d-b344-5e8a9b453f66",
   "metadata": {},
   "outputs": [],
   "source": [
    "nframes = MSD.n_frames\n",
    "timestep = 0.001*10 # this is the amount of real-time between MD frames in the DSD file you saved above. The time step is 0.001 ps, and the simulation is saved every 10 steps.\n",
    "lagtimes = np.arange(nframes)*timestep # this is the array of times t, i.e. the horizontal axis values\n",
    "tip3p_msd =  MSD.results.timeseries # this is the array of MSD values, i.e. the vertical axis values\n",
    "plt.plot(lagtimes,tip3p_msd,label=\"TIP3P\")\n",
    "plt.legend()\n",
    "plt.show()"
   ]
  },
  {
   "cell_type": "markdown",
   "id": "44b6e859-514f-4067-9443-556ee21cf0e2",
   "metadata": {},
   "source": [
    "We can now use this plot to determine the value of the self-diffusion coefficient $D$. Recalling from above, $D$ is 1/6 $\\times$ the slope of this curve. To obtain the slope, we will use a new Python module, ```SciPy```, which includes a linear regression (i.e. 'line-of-best-fit) module called ```linregress```. To start with, let's load that into our notebook:"
   ]
  },
  {
   "cell_type": "code",
   "execution_count": null,
   "id": "432baece-3037-4b9b-bd3f-ed4d352d9cd0",
   "metadata": {},
   "outputs": [],
   "source": [
    "from scipy.stats import linregress"
   ]
  },
  {
   "cell_type": "markdown",
   "id": "f29cfa2d-e2dc-4da5-aed1-c6d9c9e13fc0",
   "metadata": {},
   "source": [
    "For the simulation performed above, we can see that the correlation between the MSD variable and $t$ is linear roughly between 40 and 80 ps. Let's define these times as the start and end times for our linear regression analysis:"
   ]
  },
  {
   "cell_type": "code",
   "execution_count": null,
   "id": "c729893f-89e2-4ceb-b8cd-4a45f5acb36a",
   "metadata": {},
   "outputs": [],
   "source": [
    "start_time = 40\n",
    "end_time = 80\n",
    "start_index = int(start_time/timestep)\n",
    "end_index = int(end_time/timestep)"
   ]
  },
  {
   "cell_type": "markdown",
   "id": "46674ce7-d59e-44f6-b318-7f5835d118ed",
   "metadata": {},
   "source": [
    "We can let ```SciPy```'s ```linregress``` module do the rest, and we will save the output of the fitting into the new object ```linear_model```."
   ]
  },
  {
   "cell_type": "code",
   "execution_count": null,
   "id": "11e79e21-2386-43e8-b37c-8d6ab424bce0",
   "metadata": {},
   "outputs": [],
   "source": [
    "linear_model = linregress(lagtimes[start_index:end_index],tip3p_msd[start_index:end_index])"
   ]
  },
  {
   "cell_type": "markdown",
   "id": "c0bb3a39-4c2f-4c4a-9630-a998b70abc55",
   "metadata": {},
   "source": [
    "The ```linear_model``` object contains two variables that we want - ```slope``` and ```stderr```. Let's define new variables that save this information: "
   ]
  },
  {
   "cell_type": "code",
   "execution_count": null,
   "id": "551c1319-eb5a-4d16-b7b5-9345f8c899fd",
   "metadata": {},
   "outputs": [],
   "source": [
    "slope = linear_model.slope\n",
    "error = linear_model.stderr"
   ]
  },
  {
   "cell_type": "markdown",
   "id": "e189c7c0-9674-49ab-aed8-348690540f50",
   "metadata": {},
   "source": [
    "We can now calculate the self-diffusion coefficient using Einstein's equation, above (making sure that we get the value in the correct units): "
   ]
  },
  {
   "cell_type": "code",
   "execution_count": null,
   "id": "42fd8506-ce83-4347-9949-78f160d018e6",
   "metadata": {},
   "outputs": [],
   "source": [
    "D = slope * 1/6*(1e-20)/1e-12*meter*meter/second\n",
    "pm_D = error * 1/6*(1e-20)/1e-12*meter*meter/second\n",
    "print(\"Self diffusion coefficient is\",D,\"+/-\",pm_D)"
   ]
  },
  {
   "cell_type": "markdown",
   "id": "7b6ac1dd-b11e-4669-83da-5ca4afc88906",
   "metadata": {},
   "source": [
    "#### Exercise ####"
   ]
  },
  {
   "cell_type": "markdown",
   "id": "af5a7c68-94c5-45d4-8c93-ec949d6a96ef",
   "metadata": {},
   "source": [
    "1. Use the code provided above to repeat the MSD analysis for the TIP4Pew water model MD simulations that you ran above. \n",
    "1. Use the code provided above to produce a single plot that compares the TIP3P and TIP4Pew water models' predictions for the self-diffusion coefficient in bulk water at 298 K. \n",
    "1. Compare your simulated water structure with the experimental data provided above. \n",
    "\n",
    "##### Important Notes #####\n",
    "1. Insert as many code cells in the jupyter notebook below as you need. Try and keep your code as 'clean' as possible - it will help you solve and debug problems if and when they happen!\n",
    "1. If you get stuck, ask your demonstrator for help!\n",
    "1. <span style=\"color:red;\">REALLY IMPORTANT - make sure that you change all \"tip3p\" to \"tip4pew\" in your new code below. Otherwise you will destroy the TIP3P RDFs you just calculated!</span>\n",
    "1. <span style=\"color:red;\">NOTE - the code above calculated the diffusion coefficient between 40-80 ps. These ranges are appropriate based on the data above, but YOUR simulation may require you to specify different ranges in the code below.</span>"
   ]
  },
  {
   "cell_type": "markdown",
   "id": "17debbcd-cd2c-4f72-a1f7-2c5cecfb74f4",
   "metadata": {},
   "source": [
    "## Discussion Questions and Information for Preparing Your Report ##"
   ]
  },
  {
   "cell_type": "raw",
   "id": "ce0ab1a6",
   "metadata": {},
   "source": [
    "In your report, consider and discuss the following questions based on the data you have created above:\n",
    "\n",
    "1. Considering the properties of water that you have calculated here with the TIP3P and TIP4Pew water models, which model best replicates the experimental behaviour of water at 298 K?\n",
    "1. Are you simulated water structures consistent w\n",
    "1. Considering your calculated self-diffusion coefficeints, which water model best replicates the experimental self-diffusion coefficient of water at STP? Explain your answer. \n",
    "1. Discuss the similarities and differences between these water models that you think might be responsible for their deviations in structure and diffusion? \n",
    "\n",
    "_You may find the following references useful for preparing your report:_\n",
    "\n",
    "1. Mark, P., Nilsson, L. Structure and Dynamics of the TIP3P, SPC, and SPC/E Water Models at 298 K. _Journal of Physical Chemistry A_ **43** 9954 (2001)\n",
    "1. Soper, A.K., Phillips, M.G., A New Determination of the Structure of Water at 25 ºC. _Chemical Physics_ **107** 47 (1986)"
   ]
  }
 ],
 "metadata": {
  "kernelspec": {
   "display_name": "openMM",
   "language": "python",
   "name": "openmm"
  },
  "language_info": {
   "codemirror_mode": {
    "name": "ipython",
    "version": 3
   },
   "file_extension": ".py",
   "mimetype": "text/x-python",
   "name": "python",
   "nbconvert_exporter": "python",
   "pygments_lexer": "ipython3",
   "version": "3.10.4"
  }
 },
 "nbformat": 4,
 "nbformat_minor": 5
}
