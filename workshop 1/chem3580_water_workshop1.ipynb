{
 "cells": [
  {
   "cell_type": "markdown",
   "id": "1fe701e6-e1e0-44b3-8743-a884b7b591b5",
   "metadata": {
    "tags": []
   },
   "source": [
    "# Workshop 1 - Water #"
   ]
  },
  {
   "cell_type": "markdown",
   "id": "97cd2eed-6c4c-486c-a81c-a9ac9c9306ff",
   "metadata": {
    "jp-MarkdownHeadingCollapsed": true,
    "tags": []
   },
   "source": [
    "## Introduction ##"
   ]
  },
  {
   "cell_type": "markdown",
   "id": "a00c54e4-84a7-4018-b1f9-5f479a147eb9",
   "metadata": {},
   "source": [
    "Water is the most common and important chemical solvent - it is not only central to life, it plays a critical role in colloid, interface and soft matter systems. Solvents such as water are typically handled in MD simulations via distinct force fields called _**solvent models**_, designed specifically to describe a solvent environment around a solute (e.g. micelle, polymer, protein) as accurately and efficiently as possible. Solvent models constitute a distinct group of MD force fields – they consist of parameters that are optimized to reproduce specific experimental properties of that particular liquid, such as density, enthalpies of vaporization and self-diffusion coefficients. \n",
    "\n",
    "As with any MD simulation, to simulate liquid water we must provide information about each water molecule’s initial position and velocity, as well as the forces that water molecules exert on each other. However, solvent water models involve additional parameters, such as whether each water molecule is flexible, or held fixed (and if so, the geometry of each water molecule), how the charge is distributed within each water molecule, and how each water molecule interacts with those around it via van der Waals interactions. Each of these parameters greatly affect how physically realistic the water model’s characteristics are. Each different water model will therefore have its own successes and weaknesses. \n"
   ]
  },
  {
   "cell_type": "markdown",
   "id": "3db85135-dfc4-45bb-b678-6ed8b247de9f",
   "metadata": {
    "tags": []
   },
   "source": [
    "### MD Water Models ###"
   ]
  },
  {
   "cell_type": "markdown",
   "id": "59a74d17-8616-4d52-bbaf-7e035193d134",
   "metadata": {},
   "source": [
    "A perfect model of liquid water would use quantum mechanics to exactly solve the system's Schrödinger equation, an as of yet insurmountable task, even on modern computers. Instead, assumptions are made to create water ‘models’ designed for different purposes to speed things up. Water models generally fix the geometry of individual molecules and replace their H and O atoms with point charges and describe van der Waal interactions via a simple Lennard-Jones potential. In other words, the energy of water is described by, \n",
    "\n",
    "$$E_{ab} = \\sum_{i}^{i \\in \\text{mol. A}}\\sum_{j}^{j \\in \\text{mol. B}}\\frac{k_C q_i q_j}{r_ij} + \\frac{A}{r_{OO}^{12}} - \\frac{B}{r_{OO}^{6}}$$\n",
    "\n",
    "Notice that this expression does not depend on the distance between H and O atoms in the **same** water molecule. This means that the geometry in each water molecule is fixed. The total interaction between pairs of water molecules using this model therefore arises from 3 sites, and is just the sum of their electrostatic interaction (the first term), and their van der Waals interactions (the 2nd and 3rd terms). The latter is assumed to arise only from the oxygen atom. \n",
    "\n",
    "Simulating liquid water with 3-site water models therefore only requires **4 parameters** ($q_{O}$, $q_{H}$, $A$ and $B$) - this makes MD calculations extremely efficient. However, since there are only 4 parameters, water models are notoriously inflexible. For instance, values of $q_{O}$, $q_{H}$, $A$ and $B$ that give an accurate prediction of one property, such as water density, may give an inaccurate prediction of the heat of vaporisation. In the Table below, TIP3P and SPC/E are both examples of 3-site water models which we will use in this workshop.\n",
    "\n",
    "One of the most popular attempts to solve this problem is to introduce \"fake\" atoms into the water molecule structure. These fictitious **dummy atoms** (\"M\") atoms have no mass, but a non-zero charge. They are generally placed near the oxygen atom, effectively changing the water molecules dipole moment - and therefore the  electrostatic and van der Waals interactions between pairs of water molecules. Effectively the presence of the dummy atom in this water model mimics, in a crude way, the presence of the oxygen lone electron pairs. Such \"4-site\" water models rely on **5 parameters** ($q_{O}$, $q_{H}$,$q_{M}$, $A$ and $B$), so have an increased degree of flexibility and can predict some properties of liquid water more accurately. However this comes at the cost of (1) having to determine what the charge on the dummy atom M is, and where it should reside in the water molecule (see **r(OM)** in the table below). More importantly, the inclusion of an additional atom in the force field means that MD simulations will be slightly less efficient. In the Table below, TIP4P-Ew, TIP4P/Ice, TIP4P/2005 and OPC are all examples of 4-site water models, each designed to predict some specific property of water (for instance, the parameters of the TIP4P/Ice model were specifically designed for simulating different phases of solid water). In this workshop we will examine the performance of TIP4P-Ew and OPC.\n",
    "\n",
    "Yet more advanced water models have also been developed, such as the 5- and 6-site water models. An example of the 5-site water model is shown below - instead of a single dummy atom M, 5-site water models incorporate a pair of dummy atoms (\"L\") that mimic more accurately the position of the oxygen lone electron pairs. 6-site models incorporate these lone pair dummy atoms and the 4-site dyummy atom M together. The incorporation of multiple dummy atoms generally improves the prediction of these models, but with a significant increase in model complexity and simulation  efficiency.\n",
    "\n",
    "\n",
    "\n"
   ]
  },
  {
   "cell_type": "markdown",
   "id": "6d0a758c-e175-44c6-94ef-3ebe008f923a",
   "metadata": {},
   "source": [
    "<img src=\"https://upload.wikimedia.org/wikipedia/commons/thumb/9/92/Water_models.svg/1024px-Water_models.svg.png\" align=\"center\"/>"
   ]
  },
  {
   "cell_type": "markdown",
   "id": "12ce043b-d25e-4a23-b3dd-cb31ea1b3f2b",
   "metadata": {
    "tags": []
   },
   "source": [
    "**Table 1: Examples of 3- & 4-Site Water Models**\n",
    "| Model | $q_{O}$ (e) | $q_{H}$ (e) | $q_{M}$ (e) | r(OH) ($\\mathring A$) | $\\theta_{\\text{HOH}}$ (deg.) |  r(OM) ($\\mathring A$)  | A ($10^{3}$kcal$\\mathring A^{12}$mol$^{-1}$)  | B  ($10^{3}$kcal$\\mathring A^{12}$mol$^{-1}$) |\n",
    "| --- | --- | --- | --- | --- | --- | --- | --- | --- |\n",
    "| TIP3P | -0.834 | +0.417| -  | 0.9572 | 104.52 | - | 582.0 | 595.0 | \n",
    "| SPC/E | -0.8476 | +0.4238 | - | 1.0 | 109.47 | - | 629.4 | 625.5 |\n",
    "| TIP4P-Ew | - | +0.52422 | −1.04844 | 0.9572 | 104.52 | 0.125 | 656.1  | 653.5  |\n",
    "| TIP4P/Ice | - | +0.5897 | −1.1794 | 0.9572 | 104.52 | 0.1577 | 857.9  | 850.5 |\n",
    "| TIP4P/2005 | - | +0.5564 | −1.1128 | 0.9572 | 104.52 | 0.1577 | 731.3  | 736.0 |\n",
    "| OPC | | +0.6791 |  −1.3582 | 0.8724 | 103.6 | 0.1546 | 865.1 | 858.1 |\n",
    "| **Exp. water (gas-phase)**  |- |- | - | **0.9572** | **104.52** | - | - |"
   ]
  },
  {
   "cell_type": "markdown",
   "id": "3b456d31-9fdc-4527-a11b-615afa1e019a",
   "metadata": {
    "tags": []
   },
   "source": [
    "### Workshop Aims ###"
   ]
  },
  {
   "cell_type": "markdown",
   "id": "5d4a1ef5-1b15-404c-a9a8-def1f9adf137",
   "metadata": {},
   "source": [
    "In this workshop, we examine how well different water models reproduce structural and dynamic properties of water under various physical conditions.\n",
    "\n",
    "The workshop addresses three questions:\n",
    " \n",
    "1. How reliable are different water models in reproducing experimental data for liquid water dynamics and structure at 298 K and 1 atm?\n",
    "1. How reliable are different water models in reproducing temperature-dependent properties of liquid water?\n",
    "1. How well does each water model reproduce the structure of water at a given temperature and pressure? Specifically, can the model correctly predict the phase of water at 250 K and 100 atm?\n"
   ]
  },
  {
   "cell_type": "markdown",
   "id": "75992d51-5e9e-4a95-b0ca-a5c6d43f64a7",
   "metadata": {
    "tags": []
   },
   "source": [
    "## Simulating Bulk Water ##"
   ]
  },
  {
   "cell_type": "markdown",
   "id": "f7db7891-1379-4ade-892b-aa71846259b4",
   "metadata": {
    "jp-MarkdownHeadingCollapsed": true,
    "tags": []
   },
   "source": [
    "### TIP3P Water Simulation ###"
   ]
  },
  {
   "cell_type": "markdown",
   "id": "ed778f9b-6910-4846-b6b0-60903bf05510",
   "metadata": {},
   "source": [
    "#### Setting Things Up  ###"
   ]
  },
  {
   "cell_type": "markdown",
   "id": "6aed1780-b15b-46cc-b8fb-edc5aa2e5f36",
   "metadata": {},
   "source": [
    "First things first - as we saw in the previous introductory exercise, several modules need to be first loaded into our Jupyter notebook so that we can run our MD simulation. Let's take care of this now:"
   ]
  },
  {
   "cell_type": "code",
   "execution_count": null,
   "id": "d6c4f519-3de9-4f0e-a0ea-b7cb4aba6033",
   "metadata": {},
   "outputs": [],
   "source": [
    "from openmm.app import *\n",
    "from openmm import *\n",
    "from openmm.unit import *\n",
    "from sys import stdout\n",
    "import re\n",
    "import time\n",
    "import numpy as np"
   ]
  },
  {
   "cell_type": "markdown",
   "id": "2f6e173b-37a8-4d62-ba76-fc35078d4265",
   "metadata": {},
   "source": [
    "Now let's define the physical parameters of our simulation. You can use the panels below to change them, however for now it is ok to leave them at their present values. "
   ]
  },
  {
   "cell_type": "code",
   "execution_count": 9,
   "id": "7960ece1-4d0b-409a-b726-23304e7a6d1e",
   "metadata": {
    "jupyter": {
     "source_hidden": true
    },
    "tags": []
   },
   "outputs": [
    {
     "data": {
      "application/vnd.jupyter.widget-view+json": {
       "model_id": "064de333039948e6aed6ab71105e8d09",
       "version_major": 2,
       "version_minor": 0
      },
      "text/plain": [
       "FloatText(value=298.0, description='Simulation Temperature (K):', step=1.0)"
      ]
     },
     "metadata": {},
     "output_type": "display_data"
    }
   ],
   "source": [
    "import ipywidgets as widgets\n",
    "from IPython.display import display\n",
    "\n",
    "#SIMULATION TEMPERATURE\n",
    "# create a float text widget to input variable\n",
    "temp_text = widgets.FloatText(\n",
    "    value=298.0,  # default value \n",
    "    description='Simulation Temperature (K):',\n",
    "    step=1.0,  # step size\n",
    ")\n",
    "# adjust the layout of the widget\n",
    "temp_text.layout.width = 'auto'\n",
    "temp_text.style.description_width = 'initial'\n",
    "# define a function to update the variable\n",
    "def update_temp_text(change):\n",
    "    global simTemperature\n",
    "    simTemperature = change.new\n",
    "# register the update function with the widget\n",
    "temp_text.observe(update_temp_text, 'value')\n",
    "# display the widget\n",
    "display(temp_text)\n",
    "# access the selected temperature value\n",
    "simTemperature = temp_text.value*kelvin\n",
    "\n",
    "#BOXSIZE\n",
    "# create a float text widget to input variable\n",
    "temp_text = widgets.FloatText(\n",
    "    value=48.0,  # default value \n",
    "    description='Box Size (Angstrom):',\n",
    "    step=1.0,  # step size \n",
    ")\n",
    "# adjust the layout of the widget\n",
    "temp_text.layout.width = 'auto'\n",
    "temp_text.style.description_width = 'initial'\n",
    "# define a function to update the variable\n",
    "def update_temp_text(change):\n",
    "    global boxsize\n",
    "    boxsize = change.new\n",
    "# register the update function with the widget\n",
    "temp_text.observe(update_temp_text, 'value')\n",
    "# display the widget\n",
    "display(temp_text)\n",
    "# access the selected temperature value\n",
    "boxsize = temp_text.value\n",
    "\n",
    "#TIMESTEP\n",
    "# create a float text widget to input variable\n",
    "temp_text = widgets.FloatText(\n",
    "    value=1000.0,  # default value \n",
    "    description='Time step (fs):',\n",
    "    step=100.0,  # step size \n",
    ")\n",
    "# adjust the layout of the widget\n",
    "temp_text.layout.width = 'auto'\n",
    "temp_text.style.description_width = 'initial'\n",
    "# define a function to update the variable\n",
    "def update_temp_text(change):\n",
    "    global simTimestep\n",
    "    simTimestep = change.new\n",
    "# register the update function with the widget\n",
    "temp_text.observe(update_temp_text, 'value')\n",
    "# display the widget\n",
    "display(temp_text)\n",
    "# access the selected temperature value\n",
    "simTimestep = temp_text.value*femtoseconds\n",
    "\n",
    "#PRESSURE\n",
    "# create a float text widget to input variable\n",
    "temp_text = widgets.FloatText(\n",
    "    value=1.0,  # default value \n",
    "    description='Simulation pressure (atm):',\n",
    "    step=0.10,  # step size \n",
    ")\n",
    "# adjust the layout of the widget\n",
    "temp_text.layout.width = 'auto'\n",
    "temp_text.style.description_width = 'initial'\n",
    "# define a function to update the variable\n",
    "def update_temp_text(change):\n",
    "    global simPressure\n",
    "    simPressure = change.new\n",
    "# register the update function with the widget\n",
    "temp_text.observe(update_temp_text, 'value')\n",
    "# display the widget\n",
    "display(temp_text)\n",
    "# access the selected temperature value\n",
    "simPressure = temp_text.value*atmospheres\n",
    "\n",
    "#STEPS\n",
    "# create a float text widget to input variable\n",
    "temp_text = widgets.FloatText(\n",
    "    value=10000,  # default value \n",
    "    description='# MD steps:',\n",
    "    step=100,  # step size \n",
    ")\n",
    "# adjust the layout of the widget\n",
    "temp_text.layout.width = 'auto'\n",
    "temp_text.style.description_width = 'initial'\n",
    "# define a function to update the variable\n",
    "def update_temp_text(change):\n",
    "    global simNumSteps\n",
    "    simNumSteps = change.new\n",
    "# register the update function with the widget\n",
    "temp_text.observe(update_temp_text, 'value')\n",
    "# display the widget\n",
    "display(temp_text)\n",
    "# access the selected temperature value\n",
    "simNumSteps = temp_text.value\n",
    "\n",
    "#WATERS\n",
    "# create a float text widget to input variable\n",
    "temp_text = widgets.FloatText(\n",
    "    value=1000,  # default value \n",
    "    description='# MD steps:',\n",
    "    step=10,  # step size \n",
    ")\n",
    "# adjust the layout of the widget\n",
    "temp_text.layout.width = 'auto'\n",
    "temp_text.style.description_width = 'initial'\n",
    "# define a function to update the variable\n",
    "def update_temp_text(change):\n",
    "    global water\n",
    "    simNumSteps = change.new\n",
    "# register the update function with the widget\n",
    "temp_text.observe(update_temp_text, 'value')\n",
    "# display the widget\n",
    "display(temp_text)\n",
    "# access the selected temperature value\n",
    "water = temp_text.value"
   ]
  },
  {
   "cell_type": "markdown",
   "id": "4a0996ea-5430-48ae-844f-ac8f8cc72417",
   "metadata": {},
   "source": [
    "Once you're happy with your simulation parameters, let's make sure their stored correctly by executing the next cell:"
   ]
  },
  {
   "cell_type": "code",
   "execution_count": null,
   "id": "a8d6d9c5-3b2e-4888-9d82-180d17d62d8d",
   "metadata": {},
   "outputs": [],
   "source": [
    "print(f\"Simulation size: {water} waters\")\n",
    "print(f\"Box size: {boxsize} Ang.\")\n",
    "print(f\"Simulation temperature: {simTemperature} K\")\n",
    "print(f\"Simulation pressure: {simPressure} atm\")\n",
    "print(f\"Simulation time step: {simTimestep} fs.\")\n",
    "print(f\"# MD steps: {simNumSteps} ; Total simulation length: {simNumSteps * simTimestep} fs = {simNumSteps*simTimestep / 1000 / 1000} ns.\")"
   ]
  },
  {
   "cell_type": "code",
   "execution_count": null,
   "id": "83562653-a8e1-4567-b04e-58d6be11fcfb",
   "metadata": {},
   "outputs": [],
   "source": [
    "#System parameters\n",
    "#water=1000\n",
    "#boxsize=48.0\n",
    "#packing_tolerance = 2.0\n",
    "#starting_pdb_file = \"system.pdb\"\n",
    "#starting_box_size = 48.0\n",
    "#simTemperature = 300*kelvin\n",
    "#simTimestep = 1*femtoseconds\n",
    "#simPressure = 1*atmospheres\n",
    "#simNumSteps = 1000\n",
    "#pdbFile = 'system.pdb'"
   ]
  },
  {
   "cell_type": "markdown",
   "id": "002586bd-ca8d-4806-b9e1-54fa01605940",
   "metadata": {},
   "source": [
    "#### Generating the Unit Cell ####"
   ]
  },
  {
   "cell_type": "markdown",
   "id": "b993e4ae-64a5-4c60-bb25-dfb0a2248490",
   "metadata": {},
   "source": [
    "With the parameters for our simulation now defined, we need to generate the actual \"box\" of water molecules that we will use for the simulation. We will use an external program call ```packmol``` to do this. ```packmol``` is widely used for generating condensed phase systems in biology, materials science and colloid & interface science. Here we are only generating a water box, but it is capable of [much more complicated stuff](https://m3g.github.io/packmol/examples.shtml) as well. \n",
    "\n",
    "To start with, we will prepare the input file, ```packmol.in```, that ```packmol``` will go looking for. This input file tells ```packmol``` to build a box of waters according to the parameters that you just set above:"
   ]
  },
  {
   "cell_type": "code",
   "execution_count": null,
   "id": "33f27559-0fe0-4b1e-a6fa-2718a72f2147",
   "metadata": {},
   "outputs": [],
   "source": [
    "with open(\"packmol.in\", \"w\") as f:\n",
    "    f.write(\"tolerance 2.0\\n\".format(packing_tolerance))\n",
    "    f.write(\"filetype pdb\\n\")\n",
    "    f.write(\"output {0}\\n\".format(starting_pdb_file))\n",
    "    f.write(\"\\n\")\n",
    "    f.write(\"structure water.pdb\\n\")\n",
    "    f.write(\"  number {0}\\n\".format(water))\n",
    "    f.write(\"  inside cube 2. 2. 2. {0}\\n\".format(starting_box_size))\n",
    "    f.write(\"end structure\\n\")\n",
    "    f.write(\"\\n\")\n",
    "    f.write(\"add_box_sides 1.0\\n\")\n"
   ]
  },
  {
   "cell_type": "markdown",
   "id": "c710b7a0-2b80-466e-bd16-2d278d0a14af",
   "metadata": {},
   "source": [
    "Now we run ```packmol``` itself, and make sure that everything worked ok:"
   ]
  },
  {
   "cell_type": "code",
   "execution_count": null,
   "id": "0c0cc273-72ed-4169-87f5-8b346873f4de",
   "metadata": {},
   "outputs": [],
   "source": [
    "#%%bash\n",
    "!packmol < packmol.in > packmol.out"
   ]
  },
  {
   "cell_type": "code",
   "execution_count": null,
   "id": "31d487e5-2676-4b34-99a3-0e2490f9d8be",
   "metadata": {},
   "outputs": [],
   "source": [
    "with open('packmol.out', 'r') as f:\n",
    "    text = f.read()\n",
    "    print(text)"
   ]
  },
  {
   "cell_type": "markdown",
   "id": "6ae67490-fca2-4218-a551-75ef9c65ead8",
   "metadata": {},
   "source": [
    "Let's take a look at the simulation box that you've just generated: "
   ]
  },
  {
   "cell_type": "code",
   "execution_count": null,
   "id": "3d2d8471-ce12-4e9a-9c87-2d6084d67dc1",
   "metadata": {},
   "outputs": [],
   "source": [
    "with open('system.pdb', 'r') as f:\n",
    "    text = f.read()\n",
    "    print(text)"
   ]
  },
  {
   "cell_type": "markdown",
   "id": "2667f66d-0c96-479e-b260-f524ae425c01",
   "metadata": {},
   "source": [
    "Notice here that the only particles in the simulation box so far are hydrogen and oxygen atoms. This is fine for the TIP3P water model, however a bit later we will have to adjust this file to include the \"M\" dummy atoms when we use the TIP4P water model. "
   ]
  },
  {
   "cell_type": "code",
   "execution_count": null,
   "id": "c38cc6de-488a-4b47-bbf2-62ca1b95e0be",
   "metadata": {
    "jupyter": {
     "source_hidden": true
    },
    "tags": []
   },
   "outputs": [],
   "source": [
    "#correct and load pdb file\n",
    "# edit the pdb file to have the correct pbc:\n",
    "pbcBoxLine = \"CRYST1 {:<08} {:<08} {:<08}  90.00  90.00  90.00 P 1           1\"\\\n",
    "        .format(starting_box_size,starting_box_size,starting_box_size)\n",
    "\n",
    "# open the file to read:\n",
    "foundCrystLine = False\n",
    "with open(starting_pdb_file,'r+') as f:\n",
    "    data = f.readlines()\n",
    "    crystre = re.compile('^CRYST1')\n",
    "    for idx,line in enumerate(data):\n",
    "        if re.match(crystre,line):\n",
    "            lineNum = idx\n",
    "            foundCrystLine = True\n",
    "            break\n",
    "\n",
    "with open(starting_pdb_file, 'w+') as f:\n",
    "    for idx,entry in enumerate(data):\n",
    "        if idx == lineNum:\n",
    "            f.write(pbcBoxLine + '\\n')\n",
    "        else:\n",
    "            f.write(entry)\n",
    "            \n",
    "pdb = PDBFile(starting_pdb_file)"
   ]
  },
  {
   "cell_type": "markdown",
   "id": "d12a59f6-d8d1-4d3c-b5f2-14efcae60c75",
   "metadata": {},
   "source": [
    "#### Defining the MD Simulation ####"
   ]
  },
  {
   "cell_type": "markdown",
   "id": "911ada96-8d9d-4a41-a10b-ff7282765ffa",
   "metadata": {},
   "source": [
    "We are now ready to setup the MD simulation objects using the ```OpenMM``` python module. The process for this is _exactly_ the same as that in the introductory workshop - we need to define: \n",
    "\n",
    "1. What forcefield we are going to use (this defines how bonded and non-bonded atoms interact with each other)\n",
    "1. What the system topology is (i.e. which atoms are connected to which atoms etc.)\n",
    "1. How we will control the simulation temperature and pressure (e.g. using a _thermostat_ or a _barostat_), and\n",
    "1. How we will iterate Newton's equations of motion (i.e. the _integrator_)\n",
    "\n",
    "Run the cells below. They will setup the simulation in the following way: \n",
    "\n",
    "1. We will apply the TIP3P water model forcefield and store it in  the ```tip3p_forcefield``` object. \n",
    "1. We combine the ```tip3p_forcefield``` object with the topology in our PDB file ```system.pdb``` (generated above using packmol) to define the MD simulation, which we store in the ```tip3p_system``` object. \n",
    "1. We add a barostat (the ```MonteCarloBarostat```) to the simulation using ```OpenMM```'s ```addForce``` module. \n",
    "1. We use ```OpenMM```'s ```NoseHooverIntegrator``` to iterate the equations of motion.\n"
   ]
  },
  {
   "cell_type": "code",
   "execution_count": null,
   "id": "5463d0f2-90e4-4ce7-8b22-736d24924bce",
   "metadata": {},
   "outputs": [],
   "source": [
    "tip3p_forcefield = ForceField('tip3p.xml')"
   ]
  },
  {
   "cell_type": "code",
   "execution_count": null,
   "id": "f5f2f0be-2701-45c3-8474-a73be25f78c1",
   "metadata": {},
   "outputs": [],
   "source": [
    "tip3p_system = tip3p_forcefield.createSystem(\n",
    "    pdb.topology,\n",
    "    nonbondedMethod=PME,\n",
    "    nonbondedCutoff=14*angstrom,\n",
    "    constraints=None,\n",
    "    rigidWater=False)"
   ]
  },
  {
   "cell_type": "code",
   "execution_count": null,
   "id": "1eb6dd30-c358-4a7a-abdf-b75e5c8461f4",
   "metadata": {},
   "outputs": [],
   "source": [
    "tip3p_system.addForce(MonteCarloBarostat(simPressure, simTemperature, 1))"
   ]
  },
  {
   "cell_type": "code",
   "execution_count": null,
   "id": "2b3d9190-1a08-4e96-ade5-f81bdb5e0fdf",
   "metadata": {},
   "outputs": [],
   "source": [
    "tip3p_integrator = NoseHooverIntegrator(\n",
    "    simTemperature, \n",
    "    0.1/picosecond, \n",
    "    simTimestep\n",
    ")"
   ]
  },
  {
   "cell_type": "markdown",
   "id": "e7dc62fd-878d-4aa0-91f8-14ace6ee9fe0",
   "metadata": {},
   "source": [
    "Finally, we tie all of these details together in the ```tip3p_simulation``` object, via ```OpenMM```'s ```Simulation``` module:"
   ]
  },
  {
   "cell_type": "code",
   "execution_count": null,
   "id": "95c000be-00c2-4602-b3c6-3d7b575378b9",
   "metadata": {},
   "outputs": [],
   "source": [
    "tip3p_simulation = Simulation(pdb.topology, tip3p_system, tip3p_integrator)\n",
    "tip3p_simulation.context.setPositions(pdb.positions)"
   ]
  },
  {
   "cell_type": "markdown",
   "id": "5d3077bb-eda2-46c0-acde-3f759ca5a18a",
   "metadata": {},
   "source": [
    "Now we are ready to run!! \n",
    "\n",
    "First things first - we have to minimise the energy of our water box to a local minimum on the potential energy surface. Run the next cell to do this: "
   ]
  },
  {
   "cell_type": "code",
   "execution_count": null,
   "id": "1040f558-2763-4cdb-9c63-2bada30ef8d4",
   "metadata": {},
   "outputs": [],
   "source": [
    "print(\"Running Energy Minimisation:\")\n",
    "t0 = time.time()\n",
    "tip3p_simulation.minimizeEnergy()\n",
    "t1 = time.time()\n",
    "minTime = t1-t0\n",
    "print(\"Minimisation took {} seconds\".format(minTime))"
   ]
  },
  {
   "cell_type": "markdown",
   "id": "4fbecc58-2fcd-4adf-9ef4-b7f5a08b8abb",
   "metadata": {},
   "source": [
    "The arrangement of waters in your box should now correspond to a local energy minimisation, meaning that you are good to go - run the MD simulation!\n",
    "\n",
    "Before we do though, we want to make sure that we store the relevant data from the MD trajectory. The cell below will take care of this for you, and will track the progress of the MD simulation in a file ```tip3p_Equil.dcd```:"
   ]
  },
  {
   "cell_type": "code",
   "execution_count": null,
   "id": "1cb59a3f-c662-4021-8671-5d2d3dd6de43",
   "metadata": {},
   "outputs": [],
   "source": [
    "tip3p_simulation.reporters.append(DCDReporter('tip3p_Equil.dcd', 10))\n",
    "tip3p_simulation.reporters.append(StateDataReporter(\n",
    "    stdout, \n",
    "    10, \n",
    "    step=True,\n",
    "    temperature=True, \n",
    "    potentialEnergy=True, \n",
    "    kineticEnergy=True,\n",
    "    totalEnergy=True, \n",
    "    volume=True, \n",
    "    density=True\n",
    "))"
   ]
  },
  {
   "cell_type": "markdown",
   "id": "20b5bfd0-207d-4922-a357-3a7ad56dfab3",
   "metadata": {},
   "source": [
    "Run the next cell to run your MD simulation!"
   ]
  },
  {
   "cell_type": "code",
   "execution_count": null,
   "id": "a7261396-04ff-4673-99bb-0b5dc3f0ede5",
   "metadata": {},
   "outputs": [],
   "source": [
    "print('Start Simulation')\n",
    "t0 = time.time()\n",
    "tip3p_simulation.step(simNumSteps)\n",
    "t1 = time.time()\n",
    "simTime = t1-t0\n",
    "print(\"Simulation took {} seconds for {} timesteps\".format(simTime,simNumSteps)) "
   ]
  },
  {
   "cell_type": "markdown",
   "id": "daacbade-e51f-4d2b-b6a1-8a17285b50cf",
   "metadata": {
    "jp-MarkdownHeadingCollapsed": true,
    "tags": []
   },
   "source": [
    "### TIP4P-Ew Water Simulation ###"
   ]
  },
  {
   "cell_type": "markdown",
   "id": "97926c57-33f0-4740-9cf1-13fa55611a94",
   "metadata": {},
   "source": [
    "We'll now re-simulate the same box of water using a different force field for a comparison. The setup is a little simpler here, since we do not have to load python modules, construct the simulation box with ```packmol```, define the MD simulation parameters etc. \n",
    "\n",
    "We only need to setup the new MD simulation object using ```OpenMM```. The process for this is _exactly_ the same as that above - recall, we need to define: \n",
    "\n",
    "1. What forcefield we are going to use (this defines how bonded and non-bonded atoms interact with each other)\n",
    "1. What the system topology is (i.e. which atoms are connected to which atoms etc.)\n",
    "1. How we will control the simulation temperature and pressure (e.g. using a _thermostat_ or a _barostat_), and\n",
    "1. How we will iterate Newton's equations of motion (i.e. the _integrator_)\n",
    "\n",
    "Run the cells below. They will setup the simulation in the following way: \n",
    "\n",
    "1. We will apply the TIP4P-Ew water model forcefield and store it in  the ```tip4pew_forcefield``` object. \n",
    "1. We combine the ```tip4pew_forcefield``` object with the topology in our PDB file ```system.pdb``` (generated above using packmol) to define the MD simulation, which we store in the ```tip4pew_system``` object. \n",
    "1. We add a barostat (the ```MonteCarloBarostat```) to the simulation using ```OpenMM```'s ```addForce``` module. \n",
    "1. We use ```OpenMM```'s ```NoseHooverIntegrator``` to iterate the equations of motion.\n",
    "\n",
    "Notice that we are only changing **1 aspect** of our MD simulation - the water model itself - _all other aspects of the MD simulation are the same._ This means that any & all differences between our TIP3P and TIP4P-Ew simulations can only be caused by the differences in the water models themselves. "
   ]
  },
  {
   "cell_type": "code",
   "execution_count": null,
   "id": "4280e789-162a-4ffc-a573-1bb699fbf088",
   "metadata": {},
   "outputs": [],
   "source": [
    "tip4pew_forcefield = ForceField('tip4pew.xml')"
   ]
  },
  {
   "cell_type": "code",
   "execution_count": null,
   "id": "aaa4dd75-6aac-4b61-b76d-d8c83db32e7d",
   "metadata": {},
   "outputs": [],
   "source": [
    "modeller = Modeller(pdb.topology, pdb.positions)\n",
    "modeller.addExtraParticles(tip4pew_forcefield)\n",
    "PDBFile.writeFile(modeller.topology, modeller.positions, open('system_tip4pew.pdb', 'w'))\n",
    "tip4pew_pdb = PDBFile('system_tip4pew.pdb','M')"
   ]
  },
  {
   "cell_type": "code",
   "execution_count": null,
   "id": "987d30a5-9f21-4ec3-84d1-7ad48b2f98af",
   "metadata": {},
   "outputs": [],
   "source": [
    "tip4pew_system = tip4pew_forcefield.createSystem(tip4pew_pdb.topology,nonbondedMethod=PME,nonbondedCutoff=14*angstrom,constraints=None,rigidWater=False)\n",
    "tip4pew_system.addForce(MonteCarloBarostat(simPressure, simTemperature, 1))\n",
    "tip4pew_integrator = NoseHooverIntegrator(\n",
    "    simTemperature, \n",
    "    0.1/picosecond, \n",
    "    simTimestep\n",
    ")\n",
    "tip4pew_simulation = Simulation(tip4pew_pdb.topology, tip4pew_system, tip4pew_integrator)\n",
    "tip4pew_simulation.context.setPositions(tip4pew_pdb.positions)"
   ]
  },
  {
   "cell_type": "markdown",
   "id": "f01f6459-dcf4-4144-b18d-91eec897482f",
   "metadata": {},
   "source": [
    "You now have your TIP4P-Ew water MD simulation set up and ready to run. Now it's your turn to write some of your own code!"
   ]
  },
  {
   "cell_type": "markdown",
   "id": "f6f7aec8-3292-4c9d-add5-b296c6cc3cc3",
   "metadata": {},
   "source": [
    "#### Exercise ####"
   ]
  },
  {
   "cell_type": "markdown",
   "id": "81851a8e-9dc4-418f-8113-b23b7be630bd",
   "metadata": {},
   "source": [
    "1. Add a new cell to the Jupyter notebook below. Using the **energy minimisation** python code above from your TIP3P simulation as a template, minimise the energy of your water simulation box using the TIP4P water model. _NOTE - remember to change 'tip3p' to 'tip4pew' in all variable names!_\n",
    "1. Add a new cell to the Jupyter notebook below. Using the **MD simulation** python code above from your TIP3P simulation as a template, run the MD simulation of your water simulation box using the TIP4P water model. _NOTE - remember to tell your Jupyter notebook to record your trajectory in a DCD file first!!_"
   ]
  },
  {
   "cell_type": "markdown",
   "id": "00927e20-1e06-4b51-b923-cc5b5b8d5072",
   "metadata": {
    "tags": []
   },
   "source": [
    "## Analysis - Water Structure & the Radial Distribution Function ##"
   ]
  },
  {
   "cell_type": "markdown",
   "id": "7f133f7b-16c3-462a-913d-6c8b3fcf1d38",
   "metadata": {},
   "source": [
    "The two extreme scenarios of molecular interaction are solids, having molecules with strong interactions, which are aligned in a rigid crystal, and gases, having molecules with no to minimal interactions, with essentially no regular arrangement in their structure. The amount of interaction (and thus structure) of molecules in a liquid falls in the middle. This is one of the things that makes liquids so interesting - _and the main reason almost all chemistry occurs in a solvent!_ \n",
    "\n",
    "The structure in a liquid can be characterized by a radial distribution function (RDF), g(r). An RDF is a measure of the radial frequency of particles around some point in space. Typically, we use RDFs to measure the likelihood of finding an atom type (e.g. oxygen) around another atom type (e.g. hydrogen). For a monatomic gas, g(r) is flat, because any atom is a random distance from all other atoms. There is no preferred distance; all are equally likely. For a crystalline solid, g(r) has regular, sharp peaks, because atoms are regularly spaced from each other - you will be familiar with this from X-ray diffraction patterns. In a solid, only some distances are likely; others are essentially forbidden. \n",
    "\n",
    "Liquids, on the other hand, are structured locally but random at long range. This means a liquid g(r) resembles that of a solid at short-range, but that of a gas at long-range. Most liquids typically exhibit a few distinct short range peaks, these correspond to **solvation shells**. The position of these peaks indicate the length scale of each solvation shell, and the height of that peak indicates how pronounced the corresponding shell is in structure, relative to the surrounding bulk liquid environment. Eventually, as the nonlocal density becomes identical to the bulk density, g(r) flattens and tends to the bulk value of 1. \n",
    "\n",
    "For water, the amount of local structure can be characterized via the O-O, O-H and H-H g(r) functions (i.e. \"oxygens around oxygens\", \"hydrogens around oxygens\" and \"hyrogens around hydrogens\"), which are shown in the Figure below. This figure is produced via neutron diffraction measurements, however MD is also capable of producing RDFs. These RDFs show that: \n",
    "\n",
    "1. The hydrogen bonding structure in bulk water (i.e. the O-H g(r))  extends well beyond the first solvation shell (there are two hydrogen bond interactions at ~2 and 3.5 $\\mathring A$, respectively). \n",
    "1. The interaction length between neighbouring water molecules (via the O-O g(r)). The figure below shows that water arranges itself into ~3 distinct solvation shells at ~2.5, 4.5 and 7 $\\mathring A$, respectively. \n",
    "\n",
    "So, water is **really** structured!! Now that we understand this, we can begin to understand the physical and chemical properties of water, and why some of them change in the presence of solutes and interfaces (as we will see in the next workshop). "
   ]
  },
  {
   "cell_type": "markdown",
   "id": "482032d3-a8df-4b05-a44f-b389826d2dc4",
   "metadata": {},
   "source": [
    "<img src=\"https://static-02.hindawi.com/articles/isrn/volume-2013/279463/figures/279463.fig.0021.jpg\" align=\"left\" width=\"500\" height=\"500\"/>\n",
    "<img src=\"https://upload.wikimedia.org/wikipedia/commons/e/ea/Molecular_Schematic_for_Interpreting_a_Radial_Distribution_Function.png\" align=\"center\" width=\"400\" height=\"400\"/>\n"
   ]
  },
  {
   "cell_type": "markdown",
   "id": "4138c8f8-849b-44f3-a230-6ce81cfdc733",
   "metadata": {},
   "source": [
    "Let's take our MD trajectory and use the MDAnalysis python module to calculate the same RDFs as shown in the Figure above. "
   ]
  },
  {
   "cell_type": "code",
   "execution_count": null,
   "id": "a545f484-2d0b-4d51-88fc-6859255070a8",
   "metadata": {},
   "outputs": [],
   "source": [
    "import MDAnalysis as mda\n",
    "import MDAnalysis.analysis.rdf as rdf"
   ]
  },
  {
   "cell_type": "markdown",
   "id": "364639d5-e36b-4814-9e7b-f232db51903e",
   "metadata": {},
   "source": [
    "MDAnalysis is extremely powerful, and relies on what is known as a 'universe' (essentially, all the information that defines an MD trajectory, i.e. the topology, the coordinates and the force field). Once we have defined a universe based on our trajectory, we can perform the RDF analysis. Let's store the universe in the variable ```tip3p_u```:"
   ]
  },
  {
   "cell_type": "code",
   "execution_count": null,
   "id": "f6506b9b-f822-42a1-a7ff-6ccbfead5562",
   "metadata": {},
   "outputs": [],
   "source": [
    "tip3p_u = mda.Universe('system.pdb','tip3p_Equil.dcd')"
   ]
  },
  {
   "cell_type": "markdown",
   "id": "31750ed9-f7f7-48e8-938c-23d53840f0b6",
   "metadata": {},
   "source": [
    "We now need to tell MDAnalysis which pairs of atoms we want to investigate. To start with, let's look at the main O-O interaction in your bulk water MD simulation. We will use the ```select_atoms``` function to do this, and store the list of oxyegen atoms in the variable ```O```:"
   ]
  },
  {
   "cell_type": "code",
   "execution_count": null,
   "id": "5b9c3bc1-6867-4c11-b351-efb7f26a38ad",
   "metadata": {},
   "outputs": [],
   "source": [
    "O = tip3p_u.select_atoms('name O')"
   ]
  },
  {
   "cell_type": "markdown",
   "id": "9157619c-ca55-4a9a-a3fb-c00994613c6f",
   "metadata": {},
   "source": [
    "And then tell MDAnalysis the details of the RDF that we are after: "
   ]
  },
  {
   "cell_type": "code",
   "execution_count": null,
   "id": "6a485dd9-51f8-441b-8468-9c4d5584c282",
   "metadata": {},
   "outputs": [],
   "source": [
    "rdf_calc = rdf.InterRDF(O,O,nbins=100,range=(1.0,10))"
   ]
  },
  {
   "cell_type": "markdown",
   "id": "3b386c34-c7a6-490d-a4f4-2c72169ccfa6",
   "metadata": {},
   "source": [
    "Here, we are using MDAnalysis's ```InterRDF``` function to calculate the RDF between each oxygen and every other oxygen. We measure the RDF between 1 $\\mathring A$ and 10 $\\mathring A$ (see the ```range``` variable) at 100 points (see the ```nbins``` variable).\n",
    "\n",
    "Now let's run the analysis -  the result will be stored in the ```rdf_calc``` object:"
   ]
  },
  {
   "cell_type": "code",
   "execution_count": null,
   "id": "65e1f1c4-ae60-4574-9176-db8d6d5a89b9",
   "metadata": {},
   "outputs": [],
   "source": [
    "rdf_calc.run()"
   ]
  },
  {
   "cell_type": "markdown",
   "id": "32256168-1a85-48d7-916d-9fceda68c0e0",
   "metadata": {},
   "source": [
    "This should only take a few seconds. When it is finished, we can plot the results and look at the RDF! We will use the ```matplotlib``` python module, as we have before, to do this. Note that the horizontal and vertical axis data we want to plot are actually now in the ```rdf_calc``` object, as the ```rdf_calc.bins``` and ```rdf_calc.rdf``` variables, respectively. So we will pass these two variables to the plot command below:"
   ]
  },
  {
   "cell_type": "code",
   "execution_count": null,
   "id": "d1b0681b-7961-4859-8724-0205551bdb8b",
   "metadata": {},
   "outputs": [],
   "source": [
    "import matplotlib.pyplot as plt\n",
    "\n",
    "plt.plot(rdf_calc.bins,rdf_calc.rdf,label=\"TIP3P\")\n",
    "plt.xlabel(\"r ($\\mathrm{\\AA}$)\")\n",
    "plt.ylabel(\"g(r)\")\n",
    "plt.ylim([0.0, 15])"
   ]
  },
  {
   "cell_type": "markdown",
   "id": "c8ed5f70-0203-47a3-aaed-b444282bf653",
   "metadata": {},
   "source": [
    "#### Exercise ####"
   ]
  },
  {
   "cell_type": "markdown",
   "id": "5cda2ca7-4ff2-4cc1-8cd7-0770202e4c0a",
   "metadata": {},
   "source": [
    "1. Use the code template below to repeat the RDF analysis for the ??, ?? and ?? water model MD simulations that you ran above. "
   ]
  },
  {
   "cell_type": "markdown",
   "id": "e85319b5-b0bb-4d59-bc54-33afa4bfe2a0",
   "metadata": {
    "tags": []
   },
   "source": [
    "## Analysis - Self Diffusion Coefficients in Bulk Water ##"
   ]
  },
  {
   "cell_type": "code",
   "execution_count": null,
   "id": "4e54bd9e-8765-458c-8122-3fe808ad31bf",
   "metadata": {},
   "outputs": [],
   "source": []
  }
 ],
 "metadata": {
  "kernelspec": {
   "display_name": "openMM",
   "language": "python",
   "name": "openmm"
  },
  "language_info": {
   "codemirror_mode": {
    "name": "ipython",
    "version": 3
   },
   "file_extension": ".py",
   "mimetype": "text/x-python",
   "name": "python",
   "nbconvert_exporter": "python",
   "pygments_lexer": "ipython3",
   "version": "3.10.4"
  }
 },
 "nbformat": 4,
 "nbformat_minor": 5
}
