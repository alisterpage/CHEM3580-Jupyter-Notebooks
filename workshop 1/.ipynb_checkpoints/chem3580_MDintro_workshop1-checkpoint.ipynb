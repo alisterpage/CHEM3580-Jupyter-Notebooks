{
 "cells": [
  {
   "cell_type": "markdown",
   "id": "5f7bfde5-48ce-4172-bb04-4a44e7eb5504",
   "metadata": {
    "tags": []
   },
   "source": [
    "# CHEM3580 Workshop 1 #\n",
    "\n",
    "## Introduction to MD in Python & Jupyter ##"
   ]
  },
  {
   "cell_type": "markdown",
   "id": "bd98a87b-e569-42d2-b819-5ca8a2cb0b7b",
   "metadata": {},
   "source": [
    "As we have seen in the lectures for this section of the course, MD (molecular dynamics) is an extremely powerful tool for simulation the structure, behaviour and properties of colloid and interface systems. The practical component of this section consists of a series of computer labs where you will be using MD to simulate various condensed phase phenomena, and connecting your results to concepts in other parts of the course. \n",
    "\n",
    "The practical method we will be using for these workshops is the (very popular) Python programming language, via (also very popular) Jupyter notebooks. A *great* introduction to Python and Jupyter is provided [here](https://github.com/praiteri/TeachingNotebook/blob/main/introductionToPython/introductionToPython.ipynb), and working through this introduction would be great preparation for these workshops.\n",
    "\n",
    "In each workshop, you will be provided with a Jupyter notebook file, like this one, that explains the aims and expectations of the workshop. The notebook file also includes Python code that you can use as a *template* for your own simulations in the workshop. You will be expected to adjust the python code to your own purposes - note though that you will not need any former experience with Python for these workshops.\n",
    "\n",
    "We will be running the notebooks on cloud-based servers (instructions available on the CHEM3580 canvas site), where all of the necessary Python software is pre-installed for you. You *should* be able to simply switch your virtual machine on and run the notebooks without any issues. However, if you are keen you can try installing Python and Jupyter on your own device - it is totally free and open-source. You will quickly understand why these computational tools are rapidly becoming the most widely used in science for modelling and data analysis!!"
   ]
  },
  {
   "cell_type": "markdown",
   "id": "24570e67-c7c8-47f6-9a43-9b4747647bf1",
   "metadata": {},
   "source": [
    "As we have discussed in the lectures, there are a multitude of MD codes available on the web - some are commercial, some are open-source. Some are better than others, or designed for very specific purposes. Here we will be using the [__OpenMM__](https://openmm.org) code, which is an open-source and very powerful set of Python routines for running MD simulations on GPUs. \n",
    "To illustrate how to use OpenMM in Jupyter, this notebook illustrates the basic steps, i.e. How to: \n",
    "\n",
    "1. Import the necessary Python modules\n",
    "1. Define the chemical structure you are interested in\n",
    "1. Define the MD forcefield you want to use\n",
    "1. Define how Newton's equations of motion will be iterated\n",
    "1. Define which *ensemble* you are going to use (e.g. NVE, NVT, NPT etc.)\n",
    "1. Run the initial energy minimisation\n",
    "1. Run the actual MD trajectory\n",
    "1. ...and finally... visualise your results!!\n",
    "\n"
   ]
  },
  {
   "cell_type": "markdown",
   "id": "9e2abc18-f3a6-41ac-becf-c3397f39d767",
   "metadata": {
    "tags": []
   },
   "source": [
    "### Importing Python Modules ###"
   ]
  },
  {
   "cell_type": "markdown",
   "id": "be1e94ae-a884-4706-9d1e-ae0797adcd87",
   "metadata": {},
   "source": [
    "\n",
    "One of the most powerful aspects of Python is its 'modular structure'. To illustrate how Python modules work, lets assume we want to calculate the value of $\\pi$ to 10 decimal places. There are loads of ways to calculate $\\pi$, but here we will use [Leibniz's formula](https://en.wikipedia.org/wiki/Leibniz_formula_for_π) (this is actually the way most computers do it!). We can do this in Python with the following code (*press \\<shift\\>+\\<return\\> to run the code in Jupyter for yourself*)"
   ]
  },
  {
   "cell_type": "code",
   "execution_count": null,
   "id": "7d4be0fe-f88f-437d-9e9a-1be37f9bc196",
   "metadata": {},
   "outputs": [],
   "source": [
    "k = 1\n",
    "pi = 0\n",
    "\n",
    "for i in range(1000000):\n",
    "    if i % 2 == 0:\n",
    "        pi += 4/k\n",
    "    else:\n",
    "        pi -= 4/k\n",
    "    k += 2\n",
    "\n",
    "print(pi)"
   ]
  },
  {
   "cell_type": "markdown",
   "id": "c65270ac-52eb-48b9-85dd-9f56711bca29",
   "metadata": {},
   "source": [
    "Pretty gross huh!! If only there was an easier way to do it... This is exactly what modules are for in Python. A *much* easier alternative is just to use Pythons ```numpy``` module, which does the hard work for you: "
   ]
  },
  {
   "cell_type": "code",
   "execution_count": null,
   "id": "da52d15f-2397-41f8-aa35-4bf2c3211efd",
   "metadata": {},
   "outputs": [],
   "source": [
    "import numpy as np\n",
    "\n",
    "print(np.pi)"
   ]
  },
  {
   "cell_type": "markdown",
   "id": "c7d2ad78-53a8-491b-952f-d5a7ee178248",
   "metadata": {},
   "source": [
    "Here the syntax ```import numpy as np``` makes the notebook 'import' all of the variables, functions, algorithms etc. contained in the very-powerful [NumPy](https://numpy.org) python package, which is one of the core mathematical libraries within Python. Also, we are telling our notebook to use the \"nickname\" ```np``` for the ```numpy``` module, just to make things a bit shorter. ```np.pi``` indicates that the variable ```pi``` is defined within the module ```numpy```. \n",
    "\n",
    "We will use the ```OpenMM``` module here to define all of the underlying code and algorithms that we need to perform our MD simulations:"
   ]
  },
  {
   "cell_type": "code",
   "execution_count": null,
   "id": "3327d618-20c0-47c6-acd7-949c5dd5eea6",
   "metadata": {},
   "outputs": [],
   "source": [
    "from openmm.app import *\n",
    "from openmm import *\n",
    "from openmm.unit import *\n",
    "from sys import stdout"
   ]
  },
  {
   "cell_type": "markdown",
   "id": "fab486eb-04d3-4240-88f0-41d0dd070391",
   "metadata": {},
   "source": [
    "You should notice that when you ran the cell above, it didn't give you any output - in this case, __no news is good news!!__ Unless you explicitly ask Jupyter, cells will not print output, only error messages or warning messages. "
   ]
  },
  {
   "cell_type": "markdown",
   "id": "86f17149-0ee6-4671-b59f-8bb003cda9f7",
   "metadata": {
    "tags": []
   },
   "source": [
    "### Defining Molecular Structures ###"
   ]
  },
  {
   "cell_type": "markdown",
   "id": "5652b905-64eb-4e17-9076-b1a9552f54dc",
   "metadata": {},
   "source": [
    "There are many ways to define your starting structure in an MD simulation. The simplest is to read in a structure from a file that was prepared previously - this is the approach that we will most often take in this course. We will come back to how we prepare these files in the next workshop. \n",
    "\n",
    "The structure that we will use as the guinea pig for this demonstration is the [villin protein](https://en.wikipedia.org/wiki/Villin-1), which is defined as a ```pdb``` file (```pdb``` = [Protein Data Bank](https://www.rcsb.org) is the file format used by the widely-used repository of protein and enzyme structures used in biology and chemistry). "
   ]
  },
  {
   "cell_type": "code",
   "execution_count": null,
   "id": "55eee476-9653-44a9-ba0d-8b7b6bbe5d55",
   "metadata": {},
   "outputs": [],
   "source": [
    "pdb = PDBFile('villin.pdb')"
   ]
  },
  {
   "cell_type": "markdown",
   "id": "19cc96dd-d102-445d-97a5-2cffca7d8f92",
   "metadata": {},
   "source": [
    "Let's take a quick look at the contents of the file: "
   ]
  },
  {
   "cell_type": "code",
   "execution_count": null,
   "id": "720c09f6-af6f-4eb8-8f38-36378f2d88e4",
   "metadata": {
    "scrolled": true,
    "tags": []
   },
   "outputs": [],
   "source": [
    "with open('villin.pdb', 'r') as f:\n",
    "    text = f.read()\n",
    "    print(text)"
   ]
  },
  {
   "cell_type": "markdown",
   "id": "1e8fc879-fe54-4a72-8300-09f768f9e27a",
   "metadata": {
    "tags": []
   },
   "source": [
    "### Defining MD Simulation Parameters ###"
   ]
  },
  {
   "cell_type": "markdown",
   "id": "6730442c-c818-4bac-b99b-eb4a441c74ab",
   "metadata": {},
   "source": [
    "The ```ForceField``` variable in the OpenMM module already contains all of the necessary forcefield parameters that we will use for our simulation. Let's attach them to the variable ```forcefield``` before we create the topology for our simulation:"
   ]
  },
  {
   "cell_type": "code",
   "execution_count": null,
   "id": "69223458-cc5a-408b-bc2f-a358b0bdcb65",
   "metadata": {},
   "outputs": [],
   "source": [
    "forcefield = ForceField('amber14-all.xml', 'amber14/tip3pfb.xml')"
   ]
  },
  {
   "cell_type": "markdown",
   "id": "4f916315-f6cd-4851-ba8f-859590a16a9f",
   "metadata": {},
   "source": [
    "Now, we will tell OpenMM to create our MD parameters. These parameters basically consist of:  \n",
    "1. How the atoms interact with each other (in terms of bonding interactions, such as $U_{\\text{stretch}}$ potential etc., and non-bonding interactions, such as van der Waals, electrostatic forces etc.)\n",
    "1. The atoms present in the system and\n",
    "1. How these atoms are connected together. \n",
    "\n",
    "In practice, (1) is determined by the __forcefield__, while (2) and (3) are detrmined by the __topology__. The forcefield parameters themselves (i.e. the parameters that define the bond stretch, angle stretch, torsional potentials etc.) are the AMBER forcefield parameters, which we will talk more about in the lectures. \n",
    "\n",
    "Here, we will define all of this information using the ```createSystem``` function in OpenMM, and store the result in the ```system``` variable:"
   ]
  },
  {
   "cell_type": "code",
   "execution_count": null,
   "id": "7e9d8d73-61b9-4505-a20f-d39274313642",
   "metadata": {},
   "outputs": [],
   "source": [
    "system = forcefield.createSystem(\n",
    "    pdb.topology,\n",
    "    nonbondedMethod = PME,\n",
    "    nonbondedCutoff=1*nanometer,\n",
    "    constraints=HBonds\n",
    ")"
   ]
  },
  {
   "cell_type": "markdown",
   "id": "c90ec28c-0487-43fd-a50a-cabe10c9d766",
   "metadata": {},
   "source": [
    "Here, the OpenMM ```topology``` function scans the pdb file we provided above and determines the bonding and non-bonding connections in the molecule. The other components of the ```system``` are the ```nonbondedMethod```, ```nonbondedCutoff``` and ```constraints``` variables, which describe how electrostatic and van der Waals interactions will be calculated in the Amber14 and TIP3PFB forcefields. We will not worry too much about these details for now. "
   ]
  },
  {
   "cell_type": "markdown",
   "id": "6ff2ab23-dad6-40bf-bc2f-142615cd477b",
   "metadata": {
    "jp-MarkdownHeadingCollapsed": true,
    "tags": []
   },
   "source": [
    "### Defining the Integrator ###"
   ]
  },
  {
   "cell_type": "markdown",
   "id": "34b2218d-256d-44da-85e1-ec02c8826046",
   "metadata": {},
   "source": [
    "The ```system``` variable contains all of the structural and energetic information for our protein. It does not describe *how* we want Newton's equations of motion to be simulated. To do this, we will use OpenMM's ```LangevinMiddleIntegrator``` function, one of the many algorithms OpenMM has for iterating Newton's equations. This function wants to know: \n",
    "\n",
    "1. the temperature of the simulation\n",
    "1. how strongly the temperature of the simulation is controlled\n",
    "1. the time step of the simulation\n",
    "\n",
    "We will attach all of this information to the ```integrator``` variable:"
   ]
  },
  {
   "cell_type": "code",
   "execution_count": null,
   "id": "6de6870e-3e01-48b0-b8ee-36456a434ab5",
   "metadata": {},
   "outputs": [],
   "source": [
    "integrator = LangevinMiddleIntegrator(\n",
    "    300*kelvin, #this is the simulation temperature\n",
    "    1/picosecond, #this is how strongly (how often) the temperature is adjusted during the simulation. >1 controls temperature more strongly, <1 more weakly.\n",
    "    0.004*picosecond #this is the simulation timestep\n",
    ")"
   ]
  },
  {
   "cell_type": "markdown",
   "id": "5fb062bf-a52a-4268-a9bb-af41270b84a4",
   "metadata": {},
   "source": [
    "As we will see with simulations later on, the kind of information that you need to set in the ```integrator``` depends on the kind of simulation that you want to run. For example, if you are using an NPT ensemble, you need to specify both the temperature and pressure of the simulation. But for now we can get going with our calculation... "
   ]
  },
  {
   "cell_type": "markdown",
   "id": "b1023ab2-c73d-4f23-a8b1-41f3a7d5f14d",
   "metadata": {
    "jp-MarkdownHeadingCollapsed": true,
    "tags": []
   },
   "source": [
    "### Initial Energy Minimisation ###"
   ]
  },
  {
   "cell_type": "markdown",
   "id": "dbf6dbab-cd24-42fc-9ee0-a7a0565a4b80",
   "metadata": {},
   "source": [
    "We now have everything we need to define our MD simulation, i.e.\n",
    "\n",
    "1. the geometry and forcefield information (which is defined in the ```system``` variable), and \n",
    "1. how we want to simulate the dynamics (which is defined in the ```integrator``` variable)\n",
    "\n",
    "We can now define our MD simulation, using OpenMM's ```Simulation``` function. Let's define this in a new variable, ```villin_md```:"
   ]
  },
  {
   "cell_type": "code",
   "execution_count": null,
   "id": "9c714f7d-2175-4808-9787-03b11d9adb0a",
   "metadata": {},
   "outputs": [],
   "source": [
    "villin_md = Simulation(pdb.topology, system, integrator)\n",
    "villin_md.context.setPositions(pdb.positions)"
   ]
  },
  {
   "cell_type": "markdown",
   "id": "296b3d9d-03ac-4cb7-95e0-2620c56186db",
   "metadata": {},
   "source": [
    "As discussed in lectures, we must always begin an MD trajectory from a __local minimum__ on the potential energy surface. We will use OpenMM's ```minimizeEnergy``` function to do this for us. Here, the syntax ```villin_md.minimizeEnergy``` tells Python to apply the ```minimizeEnergy``` function to the system defined in the ```villin_md``` variable. It will use a maximum of 100 steps (```maxIterations=100```), and only take a few seconds..."
   ]
  },
  {
   "cell_type": "code",
   "execution_count": null,
   "id": "628bfc87-f00a-4afb-aea1-a3f5fd39d98b",
   "metadata": {},
   "outputs": [],
   "source": [
    "print(\"Minimising energy...\")\n",
    "villin_md.minimizeEnergy(maxIterations=100)"
   ]
  },
  {
   "cell_type": "markdown",
   "id": "c9eea626-17e1-40f4-ace7-8fdd78fb0b68",
   "metadata": {
    "tags": []
   },
   "source": [
    "### Running the MD Simulation ###"
   ]
  },
  {
   "cell_type": "markdown",
   "id": "43eb00f5-a3e8-455e-9d3a-09d2169481c3",
   "metadata": {},
   "source": [
    "Now we have our system at a local minimum on the potential energy surface, we will run the MD simulation itself using OpenMM's ```step``` function. First however, we will ask OpenMM to give us the information that we want from this simulation. This is basically the structure of the protein, its energy and the temperature of the simulation. We do this via the ```PDBReporter``` and ```StateDataReport``` functions in OpenMM: "
   ]
  },
  {
   "cell_type": "code",
   "execution_count": null,
   "id": "c159d56b-3a0d-4374-94e5-b46a637d5884",
   "metadata": {},
   "outputs": [],
   "source": [
    "villin_md.reporters.append(PDBReporter('output.pdb',1000)) # we are asking OpenMM to print the structure of the simulation to the file output.pdb\n",
    "villin_md.reporters.append(StateDataReporter(\n",
    "    'output.csv', # we are asking OpenMM to print the temperature & energy to 'standard output' - the information will appear directly in the notebook while the simulation runs. \n",
    "    100, # print the temperature & energy every 100th step\n",
    "    step=True, # print the step number\n",
    "    time=True, # print the simulation time \n",
    "    potentialEnergy=True, # print the energy\n",
    "    temperature=True # print the temperature \n",
    "))"
   ]
  },
  {
   "cell_type": "markdown",
   "id": "a09d62e0-1bc8-4a6b-a393-fed001627655",
   "metadata": {},
   "source": [
    "We are finally good to go!!\n",
    "\n",
    "Let's use OpenMM's ```step``` function to actually run the MD simulation ```villin_md```. To start with, we will just do 1000 steps:"
   ]
  },
  {
   "cell_type": "code",
   "execution_count": null,
   "id": "32c235c1-304a-407a-8b39-bd41d642ff09",
   "metadata": {},
   "outputs": [],
   "source": [
    "villin_md.step(1000)\n",
    "with open('output.csv', 'r') as f:\n",
    "    text = f.read()\n",
    "    print(text)"
   ]
  },
  {
   "cell_type": "markdown",
   "id": "0be368b9-b23a-40a7-8fa5-5214cd5ab534",
   "metadata": {},
   "source": [
    "Notice the information we requested is printed above as the simulation proceeds. "
   ]
  },
  {
   "cell_type": "markdown",
   "id": "477f260b-4912-44f2-a6ce-30f438b6426a",
   "metadata": {
    "jp-MarkdownHeadingCollapsed": true,
    "tags": []
   },
   "source": [
    "### Visualising Your Trajectory ###"
   ]
  },
  {
   "cell_type": "markdown",
   "id": "a6cf3376-0367-4e4d-922d-56c6665e8a09",
   "metadata": {},
   "source": [
    "Often the most useful information provided by an MD simulation is not temperature or energy, it is *structural*, which means we need a way of looking at the structure or MD trajectory *directly*.\n",
    "\n",
    "We will use the Python ```nglview``` and ```MDAnalysis``` modules, which enables us to look at structures directly inside the notebook. Let's import the necessary modules: "
   ]
  },
  {
   "cell_type": "code",
   "execution_count": null,
   "id": "e3905cc8-90a0-4fe7-9be3-884080fcabd2",
   "metadata": {},
   "outputs": [],
   "source": [
    "import nglview as nv\n",
    "import MDAnalysis as mda"
   ]
  },
  {
   "cell_type": "markdown",
   "id": "06a22c7b-469e-4406-b605-c92432efe436",
   "metadata": {},
   "source": [
    "Here the syntax ```import nglview as nv``` tells Python to use the nickname ```nv``` in place of ```nglview``` for the remainder of the notebook. This is a very common technique that just makes writing code a bit easier. \n",
    "\n",
    "To visualise our simulated protein, we need to define a new kind of variable, a 'universe', inside the ```MDAnalysis``` module. The benefits of doing this won't really become obvious until later in the workshop course, but we will find this is very useful for analysing MD trajectories in many ways later. For now, we will use ```nglview```'s ```show_mdanalysis``` function to produce an interactive widget showing our MD simulation below in the notebook:"
   ]
  },
  {
   "cell_type": "code",
   "execution_count": null,
   "id": "cb918870-f2c6-4b23-9855-e4a1290e5a29",
   "metadata": {},
   "outputs": [],
   "source": [
    "u = mda.Universe('output.pdb')        # define the MDAnalysis universe using the output.pdb file produced above in our MD simulation\n",
    "view = nv.show_mdanalysis(u)          # apply the show_analysis function to this universe, and place the output in the 'view' variable\n",
    "view.add_representation('licorice',selection=\"water\")        # adjust the way we show the water molecules present in the simulation\n",
    "view                                  # show the view variable"
   ]
  },
  {
   "cell_type": "markdown",
   "id": "da3e4ae4-39c4-408e-a1fa-e8baa449e540",
   "metadata": {
    "tags": []
   },
   "source": [
    "### Plotting Results & Properties ###"
   ]
  },
  {
   "cell_type": "markdown",
   "id": "ae5a0a34-19d9-4097-a302-18937a87c4bb",
   "metadata": {},
   "source": [
    "In addition to looking at the structure itself, we may also want to visualise the properties of the protein as well, for example here the energy and the temperature. You may be familiar with analysis this kind of data in MS Excel, but here we will see that it is far more convenient and simple to do this directly inside the Jupyter notebook.\n",
    "\n",
    "To do this we can load the simulation information stored in ```output.csv``` into a variable called ```data```. This is an array of rows and columns; the 2nd, 3rd and 4th columns store the simulation time, potential energy and temperature, respectively. The code below loads ```data``` and then defines three new variables storing each of these properties: \n"
   ]
  },
  {
   "cell_type": "code",
   "execution_count": null,
   "id": "f996979f-df9b-403d-af3e-bed89117c322",
   "metadata": {},
   "outputs": [],
   "source": [
    "with open('output.csv', 'r') as f:\n",
    "    text = f.read()\n",
    "    print(text)\n",
    "data = np.genfromtxt('output.csv', skip_header=1,delimiter=',')\n",
    "times = data[:,1]\n",
    "potential_energies=data[:,2]\n",
    "temperatures=data[:,3]"
   ]
  },
  {
   "cell_type": "markdown",
   "id": "77a45c34-5583-4d94-b0d0-a752aec9dd1d",
   "metadata": {},
   "source": [
    "Now we can plot the data directly using the very popular ```matplotlib``` module in Python. First, let's plot the potential energy of the protein as the MD simulation proceeds: "
   ]
  },
  {
   "cell_type": "code",
   "execution_count": null,
   "id": "93946e5c-df46-4aa8-9b90-949a174cd5d9",
   "metadata": {},
   "outputs": [],
   "source": [
    "import matplotlib.pyplot as plt\n",
    "\n",
    "plt.plot(times, potential_energies)\n",
    "plt.xlabel('Time (ps)')\n",
    "plt.ylabel('Potential energy (kJ/mol)')\n",
    "plt.show()"
   ]
  },
  {
   "cell_type": "markdown",
   "id": "ebbbde28-5aa2-4f1d-9ad5-b99b61ac6612",
   "metadata": {},
   "source": [
    "And now the temperature of the simulation:"
   ]
  },
  {
   "cell_type": "code",
   "execution_count": null,
   "id": "78f87ecc-8099-494b-81c5-a0f07cd73b6e",
   "metadata": {},
   "outputs": [],
   "source": [
    "plt.plot(times, temperatures)\n",
    "plt.xlabel('Time (ps)')\n",
    "plt.ylabel('Temperature (K)')\n",
    "plt.show()"
   ]
  },
  {
   "cell_type": "code",
   "execution_count": null,
   "id": "e04bc56f",
   "metadata": {},
   "outputs": [],
   "source": []
  }
 ],
 "metadata": {
  "kernelspec": {
   "display_name": "openMM",
   "language": "python",
   "name": "openmm"
  },
  "language_info": {
   "codemirror_mode": {
    "name": "ipython",
    "version": 3
   },
   "file_extension": ".py",
   "mimetype": "text/x-python",
   "name": "python",
   "nbconvert_exporter": "python",
   "pygments_lexer": "ipython3",
   "version": "3.10.4"
  }
 },
 "nbformat": 4,
 "nbformat_minor": 5
}
