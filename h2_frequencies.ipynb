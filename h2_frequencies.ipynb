{
  "nbformat": 4,
  "nbformat_minor": 0,
  "metadata": {
    "colab": {
      "provenance": [],
      "authorship_tag": "ABX9TyPH9J0CiSMdB66IMAZoNZeg",
      "include_colab_link": true
    },
    "kernelspec": {
      "name": "python3",
      "display_name": "Python 3"
    },
    "language_info": {
      "name": "python"
    },
    "widgets": {
      "application/vnd.jupyter.widget-state+json": {
        "bd4f92c6a47d4dae8d1292eb91bfda7d": {
          "model_module": "@jupyter-widgets/controls",
          "model_name": "VBoxModel",
          "model_module_version": "1.5.0",
          "state": {
            "_dom_classes": [
              "widget-interact"
            ],
            "_model_module": "@jupyter-widgets/controls",
            "_model_module_version": "1.5.0",
            "_model_name": "VBoxModel",
            "_view_count": null,
            "_view_module": "@jupyter-widgets/controls",
            "_view_module_version": "1.5.0",
            "_view_name": "VBoxView",
            "box_style": "",
            "children": [
              "IPY_MODEL_90bed3918d374091a3f05576b6af49f2",
              "IPY_MODEL_0e8264f533f34254955a86cddb3b6242"
            ],
            "layout": "IPY_MODEL_33cb7756e05b4caa861beff8e4d954fc"
          }
        },
        "90bed3918d374091a3f05576b6af49f2": {
          "model_module": "@jupyter-widgets/controls",
          "model_name": "FloatSliderModel",
          "model_module_version": "1.5.0",
          "state": {
            "_dom_classes": [],
            "_model_module": "@jupyter-widgets/controls",
            "_model_module_version": "1.5.0",
            "_model_name": "FloatSliderModel",
            "_view_count": null,
            "_view_module": "@jupyter-widgets/controls",
            "_view_module_version": "1.5.0",
            "_view_name": "FloatSliderView",
            "continuous_update": true,
            "description": "value",
            "description_tooltip": null,
            "disabled": false,
            "layout": "IPY_MODEL_31343ef46a6b4e4abc8f254897db41ab",
            "max": 2000,
            "min": 800,
            "orientation": "horizontal",
            "readout": true,
            "readout_format": ".2f",
            "step": 0.1,
            "style": "IPY_MODEL_25bb09d2812344629c4405bf1dc96acb",
            "value": 1019.4
          }
        },
        "0e8264f533f34254955a86cddb3b6242": {
          "model_module": "@jupyter-widgets/output",
          "model_name": "OutputModel",
          "model_module_version": "1.0.0",
          "state": {
            "_dom_classes": [],
            "_model_module": "@jupyter-widgets/output",
            "_model_module_version": "1.0.0",
            "_model_name": "OutputModel",
            "_view_count": null,
            "_view_module": "@jupyter-widgets/output",
            "_view_module_version": "1.0.0",
            "_view_name": "OutputView",
            "layout": "IPY_MODEL_f1d070ae220f4aa99166f39da6a5c087",
            "msg_id": "",
            "outputs": [
              {
                "output_type": "display_data",
                "data": {
                  "text/plain": "<pandas.io.formats.style.Styler at 0x7f97c57262e0>",
                  "text/html": "<style type=\"text/css\">\n</style>\n<table id=\"T_8c0a3\" class=\"dataframe\">\n  <thead>\n    <tr>\n      <th id=\"T_8c0a3_level0_col0\" class=\"col_heading level0 col0\" >n</th>\n      <th id=\"T_8c0a3_level0_col1\" class=\"col_heading level0 col1\" >Energy (J)</th>\n      <th id=\"T_8c0a3_level0_col2\" class=\"col_heading level0 col2\" >Harmonic ν̃ (cm-1)</th>\n      <th id=\"T_8c0a3_level0_col3\" class=\"col_heading level0 col3\" >Exp. ν̃ (cm-1)</th>\n      <th id=\"T_8c0a3_level0_col4\" class=\"col_heading level0 col4\" >Difference (cm-1)</th>\n    </tr>\n  </thead>\n  <tbody>\n    <tr>\n      <td id=\"T_8c0a3_row0_col0\" class=\"data row0 col0\" >0</td>\n      <td id=\"T_8c0a3_row0_col1\" class=\"data row0 col1\" >5.622019e-20</td>\n      <td id=\"T_8c0a3_row0_col2\" class=\"data row0 col2\" >0.0</td>\n      <td id=\"T_8c0a3_row0_col3\" class=\"data row0 col3\" >0.0</td>\n      <td id=\"T_8c0a3_row0_col4\" class=\"data row0 col4\" >0.0</td>\n    </tr>\n    <tr>\n      <td id=\"T_8c0a3_row1_col0\" class=\"data row1 col0\" >1</td>\n      <td id=\"T_8c0a3_row1_col1\" class=\"data row1 col1\" >1.686606e-19</td>\n      <td id=\"T_8c0a3_row1_col2\" class=\"data row1 col2\" >5656.52</td>\n      <td id=\"T_8c0a3_row1_col3\" class=\"data row1 col3\" >4161.0</td>\n      <td id=\"T_8c0a3_row1_col4\" class=\"data row1 col4\" >1495.52</td>\n    </tr>\n    <tr>\n      <td id=\"T_8c0a3_row2_col0\" class=\"data row2 col0\" >2</td>\n      <td id=\"T_8c0a3_row2_col1\" class=\"data row2 col1\" >2.811010e-19</td>\n      <td id=\"T_8c0a3_row2_col2\" class=\"data row2 col2\" >11313.05</td>\n      <td id=\"T_8c0a3_row2_col3\" class=\"data row2 col3\" >8087.0</td>\n      <td id=\"T_8c0a3_row2_col4\" class=\"data row2 col4\" >3226.05</td>\n    </tr>\n    <tr>\n      <td id=\"T_8c0a3_row3_col0\" class=\"data row3 col0\" >3</td>\n      <td id=\"T_8c0a3_row3_col1\" class=\"data row3 col1\" >3.935414e-19</td>\n      <td id=\"T_8c0a3_row3_col2\" class=\"data row3 col2\" >16969.57</td>\n      <td id=\"T_8c0a3_row3_col3\" class=\"data row3 col3\" >11782.0</td>\n      <td id=\"T_8c0a3_row3_col4\" class=\"data row3 col4\" >5187.57</td>\n    </tr>\n    <tr>\n      <td id=\"T_8c0a3_row4_col0\" class=\"data row4 col0\" >4</td>\n      <td id=\"T_8c0a3_row4_col1\" class=\"data row4 col1\" >5.059817e-19</td>\n      <td id=\"T_8c0a3_row4_col2\" class=\"data row4 col2\" >22626.1</td>\n      <td id=\"T_8c0a3_row4_col3\" class=\"data row4 col3\" >15250.0</td>\n      <td id=\"T_8c0a3_row4_col4\" class=\"data row4 col4\" >7376.1</td>\n    </tr>\n  </tbody>\n</table>\n"
                },
                "metadata": {}
              }
            ]
          }
        },
        "33cb7756e05b4caa861beff8e4d954fc": {
          "model_module": "@jupyter-widgets/base",
          "model_name": "LayoutModel",
          "model_module_version": "1.2.0",
          "state": {
            "_model_module": "@jupyter-widgets/base",
            "_model_module_version": "1.2.0",
            "_model_name": "LayoutModel",
            "_view_count": null,
            "_view_module": "@jupyter-widgets/base",
            "_view_module_version": "1.2.0",
            "_view_name": "LayoutView",
            "align_content": null,
            "align_items": null,
            "align_self": null,
            "border": null,
            "bottom": null,
            "display": null,
            "flex": null,
            "flex_flow": null,
            "grid_area": null,
            "grid_auto_columns": null,
            "grid_auto_flow": null,
            "grid_auto_rows": null,
            "grid_column": null,
            "grid_gap": null,
            "grid_row": null,
            "grid_template_areas": null,
            "grid_template_columns": null,
            "grid_template_rows": null,
            "height": null,
            "justify_content": null,
            "justify_items": null,
            "left": null,
            "margin": null,
            "max_height": null,
            "max_width": null,
            "min_height": null,
            "min_width": null,
            "object_fit": null,
            "object_position": null,
            "order": null,
            "overflow": null,
            "overflow_x": null,
            "overflow_y": null,
            "padding": null,
            "right": null,
            "top": null,
            "visibility": null,
            "width": null
          }
        },
        "31343ef46a6b4e4abc8f254897db41ab": {
          "model_module": "@jupyter-widgets/base",
          "model_name": "LayoutModel",
          "model_module_version": "1.2.0",
          "state": {
            "_model_module": "@jupyter-widgets/base",
            "_model_module_version": "1.2.0",
            "_model_name": "LayoutModel",
            "_view_count": null,
            "_view_module": "@jupyter-widgets/base",
            "_view_module_version": "1.2.0",
            "_view_name": "LayoutView",
            "align_content": null,
            "align_items": null,
            "align_self": null,
            "border": null,
            "bottom": null,
            "display": null,
            "flex": null,
            "flex_flow": null,
            "grid_area": null,
            "grid_auto_columns": null,
            "grid_auto_flow": null,
            "grid_auto_rows": null,
            "grid_column": null,
            "grid_gap": null,
            "grid_row": null,
            "grid_template_areas": null,
            "grid_template_columns": null,
            "grid_template_rows": null,
            "height": null,
            "justify_content": null,
            "justify_items": null,
            "left": null,
            "margin": null,
            "max_height": null,
            "max_width": null,
            "min_height": null,
            "min_width": null,
            "object_fit": null,
            "object_position": null,
            "order": null,
            "overflow": null,
            "overflow_x": null,
            "overflow_y": null,
            "padding": null,
            "right": null,
            "top": null,
            "visibility": null,
            "width": null
          }
        },
        "25bb09d2812344629c4405bf1dc96acb": {
          "model_module": "@jupyter-widgets/controls",
          "model_name": "SliderStyleModel",
          "model_module_version": "1.5.0",
          "state": {
            "_model_module": "@jupyter-widgets/controls",
            "_model_module_version": "1.5.0",
            "_model_name": "SliderStyleModel",
            "_view_count": null,
            "_view_module": "@jupyter-widgets/base",
            "_view_module_version": "1.2.0",
            "_view_name": "StyleView",
            "description_width": "",
            "handle_color": null
          }
        },
        "f1d070ae220f4aa99166f39da6a5c087": {
          "model_module": "@jupyter-widgets/base",
          "model_name": "LayoutModel",
          "model_module_version": "1.2.0",
          "state": {
            "_model_module": "@jupyter-widgets/base",
            "_model_module_version": "1.2.0",
            "_model_name": "LayoutModel",
            "_view_count": null,
            "_view_module": "@jupyter-widgets/base",
            "_view_module_version": "1.2.0",
            "_view_name": "LayoutView",
            "align_content": null,
            "align_items": null,
            "align_self": null,
            "border": null,
            "bottom": null,
            "display": null,
            "flex": null,
            "flex_flow": null,
            "grid_area": null,
            "grid_auto_columns": null,
            "grid_auto_flow": null,
            "grid_auto_rows": null,
            "grid_column": null,
            "grid_gap": null,
            "grid_row": null,
            "grid_template_areas": null,
            "grid_template_columns": null,
            "grid_template_rows": null,
            "height": null,
            "justify_content": null,
            "justify_items": null,
            "left": null,
            "margin": null,
            "max_height": null,
            "max_width": null,
            "min_height": null,
            "min_width": null,
            "object_fit": null,
            "object_position": null,
            "order": null,
            "overflow": null,
            "overflow_x": null,
            "overflow_y": null,
            "padding": null,
            "right": null,
            "top": null,
            "visibility": null,
            "width": null
          }
        }
      }
    }
  },
  "cells": [
    {
      "cell_type": "markdown",
      "metadata": {
        "id": "view-in-github",
        "colab_type": "text"
      },
      "source": [
        "<a href=\"https://colab.research.google.com/github/alisterpage/CHEM3580-Jupyter-Notebooks/blob/main/h2_frequencies.ipynb\" target=\"_parent\"><img src=\"https://colab.research.google.com/assets/colab-badge.svg\" alt=\"Open In Colab\"/></a>"
      ]
    },
    {
      "cell_type": "code",
      "execution_count": 4,
      "metadata": {
        "id": "eVJse8fH7_Z-"
      },
      "outputs": [],
      "source": [
        "!pip install ipympl -q 2>&1 >/dev/null\n",
        "!pip install ipysheet -q 2>&1 >/dev/null"
      ]
    },
    {
      "cell_type": "markdown",
      "source": [
        "The equilibrium bond length of the H$_{2}$ molecule is 0.751 $\\mathring A$, and the bond dissociation energy is 436 kJ/mol. The potential energy surface of the H$_{2}$ molecule can be approximated using a <font color='blue'>harmonic potential energy surface</font>,\n",
        "\n",
        "<center>$U_{\\text{stretch}} = k(\\Delta R)^2$</center>\n",
        "\n",
        "where the harmonic force constant for H$_{2}$ is $k = 1.02 × 10^{3}$ N m$^{-1}$.\n",
        "\n",
        "What about quantum mechanics though?? According to quantum mechanics, this bond will vibrate with one of an infinite set of frequencies - in the same way that the motion and energy of any quantum mechanical particle is quantised (recall the 'particle-in-a-box' from CHEM2410!!). \n",
        "\n",
        "It can be shown that for this H$_{2}$ molecule, the vibrational energies are \n",
        "\n",
        "<center>$E_{n} = h \\left( n + \\frac{1}{2} \\right) \\nu$</center>\n",
        "\n",
        "where $n = 0, 1, 2, ...$ is the vibrational quantum number  of the molecule, and $\\nu$ is the fundamental frequency (s$^{-1}$),\n",
        "\n",
        "<center>$\\nu = \\frac{1}{2\\pi}\\left( \\sqrt{\\frac{2k}{m}} \\right)$</center>\n",
        "\n",
        "It is possible to measure the energies $E_{n}$ very accurately spectroscopically, and these energies for the first few vibrational states of the H$_{2}$ molecule are provided in the table below. \n",
        "\n",
        "| $n$ | $E_{n}$ (J)     | $\\tilde{\\nu}$ (cm$^{-1}$) | \n",
        "| ---------------- | ---------------- | ---------------- |\n",
        "0 | $5.62 \\times 10^{-20}$ | - |\n",
        "1 | $1.69 \\times 10^{-20}$| 4,161 |\n",
        "2 | $2.81 \\times 10^{-20}$| 8,087 |\n",
        "3 | $3.94 \\times 10^{-20}$| 11,782|\n",
        "4 | $5.07 \\times 10^{-20}$| 15,250 |\n",
        "\n",
        "The widget below calculates the vibrational energies of H$_{2}$, $E_{n}$, assuming a Harmonic potential energy $U_{\\text{stretch}}$. Change the value of the Harmonic force constant $k$ and quantum number $n$ to answer the following questions. \n",
        "\n",
        "1. How do the vibrational energies change with the value of $k$?\n",
        "2. Is it possible to adjust $k$ to reproduce the low-energy experimental frequencies?\n",
        "3. Is it possible to adjust $k$ to reproduce the high-energy experimental frequencies?\n",
        "4. Is it possible to adjust $k$ to reproduce <b>both</b> the low- and high-energy experimental frequencies?"
      ],
      "metadata": {
        "id": "6yYQW4Tx8A87"
      }
    },
    {
      "cell_type": "code",
      "source": [
        "#@title\n",
        "%matplotlib widget\n",
        "import ipywidgets as widgets\n",
        "import numpy as np\n",
        "from ipywidgets import FloatSlider, link, VBox\n",
        "from ipysheet import calculation\n",
        "from google.colab import output\n",
        "output.enable_custom_widget_manager()\n",
        "\n",
        "# set up sheet\n",
        "sheet3 = sheet(rows=3, columns=2, column)\n",
        " \n",
        "# generate x values\n",
        "x = np.linspace(0.251, 5, 100)\n",
        "xmin=0.751\n",
        " \n",
        "    \n",
        "def harmonic(k, x, xmin):\n",
        "    \"\"\"\n",
        "    Return a harmonic potential for x with force constant k\n",
        "    \"\"\"\n",
        "    return k*(x-xmin)**2\n",
        "\n",
        "def morse(n, k, nu):\n",
        "    \"\"\"\n",
        "    Return the \n",
        "    \"\"\"\n",
        "    return D*(1-np.exp(-alpha*(x-xmin)))**2\n",
        " \n",
        " \n",
        "@widgets.interact(k=(0, 1500, 1), D=(0, 600, 1), alpha=(0, 30, 0.1))\n",
        "def update(k = 0, D=0, alpha=0):\n",
        "    \"\"\"Remove old lines from plot and plot new one\"\"\"\n",
        "    [l.remove() for l in ax.lines]\n",
        "    ax.plot(x, harmonic(k,x,xmin),color='blue')\n",
        "    ax.plot(x, morse(D,alpha,x,xmin),color='red')"
      ],
      "metadata": {
        "id": "sZ25FTZdBB8O"
      },
      "execution_count": null,
      "outputs": []
    },
    {
      "cell_type": "code",
      "source": [
        "import ipywidgets as widgets\n",
        "from IPython.display import display\n",
        "import pandas as pd\n",
        "from array import array\n",
        "import numpy as np\n",
        "from math import sqrt\n",
        "import warnings\n",
        "warnings.filterwarnings('ignore')\n",
        "\n",
        "# Create a slider widget\n",
        "slider = widgets.FloatSlider(min=0.8e3, max=2e3, value=1e3)\n",
        "\n",
        "# Link the slider to the table\n",
        "widgets.interact(update_table, value=slider)\n",
        "\n",
        "def update_table(value):\n",
        "  data = np.empty((0, 5))\n",
        "  nvalues = np.array([0.0, 1.0, 2.0, 3.0, 4.0])\n",
        "  exp_values = np.array([4161.0,  8087.0,  11782.0, 15250.0] )\n",
        "  data = np.append(data, [[nvalues[0],E_n(0,value),0,0,0]],axis=0)\n",
        "  for i in range(1,5):\n",
        "    data = np.append(data, [[nvalues[i],float(E_n(i,value)),nu_tilde(i,value),exp_values[i-1],nu_tilde(i,value) - exp_values[i-1]]],axis=0)\n",
        "    \n",
        "  df = pd.DataFrame(data, columns=[\"n\", \"Energy (J)\",  \"Harmonic ν̃ (cm-1)\", \"Exp. ν̃ (cm-1)\", \"Difference (cm-1)\"])\n",
        "  df[\"Energy (J)\"] = df[\"Energy (J)\"].apply(lambda x: \"{:.6e}\".format(x))\n",
        "  df[\"n\"] = df[\"n\"].astype(int)\n",
        "  df[\"Exp. ν̃ (cm-1)\"] = df[\"Exp. ν̃ (cm-1)\"].apply(lambda x: str(round(x, 1)))\n",
        "  df[\"Harmonic ν̃ (cm-1)\"] = df[\"Harmonic ν̃ (cm-1)\"].apply(lambda x: str(round(x, 2)))\n",
        "  df[\"Difference (cm-1)\"] = df[\"Difference (cm-1)\"].apply(lambda x: str(round(x, 2)))\n",
        "  display(df.style.hide_index())\n",
        "\n",
        "def E_n(n, value):\n",
        "  c = 3.0e8\n",
        "  h = 6.626e-34\n",
        "  mu = 1.08*1.08/(1.08+1.08)*1.66054E-27\n",
        "  nu = 1/(2*np.pi)*sqrt(value/mu)\n",
        "  return h*(n+0.5)*nu\n",
        "\n",
        "def nu_tilde(n, value):\n",
        "  c = 3.0e8\n",
        "  h = 6.626e-34\n",
        "  mu = 1.08*1.08/(1.08+1.08)*1.66054E-27\n",
        "  nu = 1/(2*np.pi)*sqrt(2*value/mu)\n",
        "  my_lambda=h*c/(E_n(n,value)-E_n(0,value))/1e-9\n",
        "  return 1e7/my_lambda\n",
        "\n"
      ],
      "metadata": {
        "id": "tgkf4ax99AGU",
        "outputId": "550ca465-94f6-443c-cc14-116c16dea2a5",
        "colab": {
          "base_uri": "https://localhost:8080/",
          "height": 236,
          "referenced_widgets": [
            "bd4f92c6a47d4dae8d1292eb91bfda7d",
            "90bed3918d374091a3f05576b6af49f2",
            "0e8264f533f34254955a86cddb3b6242",
            "33cb7756e05b4caa861beff8e4d954fc",
            "31343ef46a6b4e4abc8f254897db41ab",
            "25bb09d2812344629c4405bf1dc96acb",
            "f1d070ae220f4aa99166f39da6a5c087"
          ]
        }
      },
      "execution_count": 106,
      "outputs": [
        {
          "output_type": "display_data",
          "data": {
            "text/plain": [
              "interactive(children=(FloatSlider(value=1000.0, description='value', max=2000.0, min=800.0), Output()), _dom_c…"
            ],
            "application/vnd.jupyter.widget-view+json": {
              "version_major": 2,
              "version_minor": 0,
              "model_id": "bd4f92c6a47d4dae8d1292eb91bfda7d"
            }
          },
          "metadata": {
            "application/vnd.jupyter.widget-view+json": {
              "colab": {
                "custom_widget_manager": {
                  "url": "https://ssl.gstatic.com/colaboratory-static/widgets/colab-cdn-widget-manager/b3e629b1971e1542/manager.min.js"
                }
              }
            }
          }
        }
      ]
    },
    {
      "cell_type": "code",
      "source": [],
      "metadata": {
        "id": "NIrBkJazAXZr"
      },
      "execution_count": 101,
      "outputs": []
    }
  ]
}