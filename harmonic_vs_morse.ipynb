{
  "cells": [
    {
      "cell_type": "markdown",
      "metadata": {
        "id": "view-in-github",
        "colab_type": "text"
      },
      "source": [
        "<a href=\"https://colab.research.google.com/github/alisterpage/CHEM3580-Jupyter-Notebooks/blob/main/harmonic_vs_morse.ipynb\" target=\"_parent\"><img src=\"https://colab.research.google.com/assets/colab-badge.svg\" alt=\"Open In Colab\"/></a>"
      ]
    },
    {
      "cell_type": "code",
      "source": [
        "!pip install ipympl -q 2>&1 >/dev/null"
      ],
      "metadata": {
        "id": "KO-DovvqfoB7"
      },
      "id": "KO-DovvqfoB7",
      "execution_count": 1,
      "outputs": []
    },
    {
      "cell_type": "markdown",
      "id": "b13fe58f-758d-4385-a0e0-c944e12b8ad3",
      "metadata": {
        "tags": [],
        "id": "b13fe58f-758d-4385-a0e0-c944e12b8ad3"
      },
      "source": [
        "\n",
        "The equilibrium bond length of the H$_{2}$ molecule is 0.751 $\\mathring A$, and the bond dissociation energy is 436 kJ/mol. The potential energy surface of the H$_{2}$ molecule can be modelled in different ways, and in this example we will consider \n",
        "\n",
        " <font color='blue'>1. The Harmonic potential energy surface: $U_{\\text{stretch}} = k(\\Delta R)^2$.</font> (*The single variable that defines this potential is the harmonic force constant $k$.*)\n",
        " \n",
        " <font color='red'>2. The Morse potential energy surface: $U_{\\text{stretch}} = D(1 - e^{-\\alpha\\Delta R})^2$.</font> (*This potential requires 2 variables, $D$ (the H$_{2}$ bond dissociation enthalpy) and $\\alpha$ (defined by the equation $\\alpha = \\sqrt{\\frac{k}{2D}}$*))\n",
        "\n",
        "The widget below plots both of these potentials for the H$_{2}$ model on the same graph. Using the 3 slider bars, vary the values of $k$, $D$ and $\\alpha$ to answer the following questions. \n",
        "\n",
        "1. Describe the physical property/properties that each of the parameters $k$, $D$ and $\\alpha$ describe. \n",
        "\n",
        "2. Why is the Morse potential more physically realistic than the harmonic potential? (*Hint - what is the bond dissociation energy of this molecule according to the harmonic potential?*)\n",
        "\n",
        "3. Molecular dynamics almost always relies on harmonic potentials to describe bond stretching, rather than more accurate potentials such as the Morse potential. Can you explain why? (Consider how different the two potentials are at energies typical of molecular vibration, e.g. ~ 40 kJ/mol. *You may want to rescale the y-axis of the graph. Do this by changing* ```# ax.set_ylim()``` *and re-running the cell below.*)\n",
        "\n",
        "4. \n"
      ]
    },
    {
      "cell_type": "code",
      "execution_count": 7,
      "id": "269463ec-4258-4c3a-baca-7408ef272355",
      "metadata": {
        "tags": [],
        "colab": {
          "base_uri": "https://localhost:8080/",
          "height": 473,
          "referenced_widgets": [
            "983a3ae392174894b07a017836b0a94d",
            "2ac4e9bd4c98406a9db660785fc3a730",
            "efa4d38ec13947cca4b0d9af5a185f8a",
            "e3eadfbf5b9f4c0d8c2e6794068fcc2d",
            "161fc048ce0343d595e5233c5c141c4d",
            "5fa35541b5224c57b76731afc9688bb1",
            "6b350fb9b352467fa3fbde1558ac4805",
            "5decc1eb1faf48cb85c70af2761f1248",
            "f0cfc671deab4f93b05b019afc6d690c",
            "51eb5c8408d94b0095c25500432a920d",
            "7620d5464221460083a60f380465a025",
            "59f372bf8c2846e9931f696d8c58b83d",
            "ebe58af8f2394e059c96b36b616544de",
            "bede9ae2a78f4893b54efea0dd46be18",
            "c164206ba537477bae7e5da0c3a63481",
            "20f0f7cd83bd4cd7a9b1d4bc39209f33",
            "4594a481c9a5450f916e03f282519677"
          ]
        },
        "id": "269463ec-4258-4c3a-baca-7408ef272355",
        "outputId": "ba41ca96-8d59-4d3e-8f31-6a15e487a896"
      },
      "outputs": [
        {
          "output_type": "display_data",
          "data": {
            "text/plain": [
              "interactive(children=(IntSlider(value=0, description='k', max=1500, step=10), IntSlider(value=0, description='…"
            ],
            "application/vnd.jupyter.widget-view+json": {
              "version_major": 2,
              "version_minor": 0,
              "model_id": "983a3ae392174894b07a017836b0a94d"
            }
          },
          "metadata": {
            "application/vnd.jupyter.widget-view+json": {
              "colab": {
                "custom_widget_manager": {
                  "url": "https://ssl.gstatic.com/colaboratory-static/widgets/colab-cdn-widget-manager/b3e629b1971e1542/manager.min.js"
                }
              }
            }
          }
        },
        {
          "output_type": "display_data",
          "data": {
            "text/plain": [
              "Canvas(toolbar=Toolbar(toolitems=[('Home', 'Reset original view', 'home', 'home'), ('Back', 'Back to previous …"
            ],
            "image/png": "[encoded data removed]",
            "text/html": [
              "\n",
              "            <div style=\"display: inline-block;\">\n",
              "                <div class=\"jupyter-widgets widget-label\" style=\"text-align: center;\">\n",
              "                    Figure\n",
              "                </div>\n",
              "                <img src='data:image/png;base64,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' width=432.0/>\n",
              "            </div>\n",
              "        "
            ],
            "application/vnd.jupyter.widget-view+json": {
              "version_major": 2,
              "version_minor": 0,
              "model_id": "4594a481c9a5450f916e03f282519677"
            }
          },
          "metadata": {
            "application/vnd.jupyter.widget-view+json": {
              "colab": {
                "custom_widget_manager": {
                  "url": "https://ssl.gstatic.com/colaboratory-static/widgets/colab-cdn-widget-manager/b3e629b1971e1542/manager.min.js"
                }
              }
            }
          }
        }
      ],
      "source": [
        "%matplotlib widget\n",
        "import ipywidgets as widgets\n",
        "import matplotlib.pyplot as plt\n",
        "import numpy as np\n",
        "from google.colab import output\n",
        "output.enable_custom_widget_manager()\n",
        "\n",
        "# set up plot\n",
        "fig, ax = plt.subplots(figsize=(6, 4))\n",
        "ax.set_ylim([0, 500])\n",
        "ax.set_xlim([0,6])\n",
        "ax.set_ylabel(\"Energy (kJ/mol)\")\n",
        "ax.set_xlabel(\"Bond distance R ($\\AA$)\")\n",
        "ax.grid(True)\n",
        " \n",
        "# generate x values\n",
        "x = np.linspace(0.251, 5, 100)\n",
        "xmin=0.751\n",
        " \n",
        "    \n",
        "def harmonic(k, x, xmin):\n",
        "    \"\"\"\n",
        "    Return a harmonic potential for x with force constant k\n",
        "    \"\"\"\n",
        "    return k*(x-xmin)**2\n",
        "\n",
        "def morse(D,alpha,x,xmin):\n",
        "    \"\"\"\n",
        "    Return a morse potential for x with constants D, a\n",
        "    \"\"\"\n",
        "    return D*(1-np.exp(-alpha*(x-xmin)))**2\n",
        " \n",
        " \n",
        "@widgets.interact(k=(0, 1500, 1), D=(0, 600, 1), alpha=(0, 30, 0.1))\n",
        "def update(k = 0, D=0, alpha=0):\n",
        "    \"\"\"Remove old lines from plot and plot new one\"\"\"\n",
        "    [l.remove() for l in ax.lines]\n",
        "    ax.plot(x, harmonic(k,x,xmin),color='blue')\n",
        "    ax.plot(x, morse(D,alpha,x,xmin),color='red')"
      ]
    },
    {
      "cell_type": "code",
      "execution_count": null,
      "id": "bee15f08-c1f7-4bc5-8206-cc0030190f48",
      "metadata": {
        "id": "bee15f08-c1f7-4bc5-8206-cc0030190f48"
      },
      "outputs": [],
      "source": []
    }
  ],
  "metadata": {
    "kernelspec": {
      "display_name": "base",
      "language": "python",
      "name": "base"
    },
    "language_info": {
      "codemirror_mode": {
        "name": "ipython",
        "version": 3
      },
      "file_extension": ".py",
      "mimetype": "text/x-python",
      "name": "python",
      "nbconvert_exporter": "python",
      "pygments_lexer": "ipython3",
      "version": "3.10.9"
    },
    "colab": {
      "provenance": [],
      "include_colab_link": true
    },
    "widgets": {
      "application/vnd.jupyter.widget-state+json": {
        "983a3ae392174894b07a017836b0a94d": {
          "model_module": "@jupyter-widgets/controls",
          "model_name": "VBoxModel",
          "model_module_version": "1.5.0",
          "state": {
            "_dom_classes": [
              "widget-interact"
            ],
            "_model_module": "@jupyter-widgets/controls",
            "_model_module_version": "1.5.0",
            "_model_name": "VBoxModel",
            "_view_count": null,
            "_view_module": "@jupyter-widgets/controls",
            "_view_module_version": "1.5.0",
            "_view_name": "VBoxView",
            "box_style": "",
            "children": [
              "IPY_MODEL_2ac4e9bd4c98406a9db660785fc3a730",
              "IPY_MODEL_efa4d38ec13947cca4b0d9af5a185f8a",
              "IPY_MODEL_e3eadfbf5b9f4c0d8c2e6794068fcc2d",
              "IPY_MODEL_161fc048ce0343d595e5233c5c141c4d"
            ],
            "layout": "IPY_MODEL_5fa35541b5224c57b76731afc9688bb1"
          }
        },
        "2ac4e9bd4c98406a9db660785fc3a730": {
          "model_module": "@jupyter-widgets/controls",
          "model_name": "IntSliderModel",
          "model_module_version": "1.5.0",
          "state": {
            "_dom_classes": [],
            "_model_module": "@jupyter-widgets/controls",
            "_model_module_version": "1.5.0",
            "_model_name": "IntSliderModel",
            "_view_count": null,
            "_view_module": "@jupyter-widgets/controls",
            "_view_module_version": "1.5.0",
            "_view_name": "IntSliderView",
            "continuous_update": true,
            "description": "k",
            "description_tooltip": null,
            "disabled": false,
            "layout": "IPY_MODEL_6b350fb9b352467fa3fbde1558ac4805",
            "max": 1500,
            "min": 0,
            "orientation": "horizontal",
            "readout": true,
            "readout_format": "d",
            "step": 10,
            "style": "IPY_MODEL_5decc1eb1faf48cb85c70af2761f1248",
            "value": 1020
          }
        },
        "efa4d38ec13947cca4b0d9af5a185f8a": {
          "model_module": "@jupyter-widgets/controls",
          "model_name": "IntSliderModel",
          "model_module_version": "1.5.0",
          "state": {
            "_dom_classes": [],
            "_model_module": "@jupyter-widgets/controls",
            "_model_module_version": "1.5.0",
            "_model_name": "IntSliderModel",
            "_view_count": null,
            "_view_module": "@jupyter-widgets/controls",
            "_view_module_version": "1.5.0",
            "_view_name": "IntSliderView",
            "continuous_update": true,
            "description": "D",
            "description_tooltip": null,
            "disabled": false,
            "layout": "IPY_MODEL_f0cfc671deab4f93b05b019afc6d690c",
            "max": 600,
            "min": 0,
            "orientation": "horizontal",
            "readout": true,
            "readout_format": "d",
            "step": 5,
            "style": "IPY_MODEL_51eb5c8408d94b0095c25500432a920d",
            "value": 435
          }
        },
        "e3eadfbf5b9f4c0d8c2e6794068fcc2d": {
          "model_module": "@jupyter-widgets/controls",
          "model_name": "FloatSliderModel",
          "model_module_version": "1.5.0",
          "state": {
            "_dom_classes": [],
            "_model_module": "@jupyter-widgets/controls",
            "_model_module_version": "1.5.0",
            "_model_name": "FloatSliderModel",
            "_view_count": null,
            "_view_module": "@jupyter-widgets/controls",
            "_view_module_version": "1.5.0",
            "_view_name": "FloatSliderView",
            "continuous_update": true,
            "description": "alpha",
            "description_tooltip": null,
            "disabled": false,
            "layout": "IPY_MODEL_7620d5464221460083a60f380465a025",
            "max": 30,
            "min": 0,
            "orientation": "horizontal",
            "readout": true,
            "readout_format": ".2f",
            "step": 0.1,
            "style": "IPY_MODEL_59f372bf8c2846e9931f696d8c58b83d",
            "value": 2.4
          }
        },
        "161fc048ce0343d595e5233c5c141c4d": {
          "model_module": "@jupyter-widgets/output",
          "model_name": "OutputModel",
          "model_module_version": "1.0.0",
          "state": {
            "_dom_classes": [],
            "_model_module": "@jupyter-widgets/output",
            "_model_module_version": "1.0.0",
            "_model_name": "OutputModel",
            "_view_count": null,
            "_view_module": "@jupyter-widgets/output",
            "_view_module_version": "1.0.0",
            "_view_name": "OutputView",
            "layout": "IPY_MODEL_ebe58af8f2394e059c96b36b616544de",
            "msg_id": "",
            "outputs": []
          }
        },
        "5fa35541b5224c57b76731afc9688bb1": {
          "model_module": "@jupyter-widgets/base",
          "model_name": "LayoutModel",
          "model_module_version": "1.2.0",
          "state": {
            "_model_module": "@jupyter-widgets/base",
            "_model_module_version": "1.2.0",
            "_model_name": "LayoutModel",
            "_view_count": null,
            "_view_module": "@jupyter-widgets/base",
            "_view_module_version": "1.2.0",
            "_view_name": "LayoutView",
            "align_content": null,
            "align_items": null,
            "align_self": null,
            "border": null,
            "bottom": null,
            "display": null,
            "flex": null,
            "flex_flow": null,
            "grid_area": null,
            "grid_auto_columns": null,
            "grid_auto_flow": null,
            "grid_auto_rows": null,
            "grid_column": null,
            "grid_gap": null,
            "grid_row": null,
            "grid_template_areas": null,
            "grid_template_columns": null,
            "grid_template_rows": null,
            "height": null,
            "justify_content": null,
            "justify_items": null,
            "left": null,
            "margin": null,
            "max_height": null,
            "max_width": null,
            "min_height": null,
            "min_width": null,
            "object_fit": null,
            "object_position": null,
            "order": null,
            "overflow": null,
            "overflow_x": null,
            "overflow_y": null,
            "padding": null,
            "right": null,
            "top": null,
            "visibility": null,
            "width": null
          }
        },
        "6b350fb9b352467fa3fbde1558ac4805": {
          "model_module": "@jupyter-widgets/base",
          "model_name": "LayoutModel",
          "model_module_version": "1.2.0",
          "state": {
            "_model_module": "@jupyter-widgets/base",
            "_model_module_version": "1.2.0",
            "_model_name": "LayoutModel",
            "_view_count": null,
            "_view_module": "@jupyter-widgets/base",
            "_view_module_version": "1.2.0",
            "_view_name": "LayoutView",
            "align_content": null,
            "align_items": null,
            "align_self": null,
            "border": null,
            "bottom": null,
            "display": null,
            "flex": null,
            "flex_flow": null,
            "grid_area": null,
            "grid_auto_columns": null,
            "grid_auto_flow": null,
            "grid_auto_rows": null,
            "grid_column": null,
            "grid_gap": null,
            "grid_row": null,
            "grid_template_areas": null,
            "grid_template_columns": null,
            "grid_template_rows": null,
            "height": null,
            "justify_content": null,
            "justify_items": null,
            "left": null,
            "margin": null,
            "max_height": null,
            "max_width": null,
            "min_height": null,
            "min_width": null,
            "object_fit": null,
            "object_position": null,
            "order": null,
            "overflow": null,
            "overflow_x": null,
            "overflow_y": null,
            "padding": null,
            "right": null,
            "top": null,
            "visibility": null,
            "width": null
          }
        },
        "5decc1eb1faf48cb85c70af2761f1248": {
          "model_module": "@jupyter-widgets/controls",
          "model_name": "SliderStyleModel",
          "model_module_version": "1.5.0",
          "state": {
            "_model_module": "@jupyter-widgets/controls",
            "_model_module_version": "1.5.0",
            "_model_name": "SliderStyleModel",
            "_view_count": null,
            "_view_module": "@jupyter-widgets/base",
            "_view_module_version": "1.2.0",
            "_view_name": "StyleView",
            "description_width": "",
            "handle_color": null
          }
        },
        "f0cfc671deab4f93b05b019afc6d690c": {
          "model_module": "@jupyter-widgets/base",
          "model_name": "LayoutModel",
          "model_module_version": "1.2.0",
          "state": {
            "_model_module": "@jupyter-widgets/base",
            "_model_module_version": "1.2.0",
            "_model_name": "LayoutModel",
            "_view_count": null,
            "_view_module": "@jupyter-widgets/base",
            "_view_module_version": "1.2.0",
            "_view_name": "LayoutView",
            "align_content": null,
            "align_items": null,
            "align_self": null,
            "border": null,
            "bottom": null,
            "display": null,
            "flex": null,
            "flex_flow": null,
            "grid_area": null,
            "grid_auto_columns": null,
            "grid_auto_flow": null,
            "grid_auto_rows": null,
            "grid_column": null,
            "grid_gap": null,
            "grid_row": null,
            "grid_template_areas": null,
            "grid_template_columns": null,
            "grid_template_rows": null,
            "height": null,
            "justify_content": null,
            "justify_items": null,
            "left": null,
            "margin": null,
            "max_height": null,
            "max_width": null,
            "min_height": null,
            "min_width": null,
            "object_fit": null,
            "object_position": null,
            "order": null,
            "overflow": null,
            "overflow_x": null,
            "overflow_y": null,
            "padding": null,
            "right": null,
            "top": null,
            "visibility": null,
            "width": null
          }
        },
        "51eb5c8408d94b0095c25500432a920d": {
          "model_module": "@jupyter-widgets/controls",
          "model_name": "SliderStyleModel",
          "model_module_version": "1.5.0",
          "state": {
            "_model_module": "@jupyter-widgets/controls",
            "_model_module_version": "1.5.0",
            "_model_name": "SliderStyleModel",
            "_view_count": null,
            "_view_module": "@jupyter-widgets/base",
            "_view_module_version": "1.2.0",
            "_view_name": "StyleView",
            "description_width": "",
            "handle_color": null
          }
        },
        "7620d5464221460083a60f380465a025": {
          "model_module": "@jupyter-widgets/base",
          "model_name": "LayoutModel",
          "model_module_version": "1.2.0",
          "state": {
            "_model_module": "@jupyter-widgets/base",
            "_model_module_version": "1.2.0",
            "_model_name": "LayoutModel",
            "_view_count": null,
            "_view_module": "@jupyter-widgets/base",
            "_view_module_version": "1.2.0",
            "_view_name": "LayoutView",
            "align_content": null,
            "align_items": null,
            "align_self": null,
            "border": null,
            "bottom": null,
            "display": null,
            "flex": null,
            "flex_flow": null,
            "grid_area": null,
            "grid_auto_columns": null,
            "grid_auto_flow": null,
            "grid_auto_rows": null,
            "grid_column": null,
            "grid_gap": null,
            "grid_row": null,
            "grid_template_areas": null,
            "grid_template_columns": null,
            "grid_template_rows": null,
            "height": null,
            "justify_content": null,
            "justify_items": null,
            "left": null,
            "margin": null,
            "max_height": null,
            "max_width": null,
            "min_height": null,
            "min_width": null,
            "object_fit": null,
            "object_position": null,
            "order": null,
            "overflow": null,
            "overflow_x": null,
            "overflow_y": null,
            "padding": null,
            "right": null,
            "top": null,
            "visibility": null,
            "width": null
          }
        },
        "59f372bf8c2846e9931f696d8c58b83d": {
          "model_module": "@jupyter-widgets/controls",
          "model_name": "SliderStyleModel",
          "model_module_version": "1.5.0",
          "state": {
            "_model_module": "@jupyter-widgets/controls",
            "_model_module_version": "1.5.0",
            "_model_name": "SliderStyleModel",
            "_view_count": null,
            "_view_module": "@jupyter-widgets/base",
            "_view_module_version": "1.2.0",
            "_view_name": "StyleView",
            "description_width": "",
            "handle_color": null
          }
        },
        "ebe58af8f2394e059c96b36b616544de": {
          "model_module": "@jupyter-widgets/base",
          "model_name": "LayoutModel",
          "model_module_version": "1.2.0",
          "state": {
            "_model_module": "@jupyter-widgets/base",
            "_model_module_version": "1.2.0",
            "_model_name": "LayoutModel",
            "_view_count": null,
            "_view_module": "@jupyter-widgets/base",
            "_view_module_version": "1.2.0",
            "_view_name": "LayoutView",
            "align_content": null,
            "align_items": null,
            "align_self": null,
            "border": null,
            "bottom": null,
            "display": null,
            "flex": null,
            "flex_flow": null,
            "grid_area": null,
            "grid_auto_columns": null,
            "grid_auto_flow": null,
            "grid_auto_rows": null,
            "grid_column": null,
            "grid_gap": null,
            "grid_row": null,
            "grid_template_areas": null,
            "grid_template_columns": null,
            "grid_template_rows": null,
            "height": null,
            "justify_content": null,
            "justify_items": null,
            "left": null,
            "margin": null,
            "max_height": null,
            "max_width": null,
            "min_height": null,
            "min_width": null,
            "object_fit": null,
            "object_position": null,
            "order": null,
            "overflow": null,
            "overflow_x": null,
            "overflow_y": null,
            "padding": null,
            "right": null,
            "top": null,
            "visibility": null,
            "width": null
          }
        },
        "bede9ae2a78f4893b54efea0dd46be18": {
          "model_module": "@jupyter-widgets/base",
          "model_name": "LayoutModel",
          "model_module_version": "1.2.0",
          "state": {
            "_model_module": "@jupyter-widgets/base",
            "_model_module_version": "1.2.0",
            "_model_name": "LayoutModel",
            "_view_count": null,
            "_view_module": "@jupyter-widgets/base",
            "_view_module_version": "1.2.0",
            "_view_name": "LayoutView",
            "align_content": null,
            "align_items": null,
            "align_self": null,
            "border": null,
            "bottom": null,
            "display": null,
            "flex": null,
            "flex_flow": null,
            "grid_area": null,
            "grid_auto_columns": null,
            "grid_auto_flow": null,
            "grid_auto_rows": null,
            "grid_column": null,
            "grid_gap": null,
            "grid_row": null,
            "grid_template_areas": null,
            "grid_template_columns": null,
            "grid_template_rows": null,
            "height": null,
            "justify_content": null,
            "justify_items": null,
            "left": null,
            "margin": null,
            "max_height": null,
            "max_width": null,
            "min_height": null,
            "min_width": null,
            "object_fit": null,
            "object_position": null,
            "order": null,
            "overflow": null,
            "overflow_x": null,
            "overflow_y": null,
            "padding": null,
            "right": null,
            "top": null,
            "visibility": null,
            "width": null
          }
        },
        "c164206ba537477bae7e5da0c3a63481": {
          "model_module": "@jupyter-widgets/base",
          "model_name": "LayoutModel",
          "model_module_version": "1.2.0",
          "state": {
            "_model_module": "@jupyter-widgets/base",
            "_model_module_version": "1.2.0",
            "_model_name": "LayoutModel",
            "_view_count": null,
            "_view_module": "@jupyter-widgets/base",
            "_view_module_version": "1.2.0",
            "_view_name": "LayoutView",
            "align_content": null,
            "align_items": null,
            "align_self": null,
            "border": null,
            "bottom": null,
            "display": null,
            "flex": null,
            "flex_flow": null,
            "grid_area": null,
            "grid_auto_columns": null,
            "grid_auto_flow": null,
            "grid_auto_rows": null,
            "grid_column": null,
            "grid_gap": null,
            "grid_row": null,
            "grid_template_areas": null,
            "grid_template_columns": null,
            "grid_template_rows": null,
            "height": null,
            "justify_content": null,
            "justify_items": null,
            "left": null,
            "margin": null,
            "max_height": null,
            "max_width": null,
            "min_height": null,
            "min_width": null,
            "object_fit": null,
            "object_position": null,
            "order": null,
            "overflow": null,
            "overflow_x": null,
            "overflow_y": null,
            "padding": null,
            "right": null,
            "top": null,
            "visibility": null,
            "width": null
          }
        },
        "20f0f7cd83bd4cd7a9b1d4bc39209f33": {
          "model_module": "jupyter-matplotlib",
          "model_name": "ToolbarModel",
          "model_module_version": "^0.11",
          "state": {
            "_current_action": "",
            "_dom_classes": [],
            "_model_module": "jupyter-matplotlib",
            "_model_module_version": "^0.11",
            "_model_name": "ToolbarModel",
            "_view_count": null,
            "_view_module": "jupyter-matplotlib",
            "_view_module_version": "^0.11",
            "_view_name": "ToolbarView",
            "button_style": "",
            "collapsed": true,
            "layout": "IPY_MODEL_c164206ba537477bae7e5da0c3a63481",
            "orientation": "vertical",
            "toolitems": [
              [
                "Home",
                "Reset original view",
                "home",
                "home"
              ],
              [
                "Back",
                "Back to previous view",
                "arrow-left",
                "back"
              ],
              [
                "Forward",
                "Forward to next view",
                "arrow-right",
                "forward"
              ],
              [
                "Pan",
                "Left button pans, Right button zooms\nx/y fixes axis, CTRL fixes aspect",
                "arrows",
                "pan"
              ],
              [
                "Zoom",
                "Zoom to rectangle\nx/y fixes axis",
                "square-o",
                "zoom"
              ],
              [
                "Download",
                "Download plot",
                "floppy-o",
                "save_figure"
              ]
            ]
          }
        },
        "4594a481c9a5450f916e03f282519677": {
          "model_module": "jupyter-matplotlib",
          "model_name": "MPLCanvasModel",
          "model_module_version": "^0.11",
          "state": {
            "_cursor": "default",
            "_data_url": "data:image/png;base64,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",
            "_dom_classes": [],
            "_figure_label": "Figure 1",
            "_image_mode": "full",
            "_message": "",
            "_model_module": "jupyter-matplotlib",
            "_model_module_version": "^0.11",
            "_model_name": "MPLCanvasModel",
            "_rubberband_height": 0,
            "_rubberband_width": 0,
            "_rubberband_x": 0,
            "_rubberband_y": 0,
            "_size": [
              432,
              288
            ],
            "_view_count": null,
            "_view_module": "jupyter-matplotlib",
            "_view_module_version": "^0.11",
            "_view_name": "MPLCanvasView",
            "capture_scroll": false,
            "footer_visible": true,
            "header_visible": true,
            "layout": "IPY_MODEL_bede9ae2a78f4893b54efea0dd46be18",
            "pan_zoom_throttle": 33,
            "resizable": true,
            "toolbar": "IPY_MODEL_20f0f7cd83bd4cd7a9b1d4bc39209f33",
            "toolbar_position": "left",
            "toolbar_visible": "fade-in-fade-out"
          }
        }
      }
    }
  },
  "nbformat": 4,
  "nbformat_minor": 5
}