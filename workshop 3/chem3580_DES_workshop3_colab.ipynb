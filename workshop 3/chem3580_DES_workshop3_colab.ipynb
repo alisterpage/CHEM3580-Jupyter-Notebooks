{
 "cells": [
  {
   "cell_type": "markdown",
   "id": "249cdc8d-b5aa-4fa4-89ee-30b631c30abc",
   "metadata": {},
   "source": [
    "# Nanostructure in Deep Eutectic Solvents"
   ]
  },
  {
   "cell_type": "markdown",
   "id": "813d94bb-9af0-4b48-9e4f-c160ba76ea24",
   "metadata": {},
   "source": [
    "## Introduction"
   ]
  },
  {
   "cell_type": "markdown",
   "id": "fc8bf053-a7c0-4dc5-9fe7-a0029d3deeaa",
   "metadata": {},
   "source": [
    "Let's start this workshop with some Q&A! \n",
    "\n",
    "What do you get when you combine urea - (a white crystalline powder that is a common component of biowaste) - and choline chloride (another white crystalline powder that is an essential nutrient and found widely throughout nature)??"
   ]
  },
  {
   "cell_type": "markdown",
   "id": "20ff9905-1cac-4caa-a829-cdf2a34601a0",
   "metadata": {},
   "source": [
    "Let's watch the demonstration below to find out the answer."
   ]
  },
  {
   "cell_type": "code",
   "execution_count": null,
   "id": "9dbd7f96-b61c-493f-825b-cde6d2fd71ec",
   "metadata": {
    "tags": []
   },
   "outputs": [],
   "source": [
    "from IPython.display import YouTubeVideo\n",
    "YouTubeVideo('lDRIIrRD3Z8')"
   ]
  },
  {
   "cell_type": "markdown",
   "id": "dab457e5-0ea5-40fd-a825-6f6caba08b04",
   "metadata": {},
   "source": [
    "### Why is this Mixture a Liquid at Room Temperature?"
   ]
  },
  {
   "cell_type": "markdown",
   "id": "58a4a6c6-ae67-49b2-84e9-745f00bf8be4",
   "metadata": {},
   "source": [
    "<div style=\"display:flex\">\n",
    "    <div style=\"width:85%;margin-right:40px;\">\n",
    "        To answer this question, we have to first look at the structures of urea and choline chloride.  First, let's consider choline chloride (ChCl) - the molecular structure of choline is shown on the right. Choline is positively charged via the protonated ammonium charge group. The electrostatic interaction between this part of the molecule and the Cl<sup>-</sup> anions causes ChCl to precipitate naturally as crystalline compound. Technically, it is just an organic salt - and as with most salts, its cations and anions are arranged in a regular ionic lattice due to the strong electrostatic interactions between them. \n",
    "        </div>\n",
    "    <div style=\"width:25%\">\n",
    "        <img src=\"https://i2.wp.com/www.differencebetween.com/wp-content/uploads/2019/11/Difference-Between-Choline-and-Phosphatidylcholine_1.png\"  style=\"float:right;maxwidth:100%;maxheight:100%\">\n",
    "    </div>"
   ]
  },
  {
   "cell_type": "markdown",
   "id": "8d51f096-3b64-4a98-9004-b33c93eb2734",
   "metadata": {},
   "source": [
    "<div style=\"display:flex\">\n",
    "    <div style=\"width:75%;margin-right:40px;\">\n",
    "        Given enough energy, it is possible to overcome these interactions - at which point the salt melts, or decomposes. For ChCl, this temperature is relatively low - only ~305 &deg;C - since the ion packing is far from ideal (for comparison, the melting point of NaCl is much higher, about 800 &deg;C). The fact that the cation is (1) large, (2) asymmetrical and (3) predominantly non-ionic (the charged part is located just on one end of the molecule) means that ion packing is \"frustrated\" - cations and anions don't pack particularly efficiently, and the electrostatic interaction between them  is much weaker than that present in NaCl. \n",
    "<br> <br>\n",
    "What about urea? The molecular structure of urea is shown on the right. It is a neutral compound, but nevertheless exists naturally as a crystalline material, just like a salt. The reason for this is the strong hydrogen bond network that forms between individual urea molecules, which results from the permanent negative dipole on the oxygen atom, the permanent dipoles on the amine hydrogens, and the fact that the molecule is planar and inflexible.\n",
    "        <br> <br>\n",
    "        This means, just like ChCl, that urea forms a well-structured crystalline lattice, shown on the right. \n",
    "</div>\n",
    "    <div style=\"width:15%\">\n",
    "        <img src=\"https://upload.wikimedia.org/wikipedia/commons/a/a2/Urea-3D-balls.png\" style=\"float:right;maxwidth:50%;maxheight:50%\">\n",
    "        <img src=\"https://www.ch.ic.ac.uk/harrison/Group/Mallia/3year_lab_elec_str/image17.gif\" style=\"float:right;maxwidth:100%;maxheight:100%\">\n",
    "    </div>"
   ]
  },
  {
   "cell_type": "markdown",
   "id": "d0e45f56-780c-4d00-bcfb-b958781df57a",
   "metadata": {},
   "source": [
    "<div style=\"display:flex\">\n",
    "    <div style=\"width:60%;margin-right:40px;\">\n",
    "        While it is very well-structured, the urea lattice is not as stable as the ChCl lattice - it melts at around 130 &deg;C. This is because, as you already know, hydrogen bonds are weaker than electrostatic interactions, and it takes less energy to disrupt them.\n",
    " <br> <br>\n",
    "        Let's look now at the melting behaviour of <b>mixtures</b> of these two crystalline compounds. The image on the right shows the melting point of ChCl:urea mixtures for different amounts of urea (in mol%). Let's consider the melting point of ChCl (~305 &deg;C) in the presence of urea. The figure shows that as urea is added to ChCl, the melting point <b>drops</b>. This is a bit unexpected, but can be explained in terms of the intermolecular interactions at the interface between the two materials. As discussed above, the melting point of any salt is proportional to the strength of the electrostatic interactions between the ions - if anything disrupts these interactions, we can expect the melting point to become lower. In this case, urea molecules are disrupting the natural interactions between the Cl<sup>-</sup> anions and the positively charged ammonium head group in two different ways. Firstly, urea hydrogen amines enable <b>hydrogen bond donation</b> to the choline cation's hydroxyl oxygen atom, and also the Cl<sup>-</sup> anion. Secondly, the urea oxygen atom enables <b>hydrogen bond accepting</b> from the choline cation's hydoxyl hydrogen atom. Consequently, choline and Cl<sup>-</sup> electrostatic interactions now have to compete with choline-urea and Cl<sup>-</sup>-urea interactions. <b>The result of this is that the natural electrostatic interactions in ChCl become frustrated by urea,  and the melting point of the ChCl:urea mixture begins to drop</b>.\n",
    "        <br> <br>The figure shows that the melting point drops to a minimum of ~12 &deg;C for a ChCl:urea ratio of ~1:2. At this point, the melting point of the ChCl:urea mixture is lower than the melting points of both components. <b>This is the definition of a eutectic mixture</b> (see the generic phase diagram depicting eutectic melting point behaviour on the right).  \n",
    "    </div>\n",
    "    <div style=\"width:30%\">\n",
    "        <img src=\"https://pubs.rsc.org/image/article/2003/cc/b210714g/b210714g-f1.gif\" style=\"float:right;maxwidth:100%;maxheight:100%\">\n",
    "     <img src=\"https://www.researchgate.net/publication/317853522/figure/fig11/AS:513887928029184@1499531837042/Schematic-representation-of-the-2ChCl4urea-cluster-highlighting-the-most-relevant.png\" style=\"float:right;maxwidth:100%;maxheight:100%\">   \n",
    "    <img src=\"https://upload.wikimedia.org/wikipedia/commons/thumb/5/53/Eutectic_system_phase_diagram.svg/310px-Eutectic_system_phase_diagram.svg.png\" style=\"float:right;maxwidth:100%;maxheight:100%\">\n",
    "    </div>\n"
   ]
  },
  {
   "cell_type": "markdown",
   "id": "fce6ee88-f1c8-4b90-a86c-07cc50d73f33",
   "metadata": {},
   "source": [
    "### Why are Deep Eutectic Solvents Important?"
   ]
  },
  {
   "cell_type": "markdown",
   "id": "7c189995-0478-4440-9d87-fbd6486b9778",
   "metadata": {},
   "source": [
    "The mixture of choline chloride (ChCl) and urea is just one example of a **Deep Eutectic Solvent** (DES). DES are a relatively new class of solvents - the first was reported in 2002 (see references below). Since then, there have been 1000s reported in the literature - DES are now their own field of research. A few important ChCl-based DES are included listed in the table below. From this table, it is clear that the structure of the hydrogen bond donor (HBD) is critical in determining the behaviour of the eutectic mixture - understanding this structure-property relationship is the main aim of today's workshop. \n",
    "\n",
    "| HBD |  HBD Melting Point ($T_m^{*}$) ($^{\\circ}$C) | DES Freezing Point ($T_f$) ($^{\\circ}$C) |\n",
    "| --- | --- | --- |\n",
    "| Urea | 134 | 12 | \n",
    "| 1-methyl urea | 93 | 29 | \n",
    "| 1,3-dimethyl urea | 102  | 70 |\n",
    "| thiourea | 175 | 69 | \n",
    "| acetamide | 80 | 51 | \n",
    "| ethylene glycol | -13  | -66 | \n",
    "| glycerol | 18 | -40 | \n",
    "\n",
    "\n"
   ]
  },
  {
   "cell_type": "markdown",
   "id": "54c36393-70bf-4d2c-aad7-aa99bf58c1af",
   "metadata": {},
   "source": [
    "To understand why DES are so important for colloid and interface science, we need to recall the main purpose of a chemical solvent. Obviously, solvents are used to <i>dissolve</i> certain molecules (solutes), thereby promoting their interaction. The outcome of this interaction could be a chemical reaction, producing new chemical compounds, a self-assembly process, producing new nanostructured or mesostructured materials etc. Alternatively, the outcome could be the reverse of these possibilities as well. Irrespective of the desired outcome, there is a strongly-held idiom in chemistry that <b>\"like dissolves like\"</b>. That is, if you are working with hydrophobic compounds - typical in organic and medicinal chemistry - you should use a non-polar solvent, e.g. hexane, chloroform etc. On the other hand, if your compounds are hydrophilic, you use a polar solvent (i.e. water), or adjust the polarity of the solvent via dissolved ions. In either case, it is assumed that the solvent environment is homogeneous.\n",
    "\n",
    "<div style=\"display:flex\">\n",
    "    <div style=\"width:70%;margin-right:40px;\">\n",
    "        The figure on the right schematically shows the \"space\" of chemical solvents in terms of these two parameters - the ionic content and the molecular polarity.  Examples of the extremes are found in the three corners of the plot - water (highly polar, but non-ionic), hexane (highly non-polar, but non-ionic), molten salts (highly polar and completely ionic). All solutions fall somewhere in between these extreme limits.\n",
    "    <br> <br>\n",
    "    In this context, we can see why DES are so important - DES span the majority of this solvent space, linking aqueous solvents, non-aqueous solvents, electrolytes and molten salts. By tuning the chemical components in the eutectic mixture DES are effectively <b>\"designer solvents\"</b> for practically any colloidal or interfacial process - they are therefore the most flexible class of solvents in chemistry, and hold particular importance for polymeric, colloidal and interfacial systems.\n",
    "    </div>\n",
    "    <div>\n",
    "    <img src=\"https://aipp.silverchair-cdn.com/aipp/content_public/journal/jcp/155/15/10.1063_5.0072268/3/150401_1_f1.jpeg?Expires=1686100797&Signature=Scvz1d4CDEXybsJgmyq3eKVNizQ8B9RGoGsMHvr6ny2aFkKTsYCya494ZfZYttbWAFQB7B6iIRlj5WItYClUGqtbkN7Vo8xES5rR9aA~-SCtWKor5FRXc9JL8nDIF6FU77vJnbdPbnwdrX7sCBS1ZnhHTASVd-c-0SN8okzNJtaASctRglWBnarbxVSQYjqRciQozMZzTHmJWVToPENZuYGMygkdu3ph~m61TDj7Yzk7pt46bkbB9VvJHzPUY~kpJi8ppLtSc8pxwwkV1IRtXB5Ejgvfe3H~PrV9DCQ4XF3GNp3wVkE9~2FxF040WwLmqOZMNw8QNJ~vGiYxf0HNoA__&Key-Pair-Id=APKAIE5G5CRDK6RD3PGA\" style=\"float:right;maxwidth:30%;maxheight:40%\">\n",
    "    </div>\n",
    "\n",
    "\n"
   ]
  },
  {
   "cell_type": "markdown",
   "id": "a83c8157",
   "metadata": {},
   "source": [
    "### Workshop Aims ###"
   ]
  },
  {
   "cell_type": "markdown",
   "id": "269d7f1d-147b-473c-bd22-b3c6e1ef4373",
   "metadata": {},
   "source": [
    "<div style=\"display:flex\">\n",
    "    <div style=\"width:80%;\">\n",
    "In this workshop, we will use molecular dynamics simulations to investigate how the eutectic point in DES is determined by the structure of the hydrogen bond donor.\n",
    "<br> <br>\n",
    "The aims of this workshop are to - \n",
    "<br> <br>\n",
    "1. Perform NPT-MD simulations of ChCl DES using urea, acetamide and glycerol DES. <br>\n",
    "2. Investigate the hydrogen bonding network in these DES using radial distribution functions.<br>\n",
    "3. Elucidate how the melting point of these DES is determined by the hydrogen bond donor.<br>\n",
    "</div>\n",
    "    <div style=\"width:40%\">\n",
    "        <img src=\"https://upload.wikimedia.org/wikipedia/commons/a/a2/Urea-3D-balls.png\" style=\"width:30%;height:30%; object-fit: contain;\">\n",
    "        <img src=\"https://upload.wikimedia.org/wikipedia/commons/thumb/7/70/Acetamide-3D-balls.png/754px-Acetamide-3D-balls.png\" style=\"width:30%;height:30%; object-fit: contain;\">\n",
    "        <img src=\"https://upload.wikimedia.org/wikipedia/commons/c/c7/Glycerol-3D-balls.png\" style=\"width:40%;height:30%; object-fit: contain;\">\n",
    "    </div>\n",
    "    </div>"
   ]
  },
  {
   "cell_type": "markdown",
   "id": "ea394ba1-aa69-40d9-9f39-e4a17b07e72e",
   "metadata": {},
   "source": [
    "## Simulating DES"
   ]
  },
  {
   "cell_type": "markdown",
   "id": "f81101df-78d7-46c8-a7a7-bed79d736827",
   "metadata": {},
   "source": [
    "### ChCl:Urea DES"
   ]
  },
  {
   "cell_type": "markdown",
   "id": "d07285cf-9d49-4c7f-947a-391c9b4b1a1c",
   "metadata": {},
   "source": [
    "#### Setting Things Up"
   ]
  },
  {
   "cell_type": "markdown",
   "id": "4c2071e4-155b-4885-a481-598a90a928f7",
   "metadata": {},
   "source": [
    "First things first - as we saw in Workshop 1, several modules need to be first loaded into our Jupyter notebook so that we can run our MD simulation. Let's take care of this now:"
   ]
  },
  {
   "cell_type": "code",
   "execution_count": null,
   "id": "305b9b1f",
   "metadata": {},
   "outputs": [],
   "source": [
    "!pip install -q condacolab\n",
    "import condacolab\n",
    "condacolab.install()\n",
    "!conda install openmm mdanalysis packmol -q 2>&1 >/dev/null"
   ]
  },
  {
   "cell_type": "code",
   "execution_count": null,
   "id": "e7c675ed-1d61-4271-9a2a-116e12755cc2",
   "metadata": {},
   "outputs": [],
   "source": [
    "from openmm.app import *\n",
    "from openmm import *\n",
    "from openmm.unit import *\n",
    "from sys import stdout\n",
    "import re\n",
    "import time\n",
    "import numpy as np"
   ]
  },
  {
   "cell_type": "markdown",
   "id": "3b38b355-6b57-4302-92b0-48a8e8de9355",
   "metadata": {},
   "source": [
    "Now let's define the physical parameters of our simulation. You can use the panels below to change them, however for now it is ok to leave them at their present values. "
   ]
  },
  {
   "cell_type": "code",
   "execution_count": null,
   "id": "976dcbf8-4892-47d6-83cd-c344e14803b4",
   "metadata": {
    "tags": []
   },
   "outputs": [],
   "source": [
    "import ipywidgets as widgets \n",
    "from IPython.display import display\n",
    "\n",
    "#HBD MOLECULAR WEIGHT\n",
    "# create a float text widget to input variable\n",
    "temp_text = widgets.FloatText(\n",
    "    value=60.06,  # default value \n",
    "    description='HBD Molecular Weight (g/mol):',\n",
    "    step=0.05,  # step size \n",
    ")\n",
    "# adjust the layout of the widget\n",
    "temp_text.layout.width = 'auto'\n",
    "temp_text.style.description_width = 'initial'\n",
    "# define a function to update the variable\n",
    "def update_temp_text(change):\n",
    "    global hbd_mw\n",
    "    hbd_mw = change.new\n",
    "# register the update function with the widget\n",
    "temp_text.observe(update_temp_text, 'value')\n",
    "# display the widget\n",
    "display(temp_text)\n",
    "# access the selected temperature value\n",
    "hbd_mw = temp_text.value\n",
    "\n",
    "\n",
    "#SIMULATION TEMPERATURE\n",
    "# create a float text widget to input variable\n",
    "temp_text = widgets.FloatText(\n",
    "    value=298.0,  # default value \n",
    "    description='Simulation Temperature (K):',\n",
    "    step=1.0,  # step size\n",
    ")\n",
    "# adjust the layout of the widget\n",
    "temp_text.layout.width = 'auto'\n",
    "temp_text.style.description_width = 'initial'\n",
    "# define a function to update the variable\n",
    "def update_temp_text(change):\n",
    "    global simTemperature\n",
    "    simTemperature = change.new\n",
    "# register the update function with the widget\n",
    "temp_text.observe(update_temp_text, 'value')\n",
    "# display the widget\n",
    "display(temp_text)\n",
    "# access the selected temperature value\n",
    "simTemperature = temp_text.value*kelvin\n",
    "\n",
    "#BOXSIZE\n",
    "# create a float text widget to input variable\n",
    "temp_text = widgets.FloatText(\n",
    "    value=25,  # default value \n",
    "    description='Box Size (Angstrom):',\n",
    "    step=1.0,  # step size \n",
    ")\n",
    "# adjust the layout of the widget\n",
    "temp_text.layout.width = 'auto'\n",
    "temp_text.style.description_width = 'initial'\n",
    "# define a function to update the variable\n",
    "def update_temp_text(change):\n",
    "    global boxsize\n",
    "    boxsize = change.new\n",
    "# register the update function with the widget\n",
    "temp_text.observe(update_temp_text, 'value')\n",
    "# display the widget\n",
    "display(temp_text)\n",
    "# access the selected temperature value\n",
    "boxsize = temp_text.value\n",
    "\n",
    "#TIMESTEP\n",
    "# create a float text widget to input variable\n",
    "temp_text = widgets.FloatText(\n",
    "    value=1.0,  # default value \n",
    "    description='Time step (fs):',\n",
    "    step=0.5,  # step size \n",
    ")\n",
    "# adjust the layout of the widget\n",
    "temp_text.layout.width = 'auto'\n",
    "temp_text.style.description_width = 'initial'\n",
    "# define a function to update the variable\n",
    "def update_temp_text(change):\n",
    "    global simTimestep\n",
    "    simTimestep = change.new\n",
    "# register the update function with the widget\n",
    "temp_text.observe(update_temp_text, 'value')\n",
    "# display the widget\n",
    "display(temp_text)\n",
    "# access the selected temperature value\n",
    "simTimestep = temp_text.value*femtoseconds\n",
    "\n",
    "#PRESSURE\n",
    "# create a float text widget to input variable\n",
    "temp_text = widgets.FloatText(\n",
    "    value=1.0,  # default value \n",
    "    description='Simulation pressure (atm):',\n",
    "    step=0.10,  # step size \n",
    ")\n",
    "# adjust the layout of the widget\n",
    "temp_text.layout.width = 'auto'\n",
    "temp_text.style.description_width = 'initial'\n",
    "# define a function to update the variable\n",
    "def update_temp_text(change):\n",
    "    global simPressure\n",
    "    simPressure = change.new\n",
    "# register the update function with the widget\n",
    "temp_text.observe(update_temp_text, 'value')\n",
    "# display the widget\n",
    "display(temp_text)\n",
    "# access the selected temperature value\n",
    "simPressure = temp_text.value*atmospheres\n",
    "\n",
    "#STEPS\n",
    "# create a float text widget to input variable\n",
    "temp_text = widgets.FloatText(\n",
    "    value=15000,  # default value \n",
    "    description='# MD steps:',\n",
    "    step=100,  # step size \n",
    ")\n",
    "# adjust the layout of the widget\n",
    "temp_text.layout.width = 'auto'\n",
    "temp_text.style.description_width = 'initial'\n",
    "# define a function to update the variable\n",
    "def update_temp_text(change):\n",
    "    global simNumSteps\n",
    "    simNumSteps = change.new\n",
    "# register the update function with the widget\n",
    "temp_text.observe(update_temp_text, 'value')\n",
    "# display the widget\n",
    "display(temp_text)\n",
    "# access the selected temperature value\n",
    "simNumSteps = temp_text.value"
   ]
  },
  {
   "cell_type": "markdown",
   "id": "e9d1adba-97e9-4661-a1e7-ee88efe3fa16",
   "metadata": {},
   "source": [
    "The parameters above do not specify the number of molecules we will place in our simulation box. But knowing the size of the box, and the density of the ChCl:urea DES (~1.21 g/cm$^3$ at STP) we can work out how many formula units we need knowing the ChCl:urea molar ratio of 1:2 (see the figure above - this is the ratio at which the eutectic has the lowest melting point). "
   ]
  },
  {
   "cell_type": "code",
   "execution_count": null,
   "id": "7843c4a0-63b7-4683-af0a-5a7d5f4f0edc",
   "metadata": {},
   "outputs": [],
   "source": [
    "density=1.20\n",
    "choline_mw=104.1708\n",
    "chloride_mw=35.453\n",
    "units=int(boxsize**3*density*1e6*(1e-10)**3/(choline_mw+chloride_mw+2*hbd_mw)*6.02214e23)\n",
    "print(\"Box size of\",boxsize,\"angstroms at density,\",density,\"g/cm3 requires \",units,\" formula units\")\n",
    "print(\"i.e.\",units,\"cholines,\",units,\"chlorides and\",units*2,\"hydrogen bond donors\")"
   ]
  },
  {
   "cell_type": "markdown",
   "id": "25edd6d2-ef58-4f95-88a3-d4d1c8312d26",
   "metadata": {},
   "source": [
    "Once you're happy with your simulation parameters, let's make sure their stored correctly by executing the next cell:"
   ]
  },
  {
   "cell_type": "code",
   "execution_count": null,
   "id": "849f564f-2690-4812-b6fc-4d3a1a3c1098",
   "metadata": {},
   "outputs": [],
   "source": [
    "print(f\"Simulation size: {units} formula units\")\n",
    "print(f\"Box size: {boxsize} Ang.\")\n",
    "print(f\"Simulation temperature: {simTemperature}\")\n",
    "print(f\"Simulation pressure: {simPressure}\")\n",
    "print(f\"Simulation time step: {simTimestep}\")\n",
    "print(f\"# MD steps: {simNumSteps} ; Total simulation length: {simNumSteps * simTimestep} = {simNumSteps*simTimestep / 1000 / 1000 / femtoseconds * nanoseconds}.\")\n",
    "pdbFile = 'system.pdb'"
   ]
  },
  {
   "cell_type": "markdown",
   "id": "71c0197b-2dd5-4c61-8690-3c056df6f642",
   "metadata": {},
   "source": [
    "#### Generating the Unit Cell"
   ]
  },
  {
   "cell_type": "markdown",
   "id": "10ae9bca-ea68-4f94-b0fb-6e4839ba6c16",
   "metadata": {},
   "source": [
    "With the parameters for our simulation now defined, we can generate our simulation box. As we have seen in Workshop 1, we will use ```packmol``` to do this.\n",
    "\n",
    "To start with, we will prepare the input file, ```packmol.in```, that ```packmol``` will go looking for. This input file tells ```packmol``` to build a box of waters according to the parameters that you just set above:"
   ]
  },
  {
   "cell_type": "code",
   "execution_count": null,
   "id": "1ce8a0fe-dcec-4310-a288-c64a0f7e9589",
   "metadata": {},
   "outputs": [],
   "source": [
    "with open(\"packmol.in\", \"w\") as f:\n",
    "    f.write(\"tolerance 2.0\\n\")\n",
    "    f.write(\"filetype pdb\\n\")\n",
    "    f.write(\"output chcl_urea.pdb\\n\")### CHANGE THIS LINE FOR ChCl:acetamide, ChCl:glycerol DES\n",
    "    f.write(\"\\n\")\n",
    "    f.write(\"structure urea1.pdb\\n\") ### CHANGE THIS LINE FOR ChCl:acetamide, ChCl:glycerol DES\n",
    "    f.write(\"  number {}\\n\".format(2*units))\n",
    "    f.write(\"  inside cube 2. 2. 2. {0}\\n\".format(boxsize))\n",
    "    f.write(\"end structure\\n\")\n",
    "    f.write(\"structure chol1.pdb\\n\")\n",
    "    f.write(\"  number {}\\n\".format(units))\n",
    "    f.write(\"  inside cube 2. 2. 2. {0}\\n\".format(boxsize))\n",
    "    f.write(\"end structure\\n\")\n",
    "    f.write(\"structure cla.pdb\\n\")\n",
    "    f.write(\"  number {}\\n\".format(units))\n",
    "    f.write(\"  inside cube 2. 2. 2. {0}\\n\".format(boxsize))\n",
    "    f.write(\"end structure\\n\")\n",
    "    f.write(\"\\n\")\n",
    "    f.write(\"add_box_sides 1.0\\n\")\n",
    "    f.write(\"connect yes\\n\")\n",
    "\n",
    "chol1_text = '''REMARK   DATE:     2/ 5/21     14:33:49      CREATED BY USER: nathan                  \n",
    "COMPND    UNNAMED\n",
    "AUTHOR    GENERATED BY OPEN BABEL 2.3.90\n",
    "ATOM      1  N   CHO C   1      -0.621  -0.016  -0.006  1.00  0.00           N  \n",
    "ATOM      2  C1  CHO C   1       0.545   0.762  -0.606  1.00  0.00           C  \n",
    "ATOM      3  C2  CHO C   1      -1.911   0.609  -0.488  1.00  0.00           C  \n",
    "ATOM      4  C3  CHO C   1      -0.599  -1.460  -0.443  1.00  0.00           C  \n",
    "ATOM      5  C4  CHO C   1      -0.574   0.061   1.501  1.00  0.00           C  \n",
    "ATOM      6  H11 CHO C   1       0.348   1.814  -0.432  1.00  0.00           H  \n",
    "ATOM      7  H12 CHO C   1       0.523   0.605  -1.678  1.00  0.00           H  \n",
    "ATOM      8  H21 CHO C   1      -1.954   0.556  -1.566  1.00  0.00           H  \n",
    "ATOM      9  H22 CHO C   1      -2.749   0.074  -0.066  1.00  0.00           H  \n",
    "ATOM     10  H23 CHO C   1      -1.948   1.643  -0.175  1.00  0.00           H  \n",
    "ATOM     11  H31 CHO C   1      -1.449  -1.977  -0.023  1.00  0.00           H  \n",
    "ATOM     12  H32 CHO C   1       0.312  -1.927  -0.098  1.00  0.00           H  \n",
    "ATOM     13  H33 CHO C   1      -0.643  -1.510  -1.521  1.00  0.00           H  \n",
    "ATOM     14  H41 CHO C   1      -1.417  -0.473   1.916  1.00  0.00           H  \n",
    "ATOM     15  H42 CHO C   1      -0.615   1.096   1.810  1.00  0.00           H  \n",
    "ATOM     16  H43 CHO C   1       0.344  -0.384   1.855  1.00  0.00           H  \n",
    "ATOM     17  C5  CHO C   1       1.985   0.478  -0.100  1.00  0.00           C  \n",
    "ATOM     18  H51 CHO C   1       2.694   1.112  -0.673  1.00  0.00           H  \n",
    "ATOM     19  H52 CHO C   1       2.072   0.749   0.973  1.00  0.00           H  \n",
    "ATOM     20  OH1 CHO C   1       2.379  -0.880  -0.255  1.00  0.00           O  \n",
    "ATOM     21  HO1 CHO C   1       3.279  -0.934   0.075  1.00  0.00           H  \n",
    "CONECT    1    2    3    4    5                                       \n",
    "CONECT    2    7    6   17    1                                       \n",
    "CONECT    3    8   10    9    1                                       \n",
    "CONECT    4   13   12   11    1                                       \n",
    "CONECT    5    1   15   16   14                                       \n",
    "CONECT    6    2                                                      \n",
    "CONECT    7    2                                                      \n",
    "CONECT    8    3                                                      \n",
    "CONECT    9    3                                                      \n",
    "CONECT   10    3                                                      \n",
    "CONECT   11    4                                                      \n",
    "CONECT   12    4                                                      \n",
    "CONECT   13    4                                                      \n",
    "CONECT   14    5                                                      \n",
    "CONECT   15    5                                                      \n",
    "CONECT   16    5                                                      \n",
    "CONECT   17   18    2   20   19                                       \n",
    "CONECT   18   17                                                      \n",
    "CONECT   19   17                                                      \n",
    "CONECT   20   17   21                                                 \n",
    "CONECT   21   20                                                      \n",
    "MASTER        0    0    0    0    0    0    0    0   21    0   21    0\n",
    "END\n",
    "'''\n",
    "\n",
    "cla_text = '''REMARK   DATE:     2/ 5/21     14:33:42      CREATED BY USER: nathan                  \n",
    "ATOM      1  CLA CLA C   1       0.000   0.000   0.000  1.00  0.00      CLA \n",
    "TER       2      CLA      1\n",
    "END\n",
    "'''\n",
    "\n",
    "glycerol_text = '''REMARK  GENERATED BY CHARMM-GUI (HTTP://WWW.CHARMM-GUI.ORG) VERSION ON APR, 15. 2015. \n",
    "REMARK  READ PDB, MANIPULATE STRUCTURE IF NEEDED, AND GENERATE TOPOLOGY FILE          \n",
    "REMARK   DATE:    10/17/16     14:15:26      CREATED BY USER: deeperbass              \n",
    "COMPND    UNNAMED\n",
    "AUTHOR    GENERATED BY OPEN BABEL 2.3.90\n",
    "ATOM      1  C1  MGL M   1      -0.017  -0.028  -0.037  1.00  0.00           C  \n",
    "ATOM      2  H11 MGL M   1      -0.396   0.567   0.824  1.00  0.00           H  \n",
    "ATOM      3  H12 MGL M   1      -0.480   0.370  -0.968  1.00  0.00           H  \n",
    "ATOM      4  O1  MGL M   1      -0.410  -1.388   0.157  1.00  0.00           O  \n",
    "ATOM      5  HO1 MGL M   1       0.048  -1.872  -0.543  1.00  0.00           H  \n",
    "ATOM      6  C2  MGL M   1       1.491   0.052  -0.111  1.00  0.00           C  \n",
    "ATOM      7  H2  MGL M   1       1.923  -0.532   0.740  1.00  0.00           H  \n",
    "ATOM      8  O2  MGL M   1       1.954  -0.523  -1.336  1.00  0.00           O  \n",
    "ATOM      9  HO2 MGL M   1       2.828  -0.124  -1.450  1.00  0.00           H  \n",
    "ATOM     10  C3  MGL M   1       1.978   1.481   0.005  1.00  0.00           C  \n",
    "ATOM     11  H31 MGL M   1       1.542   1.960   0.911  1.00  0.00           H  \n",
    "ATOM     12  H32 MGL M   1       1.657   2.069  -0.886  1.00  0.00           H  \n",
    "ATOM     13  O3  MGL M   1       3.409   1.505   0.100  1.00  0.00           O  \n",
    "ATOM     14  HO3 MGL M   1       3.648   1.861   0.962  1.00  0.00           H  \n",
    "CONECT    1    3    6    4    2                                       \n",
    "CONECT    2    1                                                      \n",
    "CONECT    3    1                                                      \n",
    "CONECT    4    5    1                                                 \n",
    "CONECT    5    4                                                      \n",
    "CONECT    6    8    1   10    7                                       \n",
    "CONECT    7    6                                                      \n",
    "CONECT    8    9    6                                                 \n",
    "CONECT    9    8                                                      \n",
    "CONECT   10   12    6   13   11                                       \n",
    "CONECT   11   10                                                      \n",
    "CONECT   12   10                                                      \n",
    "CONECT   13   10   14                                                 \n",
    "CONECT   14   13                                                      \n",
    "MASTER        0    0    0    0    0    0    0    0   14    0   14    0\n",
    "END\n",
    "'''\n",
    "\n",
    "urea1_text = '''REMARK   DATE:     2/ 5/21     14:50:16      CREATED BY USER: nathan                  \n",
    "COMPND    UNNAMED\n",
    "AUTHOR    GENERATED BY OPEN BABEL 2.3.90\n",
    "ATOM      1  N1  URE A   1      -1.144  -0.205   0.000  1.00  0.00           N  \n",
    "ATOM      2  H11 URE A   1      -2.036   0.247   0.000  1.00  0.00           H  \n",
    "ATOM      3  H12 URE A   1      -1.088  -1.204   0.000  1.00  0.00           H  \n",
    "ATOM      4  C2  URE A   1       0.000   0.543   0.000  1.00  0.00           C  \n",
    "ATOM      5  O2  URE A   1       0.000   1.782   0.000  1.00  0.00           O  \n",
    "ATOM      6  N3  URE A   1       1.144  -0.205   0.000  1.00  0.00           N  \n",
    "ATOM      7  H31 URE A   1       2.036   0.247   0.000  1.00  0.00           H  \n",
    "ATOM      8  H32 URE A   1       1.088  -1.204   0.000  1.00  0.00           H  \n",
    "CONECT    1    2    3    4                                            \n",
    "CONECT    2    1                                                      \n",
    "CONECT    3    1                                                      \n",
    "CONECT    4    5    1    6                                            \n",
    "CONECT    5    4                                                      \n",
    "CONECT    6    7    8    4                                            \n",
    "CONECT    7    6                                                      \n",
    "CONECT    8    6                                                      \n",
    "MASTER        0    0    0    0    0    0    0    0    8    0    8    0\n",
    "END\n",
    "'''\n",
    "\n",
    "with open(\"chol1.pdb\", \"w\") as f:\n",
    "    f.write(chol1_text)\n",
    "with open(\"cla.pdb\", \"w\") as f:\n",
    "    f.write(cla_text)\n",
    "with open(\"urea1.pdb\", \"w\") as f:\n",
    "    f.write(urea1_text)\n",
    "with open(\"glycerol1.pdb\", \"w\") as f:\n",
    "    f.write(glycerol_text)"
   ]
  },
  {
   "cell_type": "markdown",
   "id": "2d2c172b-52bb-400f-acfa-006b3c3ed71e",
   "metadata": {},
   "source": [
    "Now we run ```packmol``` itself, and make sure that everything worked ok:"
   ]
  },
  {
   "cell_type": "code",
   "execution_count": null,
   "id": "7e33e336-ec30-427f-8c9a-0f0f9fabd627",
   "metadata": {},
   "outputs": [],
   "source": [
    "#%%bash\n",
    "!packmol < packmol.in > packmol.out"
   ]
  },
  {
   "cell_type": "code",
   "execution_count": null,
   "id": "0ed9443f-8859-40e3-9c1c-a2e05e23fdb7",
   "metadata": {
    "scrolled": true,
    "tags": []
   },
   "outputs": [],
   "source": [
    "with open('packmol.out', 'r') as f:\n",
    "    text = f.read()\n",
    "    print(text)"
   ]
  },
  {
   "cell_type": "markdown",
   "id": "ec583bac-4d67-4cea-bd23-37f3bdced8b1",
   "metadata": {},
   "source": [
    "Let's take a look at the simulation box that you've just generated: "
   ]
  },
  {
   "cell_type": "code",
   "execution_count": null,
   "id": "0474568f-a028-497d-8f1c-e363e4afa725",
   "metadata": {
    "scrolled": true,
    "tags": []
   },
   "outputs": [],
   "source": [
    "with open('chcl_urea.pdb', 'r') as f:\n",
    "    text = f.read()\n",
    "    print(text)"
   ]
  },
  {
   "cell_type": "markdown",
   "id": "5d0f00f0-f98a-470f-8821-1d4b7161e96a",
   "metadata": {},
   "source": [
    "Finally, we will define the ```pdb``` using the PDB file that we just generated using ```packmol```:"
   ]
  },
  {
   "cell_type": "code",
   "execution_count": null,
   "id": "98f42e99-2874-4eb8-a041-303b777a7074",
   "metadata": {},
   "outputs": [],
   "source": [
    "pdb = PDBFile('chcl_urea.pdb')"
   ]
  },
  {
   "cell_type": "markdown",
   "id": "fb15b81f-248b-479e-bd97-345521c27772",
   "metadata": {},
   "source": [
    "We can move on and define our MD simulation now!"
   ]
  },
  {
   "cell_type": "markdown",
   "id": "e771ad91-0fd2-4c45-abb0-83605a19baf0",
   "metadata": {},
   "source": [
    "#### Defining the MD Simulation"
   ]
  },
  {
   "cell_type": "markdown",
   "id": "47c79f6f-35cd-4491-b051-3f36db830eeb",
   "metadata": {},
   "source": [
    "We are now ready to setup the MD simulation objects using the ```OpenMM``` python module. The process for this is _exactly_ the same as that in Workshops 1 and 2 - we need to define: \n",
    "\n",
    "1. What forcefield we are going to use (this defines how bonded and non-bonded atoms interact with each other)\n",
    "1. What the system topology is (i.e. which atoms are connected to which atoms etc.)\n",
    "1. How we will control the simulation temperature and pressure (e.g. using a _thermostat_ or a _barostat_), and\n",
    "1. How we will iterate Newton's equations of motion (i.e. the _integrator_)\n",
    "\n",
    "Run the cells below. They will setup the simulation in the following way: \n",
    "\n",
    "1. We will use the CHARMM forcefields for small organic molecules. The forcefield will be stored in  the ```chcl_urea_ff``` object. \n",
    "1. We combine the ```chcl_urea_ff``` object with the topology in our PDB file ```chcl_urea.pdb``` (generated above using packmol) to define the MD simulation, which we store in the ```chcl_urea_system``` object. \n",
    "1. We add a barostat (the ```MonteCarloBarostat```) to the simulation using ```OpenMM```'s ```addForce``` module. \n",
    "1. We use ```OpenMM```'s ```NoseHooverIntegrator``` to iterate the equations of motion. This will also control the simulation temperature.\n"
   ]
  },
  {
   "cell_type": "code",
   "execution_count": null,
   "id": "129273f5-4538-45e9-948e-2e1efeec0fec",
   "metadata": {},
   "outputs": [],
   "source": [
    "chcl_urea_ff = ForceField('charmm36.xml','charmm36/water.xml')"
   ]
  },
  {
   "cell_type": "code",
   "execution_count": null,
   "id": "6a3d026b-20fc-46d8-9317-cfc69b564bfa",
   "metadata": {},
   "outputs": [],
   "source": [
    "chcl_urea_system = chcl_urea_ff.createSystem(pdb.topology,nonbondedMethod=PME,nonbondedCutoff=9*angstrom,constraints=HBonds)  ##COME BACK TO THIS"
   ]
  },
  {
   "cell_type": "code",
   "execution_count": null,
   "id": "c2222094-3872-4763-b098-17552c8c3a7d",
   "metadata": {},
   "outputs": [],
   "source": [
    "chcl_urea_system.addForce(MonteCarloBarostat(simPressure, simTemperature, 1))"
   ]
  },
  {
   "cell_type": "code",
   "execution_count": null,
   "id": "a1d256b8-c6c7-4623-950e-3ce46bd6bcc8",
   "metadata": {},
   "outputs": [],
   "source": [
    "integrator = LangevinMiddleIntegrator(simTemperature, 1/picosecond, simTimestep)"
   ]
  },
  {
   "cell_type": "code",
   "execution_count": null,
   "id": "95f7f029-42a5-43f3-9caa-1b6eef346a9b",
   "metadata": {},
   "outputs": [],
   "source": [
    "chcl_urea = Simulation(pdb.topology,chcl_urea_system,integrator)"
   ]
  },
  {
   "cell_type": "code",
   "execution_count": null,
   "id": "85487e77-5b53-4e3d-9bf7-10e2902e9553",
   "metadata": {},
   "outputs": [],
   "source": [
    "chcl_urea.context.setPositions(pdb.positions)"
   ]
  },
  {
   "cell_type": "markdown",
   "id": "f8e8d0ec-9076-45e0-8cd9-477aad1debd5",
   "metadata": {},
   "source": [
    "Note that we have defined the ChCl:urea DES MD simulation here via the ```chcl_urea``` object. Now we are ready to run!! "
   ]
  },
  {
   "cell_type": "markdown",
   "id": "403a99c0-ae08-49a5-9bc1-b2853cf25cc2",
   "metadata": {},
   "source": [
    "#### Energy Minimisation"
   ]
  },
  {
   "cell_type": "markdown",
   "id": "d163042d-9063-4710-b8a9-c0bdcee7f83f",
   "metadata": {},
   "source": [
    "As usual, we have to minimise the energy of our ```chcl_urea``` system to a local minimum on the potential energy surface. Run the next cell to do this: "
   ]
  },
  {
   "cell_type": "code",
   "execution_count": null,
   "id": "22ab4b9a-39a9-46c2-86c9-514b5d7f126c",
   "metadata": {},
   "outputs": [],
   "source": [
    "print(\"Running Energy Minimisation:\")\n",
    "t0 = time.time()\n",
    "chcl_urea.minimizeEnergy()\n",
    "t1 = time.time()\n",
    "minTime = t1-t0\n",
    "print(\"Minimisation took {} seconds\".format(minTime))"
   ]
  },
  {
   "cell_type": "markdown",
   "id": "cad0c504-d3a7-458c-8922-ff451a9f06bb",
   "metadata": {},
   "source": [
    "#### Running the MD Simulation"
   ]
  },
  {
   "cell_type": "markdown",
   "id": "24652e7a-a932-4895-b7cf-cb31153e5c9b",
   "metadata": {
    "tags": []
   },
   "source": [
    "The arrangement of ChCl ions and urea in your box should now correspond to a local energy minima, meaning that you are good to go - run the MD simulation!\n",
    "\n",
    "Before you do though, we want to make sure that we store the relevant data from the MD trajectory. The cell below will take care of this for you, and will track the progress of the MD simulation in two files ```chcl_urea.dcd```, and ```chcl_urea.csv```:"
   ]
  },
  {
   "cell_type": "code",
   "execution_count": null,
   "id": "89d45b7f-a89d-4311-ae08-e074d0b5f454",
   "metadata": {},
   "outputs": [],
   "source": [
    "chcl_urea.reporters.append(DCDReporter('chcl_urea.dcd', 10))\n",
    "chcl_urea.reporters.append(StateDataReporter(\n",
    "    'chcl_urea.csv', \n",
    "    10, \n",
    "    step=True,\n",
    "    time=True,\n",
    "    temperature=True, \n",
    "    potentialEnergy=True, \n",
    "    kineticEnergy=True,\n",
    "    totalEnergy=True, \n",
    "    volume=True, \n",
    "    density=True\n",
    "))"
   ]
  },
  {
   "cell_type": "code",
   "execution_count": null,
   "id": "1e5361c2-8528-4c5a-a5b5-4376c47357f1",
   "metadata": {},
   "outputs": [],
   "source": [
    "# Run the simulation:\n",
    "print('Start Simulation')\n",
    "t0 = time.time()\n",
    "chcl_urea.step(simNumSteps)\n",
    "t1 = time.time()\n",
    "simTime = t1-t0\n",
    "print(\"Simulation took {} seconds for {} timesteps\".format(simTime,simNumSteps)) "
   ]
  },
  {
   "cell_type": "markdown",
   "id": "00a76f29-743f-47dc-b404-0c49473197d0",
   "metadata": {},
   "source": [
    "### Exercise: Simulating ChCl:Acetamide DES"
   ]
  },
  {
   "cell_type": "markdown",
   "id": "aa4d0228-899a-4167-95d1-efd60069cbe6",
   "metadata": {},
   "source": [
    "Copy, paste and edit the sample code above that generated the ```chcl_urea``` simulation object to: \n",
    "\n",
    "1. Generate a new ```packmol.in``` to create a comparable simulation box with ChCl:acetamide (1:2 molar ratio) in it. **Use the pdb file ```acetamide.pdb``` pdb file for this step.** The density of the ChCl:acetamide DES is close enough to that of the ChCl:urea DES for us to leave this parameter unchanged from the value above. (See \"**Generating the Unit Cell**\" above).\n",
    "1. Generate your  ChCl:acetamide DES box using ```packmol```. (See \"**Generating the Unit Cell**\" above).\n",
    "1. Minimise the energy of this ChCl:acetamide DES to a local minimim on the potential energy surface using ```OpenMM```. (See \"**Energy Minimisation**\" above).\n",
    "1. Create and run a 50 ps MD simulation of ChCl:acetamide DES using the NPT ensemble using ```OpenMM``` (See \"**Running the MD Simulation**\" above). \n",
    "\n",
    "##### <span style=\"color:red;\">Important Notes</span> #####\n",
    "1. <span style=\"color:red;\">Insert as many code cells in the jupyter notebook below as you need. Try and keep your code as 'clean' as possible - it will help you solve and debug problems if and when they happen!</span>\n",
    "1. <span style=\"color:red;\">If you get stuck, ask your demonstrator for help!</span>\n",
    "1. <span style=\"color:red;\">REALLY IMPORTANT - make sure that you change all \"chcl_urea\" to \"chcl_acetamide\" (or whatever you want to use) in your new code below. Otherwise you will destroy the ChCl:urea DES simulation you just ran!</span>\n",
    "1. <span style=\"color:red;\">REALLY IMPORTANT - make sure that you change the \"urea1.pdb\" to \"acetamide.pdb\" when  you generate your ```packmol.in``` file - otherwise you will just be simulating aqueous ChCl:urea DES again...</span>\n"
   ]
  },
  {
   "cell_type": "markdown",
   "id": "625a805b-dfd8-469c-8894-3c5d4a3dbc99",
   "metadata": {},
   "source": [
    "### Exercise: Simulating ChCl:Glycerol DES"
   ]
  },
  {
   "cell_type": "markdown",
   "id": "5450473f-32fe-4b70-9dfa-04fa8fc2990c",
   "metadata": {},
   "source": [
    "Copy, paste and edit the sample code above that generated the ```chcl_urea``` simulation object to: \n",
    "\n",
    "1. Generate a new ```packmol.in``` to create a comparable simulation box with ChCl:glycerol (1:2 molar ratio) in it. **Use the pdb files ```glycerol.pdb``` pdb file for this step.** The density of the ChCl:glycerol DES is close enough to that of the ChCl:urea DES for us to leave this parameter unchanged from the value above. (See \"**Generating the Unit Cell**\" above).\n",
    "1. Generate your  ChCl:glycerol DES box using ```packmol```. (See \"**Generating the Unit Cell**\" above).\n",
    "1. Minimise the energy of this ChCl:glycerol DES to a local minimim on the potential energy surface using ```OpenMM```. (See \"**Energy Minimisation**\" above).\n",
    "1. Create and run a 50 ps MD simulation of ChCl:glycerol DES using the NPT ensemble using ```OpenMM``` (See \"**Running the MD Simulation**\" above). \n",
    "\n",
    "##### <span style=\"color:red;\">Important Notes</span> #####\n",
    "1. <span style=\"color:red;\">Insert as many code cells in the jupyter notebook below as you need. Try and keep your code as 'clean' as possible - it will help you solve and debug problems if and when they happen!</span>\n",
    "1. <span style=\"color:red;\">If you get stuck, ask your demonstrator for help!</span>\n",
    "1. <span style=\"color:red;\">REALLY IMPORTANT - make sure that you change all \"chcl_urea\" to \"chcl_glycerol\" (or whatever you want to use) in your new code below. Otherwise you will destroy the ChCl:urea DES simulation you just ran!</span>\n",
    "1. <span style=\"color:red;\">REALLY IMPORTANT - make sure that you change the \"urea1.pdb\" to \"glycerol.pdb\" when  you generate your ```packmol.in``` file - otherwise you will just be simulating aqueous ChCl:urea DES again...</span>\n"
   ]
  },
  {
   "cell_type": "markdown",
   "id": "c67d19df-e271-4611-894d-eb06237a7330",
   "metadata": {},
   "source": [
    "### Analysis: Influence of HBD on Choline - Cl$^{-}$ Interaction"
   ]
  },
  {
   "cell_type": "markdown",
   "id": "a3f07f8a-912e-46b4-bbaa-e493bfe388ba",
   "metadata": {
    "tags": []
   },
   "source": [
    "#### ChCl:Urea"
   ]
  },
  {
   "cell_type": "markdown",
   "id": "02d6893c-a2b9-4070-8cca-d21758fdba18",
   "metadata": {},
   "source": [
    "<div style=\"display:flex\">\n",
    "    <div style=\"width:70%;margin-right:40px;\">\n",
    "        In Workshops 1 and 2, we have employed radial distribution functions to get a better understanding of the arrangement of individual molecules in bulk solvent environments, and the hydrogen bonding structure of this water and aqueous electrolytes. While the interactions occuring within the ChCl DESs we're studying here are a little more complex, in principal we can still understand them using the same approach. Recall the mechanism of the eutectic formation in ChCl:urea described above (shown on the right). The proposed mechanism to explain eutectic formation is that the urea HBD disrupts and weakens the electrostatic interactions between the choline cation (specificially the ammonium charge group) and the Cl$^{-}$ anion. \n",
    "    </div>\n",
    "    <div style=\"width:25%\">\n",
    "        <img src=\"https://www.researchgate.net/publication/317853522/figure/fig11/AS:513887928029184@1499531837042/Schematic-representation-of-the-2ChCl4urea-cluster-highlighting-the-most-relevant.png\" style=\"float:right;maxwidth:100%;maxheight:100%\">   \n",
    "    </div>\n",
    "<div>"
   ]
  },
  {
   "cell_type": "markdown",
   "id": "b6e7cdf8-a18e-4e51-9184-02b50a328dea",
   "metadata": {},
   "source": [
    "Is this mechanism correct? We can investigate this hypothesis via analysing the following radial distribution functions - that is, \n",
    "\n",
    "1. The radial distribution function of Cl atoms around the choline N atom (i.e. $g_{\\text{Cl-N}}(r)$). This is the result of the direct electrostatic interaction between the cation and anion.\n",
    "1. The radial distribution function of Cl atoms around the choline hydroxyl H atom (i.e. $g_{\\text{Cl-OH}_{\\text{H}}}(r)$). This is the result of the hydrogen bonding interaction between the cation and anion.\n",
    "\n",
    "\n",
    "By comparing these radial distribution function in the three different DES we're studying here, we can begin to understand how the HBD influences the structure and melting point depression of each eutectic mixture.\n",
    "\n",
    "Let's start with the ChCl:urea DES - the ChCl:acetamide and ChCl:glycerol DES will be an exercise for you below. We'll take our ChCl:urea MD trajectory and use it to define an ```MDAnalysis``` universe using the ```chcl_urea.pdb``` and ```chcl_urea.dcd``` files created above:"
   ]
  },
  {
   "cell_type": "code",
   "execution_count": null,
   "id": "2b36041f-150d-438d-8f6d-71e9250b896e",
   "metadata": {},
   "outputs": [],
   "source": [
    "import MDAnalysis as mda\n",
    "import MDAnalysis.analysis.rdf as rdf"
   ]
  },
  {
   "cell_type": "code",
   "execution_count": null,
   "id": "9a09f448-1dae-44e4-ad0d-dd402885a4ac",
   "metadata": {},
   "outputs": [],
   "source": [
    "chcl_urea_universe = mda.Universe('chcl_urea.pdb','chcl_urea.dcd')"
   ]
  },
  {
   "cell_type": "markdown",
   "id": "35cce2f6-7aa3-4e7c-a6e4-8d7d17f7a556",
   "metadata": {},
   "source": [
    "We now need to tell MDAnalysis which pairs of atoms we want to investigate via the ```select_atoms``` function. Things are a little more complex than in Workshops 1 and 2. The list of atoms we need is below: \n",
    "\n",
    "1. We'll store the list of Cl atoms in the variable ```chcl_urea_cl```\n",
    "1. We'll store the list of choline N atoms in the variable ```chcl_urea_n```\n",
    "1. We'll store the list of choline hydoxyl H atoms in the variable ```chcl_urea_ch```"
   ]
  },
  {
   "cell_type": "code",
   "execution_count": null,
   "id": "0859f55b-aed4-4b7a-9820-ed69d21ff47b",
   "metadata": {},
   "outputs": [],
   "source": [
    "chcl_urea_cl = chcl_urea_universe.select_atoms('name CLA')\n",
    "chcl_urea_n = chcl_urea_universe.select_atoms('name N')\n",
    "chcl_urea_ch = chcl_urea_universe.select_atoms('name HO1')"
   ]
  },
  {
   "cell_type": "markdown",
   "id": "18bdd1dd-67e4-454b-8f4a-4fc6f17b4a6f",
   "metadata": {},
   "source": [
    "Note the individual 'names' here are defined in the pdb files used to create your simulation box above. \n",
    "\n",
    "We can now define each individual RDF required for our analysis:\n",
    "\n",
    "1. The radial distribution function of Cl atoms around the choline N atom (i.e. $g_{\\text{Cl-N}}(r)$). We will place this in the variable ```chcl_urea_cln_rdf```:"
   ]
  },
  {
   "cell_type": "code",
   "execution_count": null,
   "id": "16f511ca-07ee-4c74-b692-2aba30d1112e",
   "metadata": {},
   "outputs": [],
   "source": [
    "chcl_urea_cln_rdf = rdf.InterRDF(chcl_urea_cl,chcl_urea_n,nbins=100,range=(1.0,10))"
   ]
  },
  {
   "cell_type": "markdown",
   "id": "367423ae-5042-4870-b0a0-1f2ace1d5c95",
   "metadata": {},
   "source": [
    "2. The radial distribution function of Cl atoms around the choline hydroxyl H atom (i.e. $g_{\\text{Cl-OH}_{\\text{H}}}(r)$). We will place this in the variable ```chcl_urea_clh_rdf```:"
   ]
  },
  {
   "cell_type": "code",
   "execution_count": null,
   "id": "54f97f5f-e687-43e8-9a5e-fa4707f3b3d9",
   "metadata": {},
   "outputs": [],
   "source": [
    "chcl_urea_clch_rdf = rdf.InterRDF(chcl_urea_cl,chcl_urea_ch,nbins=100,range=(1.0,10))"
   ]
  },
  {
   "cell_type": "markdown",
   "id": "f69f5be7-52da-4bae-964a-50a3f3454b5e",
   "metadata": {},
   "source": [
    "Let's run them!"
   ]
  },
  {
   "cell_type": "code",
   "execution_count": null,
   "id": "a6c03332-d74a-41fb-8322-b56d336aa76f",
   "metadata": {},
   "outputs": [],
   "source": [
    "chcl_urea_cln_rdf.run()\n",
    "chcl_urea_clch_rdf.run()"
   ]
  },
  {
   "cell_type": "markdown",
   "id": "d6cccf70-baa8-402e-a9d8-418386d7b26d",
   "metadata": {},
   "source": [
    "When it is finished, we can plot the results and look at the RDF! We will use the ```matplotlib``` python module, as we have before, to do this. Note that the horizontal and vertical axis data we want to plot are actually now in the ```.bins``` and ```.rdf``` variables, respectively. So we will pass these two variables to the plot command below for both the $g_{\\text{Na-O}}(r)$ and $g_{\\text{Cl-H}}(r)$ radial distribution functions:"
   ]
  },
  {
   "cell_type": "code",
   "execution_count": null,
   "id": "accb5b83-4736-475c-bf0f-3d9e1ae559f2",
   "metadata": {},
   "outputs": [],
   "source": [
    "import matplotlib.pyplot as plt\n",
    "\n",
    "plt.plot(chcl_urea_cln_rdf.bins,chcl_urea_cln_rdf.rdf,label=\"Cl-N\")\n",
    "plt.plot(chcl_urea_clch_rdf.bins,chcl_urea_clch_rdf.rdf,label=\"Cl-H(choline OH)\")\n",
    "plt.xlabel(\"r ($\\mathrm{\\AA}$)\")\n",
    "plt.ylabel(\"g(r)\")\n",
    "plt.legend()\n",
    "plt.ylim([0.0, 10])"
   ]
  },
  {
   "cell_type": "markdown",
   "id": "1d780ca6",
   "metadata": {},
   "source": [
    "Work through the following exercises to (1) calculate the same two radial distribution functions in the ChCl:acetamide and ChCl:glycerol DES and (2) compare these Ch$^+$ - Cl$^-$ interactions as a function of the HBD structure."
   ]
  },
  {
   "cell_type": "markdown",
   "id": "20d936dd-6edc-46f9-ac7b-7a10b4604b16",
   "metadata": {},
   "source": [
    "#### Exercise: ChCl:Acetamide"
   ]
  },
  {
   "cell_type": "markdown",
   "id": "75a34e82",
   "metadata": {},
   "source": [
    "1. Use the ChCl:urea code above to define a new ```MDAnalysis``` universe for your ChCl:acetamide DES simulation. \n",
    "1. Use the ChCl:urea code above to calculate the $g_{\\text{Cl-N}}(r)$ radial distribution function for the ChCl:acetamide DES.\n",
    "1. Use the ChCl:urea code above to calculate the $g_{\\text{Cl-OH}_{\\text{H}}}(r)$ radial distribution function for the ChCl:acetamide DES.\n",
    "\n",
    "\n",
    "##### <span style=\"color:red;\">Important Notes</span> #####\n",
    "1. <span style=\"color:red;\">Insert as many code cells in the jupyter notebook below as you need. Try and keep your code as 'clean' as possible - it will help you solve and debug problems if and when they happen!</span>\n",
    "1. <span style=\"color:red;\">Make sure you change your PDB and DCD file names when defining your new universe. Otherwise your results will be for the ChCl:urea DES, not the ChCl:acetamide DES.</span>\n",
    "1. <span style=\"color:red;\">Make sure you change all ```urea``` to ```acetamide``` (or whatever name you choose to work with) in your new code, otherwise you will be overwriting your ChCl:urea radial distribution functions that you just calculated above.</span>\n",
    "1. <span style=\"color:red;\">If you get stuck, ask your demonstrator for help!</span>"
   ]
  },
  {
   "cell_type": "markdown",
   "id": "d46de524-2887-4cde-9871-12c16a43c44a",
   "metadata": {},
   "source": [
    "#### Exercise: ChCl:Glycerol"
   ]
  },
  {
   "cell_type": "markdown",
   "id": "a9fcbc34",
   "metadata": {},
   "source": [
    "1. Use the ChCl:urea code above to define a new ```MDAnalysis``` universe for your ChCl:glycerol DES simulation. \n",
    "1. Use the ChCl:urea code above to calculate the $g_{\\text{Cl-N}}(r)$ radial distribution function for the ChCl:glycerol DES.\n",
    "1. Use the ChCl:urea code above to calculate the $g_{\\text{Cl-OH}_{\\text{H}}}(r)$ radial distribution function for the ChCl:glycerol DES.\n",
    "\n",
    "\n",
    "##### <span style=\"color:red;\">Important Notes</span> #####\n",
    "1. <span style=\"color:red;\">Insert as many code cells in the jupyter notebook below as you need. Try and keep your code as 'clean' as possible - it will help you solve and debug problems if and when they happen!</span>\n",
    "1. <span style=\"color:red;\">Make sure you change your PDB and DCD file names when defining your new universe. Otherwise your results will be for the ChCl:urea DES, not the ChCl:glycerol DES.</span>\n",
    "1. <span style=\"color:red;\">Make sure you change all ```urea``` to ```glycerol``` (or whatever name you choose to work with) in your new code, otherwise you will be overwriting your ChCl:urea radial distribution functions that you just calculated above.</span>\n",
    "1. <span style=\"color:red;\">If you get stuck, ask your demonstrator for help!</span>\n"
   ]
  },
  {
   "cell_type": "markdown",
   "id": "3db92f01",
   "metadata": {},
   "source": [
    "#### Exercise: Plot and Compare Ch$^+$ - Cl$^-$ interactions"
   ]
  },
  {
   "cell_type": "markdown",
   "id": "0fa2b89f",
   "metadata": {},
   "source": [
    "1. Use the ChCl:urea code above to generate a plot comparing the $g_{\\text{Cl-N}}(r)$ radial distribution function for the ChCl:urea, ChCl:acetamide and ChCl:glycerol DES. \n",
    "1. Use the ChCl:urea code above to generate a plot comparing the $g_{\\text{Cl-OH}_{\\text{H}}}(r)$ radial distribution function for the ChCl:urea, ChCl:acetamide and ChCl:glycerol DES. \n",
    "\n",
    "\n",
    "##### <span style=\"color:red;\">Important Notes</span> #####\n",
    "1. <span style=\"color:red;\">Insert as many code cells in the jupyter notebook below as you need. Try and keep your code as 'clean' as possible - it will help you solve and debug problems if and when they happen!</span>\n",
    "1. <span style=\"color:red;\">You may want to use more suitable names in the legend. Change the \"label\" variable to do this.</span>\n",
    "1. <span style=\"color:red;\">You may want to change the scale of the vertical axis. Change the ```plt.ylim```  variable to do this.</span>\n",
    "1. <span style=\"color:red;\">If you get stuck, ask your demonstrator for help!</span>\n"
   ]
  },
  {
   "cell_type": "markdown",
   "id": "7fbdc560",
   "metadata": {},
   "source": [
    "### Discussion Questions"
   ]
  },
  {
   "cell_type": "markdown",
   "id": "fd2382db",
   "metadata": {},
   "source": [
    "For your report, you may find considering the following questions useful, based on the data you have created above:\n",
    "\n",
    "1. Are the trends in the $g_{\\text{Cl-N}}(r)$ radial distribution function consistent with the melting point depressions in these three DES?\n",
    "1. Are the trends in the $g_{\\text{Cl-OH}_{\\text{H}}}(r)$ radial distribution function consistent with the melting point depressions in these three DES?\n",
    "1. Based on your data, which interaction between the cation and anion - Cl-N or Cl-OH - do you think is more influential in the formation of these liquid-state eutectic systems? \n",
    "1. Does your data show you anything about the relative importance of electrostatic and hydrogen bonding interactions between the choline cation and the chloride anion in the formation of these DES? "
   ]
  },
  {
   "cell_type": "markdown",
   "id": "2943e0f8-5acf-4591-ab95-2f7e9b09313d",
   "metadata": {},
   "source": [
    "### Analysis: HBD-Cl$^{-}$ Interactions"
   ]
  },
  {
   "cell_type": "markdown",
   "id": "6565a049",
   "metadata": {},
   "source": [
    "The analysis above focused on the influence of the HBD on the native electrostatic and hydrogen bonding interactions between the Ch$^{+}$ cation and Cl$^{-}$ anion in each DES. The other aspect of the proposed mechanism for DES melting point depression is the hydrogen bonding interaction between the HBD itself and the Cl$^{-}$ anion. In effect, it is hypothesised that this interaction is what frustrates the natural  Ch$^{+}$ - Cl$^{-}$  interactions. \n",
    "\n",
    "Is this hypothesis correct? We can investigate this hypothesis by analysing the relevant radial distribution functions in the ChCl:urea, ChCl:acetamide and ChCl:glycerol DES. These are, respectively:\n",
    "\n",
    "1. The radial distribution function of Cl atoms around the urea amide H atoms (i.e. $g_{\\text{Cl-UH1}}(r)$ and $g_{\\text{Cl-UH2}}(r)$). (Note that, by symmetry, the 4 hydrogens in urea's structure are actually two pairs of symmetrically-equivalent hydrogen atoms (called the 'proximal' and 'distal' hydrogens).)\n",
    "1. The radial distribution function of Cl atoms around the acetamide amide H atoms (i.e. $g_{\\text{Cl-AH1}}(r)$ and $g_{\\text{Cl-AH2}}(r)$) (Note that the amide hydrogens in the acetamide HBD are also symetrically-distinct, i.e. proximal and distal.)\n",
    "1. The radial distribution function of Cl atoms around the glycerol H atoms (i.e. $g_{\\text{Cl-GH}_{\\text{C}}}(r)$ and $g_{\\text{Cl-GH}_{\\text{T}}}(r)$) (Note that glycerol has two symmetrically distinct groups of hydrogen atoms - the H atoms on the terminal OH groups (i.e. GH$_{\\text{T}}$) and the H atom on the central OH group (i.e. (i.e. GH$_{\\text{C}}$)"
   ]
  },
  {
   "cell_type": "markdown",
   "id": "d3a5c947",
   "metadata": {},
   "source": [
    "The code below calculates and plots the two radial distribution functions required for the ChCl:urea DES; the analysis for the ChCl:acetamide and ChCl:glycerol DES are exercises for you below. \n",
    "\n",
    "For the ChCl:urea DES, we'll store the list of urea H atoms in two variables ```chcl_urea_uh1``` and ```chcl_urea_uh2```. "
   ]
  },
  {
   "cell_type": "code",
   "execution_count": null,
   "id": "24511dde",
   "metadata": {},
   "outputs": [],
   "source": [
    "chcl_urea_uh1 = chcl_urea_universe.select_atoms('name H11 or name H31')\n",
    "chcl_urea_uh2 = chcl_urea_universe.select_atoms('name H12 or name H32')"
   ]
  },
  {
   "cell_type": "markdown",
   "id": "2674ccb6",
   "metadata": {},
   "source": [
    "Here, the atom names (```H11```, ```H31``` etc.) are those that are defined in the PDB files used to generate your MD simulation, above. Note that we've already stored the Cl anions in the variable ```chcl_urea_cl``` during our analysis of Ch$^{+}$-Cl$^{-}$ interactions above, so we do not need to redefine them here. \n",
    "\n",
    "We'll store the radial distribution function of Cl atoms around the urea amide H atoms (i.e. $g_{\\text{Cl-H1}}(r)$ and $g_{\\text{Cl-H2}}(r)$) in the variables ```chcl_urea_cluh1_rdf``` and ```chcl_urea_cluh2_rdf```:"
   ]
  },
  {
   "cell_type": "code",
   "execution_count": null,
   "id": "7875852d",
   "metadata": {},
   "outputs": [],
   "source": [
    "chcl_urea_cluh1_rdf = rdf.InterRDF(chcl_urea_cl,chcl_urea_uh1,nbins=100,range=(1.0,10))\n",
    "chcl_urea_cluh2_rdf = rdf.InterRDF(chcl_urea_cl,chcl_urea_uh2,nbins=100,range=(1.0,10))"
   ]
  },
  {
   "cell_type": "markdown",
   "id": "81b8a59e",
   "metadata": {},
   "source": [
    "Now we can run these RDFs! Execute the code cell below to do this."
   ]
  },
  {
   "cell_type": "code",
   "execution_count": null,
   "id": "0be702be",
   "metadata": {},
   "outputs": [],
   "source": [
    "chcl_urea_cluh1_rdf.run()\n",
    "chcl_urea_cluh2_rdf.run()"
   ]
  },
  {
   "cell_type": "markdown",
   "id": "d8a8c774",
   "metadata": {},
   "source": [
    "Now we can plot the $g_{\\text{Cl-H1}}(r)$ and $g_{\\text{Cl-H2}}(r)$ RDFs to compare the interaction of the Cl$^{-}$ anion with the proximal and distal hydrogens in urea:"
   ]
  },
  {
   "cell_type": "code",
   "execution_count": null,
   "id": "698b101e",
   "metadata": {},
   "outputs": [],
   "source": [
    "plt.plot(chcl_urea_cluh1_rdf.bins,chcl_urea_cluh1_rdf.rdf,label=\"Cl-H1(urea)\")\n",
    "plt.plot(chcl_urea_cluh2_rdf.bins,chcl_urea_cluh2_rdf.rdf,label=\"Cl-H2(urea)\")\n",
    "plt.xlabel(\"r ($\\mathrm{\\AA}$)\")\n",
    "plt.ylabel(\"g(r)\")\n",
    "plt.legend()\n",
    "plt.ylim([0.0, 13])"
   ]
  },
  {
   "cell_type": "markdown",
   "id": "26b887f8",
   "metadata": {},
   "source": [
    "#### Exercise: ChCl:Acetamide"
   ]
  },
  {
   "cell_type": "markdown",
   "id": "b3aa77d4",
   "metadata": {},
   "source": [
    "1. Use the ChCl:urea code above to store the list of acetamide proximal and distal amide hydrogen atoms in your ChCl:acetamide universe in two variables ```chcl_acetamide_ah1``` and ```chcl_acetamide_ah2``` (or variables of your choosing!). **The AH1 hydrogen atom is named \"HC\" in your PDB file. The AH2 hydrogen atom is named \"HT\" in your PDB file.**\n",
    "1. Use the ChCl:urea code above to calculate the $g_{\\text{Cl-AH1}}(r)$ radial distribution function for the ChCl:acetamide DES. \n",
    "1. Use the ChCl:urea code above to calculate the $g_{\\text{Cl-AH2}}(r)$ radial distribution function for the ChCl:acetamide DES. \n",
    "\n",
    "\n",
    "##### <span style=\"color:red;\">Important Notes</span> #####\n",
    "1. <span style=\"color:red;\">Insert as many code cells in the jupyter notebook below as you need. Try and keep your code as 'clean' as possible - it will help you solve and debug problems if and when they happen!</span>\n",
    "1. <span style=\"color:red;\">Note you do not have to create a new ```MDAnalysis``` universe, since you have already done that above.</span>\n",
    "1. <span style=\"color:red;\">Make sure you change your PDB and DCD file names when defining your new universe. Otherwise your results will be for the ChCl:urea DES, not the ChCl:acetamide DES.</span>\n",
    "1. <span style=\"color:red;\">Make sure you change all ```urea``` to ```acetamide``` (or whatever name you choose to work with) in your new code, otherwise you will be overwriting your ChCl:urea radial distribution functions that you just calculated above.</span>\n",
    "1. <span style=\"color:red;\">If you get stuck, ask your demonstrator for help!</span>"
   ]
  },
  {
   "cell_type": "markdown",
   "id": "f9c1989a",
   "metadata": {},
   "source": [
    "#### Exercise: ChCl:Glycerol"
   ]
  },
  {
   "cell_type": "markdown",
   "id": "d7dc9c8b",
   "metadata": {},
   "source": [
    "1. Use the ChCl:urea code above to store the list of glycerol OH hydrogen atoms in your ChCl:glycerol universe in two variables ```chcl_glycerol_ght``` and ```chcl_acetamide_ghc``` (or variables of your choosing!). **The GH$_{\\text{C}}$ hydrogen atom is named \"HO2\" in your PDB file. The GH$_{\\text{T}}$ hydrogen atoms are named \"HO1\" and \"HO3\" in your PDB file.**\n",
    "1. Use the ChCl:urea code above to calculate the $g_{\\text{Cl-GH}_{\\text{C}}}(r)$ radial distribution function for the ChCl:acetamide DES. \n",
    "1. Use the ChCl:urea code above to calculate the $g_{\\text{Cl-GH}_{\\text{T}}}(r)$ radial distribution function for the ChCl:acetamide DES. \n",
    "\n",
    "\n",
    "##### <span style=\"color:red;\">Important Notes</span> #####\n",
    "1. <span style=\"color:red;\">Insert as many code cells in the jupyter notebook below as you need. Try and keep your code as 'clean' as possible - it will help you solve and debug problems if and when they happen!</span>\n",
    "1. <span style=\"color:red;\">Note you do not have to create a new ```MDAnalysis``` universe, since you have already done that above.</span>\n",
    "1. <span style=\"color:red;\">Make sure you change your PDB and DCD file names when defining your new universe. Otherwise your results will be for the ChCl:urea DES, not the ChCl:acetamide DES.</span>\n",
    "1. <span style=\"color:red;\">Make sure you change all ```urea``` to ```acetamide``` (or whatever name you choose to work with) in your new code, otherwise you will be overwriting your ChCl:urea radial distribution functions that you just calculated above.</span>\n",
    "1. <span style=\"color:red;\">If you get stuck, ask your demonstrator for help!</span>"
   ]
  },
  {
   "cell_type": "markdown",
   "id": "05aaaaf3",
   "metadata": {},
   "source": [
    "#### Plot and Compare HBD - Cl$^{-}$ Interactions"
   ]
  },
  {
   "cell_type": "markdown",
   "id": "8eaf9eaf",
   "metadata": {},
   "source": [
    "1. Use the ChCl:urea code above to generate a plot comparing the Cl$^{-}$ - HBD radial distribution functions for the ChCl:urea, ChCl:acetamide and ChCl:glycerol DES. \n",
    "\n",
    "##### <span style=\"color:red;\">Important Notes</span> #####\n",
    "1. <span style=\"color:red;\">Insert as many code cells in the jupyter notebook below as you need. Try and keep your code as 'clean' as possible - it will help you solve and debug problems if and when they happen!</span>\n",
    "1. <span style=\"color:red;\">You may want to use more suitable names in the legend. Change the \"label\" variable to do this.</span>\n",
    "1. <span style=\"color:red;\">You may want to change the scale of the vertical axis. Change the ```plt.ylim```  variable to do this.</span>\n",
    "1. <span style=\"color:red;\">If you get stuck, ask your demonstrator for help!</span>\n"
   ]
  },
  {
   "cell_type": "markdown",
   "id": "15c3fa38",
   "metadata": {},
   "source": [
    "### Discussion Questions"
   ]
  },
  {
   "cell_type": "markdown",
   "id": "008ca7c6",
   "metadata": {},
   "source": [
    "For your report, you may find considering the following questions useful, based on the data you have created above:\n",
    "\n",
    "1. Is the structure of the HBD - Cl$^{-}$ interaction dependent on the chemical identity of the hydrogen bonding moiety? (i.e. amide vs hydroxyl?)\n",
    "1. Is the structure of the HBD - Cl$^{-}$ interaction dependent on the \"density\" of hydrogen bond donor sites on the HBD? (e.g. urea=4, glycerol=3, acetamide=2)\n",
    "1. Your analysis for the ChCl:urea HBD-Cl$^{-}$ hydrogen bonding interactions above should show that the hydrogen bonding between urea and Cl$^{-}$ is different for the proximal and distal hydrogens. Why are they different? Is this trend also observed for acetamide?\n",
    "1. Do your results confirm or disprove the hypothesis proposed for explaining the formation of the eutectic in these mixtures? (In other words, are the trends observed in your data for the HBD - Cl$^{-}$ interaction consistent with the melting point depressions in these three DES?)"
   ]
  },
  {
   "cell_type": "markdown",
   "id": "bbf19074",
   "metadata": {},
   "source": [
    "### Information for Preparing Your Report "
   ]
  },
  {
   "cell_type": "markdown",
   "id": "d713172d",
   "metadata": {},
   "source": [
    "_You may find the following references useful for preparing your report:_\n",
    "\n",
    "1. A.P. Abbott, G. Capper, D.L. Davies, R.K. Rasheed, V. Tambyrajah. Novel solvent properties of choline chloride/urea mixtures. _Chem. Commun._ (2003), 70-71.\n",
    "1. O.S. Hammond, D.T. Bowron, K.J. Edler. Liquid structure of the choline chloride-urea deep eutectic solvent (relin) from neutron diffraction and atomistic modelling. _Green Chem_ **18** (2016), 2736-2744.\n",
    "1. R. Stefanovic, M. Ludwig, G.B. Webber, R. Atkin, A.J. Page. Nanostructure, hydrogen bonding and rheology in choline chloride deep eutectic solvents as a function of the hydrogen bond donor. _Phys. Chem. Chem. Phys._ **19** (2017), 3297-3306.\n",
    "1. E.L. Smith, A.P. Abbot, K.S. Ryder. Deep eutectic solvents and their applications. _Chem. Rev._ **114** (2014), 11060-11082."
   ]
  }
 ],
 "metadata": {
  "kernelspec": {
   "display_name": "openMM",
   "language": "python",
   "name": "python3"
  },
  "language_info": {
   "codemirror_mode": {
    "name": "ipython",
    "version": 3
   },
   "file_extension": ".py",
   "mimetype": "text/x-python",
   "name": "python",
   "nbconvert_exporter": "python",
   "pygments_lexer": "ipython3",
   "version": "3.11.0"
  }
 },
 "nbformat": 4,
 "nbformat_minor": 5
}
