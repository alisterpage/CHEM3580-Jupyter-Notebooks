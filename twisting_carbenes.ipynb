{
  "cells": [
    {
      "cell_type": "markdown",
      "metadata": {
        "id": "view-in-github",
        "colab_type": "text"
      },
      "source": [
        "<a href=\"https://colab.research.google.com/github/alisterpage/CHEM3580-Jupyter-Notebooks/blob/main/twisting_carbenes.ipynb\" target=\"_parent\"><img src=\"https://colab.research.google.com/assets/colab-badge.svg\" alt=\"Open In Colab\"/></a>"
      ]
    },
    {
      "cell_type": "code",
      "execution_count": 12,
      "metadata": {
        "id": "kp6SqarFumzm"
      },
      "outputs": [],
      "source": [
        "!pip install pyscf geometric py3Dmol fortecubeview pythreejs -q 2>&1 >/dev/null"
      ]
    },
    {
      "cell_type": "code",
      "execution_count": 48,
      "metadata": {
        "id": "P-tsQOfkuAt-"
      },
      "outputs": [],
      "source": [
        "import pyscf\n",
        "from pyscf import gto, scf, tools, lo, lib\n",
        "#from pyscf.geomopt.berny_solver import optimize\n",
        "from pyscf.geomopt.geometric_solver import optimize\n",
        "import py3Dmol\n",
        "import fortecubeview\n",
        "from google.colab import output\n",
        "output.enable_custom_widget_manager()\n",
        "import numpy as np\n",
        "from __future__ import print_function\n",
        "import sys\n",
        "log = lib.logger.Logger(sys.stdout, 6)\n",
        "log.verbose = 6"
      ]
    },
    {
      "cell_type": "code",
      "source": [
        "\n",
        "mol = gto.Mole()\n",
        "mol.atom = '''\n",
        "    H\n",
        "    H 1 1.8\n",
        "    H 2 1.8 1 60.0\n",
        "    C 1 1.1 2 35.2 3 45\n",
        "'''\n",
        "mol.basis = '6-31g(d)'\n",
        "mol.spin=1;\n",
        "mol.build();\n",
        "mf = scf.ROHF(mol)\n",
        "#mf.xc = 'b3lyp'\n",
        "\n",
        "# Optimize the geometry\n",
        "\n",
        "text = \"$freeze\\ndihedral 1 2 3 4\\n\"\n",
        "with open(\"constraints.txt\", \"w\") as f:\n",
        "    f.write(text)\n",
        "params = {\"constraints\": \"constraints.txt\",}\n",
        "mol_eq = optimize(mf, **params)\n",
        "#mol_eq = mf.Gradients().optimizer(solver='geomeTRIC').kernel(params)\n",
        "\n",
        "#print(mol_eq.atom_coords())\n",
        "\n",
        "# Get the optimized energy\n",
        "mf = scf.ROHF(mol_eq)\n",
        "#mf.xc = 'b3lyp'\n",
        "mf.scf()\n"
      ],
      "metadata": {
        "colab": {
          "base_uri": "https://localhost:8080/"
        },
        "id": "b1S5o567coDv",
        "outputId": "4fcf153c-0374-49d8-987a-735598afe9b4"
      },
      "execution_count": 54,
      "outputs": [
        {
          "output_type": "stream",
          "name": "stderr",
          "text": [
            "geometric-optimize called with the following command line:\n",
            "/usr/local/lib/python3.8/dist-packages/ipykernel_launcher.py -f /root/.local/share/jupyter/runtime/kernel-789fdfef-4925-4844-897d-4c7f1073845e.json\n",
            "\n",
            "                                        \u001b[91m())))))))))))))))/\u001b[0m                     \n",
            "                                    \u001b[91m())))))))))))))))))))))))),\u001b[0m                \n",
            "                                \u001b[91m*)))))))))))))))))))))))))))))))))\u001b[0m             \n",
            "                        \u001b[94m#,\u001b[0m    \u001b[91m()))))))))/\u001b[0m                \u001b[91m.)))))))))),\u001b[0m          \n",
            "                      \u001b[94m#%%%%,\u001b[0m  \u001b[91m())))))\u001b[0m                        \u001b[91m.))))))))*\u001b[0m        \n",
            "                      \u001b[94m*%%%%%%,\u001b[0m  \u001b[91m))\u001b[0m              \u001b[93m..\u001b[0m              \u001b[91m,))))))).\u001b[0m      \n",
            "                        \u001b[94m*%%%%%%,\u001b[0m         \u001b[93m***************/.\u001b[0m        \u001b[91m.)))))))\u001b[0m     \n",
            "                \u001b[94m#%%/\u001b[0m      \u001b[94m(%%%%%%,\u001b[0m    \u001b[93m/*********************.\u001b[0m       \u001b[91m)))))))\u001b[0m    \n",
            "              \u001b[94m.%%%%%%#\u001b[0m      \u001b[94m*%%%%%%,\u001b[0m  \u001b[93m*******/,\u001b[0m     \u001b[93m**********,\u001b[0m      \u001b[91m.))))))\u001b[0m   \n",
            "                \u001b[94m.%%%%%%/\u001b[0m      \u001b[94m*%%%%%%,\u001b[0m  \u001b[93m**\u001b[0m              \u001b[93m********\u001b[0m      \u001b[91m.))))))\u001b[0m  \n",
            "          \u001b[94m##\u001b[0m      \u001b[94m.%%%%%%/\u001b[0m      \u001b[94m(%%%%%%,\u001b[0m                  \u001b[93m,******\u001b[0m      \u001b[91m/)))))\u001b[0m  \n",
            "        \u001b[94m%%%%%%\u001b[0m      \u001b[94m.%%%%%%#\u001b[0m      \u001b[94m*%%%%%%,\u001b[0m    \u001b[92m,/////.\u001b[0m       \u001b[93m******\u001b[0m      \u001b[91m))))))\u001b[0m \n",
            "      \u001b[94m#%\u001b[0m      \u001b[94m%%\u001b[0m      \u001b[94m.%%%%%%/\u001b[0m      \u001b[94m*%%%%%%,\u001b[0m  \u001b[92m////////,\u001b[0m      \u001b[93m*****/\u001b[0m     \u001b[91m,)))))\u001b[0m \n",
            "    \u001b[94m#%%\u001b[0m  \u001b[94m%%%\u001b[0m  \u001b[94m%%%#\u001b[0m      \u001b[94m.%%%%%%/\u001b[0m      \u001b[94m(%%%%%%,\u001b[0m  \u001b[92m///////.\u001b[0m     \u001b[93m/*****\u001b[0m      \u001b[91m))))).\u001b[0m\n",
            "  \u001b[94m#%%%%.\u001b[0m      \u001b[94m%%%%%#\u001b[0m      \u001b[94m/%%%%%%*\u001b[0m      \u001b[94m#%%%%%%\u001b[0m   \u001b[92m/////)\u001b[0m     \u001b[93m******\u001b[0m      \u001b[91m))))),\u001b[0m\n",
            "    \u001b[94m#%%%%##%\u001b[0m  \u001b[94m%%%#\u001b[0m      \u001b[94m.%%%%%%/\u001b[0m      \u001b[94m(%%%%%%,\u001b[0m  \u001b[92m///////.\u001b[0m     \u001b[93m/*****\u001b[0m      \u001b[91m))))).\u001b[0m\n",
            "      \u001b[94m##\u001b[0m     \u001b[94m%%%\u001b[0m      \u001b[94m.%%%%%%/\u001b[0m      \u001b[94m*%%%%%%,\u001b[0m  \u001b[92m////////.\u001b[0m      \u001b[93m*****/\u001b[0m     \u001b[91m,)))))\u001b[0m \n",
            "        \u001b[94m#%%%%#\u001b[0m      \u001b[94m/%%%%%%/\u001b[0m      \u001b[94m(%%%%%%\u001b[0m      \u001b[92m/)/)//\u001b[0m       \u001b[93m******\u001b[0m      \u001b[91m))))))\u001b[0m \n",
            "          \u001b[94m##\u001b[0m      \u001b[94m.%%%%%%/\u001b[0m      \u001b[94m(%%%%%%,\u001b[0m                  \u001b[93m*******\u001b[0m      \u001b[91m))))))\u001b[0m  \n",
            "                \u001b[94m.%%%%%%/\u001b[0m      \u001b[94m*%%%%%%,\u001b[0m  \u001b[93m**.\u001b[0m             \u001b[93m/*******\u001b[0m      \u001b[91m.))))))\u001b[0m  \n",
            "              \u001b[94m*%%%%%%/\u001b[0m      \u001b[94m(%%%%%%\u001b[0m   \u001b[93m********/*..,*/*********\u001b[0m       \u001b[91m*))))))\u001b[0m   \n",
            "                \u001b[94m#%%/\u001b[0m      \u001b[94m(%%%%%%,\u001b[0m    \u001b[93m*********************/\u001b[0m        \u001b[91m)))))))\u001b[0m    \n",
            "                        \u001b[94m*%%%%%%,\u001b[0m         \u001b[93m,**************/\u001b[0m         \u001b[91m,))))))/\u001b[0m     \n",
            "                      \u001b[94m(%%%%%%\u001b[0m   \u001b[91m()\u001b[0m                              \u001b[91m))))))))\u001b[0m       \n",
            "                      \u001b[94m#%%%%,\u001b[0m  \u001b[91m())))))\u001b[0m                        \u001b[91m,)))))))),\u001b[0m        \n",
            "                        \u001b[94m#,\u001b[0m    \u001b[91m())))))))))\u001b[0m                \u001b[91m,)))))))))).\u001b[0m          \n",
            "                                 \u001b[91m()))))))))))))))))))))))))))))))/\u001b[0m             \n",
            "                                    \u001b[91m())))))))))))))))))))))))).\u001b[0m                \n",
            "                                         \u001b[91m())))))))))))))),\u001b[0m                     \n",
            "\n",
            "-=# \u001b[1;94m geomeTRIC started. Version: 1.0 \u001b[0m #=-\n",
            "Current date and time: 2023-02-03 05:53:20\n",
            "Custom engine selected.\n",
            "$freeze\n",
            "dihedral 1 2 3 4\n",
            "Bonds will be generated from interatomic distances less than 1.20 times sum of covalent radii\n",
            "12 internal coordinates being used (instead of 12 Cartesians)\n",
            "Internal coordinate system (atoms numbered from 1):\n",
            "Dihedral 1-2-3-4\n",
            "Distance 1-4\n",
            "Distance 2-4\n",
            "Distance 3-4\n",
            "Angle 1-4-2\n",
            "Angle 1-4-3\n",
            "Angle 2-4-3\n",
            "Translation-X 1-4\n",
            "Translation-Y 1-4\n",
            "Translation-Z 1-4\n",
            "Rotation-A 1-4\n",
            "Rotation-B 1-4\n",
            "Rotation-C 1-4\n",
            "<class 'geometric.internal.Dihedral'> : 1\n",
            "<class 'geometric.internal.Distance'> : 3\n",
            "<class 'geometric.internal.Angle'> : 3\n",
            "<class 'geometric.internal.TranslationX'> : 1\n",
            "<class 'geometric.internal.TranslationY'> : 1\n",
            "<class 'geometric.internal.TranslationZ'> : 1\n",
            "<class 'geometric.internal.RotationA'> : 1\n",
            "<class 'geometric.internal.RotationB'> : 1\n",
            "<class 'geometric.internal.RotationC'> : 1\n",
            "Constraint                         Current      Target       Diff.\n",
            "Dihedral 1-2-3-4                 -38.87112   -38.87112     0.00000\n",
            "> ===== Optimization Info: ====\n",
            "> Job type: Energy minimization\n",
            "> Maximum number of optimization cycles: 300\n",
            "> Initial / maximum trust radius (Angstrom): 0.100 / 0.300\n",
            "> Convergence Criteria:\n",
            "> Will converge when all 5 criteria are reached:\n",
            ">  |Delta-E| < 1.00e-06\n",
            ">  RMS-Ortho-Grad < 3.00e-04\n",
            ">  Max-Ortho-Grad < 4.50e-04\n",
            ">  RMS-Disp  < 1.20e-03\n",
            ">  Max-Disp  < 1.80e-03\n",
            "> \n",
            "> Constraints are requested. The following criterion is added:\n",
            ">  Max Constraint Violation (in Angstroms/degrees) < 1.00e-02 \n",
            "> === End Optimization Info ===\n"
          ]
        },
        {
          "output_type": "stream",
          "name": "stdout",
          "text": [
            "\n",
            "Geometry optimization cycle 1\n",
            "Cartesian coordinates (Angstrom)\n",
            " Atom        New coordinates             dX        dY        dZ\n",
            "   H   0.000000   0.000000   0.000000    0.000000  0.000000  0.000000\n",
            "   H   1.800000   0.000000   0.000000    0.000000  0.000000  0.000000\n",
            "   H   0.900000   0.000000   1.558846    0.000000  0.000000  0.000000\n",
            "   C   0.898859   0.448359   0.448359    0.000000  0.000000  0.000000\n",
            "converged SCF energy = -39.5304516198542\n",
            "--------------- SCF_Scanner gradients ---------------\n",
            "         x                y                z\n",
            "0 H    -0.0056924143    -0.0231220773     0.0045455010\n",
            "1 H     0.0067097289    -0.0235980136     0.0041680996\n",
            "2 H     0.0001600713    -0.0405606732     0.0450259864\n",
            "3 C    -0.0011773859     0.0872807641    -0.0537395870\n",
            "----------------------------------------------\n",
            "cycle 1: E = -39.5304516199  dE = -39.5305  norm(grad) = 0.124043\n"
          ]
        },
        {
          "output_type": "stream",
          "name": "stderr",
          "text": [
            "Step    0 : Gradient = 5.655e-02/8.949e-02 (rms/max) Energy = -39.5304516199\n",
            "Hessian Eigenvalues: 5.00000e-02 5.00000e-02 5.00000e-02 ... 2.48063e-01 3.32652e-01 3.35440e-01\n"
          ]
        },
        {
          "output_type": "stream",
          "name": "stdout",
          "text": [
            "\n",
            "Geometry optimization cycle 2\n",
            "Cartesian coordinates (Angstrom)\n",
            " Atom        New coordinates             dX        dY        dZ\n",
            "   H   0.034218   0.009701   0.008179    0.034218  0.009701  0.008179\n",
            "   H   1.776050   0.027242  -0.053212   -0.023950  0.027242 -0.053212\n",
            "   H   0.854318   0.043517   1.533044   -0.045682  0.043517 -0.025802\n",
            "   C   0.934274   0.367899   0.519194    0.035414 -0.080460  0.070835\n",
            "\n",
            "WARN: Large deviations found between the input molecule and the molecule from chkfile\n",
            "Initial guess density matrix may have large error.\n",
            "\n",
            "converged SCF energy = -39.5456180169191\n",
            "--------------- SCF_Scanner gradients ---------------\n",
            "         x                y                z\n",
            "0 H    -0.0017085084    -0.0177794363     0.0001097029\n",
            "1 H    -0.0127084548    -0.0094287349    -0.0055041768\n",
            "2 H    -0.0116822464    -0.0083299208    -0.0129502155\n",
            "3 C     0.0260992095     0.0355380921     0.0183446895\n",
            "----------------------------------------------\n",
            "cycle 2: E = -39.5456180169  dE = -0.0151664  norm(grad) = 0.0570435\n"
          ]
        },
        {
          "output_type": "stream",
          "name": "stderr",
          "text": [
            "Step    1 : Displace = \u001b[0m7.562e-02\u001b[0m/\u001b[0m1.129e-01\u001b[0m (rms/max) Trust = 1.000e-01 (=) Grad_T = \u001b[0m3.729e-03\u001b[0m/\u001b[0m5.772e-03\u001b[0m (rms/max) E (change) = -39.5456180169 (\u001b[0m-1.517e-02\u001b[0m) Quality = \u001b[0m1.091\u001b[0m\n",
            "Constraint                         Current      Target       Diff.\n",
            "Dihedral 1-2-3-4                 -38.06379   -38.87112     0.80733\n",
            "Hessian Eigenvalues: 5.00000e-02 5.00000e-02 5.00000e-02 ... 2.73429e-01 3.32525e-01 3.36488e-01\n"
          ]
        },
        {
          "output_type": "stream",
          "name": "stdout",
          "text": [
            "\n",
            "Geometry optimization cycle 3\n",
            "Cartesian coordinates (Angstrom)\n",
            " Atom        New coordinates             dX        dY        dZ\n",
            "   H   0.041553   0.009734   0.003094    0.007335  0.000033 -0.005085\n",
            "   H   1.770785   0.029864  -0.068359   -0.005265  0.002623 -0.015147\n",
            "   H   0.846995   0.046338   1.548909   -0.007323  0.002821  0.015864\n",
            "   C   0.939527   0.362423   0.523561    0.005253 -0.005476  0.004367\n",
            "\n",
            "WARN: Large deviations found between the input molecule and the molecule from chkfile\n",
            "Initial guess density matrix may have large error.\n",
            "\n",
            "converged SCF energy = -39.545433414125\n",
            "--------------- SCF_Scanner gradients ---------------\n",
            "         x                y                z\n",
            "0 H    -0.0011359473    -0.0176980664    -0.0017511728\n",
            "1 H    -0.0145231333    -0.0086021661    -0.0083780613\n",
            "2 H    -0.0137709257    -0.0090983675    -0.0049668016\n",
            "3 C     0.0294300063     0.0353986001     0.0150960358\n",
            "----------------------------------------------\n",
            "cycle 3: E = -39.5454334141  dE = 0.000184603  norm(grad) = 0.0575921\n"
          ]
        },
        {
          "output_type": "stream",
          "name": "stderr",
          "text": [
            "Step    2 : Displace = \u001b[0m1.354e-02\u001b[0m/\u001b[0m1.794e-02\u001b[0m (rms/max) Trust = 1.414e-01 (\u001b[92m+\u001b[0m) Grad_T = \u001b[0m1.820e-03\u001b[0m/\u001b[0m2.650e-03\u001b[0m (rms/max) E (change) = -39.5454334141 (\u001b[0m+1.846e-04\u001b[0m) Quality = \u001b[0m1.152\u001b[0m\n",
            "Constraint                         Current      Target       Diff.\n",
            "Dihedral 1-2-3-4                 -38.24665   -38.87112     0.62446\n",
            "Hessian Eigenvalues: 5.00000e-02 5.00000e-02 5.00000e-02 ... 3.32515e-01 3.35285e-01 3.63204e-01\n"
          ]
        },
        {
          "output_type": "stream",
          "name": "stdout",
          "text": [
            "\n",
            "Geometry optimization cycle 4\n",
            "Cartesian coordinates (Angstrom)\n",
            " Atom        New coordinates             dX        dY        dZ\n",
            "   H   0.042514   0.009074   0.004863    0.000961 -0.000660  0.001769\n",
            "   H   1.770358   0.029624  -0.068577   -0.000426 -0.000241 -0.000219\n",
            "   H   0.845598   0.046579   1.545843   -0.001397  0.000242 -0.003066\n",
            "   C   0.940389   0.363082   0.525076    0.000862  0.000659  0.001515\n",
            "converged SCF energy = -39.545189687343\n",
            "--------------- SCF_Scanner gradients ---------------\n",
            "         x                y                z\n",
            "0 H    -0.0011024138    -0.0179294916    -0.0015732560\n",
            "1 H    -0.0145673770    -0.0087132624    -0.0086436741\n",
            "2 H    -0.0139306400    -0.0083397617    -0.0080486273\n",
            "3 C     0.0296004307     0.0349825157     0.0182655574\n",
            "----------------------------------------------\n",
            "cycle 4: E = -39.5451896873  dE = 0.000243727  norm(grad) = 0.0587366\n"
          ]
        },
        {
          "output_type": "stream",
          "name": "stderr",
          "text": [
            "Step    3 : Displace = \u001b[0m2.212e-03\u001b[0m/\u001b[0m3.354e-03\u001b[0m (rms/max) Trust = 2.000e-01 (\u001b[92m+\u001b[0m) Grad_T = \u001b[0m3.509e-04\u001b[0m/\u001b[0m5.532e-04\u001b[0m (rms/max) E (change) = -39.5451896873 (\u001b[0m+2.437e-04\u001b[0m) Quality = \u001b[0m1.003\u001b[0m\n",
            "Constraint                         Current      Target       Diff.\n",
            "Dihedral 1-2-3-4                 -38.53125   -38.87112     0.33987\n",
            "Hessian Eigenvalues: 5.00000e-02 5.00000e-02 5.00000e-02 ... 3.28752e-01 3.35178e-01 4.18394e-01\n"
          ]
        },
        {
          "output_type": "stream",
          "name": "stdout",
          "text": [
            "\n",
            "Geometry optimization cycle 5\n",
            "Cartesian coordinates (Angstrom)\n",
            " Atom        New coordinates             dX        dY        dZ\n",
            "   H   0.042763   0.008593   0.005348    0.000249 -0.000481  0.000486\n",
            "   H   1.770124   0.029306  -0.068535   -0.000234 -0.000318  0.000043\n",
            "   H   0.845246   0.046173   1.545513   -0.000352 -0.000407 -0.000330\n",
            "   C   0.940727   0.364288   0.524877    0.000338  0.001205 -0.000199\n",
            "converged SCF energy = -39.5450510698462\n",
            "--------------- SCF_Scanner gradients ---------------\n",
            "         x                y                z\n",
            "0 H    -0.0011840838    -0.0181287892    -0.0015093281\n",
            "1 H    -0.0146982918    -0.0087794292    -0.0085662091\n",
            "2 H    -0.0140451076    -0.0085407294    -0.0078741446\n",
            "3 C     0.0299274832     0.0354489478     0.0179496817\n",
            "----------------------------------------------\n",
            "cycle 5: E = -39.5450510698  dE = 0.000138617  norm(grad) = 0.0592074\n"
          ]
        },
        {
          "output_type": "stream",
          "name": "stderr",
          "text": [
            "Step    4 : Displace = \u001b[92m8.180e-04\u001b[0m/\u001b[92m1.266e-03\u001b[0m (rms/max) Trust = 2.828e-01 (\u001b[92m+\u001b[0m) Grad_T = \u001b[92m7.416e-05\u001b[0m/\u001b[92m9.195e-05\u001b[0m (rms/max) E (change) = -39.5450510698 (\u001b[0m+1.386e-04\u001b[0m) Quality = \u001b[0m0.999\u001b[0m\n",
            "Constraint                         Current      Target       Diff.\n",
            "Dihedral 1-2-3-4                 -38.70387   -38.87112     0.16725\n",
            "Hessian Eigenvalues: 4.99999e-02 5.00000e-02 5.00000e-02 ... 3.23856e-01 3.37089e-01 4.01446e-01\n"
          ]
        },
        {
          "output_type": "stream",
          "name": "stdout",
          "text": [
            "\n",
            "Geometry optimization cycle 6\n",
            "Cartesian coordinates (Angstrom)\n",
            " Atom        New coordinates             dX        dY        dZ\n",
            "   H   0.042943   0.008380   0.005484    0.000181 -0.000213  0.000135\n",
            "   H   1.769975   0.029224  -0.068782   -0.000149 -0.000082 -0.000247\n",
            "   H   0.844949   0.046097   1.545516   -0.000297 -0.000076  0.000003\n",
            "   C   0.940993   0.364658   0.524987    0.000266  0.000370  0.000109\n",
            "converged SCF energy = -39.5449822829272\n",
            "--------------- SCF_Scanner gradients ---------------\n",
            "         x                y                z\n",
            "0 H    -0.0012653864    -0.0182299650    -0.0015472064\n",
            "1 H    -0.0147494168    -0.0088028688    -0.0086161417\n",
            "2 H    -0.0141243906    -0.0085791764    -0.0078496368\n",
            "3 C     0.0301391939     0.0356120102     0.0180129848\n",
            "----------------------------------------------\n",
            "cycle 6: E = -39.5449822829  dE = 6.87869e-05  norm(grad) = 0.0595094\n"
          ]
        },
        {
          "output_type": "stream",
          "name": "stderr",
          "text": [
            "Step    5 : Displace = \u001b[92m3.524e-04\u001b[0m/\u001b[92m4.739e-04\u001b[0m (rms/max) Trust = 3.000e-01 (\u001b[92m+\u001b[0m) Grad_T = \u001b[92m3.687e-06\u001b[0m/\u001b[92m4.277e-06\u001b[0m (rms/max) E (change) = -39.5449822829 (\u001b[0m+6.879e-05\u001b[0m) Quality = \u001b[0m1.000\u001b[0m\n",
            "Constraint                         Current      Target       Diff.\n",
            "Dihedral 1-2-3-4                 -38.78281   -38.87112     0.08830\n",
            "Hessian Eigenvalues: 4.99992e-02 5.00000e-02 5.00000e-02 ... 3.25199e-01 3.38688e-01 4.01784e-01\n"
          ]
        },
        {
          "output_type": "stream",
          "name": "stdout",
          "text": [
            "\n",
            "Geometry optimization cycle 7\n",
            "Cartesian coordinates (Angstrom)\n",
            " Atom        New coordinates             dX        dY        dZ\n",
            "   H   0.043108   0.008276   0.005568    0.000164 -0.000104  0.000084\n",
            "   H   1.769840   0.029167  -0.068882   -0.000135 -0.000057 -0.000100\n",
            "   H   0.844811   0.046054   1.545470   -0.000138 -0.000044 -0.000046\n",
            "   C   0.941101   0.364863   0.525048    0.000108  0.000205  0.000061\n",
            "converged SCF energy = -39.544945842636\n",
            "--------------- SCF_Scanner gradients ---------------\n",
            "         x                y                z\n",
            "0 H    -0.0012553565    -0.0182696597    -0.0015446085\n",
            "1 H    -0.0147967028    -0.0088141410    -0.0086297888\n",
            "2 H    -0.0141578270    -0.0085920356    -0.0078737814\n",
            "3 C     0.0302098863     0.0356758362     0.0180481787\n",
            "----------------------------------------------\n",
            "cycle 7: E = -39.5449458426  dE = 3.64403e-05  norm(grad) = 0.0596343\n"
          ]
        },
        {
          "output_type": "stream",
          "name": "stderr",
          "text": [
            "Step    6 : Displace = \u001b[92m1.976e-04\u001b[0m/\u001b[92m2.416e-04\u001b[0m (rms/max) Trust = 3.000e-01 (=) Grad_T = \u001b[92m4.902e-06\u001b[0m/\u001b[92m5.919e-06\u001b[0m (rms/max) E (change) = -39.5449458426 (\u001b[0m+3.644e-05\u001b[0m) Quality = \u001b[0m1.000\u001b[0m\n",
            "Constraint                         Current      Target       Diff.\n",
            "Dihedral 1-2-3-4                 -38.82505   -38.87112     0.04607\n",
            "Hessian Eigenvalues: 4.99905e-02 5.00000e-02 5.00000e-02 ... 3.25258e-01 3.41306e-01 4.01835e-01\n"
          ]
        },
        {
          "output_type": "stream",
          "name": "stdout",
          "text": [
            "\n",
            "Geometry optimization cycle 8\n",
            "Cartesian coordinates (Angstrom)\n",
            " Atom        New coordinates             dX        dY        dZ\n",
            "   H   0.043174   0.008224   0.005612    0.000067 -0.000052  0.000044\n",
            "   H   1.769788   0.029135  -0.068935   -0.000052 -0.000032 -0.000053\n",
            "   H   0.844738   0.046027   1.545446   -0.000073 -0.000027 -0.000024\n",
            "   C   0.941159   0.364974   0.525081    0.000058  0.000111  0.000033\n",
            "converged SCF energy = -39.5449268039839\n",
            "--------------- SCF_Scanner gradients ---------------\n",
            "         x                y                z\n",
            "0 H    -0.0012615603    -0.0182933948    -0.0015473627\n",
            "1 H    -0.0148099484    -0.0088232023    -0.0086424659\n",
            "2 H    -0.0141755865    -0.0085993130    -0.0078852065\n",
            "3 C     0.0302470952     0.0357159101     0.0180750351\n",
            "----------------------------------------------\n",
            "cycle 8: E = -39.544926804  dE = 1.90387e-05  norm(grad) = 0.059706\n"
          ]
        },
        {
          "output_type": "stream",
          "name": "stderr",
          "text": [
            "Step    7 : Displace = \u001b[92m9.871e-05\u001b[0m/\u001b[92m1.300e-04\u001b[0m (rms/max) Trust = 3.000e-01 (=) Grad_T = \u001b[92m1.679e-06\u001b[0m/\u001b[92m2.430e-06\u001b[0m (rms/max) E (change) = -39.5449268040 (\u001b[0m+1.904e-05\u001b[0m) Quality = \u001b[0m1.000\u001b[0m\n",
            "Constraint                         Current      Target       Diff.\n",
            "Dihedral 1-2-3-4                 -38.84711   -38.87112     0.02401\n",
            "Hessian Eigenvalues: 4.99732e-02 5.00000e-02 5.00000e-02 ... 3.25295e-01 3.42998e-01 4.01813e-01\n"
          ]
        },
        {
          "output_type": "stream",
          "name": "stdout",
          "text": [
            "\n",
            "Geometry optimization cycle 9\n",
            "Cartesian coordinates (Angstrom)\n",
            " Atom        New coordinates             dX        dY        dZ\n",
            "   H   0.043218   0.008198   0.005633    0.000044 -0.000026  0.000021\n",
            "   H   1.769750   0.029118  -0.068960   -0.000038 -0.000017 -0.000025\n",
            "   H   0.844703   0.046013   1.545433   -0.000035 -0.000014 -0.000013\n",
            "   C   0.941189   0.365030   0.525098    0.000029  0.000057  0.000017\n",
            "converged SCF energy = -39.5449168737879\n",
            "--------------- SCF_Scanner gradients ---------------\n",
            "         x                y                z\n",
            "0 H    -0.0012596915    -0.0183046449    -0.0015474511\n",
            "1 H    -0.0148236074    -0.0088262023    -0.0086453440\n",
            "2 H    -0.0141842107    -0.0086030618    -0.0078915096\n",
            "3 C     0.0302675096     0.0357339090     0.0180843047\n",
            "----------------------------------------------\n",
            "cycle 9: E = -39.5449168738  dE = 9.9302e-06  norm(grad) = 0.059741\n"
          ]
        },
        {
          "output_type": "stream",
          "name": "stderr",
          "text": [
            "Step    8 : Displace = \u001b[92m5.319e-05\u001b[0m/\u001b[92m6.633e-05\u001b[0m (rms/max) Trust = 3.000e-01 (=) Grad_T = \u001b[92m7.843e-07\u001b[0m/\u001b[92m1.153e-06\u001b[0m (rms/max) E (change) = -39.5449168738 (\u001b[0m+9.930e-06\u001b[0m) Quality = \u001b[0m1.000\u001b[0m\n",
            "Constraint                         Current      Target       Diff.\n",
            "Dihedral 1-2-3-4                 -38.85861   -38.87112     0.01251\n",
            "Hessian Eigenvalues: 4.99262e-02 5.00000e-02 5.00000e-02 ... 3.25372e-01 3.44870e-01 4.01703e-01\n"
          ]
        },
        {
          "output_type": "stream",
          "name": "stdout",
          "text": [
            "\n",
            "Geometry optimization cycle 10\n",
            "Cartesian coordinates (Angstrom)\n",
            " Atom        New coordinates             dX        dY        dZ\n",
            "   H   0.043238   0.008186   0.005646    0.000020 -0.000012  0.000013\n",
            "   H   1.769735   0.029109  -0.068974   -0.000015 -0.000009 -0.000015\n",
            "   H   0.844682   0.046004   1.545426   -0.000021 -0.000009 -0.000007\n",
            "   C   0.941205   0.365060   0.525107    0.000016  0.000029  0.000009\n",
            "converged SCF energy = -39.544911697738\n",
            "--------------- SCF_Scanner gradients ---------------\n",
            "         x                y                z\n",
            "0 H    -0.0012598846    -0.0183104966    -0.0015474164\n",
            "1 H    -0.0148277154    -0.0088284080    -0.0086486469\n",
            "2 H    -0.0141891069    -0.0086047737    -0.0078951957\n",
            "3 C     0.0302767069     0.0357436783     0.0180912590\n",
            "----------------------------------------------\n",
            "cycle 10: E = -39.5449116977  dE = 5.17605e-06  norm(grad) = 0.0597591\n"
          ]
        },
        {
          "output_type": "stream",
          "name": "stderr",
          "text": [
            "Step    9 : Displace = \u001b[92m2.742e-05\u001b[0m/\u001b[92m3.479e-05\u001b[0m (rms/max) Trust = 3.000e-01 (=) Grad_T = \u001b[92m3.469e-07\u001b[0m/\u001b[92m4.608e-07\u001b[0m (rms/max) E (change) = -39.5449116977 (\u001b[0m+5.176e-06\u001b[0m) Quality = \u001b[0m1.000\u001b[0m\n",
            "Constraint                         Current      Target       Diff.\n",
            "Dihedral 1-2-3-4                 -38.86460   -38.87112     0.00652\n",
            "Hessian Eigenvalues: 4.98656e-02 5.00000e-02 5.00000e-02 ... 3.25358e-01 3.45157e-01 4.02063e-01\n"
          ]
        },
        {
          "output_type": "stream",
          "name": "stdout",
          "text": [
            "\n",
            "Geometry optimization cycle 11\n",
            "Cartesian coordinates (Angstrom)\n",
            " Atom        New coordinates             dX        dY        dZ\n",
            "   H   0.043249   0.008180   0.005651    0.000011 -0.000006  0.000005\n",
            "   H   1.769725   0.029104  -0.068981   -0.000010 -0.000005 -0.000007\n",
            "   H   0.844672   0.046000   1.545423   -0.000009 -0.000005 -0.000003\n",
            "   C   0.941213   0.365076   0.525112    0.000008  0.000016  0.000005\n",
            "converged SCF energy = -39.5449089998089\n",
            "--------------- SCF_Scanner gradients ---------------\n",
            "         x                y                z\n",
            "0 H    -0.0012598698    -0.0183135943    -0.0015476358\n",
            "1 H    -0.0148310867    -0.0088292378    -0.0086494916\n",
            "2 H    -0.0141914041    -0.0086058182    -0.0078966523\n",
            "3 C     0.0302823606     0.0357486502     0.0180937797\n",
            "----------------------------------------------\n",
            "cycle 11: E = -39.5449089998  dE = 2.69793e-06  norm(grad) = 0.0597686\n"
          ]
        },
        {
          "output_type": "stream",
          "name": "stderr",
          "text": [
            "Step   10 : Displace = \u001b[92m1.417e-05\u001b[0m/\u001b[92m1.829e-05\u001b[0m (rms/max) Trust = 3.000e-01 (=) Grad_T = \u001b[92m1.838e-07\u001b[0m/\u001b[92m2.708e-07\u001b[0m (rms/max) E (change) = -39.5449089998 (\u001b[0m+2.698e-06\u001b[0m) Quality = \u001b[0m1.000\u001b[0m\n",
            "Constraint                         Current      Target       Diff.\n",
            "Dihedral 1-2-3-4                 -38.86772   -38.87112     0.00339\n",
            "Hessian Eigenvalues: 4.98156e-02 5.00000e-02 5.00000e-02 ... 3.25627e-01 3.46188e-01 4.02060e-01\n"
          ]
        },
        {
          "output_type": "stream",
          "name": "stdout",
          "text": [
            "\n",
            "Geometry optimization cycle 12\n",
            "Cartesian coordinates (Angstrom)\n",
            " Atom        New coordinates             dX        dY        dZ\n",
            "   H   0.043254   0.008177   0.005654    0.000005 -0.000003  0.000003\n",
            "   H   1.769721   0.029101  -0.068985   -0.000004 -0.000003 -0.000004\n",
            "   H   0.844667   0.045997   1.545421   -0.000005 -0.000002 -0.000002\n",
            "   C   0.941217   0.365084   0.525115    0.000004  0.000008  0.000002\n",
            "converged SCF energy = -39.5449075955751\n",
            "--------------- SCF_Scanner gradients ---------------\n",
            "         x                y                z\n",
            "0 H    -0.0012598615    -0.0183151897    -0.0015476408\n",
            "1 H    -0.0148322139    -0.0088298584    -0.0086503499\n",
            "2 H    -0.0141926756    -0.0086063295    -0.0078975315\n",
            "3 C     0.0302847510     0.0357513776     0.0180955222\n",
            "----------------------------------------------\n",
            "cycle 12: E = -39.5449075956  dE = 1.40423e-06  norm(grad) = 0.0597734\n"
          ]
        },
        {
          "output_type": "stream",
          "name": "stderr",
          "text": [
            "Step   11 : Displace = \u001b[92m7.418e-06\u001b[0m/\u001b[92m9.522e-06\u001b[0m (rms/max) Trust = 3.000e-01 (=) Grad_T = \u001b[92m8.985e-08\u001b[0m/\u001b[92m1.341e-07\u001b[0m (rms/max) E (change) = -39.5449075956 (\u001b[0m+1.404e-06\u001b[0m) Quality = \u001b[0m1.000\u001b[0m\n",
            "Constraint                         Current      Target       Diff.\n",
            "Dihedral 1-2-3-4                 -38.86935   -38.87112     0.00176\n",
            "Hessian Eigenvalues: 4.97644e-02 5.00000e-02 5.00000e-02 ... 3.25669e-01 3.46439e-01 4.02090e-01\n"
          ]
        },
        {
          "output_type": "stream",
          "name": "stdout",
          "text": [
            "\n",
            "Geometry optimization cycle 13\n",
            "Cartesian coordinates (Angstrom)\n",
            " Atom        New coordinates             dX        dY        dZ\n",
            "   H   0.043257   0.008175   0.005656    0.000003 -0.000002  0.000002\n",
            "   H   1.769719   0.029100  -0.068987   -0.000003 -0.000001 -0.000002\n",
            "   H   0.844664   0.045996   1.545420   -0.000003 -0.000001 -0.000001\n",
            "   C   0.941219   0.365088   0.525116    0.000002  0.000004  0.000001\n",
            "converged SCF energy = -39.5449068654639\n",
            "--------------- SCF_Scanner gradients ---------------\n",
            "         x                y                z\n",
            "0 H    -0.0012598450    -0.0183160179    -0.0015476869\n",
            "1 H    -0.0148331470    -0.0088300637    -0.0086505808\n",
            "2 H    -0.0141933112    -0.0086065811    -0.0078979945\n",
            "3 C     0.0302863032     0.0357526627     0.0180962623\n",
            "----------------------------------------------\n",
            "cycle 13: E = -39.5449068655  dE = 7.30111e-07  norm(grad) = 0.059776\n"
          ]
        },
        {
          "output_type": "stream",
          "name": "stderr",
          "text": [
            "Step   12 : Displace = \u001b[92m3.846e-06\u001b[0m/\u001b[92m4.909e-06\u001b[0m (rms/max) Trust = 3.000e-01 (=) Grad_T = \u001b[92m4.813e-08\u001b[0m/\u001b[92m7.291e-08\u001b[0m (rms/max) E (change) = -39.5449068655 (\u001b[92m+7.301e-07\u001b[0m) Quality = \u001b[0m1.000\u001b[0m\n",
            "Hessian Eigenvalues: 4.97644e-02 5.00000e-02 5.00000e-02 ... 3.25669e-01 3.46439e-01 4.02090e-01\n",
            "Converged! =D\n",
            "\n",
            "    #==========================================================================#\n",
            "    #| If this code has benefited your research, please support us by citing: |#\n",
            "    #|                                                                        |#\n",
            "    #| Wang, L.-P.; Song, C.C. (2016) \"Geometry optimization made simple with |#\n",
            "    #| translation and rotation coordinates\", J. Chem, Phys. 144, 214108.     |#\n",
            "    #| http://dx.doi.org/10.1063/1.4952956                                    |#\n",
            "    #==========================================================================#\n",
            "    Time elapsed since start of run_optimizer: 2.872 seconds\n"
          ]
        },
        {
          "output_type": "stream",
          "name": "stdout",
          "text": [
            "converged SCF energy = -39.5449068654599\n"
          ]
        },
        {
          "output_type": "execute_result",
          "data": {
            "text/plain": [
              "-39.54490686545987"
            ]
          },
          "metadata": {},
          "execution_count": 54
        }
      ]
    },
    {
      "cell_type": "code",
      "source": [
        "print('Final Energy:', mf.e_tot,\"Hartree\\n\")\n"
      ],
      "metadata": {
        "colab": {
          "base_uri": "https://localhost:8080/"
        },
        "id": "nTnry5TZdc-i",
        "outputId": "ec7e07e6-222e-469f-bd16-ae7335c1ee89"
      },
      "execution_count": 52,
      "outputs": [
        {
          "output_type": "stream",
          "name": "stdout",
          "text": [
            "Final Energy: -39.54758585104028 Hartree\n",
            "\n"
          ]
        }
      ]
    },
    {
      "cell_type": "code",
      "execution_count": 28,
      "metadata": {
        "id": "HA2zdpXG0hJQ",
        "colab": {
          "base_uri": "https://localhost:8080/"
        },
        "outputId": "297d2a58-f10b-4f98-cd6b-f70018115efe"
      },
      "outputs": [
        {
          "output_type": "stream",
          "name": "stdout",
          "text": [
            " Iterative localization: IB/P4/2x2, 6 iter; Final gradient 6.91e-10\n",
            " Iterative localization: IB/P4/2x2, 5 iter; Final gradient 5.97e-10\n"
          ]
        }
      ],
      "source": [
        "%%capture \n",
        "def get_mo(mf, mol):\n",
        "    \"\"\"Get molecular orbitals\"\"\"\n",
        "    orbitals = {\"canonical\": mf.mo_coeff}\n",
        "\n",
        "    # Get intrinsic bonding orbitals and localized intrinsic valence virtual orbitals (livvo):\n",
        "    orbocc = mf.mo_coeff[:, 0 : mol.nelec[0]]\n",
        "    orbvirt = mf.mo_coeff[:, mol.nelec[0] :]\n",
        "\n",
        "    ovlpS = mol.intor_symmetric(\"int1e_ovlp\")\n",
        "\n",
        "    iaos = lo.iao.iao(mol, orbocc)\n",
        "    iaos = lo.orth.vec_lowdin(iaos, ovlpS)\n",
        "    ibos = lo.ibo.ibo(mol, orbocc, locmethod=\"IBO\")\n",
        "    orbitals[\"ibo\"] = ibos\n",
        "\n",
        "    livvo = lo.vvo.livvo(mol, orbocc, orbvirt)\n",
        "    orbitals[\"livvo\"] = livvo\n",
        "    return orbitals\n",
        "\n",
        "orbitals = get_mo(mf, mol_eq);"
      ]
    },
    {
      "cell_type": "code",
      "execution_count": 29,
      "metadata": {
        "id": "xxFUUXJFS7X7"
      },
      "outputs": [],
      "source": [
        "def find_homo_lumo(mf):\n",
        "    lumo = float(\"inf\")\n",
        "    lumo_idx = None\n",
        "    homo = -float(\"inf\")\n",
        "    homo_idx = None\n",
        "    for i, (energy, occ) in enumerate(zip(mf.mo_energy, mf.mo_occ)):\n",
        "        if occ > 0 and energy > homo:\n",
        "            homo = energy\n",
        "            homo_idx = i\n",
        "        if occ == 0 and energy < lumo:\n",
        "            lumo = energy\n",
        "            lumo_idx = i\n",
        "\n",
        "    return homo, homo_idx, lumo, lumo_idx\n",
        "\n",
        "_, homo_idx, _, lumo_idx = find_homo_lumo(mf)"
      ]
    },
    {
      "cell_type": "code",
      "execution_count": 30,
      "metadata": {
        "id": "ZQDoNq1aVtvi"
      },
      "outputs": [],
      "source": [
        "tools.cubegen.orbital(\n",
        "    mol, \"opt.cube\", orbitals[\"canonical\"][:, homo_idx], margin=5,nx=10,ny=10,nz=10\n",
        ");"
      ]
    },
    {
      "cell_type": "code",
      "execution_count": 31,
      "metadata": {
        "colab": {
          "base_uri": "https://localhost:8080/",
          "height": 497
        },
        "id": "XHY5N_JjSMM1",
        "outputId": "96857528-71dd-412e-8bdb-72f4f90b4d9f"
      },
      "outputs": [
        {
          "output_type": "display_data",
          "data": {
            "application/3dmoljs_load.v0": "<div id=\"3dmolviewer_16754022696675334\"  style=\"position: relative; width: 640px; height: 480px\">\n        <p id=\"3dmolwarning_16754022696675334\" style=\"background-color:#ffcccc;color:black\">You appear to be running in JupyterLab (or JavaScript failed to load for some other reason).  You need to install the 3dmol extension: <br>\n        <tt>jupyter labextension install jupyterlab_3dmol</tt></p>\n        </div>\n<script>\n\nvar loadScriptAsync = function(uri){\n  return new Promise((resolve, reject) => {\n    //this is to ignore the existence of requirejs amd\n    var savedexports, savedmodule;\n    if (typeof exports !== 'undefined') savedexports = exports;\n    else exports = {}\n    if (typeof module !== 'undefined') savedmodule = module;\n    else module = {}\n\n    var tag = document.createElement('script');\n    tag.src = uri;\n    tag.async = true;\n    tag.onload = () => {\n        exports = savedexports;\n        module = savedmodule;\n        resolve();\n    };\n  var firstScriptTag = document.getElementsByTagName('script')[0];\n  firstScriptTag.parentNode.insertBefore(tag, firstScriptTag);\n});\n};\n\nif(typeof $3Dmolpromise === 'undefined') {\n$3Dmolpromise = null;\n  $3Dmolpromise = loadScriptAsync('https://cdn.jsdelivr.net/npm/3dmol@latest/build/3Dmol-min.min.js');\n}\n\nvar viewer_16754022696675334 = null;\nvar warn = document.getElementById(\"3dmolwarning_16754022696675334\");\nif(warn) {\n    warn.parentNode.removeChild(warn);\n}\n$3Dmolpromise.then(function() {\nviewer_16754022696675334 = $3Dmol.createViewer(document.getElementById(\"3dmolviewer_16754022696675334\"),{backgroundColor:\"white\"});\nviewer_16754022696675334.zoomTo();\n\tviewer_16754022696675334.addVolumetricData(\"Orbital value in real space (1/Bohr^3)\\nPySCF Version: 2.1.1  Date: Fri Feb  3 05:31:06 2023\\n    4   -5.000000   -5.000000   -5.000000\\n   10    1.489056    0.000000    0.000000\\n   10    0.000000    1.145569    0.000000\\n   10    0.000000    0.000000    1.438421\\n    1    0.000000    0.000000    0.000000    0.000000\\n    1    0.000000    3.401507    0.000000    0.000000\\n    1    0.000000    1.700754    0.000000    2.945791\\n    6    0.000000    1.698598    0.310125    1.157400\\n -4.22312E-08 -3.27295E-07 -1.35523E-06 -3.04148E-06 -3.73923E-06 -2.53221E-06\\n -9.52153E-07 -2.04590E-07 -2.67674E-08 -2.27448E-09\\n -2.15837E-07 -1.66645E-06 -6.85980E-06 -1.52712E-05 -1.85975E-05 -1.24799E-05\\n -4.66367E-06 -1.00212E-06 -1.32271E-07 -1.14034E-08\\n -7.17847E-07 -5.49252E-06 -2.22904E-05 -4.86488E-05 -5.78534E-05 -3.79273E-05\\n -1.39497E-05 -2.99990E-06 -4.05488E-07 -3.62678E-08\\n -1.55173E-06 -1.16880E-05 -4.62436E-05 -9.72506E-05 -1.10310E-04 -6.88106E-05\\n -2.44194E-05 -5.26386E-06 -7.50626E-07 -7.23574E-08\\n -2.17779E-06 -1.60150E-05 -6.08234E-05 -1.19876E-04 -1.23872E-04 -6.89553E-05\\n -2.22613E-05 -4.83353E-06 -7.90428E-07 -8.89552E-08\\n -1.98291E-06 -1.40903E-05 -5.02267E-05 -8.81621E-05 -7.37147E-05 -2.79325E-05\\n -5.12140E-06 -1.18172E-06 -3.88397E-07 -6.51504E-08\\n -1.17093E-06 -7.93758E-06 -2.56457E-05 -3.57221E-05 -1.31211E-05  1.06195E-05\\n  8.75570E-06  1.80464E-06  2.80457E-08 -2.61719E-08\\n -4.48541E-07 -2.85469E-06 -7.87551E-06 -5.75422E-06  9.72838E-06  1.72207E-05\\n  9.06674E-06  1.90450E-06  1.35483E-07 -4.06836E-09\\n -1.11573E-07 -6.53542E-07 -1.36642E-06  9.79826E-07  6.90542E-06  8.28129E-06\\n  3.99128E-06  8.42308E-07  7.15857E-08  7.96402E-10\\n -1.80572E-08 -9.49920E-08 -1.08210E-07  6.18039E-07  1.97219E-06  2.10179E-06\\n  9.76579E-07  2.06502E-07  1.87975E-08  4.72999E-10\\n -3.62504E-07 -3.03070E-06 -1.39488E-05 -3.55400E-05 -4.97658E-05 -3.78213E-05\\n -1.55567E-05 -3.54876E-06 -4.77664E-07 -4.06710E-08\\n -1.84157E-06 -1.52828E-05 -6.96610E-05 -1.75615E-04 -2.43552E-04 -1.83808E-04\\n -7.53929E-05 -1.72585E-05 -2.34970E-06 -2.03353E-07\\n -6.03557E-06 -4.91845E-05 -2.18808E-04 -5.36781E-04 -7.25785E-04 -5.37684E-04\\n -2.19020E-04 -5.06686E-05 -7.11874E-06 -6.42428E-07\\n -1.27145E-05 -1.00217E-04 -4.25331E-04 -9.86009E-04 -1.25859E-03 -8.91173E-04\\n -3.56855E-04 -8.48464E-05 -1.28422E-05 -1.26517E-06\\n -1.71440E-05 -1.27804E-04 -4.96778E-04 -1.01828E-03 -1.11574E-03 -6.82322E-04\\n -2.56631E-04 -6.74375E-05 -1.27031E-05 -1.51797E-06\\n -1.47232E-05 -1.00116E-04 -3.25483E-04 -4.62429E-04 -1.91491E-04  9.63540E-05\\n  7.43594E-05  3.69219E-06 -4.86490E-06 -1.05797E-06\\n -8.00292E-06 -4.64550E-05 -9.33415E-05  8.95448E-05  5.29247E-04  6.15235E-04\\n  2.83462E-04  5.27834E-05  2.33412E-06 -3.73065E-07\\n -2.72977E-06 -1.16446E-05  1.22153E-05  2.09933E-04  5.14057E-04  5.06500E-04\\n  2.24760E-04  4.47529E-05  3.41759E-06 -2.10043E-08\\n -5.76806E-07 -1.02527E-06  1.76270E-05  1.05594E-04  2.22489E-04  2.08308E-04\\n  9.12125E-05  1.85856E-05  1.61654E-06  3.17834E-08\\n -7.38607E-08  1.90815E-07  5.63344E-06  2.72608E-05  5.40363E-05  4.93948E-05\\n  2.14861E-05  4.42723E-06  4.07530E-07  1.21864E-08\\n -1.71322E-06 -1.61504E-05 -8.50418E-05 -2.45807E-04 -3.80877E-04 -3.11095E-04\\n -1.33991E-04 -3.13090E-05 -4.23313E-06 -3.57022E-07\\n -8.61159E-06 -8.03063E-05 -4.18206E-04 -1.19749E-03 -1.84292E-03 -1.49948E-03\\n -6.45734E-04 -1.51684E-04 -2.07657E-05 -1.78157E-06\\n -2.74819E-05 -2.49279E-04 -1.26130E-03 -3.52616E-03 -5.32664E-03 -4.28655E-03\\n -1.84636E-03 -4.40646E-04 -6.24533E-05 -5.60087E-06\\n -5.50916E-05 -4.72758E-04 -2.25386E-03 -6.03765E-03 -8.66610E-03 -6.70463E-03\\n -2.88494E-03 -7.18432E-04 -1.10818E-04 -1.09245E-05\\n -6.82257E-05 -5.24402E-04 -2.17878E-03 -5.26471E-03 -6.25464E-03 -4.01584E-03\\n -1.73001E-03 -5.18481E-04 -1.04988E-04 -1.28651E-05\\n -5.06077E-05 -3.01270E-04 -6.97183E-04 -1.64299E-04  2.42382E-03  3.27308E-03\\n  1.35667E-03  1.45483E-04 -3.19292E-05 -8.60969E-06\\n -2.09083E-05 -4.05244E-05  6.01669E-04  3.64469E-03  7.81374E-03  7.28610E-03\\n  3.07860E-03  5.66003E-04  3.06126E-05 -2.67388E-06\\n -3.64809E-06  5.11724E-05  7.16890E-04  3.13412E-03  5.99409E-03  5.36678E-03\\n  2.28260E-03  4.49561E-04  3.57008E-05  1.43228E-07\\n  4.19773E-07  3.30183E-05  3.25773E-04  1.30188E-03  2.40044E-03  2.11958E-03\\n  9.03191E-04  1.82538E-04  1.61620E-05  3.90077E-07\\n  3.21030E-07  9.21197E-06  8.08244E-05  3.10198E-04  5.61987E-04  4.92681E-04\\n  2.10067E-04  4.30072E-05  4.00192E-06  1.30584E-07\\n -4.74483E-06 -5.09250E-05 -3.00352E-04 -9.44640E-04 -1.54838E-03 -1.30929E-03\\n -5.74969E-04 -1.35383E-04 -1.82550E-05 -1.52448E-06\\n -2.35386E-05 -2.49807E-04 -1.45998E-03 -4.56340E-03 -7.45318E-03 -6.28954E-03\\n -2.76403E-03 -6.54672E-04 -8.94071E-05 -7.59749E-06\\n -7.25759E-05 -7.47469E-04 -4.26691E-03 -1.32076E-02 -2.15382E-02 -1.79805E-02\\n -7.86088E-03 -1.89218E-03 -2.67756E-04 -2.38087E-05\\n -1.35629E-04 -1.30666E-03 -7.13534E-03 -2.28366E-02 -3.81100E-02 -2.96916E-02\\n -1.22571E-02 -3.04969E-03 -4.70519E-04 -4.61440E-05\\n -1.45551E-04 -1.18362E-03 -5.71321E-03 -2.11840E-02 -3.14698E-02 -1.87730E-02\\n -7.11493E-03 -2.10726E-03 -4.34100E-04 -5.36579E-05\\n -7.58080E-05 -2.52362E-04  7.65109E-04  5.12200E-03  2.37927E-02  2.33840E-02\\n  7.28349E-03  8.50936E-04 -1.10105E-04 -3.48842E-05\\n -5.43943E-07  4.94821E-04  5.19944E-03  2.19498E-02  4.68410E-02  3.96093E-02\\n  1.47162E-02  2.66010E-03  1.56584E-04 -9.75047E-06\\n  2.12773E-05  5.01915E-04  4.22305E-03  1.60865E-02  2.95639E-02  2.54952E-02\\n  1.05092E-02  2.06072E-03  1.67364E-04  1.52027E-06\\n  1.18313E-05  2.19859E-04  1.72465E-03  6.33225E-03  1.12453E-02  9.73630E-03\\n  4.10745E-03  8.28881E-04  7.42446E-05  1.97370E-06\\n  3.16171E-06  5.36964E-05  4.07670E-04  1.47427E-03  2.59671E-03  2.24443E-03\\n  9.50550E-04  1.94381E-04  1.82247E-05  6.23072E-07\\n -7.92032E-06 -9.22243E-05 -5.76872E-04 -1.88417E-03 -3.15933E-03 -2.70638E-03\\n -1.19644E-03 -2.82244E-04 -3.79610E-05 -3.15235E-06\\n -3.89293E-05 -4.48908E-04 -2.78864E-03 -9.07668E-03 -1.52215E-02 -1.30125E-02\\n -5.74837E-03 -1.36385E-03 -1.85787E-04 -1.57005E-05\\n -1.17030E-04 -1.31420E-03 -8.02371E-03 -2.64350E-02 -4.66424E-02 -3.89361E-02\\n -1.64744E-02 -3.93819E-03 -5.55340E-04 -4.91248E-05\\n -2.06658E-04 -2.17721E-03 -1.28544E-02 -4.87482E-02 -1.14072E-01 -8.60119E-02\\n -2.80515E-02 -6.40857E-03 -9.71972E-04 -9.49116E-05\\n -1.92410E-04 -1.65835E-03 -8.45272E-03 -4.00439E-02 -1.60495E-01 -9.14478E-02\\n -2.25725E-02 -4.67680E-03 -8.87157E-04 -1.09673E-04\\n -5.15893E-05  2.60895E-04  5.36980E-03  3.77235E-02  1.84267E-01  1.05910E-01\\n  1.50089E-02  1.67847E-03 -2.04542E-04 -7.02444E-05\\n  6.59049E-05  1.53399E-03  1.31061E-02  6.31338E-02  1.78041E-01  1.29892E-01\\n  3.38015E-02  5.69892E-03  3.48566E-04 -1.84848E-05\\n  7.20684E-05  1.25741E-03  9.68246E-03  3.68397E-02  7.22249E-02  5.96716E-02\\n  2.27157E-02  4.39633E-03  3.60677E-04  4.05826E-06\\n  3.21762E-05  5.16573E-04  3.83737E-03  1.37773E-02  2.43069E-02  2.08678E-02\\n  8.73682E-03  1.76178E-03  1.58682E-04  4.39140E-06\\n  7.92479E-06  1.22461E-04  8.94624E-04  3.17767E-03  5.54739E-03  4.77248E-03\\n  2.01676E-03  4.12410E-04  3.88105E-05  1.35433E-06\\n -7.91440E-06 -9.21453E-05 -5.76336E-04 -1.88234E-03 -3.15621E-03 -2.70372E-03\\n -1.19531E-03 -2.82006E-04 -3.79359E-05 -3.15104E-06\\n -3.89010E-05 -4.48532E-04 -2.78610E-03 -9.06799E-03 -1.52066E-02 -1.29999E-02\\n -5.74306E-03 -1.36273E-03 -1.85669E-04 -1.56943E-05\\n -1.16950E-04 -1.31316E-03 -8.01668E-03 -2.64089E-02 -4.65887E-02 -3.88938E-02\\n -1.64595E-02 -3.93517E-03 -5.55023E-04 -4.91083E-05\\n -2.06541E-04 -2.17572E-03 -1.28439E-02 -4.86838E-02 -1.13840E-01 -8.58595E-02\\n -2.80256E-02 -6.40452E-03 -9.71557E-04 -9.48901E-05\\n -1.92358E-04 -1.65785E-03 -8.44846E-03 -3.99741E-02 -1.59673E-01 -9.11653E-02\\n -2.25585E-02 -4.67636E-03 -8.87130E-04 -1.09672E-04\\n -5.16836E-05  2.59356E-04  5.35770E-03  3.76292E-02  1.83329E-01  1.05521E-01\\n  1.49660E-02  1.67213E-03 -2.05214E-04 -7.02803E-05\\n  6.57393E-05  1.53153E-03  1.30876E-02  6.30188E-02  1.77580E-01  1.29592E-01\\n  3.37481E-02  5.69005E-03  3.47630E-04 -1.85344E-05\\n  7.19517E-05  1.25572E-03  9.67033E-03  3.67913E-02  7.21149E-02  5.95858E-02\\n  2.26870E-02  4.39050E-03  3.60058E-04  4.02554E-06\\n  3.21310E-05  5.15924E-04  3.83278E-03  1.37612E-02  2.42782E-02  2.08432E-02\\n  8.72649E-03  1.75958E-03  1.58449E-04  4.37911E-06\\n  7.91440E-06  1.22312E-04  8.93580E-04  3.17402E-03  5.54106E-03  4.76703E-03\\n  2.01443E-03  4.11912E-04  3.87578E-05  1.35155E-06\\n -4.73621E-06 -5.08113E-05 -2.99585E-04 -9.42034E-04 -1.54394E-03 -1.30552E-03\\n -5.73367E-04 -1.35045E-04 -1.82194E-05 -1.52261E-06\\n -2.34974E-05 -2.49266E-04 -1.45635E-03 -4.55106E-03 -7.43215E-03 -6.27169E-03\\n -2.75648E-03 -6.53081E-04 -8.92400E-05 -7.58876E-06\\n -7.24597E-05 -7.45966E-04 -4.25688E-03 -1.31731E-02 -2.14773E-02 -1.79299E-02\\n -7.84033E-03 -1.88788E-03 -2.67306E-04 -2.37853E-05\\n -1.35454E-04 -1.30449E-03 -7.12085E-03 -2.27784E-02 -3.79824E-02 -2.95979E-02\\n -1.22280E-02 -3.04400E-03 -4.69929E-04 -4.61134E-05\\n -1.45466E-04 -1.18282E-03 -5.70781E-03 -2.11424E-02 -3.13587E-02 -1.87131E-02\\n -7.10860E-03 -2.10671E-03 -4.34061E-04 -5.36567E-05\\n -7.59309E-05 -2.54464E-04  7.49561E-04  5.05973E-03  2.36045E-02  2.32329E-02\\n  7.23883E-03  8.42051E-04 -1.11059E-04 -3.49352E-05\\n -7.72351E-07  4.91381E-04  5.17439E-03  2.18489E-02  4.66038E-02  3.94233E-02\\n  1.46548E-02  2.64761E-03  1.55255E-04 -9.82088E-06\\n  2.11143E-05  4.99533E-04  4.20604E-03  1.60251E-02  2.94501E-02  2.53992E-02\\n  1.04701E-02  2.05244E-03  1.66485E-04  1.47382E-06\\n  1.17679E-05  2.18944E-04  1.71816E-03  6.30950E-03  1.12056E-02  9.70211E-03\\n  4.09284E-03  8.25765E-04  7.39139E-05  1.95625E-06\\n  3.14707E-06  5.34869E-05  4.06191E-04  1.46911E-03  2.58775E-03  2.23670E-03\\n  9.47239E-04  1.93676E-04  1.81499E-05  6.19127E-07\\n -1.70980E-06 -1.61065E-05 -8.47502E-05 -2.44824E-04 -3.79210E-04 -3.09680E-04\\n -1.33391E-04 -3.11825E-05 -4.21984E-06 -3.56327E-07\\n -8.59514E-06 -8.00966E-05 -4.16820E-04 -1.19283E-03 -1.83503E-03 -1.49281E-03\\n -6.42911E-04 -1.51090E-04 -2.07032E-05 -1.77831E-06\\n -2.74350E-05 -2.48692E-04 -1.25747E-03 -3.51336E-03 -5.30507E-03 -4.26838E-03\\n -1.83871E-03 -4.39041E-04 -6.22853E-05 -5.59212E-06\\n -5.50187E-05 -4.71891E-04 -2.24837E-03 -6.01944E-03 -8.63575E-03 -6.67972E-03\\n -2.87470E-03 -7.16303E-04 -1.10597E-04 -1.09131E-05\\n -6.81825E-05 -5.24023E-04 -2.17688E-03 -5.25867E-03 -6.24642E-03 -4.01120E-03\\n -1.72868E-03 -5.18274E-04 -1.04973E-04 -1.28647E-05\\n -5.06430E-05 -3.01979E-04 -7.02858E-04 -1.85031E-04  2.38447E-03  3.23768E-03\\n  1.34143E-03  1.42185E-04 -3.22844E-05 -8.62869E-06\\n -2.09870E-05 -4.17607E-05  5.92552E-04  3.61198E-03  7.75523E-03  7.23530E-03\\n  3.05690E-03  5.61357E-04  3.01172E-05 -2.70014E-06\\n -3.70627E-06  5.03029E-05  7.10621E-04  3.11194E-03  5.95524E-03  5.33316E-03\\n  2.26817E-03  4.46477E-04  3.53730E-05  1.25899E-07\\n  3.96791E-07  3.26819E-05  3.23372E-04  1.29344E-03  2.38575E-03  2.10689E-03\\n  8.97743E-04  1.81375E-04  1.60387E-05  3.83564E-07\\n  3.15691E-07  9.13465E-06  8.02758E-05  3.08276E-04  5.58648E-04  4.89800E-04\\n  2.08832E-04  4.27439E-05  3.97401E-06  1.29111E-07\\n -3.61928E-07 -3.02368E-06 -1.39037E-05 -3.53906E-05 -4.95148E-05 -3.76096E-05\\n -1.54673E-05 -3.52994E-06 -4.75687E-07 -4.05676E-08\\n -1.83878E-06 -1.52491E-05 -6.94458E-05 -1.74906E-04 -2.42364E-04 -1.82808E-04\\n -7.49717E-05 -1.71699E-05 -2.34041E-06 -2.02868E-07\\n -6.02743E-06 -4.90888E-05 -2.18208E-04 -5.34823E-04 -7.22534E-04 -5.34963E-04\\n -2.17878E-04 -5.04294E-05 -7.09374E-06 -6.41127E-07\\n -1.27010E-05 -1.00069E-04 -4.24449E-04 -9.83232E-04 -1.25409E-03 -8.87467E-04\\n -3.55321E-04 -8.45283E-05 -1.28093E-05 -1.26347E-06\\n -1.71338E-05 -1.27721E-04 -4.96410E-04 -1.01741E-03 -1.11466E-03 -6.81642E-04\\n -2.56414E-04 -6.74036E-05 -1.27006E-05 -1.51789E-06\\n -1.47249E-05 -1.00196E-04 -3.26239E-04 -4.65443E-04 -1.97106E-04  9.12991E-05\\n  7.21289E-05  3.20615E-06 -4.91738E-06 -1.06078E-06\\n -8.01240E-06 -4.66225E-05 -9.46356E-05  8.48109E-05  5.20820E-04  6.07854E-04\\n  2.80264E-04  5.20961E-05  2.26076E-06 -3.76957E-07\\n -2.73752E-06 -1.17671E-05  1.13094E-05  2.06691E-04  5.08357E-04  5.01547E-04\\n  2.22626E-04  4.42962E-05  3.36901E-06 -2.35735E-08\\n -5.79981E-07 -1.07348E-06  1.72772E-05  1.04354E-04  2.20322E-04  2.06432E-04\\n  9.04059E-05  1.84134E-05  1.59825E-06  3.08177E-08\\n -7.46119E-08  1.79641E-07  5.55316E-06  2.69777E-05  5.35430E-05  4.89685E-05\\n  2.13031E-05  4.38820E-06  4.03391E-07  1.19681E-08\\n -4.21841E-08 -3.26770E-07 -1.35205E-06 -3.03132E-06 -3.72253E-06 -2.51830E-06\\n -9.46323E-07 -2.03367E-07 -2.66394E-08 -2.26780E-09\\n -2.15605E-07 -1.66390E-06 -6.84452E-06 -1.52228E-05 -1.85182E-05 -1.24141E-05\\n -4.63616E-06 -9.96360E-07 -1.31669E-07 -1.13721E-08\\n -7.17150E-07 -5.48509E-06 -2.22470E-05 -4.85135E-05 -5.76349E-05 -3.77473E-05\\n -1.38749E-05 -2.98432E-06 -4.03866E-07 -3.61836E-08\\n -1.55048E-06 -1.16757E-05 -4.61764E-05 -9.70518E-05 -1.10000E-04 -6.85618E-05\\n -2.43179E-05 -5.24301E-06 -7.48480E-07 -7.22471E-08\\n -2.17659E-06 -1.60056E-05 -6.07848E-05 -1.19791E-04 -1.23775E-04 -6.88972E-05\\n -2.22436E-05 -4.83085E-06 -7.90234E-07 -8.89489E-08\\n -1.98250E-06 -1.40917E-05 -5.02614E-05 -8.83297E-05 -7.40503E-05 -2.82449E-05\\n -5.26174E-06 -1.21260E-06 -3.91749E-07 -6.53306E-08\\n -1.17122E-06 -7.94604E-06 -2.57204E-05 -3.60106E-05 -1.36479E-05  1.01519E-05\\n  8.55165E-06  1.76061E-06  2.33347E-08 -2.64222E-08\\n -4.48911E-07 -2.86165E-06 -7.93038E-06 -5.95649E-06  9.36755E-06  1.69047E-05\\n  8.92998E-06  1.87516E-06  1.32359E-07 -4.23374E-09\\n -1.11743E-07 -6.56400E-07 -1.38804E-06  9.01681E-07  6.76744E-06  8.16117E-06\\n  3.93950E-06  8.31231E-07  7.04085E-08  7.34205E-10\\n -1.80997E-08 -9.56690E-08 -1.13224E-07  6.00098E-07  1.94069E-06  2.07445E-06\\n  9.64822E-07  2.03991E-07  1.85310E-08  4.58933E-10\\n\",\"cube\",{\"isoval\": 1.0, \"volformat\": \"cube\"});\n\tviewer_16754022696675334.addModel(\"Orbital value in real space (1/Bohr^3)\\nPySCF Version: 2.1.1  Date: Fri Feb  3 05:31:06 2023\\n    4   -5.000000   -5.000000   -5.000000\\n   10    1.489056    0.000000    0.000000\\n   10    0.000000    1.145569    0.000000\\n   10    0.000000    0.000000    1.438421\\n    1    0.000000    0.000000    0.000000    0.000000\\n    1    0.000000    3.401507    0.000000    0.000000\\n    1    0.000000    1.700754    0.000000    2.945791\\n    6    0.000000    1.698598    0.310125    1.157400\\n -4.22312E-08 -3.27295E-07 -1.35523E-06 -3.04148E-06 -3.73923E-06 -2.53221E-06\\n -9.52153E-07 -2.04590E-07 -2.67674E-08 -2.27448E-09\\n -2.15837E-07 -1.66645E-06 -6.85980E-06 -1.52712E-05 -1.85975E-05 -1.24799E-05\\n -4.66367E-06 -1.00212E-06 -1.32271E-07 -1.14034E-08\\n -7.17847E-07 -5.49252E-06 -2.22904E-05 -4.86488E-05 -5.78534E-05 -3.79273E-05\\n -1.39497E-05 -2.99990E-06 -4.05488E-07 -3.62678E-08\\n -1.55173E-06 -1.16880E-05 -4.62436E-05 -9.72506E-05 -1.10310E-04 -6.88106E-05\\n -2.44194E-05 -5.26386E-06 -7.50626E-07 -7.23574E-08\\n -2.17779E-06 -1.60150E-05 -6.08234E-05 -1.19876E-04 -1.23872E-04 -6.89553E-05\\n -2.22613E-05 -4.83353E-06 -7.90428E-07 -8.89552E-08\\n -1.98291E-06 -1.40903E-05 -5.02267E-05 -8.81621E-05 -7.37147E-05 -2.79325E-05\\n -5.12140E-06 -1.18172E-06 -3.88397E-07 -6.51504E-08\\n -1.17093E-06 -7.93758E-06 -2.56457E-05 -3.57221E-05 -1.31211E-05  1.06195E-05\\n  8.75570E-06  1.80464E-06  2.80457E-08 -2.61719E-08\\n -4.48541E-07 -2.85469E-06 -7.87551E-06 -5.75422E-06  9.72838E-06  1.72207E-05\\n  9.06674E-06  1.90450E-06  1.35483E-07 -4.06836E-09\\n -1.11573E-07 -6.53542E-07 -1.36642E-06  9.79826E-07  6.90542E-06  8.28129E-06\\n  3.99128E-06  8.42308E-07  7.15857E-08  7.96402E-10\\n -1.80572E-08 -9.49920E-08 -1.08210E-07  6.18039E-07  1.97219E-06  2.10179E-06\\n  9.76579E-07  2.06502E-07  1.87975E-08  4.72999E-10\\n -3.62504E-07 -3.03070E-06 -1.39488E-05 -3.55400E-05 -4.97658E-05 -3.78213E-05\\n -1.55567E-05 -3.54876E-06 -4.77664E-07 -4.06710E-08\\n -1.84157E-06 -1.52828E-05 -6.96610E-05 -1.75615E-04 -2.43552E-04 -1.83808E-04\\n -7.53929E-05 -1.72585E-05 -2.34970E-06 -2.03353E-07\\n -6.03557E-06 -4.91845E-05 -2.18808E-04 -5.36781E-04 -7.25785E-04 -5.37684E-04\\n -2.19020E-04 -5.06686E-05 -7.11874E-06 -6.42428E-07\\n -1.27145E-05 -1.00217E-04 -4.25331E-04 -9.86009E-04 -1.25859E-03 -8.91173E-04\\n -3.56855E-04 -8.48464E-05 -1.28422E-05 -1.26517E-06\\n -1.71440E-05 -1.27804E-04 -4.96778E-04 -1.01828E-03 -1.11574E-03 -6.82322E-04\\n -2.56631E-04 -6.74375E-05 -1.27031E-05 -1.51797E-06\\n -1.47232E-05 -1.00116E-04 -3.25483E-04 -4.62429E-04 -1.91491E-04  9.63540E-05\\n  7.43594E-05  3.69219E-06 -4.86490E-06 -1.05797E-06\\n -8.00292E-06 -4.64550E-05 -9.33415E-05  8.95448E-05  5.29247E-04  6.15235E-04\\n  2.83462E-04  5.27834E-05  2.33412E-06 -3.73065E-07\\n -2.72977E-06 -1.16446E-05  1.22153E-05  2.09933E-04  5.14057E-04  5.06500E-04\\n  2.24760E-04  4.47529E-05  3.41759E-06 -2.10043E-08\\n -5.76806E-07 -1.02527E-06  1.76270E-05  1.05594E-04  2.22489E-04  2.08308E-04\\n  9.12125E-05  1.85856E-05  1.61654E-06  3.17834E-08\\n -7.38607E-08  1.90815E-07  5.63344E-06  2.72608E-05  5.40363E-05  4.93948E-05\\n  2.14861E-05  4.42723E-06  4.07530E-07  1.21864E-08\\n -1.71322E-06 -1.61504E-05 -8.50418E-05 -2.45807E-04 -3.80877E-04 -3.11095E-04\\n -1.33991E-04 -3.13090E-05 -4.23313E-06 -3.57022E-07\\n -8.61159E-06 -8.03063E-05 -4.18206E-04 -1.19749E-03 -1.84292E-03 -1.49948E-03\\n -6.45734E-04 -1.51684E-04 -2.07657E-05 -1.78157E-06\\n -2.74819E-05 -2.49279E-04 -1.26130E-03 -3.52616E-03 -5.32664E-03 -4.28655E-03\\n -1.84636E-03 -4.40646E-04 -6.24533E-05 -5.60087E-06\\n -5.50916E-05 -4.72758E-04 -2.25386E-03 -6.03765E-03 -8.66610E-03 -6.70463E-03\\n -2.88494E-03 -7.18432E-04 -1.10818E-04 -1.09245E-05\\n -6.82257E-05 -5.24402E-04 -2.17878E-03 -5.26471E-03 -6.25464E-03 -4.01584E-03\\n -1.73001E-03 -5.18481E-04 -1.04988E-04 -1.28651E-05\\n -5.06077E-05 -3.01270E-04 -6.97183E-04 -1.64299E-04  2.42382E-03  3.27308E-03\\n  1.35667E-03  1.45483E-04 -3.19292E-05 -8.60969E-06\\n -2.09083E-05 -4.05244E-05  6.01669E-04  3.64469E-03  7.81374E-03  7.28610E-03\\n  3.07860E-03  5.66003E-04  3.06126E-05 -2.67388E-06\\n -3.64809E-06  5.11724E-05  7.16890E-04  3.13412E-03  5.99409E-03  5.36678E-03\\n  2.28260E-03  4.49561E-04  3.57008E-05  1.43228E-07\\n  4.19773E-07  3.30183E-05  3.25773E-04  1.30188E-03  2.40044E-03  2.11958E-03\\n  9.03191E-04  1.82538E-04  1.61620E-05  3.90077E-07\\n  3.21030E-07  9.21197E-06  8.08244E-05  3.10198E-04  5.61987E-04  4.92681E-04\\n  2.10067E-04  4.30072E-05  4.00192E-06  1.30584E-07\\n -4.74483E-06 -5.09250E-05 -3.00352E-04 -9.44640E-04 -1.54838E-03 -1.30929E-03\\n -5.74969E-04 -1.35383E-04 -1.82550E-05 -1.52448E-06\\n -2.35386E-05 -2.49807E-04 -1.45998E-03 -4.56340E-03 -7.45318E-03 -6.28954E-03\\n -2.76403E-03 -6.54672E-04 -8.94071E-05 -7.59749E-06\\n -7.25759E-05 -7.47469E-04 -4.26691E-03 -1.32076E-02 -2.15382E-02 -1.79805E-02\\n -7.86088E-03 -1.89218E-03 -2.67756E-04 -2.38087E-05\\n -1.35629E-04 -1.30666E-03 -7.13534E-03 -2.28366E-02 -3.81100E-02 -2.96916E-02\\n -1.22571E-02 -3.04969E-03 -4.70519E-04 -4.61440E-05\\n -1.45551E-04 -1.18362E-03 -5.71321E-03 -2.11840E-02 -3.14698E-02 -1.87730E-02\\n -7.11493E-03 -2.10726E-03 -4.34100E-04 -5.36579E-05\\n -7.58080E-05 -2.52362E-04  7.65109E-04  5.12200E-03  2.37927E-02  2.33840E-02\\n  7.28349E-03  8.50936E-04 -1.10105E-04 -3.48842E-05\\n -5.43943E-07  4.94821E-04  5.19944E-03  2.19498E-02  4.68410E-02  3.96093E-02\\n  1.47162E-02  2.66010E-03  1.56584E-04 -9.75047E-06\\n  2.12773E-05  5.01915E-04  4.22305E-03  1.60865E-02  2.95639E-02  2.54952E-02\\n  1.05092E-02  2.06072E-03  1.67364E-04  1.52027E-06\\n  1.18313E-05  2.19859E-04  1.72465E-03  6.33225E-03  1.12453E-02  9.73630E-03\\n  4.10745E-03  8.28881E-04  7.42446E-05  1.97370E-06\\n  3.16171E-06  5.36964E-05  4.07670E-04  1.47427E-03  2.59671E-03  2.24443E-03\\n  9.50550E-04  1.94381E-04  1.82247E-05  6.23072E-07\\n -7.92032E-06 -9.22243E-05 -5.76872E-04 -1.88417E-03 -3.15933E-03 -2.70638E-03\\n -1.19644E-03 -2.82244E-04 -3.79610E-05 -3.15235E-06\\n -3.89293E-05 -4.48908E-04 -2.78864E-03 -9.07668E-03 -1.52215E-02 -1.30125E-02\\n -5.74837E-03 -1.36385E-03 -1.85787E-04 -1.57005E-05\\n -1.17030E-04 -1.31420E-03 -8.02371E-03 -2.64350E-02 -4.66424E-02 -3.89361E-02\\n -1.64744E-02 -3.93819E-03 -5.55340E-04 -4.91248E-05\\n -2.06658E-04 -2.17721E-03 -1.28544E-02 -4.87482E-02 -1.14072E-01 -8.60119E-02\\n -2.80515E-02 -6.40857E-03 -9.71972E-04 -9.49116E-05\\n -1.92410E-04 -1.65835E-03 -8.45272E-03 -4.00439E-02 -1.60495E-01 -9.14478E-02\\n -2.25725E-02 -4.67680E-03 -8.87157E-04 -1.09673E-04\\n -5.15893E-05  2.60895E-04  5.36980E-03  3.77235E-02  1.84267E-01  1.05910E-01\\n  1.50089E-02  1.67847E-03 -2.04542E-04 -7.02444E-05\\n  6.59049E-05  1.53399E-03  1.31061E-02  6.31338E-02  1.78041E-01  1.29892E-01\\n  3.38015E-02  5.69892E-03  3.48566E-04 -1.84848E-05\\n  7.20684E-05  1.25741E-03  9.68246E-03  3.68397E-02  7.22249E-02  5.96716E-02\\n  2.27157E-02  4.39633E-03  3.60677E-04  4.05826E-06\\n  3.21762E-05  5.16573E-04  3.83737E-03  1.37773E-02  2.43069E-02  2.08678E-02\\n  8.73682E-03  1.76178E-03  1.58682E-04  4.39140E-06\\n  7.92479E-06  1.22461E-04  8.94624E-04  3.17767E-03  5.54739E-03  4.77248E-03\\n  2.01676E-03  4.12410E-04  3.88105E-05  1.35433E-06\\n -7.91440E-06 -9.21453E-05 -5.76336E-04 -1.88234E-03 -3.15621E-03 -2.70372E-03\\n -1.19531E-03 -2.82006E-04 -3.79359E-05 -3.15104E-06\\n -3.89010E-05 -4.48532E-04 -2.78610E-03 -9.06799E-03 -1.52066E-02 -1.29999E-02\\n -5.74306E-03 -1.36273E-03 -1.85669E-04 -1.56943E-05\\n -1.16950E-04 -1.31316E-03 -8.01668E-03 -2.64089E-02 -4.65887E-02 -3.88938E-02\\n -1.64595E-02 -3.93517E-03 -5.55023E-04 -4.91083E-05\\n -2.06541E-04 -2.17572E-03 -1.28439E-02 -4.86838E-02 -1.13840E-01 -8.58595E-02\\n -2.80256E-02 -6.40452E-03 -9.71557E-04 -9.48901E-05\\n -1.92358E-04 -1.65785E-03 -8.44846E-03 -3.99741E-02 -1.59673E-01 -9.11653E-02\\n -2.25585E-02 -4.67636E-03 -8.87130E-04 -1.09672E-04\\n -5.16836E-05  2.59356E-04  5.35770E-03  3.76292E-02  1.83329E-01  1.05521E-01\\n  1.49660E-02  1.67213E-03 -2.05214E-04 -7.02803E-05\\n  6.57393E-05  1.53153E-03  1.30876E-02  6.30188E-02  1.77580E-01  1.29592E-01\\n  3.37481E-02  5.69005E-03  3.47630E-04 -1.85344E-05\\n  7.19517E-05  1.25572E-03  9.67033E-03  3.67913E-02  7.21149E-02  5.95858E-02\\n  2.26870E-02  4.39050E-03  3.60058E-04  4.02554E-06\\n  3.21310E-05  5.15924E-04  3.83278E-03  1.37612E-02  2.42782E-02  2.08432E-02\\n  8.72649E-03  1.75958E-03  1.58449E-04  4.37911E-06\\n  7.91440E-06  1.22312E-04  8.93580E-04  3.17402E-03  5.54106E-03  4.76703E-03\\n  2.01443E-03  4.11912E-04  3.87578E-05  1.35155E-06\\n -4.73621E-06 -5.08113E-05 -2.99585E-04 -9.42034E-04 -1.54394E-03 -1.30552E-03\\n -5.73367E-04 -1.35045E-04 -1.82194E-05 -1.52261E-06\\n -2.34974E-05 -2.49266E-04 -1.45635E-03 -4.55106E-03 -7.43215E-03 -6.27169E-03\\n -2.75648E-03 -6.53081E-04 -8.92400E-05 -7.58876E-06\\n -7.24597E-05 -7.45966E-04 -4.25688E-03 -1.31731E-02 -2.14773E-02 -1.79299E-02\\n -7.84033E-03 -1.88788E-03 -2.67306E-04 -2.37853E-05\\n -1.35454E-04 -1.30449E-03 -7.12085E-03 -2.27784E-02 -3.79824E-02 -2.95979E-02\\n -1.22280E-02 -3.04400E-03 -4.69929E-04 -4.61134E-05\\n -1.45466E-04 -1.18282E-03 -5.70781E-03 -2.11424E-02 -3.13587E-02 -1.87131E-02\\n -7.10860E-03 -2.10671E-03 -4.34061E-04 -5.36567E-05\\n -7.59309E-05 -2.54464E-04  7.49561E-04  5.05973E-03  2.36045E-02  2.32329E-02\\n  7.23883E-03  8.42051E-04 -1.11059E-04 -3.49352E-05\\n -7.72351E-07  4.91381E-04  5.17439E-03  2.18489E-02  4.66038E-02  3.94233E-02\\n  1.46548E-02  2.64761E-03  1.55255E-04 -9.82088E-06\\n  2.11143E-05  4.99533E-04  4.20604E-03  1.60251E-02  2.94501E-02  2.53992E-02\\n  1.04701E-02  2.05244E-03  1.66485E-04  1.47382E-06\\n  1.17679E-05  2.18944E-04  1.71816E-03  6.30950E-03  1.12056E-02  9.70211E-03\\n  4.09284E-03  8.25765E-04  7.39139E-05  1.95625E-06\\n  3.14707E-06  5.34869E-05  4.06191E-04  1.46911E-03  2.58775E-03  2.23670E-03\\n  9.47239E-04  1.93676E-04  1.81499E-05  6.19127E-07\\n -1.70980E-06 -1.61065E-05 -8.47502E-05 -2.44824E-04 -3.79210E-04 -3.09680E-04\\n -1.33391E-04 -3.11825E-05 -4.21984E-06 -3.56327E-07\\n -8.59514E-06 -8.00966E-05 -4.16820E-04 -1.19283E-03 -1.83503E-03 -1.49281E-03\\n -6.42911E-04 -1.51090E-04 -2.07032E-05 -1.77831E-06\\n -2.74350E-05 -2.48692E-04 -1.25747E-03 -3.51336E-03 -5.30507E-03 -4.26838E-03\\n -1.83871E-03 -4.39041E-04 -6.22853E-05 -5.59212E-06\\n -5.50187E-05 -4.71891E-04 -2.24837E-03 -6.01944E-03 -8.63575E-03 -6.67972E-03\\n -2.87470E-03 -7.16303E-04 -1.10597E-04 -1.09131E-05\\n -6.81825E-05 -5.24023E-04 -2.17688E-03 -5.25867E-03 -6.24642E-03 -4.01120E-03\\n -1.72868E-03 -5.18274E-04 -1.04973E-04 -1.28647E-05\\n -5.06430E-05 -3.01979E-04 -7.02858E-04 -1.85031E-04  2.38447E-03  3.23768E-03\\n  1.34143E-03  1.42185E-04 -3.22844E-05 -8.62869E-06\\n -2.09870E-05 -4.17607E-05  5.92552E-04  3.61198E-03  7.75523E-03  7.23530E-03\\n  3.05690E-03  5.61357E-04  3.01172E-05 -2.70014E-06\\n -3.70627E-06  5.03029E-05  7.10621E-04  3.11194E-03  5.95524E-03  5.33316E-03\\n  2.26817E-03  4.46477E-04  3.53730E-05  1.25899E-07\\n  3.96791E-07  3.26819E-05  3.23372E-04  1.29344E-03  2.38575E-03  2.10689E-03\\n  8.97743E-04  1.81375E-04  1.60387E-05  3.83564E-07\\n  3.15691E-07  9.13465E-06  8.02758E-05  3.08276E-04  5.58648E-04  4.89800E-04\\n  2.08832E-04  4.27439E-05  3.97401E-06  1.29111E-07\\n -3.61928E-07 -3.02368E-06 -1.39037E-05 -3.53906E-05 -4.95148E-05 -3.76096E-05\\n -1.54673E-05 -3.52994E-06 -4.75687E-07 -4.05676E-08\\n -1.83878E-06 -1.52491E-05 -6.94458E-05 -1.74906E-04 -2.42364E-04 -1.82808E-04\\n -7.49717E-05 -1.71699E-05 -2.34041E-06 -2.02868E-07\\n -6.02743E-06 -4.90888E-05 -2.18208E-04 -5.34823E-04 -7.22534E-04 -5.34963E-04\\n -2.17878E-04 -5.04294E-05 -7.09374E-06 -6.41127E-07\\n -1.27010E-05 -1.00069E-04 -4.24449E-04 -9.83232E-04 -1.25409E-03 -8.87467E-04\\n -3.55321E-04 -8.45283E-05 -1.28093E-05 -1.26347E-06\\n -1.71338E-05 -1.27721E-04 -4.96410E-04 -1.01741E-03 -1.11466E-03 -6.81642E-04\\n -2.56414E-04 -6.74036E-05 -1.27006E-05 -1.51789E-06\\n -1.47249E-05 -1.00196E-04 -3.26239E-04 -4.65443E-04 -1.97106E-04  9.12991E-05\\n  7.21289E-05  3.20615E-06 -4.91738E-06 -1.06078E-06\\n -8.01240E-06 -4.66225E-05 -9.46356E-05  8.48109E-05  5.20820E-04  6.07854E-04\\n  2.80264E-04  5.20961E-05  2.26076E-06 -3.76957E-07\\n -2.73752E-06 -1.17671E-05  1.13094E-05  2.06691E-04  5.08357E-04  5.01547E-04\\n  2.22626E-04  4.42962E-05  3.36901E-06 -2.35735E-08\\n -5.79981E-07 -1.07348E-06  1.72772E-05  1.04354E-04  2.20322E-04  2.06432E-04\\n  9.04059E-05  1.84134E-05  1.59825E-06  3.08177E-08\\n -7.46119E-08  1.79641E-07  5.55316E-06  2.69777E-05  5.35430E-05  4.89685E-05\\n  2.13031E-05  4.38820E-06  4.03391E-07  1.19681E-08\\n -4.21841E-08 -3.26770E-07 -1.35205E-06 -3.03132E-06 -3.72253E-06 -2.51830E-06\\n -9.46323E-07 -2.03367E-07 -2.66394E-08 -2.26780E-09\\n -2.15605E-07 -1.66390E-06 -6.84452E-06 -1.52228E-05 -1.85182E-05 -1.24141E-05\\n -4.63616E-06 -9.96360E-07 -1.31669E-07 -1.13721E-08\\n -7.17150E-07 -5.48509E-06 -2.22470E-05 -4.85135E-05 -5.76349E-05 -3.77473E-05\\n -1.38749E-05 -2.98432E-06 -4.03866E-07 -3.61836E-08\\n -1.55048E-06 -1.16757E-05 -4.61764E-05 -9.70518E-05 -1.10000E-04 -6.85618E-05\\n -2.43179E-05 -5.24301E-06 -7.48480E-07 -7.22471E-08\\n -2.17659E-06 -1.60056E-05 -6.07848E-05 -1.19791E-04 -1.23775E-04 -6.88972E-05\\n -2.22436E-05 -4.83085E-06 -7.90234E-07 -8.89489E-08\\n -1.98250E-06 -1.40917E-05 -5.02614E-05 -8.83297E-05 -7.40503E-05 -2.82449E-05\\n -5.26174E-06 -1.21260E-06 -3.91749E-07 -6.53306E-08\\n -1.17122E-06 -7.94604E-06 -2.57204E-05 -3.60106E-05 -1.36479E-05  1.01519E-05\\n  8.55165E-06  1.76061E-06  2.33347E-08 -2.64222E-08\\n -4.48911E-07 -2.86165E-06 -7.93038E-06 -5.95649E-06  9.36755E-06  1.69047E-05\\n  8.92998E-06  1.87516E-06  1.32359E-07 -4.23374E-09\\n -1.11743E-07 -6.56400E-07 -1.38804E-06  9.01681E-07  6.76744E-06  8.16117E-06\\n  3.93950E-06  8.31231E-07  7.04085E-08  7.34205E-10\\n -1.80997E-08 -9.56690E-08 -1.13224E-07  6.00098E-07  1.94069E-06  2.07445E-06\\n  9.64822E-07  2.03991E-07  1.85310E-08  4.58933E-10\\n\",\"cube\");\n\tviewer_16754022696675334.setStyle({\"stick\": {}});\n\tviewer_16754022696675334.zoomTo();\nviewer_16754022696675334.render();\n});\n</script>",
            "text/html": [
              "<div id=\"3dmolviewer_16754022696675334\"  style=\"position: relative; width: 640px; height: 480px\">\n",
              "        <p id=\"3dmolwarning_16754022696675334\" style=\"background-color:#ffcccc;color:black\">You appear to be running in JupyterLab (or JavaScript failed to load for some other reason).  You need to install the 3dmol extension: <br>\n",
              "        <tt>jupyter labextension install jupyterlab_3dmol</tt></p>\n",
              "        </div>\n",
              "<script>\n",
              "\n",
              "var loadScriptAsync = function(uri){\n",
              "  return new Promise((resolve, reject) => {\n",
              "    //this is to ignore the existence of requirejs amd\n",
              "    var savedexports, savedmodule;\n",
              "    if (typeof exports !== 'undefined') savedexports = exports;\n",
              "    else exports = {}\n",
              "    if (typeof module !== 'undefined') savedmodule = module;\n",
              "    else module = {}\n",
              "\n",
              "    var tag = document.createElement('script');\n",
              "    tag.src = uri;\n",
              "    tag.async = true;\n",
              "    tag.onload = () => {\n",
              "        exports = savedexports;\n",
              "        module = savedmodule;\n",
              "        resolve();\n",
              "    };\n",
              "  var firstScriptTag = document.getElementsByTagName('script')[0];\n",
              "  firstScriptTag.parentNode.insertBefore(tag, firstScriptTag);\n",
              "});\n",
              "};\n",
              "\n",
              "if(typeof $3Dmolpromise === 'undefined') {\n",
              "$3Dmolpromise = null;\n",
              "  $3Dmolpromise = loadScriptAsync('https://cdn.jsdelivr.net/npm/3dmol@latest/build/3Dmol-min.min.js');\n",
              "}\n",
              "\n",
              "var viewer_16754022696675334 = null;\n",
              "var warn = document.getElementById(\"3dmolwarning_16754022696675334\");\n",
              "if(warn) {\n",
              "    warn.parentNode.removeChild(warn);\n",
              "}\n",
              "$3Dmolpromise.then(function() {\n",
              "viewer_16754022696675334 = $3Dmol.createViewer(document.getElementById(\"3dmolviewer_16754022696675334\"),{backgroundColor:\"white\"});\n",
              "viewer_16754022696675334.zoomTo();\n",
              "\tviewer_16754022696675334.addVolumetricData(\"Orbital value in real space (1/Bohr^3)\\nPySCF Version: 2.1.1  Date: Fri Feb  3 05:31:06 2023\\n    4   -5.000000   -5.000000   -5.000000\\n   10    1.489056    0.000000    0.000000\\n   10    0.000000    1.145569    0.000000\\n   10    0.000000    0.000000    1.438421\\n    1    0.000000    0.000000    0.000000    0.000000\\n    1    0.000000    3.401507    0.000000    0.000000\\n    1    0.000000    1.700754    0.000000    2.945791\\n    6    0.000000    1.698598    0.310125    1.157400\\n -4.22312E-08 -3.27295E-07 -1.35523E-06 -3.04148E-06 -3.73923E-06 -2.53221E-06\\n -9.52153E-07 -2.04590E-07 -2.67674E-08 -2.27448E-09\\n -2.15837E-07 -1.66645E-06 -6.85980E-06 -1.52712E-05 -1.85975E-05 -1.24799E-05\\n -4.66367E-06 -1.00212E-06 -1.32271E-07 -1.14034E-08\\n -7.17847E-07 -5.49252E-06 -2.22904E-05 -4.86488E-05 -5.78534E-05 -3.79273E-05\\n -1.39497E-05 -2.99990E-06 -4.05488E-07 -3.62678E-08\\n -1.55173E-06 -1.16880E-05 -4.62436E-05 -9.72506E-05 -1.10310E-04 -6.88106E-05\\n -2.44194E-05 -5.26386E-06 -7.50626E-07 -7.23574E-08\\n -2.17779E-06 -1.60150E-05 -6.08234E-05 -1.19876E-04 -1.23872E-04 -6.89553E-05\\n -2.22613E-05 -4.83353E-06 -7.90428E-07 -8.89552E-08\\n -1.98291E-06 -1.40903E-05 -5.02267E-05 -8.81621E-05 -7.37147E-05 -2.79325E-05\\n -5.12140E-06 -1.18172E-06 -3.88397E-07 -6.51504E-08\\n -1.17093E-06 -7.93758E-06 -2.56457E-05 -3.57221E-05 -1.31211E-05  1.06195E-05\\n  8.75570E-06  1.80464E-06  2.80457E-08 -2.61719E-08\\n -4.48541E-07 -2.85469E-06 -7.87551E-06 -5.75422E-06  9.72838E-06  1.72207E-05\\n  9.06674E-06  1.90450E-06  1.35483E-07 -4.06836E-09\\n -1.11573E-07 -6.53542E-07 -1.36642E-06  9.79826E-07  6.90542E-06  8.28129E-06\\n  3.99128E-06  8.42308E-07  7.15857E-08  7.96402E-10\\n -1.80572E-08 -9.49920E-08 -1.08210E-07  6.18039E-07  1.97219E-06  2.10179E-06\\n  9.76579E-07  2.06502E-07  1.87975E-08  4.72999E-10\\n -3.62504E-07 -3.03070E-06 -1.39488E-05 -3.55400E-05 -4.97658E-05 -3.78213E-05\\n -1.55567E-05 -3.54876E-06 -4.77664E-07 -4.06710E-08\\n -1.84157E-06 -1.52828E-05 -6.96610E-05 -1.75615E-04 -2.43552E-04 -1.83808E-04\\n -7.53929E-05 -1.72585E-05 -2.34970E-06 -2.03353E-07\\n -6.03557E-06 -4.91845E-05 -2.18808E-04 -5.36781E-04 -7.25785E-04 -5.37684E-04\\n -2.19020E-04 -5.06686E-05 -7.11874E-06 -6.42428E-07\\n -1.27145E-05 -1.00217E-04 -4.25331E-04 -9.86009E-04 -1.25859E-03 -8.91173E-04\\n -3.56855E-04 -8.48464E-05 -1.28422E-05 -1.26517E-06\\n -1.71440E-05 -1.27804E-04 -4.96778E-04 -1.01828E-03 -1.11574E-03 -6.82322E-04\\n -2.56631E-04 -6.74375E-05 -1.27031E-05 -1.51797E-06\\n -1.47232E-05 -1.00116E-04 -3.25483E-04 -4.62429E-04 -1.91491E-04  9.63540E-05\\n  7.43594E-05  3.69219E-06 -4.86490E-06 -1.05797E-06\\n -8.00292E-06 -4.64550E-05 -9.33415E-05  8.95448E-05  5.29247E-04  6.15235E-04\\n  2.83462E-04  5.27834E-05  2.33412E-06 -3.73065E-07\\n -2.72977E-06 -1.16446E-05  1.22153E-05  2.09933E-04  5.14057E-04  5.06500E-04\\n  2.24760E-04  4.47529E-05  3.41759E-06 -2.10043E-08\\n -5.76806E-07 -1.02527E-06  1.76270E-05  1.05594E-04  2.22489E-04  2.08308E-04\\n  9.12125E-05  1.85856E-05  1.61654E-06  3.17834E-08\\n -7.38607E-08  1.90815E-07  5.63344E-06  2.72608E-05  5.40363E-05  4.93948E-05\\n  2.14861E-05  4.42723E-06  4.07530E-07  1.21864E-08\\n -1.71322E-06 -1.61504E-05 -8.50418E-05 -2.45807E-04 -3.80877E-04 -3.11095E-04\\n -1.33991E-04 -3.13090E-05 -4.23313E-06 -3.57022E-07\\n -8.61159E-06 -8.03063E-05 -4.18206E-04 -1.19749E-03 -1.84292E-03 -1.49948E-03\\n -6.45734E-04 -1.51684E-04 -2.07657E-05 -1.78157E-06\\n -2.74819E-05 -2.49279E-04 -1.26130E-03 -3.52616E-03 -5.32664E-03 -4.28655E-03\\n -1.84636E-03 -4.40646E-04 -6.24533E-05 -5.60087E-06\\n -5.50916E-05 -4.72758E-04 -2.25386E-03 -6.03765E-03 -8.66610E-03 -6.70463E-03\\n -2.88494E-03 -7.18432E-04 -1.10818E-04 -1.09245E-05\\n -6.82257E-05 -5.24402E-04 -2.17878E-03 -5.26471E-03 -6.25464E-03 -4.01584E-03\\n -1.73001E-03 -5.18481E-04 -1.04988E-04 -1.28651E-05\\n -5.06077E-05 -3.01270E-04 -6.97183E-04 -1.64299E-04  2.42382E-03  3.27308E-03\\n  1.35667E-03  1.45483E-04 -3.19292E-05 -8.60969E-06\\n -2.09083E-05 -4.05244E-05  6.01669E-04  3.64469E-03  7.81374E-03  7.28610E-03\\n  3.07860E-03  5.66003E-04  3.06126E-05 -2.67388E-06\\n -3.64809E-06  5.11724E-05  7.16890E-04  3.13412E-03  5.99409E-03  5.36678E-03\\n  2.28260E-03  4.49561E-04  3.57008E-05  1.43228E-07\\n  4.19773E-07  3.30183E-05  3.25773E-04  1.30188E-03  2.40044E-03  2.11958E-03\\n  9.03191E-04  1.82538E-04  1.61620E-05  3.90077E-07\\n  3.21030E-07  9.21197E-06  8.08244E-05  3.10198E-04  5.61987E-04  4.92681E-04\\n  2.10067E-04  4.30072E-05  4.00192E-06  1.30584E-07\\n -4.74483E-06 -5.09250E-05 -3.00352E-04 -9.44640E-04 -1.54838E-03 -1.30929E-03\\n -5.74969E-04 -1.35383E-04 -1.82550E-05 -1.52448E-06\\n -2.35386E-05 -2.49807E-04 -1.45998E-03 -4.56340E-03 -7.45318E-03 -6.28954E-03\\n -2.76403E-03 -6.54672E-04 -8.94071E-05 -7.59749E-06\\n -7.25759E-05 -7.47469E-04 -4.26691E-03 -1.32076E-02 -2.15382E-02 -1.79805E-02\\n -7.86088E-03 -1.89218E-03 -2.67756E-04 -2.38087E-05\\n -1.35629E-04 -1.30666E-03 -7.13534E-03 -2.28366E-02 -3.81100E-02 -2.96916E-02\\n -1.22571E-02 -3.04969E-03 -4.70519E-04 -4.61440E-05\\n -1.45551E-04 -1.18362E-03 -5.71321E-03 -2.11840E-02 -3.14698E-02 -1.87730E-02\\n -7.11493E-03 -2.10726E-03 -4.34100E-04 -5.36579E-05\\n -7.58080E-05 -2.52362E-04  7.65109E-04  5.12200E-03  2.37927E-02  2.33840E-02\\n  7.28349E-03  8.50936E-04 -1.10105E-04 -3.48842E-05\\n -5.43943E-07  4.94821E-04  5.19944E-03  2.19498E-02  4.68410E-02  3.96093E-02\\n  1.47162E-02  2.66010E-03  1.56584E-04 -9.75047E-06\\n  2.12773E-05  5.01915E-04  4.22305E-03  1.60865E-02  2.95639E-02  2.54952E-02\\n  1.05092E-02  2.06072E-03  1.67364E-04  1.52027E-06\\n  1.18313E-05  2.19859E-04  1.72465E-03  6.33225E-03  1.12453E-02  9.73630E-03\\n  4.10745E-03  8.28881E-04  7.42446E-05  1.97370E-06\\n  3.16171E-06  5.36964E-05  4.07670E-04  1.47427E-03  2.59671E-03  2.24443E-03\\n  9.50550E-04  1.94381E-04  1.82247E-05  6.23072E-07\\n -7.92032E-06 -9.22243E-05 -5.76872E-04 -1.88417E-03 -3.15933E-03 -2.70638E-03\\n -1.19644E-03 -2.82244E-04 -3.79610E-05 -3.15235E-06\\n -3.89293E-05 -4.48908E-04 -2.78864E-03 -9.07668E-03 -1.52215E-02 -1.30125E-02\\n -5.74837E-03 -1.36385E-03 -1.85787E-04 -1.57005E-05\\n -1.17030E-04 -1.31420E-03 -8.02371E-03 -2.64350E-02 -4.66424E-02 -3.89361E-02\\n -1.64744E-02 -3.93819E-03 -5.55340E-04 -4.91248E-05\\n -2.06658E-04 -2.17721E-03 -1.28544E-02 -4.87482E-02 -1.14072E-01 -8.60119E-02\\n -2.80515E-02 -6.40857E-03 -9.71972E-04 -9.49116E-05\\n -1.92410E-04 -1.65835E-03 -8.45272E-03 -4.00439E-02 -1.60495E-01 -9.14478E-02\\n -2.25725E-02 -4.67680E-03 -8.87157E-04 -1.09673E-04\\n -5.15893E-05  2.60895E-04  5.36980E-03  3.77235E-02  1.84267E-01  1.05910E-01\\n  1.50089E-02  1.67847E-03 -2.04542E-04 -7.02444E-05\\n  6.59049E-05  1.53399E-03  1.31061E-02  6.31338E-02  1.78041E-01  1.29892E-01\\n  3.38015E-02  5.69892E-03  3.48566E-04 -1.84848E-05\\n  7.20684E-05  1.25741E-03  9.68246E-03  3.68397E-02  7.22249E-02  5.96716E-02\\n  2.27157E-02  4.39633E-03  3.60677E-04  4.05826E-06\\n  3.21762E-05  5.16573E-04  3.83737E-03  1.37773E-02  2.43069E-02  2.08678E-02\\n  8.73682E-03  1.76178E-03  1.58682E-04  4.39140E-06\\n  7.92479E-06  1.22461E-04  8.94624E-04  3.17767E-03  5.54739E-03  4.77248E-03\\n  2.01676E-03  4.12410E-04  3.88105E-05  1.35433E-06\\n -7.91440E-06 -9.21453E-05 -5.76336E-04 -1.88234E-03 -3.15621E-03 -2.70372E-03\\n -1.19531E-03 -2.82006E-04 -3.79359E-05 -3.15104E-06\\n -3.89010E-05 -4.48532E-04 -2.78610E-03 -9.06799E-03 -1.52066E-02 -1.29999E-02\\n -5.74306E-03 -1.36273E-03 -1.85669E-04 -1.56943E-05\\n -1.16950E-04 -1.31316E-03 -8.01668E-03 -2.64089E-02 -4.65887E-02 -3.88938E-02\\n -1.64595E-02 -3.93517E-03 -5.55023E-04 -4.91083E-05\\n -2.06541E-04 -2.17572E-03 -1.28439E-02 -4.86838E-02 -1.13840E-01 -8.58595E-02\\n -2.80256E-02 -6.40452E-03 -9.71557E-04 -9.48901E-05\\n -1.92358E-04 -1.65785E-03 -8.44846E-03 -3.99741E-02 -1.59673E-01 -9.11653E-02\\n -2.25585E-02 -4.67636E-03 -8.87130E-04 -1.09672E-04\\n -5.16836E-05  2.59356E-04  5.35770E-03  3.76292E-02  1.83329E-01  1.05521E-01\\n  1.49660E-02  1.67213E-03 -2.05214E-04 -7.02803E-05\\n  6.57393E-05  1.53153E-03  1.30876E-02  6.30188E-02  1.77580E-01  1.29592E-01\\n  3.37481E-02  5.69005E-03  3.47630E-04 -1.85344E-05\\n  7.19517E-05  1.25572E-03  9.67033E-03  3.67913E-02  7.21149E-02  5.95858E-02\\n  2.26870E-02  4.39050E-03  3.60058E-04  4.02554E-06\\n  3.21310E-05  5.15924E-04  3.83278E-03  1.37612E-02  2.42782E-02  2.08432E-02\\n  8.72649E-03  1.75958E-03  1.58449E-04  4.37911E-06\\n  7.91440E-06  1.22312E-04  8.93580E-04  3.17402E-03  5.54106E-03  4.76703E-03\\n  2.01443E-03  4.11912E-04  3.87578E-05  1.35155E-06\\n -4.73621E-06 -5.08113E-05 -2.99585E-04 -9.42034E-04 -1.54394E-03 -1.30552E-03\\n -5.73367E-04 -1.35045E-04 -1.82194E-05 -1.52261E-06\\n -2.34974E-05 -2.49266E-04 -1.45635E-03 -4.55106E-03 -7.43215E-03 -6.27169E-03\\n -2.75648E-03 -6.53081E-04 -8.92400E-05 -7.58876E-06\\n -7.24597E-05 -7.45966E-04 -4.25688E-03 -1.31731E-02 -2.14773E-02 -1.79299E-02\\n -7.84033E-03 -1.88788E-03 -2.67306E-04 -2.37853E-05\\n -1.35454E-04 -1.30449E-03 -7.12085E-03 -2.27784E-02 -3.79824E-02 -2.95979E-02\\n -1.22280E-02 -3.04400E-03 -4.69929E-04 -4.61134E-05\\n -1.45466E-04 -1.18282E-03 -5.70781E-03 -2.11424E-02 -3.13587E-02 -1.87131E-02\\n -7.10860E-03 -2.10671E-03 -4.34061E-04 -5.36567E-05\\n -7.59309E-05 -2.54464E-04  7.49561E-04  5.05973E-03  2.36045E-02  2.32329E-02\\n  7.23883E-03  8.42051E-04 -1.11059E-04 -3.49352E-05\\n -7.72351E-07  4.91381E-04  5.17439E-03  2.18489E-02  4.66038E-02  3.94233E-02\\n  1.46548E-02  2.64761E-03  1.55255E-04 -9.82088E-06\\n  2.11143E-05  4.99533E-04  4.20604E-03  1.60251E-02  2.94501E-02  2.53992E-02\\n  1.04701E-02  2.05244E-03  1.66485E-04  1.47382E-06\\n  1.17679E-05  2.18944E-04  1.71816E-03  6.30950E-03  1.12056E-02  9.70211E-03\\n  4.09284E-03  8.25765E-04  7.39139E-05  1.95625E-06\\n  3.14707E-06  5.34869E-05  4.06191E-04  1.46911E-03  2.58775E-03  2.23670E-03\\n  9.47239E-04  1.93676E-04  1.81499E-05  6.19127E-07\\n -1.70980E-06 -1.61065E-05 -8.47502E-05 -2.44824E-04 -3.79210E-04 -3.09680E-04\\n -1.33391E-04 -3.11825E-05 -4.21984E-06 -3.56327E-07\\n -8.59514E-06 -8.00966E-05 -4.16820E-04 -1.19283E-03 -1.83503E-03 -1.49281E-03\\n -6.42911E-04 -1.51090E-04 -2.07032E-05 -1.77831E-06\\n -2.74350E-05 -2.48692E-04 -1.25747E-03 -3.51336E-03 -5.30507E-03 -4.26838E-03\\n -1.83871E-03 -4.39041E-04 -6.22853E-05 -5.59212E-06\\n -5.50187E-05 -4.71891E-04 -2.24837E-03 -6.01944E-03 -8.63575E-03 -6.67972E-03\\n -2.87470E-03 -7.16303E-04 -1.10597E-04 -1.09131E-05\\n -6.81825E-05 -5.24023E-04 -2.17688E-03 -5.25867E-03 -6.24642E-03 -4.01120E-03\\n -1.72868E-03 -5.18274E-04 -1.04973E-04 -1.28647E-05\\n -5.06430E-05 -3.01979E-04 -7.02858E-04 -1.85031E-04  2.38447E-03  3.23768E-03\\n  1.34143E-03  1.42185E-04 -3.22844E-05 -8.62869E-06\\n -2.09870E-05 -4.17607E-05  5.92552E-04  3.61198E-03  7.75523E-03  7.23530E-03\\n  3.05690E-03  5.61357E-04  3.01172E-05 -2.70014E-06\\n -3.70627E-06  5.03029E-05  7.10621E-04  3.11194E-03  5.95524E-03  5.33316E-03\\n  2.26817E-03  4.46477E-04  3.53730E-05  1.25899E-07\\n  3.96791E-07  3.26819E-05  3.23372E-04  1.29344E-03  2.38575E-03  2.10689E-03\\n  8.97743E-04  1.81375E-04  1.60387E-05  3.83564E-07\\n  3.15691E-07  9.13465E-06  8.02758E-05  3.08276E-04  5.58648E-04  4.89800E-04\\n  2.08832E-04  4.27439E-05  3.97401E-06  1.29111E-07\\n -3.61928E-07 -3.02368E-06 -1.39037E-05 -3.53906E-05 -4.95148E-05 -3.76096E-05\\n -1.54673E-05 -3.52994E-06 -4.75687E-07 -4.05676E-08\\n -1.83878E-06 -1.52491E-05 -6.94458E-05 -1.74906E-04 -2.42364E-04 -1.82808E-04\\n -7.49717E-05 -1.71699E-05 -2.34041E-06 -2.02868E-07\\n -6.02743E-06 -4.90888E-05 -2.18208E-04 -5.34823E-04 -7.22534E-04 -5.34963E-04\\n -2.17878E-04 -5.04294E-05 -7.09374E-06 -6.41127E-07\\n -1.27010E-05 -1.00069E-04 -4.24449E-04 -9.83232E-04 -1.25409E-03 -8.87467E-04\\n -3.55321E-04 -8.45283E-05 -1.28093E-05 -1.26347E-06\\n -1.71338E-05 -1.27721E-04 -4.96410E-04 -1.01741E-03 -1.11466E-03 -6.81642E-04\\n -2.56414E-04 -6.74036E-05 -1.27006E-05 -1.51789E-06\\n -1.47249E-05 -1.00196E-04 -3.26239E-04 -4.65443E-04 -1.97106E-04  9.12991E-05\\n  7.21289E-05  3.20615E-06 -4.91738E-06 -1.06078E-06\\n -8.01240E-06 -4.66225E-05 -9.46356E-05  8.48109E-05  5.20820E-04  6.07854E-04\\n  2.80264E-04  5.20961E-05  2.26076E-06 -3.76957E-07\\n -2.73752E-06 -1.17671E-05  1.13094E-05  2.06691E-04  5.08357E-04  5.01547E-04\\n  2.22626E-04  4.42962E-05  3.36901E-06 -2.35735E-08\\n -5.79981E-07 -1.07348E-06  1.72772E-05  1.04354E-04  2.20322E-04  2.06432E-04\\n  9.04059E-05  1.84134E-05  1.59825E-06  3.08177E-08\\n -7.46119E-08  1.79641E-07  5.55316E-06  2.69777E-05  5.35430E-05  4.89685E-05\\n  2.13031E-05  4.38820E-06  4.03391E-07  1.19681E-08\\n -4.21841E-08 -3.26770E-07 -1.35205E-06 -3.03132E-06 -3.72253E-06 -2.51830E-06\\n -9.46323E-07 -2.03367E-07 -2.66394E-08 -2.26780E-09\\n -2.15605E-07 -1.66390E-06 -6.84452E-06 -1.52228E-05 -1.85182E-05 -1.24141E-05\\n -4.63616E-06 -9.96360E-07 -1.31669E-07 -1.13721E-08\\n -7.17150E-07 -5.48509E-06 -2.22470E-05 -4.85135E-05 -5.76349E-05 -3.77473E-05\\n -1.38749E-05 -2.98432E-06 -4.03866E-07 -3.61836E-08\\n -1.55048E-06 -1.16757E-05 -4.61764E-05 -9.70518E-05 -1.10000E-04 -6.85618E-05\\n -2.43179E-05 -5.24301E-06 -7.48480E-07 -7.22471E-08\\n -2.17659E-06 -1.60056E-05 -6.07848E-05 -1.19791E-04 -1.23775E-04 -6.88972E-05\\n -2.22436E-05 -4.83085E-06 -7.90234E-07 -8.89489E-08\\n -1.98250E-06 -1.40917E-05 -5.02614E-05 -8.83297E-05 -7.40503E-05 -2.82449E-05\\n -5.26174E-06 -1.21260E-06 -3.91749E-07 -6.53306E-08\\n -1.17122E-06 -7.94604E-06 -2.57204E-05 -3.60106E-05 -1.36479E-05  1.01519E-05\\n  8.55165E-06  1.76061E-06  2.33347E-08 -2.64222E-08\\n -4.48911E-07 -2.86165E-06 -7.93038E-06 -5.95649E-06  9.36755E-06  1.69047E-05\\n  8.92998E-06  1.87516E-06  1.32359E-07 -4.23374E-09\\n -1.11743E-07 -6.56400E-07 -1.38804E-06  9.01681E-07  6.76744E-06  8.16117E-06\\n  3.93950E-06  8.31231E-07  7.04085E-08  7.34205E-10\\n -1.80997E-08 -9.56690E-08 -1.13224E-07  6.00098E-07  1.94069E-06  2.07445E-06\\n  9.64822E-07  2.03991E-07  1.85310E-08  4.58933E-10\\n\",\"cube\",{\"isoval\": 1.0, \"volformat\": \"cube\"});\n",
              "\tviewer_16754022696675334.addModel(\"Orbital value in real space (1/Bohr^3)\\nPySCF Version: 2.1.1  Date: Fri Feb  3 05:31:06 2023\\n    4   -5.000000   -5.000000   -5.000000\\n   10    1.489056    0.000000    0.000000\\n   10    0.000000    1.145569    0.000000\\n   10    0.000000    0.000000    1.438421\\n    1    0.000000    0.000000    0.000000    0.000000\\n    1    0.000000    3.401507    0.000000    0.000000\\n    1    0.000000    1.700754    0.000000    2.945791\\n    6    0.000000    1.698598    0.310125    1.157400\\n -4.22312E-08 -3.27295E-07 -1.35523E-06 -3.04148E-06 -3.73923E-06 -2.53221E-06\\n -9.52153E-07 -2.04590E-07 -2.67674E-08 -2.27448E-09\\n -2.15837E-07 -1.66645E-06 -6.85980E-06 -1.52712E-05 -1.85975E-05 -1.24799E-05\\n -4.66367E-06 -1.00212E-06 -1.32271E-07 -1.14034E-08\\n -7.17847E-07 -5.49252E-06 -2.22904E-05 -4.86488E-05 -5.78534E-05 -3.79273E-05\\n -1.39497E-05 -2.99990E-06 -4.05488E-07 -3.62678E-08\\n -1.55173E-06 -1.16880E-05 -4.62436E-05 -9.72506E-05 -1.10310E-04 -6.88106E-05\\n -2.44194E-05 -5.26386E-06 -7.50626E-07 -7.23574E-08\\n -2.17779E-06 -1.60150E-05 -6.08234E-05 -1.19876E-04 -1.23872E-04 -6.89553E-05\\n -2.22613E-05 -4.83353E-06 -7.90428E-07 -8.89552E-08\\n -1.98291E-06 -1.40903E-05 -5.02267E-05 -8.81621E-05 -7.37147E-05 -2.79325E-05\\n -5.12140E-06 -1.18172E-06 -3.88397E-07 -6.51504E-08\\n -1.17093E-06 -7.93758E-06 -2.56457E-05 -3.57221E-05 -1.31211E-05  1.06195E-05\\n  8.75570E-06  1.80464E-06  2.80457E-08 -2.61719E-08\\n -4.48541E-07 -2.85469E-06 -7.87551E-06 -5.75422E-06  9.72838E-06  1.72207E-05\\n  9.06674E-06  1.90450E-06  1.35483E-07 -4.06836E-09\\n -1.11573E-07 -6.53542E-07 -1.36642E-06  9.79826E-07  6.90542E-06  8.28129E-06\\n  3.99128E-06  8.42308E-07  7.15857E-08  7.96402E-10\\n -1.80572E-08 -9.49920E-08 -1.08210E-07  6.18039E-07  1.97219E-06  2.10179E-06\\n  9.76579E-07  2.06502E-07  1.87975E-08  4.72999E-10\\n -3.62504E-07 -3.03070E-06 -1.39488E-05 -3.55400E-05 -4.97658E-05 -3.78213E-05\\n -1.55567E-05 -3.54876E-06 -4.77664E-07 -4.06710E-08\\n -1.84157E-06 -1.52828E-05 -6.96610E-05 -1.75615E-04 -2.43552E-04 -1.83808E-04\\n -7.53929E-05 -1.72585E-05 -2.34970E-06 -2.03353E-07\\n -6.03557E-06 -4.91845E-05 -2.18808E-04 -5.36781E-04 -7.25785E-04 -5.37684E-04\\n -2.19020E-04 -5.06686E-05 -7.11874E-06 -6.42428E-07\\n -1.27145E-05 -1.00217E-04 -4.25331E-04 -9.86009E-04 -1.25859E-03 -8.91173E-04\\n -3.56855E-04 -8.48464E-05 -1.28422E-05 -1.26517E-06\\n -1.71440E-05 -1.27804E-04 -4.96778E-04 -1.01828E-03 -1.11574E-03 -6.82322E-04\\n -2.56631E-04 -6.74375E-05 -1.27031E-05 -1.51797E-06\\n -1.47232E-05 -1.00116E-04 -3.25483E-04 -4.62429E-04 -1.91491E-04  9.63540E-05\\n  7.43594E-05  3.69219E-06 -4.86490E-06 -1.05797E-06\\n -8.00292E-06 -4.64550E-05 -9.33415E-05  8.95448E-05  5.29247E-04  6.15235E-04\\n  2.83462E-04  5.27834E-05  2.33412E-06 -3.73065E-07\\n -2.72977E-06 -1.16446E-05  1.22153E-05  2.09933E-04  5.14057E-04  5.06500E-04\\n  2.24760E-04  4.47529E-05  3.41759E-06 -2.10043E-08\\n -5.76806E-07 -1.02527E-06  1.76270E-05  1.05594E-04  2.22489E-04  2.08308E-04\\n  9.12125E-05  1.85856E-05  1.61654E-06  3.17834E-08\\n -7.38607E-08  1.90815E-07  5.63344E-06  2.72608E-05  5.40363E-05  4.93948E-05\\n  2.14861E-05  4.42723E-06  4.07530E-07  1.21864E-08\\n -1.71322E-06 -1.61504E-05 -8.50418E-05 -2.45807E-04 -3.80877E-04 -3.11095E-04\\n -1.33991E-04 -3.13090E-05 -4.23313E-06 -3.57022E-07\\n -8.61159E-06 -8.03063E-05 -4.18206E-04 -1.19749E-03 -1.84292E-03 -1.49948E-03\\n -6.45734E-04 -1.51684E-04 -2.07657E-05 -1.78157E-06\\n -2.74819E-05 -2.49279E-04 -1.26130E-03 -3.52616E-03 -5.32664E-03 -4.28655E-03\\n -1.84636E-03 -4.40646E-04 -6.24533E-05 -5.60087E-06\\n -5.50916E-05 -4.72758E-04 -2.25386E-03 -6.03765E-03 -8.66610E-03 -6.70463E-03\\n -2.88494E-03 -7.18432E-04 -1.10818E-04 -1.09245E-05\\n -6.82257E-05 -5.24402E-04 -2.17878E-03 -5.26471E-03 -6.25464E-03 -4.01584E-03\\n -1.73001E-03 -5.18481E-04 -1.04988E-04 -1.28651E-05\\n -5.06077E-05 -3.01270E-04 -6.97183E-04 -1.64299E-04  2.42382E-03  3.27308E-03\\n  1.35667E-03  1.45483E-04 -3.19292E-05 -8.60969E-06\\n -2.09083E-05 -4.05244E-05  6.01669E-04  3.64469E-03  7.81374E-03  7.28610E-03\\n  3.07860E-03  5.66003E-04  3.06126E-05 -2.67388E-06\\n -3.64809E-06  5.11724E-05  7.16890E-04  3.13412E-03  5.99409E-03  5.36678E-03\\n  2.28260E-03  4.49561E-04  3.57008E-05  1.43228E-07\\n  4.19773E-07  3.30183E-05  3.25773E-04  1.30188E-03  2.40044E-03  2.11958E-03\\n  9.03191E-04  1.82538E-04  1.61620E-05  3.90077E-07\\n  3.21030E-07  9.21197E-06  8.08244E-05  3.10198E-04  5.61987E-04  4.92681E-04\\n  2.10067E-04  4.30072E-05  4.00192E-06  1.30584E-07\\n -4.74483E-06 -5.09250E-05 -3.00352E-04 -9.44640E-04 -1.54838E-03 -1.30929E-03\\n -5.74969E-04 -1.35383E-04 -1.82550E-05 -1.52448E-06\\n -2.35386E-05 -2.49807E-04 -1.45998E-03 -4.56340E-03 -7.45318E-03 -6.28954E-03\\n -2.76403E-03 -6.54672E-04 -8.94071E-05 -7.59749E-06\\n -7.25759E-05 -7.47469E-04 -4.26691E-03 -1.32076E-02 -2.15382E-02 -1.79805E-02\\n -7.86088E-03 -1.89218E-03 -2.67756E-04 -2.38087E-05\\n -1.35629E-04 -1.30666E-03 -7.13534E-03 -2.28366E-02 -3.81100E-02 -2.96916E-02\\n -1.22571E-02 -3.04969E-03 -4.70519E-04 -4.61440E-05\\n -1.45551E-04 -1.18362E-03 -5.71321E-03 -2.11840E-02 -3.14698E-02 -1.87730E-02\\n -7.11493E-03 -2.10726E-03 -4.34100E-04 -5.36579E-05\\n -7.58080E-05 -2.52362E-04  7.65109E-04  5.12200E-03  2.37927E-02  2.33840E-02\\n  7.28349E-03  8.50936E-04 -1.10105E-04 -3.48842E-05\\n -5.43943E-07  4.94821E-04  5.19944E-03  2.19498E-02  4.68410E-02  3.96093E-02\\n  1.47162E-02  2.66010E-03  1.56584E-04 -9.75047E-06\\n  2.12773E-05  5.01915E-04  4.22305E-03  1.60865E-02  2.95639E-02  2.54952E-02\\n  1.05092E-02  2.06072E-03  1.67364E-04  1.52027E-06\\n  1.18313E-05  2.19859E-04  1.72465E-03  6.33225E-03  1.12453E-02  9.73630E-03\\n  4.10745E-03  8.28881E-04  7.42446E-05  1.97370E-06\\n  3.16171E-06  5.36964E-05  4.07670E-04  1.47427E-03  2.59671E-03  2.24443E-03\\n  9.50550E-04  1.94381E-04  1.82247E-05  6.23072E-07\\n -7.92032E-06 -9.22243E-05 -5.76872E-04 -1.88417E-03 -3.15933E-03 -2.70638E-03\\n -1.19644E-03 -2.82244E-04 -3.79610E-05 -3.15235E-06\\n -3.89293E-05 -4.48908E-04 -2.78864E-03 -9.07668E-03 -1.52215E-02 -1.30125E-02\\n -5.74837E-03 -1.36385E-03 -1.85787E-04 -1.57005E-05\\n -1.17030E-04 -1.31420E-03 -8.02371E-03 -2.64350E-02 -4.66424E-02 -3.89361E-02\\n -1.64744E-02 -3.93819E-03 -5.55340E-04 -4.91248E-05\\n -2.06658E-04 -2.17721E-03 -1.28544E-02 -4.87482E-02 -1.14072E-01 -8.60119E-02\\n -2.80515E-02 -6.40857E-03 -9.71972E-04 -9.49116E-05\\n -1.92410E-04 -1.65835E-03 -8.45272E-03 -4.00439E-02 -1.60495E-01 -9.14478E-02\\n -2.25725E-02 -4.67680E-03 -8.87157E-04 -1.09673E-04\\n -5.15893E-05  2.60895E-04  5.36980E-03  3.77235E-02  1.84267E-01  1.05910E-01\\n  1.50089E-02  1.67847E-03 -2.04542E-04 -7.02444E-05\\n  6.59049E-05  1.53399E-03  1.31061E-02  6.31338E-02  1.78041E-01  1.29892E-01\\n  3.38015E-02  5.69892E-03  3.48566E-04 -1.84848E-05\\n  7.20684E-05  1.25741E-03  9.68246E-03  3.68397E-02  7.22249E-02  5.96716E-02\\n  2.27157E-02  4.39633E-03  3.60677E-04  4.05826E-06\\n  3.21762E-05  5.16573E-04  3.83737E-03  1.37773E-02  2.43069E-02  2.08678E-02\\n  8.73682E-03  1.76178E-03  1.58682E-04  4.39140E-06\\n  7.92479E-06  1.22461E-04  8.94624E-04  3.17767E-03  5.54739E-03  4.77248E-03\\n  2.01676E-03  4.12410E-04  3.88105E-05  1.35433E-06\\n -7.91440E-06 -9.21453E-05 -5.76336E-04 -1.88234E-03 -3.15621E-03 -2.70372E-03\\n -1.19531E-03 -2.82006E-04 -3.79359E-05 -3.15104E-06\\n -3.89010E-05 -4.48532E-04 -2.78610E-03 -9.06799E-03 -1.52066E-02 -1.29999E-02\\n -5.74306E-03 -1.36273E-03 -1.85669E-04 -1.56943E-05\\n -1.16950E-04 -1.31316E-03 -8.01668E-03 -2.64089E-02 -4.65887E-02 -3.88938E-02\\n -1.64595E-02 -3.93517E-03 -5.55023E-04 -4.91083E-05\\n -2.06541E-04 -2.17572E-03 -1.28439E-02 -4.86838E-02 -1.13840E-01 -8.58595E-02\\n -2.80256E-02 -6.40452E-03 -9.71557E-04 -9.48901E-05\\n -1.92358E-04 -1.65785E-03 -8.44846E-03 -3.99741E-02 -1.59673E-01 -9.11653E-02\\n -2.25585E-02 -4.67636E-03 -8.87130E-04 -1.09672E-04\\n -5.16836E-05  2.59356E-04  5.35770E-03  3.76292E-02  1.83329E-01  1.05521E-01\\n  1.49660E-02  1.67213E-03 -2.05214E-04 -7.02803E-05\\n  6.57393E-05  1.53153E-03  1.30876E-02  6.30188E-02  1.77580E-01  1.29592E-01\\n  3.37481E-02  5.69005E-03  3.47630E-04 -1.85344E-05\\n  7.19517E-05  1.25572E-03  9.67033E-03  3.67913E-02  7.21149E-02  5.95858E-02\\n  2.26870E-02  4.39050E-03  3.60058E-04  4.02554E-06\\n  3.21310E-05  5.15924E-04  3.83278E-03  1.37612E-02  2.42782E-02  2.08432E-02\\n  8.72649E-03  1.75958E-03  1.58449E-04  4.37911E-06\\n  7.91440E-06  1.22312E-04  8.93580E-04  3.17402E-03  5.54106E-03  4.76703E-03\\n  2.01443E-03  4.11912E-04  3.87578E-05  1.35155E-06\\n -4.73621E-06 -5.08113E-05 -2.99585E-04 -9.42034E-04 -1.54394E-03 -1.30552E-03\\n -5.73367E-04 -1.35045E-04 -1.82194E-05 -1.52261E-06\\n -2.34974E-05 -2.49266E-04 -1.45635E-03 -4.55106E-03 -7.43215E-03 -6.27169E-03\\n -2.75648E-03 -6.53081E-04 -8.92400E-05 -7.58876E-06\\n -7.24597E-05 -7.45966E-04 -4.25688E-03 -1.31731E-02 -2.14773E-02 -1.79299E-02\\n -7.84033E-03 -1.88788E-03 -2.67306E-04 -2.37853E-05\\n -1.35454E-04 -1.30449E-03 -7.12085E-03 -2.27784E-02 -3.79824E-02 -2.95979E-02\\n -1.22280E-02 -3.04400E-03 -4.69929E-04 -4.61134E-05\\n -1.45466E-04 -1.18282E-03 -5.70781E-03 -2.11424E-02 -3.13587E-02 -1.87131E-02\\n -7.10860E-03 -2.10671E-03 -4.34061E-04 -5.36567E-05\\n -7.59309E-05 -2.54464E-04  7.49561E-04  5.05973E-03  2.36045E-02  2.32329E-02\\n  7.23883E-03  8.42051E-04 -1.11059E-04 -3.49352E-05\\n -7.72351E-07  4.91381E-04  5.17439E-03  2.18489E-02  4.66038E-02  3.94233E-02\\n  1.46548E-02  2.64761E-03  1.55255E-04 -9.82088E-06\\n  2.11143E-05  4.99533E-04  4.20604E-03  1.60251E-02  2.94501E-02  2.53992E-02\\n  1.04701E-02  2.05244E-03  1.66485E-04  1.47382E-06\\n  1.17679E-05  2.18944E-04  1.71816E-03  6.30950E-03  1.12056E-02  9.70211E-03\\n  4.09284E-03  8.25765E-04  7.39139E-05  1.95625E-06\\n  3.14707E-06  5.34869E-05  4.06191E-04  1.46911E-03  2.58775E-03  2.23670E-03\\n  9.47239E-04  1.93676E-04  1.81499E-05  6.19127E-07\\n -1.70980E-06 -1.61065E-05 -8.47502E-05 -2.44824E-04 -3.79210E-04 -3.09680E-04\\n -1.33391E-04 -3.11825E-05 -4.21984E-06 -3.56327E-07\\n -8.59514E-06 -8.00966E-05 -4.16820E-04 -1.19283E-03 -1.83503E-03 -1.49281E-03\\n -6.42911E-04 -1.51090E-04 -2.07032E-05 -1.77831E-06\\n -2.74350E-05 -2.48692E-04 -1.25747E-03 -3.51336E-03 -5.30507E-03 -4.26838E-03\\n -1.83871E-03 -4.39041E-04 -6.22853E-05 -5.59212E-06\\n -5.50187E-05 -4.71891E-04 -2.24837E-03 -6.01944E-03 -8.63575E-03 -6.67972E-03\\n -2.87470E-03 -7.16303E-04 -1.10597E-04 -1.09131E-05\\n -6.81825E-05 -5.24023E-04 -2.17688E-03 -5.25867E-03 -6.24642E-03 -4.01120E-03\\n -1.72868E-03 -5.18274E-04 -1.04973E-04 -1.28647E-05\\n -5.06430E-05 -3.01979E-04 -7.02858E-04 -1.85031E-04  2.38447E-03  3.23768E-03\\n  1.34143E-03  1.42185E-04 -3.22844E-05 -8.62869E-06\\n -2.09870E-05 -4.17607E-05  5.92552E-04  3.61198E-03  7.75523E-03  7.23530E-03\\n  3.05690E-03  5.61357E-04  3.01172E-05 -2.70014E-06\\n -3.70627E-06  5.03029E-05  7.10621E-04  3.11194E-03  5.95524E-03  5.33316E-03\\n  2.26817E-03  4.46477E-04  3.53730E-05  1.25899E-07\\n  3.96791E-07  3.26819E-05  3.23372E-04  1.29344E-03  2.38575E-03  2.10689E-03\\n  8.97743E-04  1.81375E-04  1.60387E-05  3.83564E-07\\n  3.15691E-07  9.13465E-06  8.02758E-05  3.08276E-04  5.58648E-04  4.89800E-04\\n  2.08832E-04  4.27439E-05  3.97401E-06  1.29111E-07\\n -3.61928E-07 -3.02368E-06 -1.39037E-05 -3.53906E-05 -4.95148E-05 -3.76096E-05\\n -1.54673E-05 -3.52994E-06 -4.75687E-07 -4.05676E-08\\n -1.83878E-06 -1.52491E-05 -6.94458E-05 -1.74906E-04 -2.42364E-04 -1.82808E-04\\n -7.49717E-05 -1.71699E-05 -2.34041E-06 -2.02868E-07\\n -6.02743E-06 -4.90888E-05 -2.18208E-04 -5.34823E-04 -7.22534E-04 -5.34963E-04\\n -2.17878E-04 -5.04294E-05 -7.09374E-06 -6.41127E-07\\n -1.27010E-05 -1.00069E-04 -4.24449E-04 -9.83232E-04 -1.25409E-03 -8.87467E-04\\n -3.55321E-04 -8.45283E-05 -1.28093E-05 -1.26347E-06\\n -1.71338E-05 -1.27721E-04 -4.96410E-04 -1.01741E-03 -1.11466E-03 -6.81642E-04\\n -2.56414E-04 -6.74036E-05 -1.27006E-05 -1.51789E-06\\n -1.47249E-05 -1.00196E-04 -3.26239E-04 -4.65443E-04 -1.97106E-04  9.12991E-05\\n  7.21289E-05  3.20615E-06 -4.91738E-06 -1.06078E-06\\n -8.01240E-06 -4.66225E-05 -9.46356E-05  8.48109E-05  5.20820E-04  6.07854E-04\\n  2.80264E-04  5.20961E-05  2.26076E-06 -3.76957E-07\\n -2.73752E-06 -1.17671E-05  1.13094E-05  2.06691E-04  5.08357E-04  5.01547E-04\\n  2.22626E-04  4.42962E-05  3.36901E-06 -2.35735E-08\\n -5.79981E-07 -1.07348E-06  1.72772E-05  1.04354E-04  2.20322E-04  2.06432E-04\\n  9.04059E-05  1.84134E-05  1.59825E-06  3.08177E-08\\n -7.46119E-08  1.79641E-07  5.55316E-06  2.69777E-05  5.35430E-05  4.89685E-05\\n  2.13031E-05  4.38820E-06  4.03391E-07  1.19681E-08\\n -4.21841E-08 -3.26770E-07 -1.35205E-06 -3.03132E-06 -3.72253E-06 -2.51830E-06\\n -9.46323E-07 -2.03367E-07 -2.66394E-08 -2.26780E-09\\n -2.15605E-07 -1.66390E-06 -6.84452E-06 -1.52228E-05 -1.85182E-05 -1.24141E-05\\n -4.63616E-06 -9.96360E-07 -1.31669E-07 -1.13721E-08\\n -7.17150E-07 -5.48509E-06 -2.22470E-05 -4.85135E-05 -5.76349E-05 -3.77473E-05\\n -1.38749E-05 -2.98432E-06 -4.03866E-07 -3.61836E-08\\n -1.55048E-06 -1.16757E-05 -4.61764E-05 -9.70518E-05 -1.10000E-04 -6.85618E-05\\n -2.43179E-05 -5.24301E-06 -7.48480E-07 -7.22471E-08\\n -2.17659E-06 -1.60056E-05 -6.07848E-05 -1.19791E-04 -1.23775E-04 -6.88972E-05\\n -2.22436E-05 -4.83085E-06 -7.90234E-07 -8.89489E-08\\n -1.98250E-06 -1.40917E-05 -5.02614E-05 -8.83297E-05 -7.40503E-05 -2.82449E-05\\n -5.26174E-06 -1.21260E-06 -3.91749E-07 -6.53306E-08\\n -1.17122E-06 -7.94604E-06 -2.57204E-05 -3.60106E-05 -1.36479E-05  1.01519E-05\\n  8.55165E-06  1.76061E-06  2.33347E-08 -2.64222E-08\\n -4.48911E-07 -2.86165E-06 -7.93038E-06 -5.95649E-06  9.36755E-06  1.69047E-05\\n  8.92998E-06  1.87516E-06  1.32359E-07 -4.23374E-09\\n -1.11743E-07 -6.56400E-07 -1.38804E-06  9.01681E-07  6.76744E-06  8.16117E-06\\n  3.93950E-06  8.31231E-07  7.04085E-08  7.34205E-10\\n -1.80997E-08 -9.56690E-08 -1.13224E-07  6.00098E-07  1.94069E-06  2.07445E-06\\n  9.64822E-07  2.03991E-07  1.85310E-08  4.58933E-10\\n\",\"cube\");\n",
              "\tviewer_16754022696675334.setStyle({\"stick\": {}});\n",
              "\tviewer_16754022696675334.zoomTo();\n",
              "viewer_16754022696675334.render();\n",
              "});\n",
              "</script>"
            ]
          },
          "metadata": {}
        }
      ],
      "source": [
        "\n",
        "data = None\n",
        "with open(\"opt.cube\", \"r\") as infile:\n",
        "    data = infile.read()\n",
        "view = py3Dmol.view()\n",
        "view.addVolumetricData(\n",
        "    data,\n",
        "    \"cube\",\n",
        "    {\n",
        "        \"isoval\": 1.0,\n",
        "        \"volformat\": \"cube\",\n",
        "    },\n",
        ")\n",
        "view.addModel(data, \"cube\")\n",
        "view.setStyle({\"stick\": {}})\n",
        "view.zoomTo()\n",
        "view.show()"
      ]
    },
    {
      "cell_type": "code",
      "execution_count": null,
      "metadata": {
        "id": "vPFJLvRP-nK_"
      },
      "outputs": [],
      "source": []
    }
  ],
  "metadata": {
    "colab": {
      "provenance": [],
      "authorship_tag": "ABX9TyO+n+znJoj/3jx2SBccQXD+",
      "include_colab_link": true
    },
    "kernelspec": {
      "display_name": "Python 3",
      "name": "python3"
    },
    "language_info": {
      "name": "python"
    }
  },
  "nbformat": 4,
  "nbformat_minor": 0
}