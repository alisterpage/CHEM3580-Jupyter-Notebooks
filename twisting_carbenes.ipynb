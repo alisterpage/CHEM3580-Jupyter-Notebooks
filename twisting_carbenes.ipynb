{
  "cells": [
    {
      "cell_type": "markdown",
      "metadata": {
        "id": "view-in-github",
        "colab_type": "text"
      },
      "source": [
        "<a href=\"https://colab.research.google.com/github/alisterpage/CHEM3580-Jupyter-Notebooks/blob/main/twisting_carbenes.ipynb\" target=\"_parent\"><img src=\"https://colab.research.google.com/assets/colab-badge.svg\" alt=\"Open In Colab\"/></a>"
      ]
    },
    {
      "cell_type": "code",
      "execution_count": 12,
      "metadata": {
        "id": "kp6SqarFumzm"
      },
      "outputs": [],
      "source": [
        "!pip install pyscf geometric py3Dmol fortecubeview pythreejs -q 2>&1 >/dev/null"
      ]
    },
    {
      "cell_type": "code",
      "execution_count": 56,
      "metadata": {
        "id": "P-tsQOfkuAt-"
      },
      "outputs": [],
      "source": [
        "import pyscf\n",
        "from pyscf import gto, scf, tools, lo, lib, dft\n",
        "#from pyscf.geomopt.berny_solver import optimize\n",
        "from pyscf.geomopt.geometric_solver import optimize\n",
        "import py3Dmol\n",
        "import fortecubeview\n",
        "from google.colab import output\n",
        "output.enable_custom_widget_manager()\n",
        "import numpy as np\n",
        "from __future__ import print_function\n",
        "import sys\n",
        "log = lib.logger.Logger(sys.stdout, 6)\n",
        "log.verbose = 6"
      ]
    },
    {
      "cell_type": "code",
      "source": [
        "%%capture\n",
        "mol = gto.Mole()\n",
        "mol.atom = '''\n",
        "    H\n",
        "    H 1 1.8\n",
        "    H 2 1.8 1 60.0\n",
        "    C 1 1.1 2 35.2 3 45\n",
        "'''\n",
        "mol.basis = '6-31g(d)'\n",
        "mol.spin=1;\n",
        "mol.build();\n",
        "mf = scf.ROHF(mol)\n",
        "#mf.xc = 'b3lyp'\n",
        "\n",
        "# Optimize the geometry\n",
        "\n",
        "text = \"$freeze\\ndihedral 1 2 3 4\\n\"\n",
        "with open(\"constraints.txt\", \"w\") as f:\n",
        "    f.write(text)\n",
        "params = {\"constraints\": \"constraints.txt\",}\n",
        "mol_eq = optimize(mf, **params)\n",
        "#mol_eq = mf.Gradients().optimizer(solver='geomeTRIC').kernel(params)\n",
        "\n",
        "#print(mol_eq.atom_coords())\n",
        "\n",
        "# Get the optimized energy\n",
        "mf = scf.ROHF(mol_eq)\n",
        "#mf.xc = 'b3lyp'\n",
        "mf.scf()\n"
      ],
      "metadata": {
        "id": "b1S5o567coDv"
      },
      "execution_count": 59,
      "outputs": []
    },
    {
      "cell_type": "code",
      "source": [
        "mol = gto.Mole()\n",
        "mol.atom = '''\n",
        "    H\n",
        "    H 1 1.8\n",
        "    H 2 1.8 1 60.0\n",
        "    C 1 1.1 2 35.2 3 35\n",
        "'''"
      ],
      "metadata": {
        "id": "BePJ24qg4o2w"
      },
      "execution_count": null,
      "outputs": []
    },
    {
      "cell_type": "code",
      "source": [
        "mol.basis = '6-31g(d)'\n",
        "mol.spin=1;\n",
        "mol.build();\n",
        "#mf = scf.ROHF(mol)\n",
        "#mf.xc = 'b3lyp'\n",
        "mf = dft.RKS(mol)\n",
        "mf.xc = 'b3lyp'\n",
        "mf = mf.newton()\n",
        "mf.kernel()\n",
        "\n",
        "# Optimize the geometry\n",
        "\n",
        "text = \"$freeze\\ndihedral 1 2 3 4\\n\"\n",
        "with open(\"constraints.txt\", \"w\") as f:\n",
        "    f.write(text)\n",
        "params = {\"constraints\": \"constraints.txt\",}\n",
        "mol_eq = optimize(mf, **params)\n",
        "#mol_eq = mf.Gradients().optimizer(solver='geomeTRIC').kernel(params)\n",
        "\n",
        "#print(mol_eq.atom_coords())\n",
        "\n",
        "# Get the optimized energy\n",
        "mf = dft.RKS(mol_eq)\n",
        "#mf.xc = 'b3lyp'\n",
        "mf.kernel()"
      ],
      "metadata": {
        "colab": {
          "base_uri": "https://localhost:8080/"
        },
        "id": "oidfKFQ42McO",
        "outputId": "705ae2ec-121a-4bcd-f1ea-c68bc4e610f5"
      },
      "execution_count": 63,
      "outputs": [
        {
          "output_type": "stream",
          "name": "stdout",
          "text": [
            "converged SCF energy = -39.7808712107516\n"
          ]
        },
        {
          "output_type": "stream",
          "name": "stderr",
          "text": [
            "geometric-optimize called with the following command line:\n",
            "/usr/local/lib/python3.8/dist-packages/ipykernel_launcher.py -f /root/.local/share/jupyter/runtime/kernel-789fdfef-4925-4844-897d-4c7f1073845e.json\n",
            "\n",
            "                                        \u001b[91m())))))))))))))))/\u001b[0m                     \n",
            "                                    \u001b[91m())))))))))))))))))))))))),\u001b[0m                \n",
            "                                \u001b[91m*)))))))))))))))))))))))))))))))))\u001b[0m             \n",
            "                        \u001b[94m#,\u001b[0m    \u001b[91m()))))))))/\u001b[0m                \u001b[91m.)))))))))),\u001b[0m          \n",
            "                      \u001b[94m#%%%%,\u001b[0m  \u001b[91m())))))\u001b[0m                        \u001b[91m.))))))))*\u001b[0m        \n",
            "                      \u001b[94m*%%%%%%,\u001b[0m  \u001b[91m))\u001b[0m              \u001b[93m..\u001b[0m              \u001b[91m,))))))).\u001b[0m      \n",
            "                        \u001b[94m*%%%%%%,\u001b[0m         \u001b[93m***************/.\u001b[0m        \u001b[91m.)))))))\u001b[0m     \n",
            "                \u001b[94m#%%/\u001b[0m      \u001b[94m(%%%%%%,\u001b[0m    \u001b[93m/*********************.\u001b[0m       \u001b[91m)))))))\u001b[0m    \n",
            "              \u001b[94m.%%%%%%#\u001b[0m      \u001b[94m*%%%%%%,\u001b[0m  \u001b[93m*******/,\u001b[0m     \u001b[93m**********,\u001b[0m      \u001b[91m.))))))\u001b[0m   \n",
            "                \u001b[94m.%%%%%%/\u001b[0m      \u001b[94m*%%%%%%,\u001b[0m  \u001b[93m**\u001b[0m              \u001b[93m********\u001b[0m      \u001b[91m.))))))\u001b[0m  \n",
            "          \u001b[94m##\u001b[0m      \u001b[94m.%%%%%%/\u001b[0m      \u001b[94m(%%%%%%,\u001b[0m                  \u001b[93m,******\u001b[0m      \u001b[91m/)))))\u001b[0m  \n",
            "        \u001b[94m%%%%%%\u001b[0m      \u001b[94m.%%%%%%#\u001b[0m      \u001b[94m*%%%%%%,\u001b[0m    \u001b[92m,/////.\u001b[0m       \u001b[93m******\u001b[0m      \u001b[91m))))))\u001b[0m \n",
            "      \u001b[94m#%\u001b[0m      \u001b[94m%%\u001b[0m      \u001b[94m.%%%%%%/\u001b[0m      \u001b[94m*%%%%%%,\u001b[0m  \u001b[92m////////,\u001b[0m      \u001b[93m*****/\u001b[0m     \u001b[91m,)))))\u001b[0m \n",
            "    \u001b[94m#%%\u001b[0m  \u001b[94m%%%\u001b[0m  \u001b[94m%%%#\u001b[0m      \u001b[94m.%%%%%%/\u001b[0m      \u001b[94m(%%%%%%,\u001b[0m  \u001b[92m///////.\u001b[0m     \u001b[93m/*****\u001b[0m      \u001b[91m))))).\u001b[0m\n",
            "  \u001b[94m#%%%%.\u001b[0m      \u001b[94m%%%%%#\u001b[0m      \u001b[94m/%%%%%%*\u001b[0m      \u001b[94m#%%%%%%\u001b[0m   \u001b[92m/////)\u001b[0m     \u001b[93m******\u001b[0m      \u001b[91m))))),\u001b[0m\n",
            "    \u001b[94m#%%%%##%\u001b[0m  \u001b[94m%%%#\u001b[0m      \u001b[94m.%%%%%%/\u001b[0m      \u001b[94m(%%%%%%,\u001b[0m  \u001b[92m///////.\u001b[0m     \u001b[93m/*****\u001b[0m      \u001b[91m))))).\u001b[0m\n",
            "      \u001b[94m##\u001b[0m     \u001b[94m%%%\u001b[0m      \u001b[94m.%%%%%%/\u001b[0m      \u001b[94m*%%%%%%,\u001b[0m  \u001b[92m////////.\u001b[0m      \u001b[93m*****/\u001b[0m     \u001b[91m,)))))\u001b[0m \n",
            "        \u001b[94m#%%%%#\u001b[0m      \u001b[94m/%%%%%%/\u001b[0m      \u001b[94m(%%%%%%\u001b[0m      \u001b[92m/)/)//\u001b[0m       \u001b[93m******\u001b[0m      \u001b[91m))))))\u001b[0m \n",
            "          \u001b[94m##\u001b[0m      \u001b[94m.%%%%%%/\u001b[0m      \u001b[94m(%%%%%%,\u001b[0m                  \u001b[93m*******\u001b[0m      \u001b[91m))))))\u001b[0m  \n",
            "                \u001b[94m.%%%%%%/\u001b[0m      \u001b[94m*%%%%%%,\u001b[0m  \u001b[93m**.\u001b[0m             \u001b[93m/*******\u001b[0m      \u001b[91m.))))))\u001b[0m  \n",
            "              \u001b[94m*%%%%%%/\u001b[0m      \u001b[94m(%%%%%%\u001b[0m   \u001b[93m********/*..,*/*********\u001b[0m       \u001b[91m*))))))\u001b[0m   \n",
            "                \u001b[94m#%%/\u001b[0m      \u001b[94m(%%%%%%,\u001b[0m    \u001b[93m*********************/\u001b[0m        \u001b[91m)))))))\u001b[0m    \n",
            "                        \u001b[94m*%%%%%%,\u001b[0m         \u001b[93m,**************/\u001b[0m         \u001b[91m,))))))/\u001b[0m     \n",
            "                      \u001b[94m(%%%%%%\u001b[0m   \u001b[91m()\u001b[0m                              \u001b[91m))))))))\u001b[0m       \n",
            "                      \u001b[94m#%%%%,\u001b[0m  \u001b[91m())))))\u001b[0m                        \u001b[91m,)))))))),\u001b[0m        \n",
            "                        \u001b[94m#,\u001b[0m    \u001b[91m())))))))))\u001b[0m                \u001b[91m,)))))))))).\u001b[0m          \n",
            "                                 \u001b[91m()))))))))))))))))))))))))))))))/\u001b[0m             \n",
            "                                    \u001b[91m())))))))))))))))))))))))).\u001b[0m                \n",
            "                                         \u001b[91m())))))))))))))),\u001b[0m                     \n",
            "\n",
            "-=# \u001b[1;94m geomeTRIC started. Version: 1.0 \u001b[0m #=-\n",
            "Current date and time: 2023-02-03 06:02:50\n",
            "Custom engine selected.\n",
            "$freeze\n",
            "dihedral 1 2 3 4\n",
            "Bonds will be generated from interatomic distances less than 1.20 times sum of covalent radii\n",
            "12 internal coordinates being used (instead of 12 Cartesians)\n",
            "Internal coordinate system (atoms numbered from 1):\n",
            "Dihedral 1-2-3-4\n",
            "Distance 1-4\n",
            "Distance 2-4\n",
            "Distance 3-4\n",
            "Angle 1-4-2\n",
            "Angle 1-4-3\n",
            "Angle 2-4-3\n",
            "Translation-X 1-4\n",
            "Translation-Y 1-4\n",
            "Translation-Z 1-4\n",
            "Rotation-A 1-4\n",
            "Rotation-B 1-4\n",
            "Rotation-C 1-4\n",
            "<class 'geometric.internal.Dihedral'> : 1\n",
            "<class 'geometric.internal.Distance'> : 3\n",
            "<class 'geometric.internal.Angle'> : 3\n",
            "<class 'geometric.internal.TranslationX'> : 1\n",
            "<class 'geometric.internal.TranslationY'> : 1\n",
            "<class 'geometric.internal.TranslationZ'> : 1\n",
            "<class 'geometric.internal.RotationA'> : 1\n",
            "<class 'geometric.internal.RotationB'> : 1\n",
            "<class 'geometric.internal.RotationC'> : 1\n",
            "Constraint                         Current      Target       Diff.\n",
            "Dihedral 1-2-3-4                 -38.87112   -38.87112     0.00000\n",
            "> ===== Optimization Info: ====\n",
            "> Job type: Energy minimization\n",
            "> Maximum number of optimization cycles: 300\n",
            "> Initial / maximum trust radius (Angstrom): 0.100 / 0.300\n",
            "> Convergence Criteria:\n",
            "> Will converge when all 5 criteria are reached:\n",
            ">  |Delta-E| < 1.00e-06\n",
            ">  RMS-Ortho-Grad < 3.00e-04\n",
            ">  Max-Ortho-Grad < 4.50e-04\n",
            ">  RMS-Disp  < 1.20e-03\n",
            ">  Max-Disp  < 1.80e-03\n",
            "> \n",
            "> Constraints are requested. The following criterion is added:\n",
            ">  Max Constraint Violation (in Angstroms/degrees) < 1.00e-02 \n",
            "> === End Optimization Info ===\n"
          ]
        },
        {
          "output_type": "stream",
          "name": "stdout",
          "text": [
            "\n",
            "Geometry optimization cycle 1\n",
            "Cartesian coordinates (Angstrom)\n",
            " Atom        New coordinates             dX        dY        dZ\n",
            "   H   0.000000   0.000000   0.000000    0.000000  0.000000  0.000000\n",
            "   H   1.800000   0.000000   0.000000    0.000000  0.000000  0.000000\n",
            "   H   0.900000   0.000000   1.558846    0.000000  0.000000  0.000000\n",
            "   C   0.898859   0.448359   0.448359    0.000000  0.000000  0.000000\n",
            "converged SCF energy = -39.7808712107687\n",
            "--------------- SCF_Scanner gradients ---------------\n",
            "         x                y                z\n",
            "0 H     0.0014321608    -0.0185626841     0.0071421204\n",
            "1 H    -0.0004504362    -0.0190276677     0.0067591585\n",
            "2 H     0.0001377068    -0.0354998005     0.0364340233\n",
            "3 C    -0.0011193921     0.0730898780    -0.0503346887\n",
            "----------------------------------------------\n",
            "cycle 1: E = -39.7808712108  dE = -39.7809  norm(grad) = 0.106161\n"
          ]
        },
        {
          "output_type": "stream",
          "name": "stderr",
          "text": [
            "Step    0 : Gradient = 4.886e-02/7.897e-02 (rms/max) Energy = -39.7808712108\n",
            "Hessian Eigenvalues: 5.00000e-02 5.00000e-02 5.00000e-02 ... 2.48063e-01 3.32652e-01 3.35440e-01\n"
          ]
        },
        {
          "output_type": "stream",
          "name": "stdout",
          "text": [
            "\n",
            "Geometry optimization cycle 2\n",
            "Cartesian coordinates (Angstrom)\n",
            " Atom        New coordinates             dX        dY        dZ\n",
            "   H   0.021014   0.007745   0.003223    0.021014  0.007745  0.003223\n",
            "   H   1.789370   0.024450  -0.056283   -0.010630  0.024450 -0.056283\n",
            "   H   0.855898   0.039427   1.546429   -0.044102  0.039427 -0.012417\n",
            "   C   0.932576   0.376750   0.513810    0.033716 -0.071609  0.065451\n",
            "\n",
            "WARN: Large deviations found between the input molecule and the molecule from chkfile\n",
            "Initial guess density matrix may have large error.\n",
            "\n",
            "converged SCF energy = -39.7933762218035\n",
            "--------------- SCF_Scanner gradients ---------------\n",
            "         x                y                z\n",
            "0 H    -0.0023920684    -0.0170878818     0.0004501012\n",
            "1 H    -0.0093985361    -0.0103853110    -0.0042500547\n",
            "2 H    -0.0098624592    -0.0109958895    -0.0058127409\n",
            "3 C     0.0216530366     0.0384698979     0.0096117847\n",
            "----------------------------------------------\n",
            "cycle 2: E = -39.7933762218  dE = -0.012505  norm(grad) = 0.0529652\n"
          ]
        },
        {
          "output_type": "stream",
          "name": "stderr",
          "text": [
            "Step    1 : Displace = \u001b[0m6.818e-02\u001b[0m/\u001b[0m1.027e-01\u001b[0m (rms/max) Trust = 1.000e-01 (=) Grad_T = \u001b[0m6.269e-03\u001b[0m/\u001b[0m1.005e-02\u001b[0m (rms/max) E (change) = -39.7933762218 (\u001b[0m-1.251e-02\u001b[0m) Quality = \u001b[0m1.200\u001b[0m\n",
            "Constraint                         Current      Target       Diff.\n",
            "Dihedral 1-2-3-4                 -38.18096   -38.87112     0.69015\n",
            "Hessian Eigenvalues: 5.00000e-02 5.00000e-02 5.00000e-02 ... 2.59245e-01 3.32205e-01 3.35364e-01\n"
          ]
        },
        {
          "output_type": "stream",
          "name": "stdout",
          "text": [
            "\n",
            "Geometry optimization cycle 3\n",
            "Cartesian coordinates (Angstrom)\n",
            " Atom        New coordinates             dX        dY        dZ\n",
            "   H   0.033001   0.009451  -0.000675    0.011987  0.001706 -0.003899\n",
            "   H   1.780235   0.031102  -0.077420   -0.009135  0.006652 -0.021137\n",
            "   H   0.843012   0.048145   1.558309   -0.012886  0.008718  0.011880\n",
            "   C   0.942611   0.359633   0.527010    0.010036 -0.017117  0.013200\n",
            "\n",
            "WARN: Large deviations found between the input molecule and the molecule from chkfile\n",
            "Initial guess density matrix may have large error.\n",
            "\n",
            "converged SCF energy = -39.7935383787846\n",
            "--------------- SCF_Scanner gradients ---------------\n",
            "         x                y                z\n",
            "0 H    -0.0014226349    -0.0163283101    -0.0016909205\n",
            "1 H    -0.0134648880    -0.0082073211    -0.0073343052\n",
            "2 H    -0.0122452095    -0.0076289892    -0.0086959003\n",
            "3 C     0.0271328084     0.0321661464     0.0177212583\n",
            "----------------------------------------------\n",
            "cycle 3: E = -39.7935383788  dE = -0.000162157  norm(grad) = 0.0542458\n"
          ]
        },
        {
          "output_type": "stream",
          "name": "stderr",
          "text": [
            "Step    2 : Displace = \u001b[0m2.053e-02\u001b[0m/\u001b[0m2.380e-02\u001b[0m (rms/max) Trust = 1.414e-01 (\u001b[92m+\u001b[0m) Grad_T = \u001b[0m1.133e-03\u001b[0m/\u001b[0m1.735e-03\u001b[0m (rms/max) E (change) = -39.7935383788 (\u001b[0m-1.622e-04\u001b[0m) Quality = \u001b[0m1.124\u001b[0m\n",
            "Constraint                         Current      Target       Diff.\n",
            "Dihedral 1-2-3-4                 -38.06237   -38.87112     0.80875\n",
            "Hessian Eigenvalues: 5.00000e-02 5.00000e-02 5.00000e-02 ... 2.69759e-01 3.33181e-01 3.35869e-01\n"
          ]
        },
        {
          "output_type": "stream",
          "name": "stdout",
          "text": [
            "\n",
            "Geometry optimization cycle 4\n",
            "Cartesian coordinates (Angstrom)\n",
            " Atom        New coordinates             dX        dY        dZ\n",
            "   H   0.035393   0.008633   0.000171    0.002392 -0.000818  0.000847\n",
            "   H   1.779219   0.031236  -0.081412   -0.001016  0.000134 -0.003992\n",
            "   H   0.839644   0.048044   1.561073   -0.003368 -0.000101  0.002765\n",
            "   C   0.944600   0.360350   0.527386    0.001989  0.000717  0.000376\n",
            "converged SCF energy = -39.7932385798147\n",
            "--------------- SCF_Scanner gradients ---------------\n",
            "         x                y                z\n",
            "0 H    -0.0011102400    -0.0164619391    -0.0015619862\n",
            "1 H    -0.0137193783    -0.0082015365    -0.0079681230\n",
            "2 H    -0.0130227112    -0.0081244972    -0.0067322110\n",
            "3 C     0.0278523346     0.0327893567     0.0162624965\n",
            "----------------------------------------------\n",
            "cycle 4: E = -39.7932385798  dE = 0.000299799  norm(grad) = 0.0546803\n"
          ]
        },
        {
          "output_type": "stream",
          "name": "stderr",
          "text": [
            "Step    3 : Displace = \u001b[0m3.450e-03\u001b[0m/\u001b[0m4.434e-03\u001b[0m (rms/max) Trust = 2.000e-01 (\u001b[92m+\u001b[0m) Grad_T = \u001b[0m3.637e-04\u001b[0m/\u001b[0m5.219e-04\u001b[0m (rms/max) E (change) = -39.7932385798 (\u001b[0m+2.998e-04\u001b[0m) Quality = \u001b[0m0.998\u001b[0m\n",
            "Constraint                         Current      Target       Diff.\n",
            "Dihedral 1-2-3-4                 -38.42702   -38.87112     0.44409\n",
            "Hessian Eigenvalues: 4.99985e-02 5.00000e-02 5.00000e-02 ... 3.23652e-01 3.34251e-01 3.76696e-01\n"
          ]
        },
        {
          "output_type": "stream",
          "name": "stdout",
          "text": [
            "\n",
            "Geometry optimization cycle 5\n",
            "Cartesian coordinates (Angstrom)\n",
            " Atom        New coordinates             dX        dY        dZ\n",
            "   H   0.035908   0.008101   0.001150    0.000515 -0.000532  0.000978\n",
            "   H   1.779011   0.031007  -0.081859   -0.000208 -0.000228 -0.000448\n",
            "   H   0.838617   0.047895   1.560173   -0.001026 -0.000149 -0.000900\n",
            "   C   0.945319   0.361191   0.527747    0.000719  0.000841  0.000361\n",
            "converged SCF energy = -39.7930688380251\n",
            "--------------- SCF_Scanner gradients ---------------\n",
            "         x                y                z\n",
            "0 H    -0.0011797649    -0.0166308839    -0.0014709804\n",
            "1 H    -0.0137843577    -0.0082497460    -0.0080642229\n",
            "2 H    -0.0131979942    -0.0080439022    -0.0073445071\n",
            "3 C     0.0281620785     0.0329258259     0.0168798901\n",
            "----------------------------------------------\n",
            "cycle 5: E = -39.793068838  dE = 0.000169742  norm(grad) = 0.0553011\n"
          ]
        },
        {
          "output_type": "stream",
          "name": "stderr",
          "text": [
            "Step    4 : Displace = \u001b[92m1.120e-03\u001b[0m/\u001b[92m1.383e-03\u001b[0m (rms/max) Trust = 2.828e-01 (\u001b[92m+\u001b[0m) Grad_T = \u001b[92m9.445e-05\u001b[0m/\u001b[92m1.390e-04\u001b[0m (rms/max) E (change) = -39.7930688380 (\u001b[0m+1.697e-04\u001b[0m) Quality = \u001b[0m0.999\u001b[0m\n",
            "Constraint                         Current      Target       Diff.\n",
            "Dihedral 1-2-3-4                 -38.64029   -38.87112     0.23083\n",
            "Hessian Eigenvalues: 4.99764e-02 5.00000e-02 5.00000e-02 ... 3.26910e-01 3.36024e-01 3.72180e-01\n"
          ]
        },
        {
          "output_type": "stream",
          "name": "stdout",
          "text": [
            "\n",
            "Geometry optimization cycle 6\n",
            "Cartesian coordinates (Angstrom)\n",
            " Atom        New coordinates             dX        dY        dZ\n",
            "   H   0.036068   0.007788   0.001360    0.000160 -0.000313  0.000210\n",
            "   H   1.778787   0.030775  -0.081918   -0.000224 -0.000232 -0.000059\n",
            "   H   0.838375   0.047731   1.559939   -0.000242 -0.000164 -0.000235\n",
            "   C   0.945627   0.361818   0.527819    0.000308  0.000627  0.000072\n",
            "converged SCF energy = -39.7929798032984\n",
            "--------------- SCF_Scanner gradients ---------------\n",
            "         x                y                z\n",
            "0 H    -0.0012963355    -0.0167584377    -0.0015097009\n",
            "1 H    -0.0138820658    -0.0082704088    -0.0080433133\n",
            "2 H    -0.0132548171    -0.0080826582    -0.0074084568\n",
            "3 C     0.0284331690     0.0331127550     0.0169616280\n",
            "----------------------------------------------\n",
            "cycle 6: E = -39.7929798033  dE = 8.90347e-05  norm(grad) = 0.0556697\n"
          ]
        },
        {
          "output_type": "stream",
          "name": "stderr",
          "text": [
            "Step    5 : Displace = \u001b[92m4.742e-04\u001b[0m/\u001b[92m7.221e-04\u001b[0m (rms/max) Trust = 3.000e-01 (\u001b[92m+\u001b[0m) Grad_T = \u001b[92m1.624e-05\u001b[0m/\u001b[92m2.247e-05\u001b[0m (rms/max) E (change) = -39.7929798033 (\u001b[0m+8.903e-05\u001b[0m) Quality = \u001b[0m1.000\u001b[0m\n",
            "Constraint                         Current      Target       Diff.\n",
            "Dihedral 1-2-3-4                 -38.75424   -38.87112     0.11688\n",
            "Hessian Eigenvalues: 4.98636e-02 5.00000e-02 5.00000e-02 ... 3.21122e-01 3.39962e-01 3.72339e-01\n"
          ]
        },
        {
          "output_type": "stream",
          "name": "stdout",
          "text": [
            "\n",
            "Geometry optimization cycle 7\n",
            "Cartesian coordinates (Angstrom)\n",
            " Atom        New coordinates             dX        dY        dZ\n",
            "   H   0.036249   0.007632   0.001444    0.000181 -0.000155  0.000085\n",
            "   H   1.778628   0.030622  -0.082033   -0.000158 -0.000153 -0.000115\n",
            "   H   0.838227   0.047666   1.559884   -0.000148 -0.000065 -0.000055\n",
            "   C   0.945757   0.362104   0.527893    0.000129  0.000286  0.000074\n",
            "converged SCF energy = -39.7929345371536\n",
            "--------------- SCF_Scanner gradients ---------------\n",
            "         x                y                z\n",
            "0 H    -0.0013019475    -0.0168080454    -0.0015186902\n",
            "1 H    -0.0139138976    -0.0082913958    -0.0080657042\n",
            "2 H    -0.0132845721    -0.0080996209    -0.0074283193\n",
            "3 C     0.0285003644     0.0332002913     0.0170128575\n",
            "----------------------------------------------\n",
            "cycle 7: E = -39.7929345372  dE = 4.52661e-05  norm(grad) = 0.0558135\n"
          ]
        },
        {
          "output_type": "stream",
          "name": "stderr",
          "text": [
            "Step    6 : Displace = \u001b[92m2.514e-04\u001b[0m/\u001b[92m3.436e-04\u001b[0m (rms/max) Trust = 3.000e-01 (=) Grad_T = \u001b[92m2.840e-06\u001b[0m/\u001b[92m3.752e-06\u001b[0m (rms/max) E (change) = -39.7929345372 (\u001b[0m+4.527e-05\u001b[0m) Quality = \u001b[0m1.000\u001b[0m\n",
            "Constraint                         Current      Target       Diff.\n",
            "Dihedral 1-2-3-4                 -38.81159   -38.87112     0.05952\n",
            "Hessian Eigenvalues: 4.93085e-02 5.00000e-02 5.00000e-02 ... 3.20830e-01 3.39878e-01 3.72312e-01\n"
          ]
        },
        {
          "output_type": "stream",
          "name": "stdout",
          "text": [
            "\n",
            "Geometry optimization cycle 8\n",
            "Cartesian coordinates (Angstrom)\n",
            " Atom        New coordinates             dX        dY        dZ\n",
            "   H   0.036350   0.007555   0.001489    0.000101 -0.000078  0.000045\n",
            "   H   1.778538   0.030515  -0.082101   -0.000090 -0.000106 -0.000069\n",
            "   H   0.838143   0.047634   1.559858   -0.000084 -0.000032 -0.000026\n",
            "   C   0.945834   0.362225   0.527931    0.000077  0.000120  0.000038\n",
            "converged SCF energy = -39.7929114441221\n",
            "--------------- SCF_Scanner gradients ---------------\n",
            "         x                y                z\n",
            "0 H    -0.0013013232    -0.0168315379    -0.0015218240\n",
            "1 H    -0.0139359129    -0.0082995791    -0.0080760821\n",
            "2 H    -0.0133015082    -0.0081067996    -0.0074397176\n",
            "3 C     0.0285386905     0.0332391351     0.0170377607\n",
            "----------------------------------------------\n",
            "cycle 8: E = -39.7929114441  dE = 2.3093e-05  norm(grad) = 0.0558857\n"
          ]
        },
        {
          "output_type": "stream",
          "name": "stderr",
          "text": [
            "Step    7 : Displace = \u001b[92m1.306e-04\u001b[0m/\u001b[92m1.680e-04\u001b[0m (rms/max) Trust = 3.000e-01 (=) Grad_T = \u001b[92m9.149e-07\u001b[0m/\u001b[92m1.118e-06\u001b[0m (rms/max) E (change) = -39.7929114441 (\u001b[0m+2.309e-05\u001b[0m) Quality = \u001b[0m1.000\u001b[0m\n",
            "Constraint                         Current      Target       Diff.\n",
            "Dihedral 1-2-3-4                 -38.84056   -38.87112     0.03055\n",
            "Hessian Eigenvalues: 4.74688e-02 5.00000e-02 5.00000e-02 ... 3.20845e-01 3.39888e-01 3.72238e-01\n"
          ]
        },
        {
          "output_type": "stream",
          "name": "stdout",
          "text": [
            "\n",
            "Geometry optimization cycle 9\n",
            "Cartesian coordinates (Angstrom)\n",
            " Atom        New coordinates             dX        dY        dZ\n",
            "   H   0.036400   0.007508   0.001519    0.000050 -0.000046  0.000030\n",
            "   H   1.778494   0.030430  -0.082139   -0.000044 -0.000085 -0.000037\n",
            "   H   0.838094   0.047619   1.559840   -0.000049 -0.000015 -0.000017\n",
            "   C   0.945881   0.362271   0.527945    0.000047  0.000046  0.000013\n",
            "converged SCF energy = -39.7928995798071\n",
            "--------------- SCF_Scanner gradients ---------------\n",
            "         x                y                z\n",
            "0 H    -0.0013013433    -0.0168432624    -0.0015215719\n",
            "1 H    -0.0139474378    -0.0083030473    -0.0080809472\n",
            "2 H    -0.0133113800    -0.0081099625    -0.0074470782\n",
            "3 C     0.0285601072     0.0332574848     0.0170497305\n",
            "----------------------------------------------\n",
            "cycle 9: E = -39.7928995798  dE = 1.18643e-05  norm(grad) = 0.0559226\n"
          ]
        },
        {
          "output_type": "stream",
          "name": "stderr",
          "text": [
            "Step    8 : Displace = \u001b[92m6.745e-05\u001b[0m/\u001b[92m8.492e-05\u001b[0m (rms/max) Trust = 3.000e-01 (=) Grad_T = \u001b[92m7.454e-07\u001b[0m/\u001b[92m1.029e-06\u001b[0m (rms/max) E (change) = -39.7928995798 (\u001b[0m+1.186e-05\u001b[0m) Quality = \u001b[0m1.000\u001b[0m\n",
            "Constraint                         Current      Target       Diff.\n",
            "Dihedral 1-2-3-4                 -38.85540   -38.87112     0.01571\n",
            "Hessian Eigenvalues: 4.28180e-02 4.99999e-02 5.00000e-02 ... 3.20831e-01 3.39855e-01 3.72261e-01\n"
          ]
        },
        {
          "output_type": "stream",
          "name": "stdout",
          "text": [
            "\n",
            "Geometry optimization cycle 10\n",
            "Cartesian coordinates (Angstrom)\n",
            " Atom        New coordinates             dX        dY        dZ\n",
            "   H   0.036423   0.007477   0.001535    0.000024 -0.000031  0.000016\n",
            "   H   1.778471   0.030354  -0.082158   -0.000023 -0.000077 -0.000020\n",
            "   H   0.838069   0.047612   1.559831   -0.000025 -0.000006 -0.000010\n",
            "   C   0.945909   0.362281   0.527946    0.000029  0.000010  0.000001\n",
            "converged SCF energy = -39.7928934761939\n",
            "--------------- SCF_Scanner gradients ---------------\n",
            "         x                y                z\n",
            "0 H    -0.0013016446    -0.0168494399    -0.0015210220\n",
            "1 H    -0.0139538087    -0.0083055639    -0.0080830671\n",
            "2 H    -0.0133167830    -0.0081115689    -0.0074502313\n",
            "3 C     0.0285721828     0.0332677823     0.0170544511\n",
            "----------------------------------------------\n",
            "cycle 10: E = -39.7928934762  dE = 6.10361e-06  norm(grad) = 0.0559424\n"
          ]
        },
        {
          "output_type": "stream",
          "name": "stderr",
          "text": [
            "Step    9 : Displace = \u001b[92m3.466e-05\u001b[0m/\u001b[92m4.375e-05\u001b[0m (rms/max) Trust = 3.000e-01 (=) Grad_T = \u001b[92m5.686e-07\u001b[0m/\u001b[92m9.394e-07\u001b[0m (rms/max) E (change) = -39.7928934762 (\u001b[0m+6.104e-06\u001b[0m) Quality = \u001b[0m1.000\u001b[0m\n",
            "Constraint                         Current      Target       Diff.\n",
            "Dihedral 1-2-3-4                 -38.86304   -38.87112     0.00807\n",
            "Hessian Eigenvalues: 3.83925e-02 4.99968e-02 5.00000e-02 ... 3.20886e-01 3.39876e-01 3.72170e-01\n"
          ]
        },
        {
          "output_type": "stream",
          "name": "stdout",
          "text": [
            "\n",
            "Geometry optimization cycle 11\n",
            "Cartesian coordinates (Angstrom)\n",
            " Atom        New coordinates             dX        dY        dZ\n",
            "   H   0.036436   0.007449   0.001543    0.000013 -0.000028  0.000008\n",
            "   H   1.778460   0.030303  -0.082172   -0.000011 -0.000051 -0.000014\n",
            "   H   0.838055   0.047595   1.559825   -0.000013 -0.000017 -0.000006\n",
            "   C   0.945926   0.362272   0.527947    0.000016 -0.000009  0.000001\n",
            "converged SCF energy = -39.7928903393735\n",
            "--------------- SCF_Scanner gradients ---------------\n",
            "         x                y                z\n",
            "0 H    -0.0013022522    -0.0168525056    -0.0015209209\n",
            "1 H    -0.0139568385    -0.0083057702    -0.0080845500\n",
            "2 H    -0.0133197764    -0.0081122375    -0.0074523613\n",
            "3 C     0.0285788138     0.0332717214     0.0170579615\n",
            "----------------------------------------------\n",
            "cycle 11: E = -39.7928903394  dE = 3.13682e-06  norm(grad) = 0.0559522\n"
          ]
        },
        {
          "output_type": "stream",
          "name": "stderr",
          "text": [
            "Step   10 : Displace = \u001b[92m1.801e-05\u001b[0m/\u001b[92m2.191e-05\u001b[0m (rms/max) Trust = 3.000e-01 (=) Grad_T = \u001b[92m6.318e-07\u001b[0m/\u001b[92m1.009e-06\u001b[0m (rms/max) E (change) = -39.7928903394 (\u001b[0m+3.137e-06\u001b[0m) Quality = \u001b[0m1.000\u001b[0m\n",
            "Constraint                         Current      Target       Diff.\n",
            "Dihedral 1-2-3-4                 -38.86693   -38.87112     0.00419\n",
            "Hessian Eigenvalues: 2.47176e-02 4.99825e-02 5.00000e-02 ... 3.21206e-01 3.39939e-01 3.72940e-01\n"
          ]
        },
        {
          "output_type": "stream",
          "name": "stdout",
          "text": [
            "\n",
            "Geometry optimization cycle 12\n",
            "Cartesian coordinates (Angstrom)\n",
            " Atom        New coordinates             dX        dY        dZ\n",
            "   H   0.036442   0.007425   0.001546    0.000006 -0.000024  0.000003\n",
            "   H   1.778453   0.030243  -0.082178   -0.000007 -0.000059 -0.000006\n",
            "   H   0.838051   0.047584   1.559820   -0.000005 -0.000011 -0.000004\n",
            "   C   0.945936   0.362254   0.527942    0.000011 -0.000018 -0.000005\n",
            "converged SCF energy = -39.7928887122126\n",
            "--------------- SCF_Scanner gradients ---------------\n",
            "         x                y                z\n",
            "0 H    -0.0013022955    -0.0168539951    -0.0015205670\n",
            "1 H    -0.0139586421    -0.0083062372    -0.0080847774\n",
            "2 H    -0.0133210415    -0.0081126000    -0.0074529614\n",
            "3 C     0.0285819264     0.0332740394     0.0170584337\n",
            "----------------------------------------------\n",
            "cycle 12: E = -39.7928887122  dE = 1.62716e-06  norm(grad) = 0.0559567\n"
          ]
        },
        {
          "output_type": "stream",
          "name": "stderr",
          "text": [
            "Step   11 : Displace = \u001b[92m9.244e-06\u001b[0m/\u001b[92m1.213e-05\u001b[0m (rms/max) Trust = 3.000e-01 (=) Grad_T = \u001b[92m4.504e-07\u001b[0m/\u001b[92m8.496e-07\u001b[0m (rms/max) E (change) = -39.7928887122 (\u001b[0m+1.627e-06\u001b[0m) Quality = \u001b[0m1.000\u001b[0m\n",
            "Constraint                         Current      Target       Diff.\n",
            "Dihedral 1-2-3-4                 -38.86899   -38.87112     0.00213\n",
            "Hessian Eigenvalues: 1.34503e-02 4.99902e-02 5.00000e-02 ... 3.21622e-01 3.41028e-01 3.72917e-01\n"
          ]
        },
        {
          "output_type": "stream",
          "name": "stdout",
          "text": [
            "\n",
            "Geometry optimization cycle 13\n",
            "Cartesian coordinates (Angstrom)\n",
            " Atom        New coordinates             dX        dY        dZ\n",
            "   H   0.036444   0.007397   0.001548    0.000002 -0.000028  0.000001\n",
            "   H   1.778450   0.030177  -0.082184   -0.000004 -0.000067 -0.000005\n",
            "   H   0.838049   0.047570   1.559817   -0.000001 -0.000014 -0.000004\n",
            "   C   0.945946   0.362225   0.527934    0.000009 -0.000029 -0.000007\n",
            "converged SCF energy = -39.7928878853942\n",
            "--------------- SCF_Scanner gradients ---------------\n",
            "         x                y                z\n",
            "0 H    -0.0013026444    -0.0168547827    -0.0015202587\n",
            "1 H    -0.0139594024    -0.0083064518    -0.0080849526\n",
            "2 H    -0.0133217952    -0.0081127448    -0.0074531079\n",
            "3 C     0.0285837903     0.0332751860     0.0170584457\n",
            "----------------------------------------------\n",
            "cycle 13: E = -39.7928878854  dE = 8.26818e-07  norm(grad) = 0.0559591\n"
          ]
        },
        {
          "output_type": "stream",
          "name": "stderr",
          "text": [
            "Step   12 : Displace = \u001b[92m4.650e-06\u001b[0m/\u001b[92m6.256e-06\u001b[0m (rms/max) Trust = 3.000e-01 (=) Grad_T = \u001b[92m4.145e-07\u001b[0m/\u001b[92m7.029e-07\u001b[0m (rms/max) E (change) = -39.7928878854 (\u001b[92m+8.268e-07\u001b[0m) Quality = \u001b[0m1.000\u001b[0m\n",
            "Constraint                         Current      Target       Diff.\n",
            "Dihedral 1-2-3-4                 -38.87004   -38.87112     0.00108\n",
            "Hessian Eigenvalues: 1.34503e-02 4.99902e-02 5.00000e-02 ... 3.21622e-01 3.41028e-01 3.72917e-01\n",
            "Converged! =D\n",
            "\n",
            "    #==========================================================================#\n",
            "    #| If this code has benefited your research, please support us by citing: |#\n",
            "    #|                                                                        |#\n",
            "    #| Wang, L.-P.; Song, C.C. (2016) \"Geometry optimization made simple with |#\n",
            "    #| translation and rotation coordinates\", J. Chem, Phys. 144, 214108.     |#\n",
            "    #| http://dx.doi.org/10.1063/1.4952956                                    |#\n",
            "    #==========================================================================#\n",
            "    Time elapsed since start of run_optimizer: 22.202 seconds\n"
          ]
        },
        {
          "output_type": "stream",
          "name": "stdout",
          "text": [
            "converged SCF energy = -39.4069613136903\n"
          ]
        },
        {
          "output_type": "execute_result",
          "data": {
            "text/plain": [
              "-39.406961313690275"
            ]
          },
          "metadata": {},
          "execution_count": 63
        }
      ]
    },
    {
      "cell_type": "code",
      "source": [
        "print('Final Energy:', mf.e_tot,\"Hartree\\n\")\n"
      ],
      "metadata": {
        "colab": {
          "base_uri": "https://localhost:8080/"
        },
        "id": "nTnry5TZdc-i",
        "outputId": "3a5c8f30-22c7-42bf-a5d8-226b13953351"
      },
      "execution_count": 64,
      "outputs": [
        {
          "output_type": "stream",
          "name": "stdout",
          "text": [
            "Final Energy: -39.406961313690275 Hartree\n",
            "\n"
          ]
        }
      ]
    },
    {
      "cell_type": "code",
      "execution_count": 65,
      "metadata": {
        "id": "HA2zdpXG0hJQ",
        "colab": {
          "base_uri": "https://localhost:8080/"
        },
        "outputId": "46d97578-3793-4f82-873d-ac49d8deb754"
      },
      "outputs": [
        {
          "output_type": "stream",
          "name": "stdout",
          "text": [
            " Iterative localization: IB/P4/2x2, 6 iter; Final gradient 4.48e-10\n",
            " Iterative localization: IB/P4/2x2, 5 iter; Final gradient 7.08e-10\n"
          ]
        }
      ],
      "source": [
        "%%capture \n",
        "def get_mo(mf, mol):\n",
        "    \"\"\"Get molecular orbitals\"\"\"\n",
        "    orbitals = {\"canonical\": mf.mo_coeff}\n",
        "\n",
        "    # Get intrinsic bonding orbitals and localized intrinsic valence virtual orbitals (livvo):\n",
        "    orbocc = mf.mo_coeff[:, 0 : mol.nelec[0]]\n",
        "    orbvirt = mf.mo_coeff[:, mol.nelec[0] :]\n",
        "\n",
        "    ovlpS = mol.intor_symmetric(\"int1e_ovlp\")\n",
        "\n",
        "    iaos = lo.iao.iao(mol, orbocc)\n",
        "    iaos = lo.orth.vec_lowdin(iaos, ovlpS)\n",
        "    ibos = lo.ibo.ibo(mol, orbocc, locmethod=\"IBO\")\n",
        "    orbitals[\"ibo\"] = ibos\n",
        "\n",
        "    livvo = lo.vvo.livvo(mol, orbocc, orbvirt)\n",
        "    orbitals[\"livvo\"] = livvo\n",
        "    return orbitals\n",
        "\n",
        "orbitals = get_mo(mf, mol_eq);"
      ]
    },
    {
      "cell_type": "code",
      "execution_count": 66,
      "metadata": {
        "id": "xxFUUXJFS7X7"
      },
      "outputs": [],
      "source": [
        "def find_homo_lumo(mf):\n",
        "    lumo = float(\"inf\")\n",
        "    lumo_idx = None\n",
        "    homo = -float(\"inf\")\n",
        "    homo_idx = None\n",
        "    for i, (energy, occ) in enumerate(zip(mf.mo_energy, mf.mo_occ)):\n",
        "        if occ > 0 and energy > homo:\n",
        "            homo = energy\n",
        "            homo_idx = i\n",
        "        if occ == 0 and energy < lumo:\n",
        "            lumo = energy\n",
        "            lumo_idx = i\n",
        "\n",
        "    return homo, homo_idx, lumo, lumo_idx\n",
        "\n",
        "_, homo_idx, _, lumo_idx = find_homo_lumo(mf)"
      ]
    },
    {
      "cell_type": "code",
      "execution_count": 67,
      "metadata": {
        "id": "ZQDoNq1aVtvi"
      },
      "outputs": [],
      "source": [
        "tools.cubegen.orbital(\n",
        "    mol, \"opt.cube\", orbitals[\"canonical\"][:, homo_idx], margin=5,nx=10,ny=10,nz=10\n",
        ");"
      ]
    },
    {
      "cell_type": "code",
      "execution_count": 68,
      "metadata": {
        "colab": {
          "base_uri": "https://localhost:8080/",
          "height": 497
        },
        "id": "XHY5N_JjSMM1",
        "outputId": "cf3fdcfe-5c20-40f7-9d54-71f7d4fbe4a5"
      },
      "outputs": [
        {
          "output_type": "display_data",
          "data": {
            "application/3dmoljs_load.v0": "<div id=\"3dmolviewer_16754042764767122\"  style=\"position: relative; width: 640px; height: 480px\">\n        <p id=\"3dmolwarning_16754042764767122\" style=\"background-color:#ffcccc;color:black\">You appear to be running in JupyterLab (or JavaScript failed to load for some other reason).  You need to install the 3dmol extension: <br>\n        <tt>jupyter labextension install jupyterlab_3dmol</tt></p>\n        </div>\n<script>\n\nvar loadScriptAsync = function(uri){\n  return new Promise((resolve, reject) => {\n    //this is to ignore the existence of requirejs amd\n    var savedexports, savedmodule;\n    if (typeof exports !== 'undefined') savedexports = exports;\n    else exports = {}\n    if (typeof module !== 'undefined') savedmodule = module;\n    else module = {}\n\n    var tag = document.createElement('script');\n    tag.src = uri;\n    tag.async = true;\n    tag.onload = () => {\n        exports = savedexports;\n        module = savedmodule;\n        resolve();\n    };\n  var firstScriptTag = document.getElementsByTagName('script')[0];\n  firstScriptTag.parentNode.insertBefore(tag, firstScriptTag);\n});\n};\n\nif(typeof $3Dmolpromise === 'undefined') {\n$3Dmolpromise = null;\n  $3Dmolpromise = loadScriptAsync('https://cdn.jsdelivr.net/npm/3dmol@latest/build/3Dmol-min.min.js');\n}\n\nvar viewer_16754042764767122 = null;\nvar warn = document.getElementById(\"3dmolwarning_16754042764767122\");\nif(warn) {\n    warn.parentNode.removeChild(warn);\n}\n$3Dmolpromise.then(function() {\nviewer_16754042764767122 = $3Dmol.createViewer(document.getElementById(\"3dmolviewer_16754042764767122\"),{backgroundColor:\"white\"});\nviewer_16754042764767122.zoomTo();\n\tviewer_16754042764767122.addVolumetricData(\"Orbital value in real space (1/Bohr^3)\\nPySCF Version: 2.1.1  Date: Fri Feb  3 06:04:34 2023\\n    4   -5.000000   -5.000000   -5.000000\\n   10    1.489056    0.000000    0.000000\\n   10    0.000000    1.205253    0.000000\\n   10    0.000000    0.000000    1.438421\\n    1    0.000000    0.000000    0.000000    0.000000\\n    1    0.000000    3.401507    0.000000    0.000000\\n    1    0.000000    1.700754    0.000000    2.945791\\n    6    0.000000    1.698598    0.847276    0.847276\\n -4.31003E-08 -3.23128E-07 -1.26087E-06 -2.57530E-06 -2.78132E-06 -1.62919E-06\\n -5.54213E-07 -1.25208E-07 -2.07816E-08 -2.33946E-09\\n -2.39787E-07 -1.80535E-06 -7.08787E-06 -1.45959E-05 -1.59200E-05 -9.41610E-06\\n -3.21689E-06 -7.20571E-07 -1.17491E-07 -1.30502E-08\\n -8.30045E-07 -6.25403E-06 -2.45835E-05 -5.07180E-05 -5.54570E-05 -3.28929E-05\\n -1.12585E-05 -2.51878E-06 -4.09007E-07 -4.52680E-08\\n -1.77656E-06 -1.32986E-05 -5.18089E-05 -1.05683E-04 -1.14094E-04 -6.69115E-05\\n -2.28339E-05 -5.17877E-06 -8.61205E-07 -9.69356E-08\\n -2.32758E-06 -1.70690E-05 -6.45604E-05 -1.26555E-04 -1.30160E-04 -7.28216E-05\\n -2.44592E-05 -5.84647E-06 -1.06175E-06 -1.26650E-07\\n -1.83595E-06 -1.28234E-05 -4.49113E-05 -7.81765E-05 -6.74296E-05 -3.02705E-05\\n -9.26133E-06 -2.87553E-06 -7.12534E-07 -9.89792E-08\\n -8.45732E-07 -5.26198E-06 -1.46240E-05 -1.41499E-05  4.57795E-06  1.35793E-05\\n  5.91521E-06  4.42144E-07 -2.00257E-07 -4.45377E-08\\n -2.12393E-07 -9.24853E-07  5.80532E-08  9.90439E-06  2.31051E-05  2.03799E-05\\n  7.76898E-06  1.20288E-06  2.90473E-08 -1.04940E-08\\n -2.28059E-08  6.42603E-08  1.54527E-06  6.61728E-06  1.15448E-05  9.19678E-06\\n  3.43053E-06  5.80618E-07  3.59761E-08 -8.33356E-10\\n  9.72446E-10  5.57217E-08  4.84248E-07  1.70333E-06  2.74853E-06  2.11412E-06\\n  7.82347E-07  1.36755E-07  1.02278E-08  1.41541E-10\\n -3.56619E-07 -2.77934E-06 -1.14430E-05 -2.50575E-05 -2.94941E-05 -1.91840E-05\\n -7.40429E-06 -1.90618E-06 -3.45728E-07 -4.03466E-08\\n -2.00314E-06 -1.57564E-05 -6.56595E-05 -1.45826E-04 -1.74090E-04 -1.14347E-04\\n -4.40289E-05 -1.11118E-05 -1.96397E-06 -2.25421E-07\\n -6.94363E-06 -5.47152E-05 -2.28616E-04 -5.09572E-04 -6.10740E-04 -4.02505E-04\\n -1.55113E-04 -3.89970E-05 -6.84860E-06 -7.82416E-07\\n -1.46321E-05 -1.13736E-04 -4.67384E-04 -1.02388E-03 -1.20673E-03 -7.87483E-04\\n -3.05740E-04 -7.90745E-05 -1.43534E-05 -1.67308E-06\\n -1.82509E-05 -1.35324E-04 -5.22050E-04 -1.06121E-03 -1.15501E-03 -7.14827E-04\\n -2.86307E-04 -8.40300E-05 -1.73722E-05 -2.17429E-06\\n -1.27418E-05 -8.20115E-05 -2.47613E-04 -3.20871E-04 -1.27011E-04  1.76772E-05\\n -1.53629E-05 -3.00091E-05 -1.10110E-05 -1.67698E-06\\n -4.20660E-06 -1.28749E-05  5.15045E-05  3.73345E-04  7.34557E-04  5.97634E-04\\n  2.06719E-04  2.31217E-05 -2.31436E-06 -7.31423E-07\\n -3.51887E-08  1.20746E-05  1.14753E-04  4.14122E-04  6.72676E-04  5.13635E-04\\n  1.83915E-04  2.86486E-05  1.12883E-06 -1.57567E-07\\n  4.17160E-07  7.60917E-06  5.43256E-05  1.76668E-04  2.73791E-04  2.05327E-04\\n  7.43029E-05  1.25230E-05  8.29459E-07 -5.96830E-09\\n  1.32632E-07  1.93172E-06  1.26982E-05  3.97308E-05  6.03984E-05  4.49520E-05\\n  1.63458E-05  2.84597E-06  2.18170E-07  4.19206E-09\\n -1.57842E-06 -1.32096E-05 -5.93190E-05 -1.43029E-04 -1.85858E-04 -1.33161E-04\\n -5.62124E-05 -1.55067E-05 -2.91436E-06 -3.43961E-07\\n -9.03210E-06 -7.67941E-05 -3.50967E-04 -8.60746E-04 -1.13319E-03 -8.15454E-04\\n -3.40349E-04 -9.12098E-05 -1.66150E-05 -1.92424E-06\\n -3.14034E-05 -2.67916E-04 -1.23060E-03 -3.04241E-03 -4.01899E-03 -2.89262E-03\\n -1.20576E-03 -3.21133E-04 -5.80235E-05 -6.68269E-06\\n -6.42761E-05 -5.36421E-04 -2.42650E-03 -6.08624E-03 -7.86479E-03 -5.50825E-03\\n -2.33358E-03 -6.45880E-04 -1.21250E-04 -1.42758E-05\\n -7.23598E-05 -5.51384E-04 -2.28614E-03 -5.71132E-03 -6.67612E-03 -4.21829E-03\\n -1.96833E-03 -6.59309E-04 -1.44896E-04 -1.84774E-05\\n -3.57045E-05 -1.60380E-04 -8.73602E-05  8.98964E-04  2.71441E-03  2.33428E-03\\n  4.65221E-04 -1.72399E-04 -8.79963E-05 -1.41052E-05\\n  5.05779E-06  2.02811E-04  1.68660E-03  5.79366E-03  9.20623E-03  6.79344E-03\\n  2.26544E-03  2.75118E-04 -1.35683E-05 -5.99704E-06\\n  1.44838E-05  2.21048E-04  1.47857E-03  4.65676E-03  7.07845E-03  5.21153E-03\\n  1.83518E-03  2.88405E-04  1.33228E-05 -1.18967E-06\\n  7.00306E-06  9.39014E-05  5.93864E-04  1.81922E-03  2.72891E-03  2.00917E-03\\n  7.20589E-04  1.21698E-04  8.36159E-06  4.54150E-09\\n  1.64833E-06  2.10759E-05  1.30224E-04  3.94188E-04  5.88059E-04  4.32930E-04\\n  1.56568E-04  2.72768E-05  2.12486E-06  4.73245E-08\\n -4.03517E-06 -3.70480E-05 -1.82936E-04 -4.81423E-04 -6.73954E-04 -5.12767E-04\\n -2.26412E-04 -6.41590E-05 -1.21776E-05 -1.43933E-06\\n -2.36986E-05 -2.21897E-04 -1.11570E-03 -2.97920E-03 -4.20515E-03 -3.19359E-03\\n -1.38549E-03 -3.79479E-04 -6.95977E-05 -8.05988E-06\\n -8.27914E-05 -7.78952E-04 -3.94740E-03 -1.07253E-02 -1.51878E-02 -1.14374E-02\\n -4.93778E-03 -1.33996E-03 -2.43345E-04 -2.80048E-05\\n -1.62981E-04 -1.49615E-03 -7.64950E-03 -2.33070E-02 -3.29357E-02 -2.25326E-02\\n -9.68153E-03 -2.69825E-03 -5.07839E-04 -5.97923E-05\\n -1.55652E-04 -1.25268E-03 -6.24382E-03 -2.67714E-02 -3.59553E-02 -1.84486E-02\\n -8.28380E-03 -2.73015E-03 -6.02525E-04 -7.71895E-05\\n -1.81393E-05  3.01956E-04  3.19770E-03  1.02909E-02  2.43240E-02  1.62906E-02\\n  2.85540E-03 -5.83739E-04 -3.56175E-04 -5.85210E-05\\n  9.70540E-05  1.44035E-03  9.55529E-03  3.22642E-02  5.49032E-02  3.58807E-02\\n  1.07229E-02  1.33022E-03 -4.17825E-05 -2.44441E-05\\n  8.91799E-05  1.16183E-03  7.24508E-03  2.23233E-02  3.40059E-02  2.42728E-02\\n  8.35356E-03  1.31838E-03  6.54016E-05 -4.55190E-06\\n  3.63028E-05  4.54866E-04  2.77877E-03  8.35751E-03  1.24147E-02  9.07225E-03\\n  3.24160E-03  5.48754E-04  3.84745E-05  1.74255E-07\\n  8.00475E-06  9.86129E-05  5.97230E-04  1.78735E-03  2.64871E-03  1.94244E-03\\n  7.01277E-04  1.22327E-04  9.62114E-06  2.30680E-07\\n -6.46303E-06 -6.32938E-05 -3.30738E-04 -9.10577E-04 -1.31850E-03 -1.02750E-03\\n -4.60648E-04 -1.31411E-04 -2.49588E-05 -2.94682E-06\\n -3.87114E-05 -3.86500E-04 -2.05179E-03 -5.71401E-03 -8.31890E-03 -6.45076E-03\\n -2.83373E-03 -7.79543E-04 -1.42846E-04 -1.65108E-05\\n -1.35835E-04 -1.36341E-03 -7.29022E-03 -2.07332E-02 -3.08595E-02 -2.36133E-02\\n -1.02684E-02 -2.76720E-03 -4.99955E-04 -5.73895E-05\\n -2.60378E-04 -2.55659E-03 -1.38045E-02 -4.68807E-02 -8.39378E-02 -5.64125E-02\\n -2.30216E-02 -5.76671E-03 -1.04422E-03 -1.22520E-04\\n -2.16356E-04 -1.84038E-03 -9.75283E-03 -5.35526E-02 -1.57665E-01 -7.45810E-02\\n -2.83705E-02 -6.30583E-03 -1.23815E-03 -1.58008E-04\\n  5.55771E-05  1.30524E-03  1.03590E-02  5.61291E-02  1.56427E-01  5.78990E-02\\n  2.44793E-03 -1.47077E-03 -7.23872E-04 -1.19434E-04\\n  2.53804E-04  3.38421E-03  2.22337E-02  9.85559E-02  2.21691E-01  1.11805E-01\\n  2.37946E-02  2.83828E-03 -7.37439E-05 -4.94813E-05\\n  2.04131E-04  2.56156E-03  1.57655E-02  5.12262E-02  8.45600E-02  5.59537E-02\\n  1.78351E-02  2.79558E-03  1.42367E-04 -8.92949E-06\\n  7.98378E-05  9.81633E-04  5.93728E-03  1.78200E-02  2.65339E-02  1.92565E-02\\n  6.84392E-03  1.15940E-03  8.19739E-05  5.02793E-07\\n  1.72995E-05  2.10773E-04  1.26864E-03  3.78336E-03  5.59533E-03  4.09798E-03\\n  1.47869E-03  2.58115E-04  2.03863E-05  5.03531E-07\\n -6.77400E-06 -6.56105E-05 -3.39687E-04 -9.28554E-04 -1.33732E-03 -1.03779E-03\\n -4.63581E-04 -1.31846E-04 -2.49922E-05 -2.94814E-06\\n -4.04682E-05 -3.99763E-04 -2.10402E-03 -5.82174E-03 -8.43527E-03 -6.51660E-03\\n -2.85323E-03 -7.82546E-04 -1.43085E-04 -1.65206E-05\\n -1.42116E-04 -1.41175E-03 -7.48729E-03 -2.11739E-02 -3.13535E-02 -2.38922E-02\\n -1.03534E-02 -2.78077E-03 -5.01071E-04 -5.74363E-05\\n -2.74634E-04 -2.66936E-03 -1.43151E-02 -4.85006E-02 -8.58395E-02 -5.72786E-02\\n -2.32664E-02 -5.80645E-03 -1.04757E-03 -1.22664E-04\\n -2.36973E-04 -2.00929E-03 -1.06360E-02 -5.78331E-02 -1.63896E-01 -7.67575E-02\\n -2.88489E-02 -6.38022E-03 -1.24455E-03 -1.58286E-04\\n  3.65344E-05  1.14338E-03  9.50569E-03  5.12924E-02  1.40782E-01  5.41250E-02\\n  1.85668E-03 -1.55852E-03 -7.31513E-04 -1.19770E-04\\n  2.42559E-04  3.28479E-03  2.17355E-02  9.64075E-02  2.16543E-01  1.09703E-01\\n  2.33913E-02  2.77392E-03 -7.94197E-05 -4.97329E-05\\n  1.99891E-04  2.52248E-03  1.55710E-02  5.06592E-02  8.36421E-02  5.54009E-02\\n  1.76670E-02  2.76631E-03  1.39762E-04 -9.04558E-06\\n  7.88197E-05  9.71868E-04  5.88737E-03  1.76856E-02  2.63461E-02  1.91257E-02\\n  6.79783E-03  1.15118E-03  8.12378E-05  4.69870E-07\\n  1.71446E-05  2.09232E-04  1.26053E-03  3.76118E-03  5.56423E-03  4.07587E-03\\n  1.47077E-03  2.56693E-04  2.02586E-05  4.97803E-07\\n -4.59453E-06 -4.11960E-05 -1.98853E-04 -5.13107E-04 -7.06743E-04 -5.30434E-04\\n -2.31368E-04 -6.48817E-05 -1.22322E-05 -1.44146E-06\\n -2.68442E-05 -2.45474E-04 -1.20760E-03 -3.16621E-03 -4.40387E-03 -3.30396E-03\\n -1.41754E-03 -3.84324E-04 -6.99767E-05 -8.07513E-06\\n -9.39610E-05 -8.63997E-04 -4.28877E-03 -1.14701E-02 -1.60019E-02 -1.18897E-02\\n -5.07352E-03 -1.36125E-03 -2.45067E-04 -2.80761E-05\\n -1.88099E-04 -1.69182E-03 -8.50950E-03 -2.58453E-02 -3.57267E-02 -2.38018E-02\\n -1.00572E-02 -2.75901E-03 -5.12899E-04 -6.00068E-05\\n -1.91532E-04 -1.54065E-03 -7.66480E-03 -3.27667E-02 -4.27347E-02 -2.09344E-02\\n -8.96196E-03 -2.84146E-03 -6.12007E-04 -7.75987E-05\\n -5.07809E-05  3.14390E-05  1.88932E-03  5.60514E-03  1.78197E-02  1.33465E-02\\n  2.07616E-03 -7.12886E-04 -3.67365E-04 -5.90103E-05\\n  7.81135E-05  1.27758E-03  8.79227E-03  3.01128E-02  5.16906E-02  3.40349E-02\\n  1.01734E-02  1.23636E-03 -5.00218E-05 -2.48076E-05\\n  8.21707E-05  1.09915E-03  6.94405E-03  2.15425E-02  3.29335E-02  2.35597E-02\\n  8.11189E-03  1.27596E-03  6.16429E-05 -4.71882E-06\\n  3.46518E-05  4.39504E-04  2.70234E-03  8.15704E-03  1.21418E-02  8.88271E-03\\n  3.17485E-03  5.36893E-04  3.74169E-05  1.27077E-07\\n  7.75808E-06  9.62309E-05  5.84993E-04  1.75447E-03  2.60319E-03  1.91036E-03\\n  6.89855E-04  1.20284E-04  9.43814E-06  2.22491E-07\\n -1.90112E-06 -1.55881E-05 -6.83640E-05 -1.60809E-04 -2.03956E-04 -1.42714E-04\\n -5.88286E-05 -1.58783E-05 -2.94168E-06 -3.44998E-07\\n -1.08358E-05 -9.01822E-05 -4.02415E-04 -9.63375E-04 -1.23967E-03 -8.72995E-04\\n -3.56548E-04 -9.35810E-05 -1.67949E-05 -1.93127E-06\\n -3.77501E-05 -3.15525E-04 -1.41656E-03 -3.42366E-03 -4.42452E-03 -3.11713E-03\\n -1.27106E-03 -3.31026E-04 -5.87989E-05 -6.71394E-06\\n -7.83660E-05 -6.43721E-04 -2.85891E-03 -7.04832E-03 -8.91253E-03 -6.08038E-03\\n -2.50501E-03 -6.72774E-04 -1.23426E-04 -1.43659E-05\\n -9.21407E-05 -7.05118E-04 -2.93196E-03 -7.30107E-03 -8.45155E-03 -5.16687E-03\\n -2.25996E-03 -7.06546E-04 -1.48824E-04 -1.86438E-05\\n -5.33064E-05 -3.00667E-04 -6.89011E-04 -5.55230E-04  1.00330E-03  1.33610E-03\\n  1.46755E-04 -2.25410E-04 -9.25034E-05 -1.42993E-05\\n -4.88822E-06  1.21116E-04  1.32789E-03  4.94670E-03  8.15925E-03  6.12670E-03\\n  2.04465E-03  2.37526E-04 -1.68189E-05 -6.13887E-06\\n  1.09118E-05  1.90689E-04  1.34037E-03  4.32169E-03  6.65074E-03  4.92834E-03\\n  1.73886E-03  2.71717E-04  1.18616E-05 -1.25401E-06\\n  6.18804E-06  8.67190E-05  5.59924E-04  1.73410E-03  2.61716E-03  1.93339E-03\\n  6.94343E-04  1.17093E-04  7.95473E-06 -1.34913E-08\\n  1.53039E-06  1.99983E-05  1.24952E-04  3.80563E-04  5.69740E-04  4.20284E-04\\n  1.52130E-04  2.64910E-05  2.05498E-06  4.42128E-08\\n -4.42577E-07 -3.40972E-06 -1.38225E-05 -2.96856E-05 -3.41379E-05 -2.15902E-05\\n -8.04863E-06 -1.99536E-06 -3.52103E-07 -4.05816E-08\\n -2.48118E-06 -1.92763E-05 -7.90261E-05 -1.72048E-04 -2.00709E-04 -1.28349E-04\\n -4.78481E-05 -1.16518E-05 -2.00348E-06 -2.26913E-07\\n -8.61317E-06 -6.70831E-05 -2.76005E-04 -6.03723E-04 -7.07917E-04 -4.54689E-04\\n -1.69698E-04 -4.11155E-05 -7.00802E-06 -7.88605E-07\\n -1.82984E-05 -1.41136E-04 -5.73737E-04 -1.23915E-03 -1.43389E-03 -9.12623E-04\\n -3.41770E-04 -8.44736E-05 -1.47723E-05 -1.68981E-06\\n -2.33212E-05 -1.73682E-04 -6.73574E-04 -1.37552E-03 -1.49595E-03 -9.08379E-04\\n -3.43908E-04 -9.29476E-05 -1.80853E-05 -2.20352E-06\\n -1.71645E-05 -1.16018E-04 -3.84918E-04 -6.13340E-04 -4.54757E-04 -1.75164E-04\\n -7.47441E-05 -3.94934E-05 -1.17901E-05 -1.70965E-06\\n -6.64376E-06 -3.20020E-05 -2.77999E-05  1.99190E-04  5.32420E-04  4.74333E-04\\n  1.67513E-04  1.66847E-05 -2.85527E-06 -7.54517E-07\\n -8.84626E-07  5.24212E-06  8.55469E-05  3.47759E-04  5.92913E-04  4.63365E-04\\n  1.67476E-04  2.58870E-05  8.92557E-07 -1.67794E-07\\n  2.29796E-07  6.05933E-06  4.74797E-05  1.60567E-04  2.53795E-04  1.92359E-04\\n  6.99620E-05  1.17804E-05  7.65043E-07 -8.78550E-09\\n  1.06485E-07  1.70881E-06  1.16803E-05  3.72573E-05  5.72356E-05  4.28512E-05\\n  1.56293E-05  2.72166E-06  2.07274E-07  3.71194E-09\\n -5.42083E-08 -4.04333E-07 -1.56594E-06 -3.16460E-06 -3.36701E-06 -1.92888E-06\\n -6.33201E-07 -1.35934E-07 -2.15319E-08 -2.36649E-09\\n -3.01368E-07 -2.25646E-06 -8.78778E-06 -1.78942E-05 -1.92184E-05 -1.11177E-05\\n -3.67006E-06 -7.82886E-07 -1.21914E-07 -1.32120E-08\\n -1.04408E-06 -7.82681E-06 -3.05378E-05 -6.23481E-05 -6.71941E-05 -3.90205E-05\\n -1.29147E-05 -2.75050E-06 -4.25772E-07 -4.58939E-08\\n -2.24330E-06 -1.67439E-05 -6.49406E-05 -1.31580E-04 -1.40567E-04 -8.09608E-05\\n -2.67067E-05 -5.73284E-06 -9.02257E-07 -9.85055E-08\\n -2.96662E-06 -2.18168E-05 -8.28292E-05 -1.63059E-04 -1.68127E-04 -9.34026E-05\\n -3.02730E-05 -6.70054E-06 -1.12675E-06 -1.29201E-07\\n -2.38585E-06 -1.69452E-05 -6.09746E-05 -1.10831E-04 -1.02141E-04 -4.95768E-05\\n -1.48711E-05 -3.72376E-06 -7.78910E-07 -1.01650E-07\\n -1.14341E-06 -7.51941E-06 -2.35663E-05 -3.27210E-05 -1.56806E-05  1.97960E-06\\n  2.44177E-06 -9.85616E-08 -2.43701E-07 -4.63265E-08\\n -3.13859E-07 -1.70570E-06 -3.09745E-06  3.18490E-06  1.55603E-05  1.59258E-05\\n  6.39481E-06  9.83064E-07  1.09659E-08 -1.12531E-08\\n -4.45981E-08 -1.06442E-07  8.39250E-07  5.07155E-06  9.75595E-06  8.10842E-06\\n  3.08529E-06  5.24053E-07  3.12305E-08 -1.03572E-09\\n -1.97763E-09  3.21364E-08  3.84172E-07  1.47777E-06  2.47957E-06  1.94582E-06\\n  7.27641E-07  1.27610E-07  9.44817E-09  1.07887E-10\\n\",\"cube\",{\"isoval\": 1.0, \"volformat\": \"cube\"});\n\tviewer_16754042764767122.addModel(\"Orbital value in real space (1/Bohr^3)\\nPySCF Version: 2.1.1  Date: Fri Feb  3 06:04:34 2023\\n    4   -5.000000   -5.000000   -5.000000\\n   10    1.489056    0.000000    0.000000\\n   10    0.000000    1.205253    0.000000\\n   10    0.000000    0.000000    1.438421\\n    1    0.000000    0.000000    0.000000    0.000000\\n    1    0.000000    3.401507    0.000000    0.000000\\n    1    0.000000    1.700754    0.000000    2.945791\\n    6    0.000000    1.698598    0.847276    0.847276\\n -4.31003E-08 -3.23128E-07 -1.26087E-06 -2.57530E-06 -2.78132E-06 -1.62919E-06\\n -5.54213E-07 -1.25208E-07 -2.07816E-08 -2.33946E-09\\n -2.39787E-07 -1.80535E-06 -7.08787E-06 -1.45959E-05 -1.59200E-05 -9.41610E-06\\n -3.21689E-06 -7.20571E-07 -1.17491E-07 -1.30502E-08\\n -8.30045E-07 -6.25403E-06 -2.45835E-05 -5.07180E-05 -5.54570E-05 -3.28929E-05\\n -1.12585E-05 -2.51878E-06 -4.09007E-07 -4.52680E-08\\n -1.77656E-06 -1.32986E-05 -5.18089E-05 -1.05683E-04 -1.14094E-04 -6.69115E-05\\n -2.28339E-05 -5.17877E-06 -8.61205E-07 -9.69356E-08\\n -2.32758E-06 -1.70690E-05 -6.45604E-05 -1.26555E-04 -1.30160E-04 -7.28216E-05\\n -2.44592E-05 -5.84647E-06 -1.06175E-06 -1.26650E-07\\n -1.83595E-06 -1.28234E-05 -4.49113E-05 -7.81765E-05 -6.74296E-05 -3.02705E-05\\n -9.26133E-06 -2.87553E-06 -7.12534E-07 -9.89792E-08\\n -8.45732E-07 -5.26198E-06 -1.46240E-05 -1.41499E-05  4.57795E-06  1.35793E-05\\n  5.91521E-06  4.42144E-07 -2.00257E-07 -4.45377E-08\\n -2.12393E-07 -9.24853E-07  5.80532E-08  9.90439E-06  2.31051E-05  2.03799E-05\\n  7.76898E-06  1.20288E-06  2.90473E-08 -1.04940E-08\\n -2.28059E-08  6.42603E-08  1.54527E-06  6.61728E-06  1.15448E-05  9.19678E-06\\n  3.43053E-06  5.80618E-07  3.59761E-08 -8.33356E-10\\n  9.72446E-10  5.57217E-08  4.84248E-07  1.70333E-06  2.74853E-06  2.11412E-06\\n  7.82347E-07  1.36755E-07  1.02278E-08  1.41541E-10\\n -3.56619E-07 -2.77934E-06 -1.14430E-05 -2.50575E-05 -2.94941E-05 -1.91840E-05\\n -7.40429E-06 -1.90618E-06 -3.45728E-07 -4.03466E-08\\n -2.00314E-06 -1.57564E-05 -6.56595E-05 -1.45826E-04 -1.74090E-04 -1.14347E-04\\n -4.40289E-05 -1.11118E-05 -1.96397E-06 -2.25421E-07\\n -6.94363E-06 -5.47152E-05 -2.28616E-04 -5.09572E-04 -6.10740E-04 -4.02505E-04\\n -1.55113E-04 -3.89970E-05 -6.84860E-06 -7.82416E-07\\n -1.46321E-05 -1.13736E-04 -4.67384E-04 -1.02388E-03 -1.20673E-03 -7.87483E-04\\n -3.05740E-04 -7.90745E-05 -1.43534E-05 -1.67308E-06\\n -1.82509E-05 -1.35324E-04 -5.22050E-04 -1.06121E-03 -1.15501E-03 -7.14827E-04\\n -2.86307E-04 -8.40300E-05 -1.73722E-05 -2.17429E-06\\n -1.27418E-05 -8.20115E-05 -2.47613E-04 -3.20871E-04 -1.27011E-04  1.76772E-05\\n -1.53629E-05 -3.00091E-05 -1.10110E-05 -1.67698E-06\\n -4.20660E-06 -1.28749E-05  5.15045E-05  3.73345E-04  7.34557E-04  5.97634E-04\\n  2.06719E-04  2.31217E-05 -2.31436E-06 -7.31423E-07\\n -3.51887E-08  1.20746E-05  1.14753E-04  4.14122E-04  6.72676E-04  5.13635E-04\\n  1.83915E-04  2.86486E-05  1.12883E-06 -1.57567E-07\\n  4.17160E-07  7.60917E-06  5.43256E-05  1.76668E-04  2.73791E-04  2.05327E-04\\n  7.43029E-05  1.25230E-05  8.29459E-07 -5.96830E-09\\n  1.32632E-07  1.93172E-06  1.26982E-05  3.97308E-05  6.03984E-05  4.49520E-05\\n  1.63458E-05  2.84597E-06  2.18170E-07  4.19206E-09\\n -1.57842E-06 -1.32096E-05 -5.93190E-05 -1.43029E-04 -1.85858E-04 -1.33161E-04\\n -5.62124E-05 -1.55067E-05 -2.91436E-06 -3.43961E-07\\n -9.03210E-06 -7.67941E-05 -3.50967E-04 -8.60746E-04 -1.13319E-03 -8.15454E-04\\n -3.40349E-04 -9.12098E-05 -1.66150E-05 -1.92424E-06\\n -3.14034E-05 -2.67916E-04 -1.23060E-03 -3.04241E-03 -4.01899E-03 -2.89262E-03\\n -1.20576E-03 -3.21133E-04 -5.80235E-05 -6.68269E-06\\n -6.42761E-05 -5.36421E-04 -2.42650E-03 -6.08624E-03 -7.86479E-03 -5.50825E-03\\n -2.33358E-03 -6.45880E-04 -1.21250E-04 -1.42758E-05\\n -7.23598E-05 -5.51384E-04 -2.28614E-03 -5.71132E-03 -6.67612E-03 -4.21829E-03\\n -1.96833E-03 -6.59309E-04 -1.44896E-04 -1.84774E-05\\n -3.57045E-05 -1.60380E-04 -8.73602E-05  8.98964E-04  2.71441E-03  2.33428E-03\\n  4.65221E-04 -1.72399E-04 -8.79963E-05 -1.41052E-05\\n  5.05779E-06  2.02811E-04  1.68660E-03  5.79366E-03  9.20623E-03  6.79344E-03\\n  2.26544E-03  2.75118E-04 -1.35683E-05 -5.99704E-06\\n  1.44838E-05  2.21048E-04  1.47857E-03  4.65676E-03  7.07845E-03  5.21153E-03\\n  1.83518E-03  2.88405E-04  1.33228E-05 -1.18967E-06\\n  7.00306E-06  9.39014E-05  5.93864E-04  1.81922E-03  2.72891E-03  2.00917E-03\\n  7.20589E-04  1.21698E-04  8.36159E-06  4.54150E-09\\n  1.64833E-06  2.10759E-05  1.30224E-04  3.94188E-04  5.88059E-04  4.32930E-04\\n  1.56568E-04  2.72768E-05  2.12486E-06  4.73245E-08\\n -4.03517E-06 -3.70480E-05 -1.82936E-04 -4.81423E-04 -6.73954E-04 -5.12767E-04\\n -2.26412E-04 -6.41590E-05 -1.21776E-05 -1.43933E-06\\n -2.36986E-05 -2.21897E-04 -1.11570E-03 -2.97920E-03 -4.20515E-03 -3.19359E-03\\n -1.38549E-03 -3.79479E-04 -6.95977E-05 -8.05988E-06\\n -8.27914E-05 -7.78952E-04 -3.94740E-03 -1.07253E-02 -1.51878E-02 -1.14374E-02\\n -4.93778E-03 -1.33996E-03 -2.43345E-04 -2.80048E-05\\n -1.62981E-04 -1.49615E-03 -7.64950E-03 -2.33070E-02 -3.29357E-02 -2.25326E-02\\n -9.68153E-03 -2.69825E-03 -5.07839E-04 -5.97923E-05\\n -1.55652E-04 -1.25268E-03 -6.24382E-03 -2.67714E-02 -3.59553E-02 -1.84486E-02\\n -8.28380E-03 -2.73015E-03 -6.02525E-04 -7.71895E-05\\n -1.81393E-05  3.01956E-04  3.19770E-03  1.02909E-02  2.43240E-02  1.62906E-02\\n  2.85540E-03 -5.83739E-04 -3.56175E-04 -5.85210E-05\\n  9.70540E-05  1.44035E-03  9.55529E-03  3.22642E-02  5.49032E-02  3.58807E-02\\n  1.07229E-02  1.33022E-03 -4.17825E-05 -2.44441E-05\\n  8.91799E-05  1.16183E-03  7.24508E-03  2.23233E-02  3.40059E-02  2.42728E-02\\n  8.35356E-03  1.31838E-03  6.54016E-05 -4.55190E-06\\n  3.63028E-05  4.54866E-04  2.77877E-03  8.35751E-03  1.24147E-02  9.07225E-03\\n  3.24160E-03  5.48754E-04  3.84745E-05  1.74255E-07\\n  8.00475E-06  9.86129E-05  5.97230E-04  1.78735E-03  2.64871E-03  1.94244E-03\\n  7.01277E-04  1.22327E-04  9.62114E-06  2.30680E-07\\n -6.46303E-06 -6.32938E-05 -3.30738E-04 -9.10577E-04 -1.31850E-03 -1.02750E-03\\n -4.60648E-04 -1.31411E-04 -2.49588E-05 -2.94682E-06\\n -3.87114E-05 -3.86500E-04 -2.05179E-03 -5.71401E-03 -8.31890E-03 -6.45076E-03\\n -2.83373E-03 -7.79543E-04 -1.42846E-04 -1.65108E-05\\n -1.35835E-04 -1.36341E-03 -7.29022E-03 -2.07332E-02 -3.08595E-02 -2.36133E-02\\n -1.02684E-02 -2.76720E-03 -4.99955E-04 -5.73895E-05\\n -2.60378E-04 -2.55659E-03 -1.38045E-02 -4.68807E-02 -8.39378E-02 -5.64125E-02\\n -2.30216E-02 -5.76671E-03 -1.04422E-03 -1.22520E-04\\n -2.16356E-04 -1.84038E-03 -9.75283E-03 -5.35526E-02 -1.57665E-01 -7.45810E-02\\n -2.83705E-02 -6.30583E-03 -1.23815E-03 -1.58008E-04\\n  5.55771E-05  1.30524E-03  1.03590E-02  5.61291E-02  1.56427E-01  5.78990E-02\\n  2.44793E-03 -1.47077E-03 -7.23872E-04 -1.19434E-04\\n  2.53804E-04  3.38421E-03  2.22337E-02  9.85559E-02  2.21691E-01  1.11805E-01\\n  2.37946E-02  2.83828E-03 -7.37439E-05 -4.94813E-05\\n  2.04131E-04  2.56156E-03  1.57655E-02  5.12262E-02  8.45600E-02  5.59537E-02\\n  1.78351E-02  2.79558E-03  1.42367E-04 -8.92949E-06\\n  7.98378E-05  9.81633E-04  5.93728E-03  1.78200E-02  2.65339E-02  1.92565E-02\\n  6.84392E-03  1.15940E-03  8.19739E-05  5.02793E-07\\n  1.72995E-05  2.10773E-04  1.26864E-03  3.78336E-03  5.59533E-03  4.09798E-03\\n  1.47869E-03  2.58115E-04  2.03863E-05  5.03531E-07\\n -6.77400E-06 -6.56105E-05 -3.39687E-04 -9.28554E-04 -1.33732E-03 -1.03779E-03\\n -4.63581E-04 -1.31846E-04 -2.49922E-05 -2.94814E-06\\n -4.04682E-05 -3.99763E-04 -2.10402E-03 -5.82174E-03 -8.43527E-03 -6.51660E-03\\n -2.85323E-03 -7.82546E-04 -1.43085E-04 -1.65206E-05\\n -1.42116E-04 -1.41175E-03 -7.48729E-03 -2.11739E-02 -3.13535E-02 -2.38922E-02\\n -1.03534E-02 -2.78077E-03 -5.01071E-04 -5.74363E-05\\n -2.74634E-04 -2.66936E-03 -1.43151E-02 -4.85006E-02 -8.58395E-02 -5.72786E-02\\n -2.32664E-02 -5.80645E-03 -1.04757E-03 -1.22664E-04\\n -2.36973E-04 -2.00929E-03 -1.06360E-02 -5.78331E-02 -1.63896E-01 -7.67575E-02\\n -2.88489E-02 -6.38022E-03 -1.24455E-03 -1.58286E-04\\n  3.65344E-05  1.14338E-03  9.50569E-03  5.12924E-02  1.40782E-01  5.41250E-02\\n  1.85668E-03 -1.55852E-03 -7.31513E-04 -1.19770E-04\\n  2.42559E-04  3.28479E-03  2.17355E-02  9.64075E-02  2.16543E-01  1.09703E-01\\n  2.33913E-02  2.77392E-03 -7.94197E-05 -4.97329E-05\\n  1.99891E-04  2.52248E-03  1.55710E-02  5.06592E-02  8.36421E-02  5.54009E-02\\n  1.76670E-02  2.76631E-03  1.39762E-04 -9.04558E-06\\n  7.88197E-05  9.71868E-04  5.88737E-03  1.76856E-02  2.63461E-02  1.91257E-02\\n  6.79783E-03  1.15118E-03  8.12378E-05  4.69870E-07\\n  1.71446E-05  2.09232E-04  1.26053E-03  3.76118E-03  5.56423E-03  4.07587E-03\\n  1.47077E-03  2.56693E-04  2.02586E-05  4.97803E-07\\n -4.59453E-06 -4.11960E-05 -1.98853E-04 -5.13107E-04 -7.06743E-04 -5.30434E-04\\n -2.31368E-04 -6.48817E-05 -1.22322E-05 -1.44146E-06\\n -2.68442E-05 -2.45474E-04 -1.20760E-03 -3.16621E-03 -4.40387E-03 -3.30396E-03\\n -1.41754E-03 -3.84324E-04 -6.99767E-05 -8.07513E-06\\n -9.39610E-05 -8.63997E-04 -4.28877E-03 -1.14701E-02 -1.60019E-02 -1.18897E-02\\n -5.07352E-03 -1.36125E-03 -2.45067E-04 -2.80761E-05\\n -1.88099E-04 -1.69182E-03 -8.50950E-03 -2.58453E-02 -3.57267E-02 -2.38018E-02\\n -1.00572E-02 -2.75901E-03 -5.12899E-04 -6.00068E-05\\n -1.91532E-04 -1.54065E-03 -7.66480E-03 -3.27667E-02 -4.27347E-02 -2.09344E-02\\n -8.96196E-03 -2.84146E-03 -6.12007E-04 -7.75987E-05\\n -5.07809E-05  3.14390E-05  1.88932E-03  5.60514E-03  1.78197E-02  1.33465E-02\\n  2.07616E-03 -7.12886E-04 -3.67365E-04 -5.90103E-05\\n  7.81135E-05  1.27758E-03  8.79227E-03  3.01128E-02  5.16906E-02  3.40349E-02\\n  1.01734E-02  1.23636E-03 -5.00218E-05 -2.48076E-05\\n  8.21707E-05  1.09915E-03  6.94405E-03  2.15425E-02  3.29335E-02  2.35597E-02\\n  8.11189E-03  1.27596E-03  6.16429E-05 -4.71882E-06\\n  3.46518E-05  4.39504E-04  2.70234E-03  8.15704E-03  1.21418E-02  8.88271E-03\\n  3.17485E-03  5.36893E-04  3.74169E-05  1.27077E-07\\n  7.75808E-06  9.62309E-05  5.84993E-04  1.75447E-03  2.60319E-03  1.91036E-03\\n  6.89855E-04  1.20284E-04  9.43814E-06  2.22491E-07\\n -1.90112E-06 -1.55881E-05 -6.83640E-05 -1.60809E-04 -2.03956E-04 -1.42714E-04\\n -5.88286E-05 -1.58783E-05 -2.94168E-06 -3.44998E-07\\n -1.08358E-05 -9.01822E-05 -4.02415E-04 -9.63375E-04 -1.23967E-03 -8.72995E-04\\n -3.56548E-04 -9.35810E-05 -1.67949E-05 -1.93127E-06\\n -3.77501E-05 -3.15525E-04 -1.41656E-03 -3.42366E-03 -4.42452E-03 -3.11713E-03\\n -1.27106E-03 -3.31026E-04 -5.87989E-05 -6.71394E-06\\n -7.83660E-05 -6.43721E-04 -2.85891E-03 -7.04832E-03 -8.91253E-03 -6.08038E-03\\n -2.50501E-03 -6.72774E-04 -1.23426E-04 -1.43659E-05\\n -9.21407E-05 -7.05118E-04 -2.93196E-03 -7.30107E-03 -8.45155E-03 -5.16687E-03\\n -2.25996E-03 -7.06546E-04 -1.48824E-04 -1.86438E-05\\n -5.33064E-05 -3.00667E-04 -6.89011E-04 -5.55230E-04  1.00330E-03  1.33610E-03\\n  1.46755E-04 -2.25410E-04 -9.25034E-05 -1.42993E-05\\n -4.88822E-06  1.21116E-04  1.32789E-03  4.94670E-03  8.15925E-03  6.12670E-03\\n  2.04465E-03  2.37526E-04 -1.68189E-05 -6.13887E-06\\n  1.09118E-05  1.90689E-04  1.34037E-03  4.32169E-03  6.65074E-03  4.92834E-03\\n  1.73886E-03  2.71717E-04  1.18616E-05 -1.25401E-06\\n  6.18804E-06  8.67190E-05  5.59924E-04  1.73410E-03  2.61716E-03  1.93339E-03\\n  6.94343E-04  1.17093E-04  7.95473E-06 -1.34913E-08\\n  1.53039E-06  1.99983E-05  1.24952E-04  3.80563E-04  5.69740E-04  4.20284E-04\\n  1.52130E-04  2.64910E-05  2.05498E-06  4.42128E-08\\n -4.42577E-07 -3.40972E-06 -1.38225E-05 -2.96856E-05 -3.41379E-05 -2.15902E-05\\n -8.04863E-06 -1.99536E-06 -3.52103E-07 -4.05816E-08\\n -2.48118E-06 -1.92763E-05 -7.90261E-05 -1.72048E-04 -2.00709E-04 -1.28349E-04\\n -4.78481E-05 -1.16518E-05 -2.00348E-06 -2.26913E-07\\n -8.61317E-06 -6.70831E-05 -2.76005E-04 -6.03723E-04 -7.07917E-04 -4.54689E-04\\n -1.69698E-04 -4.11155E-05 -7.00802E-06 -7.88605E-07\\n -1.82984E-05 -1.41136E-04 -5.73737E-04 -1.23915E-03 -1.43389E-03 -9.12623E-04\\n -3.41770E-04 -8.44736E-05 -1.47723E-05 -1.68981E-06\\n -2.33212E-05 -1.73682E-04 -6.73574E-04 -1.37552E-03 -1.49595E-03 -9.08379E-04\\n -3.43908E-04 -9.29476E-05 -1.80853E-05 -2.20352E-06\\n -1.71645E-05 -1.16018E-04 -3.84918E-04 -6.13340E-04 -4.54757E-04 -1.75164E-04\\n -7.47441E-05 -3.94934E-05 -1.17901E-05 -1.70965E-06\\n -6.64376E-06 -3.20020E-05 -2.77999E-05  1.99190E-04  5.32420E-04  4.74333E-04\\n  1.67513E-04  1.66847E-05 -2.85527E-06 -7.54517E-07\\n -8.84626E-07  5.24212E-06  8.55469E-05  3.47759E-04  5.92913E-04  4.63365E-04\\n  1.67476E-04  2.58870E-05  8.92557E-07 -1.67794E-07\\n  2.29796E-07  6.05933E-06  4.74797E-05  1.60567E-04  2.53795E-04  1.92359E-04\\n  6.99620E-05  1.17804E-05  7.65043E-07 -8.78550E-09\\n  1.06485E-07  1.70881E-06  1.16803E-05  3.72573E-05  5.72356E-05  4.28512E-05\\n  1.56293E-05  2.72166E-06  2.07274E-07  3.71194E-09\\n -5.42083E-08 -4.04333E-07 -1.56594E-06 -3.16460E-06 -3.36701E-06 -1.92888E-06\\n -6.33201E-07 -1.35934E-07 -2.15319E-08 -2.36649E-09\\n -3.01368E-07 -2.25646E-06 -8.78778E-06 -1.78942E-05 -1.92184E-05 -1.11177E-05\\n -3.67006E-06 -7.82886E-07 -1.21914E-07 -1.32120E-08\\n -1.04408E-06 -7.82681E-06 -3.05378E-05 -6.23481E-05 -6.71941E-05 -3.90205E-05\\n -1.29147E-05 -2.75050E-06 -4.25772E-07 -4.58939E-08\\n -2.24330E-06 -1.67439E-05 -6.49406E-05 -1.31580E-04 -1.40567E-04 -8.09608E-05\\n -2.67067E-05 -5.73284E-06 -9.02257E-07 -9.85055E-08\\n -2.96662E-06 -2.18168E-05 -8.28292E-05 -1.63059E-04 -1.68127E-04 -9.34026E-05\\n -3.02730E-05 -6.70054E-06 -1.12675E-06 -1.29201E-07\\n -2.38585E-06 -1.69452E-05 -6.09746E-05 -1.10831E-04 -1.02141E-04 -4.95768E-05\\n -1.48711E-05 -3.72376E-06 -7.78910E-07 -1.01650E-07\\n -1.14341E-06 -7.51941E-06 -2.35663E-05 -3.27210E-05 -1.56806E-05  1.97960E-06\\n  2.44177E-06 -9.85616E-08 -2.43701E-07 -4.63265E-08\\n -3.13859E-07 -1.70570E-06 -3.09745E-06  3.18490E-06  1.55603E-05  1.59258E-05\\n  6.39481E-06  9.83064E-07  1.09659E-08 -1.12531E-08\\n -4.45981E-08 -1.06442E-07  8.39250E-07  5.07155E-06  9.75595E-06  8.10842E-06\\n  3.08529E-06  5.24053E-07  3.12305E-08 -1.03572E-09\\n -1.97763E-09  3.21364E-08  3.84172E-07  1.47777E-06  2.47957E-06  1.94582E-06\\n  7.27641E-07  1.27610E-07  9.44817E-09  1.07887E-10\\n\",\"cube\");\n\tviewer_16754042764767122.setStyle({\"stick\": {}});\n\tviewer_16754042764767122.zoomTo();\nviewer_16754042764767122.render();\n});\n</script>",
            "text/html": [
              "<div id=\"3dmolviewer_16754042764767122\"  style=\"position: relative; width: 640px; height: 480px\">\n",
              "        <p id=\"3dmolwarning_16754042764767122\" style=\"background-color:#ffcccc;color:black\">You appear to be running in JupyterLab (or JavaScript failed to load for some other reason).  You need to install the 3dmol extension: <br>\n",
              "        <tt>jupyter labextension install jupyterlab_3dmol</tt></p>\n",
              "        </div>\n",
              "<script>\n",
              "\n",
              "var loadScriptAsync = function(uri){\n",
              "  return new Promise((resolve, reject) => {\n",
              "    //this is to ignore the existence of requirejs amd\n",
              "    var savedexports, savedmodule;\n",
              "    if (typeof exports !== 'undefined') savedexports = exports;\n",
              "    else exports = {}\n",
              "    if (typeof module !== 'undefined') savedmodule = module;\n",
              "    else module = {}\n",
              "\n",
              "    var tag = document.createElement('script');\n",
              "    tag.src = uri;\n",
              "    tag.async = true;\n",
              "    tag.onload = () => {\n",
              "        exports = savedexports;\n",
              "        module = savedmodule;\n",
              "        resolve();\n",
              "    };\n",
              "  var firstScriptTag = document.getElementsByTagName('script')[0];\n",
              "  firstScriptTag.parentNode.insertBefore(tag, firstScriptTag);\n",
              "});\n",
              "};\n",
              "\n",
              "if(typeof $3Dmolpromise === 'undefined') {\n",
              "$3Dmolpromise = null;\n",
              "  $3Dmolpromise = loadScriptAsync('https://cdn.jsdelivr.net/npm/3dmol@latest/build/3Dmol-min.min.js');\n",
              "}\n",
              "\n",
              "var viewer_16754042764767122 = null;\n",
              "var warn = document.getElementById(\"3dmolwarning_16754042764767122\");\n",
              "if(warn) {\n",
              "    warn.parentNode.removeChild(warn);\n",
              "}\n",
              "$3Dmolpromise.then(function() {\n",
              "viewer_16754042764767122 = $3Dmol.createViewer(document.getElementById(\"3dmolviewer_16754042764767122\"),{backgroundColor:\"white\"});\n",
              "viewer_16754042764767122.zoomTo();\n",
              "\tviewer_16754042764767122.addVolumetricData(\"Orbital value in real space (1/Bohr^3)\\nPySCF Version: 2.1.1  Date: Fri Feb  3 06:04:34 2023\\n    4   -5.000000   -5.000000   -5.000000\\n   10    1.489056    0.000000    0.000000\\n   10    0.000000    1.205253    0.000000\\n   10    0.000000    0.000000    1.438421\\n    1    0.000000    0.000000    0.000000    0.000000\\n    1    0.000000    3.401507    0.000000    0.000000\\n    1    0.000000    1.700754    0.000000    2.945791\\n    6    0.000000    1.698598    0.847276    0.847276\\n -4.31003E-08 -3.23128E-07 -1.26087E-06 -2.57530E-06 -2.78132E-06 -1.62919E-06\\n -5.54213E-07 -1.25208E-07 -2.07816E-08 -2.33946E-09\\n -2.39787E-07 -1.80535E-06 -7.08787E-06 -1.45959E-05 -1.59200E-05 -9.41610E-06\\n -3.21689E-06 -7.20571E-07 -1.17491E-07 -1.30502E-08\\n -8.30045E-07 -6.25403E-06 -2.45835E-05 -5.07180E-05 -5.54570E-05 -3.28929E-05\\n -1.12585E-05 -2.51878E-06 -4.09007E-07 -4.52680E-08\\n -1.77656E-06 -1.32986E-05 -5.18089E-05 -1.05683E-04 -1.14094E-04 -6.69115E-05\\n -2.28339E-05 -5.17877E-06 -8.61205E-07 -9.69356E-08\\n -2.32758E-06 -1.70690E-05 -6.45604E-05 -1.26555E-04 -1.30160E-04 -7.28216E-05\\n -2.44592E-05 -5.84647E-06 -1.06175E-06 -1.26650E-07\\n -1.83595E-06 -1.28234E-05 -4.49113E-05 -7.81765E-05 -6.74296E-05 -3.02705E-05\\n -9.26133E-06 -2.87553E-06 -7.12534E-07 -9.89792E-08\\n -8.45732E-07 -5.26198E-06 -1.46240E-05 -1.41499E-05  4.57795E-06  1.35793E-05\\n  5.91521E-06  4.42144E-07 -2.00257E-07 -4.45377E-08\\n -2.12393E-07 -9.24853E-07  5.80532E-08  9.90439E-06  2.31051E-05  2.03799E-05\\n  7.76898E-06  1.20288E-06  2.90473E-08 -1.04940E-08\\n -2.28059E-08  6.42603E-08  1.54527E-06  6.61728E-06  1.15448E-05  9.19678E-06\\n  3.43053E-06  5.80618E-07  3.59761E-08 -8.33356E-10\\n  9.72446E-10  5.57217E-08  4.84248E-07  1.70333E-06  2.74853E-06  2.11412E-06\\n  7.82347E-07  1.36755E-07  1.02278E-08  1.41541E-10\\n -3.56619E-07 -2.77934E-06 -1.14430E-05 -2.50575E-05 -2.94941E-05 -1.91840E-05\\n -7.40429E-06 -1.90618E-06 -3.45728E-07 -4.03466E-08\\n -2.00314E-06 -1.57564E-05 -6.56595E-05 -1.45826E-04 -1.74090E-04 -1.14347E-04\\n -4.40289E-05 -1.11118E-05 -1.96397E-06 -2.25421E-07\\n -6.94363E-06 -5.47152E-05 -2.28616E-04 -5.09572E-04 -6.10740E-04 -4.02505E-04\\n -1.55113E-04 -3.89970E-05 -6.84860E-06 -7.82416E-07\\n -1.46321E-05 -1.13736E-04 -4.67384E-04 -1.02388E-03 -1.20673E-03 -7.87483E-04\\n -3.05740E-04 -7.90745E-05 -1.43534E-05 -1.67308E-06\\n -1.82509E-05 -1.35324E-04 -5.22050E-04 -1.06121E-03 -1.15501E-03 -7.14827E-04\\n -2.86307E-04 -8.40300E-05 -1.73722E-05 -2.17429E-06\\n -1.27418E-05 -8.20115E-05 -2.47613E-04 -3.20871E-04 -1.27011E-04  1.76772E-05\\n -1.53629E-05 -3.00091E-05 -1.10110E-05 -1.67698E-06\\n -4.20660E-06 -1.28749E-05  5.15045E-05  3.73345E-04  7.34557E-04  5.97634E-04\\n  2.06719E-04  2.31217E-05 -2.31436E-06 -7.31423E-07\\n -3.51887E-08  1.20746E-05  1.14753E-04  4.14122E-04  6.72676E-04  5.13635E-04\\n  1.83915E-04  2.86486E-05  1.12883E-06 -1.57567E-07\\n  4.17160E-07  7.60917E-06  5.43256E-05  1.76668E-04  2.73791E-04  2.05327E-04\\n  7.43029E-05  1.25230E-05  8.29459E-07 -5.96830E-09\\n  1.32632E-07  1.93172E-06  1.26982E-05  3.97308E-05  6.03984E-05  4.49520E-05\\n  1.63458E-05  2.84597E-06  2.18170E-07  4.19206E-09\\n -1.57842E-06 -1.32096E-05 -5.93190E-05 -1.43029E-04 -1.85858E-04 -1.33161E-04\\n -5.62124E-05 -1.55067E-05 -2.91436E-06 -3.43961E-07\\n -9.03210E-06 -7.67941E-05 -3.50967E-04 -8.60746E-04 -1.13319E-03 -8.15454E-04\\n -3.40349E-04 -9.12098E-05 -1.66150E-05 -1.92424E-06\\n -3.14034E-05 -2.67916E-04 -1.23060E-03 -3.04241E-03 -4.01899E-03 -2.89262E-03\\n -1.20576E-03 -3.21133E-04 -5.80235E-05 -6.68269E-06\\n -6.42761E-05 -5.36421E-04 -2.42650E-03 -6.08624E-03 -7.86479E-03 -5.50825E-03\\n -2.33358E-03 -6.45880E-04 -1.21250E-04 -1.42758E-05\\n -7.23598E-05 -5.51384E-04 -2.28614E-03 -5.71132E-03 -6.67612E-03 -4.21829E-03\\n -1.96833E-03 -6.59309E-04 -1.44896E-04 -1.84774E-05\\n -3.57045E-05 -1.60380E-04 -8.73602E-05  8.98964E-04  2.71441E-03  2.33428E-03\\n  4.65221E-04 -1.72399E-04 -8.79963E-05 -1.41052E-05\\n  5.05779E-06  2.02811E-04  1.68660E-03  5.79366E-03  9.20623E-03  6.79344E-03\\n  2.26544E-03  2.75118E-04 -1.35683E-05 -5.99704E-06\\n  1.44838E-05  2.21048E-04  1.47857E-03  4.65676E-03  7.07845E-03  5.21153E-03\\n  1.83518E-03  2.88405E-04  1.33228E-05 -1.18967E-06\\n  7.00306E-06  9.39014E-05  5.93864E-04  1.81922E-03  2.72891E-03  2.00917E-03\\n  7.20589E-04  1.21698E-04  8.36159E-06  4.54150E-09\\n  1.64833E-06  2.10759E-05  1.30224E-04  3.94188E-04  5.88059E-04  4.32930E-04\\n  1.56568E-04  2.72768E-05  2.12486E-06  4.73245E-08\\n -4.03517E-06 -3.70480E-05 -1.82936E-04 -4.81423E-04 -6.73954E-04 -5.12767E-04\\n -2.26412E-04 -6.41590E-05 -1.21776E-05 -1.43933E-06\\n -2.36986E-05 -2.21897E-04 -1.11570E-03 -2.97920E-03 -4.20515E-03 -3.19359E-03\\n -1.38549E-03 -3.79479E-04 -6.95977E-05 -8.05988E-06\\n -8.27914E-05 -7.78952E-04 -3.94740E-03 -1.07253E-02 -1.51878E-02 -1.14374E-02\\n -4.93778E-03 -1.33996E-03 -2.43345E-04 -2.80048E-05\\n -1.62981E-04 -1.49615E-03 -7.64950E-03 -2.33070E-02 -3.29357E-02 -2.25326E-02\\n -9.68153E-03 -2.69825E-03 -5.07839E-04 -5.97923E-05\\n -1.55652E-04 -1.25268E-03 -6.24382E-03 -2.67714E-02 -3.59553E-02 -1.84486E-02\\n -8.28380E-03 -2.73015E-03 -6.02525E-04 -7.71895E-05\\n -1.81393E-05  3.01956E-04  3.19770E-03  1.02909E-02  2.43240E-02  1.62906E-02\\n  2.85540E-03 -5.83739E-04 -3.56175E-04 -5.85210E-05\\n  9.70540E-05  1.44035E-03  9.55529E-03  3.22642E-02  5.49032E-02  3.58807E-02\\n  1.07229E-02  1.33022E-03 -4.17825E-05 -2.44441E-05\\n  8.91799E-05  1.16183E-03  7.24508E-03  2.23233E-02  3.40059E-02  2.42728E-02\\n  8.35356E-03  1.31838E-03  6.54016E-05 -4.55190E-06\\n  3.63028E-05  4.54866E-04  2.77877E-03  8.35751E-03  1.24147E-02  9.07225E-03\\n  3.24160E-03  5.48754E-04  3.84745E-05  1.74255E-07\\n  8.00475E-06  9.86129E-05  5.97230E-04  1.78735E-03  2.64871E-03  1.94244E-03\\n  7.01277E-04  1.22327E-04  9.62114E-06  2.30680E-07\\n -6.46303E-06 -6.32938E-05 -3.30738E-04 -9.10577E-04 -1.31850E-03 -1.02750E-03\\n -4.60648E-04 -1.31411E-04 -2.49588E-05 -2.94682E-06\\n -3.87114E-05 -3.86500E-04 -2.05179E-03 -5.71401E-03 -8.31890E-03 -6.45076E-03\\n -2.83373E-03 -7.79543E-04 -1.42846E-04 -1.65108E-05\\n -1.35835E-04 -1.36341E-03 -7.29022E-03 -2.07332E-02 -3.08595E-02 -2.36133E-02\\n -1.02684E-02 -2.76720E-03 -4.99955E-04 -5.73895E-05\\n -2.60378E-04 -2.55659E-03 -1.38045E-02 -4.68807E-02 -8.39378E-02 -5.64125E-02\\n -2.30216E-02 -5.76671E-03 -1.04422E-03 -1.22520E-04\\n -2.16356E-04 -1.84038E-03 -9.75283E-03 -5.35526E-02 -1.57665E-01 -7.45810E-02\\n -2.83705E-02 -6.30583E-03 -1.23815E-03 -1.58008E-04\\n  5.55771E-05  1.30524E-03  1.03590E-02  5.61291E-02  1.56427E-01  5.78990E-02\\n  2.44793E-03 -1.47077E-03 -7.23872E-04 -1.19434E-04\\n  2.53804E-04  3.38421E-03  2.22337E-02  9.85559E-02  2.21691E-01  1.11805E-01\\n  2.37946E-02  2.83828E-03 -7.37439E-05 -4.94813E-05\\n  2.04131E-04  2.56156E-03  1.57655E-02  5.12262E-02  8.45600E-02  5.59537E-02\\n  1.78351E-02  2.79558E-03  1.42367E-04 -8.92949E-06\\n  7.98378E-05  9.81633E-04  5.93728E-03  1.78200E-02  2.65339E-02  1.92565E-02\\n  6.84392E-03  1.15940E-03  8.19739E-05  5.02793E-07\\n  1.72995E-05  2.10773E-04  1.26864E-03  3.78336E-03  5.59533E-03  4.09798E-03\\n  1.47869E-03  2.58115E-04  2.03863E-05  5.03531E-07\\n -6.77400E-06 -6.56105E-05 -3.39687E-04 -9.28554E-04 -1.33732E-03 -1.03779E-03\\n -4.63581E-04 -1.31846E-04 -2.49922E-05 -2.94814E-06\\n -4.04682E-05 -3.99763E-04 -2.10402E-03 -5.82174E-03 -8.43527E-03 -6.51660E-03\\n -2.85323E-03 -7.82546E-04 -1.43085E-04 -1.65206E-05\\n -1.42116E-04 -1.41175E-03 -7.48729E-03 -2.11739E-02 -3.13535E-02 -2.38922E-02\\n -1.03534E-02 -2.78077E-03 -5.01071E-04 -5.74363E-05\\n -2.74634E-04 -2.66936E-03 -1.43151E-02 -4.85006E-02 -8.58395E-02 -5.72786E-02\\n -2.32664E-02 -5.80645E-03 -1.04757E-03 -1.22664E-04\\n -2.36973E-04 -2.00929E-03 -1.06360E-02 -5.78331E-02 -1.63896E-01 -7.67575E-02\\n -2.88489E-02 -6.38022E-03 -1.24455E-03 -1.58286E-04\\n  3.65344E-05  1.14338E-03  9.50569E-03  5.12924E-02  1.40782E-01  5.41250E-02\\n  1.85668E-03 -1.55852E-03 -7.31513E-04 -1.19770E-04\\n  2.42559E-04  3.28479E-03  2.17355E-02  9.64075E-02  2.16543E-01  1.09703E-01\\n  2.33913E-02  2.77392E-03 -7.94197E-05 -4.97329E-05\\n  1.99891E-04  2.52248E-03  1.55710E-02  5.06592E-02  8.36421E-02  5.54009E-02\\n  1.76670E-02  2.76631E-03  1.39762E-04 -9.04558E-06\\n  7.88197E-05  9.71868E-04  5.88737E-03  1.76856E-02  2.63461E-02  1.91257E-02\\n  6.79783E-03  1.15118E-03  8.12378E-05  4.69870E-07\\n  1.71446E-05  2.09232E-04  1.26053E-03  3.76118E-03  5.56423E-03  4.07587E-03\\n  1.47077E-03  2.56693E-04  2.02586E-05  4.97803E-07\\n -4.59453E-06 -4.11960E-05 -1.98853E-04 -5.13107E-04 -7.06743E-04 -5.30434E-04\\n -2.31368E-04 -6.48817E-05 -1.22322E-05 -1.44146E-06\\n -2.68442E-05 -2.45474E-04 -1.20760E-03 -3.16621E-03 -4.40387E-03 -3.30396E-03\\n -1.41754E-03 -3.84324E-04 -6.99767E-05 -8.07513E-06\\n -9.39610E-05 -8.63997E-04 -4.28877E-03 -1.14701E-02 -1.60019E-02 -1.18897E-02\\n -5.07352E-03 -1.36125E-03 -2.45067E-04 -2.80761E-05\\n -1.88099E-04 -1.69182E-03 -8.50950E-03 -2.58453E-02 -3.57267E-02 -2.38018E-02\\n -1.00572E-02 -2.75901E-03 -5.12899E-04 -6.00068E-05\\n -1.91532E-04 -1.54065E-03 -7.66480E-03 -3.27667E-02 -4.27347E-02 -2.09344E-02\\n -8.96196E-03 -2.84146E-03 -6.12007E-04 -7.75987E-05\\n -5.07809E-05  3.14390E-05  1.88932E-03  5.60514E-03  1.78197E-02  1.33465E-02\\n  2.07616E-03 -7.12886E-04 -3.67365E-04 -5.90103E-05\\n  7.81135E-05  1.27758E-03  8.79227E-03  3.01128E-02  5.16906E-02  3.40349E-02\\n  1.01734E-02  1.23636E-03 -5.00218E-05 -2.48076E-05\\n  8.21707E-05  1.09915E-03  6.94405E-03  2.15425E-02  3.29335E-02  2.35597E-02\\n  8.11189E-03  1.27596E-03  6.16429E-05 -4.71882E-06\\n  3.46518E-05  4.39504E-04  2.70234E-03  8.15704E-03  1.21418E-02  8.88271E-03\\n  3.17485E-03  5.36893E-04  3.74169E-05  1.27077E-07\\n  7.75808E-06  9.62309E-05  5.84993E-04  1.75447E-03  2.60319E-03  1.91036E-03\\n  6.89855E-04  1.20284E-04  9.43814E-06  2.22491E-07\\n -1.90112E-06 -1.55881E-05 -6.83640E-05 -1.60809E-04 -2.03956E-04 -1.42714E-04\\n -5.88286E-05 -1.58783E-05 -2.94168E-06 -3.44998E-07\\n -1.08358E-05 -9.01822E-05 -4.02415E-04 -9.63375E-04 -1.23967E-03 -8.72995E-04\\n -3.56548E-04 -9.35810E-05 -1.67949E-05 -1.93127E-06\\n -3.77501E-05 -3.15525E-04 -1.41656E-03 -3.42366E-03 -4.42452E-03 -3.11713E-03\\n -1.27106E-03 -3.31026E-04 -5.87989E-05 -6.71394E-06\\n -7.83660E-05 -6.43721E-04 -2.85891E-03 -7.04832E-03 -8.91253E-03 -6.08038E-03\\n -2.50501E-03 -6.72774E-04 -1.23426E-04 -1.43659E-05\\n -9.21407E-05 -7.05118E-04 -2.93196E-03 -7.30107E-03 -8.45155E-03 -5.16687E-03\\n -2.25996E-03 -7.06546E-04 -1.48824E-04 -1.86438E-05\\n -5.33064E-05 -3.00667E-04 -6.89011E-04 -5.55230E-04  1.00330E-03  1.33610E-03\\n  1.46755E-04 -2.25410E-04 -9.25034E-05 -1.42993E-05\\n -4.88822E-06  1.21116E-04  1.32789E-03  4.94670E-03  8.15925E-03  6.12670E-03\\n  2.04465E-03  2.37526E-04 -1.68189E-05 -6.13887E-06\\n  1.09118E-05  1.90689E-04  1.34037E-03  4.32169E-03  6.65074E-03  4.92834E-03\\n  1.73886E-03  2.71717E-04  1.18616E-05 -1.25401E-06\\n  6.18804E-06  8.67190E-05  5.59924E-04  1.73410E-03  2.61716E-03  1.93339E-03\\n  6.94343E-04  1.17093E-04  7.95473E-06 -1.34913E-08\\n  1.53039E-06  1.99983E-05  1.24952E-04  3.80563E-04  5.69740E-04  4.20284E-04\\n  1.52130E-04  2.64910E-05  2.05498E-06  4.42128E-08\\n -4.42577E-07 -3.40972E-06 -1.38225E-05 -2.96856E-05 -3.41379E-05 -2.15902E-05\\n -8.04863E-06 -1.99536E-06 -3.52103E-07 -4.05816E-08\\n -2.48118E-06 -1.92763E-05 -7.90261E-05 -1.72048E-04 -2.00709E-04 -1.28349E-04\\n -4.78481E-05 -1.16518E-05 -2.00348E-06 -2.26913E-07\\n -8.61317E-06 -6.70831E-05 -2.76005E-04 -6.03723E-04 -7.07917E-04 -4.54689E-04\\n -1.69698E-04 -4.11155E-05 -7.00802E-06 -7.88605E-07\\n -1.82984E-05 -1.41136E-04 -5.73737E-04 -1.23915E-03 -1.43389E-03 -9.12623E-04\\n -3.41770E-04 -8.44736E-05 -1.47723E-05 -1.68981E-06\\n -2.33212E-05 -1.73682E-04 -6.73574E-04 -1.37552E-03 -1.49595E-03 -9.08379E-04\\n -3.43908E-04 -9.29476E-05 -1.80853E-05 -2.20352E-06\\n -1.71645E-05 -1.16018E-04 -3.84918E-04 -6.13340E-04 -4.54757E-04 -1.75164E-04\\n -7.47441E-05 -3.94934E-05 -1.17901E-05 -1.70965E-06\\n -6.64376E-06 -3.20020E-05 -2.77999E-05  1.99190E-04  5.32420E-04  4.74333E-04\\n  1.67513E-04  1.66847E-05 -2.85527E-06 -7.54517E-07\\n -8.84626E-07  5.24212E-06  8.55469E-05  3.47759E-04  5.92913E-04  4.63365E-04\\n  1.67476E-04  2.58870E-05  8.92557E-07 -1.67794E-07\\n  2.29796E-07  6.05933E-06  4.74797E-05  1.60567E-04  2.53795E-04  1.92359E-04\\n  6.99620E-05  1.17804E-05  7.65043E-07 -8.78550E-09\\n  1.06485E-07  1.70881E-06  1.16803E-05  3.72573E-05  5.72356E-05  4.28512E-05\\n  1.56293E-05  2.72166E-06  2.07274E-07  3.71194E-09\\n -5.42083E-08 -4.04333E-07 -1.56594E-06 -3.16460E-06 -3.36701E-06 -1.92888E-06\\n -6.33201E-07 -1.35934E-07 -2.15319E-08 -2.36649E-09\\n -3.01368E-07 -2.25646E-06 -8.78778E-06 -1.78942E-05 -1.92184E-05 -1.11177E-05\\n -3.67006E-06 -7.82886E-07 -1.21914E-07 -1.32120E-08\\n -1.04408E-06 -7.82681E-06 -3.05378E-05 -6.23481E-05 -6.71941E-05 -3.90205E-05\\n -1.29147E-05 -2.75050E-06 -4.25772E-07 -4.58939E-08\\n -2.24330E-06 -1.67439E-05 -6.49406E-05 -1.31580E-04 -1.40567E-04 -8.09608E-05\\n -2.67067E-05 -5.73284E-06 -9.02257E-07 -9.85055E-08\\n -2.96662E-06 -2.18168E-05 -8.28292E-05 -1.63059E-04 -1.68127E-04 -9.34026E-05\\n -3.02730E-05 -6.70054E-06 -1.12675E-06 -1.29201E-07\\n -2.38585E-06 -1.69452E-05 -6.09746E-05 -1.10831E-04 -1.02141E-04 -4.95768E-05\\n -1.48711E-05 -3.72376E-06 -7.78910E-07 -1.01650E-07\\n -1.14341E-06 -7.51941E-06 -2.35663E-05 -3.27210E-05 -1.56806E-05  1.97960E-06\\n  2.44177E-06 -9.85616E-08 -2.43701E-07 -4.63265E-08\\n -3.13859E-07 -1.70570E-06 -3.09745E-06  3.18490E-06  1.55603E-05  1.59258E-05\\n  6.39481E-06  9.83064E-07  1.09659E-08 -1.12531E-08\\n -4.45981E-08 -1.06442E-07  8.39250E-07  5.07155E-06  9.75595E-06  8.10842E-06\\n  3.08529E-06  5.24053E-07  3.12305E-08 -1.03572E-09\\n -1.97763E-09  3.21364E-08  3.84172E-07  1.47777E-06  2.47957E-06  1.94582E-06\\n  7.27641E-07  1.27610E-07  9.44817E-09  1.07887E-10\\n\",\"cube\",{\"isoval\": 1.0, \"volformat\": \"cube\"});\n",
              "\tviewer_16754042764767122.addModel(\"Orbital value in real space (1/Bohr^3)\\nPySCF Version: 2.1.1  Date: Fri Feb  3 06:04:34 2023\\n    4   -5.000000   -5.000000   -5.000000\\n   10    1.489056    0.000000    0.000000\\n   10    0.000000    1.205253    0.000000\\n   10    0.000000    0.000000    1.438421\\n    1    0.000000    0.000000    0.000000    0.000000\\n    1    0.000000    3.401507    0.000000    0.000000\\n    1    0.000000    1.700754    0.000000    2.945791\\n    6    0.000000    1.698598    0.847276    0.847276\\n -4.31003E-08 -3.23128E-07 -1.26087E-06 -2.57530E-06 -2.78132E-06 -1.62919E-06\\n -5.54213E-07 -1.25208E-07 -2.07816E-08 -2.33946E-09\\n -2.39787E-07 -1.80535E-06 -7.08787E-06 -1.45959E-05 -1.59200E-05 -9.41610E-06\\n -3.21689E-06 -7.20571E-07 -1.17491E-07 -1.30502E-08\\n -8.30045E-07 -6.25403E-06 -2.45835E-05 -5.07180E-05 -5.54570E-05 -3.28929E-05\\n -1.12585E-05 -2.51878E-06 -4.09007E-07 -4.52680E-08\\n -1.77656E-06 -1.32986E-05 -5.18089E-05 -1.05683E-04 -1.14094E-04 -6.69115E-05\\n -2.28339E-05 -5.17877E-06 -8.61205E-07 -9.69356E-08\\n -2.32758E-06 -1.70690E-05 -6.45604E-05 -1.26555E-04 -1.30160E-04 -7.28216E-05\\n -2.44592E-05 -5.84647E-06 -1.06175E-06 -1.26650E-07\\n -1.83595E-06 -1.28234E-05 -4.49113E-05 -7.81765E-05 -6.74296E-05 -3.02705E-05\\n -9.26133E-06 -2.87553E-06 -7.12534E-07 -9.89792E-08\\n -8.45732E-07 -5.26198E-06 -1.46240E-05 -1.41499E-05  4.57795E-06  1.35793E-05\\n  5.91521E-06  4.42144E-07 -2.00257E-07 -4.45377E-08\\n -2.12393E-07 -9.24853E-07  5.80532E-08  9.90439E-06  2.31051E-05  2.03799E-05\\n  7.76898E-06  1.20288E-06  2.90473E-08 -1.04940E-08\\n -2.28059E-08  6.42603E-08  1.54527E-06  6.61728E-06  1.15448E-05  9.19678E-06\\n  3.43053E-06  5.80618E-07  3.59761E-08 -8.33356E-10\\n  9.72446E-10  5.57217E-08  4.84248E-07  1.70333E-06  2.74853E-06  2.11412E-06\\n  7.82347E-07  1.36755E-07  1.02278E-08  1.41541E-10\\n -3.56619E-07 -2.77934E-06 -1.14430E-05 -2.50575E-05 -2.94941E-05 -1.91840E-05\\n -7.40429E-06 -1.90618E-06 -3.45728E-07 -4.03466E-08\\n -2.00314E-06 -1.57564E-05 -6.56595E-05 -1.45826E-04 -1.74090E-04 -1.14347E-04\\n -4.40289E-05 -1.11118E-05 -1.96397E-06 -2.25421E-07\\n -6.94363E-06 -5.47152E-05 -2.28616E-04 -5.09572E-04 -6.10740E-04 -4.02505E-04\\n -1.55113E-04 -3.89970E-05 -6.84860E-06 -7.82416E-07\\n -1.46321E-05 -1.13736E-04 -4.67384E-04 -1.02388E-03 -1.20673E-03 -7.87483E-04\\n -3.05740E-04 -7.90745E-05 -1.43534E-05 -1.67308E-06\\n -1.82509E-05 -1.35324E-04 -5.22050E-04 -1.06121E-03 -1.15501E-03 -7.14827E-04\\n -2.86307E-04 -8.40300E-05 -1.73722E-05 -2.17429E-06\\n -1.27418E-05 -8.20115E-05 -2.47613E-04 -3.20871E-04 -1.27011E-04  1.76772E-05\\n -1.53629E-05 -3.00091E-05 -1.10110E-05 -1.67698E-06\\n -4.20660E-06 -1.28749E-05  5.15045E-05  3.73345E-04  7.34557E-04  5.97634E-04\\n  2.06719E-04  2.31217E-05 -2.31436E-06 -7.31423E-07\\n -3.51887E-08  1.20746E-05  1.14753E-04  4.14122E-04  6.72676E-04  5.13635E-04\\n  1.83915E-04  2.86486E-05  1.12883E-06 -1.57567E-07\\n  4.17160E-07  7.60917E-06  5.43256E-05  1.76668E-04  2.73791E-04  2.05327E-04\\n  7.43029E-05  1.25230E-05  8.29459E-07 -5.96830E-09\\n  1.32632E-07  1.93172E-06  1.26982E-05  3.97308E-05  6.03984E-05  4.49520E-05\\n  1.63458E-05  2.84597E-06  2.18170E-07  4.19206E-09\\n -1.57842E-06 -1.32096E-05 -5.93190E-05 -1.43029E-04 -1.85858E-04 -1.33161E-04\\n -5.62124E-05 -1.55067E-05 -2.91436E-06 -3.43961E-07\\n -9.03210E-06 -7.67941E-05 -3.50967E-04 -8.60746E-04 -1.13319E-03 -8.15454E-04\\n -3.40349E-04 -9.12098E-05 -1.66150E-05 -1.92424E-06\\n -3.14034E-05 -2.67916E-04 -1.23060E-03 -3.04241E-03 -4.01899E-03 -2.89262E-03\\n -1.20576E-03 -3.21133E-04 -5.80235E-05 -6.68269E-06\\n -6.42761E-05 -5.36421E-04 -2.42650E-03 -6.08624E-03 -7.86479E-03 -5.50825E-03\\n -2.33358E-03 -6.45880E-04 -1.21250E-04 -1.42758E-05\\n -7.23598E-05 -5.51384E-04 -2.28614E-03 -5.71132E-03 -6.67612E-03 -4.21829E-03\\n -1.96833E-03 -6.59309E-04 -1.44896E-04 -1.84774E-05\\n -3.57045E-05 -1.60380E-04 -8.73602E-05  8.98964E-04  2.71441E-03  2.33428E-03\\n  4.65221E-04 -1.72399E-04 -8.79963E-05 -1.41052E-05\\n  5.05779E-06  2.02811E-04  1.68660E-03  5.79366E-03  9.20623E-03  6.79344E-03\\n  2.26544E-03  2.75118E-04 -1.35683E-05 -5.99704E-06\\n  1.44838E-05  2.21048E-04  1.47857E-03  4.65676E-03  7.07845E-03  5.21153E-03\\n  1.83518E-03  2.88405E-04  1.33228E-05 -1.18967E-06\\n  7.00306E-06  9.39014E-05  5.93864E-04  1.81922E-03  2.72891E-03  2.00917E-03\\n  7.20589E-04  1.21698E-04  8.36159E-06  4.54150E-09\\n  1.64833E-06  2.10759E-05  1.30224E-04  3.94188E-04  5.88059E-04  4.32930E-04\\n  1.56568E-04  2.72768E-05  2.12486E-06  4.73245E-08\\n -4.03517E-06 -3.70480E-05 -1.82936E-04 -4.81423E-04 -6.73954E-04 -5.12767E-04\\n -2.26412E-04 -6.41590E-05 -1.21776E-05 -1.43933E-06\\n -2.36986E-05 -2.21897E-04 -1.11570E-03 -2.97920E-03 -4.20515E-03 -3.19359E-03\\n -1.38549E-03 -3.79479E-04 -6.95977E-05 -8.05988E-06\\n -8.27914E-05 -7.78952E-04 -3.94740E-03 -1.07253E-02 -1.51878E-02 -1.14374E-02\\n -4.93778E-03 -1.33996E-03 -2.43345E-04 -2.80048E-05\\n -1.62981E-04 -1.49615E-03 -7.64950E-03 -2.33070E-02 -3.29357E-02 -2.25326E-02\\n -9.68153E-03 -2.69825E-03 -5.07839E-04 -5.97923E-05\\n -1.55652E-04 -1.25268E-03 -6.24382E-03 -2.67714E-02 -3.59553E-02 -1.84486E-02\\n -8.28380E-03 -2.73015E-03 -6.02525E-04 -7.71895E-05\\n -1.81393E-05  3.01956E-04  3.19770E-03  1.02909E-02  2.43240E-02  1.62906E-02\\n  2.85540E-03 -5.83739E-04 -3.56175E-04 -5.85210E-05\\n  9.70540E-05  1.44035E-03  9.55529E-03  3.22642E-02  5.49032E-02  3.58807E-02\\n  1.07229E-02  1.33022E-03 -4.17825E-05 -2.44441E-05\\n  8.91799E-05  1.16183E-03  7.24508E-03  2.23233E-02  3.40059E-02  2.42728E-02\\n  8.35356E-03  1.31838E-03  6.54016E-05 -4.55190E-06\\n  3.63028E-05  4.54866E-04  2.77877E-03  8.35751E-03  1.24147E-02  9.07225E-03\\n  3.24160E-03  5.48754E-04  3.84745E-05  1.74255E-07\\n  8.00475E-06  9.86129E-05  5.97230E-04  1.78735E-03  2.64871E-03  1.94244E-03\\n  7.01277E-04  1.22327E-04  9.62114E-06  2.30680E-07\\n -6.46303E-06 -6.32938E-05 -3.30738E-04 -9.10577E-04 -1.31850E-03 -1.02750E-03\\n -4.60648E-04 -1.31411E-04 -2.49588E-05 -2.94682E-06\\n -3.87114E-05 -3.86500E-04 -2.05179E-03 -5.71401E-03 -8.31890E-03 -6.45076E-03\\n -2.83373E-03 -7.79543E-04 -1.42846E-04 -1.65108E-05\\n -1.35835E-04 -1.36341E-03 -7.29022E-03 -2.07332E-02 -3.08595E-02 -2.36133E-02\\n -1.02684E-02 -2.76720E-03 -4.99955E-04 -5.73895E-05\\n -2.60378E-04 -2.55659E-03 -1.38045E-02 -4.68807E-02 -8.39378E-02 -5.64125E-02\\n -2.30216E-02 -5.76671E-03 -1.04422E-03 -1.22520E-04\\n -2.16356E-04 -1.84038E-03 -9.75283E-03 -5.35526E-02 -1.57665E-01 -7.45810E-02\\n -2.83705E-02 -6.30583E-03 -1.23815E-03 -1.58008E-04\\n  5.55771E-05  1.30524E-03  1.03590E-02  5.61291E-02  1.56427E-01  5.78990E-02\\n  2.44793E-03 -1.47077E-03 -7.23872E-04 -1.19434E-04\\n  2.53804E-04  3.38421E-03  2.22337E-02  9.85559E-02  2.21691E-01  1.11805E-01\\n  2.37946E-02  2.83828E-03 -7.37439E-05 -4.94813E-05\\n  2.04131E-04  2.56156E-03  1.57655E-02  5.12262E-02  8.45600E-02  5.59537E-02\\n  1.78351E-02  2.79558E-03  1.42367E-04 -8.92949E-06\\n  7.98378E-05  9.81633E-04  5.93728E-03  1.78200E-02  2.65339E-02  1.92565E-02\\n  6.84392E-03  1.15940E-03  8.19739E-05  5.02793E-07\\n  1.72995E-05  2.10773E-04  1.26864E-03  3.78336E-03  5.59533E-03  4.09798E-03\\n  1.47869E-03  2.58115E-04  2.03863E-05  5.03531E-07\\n -6.77400E-06 -6.56105E-05 -3.39687E-04 -9.28554E-04 -1.33732E-03 -1.03779E-03\\n -4.63581E-04 -1.31846E-04 -2.49922E-05 -2.94814E-06\\n -4.04682E-05 -3.99763E-04 -2.10402E-03 -5.82174E-03 -8.43527E-03 -6.51660E-03\\n -2.85323E-03 -7.82546E-04 -1.43085E-04 -1.65206E-05\\n -1.42116E-04 -1.41175E-03 -7.48729E-03 -2.11739E-02 -3.13535E-02 -2.38922E-02\\n -1.03534E-02 -2.78077E-03 -5.01071E-04 -5.74363E-05\\n -2.74634E-04 -2.66936E-03 -1.43151E-02 -4.85006E-02 -8.58395E-02 -5.72786E-02\\n -2.32664E-02 -5.80645E-03 -1.04757E-03 -1.22664E-04\\n -2.36973E-04 -2.00929E-03 -1.06360E-02 -5.78331E-02 -1.63896E-01 -7.67575E-02\\n -2.88489E-02 -6.38022E-03 -1.24455E-03 -1.58286E-04\\n  3.65344E-05  1.14338E-03  9.50569E-03  5.12924E-02  1.40782E-01  5.41250E-02\\n  1.85668E-03 -1.55852E-03 -7.31513E-04 -1.19770E-04\\n  2.42559E-04  3.28479E-03  2.17355E-02  9.64075E-02  2.16543E-01  1.09703E-01\\n  2.33913E-02  2.77392E-03 -7.94197E-05 -4.97329E-05\\n  1.99891E-04  2.52248E-03  1.55710E-02  5.06592E-02  8.36421E-02  5.54009E-02\\n  1.76670E-02  2.76631E-03  1.39762E-04 -9.04558E-06\\n  7.88197E-05  9.71868E-04  5.88737E-03  1.76856E-02  2.63461E-02  1.91257E-02\\n  6.79783E-03  1.15118E-03  8.12378E-05  4.69870E-07\\n  1.71446E-05  2.09232E-04  1.26053E-03  3.76118E-03  5.56423E-03  4.07587E-03\\n  1.47077E-03  2.56693E-04  2.02586E-05  4.97803E-07\\n -4.59453E-06 -4.11960E-05 -1.98853E-04 -5.13107E-04 -7.06743E-04 -5.30434E-04\\n -2.31368E-04 -6.48817E-05 -1.22322E-05 -1.44146E-06\\n -2.68442E-05 -2.45474E-04 -1.20760E-03 -3.16621E-03 -4.40387E-03 -3.30396E-03\\n -1.41754E-03 -3.84324E-04 -6.99767E-05 -8.07513E-06\\n -9.39610E-05 -8.63997E-04 -4.28877E-03 -1.14701E-02 -1.60019E-02 -1.18897E-02\\n -5.07352E-03 -1.36125E-03 -2.45067E-04 -2.80761E-05\\n -1.88099E-04 -1.69182E-03 -8.50950E-03 -2.58453E-02 -3.57267E-02 -2.38018E-02\\n -1.00572E-02 -2.75901E-03 -5.12899E-04 -6.00068E-05\\n -1.91532E-04 -1.54065E-03 -7.66480E-03 -3.27667E-02 -4.27347E-02 -2.09344E-02\\n -8.96196E-03 -2.84146E-03 -6.12007E-04 -7.75987E-05\\n -5.07809E-05  3.14390E-05  1.88932E-03  5.60514E-03  1.78197E-02  1.33465E-02\\n  2.07616E-03 -7.12886E-04 -3.67365E-04 -5.90103E-05\\n  7.81135E-05  1.27758E-03  8.79227E-03  3.01128E-02  5.16906E-02  3.40349E-02\\n  1.01734E-02  1.23636E-03 -5.00218E-05 -2.48076E-05\\n  8.21707E-05  1.09915E-03  6.94405E-03  2.15425E-02  3.29335E-02  2.35597E-02\\n  8.11189E-03  1.27596E-03  6.16429E-05 -4.71882E-06\\n  3.46518E-05  4.39504E-04  2.70234E-03  8.15704E-03  1.21418E-02  8.88271E-03\\n  3.17485E-03  5.36893E-04  3.74169E-05  1.27077E-07\\n  7.75808E-06  9.62309E-05  5.84993E-04  1.75447E-03  2.60319E-03  1.91036E-03\\n  6.89855E-04  1.20284E-04  9.43814E-06  2.22491E-07\\n -1.90112E-06 -1.55881E-05 -6.83640E-05 -1.60809E-04 -2.03956E-04 -1.42714E-04\\n -5.88286E-05 -1.58783E-05 -2.94168E-06 -3.44998E-07\\n -1.08358E-05 -9.01822E-05 -4.02415E-04 -9.63375E-04 -1.23967E-03 -8.72995E-04\\n -3.56548E-04 -9.35810E-05 -1.67949E-05 -1.93127E-06\\n -3.77501E-05 -3.15525E-04 -1.41656E-03 -3.42366E-03 -4.42452E-03 -3.11713E-03\\n -1.27106E-03 -3.31026E-04 -5.87989E-05 -6.71394E-06\\n -7.83660E-05 -6.43721E-04 -2.85891E-03 -7.04832E-03 -8.91253E-03 -6.08038E-03\\n -2.50501E-03 -6.72774E-04 -1.23426E-04 -1.43659E-05\\n -9.21407E-05 -7.05118E-04 -2.93196E-03 -7.30107E-03 -8.45155E-03 -5.16687E-03\\n -2.25996E-03 -7.06546E-04 -1.48824E-04 -1.86438E-05\\n -5.33064E-05 -3.00667E-04 -6.89011E-04 -5.55230E-04  1.00330E-03  1.33610E-03\\n  1.46755E-04 -2.25410E-04 -9.25034E-05 -1.42993E-05\\n -4.88822E-06  1.21116E-04  1.32789E-03  4.94670E-03  8.15925E-03  6.12670E-03\\n  2.04465E-03  2.37526E-04 -1.68189E-05 -6.13887E-06\\n  1.09118E-05  1.90689E-04  1.34037E-03  4.32169E-03  6.65074E-03  4.92834E-03\\n  1.73886E-03  2.71717E-04  1.18616E-05 -1.25401E-06\\n  6.18804E-06  8.67190E-05  5.59924E-04  1.73410E-03  2.61716E-03  1.93339E-03\\n  6.94343E-04  1.17093E-04  7.95473E-06 -1.34913E-08\\n  1.53039E-06  1.99983E-05  1.24952E-04  3.80563E-04  5.69740E-04  4.20284E-04\\n  1.52130E-04  2.64910E-05  2.05498E-06  4.42128E-08\\n -4.42577E-07 -3.40972E-06 -1.38225E-05 -2.96856E-05 -3.41379E-05 -2.15902E-05\\n -8.04863E-06 -1.99536E-06 -3.52103E-07 -4.05816E-08\\n -2.48118E-06 -1.92763E-05 -7.90261E-05 -1.72048E-04 -2.00709E-04 -1.28349E-04\\n -4.78481E-05 -1.16518E-05 -2.00348E-06 -2.26913E-07\\n -8.61317E-06 -6.70831E-05 -2.76005E-04 -6.03723E-04 -7.07917E-04 -4.54689E-04\\n -1.69698E-04 -4.11155E-05 -7.00802E-06 -7.88605E-07\\n -1.82984E-05 -1.41136E-04 -5.73737E-04 -1.23915E-03 -1.43389E-03 -9.12623E-04\\n -3.41770E-04 -8.44736E-05 -1.47723E-05 -1.68981E-06\\n -2.33212E-05 -1.73682E-04 -6.73574E-04 -1.37552E-03 -1.49595E-03 -9.08379E-04\\n -3.43908E-04 -9.29476E-05 -1.80853E-05 -2.20352E-06\\n -1.71645E-05 -1.16018E-04 -3.84918E-04 -6.13340E-04 -4.54757E-04 -1.75164E-04\\n -7.47441E-05 -3.94934E-05 -1.17901E-05 -1.70965E-06\\n -6.64376E-06 -3.20020E-05 -2.77999E-05  1.99190E-04  5.32420E-04  4.74333E-04\\n  1.67513E-04  1.66847E-05 -2.85527E-06 -7.54517E-07\\n -8.84626E-07  5.24212E-06  8.55469E-05  3.47759E-04  5.92913E-04  4.63365E-04\\n  1.67476E-04  2.58870E-05  8.92557E-07 -1.67794E-07\\n  2.29796E-07  6.05933E-06  4.74797E-05  1.60567E-04  2.53795E-04  1.92359E-04\\n  6.99620E-05  1.17804E-05  7.65043E-07 -8.78550E-09\\n  1.06485E-07  1.70881E-06  1.16803E-05  3.72573E-05  5.72356E-05  4.28512E-05\\n  1.56293E-05  2.72166E-06  2.07274E-07  3.71194E-09\\n -5.42083E-08 -4.04333E-07 -1.56594E-06 -3.16460E-06 -3.36701E-06 -1.92888E-06\\n -6.33201E-07 -1.35934E-07 -2.15319E-08 -2.36649E-09\\n -3.01368E-07 -2.25646E-06 -8.78778E-06 -1.78942E-05 -1.92184E-05 -1.11177E-05\\n -3.67006E-06 -7.82886E-07 -1.21914E-07 -1.32120E-08\\n -1.04408E-06 -7.82681E-06 -3.05378E-05 -6.23481E-05 -6.71941E-05 -3.90205E-05\\n -1.29147E-05 -2.75050E-06 -4.25772E-07 -4.58939E-08\\n -2.24330E-06 -1.67439E-05 -6.49406E-05 -1.31580E-04 -1.40567E-04 -8.09608E-05\\n -2.67067E-05 -5.73284E-06 -9.02257E-07 -9.85055E-08\\n -2.96662E-06 -2.18168E-05 -8.28292E-05 -1.63059E-04 -1.68127E-04 -9.34026E-05\\n -3.02730E-05 -6.70054E-06 -1.12675E-06 -1.29201E-07\\n -2.38585E-06 -1.69452E-05 -6.09746E-05 -1.10831E-04 -1.02141E-04 -4.95768E-05\\n -1.48711E-05 -3.72376E-06 -7.78910E-07 -1.01650E-07\\n -1.14341E-06 -7.51941E-06 -2.35663E-05 -3.27210E-05 -1.56806E-05  1.97960E-06\\n  2.44177E-06 -9.85616E-08 -2.43701E-07 -4.63265E-08\\n -3.13859E-07 -1.70570E-06 -3.09745E-06  3.18490E-06  1.55603E-05  1.59258E-05\\n  6.39481E-06  9.83064E-07  1.09659E-08 -1.12531E-08\\n -4.45981E-08 -1.06442E-07  8.39250E-07  5.07155E-06  9.75595E-06  8.10842E-06\\n  3.08529E-06  5.24053E-07  3.12305E-08 -1.03572E-09\\n -1.97763E-09  3.21364E-08  3.84172E-07  1.47777E-06  2.47957E-06  1.94582E-06\\n  7.27641E-07  1.27610E-07  9.44817E-09  1.07887E-10\\n\",\"cube\");\n",
              "\tviewer_16754042764767122.setStyle({\"stick\": {}});\n",
              "\tviewer_16754042764767122.zoomTo();\n",
              "viewer_16754042764767122.render();\n",
              "});\n",
              "</script>"
            ]
          },
          "metadata": {}
        }
      ],
      "source": [
        "\n",
        "data = None\n",
        "with open(\"opt.cube\", \"r\") as infile:\n",
        "    data = infile.read()\n",
        "view = py3Dmol.view()\n",
        "view.addVolumetricData(\n",
        "    data,\n",
        "    \"cube\",\n",
        "    {\n",
        "        \"isoval\": 1.0,\n",
        "        \"volformat\": \"cube\",\n",
        "    },\n",
        ")\n",
        "view.addModel(data, \"cube\")\n",
        "view.setStyle({\"stick\": {}})\n",
        "view.zoomTo()\n",
        "view.show()"
      ]
    },
    {
      "cell_type": "code",
      "execution_count": null,
      "metadata": {
        "id": "vPFJLvRP-nK_"
      },
      "outputs": [],
      "source": []
    }
  ],
  "metadata": {
    "colab": {
      "provenance": [],
      "authorship_tag": "ABX9TyP13mPK00L7sEgcAeF4BWcN",
      "include_colab_link": true
    },
    "kernelspec": {
      "display_name": "Python 3",
      "name": "python3"
    },
    "language_info": {
      "name": "python"
    }
  },
  "nbformat": 4,
  "nbformat_minor": 0
}