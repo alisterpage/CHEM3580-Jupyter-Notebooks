{
  "nbformat": 4,
  "nbformat_minor": 0,
  "metadata": {
    "colab": {
      "provenance": [],
      "authorship_tag": "ABX9TyOROef2j7dlplzeTR4SeAtC",
      "include_colab_link": true
    },
    "kernelspec": {
      "name": "python3",
      "display_name": "Python 3"
    },
    "language_info": {
      "name": "python"
    }
  },
  "cells": [
    {
      "cell_type": "markdown",
      "metadata": {
        "id": "view-in-github",
        "colab_type": "text"
      },
      "source": [
        "<a href=\"https://colab.research.google.com/github/alisterpage/CHEM3580-Jupyter-Notebooks/blob/main/twisting_carbenes.ipynb\" target=\"_parent\"><img src=\"https://colab.research.google.com/assets/colab-badge.svg\" alt=\"Open In Colab\"/></a>"
      ]
    },
    {
      "cell_type": "code",
      "source": [
        "!pip install pyscf pyberny py3Dmol"
      ],
      "metadata": {
        "colab": {
          "base_uri": "https://localhost:8080/"
        },
        "id": "kp6SqarFumzm",
        "outputId": "5dc6ce6e-afb2-4b76-b3a9-5e039e0b4d25"
      },
      "execution_count": 1,
      "outputs": [
        {
          "output_type": "stream",
          "name": "stdout",
          "text": [
            "Looking in indexes: https://pypi.org/simple, https://us-python.pkg.dev/colab-wheels/public/simple/\n",
            "Requirement already satisfied: pyscf in /usr/local/lib/python3.8/dist-packages (2.1.1)\n",
            "Requirement already satisfied: pyberny in /usr/local/lib/python3.8/dist-packages (0.6.3)\n",
            "Requirement already satisfied: py3Dmol in /usr/local/lib/python3.8/dist-packages (2.0.0.post2)\n",
            "Requirement already satisfied: h5py>=2.7 in /usr/local/lib/python3.8/dist-packages (from pyscf) (3.1.0)\n",
            "Requirement already satisfied: numpy!=1.16,!=1.17,>=1.13 in /usr/local/lib/python3.8/dist-packages (from pyscf) (1.21.6)\n",
            "Requirement already satisfied: scipy!=1.5.0,!=1.5.1 in /usr/local/lib/python3.8/dist-packages (from pyscf) (1.7.3)\n"
          ]
        }
      ]
    },
    {
      "cell_type": "code",
      "execution_count": 2,
      "metadata": {
        "colab": {
          "base_uri": "https://localhost:8080/"
        },
        "id": "P-tsQOfkuAt-",
        "outputId": "37ab3f57-8f3b-4617-b570-d93631f3caa3"
      },
      "outputs": [
        {
          "output_type": "stream",
          "name": "stderr",
          "text": [
            "INFO:pyscf.geomopt.berny_solver.139762369354432:0 Internal coordinates:\n",
            "INFO:pyscf.geomopt.berny_solver.139762369354432:0 * Number of fragments: 1\n",
            "INFO:pyscf.geomopt.berny_solver.139762369354432:0 * Number of internal coordinates: 6\n",
            "INFO:pyscf.geomopt.berny_solver.139762369354432:0 * Number of strong bonds: 3\n",
            "INFO:pyscf.geomopt.berny_solver.139762369354432:0 * Number of strong angles: 3\n"
          ]
        },
        {
          "output_type": "stream",
          "name": "stdout",
          "text": [
            "\n",
            "Geometry optimization cycle 1\n"
          ]
        },
        {
          "output_type": "stream",
          "name": "stderr",
          "text": [
            "<class 'pyscf.scf.hf.as_scanner.<locals>.SCF_Scanner'> does not have attributes  xc\n"
          ]
        },
        {
          "output_type": "stream",
          "name": "stdout",
          "text": [
            "Cartesian coordinates (Angstrom)\n",
            " Atom        New coordinates             dX        dY        dZ\n",
            "   C   0.000000   0.000000   0.000000    0.000000  0.000000  0.000000\n",
            "   H   1.100000   0.000000   0.000000    0.000000  0.000000  0.000000\n",
            "   H  -0.367188   0.000000   1.036906    0.000000  0.000000  0.000000\n",
            "   H  -0.367188   0.897987  -0.518453    0.000000  0.000000  0.000000\n",
            "converged SCF energy = -39.5454868007801\n",
            "--------------- SCF_Scanner gradients ---------------\n",
            "         x                y                z\n",
            "0 C    -0.0175293204    -0.0431944078    -0.0249383030\n",
            "1 H     0.0130335764     0.0121859067     0.0070355365\n",
            "2 H     0.0022478720     0.0122429619     0.0146001008\n",
            "3 H     0.0022478720     0.0187655392     0.0033026656\n",
            "----------------------------------------------\n",
            "cycle 1: E = -39.5454868008  dE = -39.5455  norm(grad) = 0.0624422\n"
          ]
        },
        {
          "output_type": "stream",
          "name": "stderr",
          "text": [
            "INFO:pyscf.geomopt.berny_solver.139762369354432:1 Energy: -39.5454868008\n",
            "INFO:pyscf.geomopt.berny_solver.139762369354432:1 Pure RFO step was performed:\n",
            "INFO:pyscf.geomopt.berny_solver.139762369354432:1 * Trust radius: 0.3\n",
            "INFO:pyscf.geomopt.berny_solver.139762369354432:1 * Number of negative eigenvalues: 0\n",
            "INFO:pyscf.geomopt.berny_solver.139762369354432:1 * Lowest eigenvalue: 0.164\n",
            "INFO:pyscf.geomopt.berny_solver.139762369354432:1 * lambda: -0.0154\n",
            "INFO:pyscf.geomopt.berny_solver.139762369354432:1 Quadratic step: RMS: 0.117, max: 0.164\n",
            "INFO:pyscf.geomopt.berny_solver.139762369354432:1 * Predicted energy change: -0.00835\n",
            "INFO:pyscf.geomopt.berny_solver.139762369354432:1 Total step: RMS: 0.117, max: 0.164\n",
            "INFO:pyscf.geomopt.berny_solver.139762369354432:1 Perfect transformation to cartesians in 19 iterations\n",
            "INFO:pyscf.geomopt.berny_solver.139762369354432:1 * RMS(dcart): 9.2e-07, RMS(dq): 1.13e-06\n",
            "INFO:pyscf.geomopt.berny_solver.139762369354432:1 Convergence criteria:\n",
            "INFO:pyscf.geomopt.berny_solver.139762369354432:1 * Gradient RMS: 0.0227 > 0.00015 => no\n",
            "INFO:pyscf.geomopt.berny_solver.139762369354432:1 * Gradient maximum: 0.0294 > 0.00045 => no\n",
            "INFO:pyscf.geomopt.berny_solver.139762369354432:1 * Step RMS: 0.117 > 0.0012 => no\n",
            "INFO:pyscf.geomopt.berny_solver.139762369354432:1 * Step maximum: 0.164 > 0.0018 => no\n"
          ]
        },
        {
          "output_type": "stream",
          "name": "stdout",
          "text": [
            "\n",
            "Geometry optimization cycle 2\n",
            "Cartesian coordinates (Angstrom)\n",
            " Atom        New coordinates             dX        dY        dZ\n",
            "   C   0.062224   0.152884   0.088268    0.062224  0.152884  0.088268\n",
            "   H   1.118982  -0.063113  -0.036438    0.018982 -0.063113 -0.036438\n",
            "   H  -0.407791  -0.063314   1.042909   -0.040603 -0.063314  0.006004\n",
            "   H  -0.407791   0.871529  -0.576286   -0.040603 -0.026458 -0.057833\n",
            "\n",
            "WARN: Large deviations found between the input molecule and the molecule from chkfile\n",
            "Initial guess density matrix may have large error.\n",
            "\n",
            "converged SCF energy = -39.5541244263192\n",
            "--------------- SCF_Scanner gradients ---------------\n",
            "         x                y                z\n",
            "0 C    -0.0011389066    -0.0028716497    -0.0016579477\n",
            "1 H     0.0096969994    -0.0018960245    -0.0010946702\n",
            "2 H    -0.0042790464    -0.0018941239     0.0087859548\n",
            "3 H    -0.0042790464     0.0066617981    -0.0060333368\n",
            "----------------------------------------------\n",
            "cycle 2: E = -39.5541244263  dE = -0.00863763  norm(grad) = 0.0175869\n"
          ]
        },
        {
          "output_type": "stream",
          "name": "stderr",
          "text": [
            "INFO:pyscf.geomopt.berny_solver.139762369354432:2 Energy: -39.5541244263\n",
            "INFO:pyscf.geomopt.berny_solver.139762369354432:2 Hessian update information:\n",
            "INFO:pyscf.geomopt.berny_solver.139762369354432:2 * Change: RMS: 0.014, max: 0.0178\n",
            "INFO:pyscf.geomopt.berny_solver.139762369354432:2 Trust update: Fletcher's parameter: 1.03\n",
            "INFO:pyscf.geomopt.berny_solver.139762369354432:2 Linear interpolation:\n",
            "INFO:pyscf.geomopt.berny_solver.139762369354432:2 * Energies: -39.554124, -39.545487\n",
            "INFO:pyscf.geomopt.berny_solver.139762369354432:2 * Derivatives: 0.00107, 0.0154\n",
            "INFO:pyscf.geomopt.berny_solver.139762369354432:2 * Quartic interpolation was performed: t = -0.0632\n",
            "INFO:pyscf.geomopt.berny_solver.139762369354432:2 * Interpolated energy: -39.554158\n",
            "INFO:pyscf.geomopt.berny_solver.139762369354432:2 Pure RFO step was performed:\n",
            "INFO:pyscf.geomopt.berny_solver.139762369354432:2 * Trust radius: 0.3\n",
            "INFO:pyscf.geomopt.berny_solver.139762369354432:2 * Number of negative eigenvalues: 0\n",
            "INFO:pyscf.geomopt.berny_solver.139762369354432:2 * Lowest eigenvalue: 0.164\n",
            "INFO:pyscf.geomopt.berny_solver.139762369354432:2 * lambda: -0.000651\n",
            "INFO:pyscf.geomopt.berny_solver.139762369354432:2 Quadratic step: RMS: 0.0157, max: 0.0222\n",
            "INFO:pyscf.geomopt.berny_solver.139762369354432:2 * Predicted energy change: -0.000326\n",
            "INFO:pyscf.geomopt.berny_solver.139762369354432:2 Total step: RMS: 0.0182, max: 0.0239\n",
            "INFO:pyscf.geomopt.berny_solver.139762369354432:2 Perfect transformation to cartesians in 8 iterations\n",
            "INFO:pyscf.geomopt.berny_solver.139762369354432:2 * RMS(dcart): 2.95e-07, RMS(dq): 2.42e-07\n",
            "INFO:pyscf.geomopt.berny_solver.139762369354432:2 Convergence criteria:\n",
            "INFO:pyscf.geomopt.berny_solver.139762369354432:2 * Gradient RMS: 0.00705 > 0.00015 => no\n",
            "INFO:pyscf.geomopt.berny_solver.139762369354432:2 * Gradient maximum: 0.00995 > 0.00045 => no\n",
            "INFO:pyscf.geomopt.berny_solver.139762369354432:2 * Step RMS: 0.0182 > 0.0012 => no\n",
            "INFO:pyscf.geomopt.berny_solver.139762369354432:2 * Step maximum: 0.0239 > 0.0018 => no\n"
          ]
        },
        {
          "output_type": "stream",
          "name": "stdout",
          "text": [
            "\n",
            "Geometry optimization cycle 3\n",
            "Cartesian coordinates (Angstrom)\n",
            " Atom        New coordinates             dX        dY        dZ\n",
            "   C   0.070871   0.174156   0.100549    0.008648  0.021272  0.012282\n",
            "   H   1.107148  -0.067463  -0.038950   -0.011834 -0.004350 -0.002512\n",
            "   H  -0.406197  -0.067690   1.030948    0.001593 -0.004376 -0.011961\n",
            "   H  -0.406197   0.858983  -0.574095    0.001593 -0.012547  0.002191\n",
            "\n",
            "WARN: Large deviations found between the input molecule and the molecule from chkfile\n",
            "Initial guess density matrix may have large error.\n",
            "\n",
            "converged SCF energy = -39.5545238996272\n",
            "--------------- SCF_Scanner gradients ---------------\n",
            "         x                y                z\n",
            "0 C    -0.0000237716    -0.0000774354    -0.0000447074\n",
            "1 H     0.0009803684    -0.0002721193    -0.0001571082\n",
            "2 H    -0.0004782984    -0.0002731278     0.0008767024\n",
            "3 H    -0.0004782984     0.0006226826    -0.0006748868\n",
            "----------------------------------------------\n",
            "cycle 3: E = -39.5545238996  dE = -0.000399473  norm(grad) = 0.00179231\n"
          ]
        },
        {
          "output_type": "stream",
          "name": "stderr",
          "text": [
            "INFO:pyscf.geomopt.berny_solver.139762369354432:3 Energy: -39.5545238996\n",
            "INFO:pyscf.geomopt.berny_solver.139762369354432:3 Hessian update information:\n",
            "INFO:pyscf.geomopt.berny_solver.139762369354432:3 * Change: RMS: 0.00882, max: 0.0163\n",
            "INFO:pyscf.geomopt.berny_solver.139762369354432:3 Trust update: Fletcher's parameter: 1.23\n",
            "INFO:pyscf.geomopt.berny_solver.139762369354432:3 Linear interpolation:\n",
            "INFO:pyscf.geomopt.berny_solver.139762369354432:3 * Energies: -39.554524, -39.554124\n",
            "INFO:pyscf.geomopt.berny_solver.139762369354432:3 * Derivatives: 6.29e-05, 0.000728\n",
            "INFO:pyscf.geomopt.berny_solver.139762369354432:3 * Quartic interpolation was performed: t = -0.091\n",
            "INFO:pyscf.geomopt.berny_solver.139762369354432:3 * Interpolated energy: -39.554527\n",
            "INFO:pyscf.geomopt.berny_solver.139762369354432:3 Pure RFO step was performed:\n",
            "INFO:pyscf.geomopt.berny_solver.139762369354432:3 * Trust radius: 0.3\n",
            "INFO:pyscf.geomopt.berny_solver.139762369354432:3 * Number of negative eigenvalues: 0\n",
            "INFO:pyscf.geomopt.berny_solver.139762369354432:3 * Lowest eigenvalue: 0.164\n",
            "INFO:pyscf.geomopt.berny_solver.139762369354432:3 * lambda: -3.48e-06\n",
            "INFO:pyscf.geomopt.berny_solver.139762369354432:3 Quadratic step: RMS: 0.0017, max: 0.00238\n",
            "INFO:pyscf.geomopt.berny_solver.139762369354432:3 * Predicted energy change: -1.74e-06\n",
            "INFO:pyscf.geomopt.berny_solver.139762369354432:3 Total step: RMS: 0.00206, max: 0.00251\n",
            "INFO:pyscf.geomopt.berny_solver.139762369354432:3 Perfect transformation to cartesians in 4 iterations\n",
            "INFO:pyscf.geomopt.berny_solver.139762369354432:3 * RMS(dcart): 2.85e-07, RMS(dq): 2.46e-07\n",
            "INFO:pyscf.geomopt.berny_solver.139762369354432:3 Convergence criteria:\n",
            "INFO:pyscf.geomopt.berny_solver.139762369354432:3 * Gradient RMS: 0.000776 > 0.00015 => no\n",
            "INFO:pyscf.geomopt.berny_solver.139762369354432:3 * Gradient maximum: 0.00103 > 0.00045 => no\n",
            "INFO:pyscf.geomopt.berny_solver.139762369354432:3 * Step RMS: 0.00206 > 0.0012 => no\n",
            "INFO:pyscf.geomopt.berny_solver.139762369354432:3 * Step maximum: 0.00251 > 0.0018 => no\n"
          ]
        },
        {
          "output_type": "stream",
          "name": "stdout",
          "text": [
            "\n",
            "Geometry optimization cycle 4\n",
            "Cartesian coordinates (Angstrom)\n",
            " Atom        New coordinates             dX        dY        dZ\n",
            "   C   0.069438   0.170654   0.098527   -0.001434 -0.003502 -0.002022\n",
            "   H   1.105943  -0.065780  -0.037978   -0.001205  0.001683  0.000971\n",
            "   H  -0.404878  -0.066008   1.030137    0.001319  0.001682 -0.000812\n",
            "   H  -0.404878   0.859120  -0.572233    0.001319  0.000138  0.001862\n",
            "converged SCF energy = -39.5545280627596\n",
            "--------------- SCF_Scanner gradients ---------------\n",
            "         x                y                z\n",
            "0 C    -0.0000068480    -0.0000189449    -0.0000109378\n",
            "1 H    -0.0000761899     0.0000302870     0.0000174862\n",
            "2 H     0.0000415189     0.0000301732    -0.0000653582\n",
            "3 H     0.0000415189    -0.0000415153     0.0000588099\n",
            "----------------------------------------------\n",
            "cycle 4: E = -39.5545280628  dE = -4.16313e-06  norm(grad) = 0.000146169\n"
          ]
        },
        {
          "output_type": "stream",
          "name": "stderr",
          "text": [
            "INFO:pyscf.geomopt.berny_solver.139762369354432:4 Energy: -39.5545280628\n",
            "INFO:pyscf.geomopt.berny_solver.139762369354432:4 Hessian update information:\n",
            "INFO:pyscf.geomopt.berny_solver.139762369354432:4 * Change: RMS: 0.00812, max: 0.00975\n",
            "INFO:pyscf.geomopt.berny_solver.139762369354432:4 Trust update: Fletcher's parameter: 2.39\n",
            "INFO:pyscf.geomopt.berny_solver.139762369354432:4 Linear interpolation:\n",
            "INFO:pyscf.geomopt.berny_solver.139762369354432:4 * Energies: -39.554528, -39.554524\n",
            "INFO:pyscf.geomopt.berny_solver.139762369354432:4 * Derivatives: -1.08e-06, 9.41e-06\n",
            "INFO:pyscf.geomopt.berny_solver.139762369354432:4 * Quartic interpolation was performed: t = 0.103\n",
            "INFO:pyscf.geomopt.berny_solver.139762369354432:4 * Interpolated energy: -39.554528\n",
            "INFO:pyscf.geomopt.berny_solver.139762369354432:4 Pure RFO step was performed:\n",
            "INFO:pyscf.geomopt.berny_solver.139762369354432:4 * Trust radius: 0.3\n",
            "INFO:pyscf.geomopt.berny_solver.139762369354432:4 * Number of negative eigenvalues: 0\n",
            "INFO:pyscf.geomopt.berny_solver.139762369354432:4 * Lowest eigenvalue: 0.164\n",
            "INFO:pyscf.geomopt.berny_solver.139762369354432:4 * lambda: -6.31e-08\n",
            "INFO:pyscf.geomopt.berny_solver.139762369354432:4 Quadratic step: RMS: 0.000236, max: 0.000307\n",
            "INFO:pyscf.geomopt.berny_solver.139762369354432:4 * Predicted energy change: -3.15e-08\n",
            "INFO:pyscf.geomopt.berny_solver.139762369354432:4 Total step: RMS: 0.000336, max: 0.000459\n",
            "INFO:pyscf.geomopt.berny_solver.139762369354432:4 Perfect transformation to cartesians in 3 iterations\n",
            "INFO:pyscf.geomopt.berny_solver.139762369354432:4 * RMS(dcart): 8.34e-08, RMS(dq): 7.08e-08\n",
            "INFO:pyscf.geomopt.berny_solver.139762369354432:4 Convergence criteria:\n",
            "INFO:pyscf.geomopt.berny_solver.139762369354432:4 * Gradient RMS: 9.36e-05 < 0.00015 => OK\n",
            "INFO:pyscf.geomopt.berny_solver.139762369354432:4 * Gradient maximum: 0.000104 < 0.00045 => OK\n",
            "INFO:pyscf.geomopt.berny_solver.139762369354432:4 * Step RMS: 0.000336 < 0.0012 => OK\n",
            "INFO:pyscf.geomopt.berny_solver.139762369354432:4 * Step maximum: 0.000459 < 0.0018 => OK\n",
            "INFO:pyscf.geomopt.berny_solver.139762369354432:4 * All criteria matched\n"
          ]
        },
        {
          "output_type": "stream",
          "name": "stdout",
          "text": [
            "[[ 0.13121854  0.32249009  0.18618974]\n",
            " [ 2.08992957 -0.12430654 -0.07176841]\n",
            " [-0.76510858 -0.12473705  1.94667593]\n",
            " [-0.76510858  1.62350229 -1.08136342]]\n"
          ]
        },
        {
          "output_type": "stream",
          "name": "stderr",
          "text": [
            "<class 'pyscf.scf.rohf.ROHF'> does not have attributes  xc\n"
          ]
        },
        {
          "output_type": "stream",
          "name": "stdout",
          "text": [
            "converged SCF energy = -39.5454868007802\n",
            "Final Energy: -39.54548680078016\n",
            "Final coordinates\n",
            " [[ 0.13121854  0.32249009  0.18618974]\n",
            " [ 2.08992957 -0.12430654 -0.07176841]\n",
            " [-0.76510858 -0.12473705  1.94667593]\n",
            " [-0.76510858  1.62350229 -1.08136342]]\n"
          ]
        }
      ],
      "source": [
        "import pyscf\n",
        "from pyscf import gto, scf\n",
        "from pyscf.geomopt.berny_solver import optimize\n",
        "\n",
        "mol = gto.Mole()\n",
        "mol.atom = '''\n",
        "    C\n",
        "    H 1 1.1\n",
        "    H 1 1.1 2 109.5\n",
        "    H 1 1.1 2 109.5 3 120\n",
        "'''\n",
        "mol.basis = '6-31g(d)'\n",
        "mol.spin=1\n",
        "mol.build()\n",
        "mf = scf.RHF(mol)\n",
        "mf.xc = 'b3lyp'\n",
        "\n",
        "# Optimize the geometry\n",
        "mol_eq = optimize(mf, maxsteps=100)\n",
        "print(mol_eq.atom_coords())\n",
        "\n",
        "# Get the optimized energy\n",
        "mf = scf.RHF(mol)\n",
        "mf.xc = 'b3lyp'\n",
        "mf.scf()\n",
        "\n",
        "print('Final Energy:', mf.e_tot)\n",
        "print('Final coordinates\\n',mol_eq.atom_coords())"
      ]
    },
    {
      "cell_type": "code",
      "source": [
        "mol_eq.atom"
      ],
      "metadata": {
        "colab": {
          "base_uri": "https://localhost:8080/"
        },
        "id": "HA2zdpXG0hJQ",
        "outputId": "987896ce-64f1-497b-b69a-83e819810b93"
      },
      "execution_count": 3,
      "outputs": [
        {
          "output_type": "execute_result",
          "data": {
            "text/plain": [
              "[('C', [0.1312185405658965, 0.32249008831344383, 0.1861897392985718]),\n",
              " ('H', [2.089929570519795, -0.12430653895973101, -0.07176841373016568]),\n",
              " ('H', [-0.7651085837302198, -0.12473705027260201, 1.9466759345194808]),\n",
              " ('H', [-0.7651085837306553, 1.623502287093152, -1.0813634215891683])]"
            ]
          },
          "metadata": {},
          "execution_count": 3
        }
      ]
    },
    {
      "cell_type": "code",
      "source": [
        "import py3Dmol\n",
        "from google.colab import output\n",
        "output.enable_custom_widget_manager()"
      ],
      "metadata": {
        "id": "vPFJLvRP-nK_"
      },
      "execution_count": 4,
      "outputs": []
    },
    {
      "cell_type": "code",
      "source": [],
      "metadata": {
        "id": "7GJw9d8d-307"
      },
      "execution_count": null,
      "outputs": []
    },
    {
      "cell_type": "code",
      "source": [
        "\n",
        "natm = mol_eq.natm\n",
        "coords = mol_eq.atom_coords()\n",
        "symbols = [mol_eq.atom_symbol(i) for i in range(natm)]\n",
        "\n",
        "xyz = \"'''\"\n",
        "xyz += f\"{natm}\\n* PySCF XYZ file\\n\"\n",
        "for i in range(natm):\n",
        "    xyz += f'{symbols[i]:2}{coords[i][0]:>12.6f}{coords[i][1]:>12.6f}{coords[i][2]:>12.6f}{0.0:>12.6f}{0.0:>12.6f}{0.0:>12.6f}\\n'\n",
        "xyz += \"'''\"\n",
        "\n",
        "print(xyz)\n",
        "\n",
        "#xyz = '''4\n",
        "#* PySCF XYZ file\n",
        "#C 0.1312185405628746 0.322490088305912 0.18618973929434848 0.0 0.0 0.0\n",
        "#H 2.089929570519968 -0.12430653895691827 -0.07176841372869314 0.0 0.0 0.0\n",
        "#H -0.7651085837288736 -0.1247370502698047 1.9466759345201439 0.0 0.0 0.0\n",
        "#H -0.765108583729151 1.623502287095075 -1.081363421587079 0.0 0.0 0.0 \n",
        "#'''\n",
        "\n",
        "xyzview = py3Dmol.view(width=400,height=400)\n",
        "xyzview.addModel(xyz,'xyz')\n",
        "xyzview.addModel(xyz,'xyz',{'vibrate': {'frames':10,'amplitude':1}})\n",
        "xyzview.setBackgroundColor('0xeeeeee')\n",
        "xyzview.animate({'loop': 'backAndForth'})\n",
        "xyzview.zoomTo()\n",
        "xyzview.show()\n"
      ],
      "metadata": {
        "colab": {
          "base_uri": "https://localhost:8080/",
          "height": 536
        },
        "id": "xjjv4QWnuhqk",
        "outputId": "11624df7-5f88-46ba-e939-b6ff9b997061"
      },
      "execution_count": 31,
      "outputs": [
        {
          "output_type": "stream",
          "name": "stdout",
          "text": [
            "'''4\n",
            "* PySCF XYZ file\n",
            "C     0.131219    0.322490    0.186190    0.000000    0.000000    0.000000\n",
            "H     2.089930   -0.124307   -0.071768    0.000000    0.000000    0.000000\n",
            "H    -0.765109   -0.124737    1.946676    0.000000    0.000000    0.000000\n",
            "H    -0.765109    1.623502   -1.081363    0.000000    0.000000    0.000000\n",
            "'''\n"
          ]
        },
        {
          "output_type": "display_data",
          "data": {
            "application/3dmoljs_load.v0": "<div id=\"3dmolviewer_16753903157037141\"  style=\"position: relative; width: 400px; height: 400px\">\n        <p id=\"3dmolwarning_16753903157037141\" style=\"background-color:#ffcccc;color:black\">You appear to be running in JupyterLab (or JavaScript failed to load for some other reason).  You need to install the 3dmol extension: <br>\n        <tt>jupyter labextension install jupyterlab_3dmol</tt></p>\n        </div>\n<script>\n\nvar loadScriptAsync = function(uri){\n  return new Promise((resolve, reject) => {\n    //this is to ignore the existence of requirejs amd\n    var savedexports, savedmodule;\n    if (typeof exports !== 'undefined') savedexports = exports;\n    else exports = {}\n    if (typeof module !== 'undefined') savedmodule = module;\n    else module = {}\n\n    var tag = document.createElement('script');\n    tag.src = uri;\n    tag.async = true;\n    tag.onload = () => {\n        exports = savedexports;\n        module = savedmodule;\n        resolve();\n    };\n  var firstScriptTag = document.getElementsByTagName('script')[0];\n  firstScriptTag.parentNode.insertBefore(tag, firstScriptTag);\n});\n};\n\nif(typeof $3Dmolpromise === 'undefined') {\n$3Dmolpromise = null;\n  $3Dmolpromise = loadScriptAsync('https://cdn.jsdelivr.net/npm/3dmol@latest/build/3Dmol-min.min.js');\n}\n\nvar viewer_16753903157037141 = null;\nvar warn = document.getElementById(\"3dmolwarning_16753903157037141\");\nif(warn) {\n    warn.parentNode.removeChild(warn);\n}\n$3Dmolpromise.then(function() {\nviewer_16753903157037141 = $3Dmol.createViewer(document.getElementById(\"3dmolviewer_16753903157037141\"),{backgroundColor:\"white\"});\nviewer_16753903157037141.zoomTo();\n\tviewer_16753903157037141.addModel(\"'''4\\n* PySCF XYZ file\\nC     0.131219    0.322490    0.186190    0.000000    0.000000    0.000000\\nH     2.089930   -0.124307   -0.071768    0.000000    0.000000    0.000000\\nH    -0.765109   -0.124737    1.946676    0.000000    0.000000    0.000000\\nH    -0.765109    1.623502   -1.081363    0.000000    0.000000    0.000000\\n'''\",\"xyz\");\n\tviewer_16753903157037141.addModel(\"'''4\\n* PySCF XYZ file\\nC     0.131219    0.322490    0.186190    0.000000    0.000000    0.000000\\nH     2.089930   -0.124307   -0.071768    0.000000    0.000000    0.000000\\nH    -0.765109   -0.124737    1.946676    0.000000    0.000000    0.000000\\nH    -0.765109    1.623502   -1.081363    0.000000    0.000000    0.000000\\n'''\",\"xyz\",{\"vibrate\": {\"frames\": 10, \"amplitude\": 1}});\n\tviewer_16753903157037141.setBackgroundColor(\"0xeeeeee\");\n\tviewer_16753903157037141.animate({\"loop\": \"backAndForth\"});\n\tviewer_16753903157037141.zoomTo();\nviewer_16753903157037141.render();\n});\n</script>",
            "text/html": [
              "<div id=\"3dmolviewer_16753903157037141\"  style=\"position: relative; width: 400px; height: 400px\">\n",
              "        <p id=\"3dmolwarning_16753903157037141\" style=\"background-color:#ffcccc;color:black\">You appear to be running in JupyterLab (or JavaScript failed to load for some other reason).  You need to install the 3dmol extension: <br>\n",
              "        <tt>jupyter labextension install jupyterlab_3dmol</tt></p>\n",
              "        </div>\n",
              "<script>\n",
              "\n",
              "var loadScriptAsync = function(uri){\n",
              "  return new Promise((resolve, reject) => {\n",
              "    //this is to ignore the existence of requirejs amd\n",
              "    var savedexports, savedmodule;\n",
              "    if (typeof exports !== 'undefined') savedexports = exports;\n",
              "    else exports = {}\n",
              "    if (typeof module !== 'undefined') savedmodule = module;\n",
              "    else module = {}\n",
              "\n",
              "    var tag = document.createElement('script');\n",
              "    tag.src = uri;\n",
              "    tag.async = true;\n",
              "    tag.onload = () => {\n",
              "        exports = savedexports;\n",
              "        module = savedmodule;\n",
              "        resolve();\n",
              "    };\n",
              "  var firstScriptTag = document.getElementsByTagName('script')[0];\n",
              "  firstScriptTag.parentNode.insertBefore(tag, firstScriptTag);\n",
              "});\n",
              "};\n",
              "\n",
              "if(typeof $3Dmolpromise === 'undefined') {\n",
              "$3Dmolpromise = null;\n",
              "  $3Dmolpromise = loadScriptAsync('https://cdn.jsdelivr.net/npm/3dmol@latest/build/3Dmol-min.min.js');\n",
              "}\n",
              "\n",
              "var viewer_16753903157037141 = null;\n",
              "var warn = document.getElementById(\"3dmolwarning_16753903157037141\");\n",
              "if(warn) {\n",
              "    warn.parentNode.removeChild(warn);\n",
              "}\n",
              "$3Dmolpromise.then(function() {\n",
              "viewer_16753903157037141 = $3Dmol.createViewer(document.getElementById(\"3dmolviewer_16753903157037141\"),{backgroundColor:\"white\"});\n",
              "viewer_16753903157037141.zoomTo();\n",
              "\tviewer_16753903157037141.addModel(\"'''4\\n* PySCF XYZ file\\nC     0.131219    0.322490    0.186190    0.000000    0.000000    0.000000\\nH     2.089930   -0.124307   -0.071768    0.000000    0.000000    0.000000\\nH    -0.765109   -0.124737    1.946676    0.000000    0.000000    0.000000\\nH    -0.765109    1.623502   -1.081363    0.000000    0.000000    0.000000\\n'''\",\"xyz\");\n",
              "\tviewer_16753903157037141.addModel(\"'''4\\n* PySCF XYZ file\\nC     0.131219    0.322490    0.186190    0.000000    0.000000    0.000000\\nH     2.089930   -0.124307   -0.071768    0.000000    0.000000    0.000000\\nH    -0.765109   -0.124737    1.946676    0.000000    0.000000    0.000000\\nH    -0.765109    1.623502   -1.081363    0.000000    0.000000    0.000000\\n'''\",\"xyz\",{\"vibrate\": {\"frames\": 10, \"amplitude\": 1}});\n",
              "\tviewer_16753903157037141.setBackgroundColor(\"0xeeeeee\");\n",
              "\tviewer_16753903157037141.animate({\"loop\": \"backAndForth\"});\n",
              "\tviewer_16753903157037141.zoomTo();\n",
              "viewer_16753903157037141.render();\n",
              "});\n",
              "</script>"
            ]
          },
          "metadata": {}
        }
      ]
    },
    {
      "cell_type": "code",
      "source": [
        "#!pip install moldesign"
      ],
      "metadata": {
        "id": "shTmg1U3w_A7"
      },
      "execution_count": 6,
      "outputs": []
    },
    {
      "cell_type": "code",
      "source": [
        "xyz = '''4\n",
        "* (null), Energy   -1000.0000000\n",
        "N     0.000005    0.019779   -0.000003   -0.157114    0.000052   -0.012746\n",
        "H     0.931955   -0.364989    0.000003    1.507100   -0.601158   -0.004108\n",
        "H    -0.465975   -0.364992    0.807088    0.283368    0.257996   -0.583024\n",
        "H    -0.465979   -0.364991   -0.807088    0.392764    0.342436    0.764260\n",
        "'''"
      ],
      "metadata": {
        "id": "eiW71_tU6gPK"
      },
      "execution_count": 7,
      "outputs": []
    },
    {
      "cell_type": "code",
      "source": [
        "xyzview = py3Dmol.view(width=400,height=400)\n",
        "xyzview.addModel(xyz,'xyz',{'vibrate': {'frames':10,'amplitude':1}})\n",
        "xyzview.setStyle({'stick':{}})\n",
        "xyzview.setBackgroundColor('0xeeeeee')\n",
        "xyzview.animate({'loop': 'backAndForth'})\n",
        "xyzview.zoomTo()\n",
        "xyzview.show()"
      ],
      "metadata": {
        "colab": {
          "base_uri": "https://localhost:8080/",
          "height": 417
        },
        "id": "I9_PNMRe67kC",
        "outputId": "702862c7-01df-406e-89fd-476668eb3f1b"
      },
      "execution_count": 8,
      "outputs": [
        {
          "output_type": "display_data",
          "data": {
            "application/3dmoljs_load.v0": "<div id=\"3dmolviewer_16753892305499876\"  style=\"position: relative; width: 400px; height: 400px\">\n        <p id=\"3dmolwarning_16753892305499876\" style=\"background-color:#ffcccc;color:black\">You appear to be running in JupyterLab (or JavaScript failed to load for some other reason).  You need to install the 3dmol extension: <br>\n        <tt>jupyter labextension install jupyterlab_3dmol</tt></p>\n        </div>\n<script>\n\nvar loadScriptAsync = function(uri){\n  return new Promise((resolve, reject) => {\n    //this is to ignore the existence of requirejs amd\n    var savedexports, savedmodule;\n    if (typeof exports !== 'undefined') savedexports = exports;\n    else exports = {}\n    if (typeof module !== 'undefined') savedmodule = module;\n    else module = {}\n\n    var tag = document.createElement('script');\n    tag.src = uri;\n    tag.async = true;\n    tag.onload = () => {\n        exports = savedexports;\n        module = savedmodule;\n        resolve();\n    };\n  var firstScriptTag = document.getElementsByTagName('script')[0];\n  firstScriptTag.parentNode.insertBefore(tag, firstScriptTag);\n});\n};\n\nif(typeof $3Dmolpromise === 'undefined') {\n$3Dmolpromise = null;\n  $3Dmolpromise = loadScriptAsync('https://cdn.jsdelivr.net/npm/3dmol@latest/build/3Dmol-min.min.js');\n}\n\nvar viewer_16753892305499876 = null;\nvar warn = document.getElementById(\"3dmolwarning_16753892305499876\");\nif(warn) {\n    warn.parentNode.removeChild(warn);\n}\n$3Dmolpromise.then(function() {\nviewer_16753892305499876 = $3Dmol.createViewer(document.getElementById(\"3dmolviewer_16753892305499876\"),{backgroundColor:\"white\"});\nviewer_16753892305499876.zoomTo();\n\tviewer_16753892305499876.addModel(\"4\\n* (null), Energy   -1000.0000000\\nN     0.000005    0.019779   -0.000003   -0.157114    0.000052   -0.012746\\nH     0.931955   -0.364989    0.000003    1.507100   -0.601158   -0.004108\\nH    -0.465975   -0.364992    0.807088    0.283368    0.257996   -0.583024\\nH    -0.465979   -0.364991   -0.807088    0.392764    0.342436    0.764260\\n\",\"xyz\",{\"vibrate\": {\"frames\": 10, \"amplitude\": 1}});\n\tviewer_16753892305499876.setStyle({\"stick\": {}});\n\tviewer_16753892305499876.setBackgroundColor(\"0xeeeeee\");\n\tviewer_16753892305499876.animate({\"loop\": \"backAndForth\"});\n\tviewer_16753892305499876.zoomTo();\nviewer_16753892305499876.render();\n});\n</script>",
            "text/html": [
              "<div id=\"3dmolviewer_16753892305499876\"  style=\"position: relative; width: 400px; height: 400px\">\n",
              "        <p id=\"3dmolwarning_16753892305499876\" style=\"background-color:#ffcccc;color:black\">You appear to be running in JupyterLab (or JavaScript failed to load for some other reason).  You need to install the 3dmol extension: <br>\n",
              "        <tt>jupyter labextension install jupyterlab_3dmol</tt></p>\n",
              "        </div>\n",
              "<script>\n",
              "\n",
              "var loadScriptAsync = function(uri){\n",
              "  return new Promise((resolve, reject) => {\n",
              "    //this is to ignore the existence of requirejs amd\n",
              "    var savedexports, savedmodule;\n",
              "    if (typeof exports !== 'undefined') savedexports = exports;\n",
              "    else exports = {}\n",
              "    if (typeof module !== 'undefined') savedmodule = module;\n",
              "    else module = {}\n",
              "\n",
              "    var tag = document.createElement('script');\n",
              "    tag.src = uri;\n",
              "    tag.async = true;\n",
              "    tag.onload = () => {\n",
              "        exports = savedexports;\n",
              "        module = savedmodule;\n",
              "        resolve();\n",
              "    };\n",
              "  var firstScriptTag = document.getElementsByTagName('script')[0];\n",
              "  firstScriptTag.parentNode.insertBefore(tag, firstScriptTag);\n",
              "});\n",
              "};\n",
              "\n",
              "if(typeof $3Dmolpromise === 'undefined') {\n",
              "$3Dmolpromise = null;\n",
              "  $3Dmolpromise = loadScriptAsync('https://cdn.jsdelivr.net/npm/3dmol@latest/build/3Dmol-min.min.js');\n",
              "}\n",
              "\n",
              "var viewer_16753892305499876 = null;\n",
              "var warn = document.getElementById(\"3dmolwarning_16753892305499876\");\n",
              "if(warn) {\n",
              "    warn.parentNode.removeChild(warn);\n",
              "}\n",
              "$3Dmolpromise.then(function() {\n",
              "viewer_16753892305499876 = $3Dmol.createViewer(document.getElementById(\"3dmolviewer_16753892305499876\"),{backgroundColor:\"white\"});\n",
              "viewer_16753892305499876.zoomTo();\n",
              "\tviewer_16753892305499876.addModel(\"4\\n* (null), Energy   -1000.0000000\\nN     0.000005    0.019779   -0.000003   -0.157114    0.000052   -0.012746\\nH     0.931955   -0.364989    0.000003    1.507100   -0.601158   -0.004108\\nH    -0.465975   -0.364992    0.807088    0.283368    0.257996   -0.583024\\nH    -0.465979   -0.364991   -0.807088    0.392764    0.342436    0.764260\\n\",\"xyz\",{\"vibrate\": {\"frames\": 10, \"amplitude\": 1}});\n",
              "\tviewer_16753892305499876.setStyle({\"stick\": {}});\n",
              "\tviewer_16753892305499876.setBackgroundColor(\"0xeeeeee\");\n",
              "\tviewer_16753892305499876.animate({\"loop\": \"backAndForth\"});\n",
              "\tviewer_16753892305499876.zoomTo();\n",
              "viewer_16753892305499876.render();\n",
              "});\n",
              "</script>"
            ]
          },
          "metadata": {}
        }
      ]
    },
    {
      "cell_type": "code",
      "source": [],
      "metadata": {
        "id": "vwEfi3YS69zh"
      },
      "execution_count": 8,
      "outputs": []
    }
  ]
}