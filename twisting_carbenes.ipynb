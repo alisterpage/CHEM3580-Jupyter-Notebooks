{
  "cells": [
    {
      "cell_type": "markdown",
      "metadata": {
        "id": "view-in-github",
        "colab_type": "text"
      },
      "source": [
        "<a href=\"https://colab.research.google.com/github/alisterpage/CHEM3580-Jupyter-Notebooks/blob/main/twisting_carbenes.ipynb\" target=\"_parent\"><img src=\"https://colab.research.google.com/assets/colab-badge.svg\" alt=\"Open In Colab\"/></a>"
      ]
    },
    {
      "cell_type": "code",
      "execution_count": 3,
      "metadata": {
        "id": "kp6SqarFumzm"
      },
      "outputs": [],
      "source": [
        "!pip install pyscf geometric py3Dmol fortecubeview pythreejs -q 2>&1 >/dev/null"
      ]
    },
    {
      "cell_type": "code",
      "execution_count": 4,
      "metadata": {
        "id": "P-tsQOfkuAt-"
      },
      "outputs": [],
      "source": [
        "import pyscf\n",
        "from pyscf import gto, scf, tools, lo, lib, dft\n",
        "#from pyscf.geomopt.berny_solver import optimize\n",
        "from pyscf.geomopt.geometric_solver import optimize\n",
        "import py3Dmol\n",
        "import fortecubeview\n",
        "from google.colab import output\n",
        "output.enable_custom_widget_manager()\n",
        "import numpy as np\n",
        "from __future__ import print_function\n",
        "import sys"
      ]
    },
    {
      "cell_type": "code",
      "source": [
        "mol = gto.Mole()\n",
        "mol.atom = '''\n",
        "    H\n",
        "    H 1 1.8\n",
        "    H 2 1.8 1 60.0\n",
        "    C 1 1.1 2 35.2 3 35\n",
        "'''"
      ],
      "metadata": {
        "id": "BePJ24qg4o2w"
      },
      "execution_count": 5,
      "outputs": []
    },
    {
      "cell_type": "code",
      "source": [
        "mol.basis = '6-31g(d)'\n",
        "mol.spin=1;\n",
        "mol.build();\n",
        "mf = dft.ROKS(mol)\n",
        "mf.xc = 'b3lyp'\n",
        "mf = mf.newton()\n",
        "mf.kernel()\n",
        "\n",
        "# Optimize the geometry\n",
        "\n",
        "text = \"$freeze\\ndihedral 1 2 3 4\\n\"\n",
        "with open(\"constraints.txt\", \"w\") as f:\n",
        "    f.write(text)\n",
        "params = {\"constraints\": \"constraints.txt\",}\n",
        "mol_eq = optimize(mf, **params)\n",
        "\n",
        "#print(mol_eq.atom_coords())\n",
        "\n",
        "# Get the optimized energy\n",
        "mf = dft.ROKS(mol_eq)\n",
        "mf.xc = 'b3lyp'\n",
        "mf = mf.newton()\n",
        "mf.kernel()"
      ],
      "metadata": {
        "colab": {
          "base_uri": "https://localhost:8080/"
        },
        "id": "oidfKFQ42McO",
        "outputId": "11da6c84-b34a-41a5-8332-7c6254866763"
      },
      "execution_count": 32,
      "outputs": [
        {
          "output_type": "stream",
          "name": "stdout",
          "text": [
            "converged SCF energy = -39.7940192410631\n"
          ]
        },
        {
          "output_type": "stream",
          "name": "stderr",
          "text": [
            "geometric-optimize called with the following command line:\n",
            "/usr/local/lib/python3.8/dist-packages/ipykernel_launcher.py -f /root/.local/share/jupyter/runtime/kernel-9e3bf892-d00e-4ff4-9ac0-be79e173da0a.json\n",
            "\n",
            "                                        \u001b[91m())))))))))))))))/\u001b[0m                     \n",
            "                                    \u001b[91m())))))))))))))))))))))))),\u001b[0m                \n",
            "                                \u001b[91m*)))))))))))))))))))))))))))))))))\u001b[0m             \n",
            "                        \u001b[94m#,\u001b[0m    \u001b[91m()))))))))/\u001b[0m                \u001b[91m.)))))))))),\u001b[0m          \n",
            "                      \u001b[94m#%%%%,\u001b[0m  \u001b[91m())))))\u001b[0m                        \u001b[91m.))))))))*\u001b[0m        \n",
            "                      \u001b[94m*%%%%%%,\u001b[0m  \u001b[91m))\u001b[0m              \u001b[93m..\u001b[0m              \u001b[91m,))))))).\u001b[0m      \n",
            "                        \u001b[94m*%%%%%%,\u001b[0m         \u001b[93m***************/.\u001b[0m        \u001b[91m.)))))))\u001b[0m     \n",
            "                \u001b[94m#%%/\u001b[0m      \u001b[94m(%%%%%%,\u001b[0m    \u001b[93m/*********************.\u001b[0m       \u001b[91m)))))))\u001b[0m    \n",
            "              \u001b[94m.%%%%%%#\u001b[0m      \u001b[94m*%%%%%%,\u001b[0m  \u001b[93m*******/,\u001b[0m     \u001b[93m**********,\u001b[0m      \u001b[91m.))))))\u001b[0m   \n",
            "                \u001b[94m.%%%%%%/\u001b[0m      \u001b[94m*%%%%%%,\u001b[0m  \u001b[93m**\u001b[0m              \u001b[93m********\u001b[0m      \u001b[91m.))))))\u001b[0m  \n",
            "          \u001b[94m##\u001b[0m      \u001b[94m.%%%%%%/\u001b[0m      \u001b[94m(%%%%%%,\u001b[0m                  \u001b[93m,******\u001b[0m      \u001b[91m/)))))\u001b[0m  \n",
            "        \u001b[94m%%%%%%\u001b[0m      \u001b[94m.%%%%%%#\u001b[0m      \u001b[94m*%%%%%%,\u001b[0m    \u001b[92m,/////.\u001b[0m       \u001b[93m******\u001b[0m      \u001b[91m))))))\u001b[0m \n",
            "      \u001b[94m#%\u001b[0m      \u001b[94m%%\u001b[0m      \u001b[94m.%%%%%%/\u001b[0m      \u001b[94m*%%%%%%,\u001b[0m  \u001b[92m////////,\u001b[0m      \u001b[93m*****/\u001b[0m     \u001b[91m,)))))\u001b[0m \n",
            "    \u001b[94m#%%\u001b[0m  \u001b[94m%%%\u001b[0m  \u001b[94m%%%#\u001b[0m      \u001b[94m.%%%%%%/\u001b[0m      \u001b[94m(%%%%%%,\u001b[0m  \u001b[92m///////.\u001b[0m     \u001b[93m/*****\u001b[0m      \u001b[91m))))).\u001b[0m\n",
            "  \u001b[94m#%%%%.\u001b[0m      \u001b[94m%%%%%#\u001b[0m      \u001b[94m/%%%%%%*\u001b[0m      \u001b[94m#%%%%%%\u001b[0m   \u001b[92m/////)\u001b[0m     \u001b[93m******\u001b[0m      \u001b[91m))))),\u001b[0m\n",
            "    \u001b[94m#%%%%##%\u001b[0m  \u001b[94m%%%#\u001b[0m      \u001b[94m.%%%%%%/\u001b[0m      \u001b[94m(%%%%%%,\u001b[0m  \u001b[92m///////.\u001b[0m     \u001b[93m/*****\u001b[0m      \u001b[91m))))).\u001b[0m\n",
            "      \u001b[94m##\u001b[0m     \u001b[94m%%%\u001b[0m      \u001b[94m.%%%%%%/\u001b[0m      \u001b[94m*%%%%%%,\u001b[0m  \u001b[92m////////.\u001b[0m      \u001b[93m*****/\u001b[0m     \u001b[91m,)))))\u001b[0m \n",
            "        \u001b[94m#%%%%#\u001b[0m      \u001b[94m/%%%%%%/\u001b[0m      \u001b[94m(%%%%%%\u001b[0m      \u001b[92m/)/)//\u001b[0m       \u001b[93m******\u001b[0m      \u001b[91m))))))\u001b[0m \n",
            "          \u001b[94m##\u001b[0m      \u001b[94m.%%%%%%/\u001b[0m      \u001b[94m(%%%%%%,\u001b[0m                  \u001b[93m*******\u001b[0m      \u001b[91m))))))\u001b[0m  \n",
            "                \u001b[94m.%%%%%%/\u001b[0m      \u001b[94m*%%%%%%,\u001b[0m  \u001b[93m**.\u001b[0m             \u001b[93m/*******\u001b[0m      \u001b[91m.))))))\u001b[0m  \n",
            "              \u001b[94m*%%%%%%/\u001b[0m      \u001b[94m(%%%%%%\u001b[0m   \u001b[93m********/*..,*/*********\u001b[0m       \u001b[91m*))))))\u001b[0m   \n",
            "                \u001b[94m#%%/\u001b[0m      \u001b[94m(%%%%%%,\u001b[0m    \u001b[93m*********************/\u001b[0m        \u001b[91m)))))))\u001b[0m    \n",
            "                        \u001b[94m*%%%%%%,\u001b[0m         \u001b[93m,**************/\u001b[0m         \u001b[91m,))))))/\u001b[0m     \n",
            "                      \u001b[94m(%%%%%%\u001b[0m   \u001b[91m()\u001b[0m                              \u001b[91m))))))))\u001b[0m       \n",
            "                      \u001b[94m#%%%%,\u001b[0m  \u001b[91m())))))\u001b[0m                        \u001b[91m,)))))))),\u001b[0m        \n",
            "                        \u001b[94m#,\u001b[0m    \u001b[91m())))))))))\u001b[0m                \u001b[91m,)))))))))).\u001b[0m          \n",
            "                                 \u001b[91m()))))))))))))))))))))))))))))))/\u001b[0m             \n",
            "                                    \u001b[91m())))))))))))))))))))))))).\u001b[0m                \n",
            "                                         \u001b[91m())))))))))))))),\u001b[0m                     \n",
            "\n",
            "-=# \u001b[1;94m geomeTRIC started. Version: 1.0 \u001b[0m #=-\n",
            "Current date and time: 2023-02-03 09:17:49\n",
            "Custom engine selected.\n",
            "$freeze\n",
            "dihedral 1 2 3 4\n",
            "Bonds will be generated from interatomic distances less than 1.20 times sum of covalent radii\n",
            "12 internal coordinates being used (instead of 12 Cartesians)\n",
            "Internal coordinate system (atoms numbered from 1):\n",
            "Dihedral 1-2-3-4\n",
            "Distance 1-4\n",
            "Distance 2-4\n",
            "Distance 3-4\n",
            "Angle 1-4-2\n",
            "Angle 1-4-3\n",
            "Angle 2-4-3\n",
            "Translation-X 1-4\n",
            "Translation-Y 1-4\n",
            "Translation-Z 1-4\n",
            "Rotation-A 1-4\n",
            "Rotation-B 1-4\n",
            "Rotation-C 1-4\n",
            "<class 'geometric.internal.Dihedral'> : 1\n",
            "<class 'geometric.internal.Distance'> : 3\n",
            "<class 'geometric.internal.Angle'> : 3\n",
            "<class 'geometric.internal.TranslationX'> : 1\n",
            "<class 'geometric.internal.TranslationY'> : 1\n",
            "<class 'geometric.internal.TranslationZ'> : 1\n",
            "<class 'geometric.internal.RotationA'> : 1\n",
            "<class 'geometric.internal.RotationB'> : 1\n",
            "<class 'geometric.internal.RotationC'> : 1\n",
            "Constraint                         Current      Target       Diff.\n",
            "Dihedral 1-2-3-4                 -34.93252   -34.93252     0.00000\n",
            "> ===== Optimization Info: ====\n",
            "> Job type: Energy minimization\n",
            "> Maximum number of optimization cycles: 300\n",
            "> Initial / maximum trust radius (Angstrom): 0.100 / 0.300\n",
            "> Convergence Criteria:\n",
            "> Will converge when all 5 criteria are reached:\n",
            ">  |Delta-E| < 1.00e-06\n",
            ">  RMS-Ortho-Grad < 3.00e-04\n",
            ">  Max-Ortho-Grad < 4.50e-04\n",
            ">  RMS-Disp  < 1.20e-03\n",
            ">  Max-Disp  < 1.80e-03\n",
            "> \n",
            "> Constraints are requested. The following criterion is added:\n",
            ">  Max Constraint Violation (in Angstroms/degrees) < 1.00e-02 \n",
            "> === End Optimization Info ===\n"
          ]
        },
        {
          "output_type": "stream",
          "name": "stdout",
          "text": [
            "\n",
            "Geometry optimization cycle 1\n",
            "Cartesian coordinates (Angstrom)\n",
            " Atom        New coordinates             dX        dY        dZ\n",
            "   H   0.000000   0.000000   0.000000    0.000000  0.000000  0.000000\n",
            "   H   1.800000   0.000000   0.000000    0.000000  0.000000  0.000000\n",
            "   H   0.900000   0.000000   1.558846    0.000000  0.000000  0.000000\n",
            "   C   0.898859   0.363691   0.519404    0.000000  0.000000  0.000000\n",
            "converged SCF energy = -39.7940192410667\n",
            "--------------- SCF_Scanner gradients ---------------\n",
            "         x                y                z\n",
            "0 H     0.0000080408    -0.0143906433    -0.0000401925\n",
            "1 H     0.0009739750    -0.0147784372    -0.0004743179\n",
            "2 H     0.0001150286    -0.0146475247     0.0007187224\n",
            "3 C    -0.0010970720     0.0438175890    -0.0002052304\n",
            "----------------------------------------------\n",
            "cycle 1: E = -39.7940192411  dE = -39.794  norm(grad) = 0.0506258\n"
          ]
        },
        {
          "output_type": "stream",
          "name": "stderr",
          "text": [
            "Step    0 : Gradient = 1.609e-02/2.607e-02 (rms/max) Energy = -39.7940192411\n",
            "Hessian Eigenvalues: 5.00000e-02 5.00000e-02 5.00000e-02 ... 3.33661e-01 3.35135e-01 3.36048e-01\n"
          ]
        },
        {
          "output_type": "stream",
          "name": "stdout",
          "text": [
            "\n",
            "Geometry optimization cycle 2\n",
            "Cartesian coordinates (Angstrom)\n",
            " Atom        New coordinates             dX        dY        dZ\n",
            "   H   0.014841   0.002957   0.008615    0.014841  0.002957  0.008615\n",
            "   H   1.794002   0.012935  -0.035308   -0.005998  0.012935 -0.035308\n",
            "   H   0.866374   0.012852   1.571544   -0.033626  0.012852  0.012699\n",
            "   C   0.923643   0.334904   0.533442    0.024783 -0.028787  0.014038\n",
            "\n",
            "WARN: Large deviations found between the input molecule and the molecule from chkfile\n",
            "Initial guess density matrix may have large error.\n",
            "\n",
            "converged SCF energy = -39.7959108941251\n",
            "--------------- SCF_Scanner gradients ---------------\n",
            "         x                y                z\n",
            "0 H    -0.0002154741    -0.0136242234    -0.0001414012\n",
            "1 H    -0.0074172640    -0.0092953812    -0.0042056991\n",
            "2 H    -0.0073361032    -0.0092927638    -0.0043181558\n",
            "3 C     0.0149688819     0.0322147242     0.0086640479\n",
            "----------------------------------------------\n",
            "cycle 2: E = -39.7959108941  dE = -0.00189165  norm(grad) = 0.0429015\n"
          ]
        },
        {
          "output_type": "stream",
          "name": "stderr",
          "text": [
            "Step    1 : Displace = \u001b[0m3.482e-02\u001b[0m/\u001b[0m4.049e-02\u001b[0m (rms/max) Trust = 1.000e-01 (=) Grad_T = \u001b[0m3.393e-03\u001b[0m/\u001b[0m5.544e-03\u001b[0m (rms/max) E (change) = -39.7959108941 (\u001b[0m-1.892e-03\u001b[0m) Quality = \u001b[0m1.210\u001b[0m\n",
            "Constraint                         Current      Target       Diff.\n",
            "Dihedral 1-2-3-4                 -34.82417   -34.93252     0.10835\n",
            "Hessian Eigenvalues: 5.00000e-02 5.00000e-02 5.00000e-02 ... 3.29461e-01 3.35130e-01 3.36274e-01\n"
          ]
        },
        {
          "output_type": "stream",
          "name": "stdout",
          "text": [
            "\n",
            "Geometry optimization cycle 3\n",
            "Cartesian coordinates (Angstrom)\n",
            " Atom        New coordinates             dX        dY        dZ\n",
            "   H   0.018986   0.003686   0.011101    0.004144  0.000729  0.002486\n",
            "   H   1.792417   0.016503  -0.045470   -0.001586  0.003567 -0.010162\n",
            "   H   0.856660   0.016455   1.575197   -0.009714  0.003603  0.003652\n",
            "   C   0.930796   0.326878   0.537531    0.007153 -0.008027  0.004089\n",
            "\n",
            "WARN: Large deviations found between the input molecule and the molecule from chkfile\n",
            "Initial guess density matrix may have large error.\n",
            "\n",
            "converged SCF energy = -39.7959733937734\n",
            "--------------- SCF_Scanner gradients ---------------\n",
            "         x                y                z\n",
            "0 H    -0.0004636522    -0.0134709981    -0.0002639819\n",
            "1 H    -0.0094854517    -0.0079840211    -0.0053110950\n",
            "2 H    -0.0093448840    -0.0079863681    -0.0055627168\n",
            "3 C     0.0192940455     0.0294434773     0.0111375185\n",
            "----------------------------------------------\n",
            "cycle 3: E = -39.7959733938  dE = -6.24996e-05  norm(grad) = 0.0436916\n"
          ]
        },
        {
          "output_type": "stream",
          "name": "stderr",
          "text": [
            "Step    2 : Displace = \u001b[0m9.942e-03\u001b[0m/\u001b[0m1.147e-02\u001b[0m (rms/max) Trust = 1.414e-01 (\u001b[92m+\u001b[0m) Grad_T = \u001b[92m1.688e-04\u001b[0m/\u001b[92m2.106e-04\u001b[0m (rms/max) E (change) = -39.7959733938 (\u001b[0m-6.250e-05\u001b[0m) Quality = \u001b[0m1.083\u001b[0m\n",
            "Constraint                         Current      Target       Diff.\n",
            "Dihedral 1-2-3-4                 -34.80790   -34.93252     0.12461\n",
            "Hessian Eigenvalues: 4.99998e-02 5.00000e-02 5.00000e-02 ... 3.32867e-01 3.35132e-01 3.37562e-01\n"
          ]
        },
        {
          "output_type": "stream",
          "name": "stdout",
          "text": [
            "\n",
            "Geometry optimization cycle 4\n",
            "Cartesian coordinates (Angstrom)\n",
            " Atom        New coordinates             dX        dY        dZ\n",
            "   H   0.019454   0.003552   0.011370    0.000468 -0.000134  0.000269\n",
            "   H   1.792326   0.016555  -0.046464   -0.000091  0.000053 -0.000994\n",
            "   H   0.855742   0.016554   1.575626   -0.000918  0.000099  0.000430\n",
            "   C   0.931334   0.326765   0.537839    0.000538 -0.000113  0.000308\n",
            "converged SCF energy = -39.7959291632701\n",
            "--------------- SCF_Scanner gradients ---------------\n",
            "         x                y                z\n",
            "0 H    -0.0004598510    -0.0135061371    -0.0002619161\n",
            "1 H    -0.0094840272    -0.0079786691    -0.0055267239\n",
            "2 H    -0.0095307885    -0.0079812044    -0.0054514755\n",
            "3 C     0.0194747265     0.0294680758     0.0112399109\n",
            "----------------------------------------------\n",
            "cycle 4: E = -39.7959291633  dE = 4.42305e-05  norm(grad) = 0.0438756\n"
          ]
        },
        {
          "output_type": "stream",
          "name": "stderr",
          "text": [
            "Step    3 : Displace = \u001b[92m8.274e-04\u001b[0m/\u001b[92m1.011e-03\u001b[0m (rms/max) Trust = 2.000e-01 (\u001b[92m+\u001b[0m) Grad_T = \u001b[92m1.982e-05\u001b[0m/\u001b[92m2.859e-05\u001b[0m (rms/max) E (change) = -39.7959291633 (\u001b[0m+4.423e-05\u001b[0m) Quality = \u001b[0m0.999\u001b[0m\n",
            "Constraint                         Current      Target       Diff.\n",
            "Dihedral 1-2-3-4                 -34.87042   -34.93252     0.06210\n",
            "Hessian Eigenvalues: 4.99572e-02 5.00000e-02 5.00000e-02 ... 3.32100e-01 3.35109e-01 3.40128e-01\n"
          ]
        },
        {
          "output_type": "stream",
          "name": "stdout",
          "text": [
            "\n",
            "Geometry optimization cycle 5\n",
            "Cartesian coordinates (Angstrom)\n",
            " Atom        New coordinates             dX        dY        dZ\n",
            "   H   0.019555   0.003473   0.011428    0.000101 -0.000079  0.000058\n",
            "   H   1.792242   0.016449  -0.046543   -0.000084 -0.000106 -0.000079\n",
            "   H   0.855621   0.016492   1.575602   -0.000121 -0.000062 -0.000025\n",
            "   C   0.931435   0.326911   0.537895    0.000101  0.000147  0.000056\n",
            "converged SCF energy = -39.79590685008\n",
            "--------------- SCF_Scanner gradients ---------------\n",
            "         x                y                z\n",
            "0 H    -0.0004738187    -0.0135353670    -0.0002699533\n",
            "1 H    -0.0095085096    -0.0079878257    -0.0055407745\n",
            "2 H    -0.0095550372    -0.0079901657    -0.0054657820\n",
            "3 C     0.0195374284     0.0295154238     0.0112763101\n",
            "----------------------------------------------\n",
            "cycle 5: E = -39.7959068501  dE = 2.23132e-05  norm(grad) = 0.0439712\n"
          ]
        },
        {
          "output_type": "stream",
          "name": "stderr",
          "text": [
            "Step    4 : Displace = \u001b[92m1.535e-04\u001b[0m/\u001b[92m2.049e-04\u001b[0m (rms/max) Trust = 2.828e-01 (\u001b[92m+\u001b[0m) Grad_T = \u001b[92m8.506e-06\u001b[0m/\u001b[92m1.109e-05\u001b[0m (rms/max) E (change) = -39.7959068501 (\u001b[0m+2.231e-05\u001b[0m) Quality = \u001b[0m1.000\u001b[0m\n",
            "Constraint                         Current      Target       Diff.\n",
            "Dihedral 1-2-3-4                 -34.90374   -34.93252     0.02877\n",
            "Hessian Eigenvalues: 4.86816e-02 5.00000e-02 5.00000e-02 ... 3.21842e-01 3.35100e-01 3.40638e-01\n"
          ]
        },
        {
          "output_type": "stream",
          "name": "stdout",
          "text": [
            "\n",
            "Geometry optimization cycle 6\n",
            "Cartesian coordinates (Angstrom)\n",
            " Atom        New coordinates             dX        dY        dZ\n",
            "   H   0.019588   0.003407   0.011448    0.000033 -0.000066  0.000020\n",
            "   H   1.792211   0.016352  -0.046548   -0.000031 -0.000097 -0.000005\n",
            "   H   0.855586   0.016454   1.575587   -0.000035 -0.000038 -0.000015\n",
            "   C   0.931464   0.326982   0.537908    0.000029  0.000070  0.000013\n",
            "converged SCF energy = -39.7958964995671\n",
            "--------------- SCF_Scanner gradients ---------------\n",
            "         x                y                z\n",
            "0 H    -0.0004823379    -0.0135504839    -0.0002744873\n",
            "1 H    -0.0095123984    -0.0079957243    -0.0055456439\n",
            "2 H    -0.0095612890    -0.0079979454    -0.0054666233\n",
            "3 C     0.0195560902     0.0295462201     0.0112865534\n",
            "----------------------------------------------\n",
            "cycle 6: E = -39.7958964996  dE = 1.03505e-05  norm(grad) = 0.0440133\n"
          ]
        },
        {
          "output_type": "stream",
          "name": "stderr",
          "text": [
            "Step    5 : Displace = \u001b[92m6.863e-05\u001b[0m/\u001b[92m1.075e-04\u001b[0m (rms/max) Trust = 3.000e-01 (\u001b[92m+\u001b[0m) Grad_T = \u001b[92m1.205e-06\u001b[0m/\u001b[92m2.068e-06\u001b[0m (rms/max) E (change) = -39.7958964996 (\u001b[0m+1.035e-05\u001b[0m) Quality = \u001b[0m1.000\u001b[0m\n",
            "Constraint                         Current      Target       Diff.\n",
            "Dihedral 1-2-3-4                 -34.91940   -34.93252     0.01312\n",
            "Hessian Eigenvalues: 4.36823e-02 5.00000e-02 5.00000e-02 ... 3.22971e-01 3.35101e-01 3.40863e-01\n"
          ]
        },
        {
          "output_type": "stream",
          "name": "stdout",
          "text": [
            "\n",
            "Geometry optimization cycle 7\n",
            "Cartesian coordinates (Angstrom)\n",
            " Atom        New coordinates             dX        dY        dZ\n",
            "   H   0.019609   0.003358   0.011461    0.000021 -0.000048  0.000013\n",
            "   H   1.792193   0.016267  -0.046543   -0.000018 -0.000085  0.000004\n",
            "   H   0.855562   0.016434   1.575579   -0.000023 -0.000020 -0.000008\n",
            "   C   0.931480   0.326990   0.537912    0.000016  0.000008  0.000004\n",
            "converged SCF energy = -39.7958917788128\n",
            "--------------- SCF_Scanner gradients ---------------\n",
            "         x                y                z\n",
            "0 H    -0.0004822889    -0.0135565141    -0.0002739863\n",
            "1 H    -0.0095175590    -0.0079992600    -0.0055462161\n",
            "2 H    -0.0095646082    -0.0080005329    -0.0054700344\n",
            "3 C     0.0195645227     0.0295583740     0.0112900346\n",
            "----------------------------------------------\n",
            "cycle 7: E = -39.7958917788  dE = 4.72075e-06  norm(grad) = 0.0440314\n"
          ]
        },
        {
          "output_type": "stream",
          "name": "stderr",
          "text": [
            "Step    6 : Displace = \u001b[92m3.251e-05\u001b[0m/\u001b[92m4.677e-05\u001b[0m (rms/max) Trust = 3.000e-01 (=) Grad_T = \u001b[92m7.857e-07\u001b[0m/\u001b[92m1.060e-06\u001b[0m (rms/max) E (change) = -39.7958917788 (\u001b[0m+4.721e-06\u001b[0m) Quality = \u001b[0m1.000\u001b[0m\n",
            "Constraint                         Current      Target       Diff.\n",
            "Dihedral 1-2-3-4                 -34.92653   -34.93252     0.00599\n",
            "Hessian Eigenvalues: 3.48886e-02 5.00000e-02 5.00000e-02 ... 3.23187e-01 3.35147e-01 3.41170e-01\n"
          ]
        },
        {
          "output_type": "stream",
          "name": "stdout",
          "text": [
            "\n",
            "Geometry optimization cycle 8\n",
            "Cartesian coordinates (Angstrom)\n",
            " Atom        New coordinates             dX        dY        dZ\n",
            "   H   0.019619   0.003314   0.011469    0.000010 -0.000044  0.000007\n",
            "   H   1.792186   0.016203  -0.046541   -0.000007 -0.000064  0.000002\n",
            "   H   0.855544   0.016406   1.575580   -0.000018 -0.000028  0.000001\n",
            "   C   0.931490   0.326967   0.537917    0.000010 -0.000022  0.000005\n",
            "converged SCF energy = -39.7958896228051\n",
            "--------------- SCF_Scanner gradients ---------------\n",
            "         x                y                z\n",
            "0 H    -0.0004830915    -0.0135590958    -0.0002739686\n",
            "1 H    -0.0095193857    -0.0079998452    -0.0055475865\n",
            "2 H    -0.0095669257    -0.0080014316    -0.0054713658\n",
            "3 C     0.0195694705     0.0295624397     0.0112927183\n",
            "----------------------------------------------\n",
            "cycle 8: E = -39.7958896228  dE = 2.15601e-06  norm(grad) = 0.0440393\n"
          ]
        },
        {
          "output_type": "stream",
          "name": "stderr",
          "text": [
            "Step    7 : Displace = \u001b[92m1.493e-05\u001b[0m/\u001b[92m1.988e-05\u001b[0m (rms/max) Trust = 3.000e-01 (=) Grad_T = \u001b[92m8.048e-07\u001b[0m/\u001b[92m1.178e-06\u001b[0m (rms/max) E (change) = -39.7958896228 (\u001b[0m+2.156e-06\u001b[0m) Quality = \u001b[0m1.000\u001b[0m\n",
            "Constraint                         Current      Target       Diff.\n",
            "Dihedral 1-2-3-4                 -34.92975   -34.93252     0.00276\n",
            "Hessian Eigenvalues: 1.55672e-02 4.99993e-02 5.00000e-02 ... 3.24876e-01 3.35581e-01 3.41675e-01\n"
          ]
        },
        {
          "output_type": "stream",
          "name": "stdout",
          "text": [
            "\n",
            "Geometry optimization cycle 9\n",
            "Cartesian coordinates (Angstrom)\n",
            " Atom        New coordinates             dX        dY        dZ\n",
            "   H   0.019624   0.003266   0.011473    0.000005 -0.000048  0.000004\n",
            "   H   1.792183   0.016121  -0.046532   -0.000003 -0.000082  0.000010\n",
            "   H   0.855531   0.016378   1.575585   -0.000013 -0.000027  0.000004\n",
            "   C   0.931495   0.326927   0.537918    0.000005 -0.000041  0.000001\n",
            "converged SCF energy = -39.7958886274549\n",
            "--------------- SCF_Scanner gradients ---------------\n",
            "         x                y                z\n",
            "0 H    -0.0004831393    -0.0135601138    -0.0002735965\n",
            "1 H    -0.0095204558    -0.0080003765    -0.0055477900\n",
            "2 H    -0.0095677606    -0.0080017916    -0.0054715962\n",
            "3 C     0.0195714248     0.0295643494     0.0112927789\n",
            "----------------------------------------------\n",
            "cycle 9: E = -39.7958886275  dE = 9.9535e-07  norm(grad) = 0.0440424\n"
          ]
        },
        {
          "output_type": "stream",
          "name": "stderr",
          "text": [
            "Step    8 : Displace = \u001b[92m6.896e-06\u001b[0m/\u001b[92m9.680e-06\u001b[0m (rms/max) Trust = 3.000e-01 (=) Grad_T = \u001b[92m6.834e-07\u001b[0m/\u001b[92m1.019e-06\u001b[0m (rms/max) E (change) = -39.7958886275 (\u001b[92m+9.954e-07\u001b[0m) Quality = \u001b[0m1.000\u001b[0m\n",
            "Constraint                         Current      Target       Diff.\n",
            "Dihedral 1-2-3-4                 -34.93125   -34.93252     0.00126\n",
            "Hessian Eigenvalues: 1.55672e-02 4.99993e-02 5.00000e-02 ... 3.24876e-01 3.35581e-01 3.41675e-01\n",
            "Converged! =D\n",
            "\n",
            "    #==========================================================================#\n",
            "    #| If this code has benefited your research, please support us by citing: |#\n",
            "    #|                                                                        |#\n",
            "    #| Wang, L.-P.; Song, C.C. (2016) \"Geometry optimization made simple with |#\n",
            "    #| translation and rotation coordinates\", J. Chem, Phys. 144, 214108.     |#\n",
            "    #| http://dx.doi.org/10.1063/1.4952956                                    |#\n",
            "    #==========================================================================#\n",
            "    Time elapsed since start of run_optimizer: 17.017 seconds\n"
          ]
        },
        {
          "output_type": "stream",
          "name": "stdout",
          "text": [
            "converged SCF energy = -39.7958886274615\n"
          ]
        },
        {
          "output_type": "execute_result",
          "data": {
            "text/plain": [
              "-39.795888627461544"
            ]
          },
          "metadata": {},
          "execution_count": 32
        }
      ]
    },
    {
      "cell_type": "code",
      "source": [
        "def dihedral(i, j, k, l, mol):\n",
        "    ri = mol.atom_coord(i)\n",
        "    rj = mol.atom_coord(j)\n",
        "    rk = mol.atom_coord(k)\n",
        "    rl = mol.atom_coord(l)\n",
        "    a = rj - ri\n",
        "    b = rk - rj\n",
        "    c = rl - rk\n",
        "    n1 = np.cross(a, b)\n",
        "    n2 = np.cross(b, c)\n",
        "    return np.arctan2(np.dot(n1, c), np.dot(n1, n2)) * 180 / np.pi\n",
        "\n",
        "print('Final Energy:', mf.e_tot,\"Hartree\\n\")\n",
        "print('Out-of-plane angle:', dihedral(3, 2, 0, 1, mol_eq), 'degrees')\n"
      ],
      "metadata": {
        "colab": {
          "base_uri": "https://localhost:8080/"
        },
        "id": "nTnry5TZdc-i",
        "outputId": "d82ac062-a90d-4261-d099-c488fff010b4"
      },
      "execution_count": 37,
      "outputs": [
        {
          "output_type": "stream",
          "name": "stdout",
          "text": [
            "Final Energy: -39.795888627461544 Hartree\n",
            "\n",
            "Out-of-plane angle: 9.556871555590398 degrees\n"
          ]
        }
      ]
    },
    {
      "cell_type": "code",
      "execution_count": 38,
      "metadata": {
        "id": "HA2zdpXG0hJQ",
        "colab": {
          "base_uri": "https://localhost:8080/"
        },
        "outputId": "28c57014-0358-43b8-d77d-d61fb7aec70a"
      },
      "outputs": [
        {
          "output_type": "stream",
          "name": "stdout",
          "text": [
            " Iterative localization: IB/P4/2x2, 6 iter; Final gradient 1.91e-10\n",
            " Iterative localization: IB/P4/2x2, 4 iter; Final gradient 7.06e-10\n"
          ]
        }
      ],
      "source": [
        "%%capture \n",
        "def get_mo(mf, mol):\n",
        "    \"\"\"Get molecular orbitals\"\"\"\n",
        "    orbitals = {\"canonical\": mf.mo_coeff}\n",
        "\n",
        "    # Get intrinsic bonding orbitals and localized intrinsic valence virtual orbitals (livvo):\n",
        "    orbocc = mf.mo_coeff[:, 0 : mol.nelec[0]]\n",
        "    orbvirt = mf.mo_coeff[:, mol.nelec[0] :]\n",
        "\n",
        "    ovlpS = mol.intor_symmetric(\"int1e_ovlp\")\n",
        "\n",
        "    iaos = lo.iao.iao(mol, orbocc)\n",
        "    iaos = lo.orth.vec_lowdin(iaos, ovlpS)\n",
        "    ibos = lo.ibo.ibo(mol, orbocc, locmethod=\"IBO\")\n",
        "    orbitals[\"ibo\"] = ibos\n",
        "\n",
        "    livvo = lo.vvo.livvo(mol, orbocc, orbvirt)\n",
        "    orbitals[\"livvo\"] = livvo\n",
        "    return orbitals\n",
        "\n",
        "orbitals = get_mo(mf, mol_eq);"
      ]
    },
    {
      "cell_type": "code",
      "execution_count": 39,
      "metadata": {
        "id": "xxFUUXJFS7X7"
      },
      "outputs": [],
      "source": [
        "def find_homo_lumo(mf):\n",
        "    lumo = float(\"inf\")\n",
        "    lumo_idx = None\n",
        "    homo = -float(\"inf\")\n",
        "    homo_idx = None\n",
        "    for i, (energy, occ) in enumerate(zip(mf.mo_energy, mf.mo_occ)):\n",
        "        if occ > 0 and energy > homo:\n",
        "            homo = energy\n",
        "            homo_idx = i\n",
        "        if occ == 0 and energy < lumo:\n",
        "            lumo = energy\n",
        "            lumo_idx = i\n",
        "\n",
        "    return homo, homo_idx, lumo, lumo_idx\n",
        "\n",
        "_, homo_idx, _, lumo_idx = find_homo_lumo(mf)"
      ]
    },
    {
      "cell_type": "code",
      "execution_count": 40,
      "metadata": {
        "id": "ZQDoNq1aVtvi"
      },
      "outputs": [],
      "source": [
        "tools.cubegen.orbital(\n",
        "    mol, \"opt.cube\", orbitals[\"canonical\"][:, homo_idx], margin=5,nx=10,ny=10,nz=10\n",
        ");"
      ]
    },
    {
      "cell_type": "code",
      "execution_count": 41,
      "metadata": {
        "colab": {
          "base_uri": "https://localhost:8080/",
          "height": 497
        },
        "id": "XHY5N_JjSMM1",
        "outputId": "cae57d85-13cb-45e5-bc18-67d4198a9fb7"
      },
      "outputs": [
        {
          "output_type": "display_data",
          "data": {
            "application/3dmoljs_load.v0": "<div id=\"3dmolviewer_1675416104611149\"  style=\"position: relative; width: 640px; height: 480px\">\n        <p id=\"3dmolwarning_1675416104611149\" style=\"background-color:#ffcccc;color:black\">You appear to be running in JupyterLab (or JavaScript failed to load for some other reason).  You need to install the 3dmol extension: <br>\n        <tt>jupyter labextension install jupyterlab_3dmol</tt></p>\n        </div>\n<script>\n\nvar loadScriptAsync = function(uri){\n  return new Promise((resolve, reject) => {\n    //this is to ignore the existence of requirejs amd\n    var savedexports, savedmodule;\n    if (typeof exports !== 'undefined') savedexports = exports;\n    else exports = {}\n    if (typeof module !== 'undefined') savedmodule = module;\n    else module = {}\n\n    var tag = document.createElement('script');\n    tag.src = uri;\n    tag.async = true;\n    tag.onload = () => {\n        exports = savedexports;\n        module = savedmodule;\n        resolve();\n    };\n  var firstScriptTag = document.getElementsByTagName('script')[0];\n  firstScriptTag.parentNode.insertBefore(tag, firstScriptTag);\n});\n};\n\nif(typeof $3Dmolpromise === 'undefined') {\n$3Dmolpromise = null;\n  $3Dmolpromise = loadScriptAsync('https://cdn.jsdelivr.net/npm/3dmol@latest/build/3Dmol-min.min.js');\n}\n\nvar viewer_1675416104611149 = null;\nvar warn = document.getElementById(\"3dmolwarning_1675416104611149\");\nif(warn) {\n    warn.parentNode.removeChild(warn);\n}\n$3Dmolpromise.then(function() {\nviewer_1675416104611149 = $3Dmol.createViewer(document.getElementById(\"3dmolviewer_1675416104611149\"),{backgroundColor:\"white\"});\nviewer_1675416104611149.zoomTo();\n\tviewer_1675416104611149.addVolumetricData(\"Orbital value in real space (1/Bohr^3)\\nPySCF Version: 2.1.1  Date: Fri Feb  3 09:21:42 2023\\n    4   -5.000000   -5.000000   -5.000000\\n   10    1.489056    0.000000    0.000000\\n   10    0.000000    1.187475    0.000000\\n   10    0.000000    0.000000    1.438421\\n    1    0.000000    0.000000    0.000000    0.000000\\n    1    0.000000    3.401507    0.000000    0.000000\\n    1    0.000000    1.700754    0.000000    2.945791\\n    6    0.000000    1.698598    0.687276    0.981532\\n -5.07225E-08 -3.80288E-07 -1.48814E-06 -3.06350E-06 -3.35773E-06 -2.00712E-06\\n -6.92753E-07 -1.54237E-07 -2.44655E-08 -2.64297E-09\\n -2.75084E-07 -2.06689E-06 -8.11495E-06 -1.67836E-05 -1.85041E-05 -1.11288E-05\\n -3.85458E-06 -8.55305E-07 -1.34368E-07 -1.43918E-08\\n -9.42006E-07 -7.06835E-06 -2.76956E-05 -5.71217E-05 -6.27627E-05 -3.76181E-05\\n -1.30064E-05 -2.89245E-06 -4.56989E-07 -4.91872E-08\\n -2.02980E-06 -1.51180E-05 -5.85684E-05 -1.18873E-04 -1.27973E-04 -7.50878E-05\\n -2.56542E-05 -5.77960E-06 -9.44870E-07 -1.04680E-07\\n -2.73899E-06 -2.00481E-05 -7.55603E-05 -1.47211E-04 -1.49895E-04 -8.25729E-05\\n -2.71605E-05 -6.37245E-06 -1.14923E-06 -1.37097E-07\\n -2.29944E-06 -1.62684E-05 -5.78871E-05 -1.02492E-04 -8.93895E-05 -3.93224E-05\\n -1.08648E-05 -3.06496E-06 -7.63149E-07 -1.08410E-07\\n -1.18988E-06 -7.90268E-06 -2.48676E-05 -3.36885E-05 -1.28177E-05  7.17857E-06\\n  5.33372E-06  5.11686E-07 -2.09677E-07 -4.99470E-08\\n -3.74149E-07 -2.20005E-06 -5.00856E-06  9.90821E-08  1.44513E-05  1.74737E-05\\n  7.73438E-06  1.32087E-06  3.65241E-08 -1.23000E-08\\n -6.97515E-08 -3.12132E-07  3.34097E-08  3.69756E-06  9.05400E-06  8.49426E-06\\n  3.52666E-06  6.45529E-07  4.20823E-08 -1.11992E-09\\n -7.32075E-09 -1.10270E-08  2.17952E-07  1.20388E-06  2.36058E-06  2.05282E-06\\n  8.32489E-07  1.56309E-07  1.22409E-08  1.42768E-10\\n -4.15923E-07 -3.24324E-06 -1.34453E-05 -2.99313E-05 -3.61863E-05 -2.42719E-05\\n -9.51248E-06 -2.38821E-06 -4.10007E-07 -4.57259E-08\\n -2.26547E-06 -1.77503E-05 -7.40752E-05 -1.66243E-04 -2.02671E-04 -1.36791E-04\\n -5.36222E-05 -1.33421E-05 -2.25877E-06 -2.49274E-07\\n -7.73719E-06 -6.04472E-05 -2.51282E-04 -5.61392E-04 -6.81262E-04 -4.58314E-04\\n -1.79712E-04 -4.49556E-05 -7.67131E-06 -8.51533E-07\\n -1.64262E-05 -1.26230E-04 -5.12880E-04 -1.11461E-03 -1.31247E-03 -8.62849E-04\\n -3.38479E-04 -8.76133E-05 -1.57092E-05 -1.80619E-06\\n -2.13968E-05 -1.57741E-04 -6.02423E-04 -1.20488E-03 -1.28163E-03 -7.71850E-04\\n -3.03111E-04 -8.90145E-05 -1.86011E-05 -2.34589E-06\\n -1.67349E-05 -1.12298E-04 -3.61926E-04 -5.26760E-04 -2.86796E-04 -1.91348E-05\\n -8.35003E-06 -2.79058E-05 -1.14494E-05 -1.82239E-06\\n -7.53359E-06 -3.96499E-05 -5.53516E-05  1.72286E-04  5.75857E-04  5.67319E-04\\n  2.21657E-04  2.85660E-05 -2.09573E-06 -8.07713E-07\\n -1.74663E-06 -2.26619E-06  5.54681E-05  2.99478E-04  5.80890E-04  4.97496E-04\\n  1.94665E-04  3.27696E-05  1.45945E-06 -1.79053E-07\\n -1.11523E-07  3.08765E-06  3.54148E-05  1.40221E-04  2.45871E-04  2.02581E-04\\n  7.93076E-05  1.42983E-05  1.00153E-06 -7.56722E-09\\n  3.57664E-08  1.10239E-06  9.27704E-06  3.34308E-05  5.63160E-05  4.56211E-05\\n  1.78646E-05  3.31712E-06  2.66932E-07  4.93396E-09\\n -1.80706E-06 -1.51711E-05 -6.91566E-05 -1.71573E-04 -2.31700E-04 -1.72266E-04\\n -7.36660E-05 -1.96680E-05 -3.47817E-06 -3.91007E-07\\n -9.92825E-06 -8.40655E-05 -3.87027E-04 -9.69676E-04 -1.31959E-03 -9.84274E-04\\n -4.19127E-04 -1.10426E-04 -1.92047E-05 -2.13352E-06\\n -3.37335E-05 -2.84232E-04 -1.30222E-03 -3.25550E-03 -4.40901E-03 -3.27661E-03\\n -1.39872E-03 -3.71300E-04 -6.51671E-05 -7.28574E-06\\n -6.95118E-05 -5.68489E-04 -2.53165E-03 -6.31188E-03 -8.23314E-03 -5.89200E-03\\n -2.55122E-03 -7.12165E-04 -1.32570E-04 -1.54145E-05\\n -8.38425E-05 -6.29093E-04 -2.54258E-03 -6.14304E-03 -6.93576E-03 -4.23942E-03\\n -1.98033E-03 -6.82936E-04 -1.53995E-04 -1.98910E-05\\n -5.44691E-05 -3.06891E-04 -6.45061E-04 -1.14283E-04  2.16400E-03  2.54517E-03\\n  6.88885E-04 -1.27017E-04 -8.93013E-05 -1.52347E-05\\n -1.35848E-05  4.41801E-05  1.03427E-03  4.57478E-03  8.39980E-03  6.89055E-03\\n  2.51483E-03  3.44380E-04 -9.45385E-06 -6.53535E-06\\n  3.79797E-06  1.26044E-04  1.07254E-03  3.87548E-03  6.51825E-03  5.22328E-03\\n  1.98347E-03  3.35156E-04  1.73689E-05 -1.30833E-06\\n  3.48481E-06  6.20900E-05  4.56747E-04  1.55657E-03  2.54827E-03  2.02737E-03\\n  7.80464E-04  1.40597E-04  1.02434E-05  1.33695E-08\\n  9.81482E-07  1.50746E-05  1.04886E-04  3.48391E-04  5.63432E-04  4.46633E-04\\n  1.73019E-04  3.20849E-05  2.62930E-06  5.85005E-08\\n -4.48583E-06 -4.16329E-05 -2.11157E-04 -5.78447E-04 -8.48194E-04 -6.71459E-04\\n -2.99830E-04 -8.19628E-05 -1.45971E-05 -1.63989E-06\\n -2.49635E-05 -2.34270E-04 -1.20074E-03 -3.31755E-03 -4.88862E-03 -3.86905E-03\\n -1.71496E-03 -4.61546E-04 -8.07187E-05 -8.95391E-06\\n -8.42048E-05 -7.85471E-04 -4.01459E-03 -1.11842E-02 -1.64676E-02 -1.29106E-02\\n -5.72321E-03 -1.55114E-03 -2.73792E-04 -3.05711E-05\\n -1.65872E-04 -1.48737E-03 -7.53322E-03 -2.31581E-02 -3.38878E-02 -2.40142E-02\\n -1.04793E-02 -2.96192E-03 -5.54832E-04 -6.45707E-05\\n -1.74927E-04 -1.36128E-03 -6.48929E-03 -2.70587E-02 -3.56774E-02 -1.80859E-02\\n -8.07115E-03 -2.78241E-03 -6.36981E-04 -8.29586E-05\\n -6.86133E-05 -1.03331E-04  1.59022E-03  6.40542E-03  2.35000E-02  1.93478E-02\\n  4.23836E-03 -3.24276E-04 -3.54882E-04 -6.29185E-05\\n  3.62884E-05  9.00538E-04  7.25349E-03  2.72409E-02  5.18177E-02  3.77097E-02\\n  1.21324E-02  1.68150E-03 -1.81853E-05 -2.63617E-05\\n  5.10977E-05  8.10013E-04  5.70996E-03  1.93017E-02  3.19788E-02  2.47255E-02\\n  9.12647E-03  1.54587E-03  8.58412E-05 -4.85620E-06\\n  2.31842E-05  3.32316E-04  2.24261E-03  7.33758E-03  1.17703E-02  9.24696E-03\\n  3.53709E-03  6.38249E-04  4.75389E-05  2.77796E-07\\n  5.46219E-06  7.50881E-05  4.96864E-04  1.60881E-03  2.56623E-03  2.01895E-03\\n  7.79391E-04  1.44652E-04  1.19866E-05  2.91755E-07\\n -6.97261E-06 -6.97186E-05 -3.77962E-04 -1.09120E-03 -1.66178E-03 -1.34945E-03\\n -6.11841E-04 -1.68316E-04 -2.99764E-05 -3.36111E-06\\n -3.92105E-05 -3.96485E-04 -2.16930E-03 -6.30571E-03 -9.63950E-03 -7.81045E-03\\n -3.50911E-03 -9.49287E-04 -1.65899E-04 -1.83589E-05\\n -1.31543E-04 -1.32244E-03 -7.21845E-03 -2.13247E-02 -3.35319E-02 -2.67271E-02\\n -1.18524E-02 -3.19900E-03 -5.62742E-04 -6.26806E-05\\n -2.49721E-04 -2.41006E-03 -1.30169E-02 -4.54158E-02 -8.90699E-02 -6.25653E-02\\n -2.45322E-02 -6.27233E-03 -1.13947E-03 -1.32292E-04\\n -2.30832E-04 -1.86610E-03 -9.19068E-03 -4.74160E-02 -1.56231E-01 -7.85542E-02\\n -2.78681E-02 -6.34949E-03 -1.30386E-03 -1.69614E-04\\n -2.38242E-05  6.60882E-04  7.72331E-03  4.77805E-02  1.75336E-01  7.75331E-02\\n  5.91374E-03 -8.93502E-04 -7.13146E-04 -1.28030E-04\\n  1.43693E-04  2.38594E-03  1.76509E-02  8.25526E-02  2.10268E-01  1.23067E-01\\n  2.75602E-02  3.62552E-03 -1.78933E-05 -5.30109E-05\\n  1.31453E-04  1.87945E-03  1.27340E-02  4.44587E-02  7.98430E-02  5.78961E-02\\n  1.96598E-02  3.29911E-03  1.88284E-04 -9.33129E-06\\n  5.42002E-05  7.39141E-04  4.87190E-03  1.57953E-02  2.53236E-02  1.97433E-02\\n  7.50300E-03  1.35463E-03  1.01880E-04  7.89652E-07\\n  1.22742E-05  1.63808E-04  1.06796E-03  3.43087E-03  5.44938E-03  4.27669E-03\\n  1.64918E-03  3.06296E-04  2.55111E-05  6.44327E-07\\n -7.20776E-06 -7.14460E-05 -3.84505E-04 -1.10401E-03 -1.67477E-03 -1.35630E-03\\n -6.13720E-04 -1.68586E-04 -2.99965E-05 -3.36189E-06\\n -4.04943E-05 -4.05984E-04 -2.20570E-03 -6.37829E-03 -9.71493E-03 -7.85150E-03\\n -3.52085E-03 -9.51049E-04 -1.66038E-04 -1.83646E-05\\n -1.36015E-04 -1.35589E-03 -7.34988E-03 -2.16053E-02 -3.38327E-02 -2.68912E-02\\n -1.19012E-02 -3.20671E-03 -5.63378E-04 -6.27078E-05\\n -2.59675E-04 -2.48583E-03 -1.33427E-02 -4.63899E-02 -9.01473E-02 -6.30404E-02\\n -2.46691E-02 -6.29457E-03 -1.14138E-03 -1.32377E-04\\n -2.45019E-04 -1.97666E-03 -9.73599E-03 -4.99476E-02 -1.59638E-01 -7.96773E-02\\n -2.81366E-02 -6.39119E-03 -1.30756E-03 -1.69782E-04\\n -3.67902E-05  5.57272E-04  7.21419E-03  4.51308E-02  1.66937E-01  7.52885E-02\\n  5.57120E-03 -9.43423E-04 -7.17658E-04 -1.28238E-04\\n  1.36088E-04  2.32339E-03  1.73611E-02  8.14350E-02  2.07468E-01  1.21809E-01\\n  2.73251E-02  3.58803E-03 -2.13504E-05 -5.31726E-05\\n  1.28589E-04  1.85509E-03  1.26207E-02  4.41473E-02  7.93336E-02  5.75756E-02\\n  1.95619E-02  3.28147E-03  1.86632E-04 -9.40915E-06\\n  5.35091E-05  7.33044E-04  4.84259E-03  1.57188E-02  2.52168E-02  1.96672E-02\\n  7.47526E-03  1.34944E-03  1.01389E-04  7.66404E-07\\n  1.21674E-05  1.62832E-04  1.06309E-03  3.41784E-03  5.43098E-03  4.26323E-03\\n  1.64416E-03  3.05346E-04  2.54208E-05  6.40029E-07\\n -4.91099E-06 -4.47507E-05 -2.22934E-04 -6.01401E-04 -8.71330E-04 -6.83549E-04\\n -3.03112E-04 -8.24266E-05 -1.46312E-05 -1.64119E-06\\n -2.72800E-05 -2.51355E-04 -1.26587E-03 -3.44641E-03 -5.02113E-03 -3.94014E-03\\n -1.73494E-03 -4.64490E-04 -8.09454E-05 -8.96300E-06\\n -9.22476E-05 -8.45317E-04 -4.24748E-03 -1.16726E-02 -1.69821E-02 -1.31870E-02\\n -5.80392E-03 -1.56360E-03 -2.74798E-04 -3.06133E-05\\n -1.83694E-04 -1.62183E-03 -8.09853E-03 -2.47437E-02 -3.55738E-02 -2.47582E-02\\n -1.06956E-02 -2.99678E-03 -5.57772E-04 -6.46988E-05\\n -2.00166E-04 -1.55541E-03 -7.40353E-03 -3.08186E-02 -3.97869E-02 -1.95194E-02\\n -8.45664E-03 -2.84597E-03 -6.42533E-04 -8.32073E-05\\n -9.14889E-05 -2.82970E-04  7.61242E-04  3.47093E-03  1.96092E-02  1.76395E-02\\n  3.79366E-03 -3.98721E-04 -3.61559E-04 -6.32240E-05\\n  2.30061E-05  7.93639E-04  6.78271E-03  2.59785E-02  4.99845E-02  3.66441E-02\\n  1.18163E-02  1.62623E-03 -2.32449E-05 -2.65965E-05\\n  4.61557E-05  7.69034E-04  5.52603E-03  1.88479E-02  3.13669E-02  2.43146E-02\\n  8.98466E-03  1.52006E-03  8.34430E-05 -4.96862E-06\\n  2.20065E-05  3.22229E-04  2.19565E-03  7.21930E-03  1.16111E-02  9.13497E-03\\n  3.49643E-03  6.30706E-04  4.68308E-05  2.44372E-07\\n  5.28270E-06  7.34988E-05  4.89196E-04  1.58885E-03  2.53867E-03  1.99912E-03\\n  7.72068E-04  1.43279E-04  1.18567E-05  2.85594E-07\\n -2.05401E-06 -1.69780E-05 -7.59570E-05 -1.84753E-04 -2.44875E-04 -1.79070E-04\\n -7.54848E-05 -1.99200E-05 -3.49629E-06 -3.91682E-07\\n -1.12701E-05 -9.39198E-05 -4.24337E-04 -1.04267E-03 -1.39355E-03 -1.02320E-03\\n -4.29797E-04 -1.11951E-04 -1.93184E-05 -2.13793E-06\\n -3.83729E-05 -3.18499E-04 -1.43328E-03 -3.51708E-03 -4.67920E-03 -3.42183E-03\\n -1.43986E-03 -3.77415E-04 -6.56426E-05 -7.30499E-06\\n -7.97285E-05 -6.44601E-04 -2.82938E-03 -6.94963E-03 -8.90534E-03 -6.24851E-03\\n -2.65559E-03 -7.28361E-04 -1.33885E-04 -1.54699E-05\\n -9.81879E-05 -7.37245E-04 -2.97993E-03 -7.17902E-03 -8.05240E-03 -4.81510E-03\\n -2.15407E-03 -7.11046E-04 -1.56368E-04 -1.99944E-05\\n -6.73251E-05 -4.05284E-04 -1.04827E-03 -1.05425E-03  1.10272E-03  1.94882E-03\\n  5.00686E-04 -1.58628E-04 -9.20569E-05 -1.53579E-05\\n -2.09443E-05 -1.32107E-05  7.95988E-04  4.03911E-03  7.76361E-03  6.49429E-03\\n  2.38363E-03  3.21619E-04 -1.14887E-05 -6.62810E-06\\n  1.10549E-06  1.04570E-04  9.80882E-04  3.66490E-03  6.25859E-03  5.05333E-03\\n  1.92509E-03  3.24765E-04  1.64221E-05 -1.35209E-06\\n  2.85532E-06  5.69408E-05  4.34049E-04  1.50254E-03  2.47930E-03  1.98074E-03\\n  7.64017E-04  1.37612E-04  9.96756E-06  4.89205E-10\\n  8.87494E-07  1.42847E-05  1.01288E-04  3.39531E-04  5.51759E-04  4.38532E-04\\n  1.70104E-04  3.15481E-05  2.57918E-06  5.61433E-08\\n -4.82062E-07 -3.72630E-06 -1.52580E-05 -3.34286E-05 -3.96584E-05 -2.60476E-05\\n -9.98080E-06 -2.45197E-06 -4.14493E-07 -4.58889E-08\\n -2.62406E-06 -2.03748E-05 -8.39568E-05 -1.85407E-04 -2.21847E-04 -1.46709E-04\\n -5.62784E-05 -1.37110E-05 -2.28537E-06 -2.50269E-07\\n -8.97282E-06 -6.95197E-05 -2.85619E-04 -6.28531E-04 -7.49241E-04 -4.94055E-04\\n -1.89496E-04 -4.63521E-05 -7.77523E-06 -8.55556E-07\\n -1.91336E-05 -1.46203E-04 -5.89067E-04 -1.26548E-03 -1.46777E-03 -9.46280E-04\\n -3.61976E-04 -9.10815E-05 -1.59769E-05 -1.81695E-06\\n -2.51714E-05 -1.85776E-04 -7.10526E-04 -1.42273E-03 -1.51079E-03 -8.98292E-04\\n -3.39940E-04 -9.46570E-05 -1.90535E-05 -2.36473E-06\\n -2.00855E-05 -1.37409E-04 -4.60094E-04 -7.28382E-04 -5.04685E-04 -1.43507E-04\\n -4.59396E-05 -3.38860E-05 -1.19462E-05 -1.84375E-06\\n -9.42836E-06 -5.40151E-05 -1.12481E-04  5.22692E-05  4.42077E-04  4.88089E-04\\n  1.96806E-04  2.44712E-05 -2.44658E-06 -8.23187E-07\\n -2.42951E-06 -7.51750E-06  3.41488E-05  2.53456E-04  5.27869E-04  4.64951E-04\\n  1.84099E-04  3.09745E-05  1.30170E-06 -1.86151E-07\\n -2.68402E-07  1.86104E-06  3.03174E-05  1.28888E-04  2.32373E-04  1.94013E-04\\n  7.64404E-05  1.37986E-05  9.56729E-07 -9.61363E-09\\n  1.27984E-08  9.19434E-07  8.49744E-06  3.16447E-05  5.41200E-05  4.41848E-05\\n  1.73715E-05  3.22941E-06  2.58946E-07  4.56498E-09\\n -5.92988E-08 -4.42857E-07 -1.72251E-06 -3.51436E-06 -3.80339E-06 -2.23359E-06\\n -7.51956E-07 -1.62203E-07 -2.50176E-08 -2.66268E-09\\n -3.21520E-07 -2.40602E-06 -9.38734E-06 -1.92378E-05 -2.09398E-05 -1.23737E-05\\n -4.18270E-06 -8.99938E-07 -1.37504E-07 -1.45057E-08\\n -1.10167E-06 -8.23629E-06 -3.20891E-05 -6.56310E-05 -7.12599E-05 -4.20001E-05\\n -1.41754E-05 -3.05402E-06 -4.68567E-07 -4.96172E-08\\n -2.37853E-06 -1.76751E-05 -6.82252E-05 -1.37689E-04 -1.46932E-04 -8.49896E-05\\n -2.83410E-05 -6.15894E-06 -9.72750E-07 -1.05746E-07\\n -3.22299E-06 -2.36092E-05 -8.90830E-05 -1.73784E-04 -1.77000E-04 -9.69713E-05\\n -3.11539E-05 -6.95140E-06 -1.19306E-06 -1.38826E-07\\n -2.72642E-06 -1.94247E-05 -6.99621E-05 -1.26488E-04 -1.14260E-04 -5.28178E-05\\n -1.47076E-05 -3.63916E-06 -8.08044E-07 -1.10237E-07\\n -1.42939E-06 -9.68409E-06 -3.17484E-05 -4.75572E-05 -2.74765E-05 -9.77344E-07\\n  2.94191E-06  1.42740E-07 -2.39453E-07 -5.11950E-08\\n -4.59603E-07 -2.84052E-06 -7.51184E-06 -5.03329E-06  8.90198E-06  1.42995E-05\\n  6.77443E-06  1.16809E-06  2.38268E-08 -1.28460E-08\\n -8.91455E-08 -4.58840E-07 -5.48077E-07  2.48187E-06  7.70639E-06  7.70089E-06\\n  3.27936E-06  6.05016E-07  3.86281E-08 -1.27166E-09\\n -1.01205E-08 -3.24349E-08  1.31750E-07  1.01978E-06  2.15114E-06  1.92596E-06\\n  7.91818E-07  1.49474E-07  1.16456E-08  1.16163E-10\\n\",\"cube\",{\"isoval\": 1.0, \"volformat\": \"cube\"});\n\tviewer_1675416104611149.addModel(\"Orbital value in real space (1/Bohr^3)\\nPySCF Version: 2.1.1  Date: Fri Feb  3 09:21:42 2023\\n    4   -5.000000   -5.000000   -5.000000\\n   10    1.489056    0.000000    0.000000\\n   10    0.000000    1.187475    0.000000\\n   10    0.000000    0.000000    1.438421\\n    1    0.000000    0.000000    0.000000    0.000000\\n    1    0.000000    3.401507    0.000000    0.000000\\n    1    0.000000    1.700754    0.000000    2.945791\\n    6    0.000000    1.698598    0.687276    0.981532\\n -5.07225E-08 -3.80288E-07 -1.48814E-06 -3.06350E-06 -3.35773E-06 -2.00712E-06\\n -6.92753E-07 -1.54237E-07 -2.44655E-08 -2.64297E-09\\n -2.75084E-07 -2.06689E-06 -8.11495E-06 -1.67836E-05 -1.85041E-05 -1.11288E-05\\n -3.85458E-06 -8.55305E-07 -1.34368E-07 -1.43918E-08\\n -9.42006E-07 -7.06835E-06 -2.76956E-05 -5.71217E-05 -6.27627E-05 -3.76181E-05\\n -1.30064E-05 -2.89245E-06 -4.56989E-07 -4.91872E-08\\n -2.02980E-06 -1.51180E-05 -5.85684E-05 -1.18873E-04 -1.27973E-04 -7.50878E-05\\n -2.56542E-05 -5.77960E-06 -9.44870E-07 -1.04680E-07\\n -2.73899E-06 -2.00481E-05 -7.55603E-05 -1.47211E-04 -1.49895E-04 -8.25729E-05\\n -2.71605E-05 -6.37245E-06 -1.14923E-06 -1.37097E-07\\n -2.29944E-06 -1.62684E-05 -5.78871E-05 -1.02492E-04 -8.93895E-05 -3.93224E-05\\n -1.08648E-05 -3.06496E-06 -7.63149E-07 -1.08410E-07\\n -1.18988E-06 -7.90268E-06 -2.48676E-05 -3.36885E-05 -1.28177E-05  7.17857E-06\\n  5.33372E-06  5.11686E-07 -2.09677E-07 -4.99470E-08\\n -3.74149E-07 -2.20005E-06 -5.00856E-06  9.90821E-08  1.44513E-05  1.74737E-05\\n  7.73438E-06  1.32087E-06  3.65241E-08 -1.23000E-08\\n -6.97515E-08 -3.12132E-07  3.34097E-08  3.69756E-06  9.05400E-06  8.49426E-06\\n  3.52666E-06  6.45529E-07  4.20823E-08 -1.11992E-09\\n -7.32075E-09 -1.10270E-08  2.17952E-07  1.20388E-06  2.36058E-06  2.05282E-06\\n  8.32489E-07  1.56309E-07  1.22409E-08  1.42768E-10\\n -4.15923E-07 -3.24324E-06 -1.34453E-05 -2.99313E-05 -3.61863E-05 -2.42719E-05\\n -9.51248E-06 -2.38821E-06 -4.10007E-07 -4.57259E-08\\n -2.26547E-06 -1.77503E-05 -7.40752E-05 -1.66243E-04 -2.02671E-04 -1.36791E-04\\n -5.36222E-05 -1.33421E-05 -2.25877E-06 -2.49274E-07\\n -7.73719E-06 -6.04472E-05 -2.51282E-04 -5.61392E-04 -6.81262E-04 -4.58314E-04\\n -1.79712E-04 -4.49556E-05 -7.67131E-06 -8.51533E-07\\n -1.64262E-05 -1.26230E-04 -5.12880E-04 -1.11461E-03 -1.31247E-03 -8.62849E-04\\n -3.38479E-04 -8.76133E-05 -1.57092E-05 -1.80619E-06\\n -2.13968E-05 -1.57741E-04 -6.02423E-04 -1.20488E-03 -1.28163E-03 -7.71850E-04\\n -3.03111E-04 -8.90145E-05 -1.86011E-05 -2.34589E-06\\n -1.67349E-05 -1.12298E-04 -3.61926E-04 -5.26760E-04 -2.86796E-04 -1.91348E-05\\n -8.35003E-06 -2.79058E-05 -1.14494E-05 -1.82239E-06\\n -7.53359E-06 -3.96499E-05 -5.53516E-05  1.72286E-04  5.75857E-04  5.67319E-04\\n  2.21657E-04  2.85660E-05 -2.09573E-06 -8.07713E-07\\n -1.74663E-06 -2.26619E-06  5.54681E-05  2.99478E-04  5.80890E-04  4.97496E-04\\n  1.94665E-04  3.27696E-05  1.45945E-06 -1.79053E-07\\n -1.11523E-07  3.08765E-06  3.54148E-05  1.40221E-04  2.45871E-04  2.02581E-04\\n  7.93076E-05  1.42983E-05  1.00153E-06 -7.56722E-09\\n  3.57664E-08  1.10239E-06  9.27704E-06  3.34308E-05  5.63160E-05  4.56211E-05\\n  1.78646E-05  3.31712E-06  2.66932E-07  4.93396E-09\\n -1.80706E-06 -1.51711E-05 -6.91566E-05 -1.71573E-04 -2.31700E-04 -1.72266E-04\\n -7.36660E-05 -1.96680E-05 -3.47817E-06 -3.91007E-07\\n -9.92825E-06 -8.40655E-05 -3.87027E-04 -9.69676E-04 -1.31959E-03 -9.84274E-04\\n -4.19127E-04 -1.10426E-04 -1.92047E-05 -2.13352E-06\\n -3.37335E-05 -2.84232E-04 -1.30222E-03 -3.25550E-03 -4.40901E-03 -3.27661E-03\\n -1.39872E-03 -3.71300E-04 -6.51671E-05 -7.28574E-06\\n -6.95118E-05 -5.68489E-04 -2.53165E-03 -6.31188E-03 -8.23314E-03 -5.89200E-03\\n -2.55122E-03 -7.12165E-04 -1.32570E-04 -1.54145E-05\\n -8.38425E-05 -6.29093E-04 -2.54258E-03 -6.14304E-03 -6.93576E-03 -4.23942E-03\\n -1.98033E-03 -6.82936E-04 -1.53995E-04 -1.98910E-05\\n -5.44691E-05 -3.06891E-04 -6.45061E-04 -1.14283E-04  2.16400E-03  2.54517E-03\\n  6.88885E-04 -1.27017E-04 -8.93013E-05 -1.52347E-05\\n -1.35848E-05  4.41801E-05  1.03427E-03  4.57478E-03  8.39980E-03  6.89055E-03\\n  2.51483E-03  3.44380E-04 -9.45385E-06 -6.53535E-06\\n  3.79797E-06  1.26044E-04  1.07254E-03  3.87548E-03  6.51825E-03  5.22328E-03\\n  1.98347E-03  3.35156E-04  1.73689E-05 -1.30833E-06\\n  3.48481E-06  6.20900E-05  4.56747E-04  1.55657E-03  2.54827E-03  2.02737E-03\\n  7.80464E-04  1.40597E-04  1.02434E-05  1.33695E-08\\n  9.81482E-07  1.50746E-05  1.04886E-04  3.48391E-04  5.63432E-04  4.46633E-04\\n  1.73019E-04  3.20849E-05  2.62930E-06  5.85005E-08\\n -4.48583E-06 -4.16329E-05 -2.11157E-04 -5.78447E-04 -8.48194E-04 -6.71459E-04\\n -2.99830E-04 -8.19628E-05 -1.45971E-05 -1.63989E-06\\n -2.49635E-05 -2.34270E-04 -1.20074E-03 -3.31755E-03 -4.88862E-03 -3.86905E-03\\n -1.71496E-03 -4.61546E-04 -8.07187E-05 -8.95391E-06\\n -8.42048E-05 -7.85471E-04 -4.01459E-03 -1.11842E-02 -1.64676E-02 -1.29106E-02\\n -5.72321E-03 -1.55114E-03 -2.73792E-04 -3.05711E-05\\n -1.65872E-04 -1.48737E-03 -7.53322E-03 -2.31581E-02 -3.38878E-02 -2.40142E-02\\n -1.04793E-02 -2.96192E-03 -5.54832E-04 -6.45707E-05\\n -1.74927E-04 -1.36128E-03 -6.48929E-03 -2.70587E-02 -3.56774E-02 -1.80859E-02\\n -8.07115E-03 -2.78241E-03 -6.36981E-04 -8.29586E-05\\n -6.86133E-05 -1.03331E-04  1.59022E-03  6.40542E-03  2.35000E-02  1.93478E-02\\n  4.23836E-03 -3.24276E-04 -3.54882E-04 -6.29185E-05\\n  3.62884E-05  9.00538E-04  7.25349E-03  2.72409E-02  5.18177E-02  3.77097E-02\\n  1.21324E-02  1.68150E-03 -1.81853E-05 -2.63617E-05\\n  5.10977E-05  8.10013E-04  5.70996E-03  1.93017E-02  3.19788E-02  2.47255E-02\\n  9.12647E-03  1.54587E-03  8.58412E-05 -4.85620E-06\\n  2.31842E-05  3.32316E-04  2.24261E-03  7.33758E-03  1.17703E-02  9.24696E-03\\n  3.53709E-03  6.38249E-04  4.75389E-05  2.77796E-07\\n  5.46219E-06  7.50881E-05  4.96864E-04  1.60881E-03  2.56623E-03  2.01895E-03\\n  7.79391E-04  1.44652E-04  1.19866E-05  2.91755E-07\\n -6.97261E-06 -6.97186E-05 -3.77962E-04 -1.09120E-03 -1.66178E-03 -1.34945E-03\\n -6.11841E-04 -1.68316E-04 -2.99764E-05 -3.36111E-06\\n -3.92105E-05 -3.96485E-04 -2.16930E-03 -6.30571E-03 -9.63950E-03 -7.81045E-03\\n -3.50911E-03 -9.49287E-04 -1.65899E-04 -1.83589E-05\\n -1.31543E-04 -1.32244E-03 -7.21845E-03 -2.13247E-02 -3.35319E-02 -2.67271E-02\\n -1.18524E-02 -3.19900E-03 -5.62742E-04 -6.26806E-05\\n -2.49721E-04 -2.41006E-03 -1.30169E-02 -4.54158E-02 -8.90699E-02 -6.25653E-02\\n -2.45322E-02 -6.27233E-03 -1.13947E-03 -1.32292E-04\\n -2.30832E-04 -1.86610E-03 -9.19068E-03 -4.74160E-02 -1.56231E-01 -7.85542E-02\\n -2.78681E-02 -6.34949E-03 -1.30386E-03 -1.69614E-04\\n -2.38242E-05  6.60882E-04  7.72331E-03  4.77805E-02  1.75336E-01  7.75331E-02\\n  5.91374E-03 -8.93502E-04 -7.13146E-04 -1.28030E-04\\n  1.43693E-04  2.38594E-03  1.76509E-02  8.25526E-02  2.10268E-01  1.23067E-01\\n  2.75602E-02  3.62552E-03 -1.78933E-05 -5.30109E-05\\n  1.31453E-04  1.87945E-03  1.27340E-02  4.44587E-02  7.98430E-02  5.78961E-02\\n  1.96598E-02  3.29911E-03  1.88284E-04 -9.33129E-06\\n  5.42002E-05  7.39141E-04  4.87190E-03  1.57953E-02  2.53236E-02  1.97433E-02\\n  7.50300E-03  1.35463E-03  1.01880E-04  7.89652E-07\\n  1.22742E-05  1.63808E-04  1.06796E-03  3.43087E-03  5.44938E-03  4.27669E-03\\n  1.64918E-03  3.06296E-04  2.55111E-05  6.44327E-07\\n -7.20776E-06 -7.14460E-05 -3.84505E-04 -1.10401E-03 -1.67477E-03 -1.35630E-03\\n -6.13720E-04 -1.68586E-04 -2.99965E-05 -3.36189E-06\\n -4.04943E-05 -4.05984E-04 -2.20570E-03 -6.37829E-03 -9.71493E-03 -7.85150E-03\\n -3.52085E-03 -9.51049E-04 -1.66038E-04 -1.83646E-05\\n -1.36015E-04 -1.35589E-03 -7.34988E-03 -2.16053E-02 -3.38327E-02 -2.68912E-02\\n -1.19012E-02 -3.20671E-03 -5.63378E-04 -6.27078E-05\\n -2.59675E-04 -2.48583E-03 -1.33427E-02 -4.63899E-02 -9.01473E-02 -6.30404E-02\\n -2.46691E-02 -6.29457E-03 -1.14138E-03 -1.32377E-04\\n -2.45019E-04 -1.97666E-03 -9.73599E-03 -4.99476E-02 -1.59638E-01 -7.96773E-02\\n -2.81366E-02 -6.39119E-03 -1.30756E-03 -1.69782E-04\\n -3.67902E-05  5.57272E-04  7.21419E-03  4.51308E-02  1.66937E-01  7.52885E-02\\n  5.57120E-03 -9.43423E-04 -7.17658E-04 -1.28238E-04\\n  1.36088E-04  2.32339E-03  1.73611E-02  8.14350E-02  2.07468E-01  1.21809E-01\\n  2.73251E-02  3.58803E-03 -2.13504E-05 -5.31726E-05\\n  1.28589E-04  1.85509E-03  1.26207E-02  4.41473E-02  7.93336E-02  5.75756E-02\\n  1.95619E-02  3.28147E-03  1.86632E-04 -9.40915E-06\\n  5.35091E-05  7.33044E-04  4.84259E-03  1.57188E-02  2.52168E-02  1.96672E-02\\n  7.47526E-03  1.34944E-03  1.01389E-04  7.66404E-07\\n  1.21674E-05  1.62832E-04  1.06309E-03  3.41784E-03  5.43098E-03  4.26323E-03\\n  1.64416E-03  3.05346E-04  2.54208E-05  6.40029E-07\\n -4.91099E-06 -4.47507E-05 -2.22934E-04 -6.01401E-04 -8.71330E-04 -6.83549E-04\\n -3.03112E-04 -8.24266E-05 -1.46312E-05 -1.64119E-06\\n -2.72800E-05 -2.51355E-04 -1.26587E-03 -3.44641E-03 -5.02113E-03 -3.94014E-03\\n -1.73494E-03 -4.64490E-04 -8.09454E-05 -8.96300E-06\\n -9.22476E-05 -8.45317E-04 -4.24748E-03 -1.16726E-02 -1.69821E-02 -1.31870E-02\\n -5.80392E-03 -1.56360E-03 -2.74798E-04 -3.06133E-05\\n -1.83694E-04 -1.62183E-03 -8.09853E-03 -2.47437E-02 -3.55738E-02 -2.47582E-02\\n -1.06956E-02 -2.99678E-03 -5.57772E-04 -6.46988E-05\\n -2.00166E-04 -1.55541E-03 -7.40353E-03 -3.08186E-02 -3.97869E-02 -1.95194E-02\\n -8.45664E-03 -2.84597E-03 -6.42533E-04 -8.32073E-05\\n -9.14889E-05 -2.82970E-04  7.61242E-04  3.47093E-03  1.96092E-02  1.76395E-02\\n  3.79366E-03 -3.98721E-04 -3.61559E-04 -6.32240E-05\\n  2.30061E-05  7.93639E-04  6.78271E-03  2.59785E-02  4.99845E-02  3.66441E-02\\n  1.18163E-02  1.62623E-03 -2.32449E-05 -2.65965E-05\\n  4.61557E-05  7.69034E-04  5.52603E-03  1.88479E-02  3.13669E-02  2.43146E-02\\n  8.98466E-03  1.52006E-03  8.34430E-05 -4.96862E-06\\n  2.20065E-05  3.22229E-04  2.19565E-03  7.21930E-03  1.16111E-02  9.13497E-03\\n  3.49643E-03  6.30706E-04  4.68308E-05  2.44372E-07\\n  5.28270E-06  7.34988E-05  4.89196E-04  1.58885E-03  2.53867E-03  1.99912E-03\\n  7.72068E-04  1.43279E-04  1.18567E-05  2.85594E-07\\n -2.05401E-06 -1.69780E-05 -7.59570E-05 -1.84753E-04 -2.44875E-04 -1.79070E-04\\n -7.54848E-05 -1.99200E-05 -3.49629E-06 -3.91682E-07\\n -1.12701E-05 -9.39198E-05 -4.24337E-04 -1.04267E-03 -1.39355E-03 -1.02320E-03\\n -4.29797E-04 -1.11951E-04 -1.93184E-05 -2.13793E-06\\n -3.83729E-05 -3.18499E-04 -1.43328E-03 -3.51708E-03 -4.67920E-03 -3.42183E-03\\n -1.43986E-03 -3.77415E-04 -6.56426E-05 -7.30499E-06\\n -7.97285E-05 -6.44601E-04 -2.82938E-03 -6.94963E-03 -8.90534E-03 -6.24851E-03\\n -2.65559E-03 -7.28361E-04 -1.33885E-04 -1.54699E-05\\n -9.81879E-05 -7.37245E-04 -2.97993E-03 -7.17902E-03 -8.05240E-03 -4.81510E-03\\n -2.15407E-03 -7.11046E-04 -1.56368E-04 -1.99944E-05\\n -6.73251E-05 -4.05284E-04 -1.04827E-03 -1.05425E-03  1.10272E-03  1.94882E-03\\n  5.00686E-04 -1.58628E-04 -9.20569E-05 -1.53579E-05\\n -2.09443E-05 -1.32107E-05  7.95988E-04  4.03911E-03  7.76361E-03  6.49429E-03\\n  2.38363E-03  3.21619E-04 -1.14887E-05 -6.62810E-06\\n  1.10549E-06  1.04570E-04  9.80882E-04  3.66490E-03  6.25859E-03  5.05333E-03\\n  1.92509E-03  3.24765E-04  1.64221E-05 -1.35209E-06\\n  2.85532E-06  5.69408E-05  4.34049E-04  1.50254E-03  2.47930E-03  1.98074E-03\\n  7.64017E-04  1.37612E-04  9.96756E-06  4.89205E-10\\n  8.87494E-07  1.42847E-05  1.01288E-04  3.39531E-04  5.51759E-04  4.38532E-04\\n  1.70104E-04  3.15481E-05  2.57918E-06  5.61433E-08\\n -4.82062E-07 -3.72630E-06 -1.52580E-05 -3.34286E-05 -3.96584E-05 -2.60476E-05\\n -9.98080E-06 -2.45197E-06 -4.14493E-07 -4.58889E-08\\n -2.62406E-06 -2.03748E-05 -8.39568E-05 -1.85407E-04 -2.21847E-04 -1.46709E-04\\n -5.62784E-05 -1.37110E-05 -2.28537E-06 -2.50269E-07\\n -8.97282E-06 -6.95197E-05 -2.85619E-04 -6.28531E-04 -7.49241E-04 -4.94055E-04\\n -1.89496E-04 -4.63521E-05 -7.77523E-06 -8.55556E-07\\n -1.91336E-05 -1.46203E-04 -5.89067E-04 -1.26548E-03 -1.46777E-03 -9.46280E-04\\n -3.61976E-04 -9.10815E-05 -1.59769E-05 -1.81695E-06\\n -2.51714E-05 -1.85776E-04 -7.10526E-04 -1.42273E-03 -1.51079E-03 -8.98292E-04\\n -3.39940E-04 -9.46570E-05 -1.90535E-05 -2.36473E-06\\n -2.00855E-05 -1.37409E-04 -4.60094E-04 -7.28382E-04 -5.04685E-04 -1.43507E-04\\n -4.59396E-05 -3.38860E-05 -1.19462E-05 -1.84375E-06\\n -9.42836E-06 -5.40151E-05 -1.12481E-04  5.22692E-05  4.42077E-04  4.88089E-04\\n  1.96806E-04  2.44712E-05 -2.44658E-06 -8.23187E-07\\n -2.42951E-06 -7.51750E-06  3.41488E-05  2.53456E-04  5.27869E-04  4.64951E-04\\n  1.84099E-04  3.09745E-05  1.30170E-06 -1.86151E-07\\n -2.68402E-07  1.86104E-06  3.03174E-05  1.28888E-04  2.32373E-04  1.94013E-04\\n  7.64404E-05  1.37986E-05  9.56729E-07 -9.61363E-09\\n  1.27984E-08  9.19434E-07  8.49744E-06  3.16447E-05  5.41200E-05  4.41848E-05\\n  1.73715E-05  3.22941E-06  2.58946E-07  4.56498E-09\\n -5.92988E-08 -4.42857E-07 -1.72251E-06 -3.51436E-06 -3.80339E-06 -2.23359E-06\\n -7.51956E-07 -1.62203E-07 -2.50176E-08 -2.66268E-09\\n -3.21520E-07 -2.40602E-06 -9.38734E-06 -1.92378E-05 -2.09398E-05 -1.23737E-05\\n -4.18270E-06 -8.99938E-07 -1.37504E-07 -1.45057E-08\\n -1.10167E-06 -8.23629E-06 -3.20891E-05 -6.56310E-05 -7.12599E-05 -4.20001E-05\\n -1.41754E-05 -3.05402E-06 -4.68567E-07 -4.96172E-08\\n -2.37853E-06 -1.76751E-05 -6.82252E-05 -1.37689E-04 -1.46932E-04 -8.49896E-05\\n -2.83410E-05 -6.15894E-06 -9.72750E-07 -1.05746E-07\\n -3.22299E-06 -2.36092E-05 -8.90830E-05 -1.73784E-04 -1.77000E-04 -9.69713E-05\\n -3.11539E-05 -6.95140E-06 -1.19306E-06 -1.38826E-07\\n -2.72642E-06 -1.94247E-05 -6.99621E-05 -1.26488E-04 -1.14260E-04 -5.28178E-05\\n -1.47076E-05 -3.63916E-06 -8.08044E-07 -1.10237E-07\\n -1.42939E-06 -9.68409E-06 -3.17484E-05 -4.75572E-05 -2.74765E-05 -9.77344E-07\\n  2.94191E-06  1.42740E-07 -2.39453E-07 -5.11950E-08\\n -4.59603E-07 -2.84052E-06 -7.51184E-06 -5.03329E-06  8.90198E-06  1.42995E-05\\n  6.77443E-06  1.16809E-06  2.38268E-08 -1.28460E-08\\n -8.91455E-08 -4.58840E-07 -5.48077E-07  2.48187E-06  7.70639E-06  7.70089E-06\\n  3.27936E-06  6.05016E-07  3.86281E-08 -1.27166E-09\\n -1.01205E-08 -3.24349E-08  1.31750E-07  1.01978E-06  2.15114E-06  1.92596E-06\\n  7.91818E-07  1.49474E-07  1.16456E-08  1.16163E-10\\n\",\"cube\");\n\tviewer_1675416104611149.setStyle({\"stick\": {}});\n\tviewer_1675416104611149.zoomTo();\nviewer_1675416104611149.render();\n});\n</script>",
            "text/html": [
              "<div id=\"3dmolviewer_1675416104611149\"  style=\"position: relative; width: 640px; height: 480px\">\n",
              "        <p id=\"3dmolwarning_1675416104611149\" style=\"background-color:#ffcccc;color:black\">You appear to be running in JupyterLab (or JavaScript failed to load for some other reason).  You need to install the 3dmol extension: <br>\n",
              "        <tt>jupyter labextension install jupyterlab_3dmol</tt></p>\n",
              "        </div>\n",
              "<script>\n",
              "\n",
              "var loadScriptAsync = function(uri){\n",
              "  return new Promise((resolve, reject) => {\n",
              "    //this is to ignore the existence of requirejs amd\n",
              "    var savedexports, savedmodule;\n",
              "    if (typeof exports !== 'undefined') savedexports = exports;\n",
              "    else exports = {}\n",
              "    if (typeof module !== 'undefined') savedmodule = module;\n",
              "    else module = {}\n",
              "\n",
              "    var tag = document.createElement('script');\n",
              "    tag.src = uri;\n",
              "    tag.async = true;\n",
              "    tag.onload = () => {\n",
              "        exports = savedexports;\n",
              "        module = savedmodule;\n",
              "        resolve();\n",
              "    };\n",
              "  var firstScriptTag = document.getElementsByTagName('script')[0];\n",
              "  firstScriptTag.parentNode.insertBefore(tag, firstScriptTag);\n",
              "});\n",
              "};\n",
              "\n",
              "if(typeof $3Dmolpromise === 'undefined') {\n",
              "$3Dmolpromise = null;\n",
              "  $3Dmolpromise = loadScriptAsync('https://cdn.jsdelivr.net/npm/3dmol@latest/build/3Dmol-min.min.js');\n",
              "}\n",
              "\n",
              "var viewer_1675416104611149 = null;\n",
              "var warn = document.getElementById(\"3dmolwarning_1675416104611149\");\n",
              "if(warn) {\n",
              "    warn.parentNode.removeChild(warn);\n",
              "}\n",
              "$3Dmolpromise.then(function() {\n",
              "viewer_1675416104611149 = $3Dmol.createViewer(document.getElementById(\"3dmolviewer_1675416104611149\"),{backgroundColor:\"white\"});\n",
              "viewer_1675416104611149.zoomTo();\n",
              "\tviewer_1675416104611149.addVolumetricData(\"Orbital value in real space (1/Bohr^3)\\nPySCF Version: 2.1.1  Date: Fri Feb  3 09:21:42 2023\\n    4   -5.000000   -5.000000   -5.000000\\n   10    1.489056    0.000000    0.000000\\n   10    0.000000    1.187475    0.000000\\n   10    0.000000    0.000000    1.438421\\n    1    0.000000    0.000000    0.000000    0.000000\\n    1    0.000000    3.401507    0.000000    0.000000\\n    1    0.000000    1.700754    0.000000    2.945791\\n    6    0.000000    1.698598    0.687276    0.981532\\n -5.07225E-08 -3.80288E-07 -1.48814E-06 -3.06350E-06 -3.35773E-06 -2.00712E-06\\n -6.92753E-07 -1.54237E-07 -2.44655E-08 -2.64297E-09\\n -2.75084E-07 -2.06689E-06 -8.11495E-06 -1.67836E-05 -1.85041E-05 -1.11288E-05\\n -3.85458E-06 -8.55305E-07 -1.34368E-07 -1.43918E-08\\n -9.42006E-07 -7.06835E-06 -2.76956E-05 -5.71217E-05 -6.27627E-05 -3.76181E-05\\n -1.30064E-05 -2.89245E-06 -4.56989E-07 -4.91872E-08\\n -2.02980E-06 -1.51180E-05 -5.85684E-05 -1.18873E-04 -1.27973E-04 -7.50878E-05\\n -2.56542E-05 -5.77960E-06 -9.44870E-07 -1.04680E-07\\n -2.73899E-06 -2.00481E-05 -7.55603E-05 -1.47211E-04 -1.49895E-04 -8.25729E-05\\n -2.71605E-05 -6.37245E-06 -1.14923E-06 -1.37097E-07\\n -2.29944E-06 -1.62684E-05 -5.78871E-05 -1.02492E-04 -8.93895E-05 -3.93224E-05\\n -1.08648E-05 -3.06496E-06 -7.63149E-07 -1.08410E-07\\n -1.18988E-06 -7.90268E-06 -2.48676E-05 -3.36885E-05 -1.28177E-05  7.17857E-06\\n  5.33372E-06  5.11686E-07 -2.09677E-07 -4.99470E-08\\n -3.74149E-07 -2.20005E-06 -5.00856E-06  9.90821E-08  1.44513E-05  1.74737E-05\\n  7.73438E-06  1.32087E-06  3.65241E-08 -1.23000E-08\\n -6.97515E-08 -3.12132E-07  3.34097E-08  3.69756E-06  9.05400E-06  8.49426E-06\\n  3.52666E-06  6.45529E-07  4.20823E-08 -1.11992E-09\\n -7.32075E-09 -1.10270E-08  2.17952E-07  1.20388E-06  2.36058E-06  2.05282E-06\\n  8.32489E-07  1.56309E-07  1.22409E-08  1.42768E-10\\n -4.15923E-07 -3.24324E-06 -1.34453E-05 -2.99313E-05 -3.61863E-05 -2.42719E-05\\n -9.51248E-06 -2.38821E-06 -4.10007E-07 -4.57259E-08\\n -2.26547E-06 -1.77503E-05 -7.40752E-05 -1.66243E-04 -2.02671E-04 -1.36791E-04\\n -5.36222E-05 -1.33421E-05 -2.25877E-06 -2.49274E-07\\n -7.73719E-06 -6.04472E-05 -2.51282E-04 -5.61392E-04 -6.81262E-04 -4.58314E-04\\n -1.79712E-04 -4.49556E-05 -7.67131E-06 -8.51533E-07\\n -1.64262E-05 -1.26230E-04 -5.12880E-04 -1.11461E-03 -1.31247E-03 -8.62849E-04\\n -3.38479E-04 -8.76133E-05 -1.57092E-05 -1.80619E-06\\n -2.13968E-05 -1.57741E-04 -6.02423E-04 -1.20488E-03 -1.28163E-03 -7.71850E-04\\n -3.03111E-04 -8.90145E-05 -1.86011E-05 -2.34589E-06\\n -1.67349E-05 -1.12298E-04 -3.61926E-04 -5.26760E-04 -2.86796E-04 -1.91348E-05\\n -8.35003E-06 -2.79058E-05 -1.14494E-05 -1.82239E-06\\n -7.53359E-06 -3.96499E-05 -5.53516E-05  1.72286E-04  5.75857E-04  5.67319E-04\\n  2.21657E-04  2.85660E-05 -2.09573E-06 -8.07713E-07\\n -1.74663E-06 -2.26619E-06  5.54681E-05  2.99478E-04  5.80890E-04  4.97496E-04\\n  1.94665E-04  3.27696E-05  1.45945E-06 -1.79053E-07\\n -1.11523E-07  3.08765E-06  3.54148E-05  1.40221E-04  2.45871E-04  2.02581E-04\\n  7.93076E-05  1.42983E-05  1.00153E-06 -7.56722E-09\\n  3.57664E-08  1.10239E-06  9.27704E-06  3.34308E-05  5.63160E-05  4.56211E-05\\n  1.78646E-05  3.31712E-06  2.66932E-07  4.93396E-09\\n -1.80706E-06 -1.51711E-05 -6.91566E-05 -1.71573E-04 -2.31700E-04 -1.72266E-04\\n -7.36660E-05 -1.96680E-05 -3.47817E-06 -3.91007E-07\\n -9.92825E-06 -8.40655E-05 -3.87027E-04 -9.69676E-04 -1.31959E-03 -9.84274E-04\\n -4.19127E-04 -1.10426E-04 -1.92047E-05 -2.13352E-06\\n -3.37335E-05 -2.84232E-04 -1.30222E-03 -3.25550E-03 -4.40901E-03 -3.27661E-03\\n -1.39872E-03 -3.71300E-04 -6.51671E-05 -7.28574E-06\\n -6.95118E-05 -5.68489E-04 -2.53165E-03 -6.31188E-03 -8.23314E-03 -5.89200E-03\\n -2.55122E-03 -7.12165E-04 -1.32570E-04 -1.54145E-05\\n -8.38425E-05 -6.29093E-04 -2.54258E-03 -6.14304E-03 -6.93576E-03 -4.23942E-03\\n -1.98033E-03 -6.82936E-04 -1.53995E-04 -1.98910E-05\\n -5.44691E-05 -3.06891E-04 -6.45061E-04 -1.14283E-04  2.16400E-03  2.54517E-03\\n  6.88885E-04 -1.27017E-04 -8.93013E-05 -1.52347E-05\\n -1.35848E-05  4.41801E-05  1.03427E-03  4.57478E-03  8.39980E-03  6.89055E-03\\n  2.51483E-03  3.44380E-04 -9.45385E-06 -6.53535E-06\\n  3.79797E-06  1.26044E-04  1.07254E-03  3.87548E-03  6.51825E-03  5.22328E-03\\n  1.98347E-03  3.35156E-04  1.73689E-05 -1.30833E-06\\n  3.48481E-06  6.20900E-05  4.56747E-04  1.55657E-03  2.54827E-03  2.02737E-03\\n  7.80464E-04  1.40597E-04  1.02434E-05  1.33695E-08\\n  9.81482E-07  1.50746E-05  1.04886E-04  3.48391E-04  5.63432E-04  4.46633E-04\\n  1.73019E-04  3.20849E-05  2.62930E-06  5.85005E-08\\n -4.48583E-06 -4.16329E-05 -2.11157E-04 -5.78447E-04 -8.48194E-04 -6.71459E-04\\n -2.99830E-04 -8.19628E-05 -1.45971E-05 -1.63989E-06\\n -2.49635E-05 -2.34270E-04 -1.20074E-03 -3.31755E-03 -4.88862E-03 -3.86905E-03\\n -1.71496E-03 -4.61546E-04 -8.07187E-05 -8.95391E-06\\n -8.42048E-05 -7.85471E-04 -4.01459E-03 -1.11842E-02 -1.64676E-02 -1.29106E-02\\n -5.72321E-03 -1.55114E-03 -2.73792E-04 -3.05711E-05\\n -1.65872E-04 -1.48737E-03 -7.53322E-03 -2.31581E-02 -3.38878E-02 -2.40142E-02\\n -1.04793E-02 -2.96192E-03 -5.54832E-04 -6.45707E-05\\n -1.74927E-04 -1.36128E-03 -6.48929E-03 -2.70587E-02 -3.56774E-02 -1.80859E-02\\n -8.07115E-03 -2.78241E-03 -6.36981E-04 -8.29586E-05\\n -6.86133E-05 -1.03331E-04  1.59022E-03  6.40542E-03  2.35000E-02  1.93478E-02\\n  4.23836E-03 -3.24276E-04 -3.54882E-04 -6.29185E-05\\n  3.62884E-05  9.00538E-04  7.25349E-03  2.72409E-02  5.18177E-02  3.77097E-02\\n  1.21324E-02  1.68150E-03 -1.81853E-05 -2.63617E-05\\n  5.10977E-05  8.10013E-04  5.70996E-03  1.93017E-02  3.19788E-02  2.47255E-02\\n  9.12647E-03  1.54587E-03  8.58412E-05 -4.85620E-06\\n  2.31842E-05  3.32316E-04  2.24261E-03  7.33758E-03  1.17703E-02  9.24696E-03\\n  3.53709E-03  6.38249E-04  4.75389E-05  2.77796E-07\\n  5.46219E-06  7.50881E-05  4.96864E-04  1.60881E-03  2.56623E-03  2.01895E-03\\n  7.79391E-04  1.44652E-04  1.19866E-05  2.91755E-07\\n -6.97261E-06 -6.97186E-05 -3.77962E-04 -1.09120E-03 -1.66178E-03 -1.34945E-03\\n -6.11841E-04 -1.68316E-04 -2.99764E-05 -3.36111E-06\\n -3.92105E-05 -3.96485E-04 -2.16930E-03 -6.30571E-03 -9.63950E-03 -7.81045E-03\\n -3.50911E-03 -9.49287E-04 -1.65899E-04 -1.83589E-05\\n -1.31543E-04 -1.32244E-03 -7.21845E-03 -2.13247E-02 -3.35319E-02 -2.67271E-02\\n -1.18524E-02 -3.19900E-03 -5.62742E-04 -6.26806E-05\\n -2.49721E-04 -2.41006E-03 -1.30169E-02 -4.54158E-02 -8.90699E-02 -6.25653E-02\\n -2.45322E-02 -6.27233E-03 -1.13947E-03 -1.32292E-04\\n -2.30832E-04 -1.86610E-03 -9.19068E-03 -4.74160E-02 -1.56231E-01 -7.85542E-02\\n -2.78681E-02 -6.34949E-03 -1.30386E-03 -1.69614E-04\\n -2.38242E-05  6.60882E-04  7.72331E-03  4.77805E-02  1.75336E-01  7.75331E-02\\n  5.91374E-03 -8.93502E-04 -7.13146E-04 -1.28030E-04\\n  1.43693E-04  2.38594E-03  1.76509E-02  8.25526E-02  2.10268E-01  1.23067E-01\\n  2.75602E-02  3.62552E-03 -1.78933E-05 -5.30109E-05\\n  1.31453E-04  1.87945E-03  1.27340E-02  4.44587E-02  7.98430E-02  5.78961E-02\\n  1.96598E-02  3.29911E-03  1.88284E-04 -9.33129E-06\\n  5.42002E-05  7.39141E-04  4.87190E-03  1.57953E-02  2.53236E-02  1.97433E-02\\n  7.50300E-03  1.35463E-03  1.01880E-04  7.89652E-07\\n  1.22742E-05  1.63808E-04  1.06796E-03  3.43087E-03  5.44938E-03  4.27669E-03\\n  1.64918E-03  3.06296E-04  2.55111E-05  6.44327E-07\\n -7.20776E-06 -7.14460E-05 -3.84505E-04 -1.10401E-03 -1.67477E-03 -1.35630E-03\\n -6.13720E-04 -1.68586E-04 -2.99965E-05 -3.36189E-06\\n -4.04943E-05 -4.05984E-04 -2.20570E-03 -6.37829E-03 -9.71493E-03 -7.85150E-03\\n -3.52085E-03 -9.51049E-04 -1.66038E-04 -1.83646E-05\\n -1.36015E-04 -1.35589E-03 -7.34988E-03 -2.16053E-02 -3.38327E-02 -2.68912E-02\\n -1.19012E-02 -3.20671E-03 -5.63378E-04 -6.27078E-05\\n -2.59675E-04 -2.48583E-03 -1.33427E-02 -4.63899E-02 -9.01473E-02 -6.30404E-02\\n -2.46691E-02 -6.29457E-03 -1.14138E-03 -1.32377E-04\\n -2.45019E-04 -1.97666E-03 -9.73599E-03 -4.99476E-02 -1.59638E-01 -7.96773E-02\\n -2.81366E-02 -6.39119E-03 -1.30756E-03 -1.69782E-04\\n -3.67902E-05  5.57272E-04  7.21419E-03  4.51308E-02  1.66937E-01  7.52885E-02\\n  5.57120E-03 -9.43423E-04 -7.17658E-04 -1.28238E-04\\n  1.36088E-04  2.32339E-03  1.73611E-02  8.14350E-02  2.07468E-01  1.21809E-01\\n  2.73251E-02  3.58803E-03 -2.13504E-05 -5.31726E-05\\n  1.28589E-04  1.85509E-03  1.26207E-02  4.41473E-02  7.93336E-02  5.75756E-02\\n  1.95619E-02  3.28147E-03  1.86632E-04 -9.40915E-06\\n  5.35091E-05  7.33044E-04  4.84259E-03  1.57188E-02  2.52168E-02  1.96672E-02\\n  7.47526E-03  1.34944E-03  1.01389E-04  7.66404E-07\\n  1.21674E-05  1.62832E-04  1.06309E-03  3.41784E-03  5.43098E-03  4.26323E-03\\n  1.64416E-03  3.05346E-04  2.54208E-05  6.40029E-07\\n -4.91099E-06 -4.47507E-05 -2.22934E-04 -6.01401E-04 -8.71330E-04 -6.83549E-04\\n -3.03112E-04 -8.24266E-05 -1.46312E-05 -1.64119E-06\\n -2.72800E-05 -2.51355E-04 -1.26587E-03 -3.44641E-03 -5.02113E-03 -3.94014E-03\\n -1.73494E-03 -4.64490E-04 -8.09454E-05 -8.96300E-06\\n -9.22476E-05 -8.45317E-04 -4.24748E-03 -1.16726E-02 -1.69821E-02 -1.31870E-02\\n -5.80392E-03 -1.56360E-03 -2.74798E-04 -3.06133E-05\\n -1.83694E-04 -1.62183E-03 -8.09853E-03 -2.47437E-02 -3.55738E-02 -2.47582E-02\\n -1.06956E-02 -2.99678E-03 -5.57772E-04 -6.46988E-05\\n -2.00166E-04 -1.55541E-03 -7.40353E-03 -3.08186E-02 -3.97869E-02 -1.95194E-02\\n -8.45664E-03 -2.84597E-03 -6.42533E-04 -8.32073E-05\\n -9.14889E-05 -2.82970E-04  7.61242E-04  3.47093E-03  1.96092E-02  1.76395E-02\\n  3.79366E-03 -3.98721E-04 -3.61559E-04 -6.32240E-05\\n  2.30061E-05  7.93639E-04  6.78271E-03  2.59785E-02  4.99845E-02  3.66441E-02\\n  1.18163E-02  1.62623E-03 -2.32449E-05 -2.65965E-05\\n  4.61557E-05  7.69034E-04  5.52603E-03  1.88479E-02  3.13669E-02  2.43146E-02\\n  8.98466E-03  1.52006E-03  8.34430E-05 -4.96862E-06\\n  2.20065E-05  3.22229E-04  2.19565E-03  7.21930E-03  1.16111E-02  9.13497E-03\\n  3.49643E-03  6.30706E-04  4.68308E-05  2.44372E-07\\n  5.28270E-06  7.34988E-05  4.89196E-04  1.58885E-03  2.53867E-03  1.99912E-03\\n  7.72068E-04  1.43279E-04  1.18567E-05  2.85594E-07\\n -2.05401E-06 -1.69780E-05 -7.59570E-05 -1.84753E-04 -2.44875E-04 -1.79070E-04\\n -7.54848E-05 -1.99200E-05 -3.49629E-06 -3.91682E-07\\n -1.12701E-05 -9.39198E-05 -4.24337E-04 -1.04267E-03 -1.39355E-03 -1.02320E-03\\n -4.29797E-04 -1.11951E-04 -1.93184E-05 -2.13793E-06\\n -3.83729E-05 -3.18499E-04 -1.43328E-03 -3.51708E-03 -4.67920E-03 -3.42183E-03\\n -1.43986E-03 -3.77415E-04 -6.56426E-05 -7.30499E-06\\n -7.97285E-05 -6.44601E-04 -2.82938E-03 -6.94963E-03 -8.90534E-03 -6.24851E-03\\n -2.65559E-03 -7.28361E-04 -1.33885E-04 -1.54699E-05\\n -9.81879E-05 -7.37245E-04 -2.97993E-03 -7.17902E-03 -8.05240E-03 -4.81510E-03\\n -2.15407E-03 -7.11046E-04 -1.56368E-04 -1.99944E-05\\n -6.73251E-05 -4.05284E-04 -1.04827E-03 -1.05425E-03  1.10272E-03  1.94882E-03\\n  5.00686E-04 -1.58628E-04 -9.20569E-05 -1.53579E-05\\n -2.09443E-05 -1.32107E-05  7.95988E-04  4.03911E-03  7.76361E-03  6.49429E-03\\n  2.38363E-03  3.21619E-04 -1.14887E-05 -6.62810E-06\\n  1.10549E-06  1.04570E-04  9.80882E-04  3.66490E-03  6.25859E-03  5.05333E-03\\n  1.92509E-03  3.24765E-04  1.64221E-05 -1.35209E-06\\n  2.85532E-06  5.69408E-05  4.34049E-04  1.50254E-03  2.47930E-03  1.98074E-03\\n  7.64017E-04  1.37612E-04  9.96756E-06  4.89205E-10\\n  8.87494E-07  1.42847E-05  1.01288E-04  3.39531E-04  5.51759E-04  4.38532E-04\\n  1.70104E-04  3.15481E-05  2.57918E-06  5.61433E-08\\n -4.82062E-07 -3.72630E-06 -1.52580E-05 -3.34286E-05 -3.96584E-05 -2.60476E-05\\n -9.98080E-06 -2.45197E-06 -4.14493E-07 -4.58889E-08\\n -2.62406E-06 -2.03748E-05 -8.39568E-05 -1.85407E-04 -2.21847E-04 -1.46709E-04\\n -5.62784E-05 -1.37110E-05 -2.28537E-06 -2.50269E-07\\n -8.97282E-06 -6.95197E-05 -2.85619E-04 -6.28531E-04 -7.49241E-04 -4.94055E-04\\n -1.89496E-04 -4.63521E-05 -7.77523E-06 -8.55556E-07\\n -1.91336E-05 -1.46203E-04 -5.89067E-04 -1.26548E-03 -1.46777E-03 -9.46280E-04\\n -3.61976E-04 -9.10815E-05 -1.59769E-05 -1.81695E-06\\n -2.51714E-05 -1.85776E-04 -7.10526E-04 -1.42273E-03 -1.51079E-03 -8.98292E-04\\n -3.39940E-04 -9.46570E-05 -1.90535E-05 -2.36473E-06\\n -2.00855E-05 -1.37409E-04 -4.60094E-04 -7.28382E-04 -5.04685E-04 -1.43507E-04\\n -4.59396E-05 -3.38860E-05 -1.19462E-05 -1.84375E-06\\n -9.42836E-06 -5.40151E-05 -1.12481E-04  5.22692E-05  4.42077E-04  4.88089E-04\\n  1.96806E-04  2.44712E-05 -2.44658E-06 -8.23187E-07\\n -2.42951E-06 -7.51750E-06  3.41488E-05  2.53456E-04  5.27869E-04  4.64951E-04\\n  1.84099E-04  3.09745E-05  1.30170E-06 -1.86151E-07\\n -2.68402E-07  1.86104E-06  3.03174E-05  1.28888E-04  2.32373E-04  1.94013E-04\\n  7.64404E-05  1.37986E-05  9.56729E-07 -9.61363E-09\\n  1.27984E-08  9.19434E-07  8.49744E-06  3.16447E-05  5.41200E-05  4.41848E-05\\n  1.73715E-05  3.22941E-06  2.58946E-07  4.56498E-09\\n -5.92988E-08 -4.42857E-07 -1.72251E-06 -3.51436E-06 -3.80339E-06 -2.23359E-06\\n -7.51956E-07 -1.62203E-07 -2.50176E-08 -2.66268E-09\\n -3.21520E-07 -2.40602E-06 -9.38734E-06 -1.92378E-05 -2.09398E-05 -1.23737E-05\\n -4.18270E-06 -8.99938E-07 -1.37504E-07 -1.45057E-08\\n -1.10167E-06 -8.23629E-06 -3.20891E-05 -6.56310E-05 -7.12599E-05 -4.20001E-05\\n -1.41754E-05 -3.05402E-06 -4.68567E-07 -4.96172E-08\\n -2.37853E-06 -1.76751E-05 -6.82252E-05 -1.37689E-04 -1.46932E-04 -8.49896E-05\\n -2.83410E-05 -6.15894E-06 -9.72750E-07 -1.05746E-07\\n -3.22299E-06 -2.36092E-05 -8.90830E-05 -1.73784E-04 -1.77000E-04 -9.69713E-05\\n -3.11539E-05 -6.95140E-06 -1.19306E-06 -1.38826E-07\\n -2.72642E-06 -1.94247E-05 -6.99621E-05 -1.26488E-04 -1.14260E-04 -5.28178E-05\\n -1.47076E-05 -3.63916E-06 -8.08044E-07 -1.10237E-07\\n -1.42939E-06 -9.68409E-06 -3.17484E-05 -4.75572E-05 -2.74765E-05 -9.77344E-07\\n  2.94191E-06  1.42740E-07 -2.39453E-07 -5.11950E-08\\n -4.59603E-07 -2.84052E-06 -7.51184E-06 -5.03329E-06  8.90198E-06  1.42995E-05\\n  6.77443E-06  1.16809E-06  2.38268E-08 -1.28460E-08\\n -8.91455E-08 -4.58840E-07 -5.48077E-07  2.48187E-06  7.70639E-06  7.70089E-06\\n  3.27936E-06  6.05016E-07  3.86281E-08 -1.27166E-09\\n -1.01205E-08 -3.24349E-08  1.31750E-07  1.01978E-06  2.15114E-06  1.92596E-06\\n  7.91818E-07  1.49474E-07  1.16456E-08  1.16163E-10\\n\",\"cube\",{\"isoval\": 1.0, \"volformat\": \"cube\"});\n",
              "\tviewer_1675416104611149.addModel(\"Orbital value in real space (1/Bohr^3)\\nPySCF Version: 2.1.1  Date: Fri Feb  3 09:21:42 2023\\n    4   -5.000000   -5.000000   -5.000000\\n   10    1.489056    0.000000    0.000000\\n   10    0.000000    1.187475    0.000000\\n   10    0.000000    0.000000    1.438421\\n    1    0.000000    0.000000    0.000000    0.000000\\n    1    0.000000    3.401507    0.000000    0.000000\\n    1    0.000000    1.700754    0.000000    2.945791\\n    6    0.000000    1.698598    0.687276    0.981532\\n -5.07225E-08 -3.80288E-07 -1.48814E-06 -3.06350E-06 -3.35773E-06 -2.00712E-06\\n -6.92753E-07 -1.54237E-07 -2.44655E-08 -2.64297E-09\\n -2.75084E-07 -2.06689E-06 -8.11495E-06 -1.67836E-05 -1.85041E-05 -1.11288E-05\\n -3.85458E-06 -8.55305E-07 -1.34368E-07 -1.43918E-08\\n -9.42006E-07 -7.06835E-06 -2.76956E-05 -5.71217E-05 -6.27627E-05 -3.76181E-05\\n -1.30064E-05 -2.89245E-06 -4.56989E-07 -4.91872E-08\\n -2.02980E-06 -1.51180E-05 -5.85684E-05 -1.18873E-04 -1.27973E-04 -7.50878E-05\\n -2.56542E-05 -5.77960E-06 -9.44870E-07 -1.04680E-07\\n -2.73899E-06 -2.00481E-05 -7.55603E-05 -1.47211E-04 -1.49895E-04 -8.25729E-05\\n -2.71605E-05 -6.37245E-06 -1.14923E-06 -1.37097E-07\\n -2.29944E-06 -1.62684E-05 -5.78871E-05 -1.02492E-04 -8.93895E-05 -3.93224E-05\\n -1.08648E-05 -3.06496E-06 -7.63149E-07 -1.08410E-07\\n -1.18988E-06 -7.90268E-06 -2.48676E-05 -3.36885E-05 -1.28177E-05  7.17857E-06\\n  5.33372E-06  5.11686E-07 -2.09677E-07 -4.99470E-08\\n -3.74149E-07 -2.20005E-06 -5.00856E-06  9.90821E-08  1.44513E-05  1.74737E-05\\n  7.73438E-06  1.32087E-06  3.65241E-08 -1.23000E-08\\n -6.97515E-08 -3.12132E-07  3.34097E-08  3.69756E-06  9.05400E-06  8.49426E-06\\n  3.52666E-06  6.45529E-07  4.20823E-08 -1.11992E-09\\n -7.32075E-09 -1.10270E-08  2.17952E-07  1.20388E-06  2.36058E-06  2.05282E-06\\n  8.32489E-07  1.56309E-07  1.22409E-08  1.42768E-10\\n -4.15923E-07 -3.24324E-06 -1.34453E-05 -2.99313E-05 -3.61863E-05 -2.42719E-05\\n -9.51248E-06 -2.38821E-06 -4.10007E-07 -4.57259E-08\\n -2.26547E-06 -1.77503E-05 -7.40752E-05 -1.66243E-04 -2.02671E-04 -1.36791E-04\\n -5.36222E-05 -1.33421E-05 -2.25877E-06 -2.49274E-07\\n -7.73719E-06 -6.04472E-05 -2.51282E-04 -5.61392E-04 -6.81262E-04 -4.58314E-04\\n -1.79712E-04 -4.49556E-05 -7.67131E-06 -8.51533E-07\\n -1.64262E-05 -1.26230E-04 -5.12880E-04 -1.11461E-03 -1.31247E-03 -8.62849E-04\\n -3.38479E-04 -8.76133E-05 -1.57092E-05 -1.80619E-06\\n -2.13968E-05 -1.57741E-04 -6.02423E-04 -1.20488E-03 -1.28163E-03 -7.71850E-04\\n -3.03111E-04 -8.90145E-05 -1.86011E-05 -2.34589E-06\\n -1.67349E-05 -1.12298E-04 -3.61926E-04 -5.26760E-04 -2.86796E-04 -1.91348E-05\\n -8.35003E-06 -2.79058E-05 -1.14494E-05 -1.82239E-06\\n -7.53359E-06 -3.96499E-05 -5.53516E-05  1.72286E-04  5.75857E-04  5.67319E-04\\n  2.21657E-04  2.85660E-05 -2.09573E-06 -8.07713E-07\\n -1.74663E-06 -2.26619E-06  5.54681E-05  2.99478E-04  5.80890E-04  4.97496E-04\\n  1.94665E-04  3.27696E-05  1.45945E-06 -1.79053E-07\\n -1.11523E-07  3.08765E-06  3.54148E-05  1.40221E-04  2.45871E-04  2.02581E-04\\n  7.93076E-05  1.42983E-05  1.00153E-06 -7.56722E-09\\n  3.57664E-08  1.10239E-06  9.27704E-06  3.34308E-05  5.63160E-05  4.56211E-05\\n  1.78646E-05  3.31712E-06  2.66932E-07  4.93396E-09\\n -1.80706E-06 -1.51711E-05 -6.91566E-05 -1.71573E-04 -2.31700E-04 -1.72266E-04\\n -7.36660E-05 -1.96680E-05 -3.47817E-06 -3.91007E-07\\n -9.92825E-06 -8.40655E-05 -3.87027E-04 -9.69676E-04 -1.31959E-03 -9.84274E-04\\n -4.19127E-04 -1.10426E-04 -1.92047E-05 -2.13352E-06\\n -3.37335E-05 -2.84232E-04 -1.30222E-03 -3.25550E-03 -4.40901E-03 -3.27661E-03\\n -1.39872E-03 -3.71300E-04 -6.51671E-05 -7.28574E-06\\n -6.95118E-05 -5.68489E-04 -2.53165E-03 -6.31188E-03 -8.23314E-03 -5.89200E-03\\n -2.55122E-03 -7.12165E-04 -1.32570E-04 -1.54145E-05\\n -8.38425E-05 -6.29093E-04 -2.54258E-03 -6.14304E-03 -6.93576E-03 -4.23942E-03\\n -1.98033E-03 -6.82936E-04 -1.53995E-04 -1.98910E-05\\n -5.44691E-05 -3.06891E-04 -6.45061E-04 -1.14283E-04  2.16400E-03  2.54517E-03\\n  6.88885E-04 -1.27017E-04 -8.93013E-05 -1.52347E-05\\n -1.35848E-05  4.41801E-05  1.03427E-03  4.57478E-03  8.39980E-03  6.89055E-03\\n  2.51483E-03  3.44380E-04 -9.45385E-06 -6.53535E-06\\n  3.79797E-06  1.26044E-04  1.07254E-03  3.87548E-03  6.51825E-03  5.22328E-03\\n  1.98347E-03  3.35156E-04  1.73689E-05 -1.30833E-06\\n  3.48481E-06  6.20900E-05  4.56747E-04  1.55657E-03  2.54827E-03  2.02737E-03\\n  7.80464E-04  1.40597E-04  1.02434E-05  1.33695E-08\\n  9.81482E-07  1.50746E-05  1.04886E-04  3.48391E-04  5.63432E-04  4.46633E-04\\n  1.73019E-04  3.20849E-05  2.62930E-06  5.85005E-08\\n -4.48583E-06 -4.16329E-05 -2.11157E-04 -5.78447E-04 -8.48194E-04 -6.71459E-04\\n -2.99830E-04 -8.19628E-05 -1.45971E-05 -1.63989E-06\\n -2.49635E-05 -2.34270E-04 -1.20074E-03 -3.31755E-03 -4.88862E-03 -3.86905E-03\\n -1.71496E-03 -4.61546E-04 -8.07187E-05 -8.95391E-06\\n -8.42048E-05 -7.85471E-04 -4.01459E-03 -1.11842E-02 -1.64676E-02 -1.29106E-02\\n -5.72321E-03 -1.55114E-03 -2.73792E-04 -3.05711E-05\\n -1.65872E-04 -1.48737E-03 -7.53322E-03 -2.31581E-02 -3.38878E-02 -2.40142E-02\\n -1.04793E-02 -2.96192E-03 -5.54832E-04 -6.45707E-05\\n -1.74927E-04 -1.36128E-03 -6.48929E-03 -2.70587E-02 -3.56774E-02 -1.80859E-02\\n -8.07115E-03 -2.78241E-03 -6.36981E-04 -8.29586E-05\\n -6.86133E-05 -1.03331E-04  1.59022E-03  6.40542E-03  2.35000E-02  1.93478E-02\\n  4.23836E-03 -3.24276E-04 -3.54882E-04 -6.29185E-05\\n  3.62884E-05  9.00538E-04  7.25349E-03  2.72409E-02  5.18177E-02  3.77097E-02\\n  1.21324E-02  1.68150E-03 -1.81853E-05 -2.63617E-05\\n  5.10977E-05  8.10013E-04  5.70996E-03  1.93017E-02  3.19788E-02  2.47255E-02\\n  9.12647E-03  1.54587E-03  8.58412E-05 -4.85620E-06\\n  2.31842E-05  3.32316E-04  2.24261E-03  7.33758E-03  1.17703E-02  9.24696E-03\\n  3.53709E-03  6.38249E-04  4.75389E-05  2.77796E-07\\n  5.46219E-06  7.50881E-05  4.96864E-04  1.60881E-03  2.56623E-03  2.01895E-03\\n  7.79391E-04  1.44652E-04  1.19866E-05  2.91755E-07\\n -6.97261E-06 -6.97186E-05 -3.77962E-04 -1.09120E-03 -1.66178E-03 -1.34945E-03\\n -6.11841E-04 -1.68316E-04 -2.99764E-05 -3.36111E-06\\n -3.92105E-05 -3.96485E-04 -2.16930E-03 -6.30571E-03 -9.63950E-03 -7.81045E-03\\n -3.50911E-03 -9.49287E-04 -1.65899E-04 -1.83589E-05\\n -1.31543E-04 -1.32244E-03 -7.21845E-03 -2.13247E-02 -3.35319E-02 -2.67271E-02\\n -1.18524E-02 -3.19900E-03 -5.62742E-04 -6.26806E-05\\n -2.49721E-04 -2.41006E-03 -1.30169E-02 -4.54158E-02 -8.90699E-02 -6.25653E-02\\n -2.45322E-02 -6.27233E-03 -1.13947E-03 -1.32292E-04\\n -2.30832E-04 -1.86610E-03 -9.19068E-03 -4.74160E-02 -1.56231E-01 -7.85542E-02\\n -2.78681E-02 -6.34949E-03 -1.30386E-03 -1.69614E-04\\n -2.38242E-05  6.60882E-04  7.72331E-03  4.77805E-02  1.75336E-01  7.75331E-02\\n  5.91374E-03 -8.93502E-04 -7.13146E-04 -1.28030E-04\\n  1.43693E-04  2.38594E-03  1.76509E-02  8.25526E-02  2.10268E-01  1.23067E-01\\n  2.75602E-02  3.62552E-03 -1.78933E-05 -5.30109E-05\\n  1.31453E-04  1.87945E-03  1.27340E-02  4.44587E-02  7.98430E-02  5.78961E-02\\n  1.96598E-02  3.29911E-03  1.88284E-04 -9.33129E-06\\n  5.42002E-05  7.39141E-04  4.87190E-03  1.57953E-02  2.53236E-02  1.97433E-02\\n  7.50300E-03  1.35463E-03  1.01880E-04  7.89652E-07\\n  1.22742E-05  1.63808E-04  1.06796E-03  3.43087E-03  5.44938E-03  4.27669E-03\\n  1.64918E-03  3.06296E-04  2.55111E-05  6.44327E-07\\n -7.20776E-06 -7.14460E-05 -3.84505E-04 -1.10401E-03 -1.67477E-03 -1.35630E-03\\n -6.13720E-04 -1.68586E-04 -2.99965E-05 -3.36189E-06\\n -4.04943E-05 -4.05984E-04 -2.20570E-03 -6.37829E-03 -9.71493E-03 -7.85150E-03\\n -3.52085E-03 -9.51049E-04 -1.66038E-04 -1.83646E-05\\n -1.36015E-04 -1.35589E-03 -7.34988E-03 -2.16053E-02 -3.38327E-02 -2.68912E-02\\n -1.19012E-02 -3.20671E-03 -5.63378E-04 -6.27078E-05\\n -2.59675E-04 -2.48583E-03 -1.33427E-02 -4.63899E-02 -9.01473E-02 -6.30404E-02\\n -2.46691E-02 -6.29457E-03 -1.14138E-03 -1.32377E-04\\n -2.45019E-04 -1.97666E-03 -9.73599E-03 -4.99476E-02 -1.59638E-01 -7.96773E-02\\n -2.81366E-02 -6.39119E-03 -1.30756E-03 -1.69782E-04\\n -3.67902E-05  5.57272E-04  7.21419E-03  4.51308E-02  1.66937E-01  7.52885E-02\\n  5.57120E-03 -9.43423E-04 -7.17658E-04 -1.28238E-04\\n  1.36088E-04  2.32339E-03  1.73611E-02  8.14350E-02  2.07468E-01  1.21809E-01\\n  2.73251E-02  3.58803E-03 -2.13504E-05 -5.31726E-05\\n  1.28589E-04  1.85509E-03  1.26207E-02  4.41473E-02  7.93336E-02  5.75756E-02\\n  1.95619E-02  3.28147E-03  1.86632E-04 -9.40915E-06\\n  5.35091E-05  7.33044E-04  4.84259E-03  1.57188E-02  2.52168E-02  1.96672E-02\\n  7.47526E-03  1.34944E-03  1.01389E-04  7.66404E-07\\n  1.21674E-05  1.62832E-04  1.06309E-03  3.41784E-03  5.43098E-03  4.26323E-03\\n  1.64416E-03  3.05346E-04  2.54208E-05  6.40029E-07\\n -4.91099E-06 -4.47507E-05 -2.22934E-04 -6.01401E-04 -8.71330E-04 -6.83549E-04\\n -3.03112E-04 -8.24266E-05 -1.46312E-05 -1.64119E-06\\n -2.72800E-05 -2.51355E-04 -1.26587E-03 -3.44641E-03 -5.02113E-03 -3.94014E-03\\n -1.73494E-03 -4.64490E-04 -8.09454E-05 -8.96300E-06\\n -9.22476E-05 -8.45317E-04 -4.24748E-03 -1.16726E-02 -1.69821E-02 -1.31870E-02\\n -5.80392E-03 -1.56360E-03 -2.74798E-04 -3.06133E-05\\n -1.83694E-04 -1.62183E-03 -8.09853E-03 -2.47437E-02 -3.55738E-02 -2.47582E-02\\n -1.06956E-02 -2.99678E-03 -5.57772E-04 -6.46988E-05\\n -2.00166E-04 -1.55541E-03 -7.40353E-03 -3.08186E-02 -3.97869E-02 -1.95194E-02\\n -8.45664E-03 -2.84597E-03 -6.42533E-04 -8.32073E-05\\n -9.14889E-05 -2.82970E-04  7.61242E-04  3.47093E-03  1.96092E-02  1.76395E-02\\n  3.79366E-03 -3.98721E-04 -3.61559E-04 -6.32240E-05\\n  2.30061E-05  7.93639E-04  6.78271E-03  2.59785E-02  4.99845E-02  3.66441E-02\\n  1.18163E-02  1.62623E-03 -2.32449E-05 -2.65965E-05\\n  4.61557E-05  7.69034E-04  5.52603E-03  1.88479E-02  3.13669E-02  2.43146E-02\\n  8.98466E-03  1.52006E-03  8.34430E-05 -4.96862E-06\\n  2.20065E-05  3.22229E-04  2.19565E-03  7.21930E-03  1.16111E-02  9.13497E-03\\n  3.49643E-03  6.30706E-04  4.68308E-05  2.44372E-07\\n  5.28270E-06  7.34988E-05  4.89196E-04  1.58885E-03  2.53867E-03  1.99912E-03\\n  7.72068E-04  1.43279E-04  1.18567E-05  2.85594E-07\\n -2.05401E-06 -1.69780E-05 -7.59570E-05 -1.84753E-04 -2.44875E-04 -1.79070E-04\\n -7.54848E-05 -1.99200E-05 -3.49629E-06 -3.91682E-07\\n -1.12701E-05 -9.39198E-05 -4.24337E-04 -1.04267E-03 -1.39355E-03 -1.02320E-03\\n -4.29797E-04 -1.11951E-04 -1.93184E-05 -2.13793E-06\\n -3.83729E-05 -3.18499E-04 -1.43328E-03 -3.51708E-03 -4.67920E-03 -3.42183E-03\\n -1.43986E-03 -3.77415E-04 -6.56426E-05 -7.30499E-06\\n -7.97285E-05 -6.44601E-04 -2.82938E-03 -6.94963E-03 -8.90534E-03 -6.24851E-03\\n -2.65559E-03 -7.28361E-04 -1.33885E-04 -1.54699E-05\\n -9.81879E-05 -7.37245E-04 -2.97993E-03 -7.17902E-03 -8.05240E-03 -4.81510E-03\\n -2.15407E-03 -7.11046E-04 -1.56368E-04 -1.99944E-05\\n -6.73251E-05 -4.05284E-04 -1.04827E-03 -1.05425E-03  1.10272E-03  1.94882E-03\\n  5.00686E-04 -1.58628E-04 -9.20569E-05 -1.53579E-05\\n -2.09443E-05 -1.32107E-05  7.95988E-04  4.03911E-03  7.76361E-03  6.49429E-03\\n  2.38363E-03  3.21619E-04 -1.14887E-05 -6.62810E-06\\n  1.10549E-06  1.04570E-04  9.80882E-04  3.66490E-03  6.25859E-03  5.05333E-03\\n  1.92509E-03  3.24765E-04  1.64221E-05 -1.35209E-06\\n  2.85532E-06  5.69408E-05  4.34049E-04  1.50254E-03  2.47930E-03  1.98074E-03\\n  7.64017E-04  1.37612E-04  9.96756E-06  4.89205E-10\\n  8.87494E-07  1.42847E-05  1.01288E-04  3.39531E-04  5.51759E-04  4.38532E-04\\n  1.70104E-04  3.15481E-05  2.57918E-06  5.61433E-08\\n -4.82062E-07 -3.72630E-06 -1.52580E-05 -3.34286E-05 -3.96584E-05 -2.60476E-05\\n -9.98080E-06 -2.45197E-06 -4.14493E-07 -4.58889E-08\\n -2.62406E-06 -2.03748E-05 -8.39568E-05 -1.85407E-04 -2.21847E-04 -1.46709E-04\\n -5.62784E-05 -1.37110E-05 -2.28537E-06 -2.50269E-07\\n -8.97282E-06 -6.95197E-05 -2.85619E-04 -6.28531E-04 -7.49241E-04 -4.94055E-04\\n -1.89496E-04 -4.63521E-05 -7.77523E-06 -8.55556E-07\\n -1.91336E-05 -1.46203E-04 -5.89067E-04 -1.26548E-03 -1.46777E-03 -9.46280E-04\\n -3.61976E-04 -9.10815E-05 -1.59769E-05 -1.81695E-06\\n -2.51714E-05 -1.85776E-04 -7.10526E-04 -1.42273E-03 -1.51079E-03 -8.98292E-04\\n -3.39940E-04 -9.46570E-05 -1.90535E-05 -2.36473E-06\\n -2.00855E-05 -1.37409E-04 -4.60094E-04 -7.28382E-04 -5.04685E-04 -1.43507E-04\\n -4.59396E-05 -3.38860E-05 -1.19462E-05 -1.84375E-06\\n -9.42836E-06 -5.40151E-05 -1.12481E-04  5.22692E-05  4.42077E-04  4.88089E-04\\n  1.96806E-04  2.44712E-05 -2.44658E-06 -8.23187E-07\\n -2.42951E-06 -7.51750E-06  3.41488E-05  2.53456E-04  5.27869E-04  4.64951E-04\\n  1.84099E-04  3.09745E-05  1.30170E-06 -1.86151E-07\\n -2.68402E-07  1.86104E-06  3.03174E-05  1.28888E-04  2.32373E-04  1.94013E-04\\n  7.64404E-05  1.37986E-05  9.56729E-07 -9.61363E-09\\n  1.27984E-08  9.19434E-07  8.49744E-06  3.16447E-05  5.41200E-05  4.41848E-05\\n  1.73715E-05  3.22941E-06  2.58946E-07  4.56498E-09\\n -5.92988E-08 -4.42857E-07 -1.72251E-06 -3.51436E-06 -3.80339E-06 -2.23359E-06\\n -7.51956E-07 -1.62203E-07 -2.50176E-08 -2.66268E-09\\n -3.21520E-07 -2.40602E-06 -9.38734E-06 -1.92378E-05 -2.09398E-05 -1.23737E-05\\n -4.18270E-06 -8.99938E-07 -1.37504E-07 -1.45057E-08\\n -1.10167E-06 -8.23629E-06 -3.20891E-05 -6.56310E-05 -7.12599E-05 -4.20001E-05\\n -1.41754E-05 -3.05402E-06 -4.68567E-07 -4.96172E-08\\n -2.37853E-06 -1.76751E-05 -6.82252E-05 -1.37689E-04 -1.46932E-04 -8.49896E-05\\n -2.83410E-05 -6.15894E-06 -9.72750E-07 -1.05746E-07\\n -3.22299E-06 -2.36092E-05 -8.90830E-05 -1.73784E-04 -1.77000E-04 -9.69713E-05\\n -3.11539E-05 -6.95140E-06 -1.19306E-06 -1.38826E-07\\n -2.72642E-06 -1.94247E-05 -6.99621E-05 -1.26488E-04 -1.14260E-04 -5.28178E-05\\n -1.47076E-05 -3.63916E-06 -8.08044E-07 -1.10237E-07\\n -1.42939E-06 -9.68409E-06 -3.17484E-05 -4.75572E-05 -2.74765E-05 -9.77344E-07\\n  2.94191E-06  1.42740E-07 -2.39453E-07 -5.11950E-08\\n -4.59603E-07 -2.84052E-06 -7.51184E-06 -5.03329E-06  8.90198E-06  1.42995E-05\\n  6.77443E-06  1.16809E-06  2.38268E-08 -1.28460E-08\\n -8.91455E-08 -4.58840E-07 -5.48077E-07  2.48187E-06  7.70639E-06  7.70089E-06\\n  3.27936E-06  6.05016E-07  3.86281E-08 -1.27166E-09\\n -1.01205E-08 -3.24349E-08  1.31750E-07  1.01978E-06  2.15114E-06  1.92596E-06\\n  7.91818E-07  1.49474E-07  1.16456E-08  1.16163E-10\\n\",\"cube\");\n",
              "\tviewer_1675416104611149.setStyle({\"stick\": {}});\n",
              "\tviewer_1675416104611149.zoomTo();\n",
              "viewer_1675416104611149.render();\n",
              "});\n",
              "</script>"
            ]
          },
          "metadata": {}
        }
      ],
      "source": [
        "\n",
        "data = None\n",
        "with open(\"opt.cube\", \"r\") as infile:\n",
        "    data = infile.read()\n",
        "view = py3Dmol.view()\n",
        "view.addVolumetricData(\n",
        "    data,\n",
        "    \"cube\",\n",
        "    {\n",
        "        \"isoval\": 1.0,\n",
        "        \"volformat\": \"cube\",\n",
        "    },\n",
        ")\n",
        "view.addModel(data, \"cube\")\n",
        "view.setStyle({\"stick\": {}})\n",
        "view.zoomTo()\n",
        "view.show()"
      ]
    },
    {
      "cell_type": "code",
      "execution_count": null,
      "metadata": {
        "id": "vPFJLvRP-nK_"
      },
      "outputs": [],
      "source": []
    }
  ],
  "metadata": {
    "colab": {
      "provenance": [],
      "authorship_tag": "ABX9TyPzVtvQDZuyTrjlHKuGLn6g",
      "include_colab_link": true
    },
    "kernelspec": {
      "display_name": "Python 3",
      "name": "python3"
    },
    "language_info": {
      "name": "python"
    }
  },
  "nbformat": 4,
  "nbformat_minor": 0
}