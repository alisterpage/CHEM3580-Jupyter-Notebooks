{
  "cells": [
    {
      "cell_type": "markdown",
      "metadata": {
        "id": "view-in-github",
        "colab_type": "text"
      },
      "source": [
        "<a href=\"https://colab.research.google.com/github/alisterpage/CHEM3580-Jupyter-Notebooks/blob/main/twisting_carbenes.ipynb\" target=\"_parent\"><img src=\"https://colab.research.google.com/assets/colab-badge.svg\" alt=\"Open In Colab\"/></a>"
      ]
    },
    {
      "cell_type": "markdown",
      "source": [
        "**Run the code cell below to setup the environment and software you need for this exercise.** (It may take a minute or so to run...)\n"
      ],
      "metadata": {
        "id": "DeDCU9IOrUjN"
      }
    },
    {
      "cell_type": "code",
      "execution_count": 1,
      "metadata": {
        "id": "kp6SqarFumzm",
        "cellView": "form"
      },
      "outputs": [],
      "source": [
        "#@title\n",
        "!pip install pyscf geometric py3Dmol fortecubeview pythreejs -q 2>&1 >/dev/null\n",
        "import pyscf\n",
        "from pyscf import gto, scf, tools, lo, lib, dft\n",
        "#from pyscf.geomopt.berny_solver import optimize\n",
        "from pyscf.geomopt.geometric_solver import optimize\n",
        "from geometric.molecule import Molecule\n",
        "import py3Dmol\n",
        "import fortecubeview\n",
        "from google.colab import output\n",
        "output.enable_custom_widget_manager()\n",
        "import numpy as np\n",
        "from __future__ import print_function\n",
        "import sys"
      ]
    },
    {
      "cell_type": "markdown",
      "source": [
        "**Enter the value of the dihedral angle you want in the text box below.**"
      ],
      "metadata": {
        "id": "FvGDWqHUrhnp"
      }
    },
    {
      "cell_type": "code",
      "source": [
        "#@title\n",
        "import ipywidgets as widgets\n",
        "\n",
        "dihedral_textbox = widgets.FloatText(\n",
        "    value=0.0,\n",
        "    description='Dihedral Angle (degrees):',\n",
        "    disabled=False\n",
        ")\n",
        "\n",
        "display(dihedral_textbox)\n",
        "\n",
        "# Get the value entered by the user in the widget and store it as a float variable called dihedral\n"
      ],
      "metadata": {
        "cellView": "form",
        "id": "as-PIjVUr-54",
        "outputId": "679a60c3-11f0-41b4-971b-6725261fc401",
        "colab": {
          "base_uri": "https://localhost:8080/",
          "height": 50,
          "referenced_widgets": [
            "fa5171a875944fb8a5659a433a91d131",
            "22a9e14b1cd34c27888c9d17d3a61ca5",
            "2a49ae1f1a2b419ca178ba692a0f3b40"
          ]
        }
      },
      "execution_count": 2,
      "outputs": [
        {
          "output_type": "display_data",
          "data": {
            "text/plain": [
              "FloatText(value=0.0, description='Dihedral Angle (degrees):')"
            ],
            "application/vnd.jupyter.widget-view+json": {
              "version_major": 2,
              "version_minor": 0,
              "model_id": "fa5171a875944fb8a5659a433a91d131"
            }
          },
          "metadata": {
            "application/vnd.jupyter.widget-view+json": {
              "colab": {
                "custom_widget_manager": {
                  "url": "https://ssl.gstatic.com/colaboratory-static/widgets/colab-cdn-widget-manager/b3e629b1971e1542/manager.min.js"
                }
              }
            }
          }
        }
      ]
    },
    {
      "cell_type": "markdown",
      "source": [
        "**Run the next code cell to do the B3LYP/6-31G(d) geometry optimisation**"
      ],
      "metadata": {
        "id": "vxfm_YE1rNJS"
      }
    },
    {
      "cell_type": "code",
      "source": [
        "#@title\n",
        "#define molecule\n",
        "initial_dihedral = dihedral_textbox.value\n",
        "mol = gto.Mole()\n",
        "mol.atom = '''\n",
        "    H\n",
        "    H 1 1.8\n",
        "    H 2 1.8 1 60.0\n",
        "    C 1 1.1 2 35.2 3 {}\n",
        "'''.format(initial_dihedral)\n",
        "\n",
        "#define model chemistry & calculation \n",
        "mol.basis = '6-31g(d)'\n",
        "mol.spin=1;\n",
        "mol.build();\n",
        "mf = dft.ROKS(mol)\n",
        "mf.xc = 'b3lyp'\n",
        "mf = mf.newton()\n",
        "mf.kernel()\n",
        "\n",
        "# Optimize the geometry\n",
        "text = \"$freeze\\ndihedral 1 2 3 4\\n\"\n",
        "with open(\"constraints.txt\", \"w\") as f:\n",
        "    f.write(text)\n",
        "params = {\"constraints\": \"constraints.txt\",}\n",
        "mol_eq = optimize(mf, **params)\n",
        "\n",
        "#print(mol_eq.atom_coords())\n",
        "\n",
        "# Get the optimized energy\n",
        "mf = dft.ROKS(mol_eq)\n",
        "mf.xc = 'b3lyp'\n",
        "mf = mf.newton()\n",
        "mf.kernel()\n",
        "\n",
        "# Create a temporary XYZ file with the optimized coordinates\n",
        "symbols = [atom[0] for atom in mol_eq.atom];\n",
        "coords = mol_eq.atom_coords();\n",
        "with open(\"temp.xyz\", \"w\") as f:\n",
        "    f.write(\"%d\\n\" % len(symbols))\n",
        "    f.write(\"Generated by PySCF and Geometric\\n\")\n",
        "    for i in range(len(symbols)):\n",
        "        f.write(\"%s %f %f %f\\n\" % (symbols[i], coords[i,0], coords[i,1], coords[i,2]))\n",
        "\n",
        "# Convert the PySCF object to a `Molecule` object using the XYZ file and store dihedral angle.\n",
        "mol_geom = Molecule(\"temp.xyz\");\n",
        "dihedral=Molecule.measure_dihedrals(mol_geom,0,1,2,3);"
      ],
      "metadata": {
        "colab": {
          "base_uri": "https://localhost:8080/"
        },
        "id": "oidfKFQ42McO",
        "outputId": "9df516d7-1cb2-4164-e313-f430cc4b648c",
        "collapsed": true,
        "cellView": "form"
      },
      "execution_count": 3,
      "outputs": [
        {
          "output_type": "stream",
          "name": "stdout",
          "text": [
            "converged SCF energy = -39.7940192410631\n"
          ]
        },
        {
          "output_type": "stream",
          "name": "stderr",
          "text": [
            "geometric-optimize called with the following command line:\n",
            "/usr/local/lib/python3.9/dist-packages/ipykernel_launcher.py -f /root/.local/share/jupyter/runtime/kernel-60573db0-d9e6-499a-85fa-2e3828a92c08.json\n",
            "\n",
            "                                        \u001b[91m())))))))))))))))/\u001b[0m                     \n",
            "                                    \u001b[91m())))))))))))))))))))))))),\u001b[0m                \n",
            "                                \u001b[91m*)))))))))))))))))))))))))))))))))\u001b[0m             \n",
            "                        \u001b[94m#,\u001b[0m    \u001b[91m()))))))))/\u001b[0m                \u001b[91m.)))))))))),\u001b[0m          \n",
            "                      \u001b[94m#%%%%,\u001b[0m  \u001b[91m())))))\u001b[0m                        \u001b[91m.))))))))*\u001b[0m        \n",
            "                      \u001b[94m*%%%%%%,\u001b[0m  \u001b[91m))\u001b[0m              \u001b[93m..\u001b[0m              \u001b[91m,))))))).\u001b[0m      \n",
            "                        \u001b[94m*%%%%%%,\u001b[0m         \u001b[93m***************/.\u001b[0m        \u001b[91m.)))))))\u001b[0m     \n",
            "                \u001b[94m#%%/\u001b[0m      \u001b[94m(%%%%%%,\u001b[0m    \u001b[93m/*********************.\u001b[0m       \u001b[91m)))))))\u001b[0m    \n",
            "              \u001b[94m.%%%%%%#\u001b[0m      \u001b[94m*%%%%%%,\u001b[0m  \u001b[93m*******/,\u001b[0m     \u001b[93m**********,\u001b[0m      \u001b[91m.))))))\u001b[0m   \n",
            "                \u001b[94m.%%%%%%/\u001b[0m      \u001b[94m*%%%%%%,\u001b[0m  \u001b[93m**\u001b[0m              \u001b[93m********\u001b[0m      \u001b[91m.))))))\u001b[0m  \n",
            "          \u001b[94m##\u001b[0m      \u001b[94m.%%%%%%/\u001b[0m      \u001b[94m(%%%%%%,\u001b[0m                  \u001b[93m,******\u001b[0m      \u001b[91m/)))))\u001b[0m  \n",
            "        \u001b[94m%%%%%%\u001b[0m      \u001b[94m.%%%%%%#\u001b[0m      \u001b[94m*%%%%%%,\u001b[0m    \u001b[92m,/////.\u001b[0m       \u001b[93m******\u001b[0m      \u001b[91m))))))\u001b[0m \n",
            "      \u001b[94m#%\u001b[0m      \u001b[94m%%\u001b[0m      \u001b[94m.%%%%%%/\u001b[0m      \u001b[94m*%%%%%%,\u001b[0m  \u001b[92m////////,\u001b[0m      \u001b[93m*****/\u001b[0m     \u001b[91m,)))))\u001b[0m \n",
            "    \u001b[94m#%%\u001b[0m  \u001b[94m%%%\u001b[0m  \u001b[94m%%%#\u001b[0m      \u001b[94m.%%%%%%/\u001b[0m      \u001b[94m(%%%%%%,\u001b[0m  \u001b[92m///////.\u001b[0m     \u001b[93m/*****\u001b[0m      \u001b[91m))))).\u001b[0m\n",
            "  \u001b[94m#%%%%.\u001b[0m      \u001b[94m%%%%%#\u001b[0m      \u001b[94m/%%%%%%*\u001b[0m      \u001b[94m#%%%%%%\u001b[0m   \u001b[92m/////)\u001b[0m     \u001b[93m******\u001b[0m      \u001b[91m))))),\u001b[0m\n",
            "    \u001b[94m#%%%%##%\u001b[0m  \u001b[94m%%%#\u001b[0m      \u001b[94m.%%%%%%/\u001b[0m      \u001b[94m(%%%%%%,\u001b[0m  \u001b[92m///////.\u001b[0m     \u001b[93m/*****\u001b[0m      \u001b[91m))))).\u001b[0m\n",
            "      \u001b[94m##\u001b[0m     \u001b[94m%%%\u001b[0m      \u001b[94m.%%%%%%/\u001b[0m      \u001b[94m*%%%%%%,\u001b[0m  \u001b[92m////////.\u001b[0m      \u001b[93m*****/\u001b[0m     \u001b[91m,)))))\u001b[0m \n",
            "        \u001b[94m#%%%%#\u001b[0m      \u001b[94m/%%%%%%/\u001b[0m      \u001b[94m(%%%%%%\u001b[0m      \u001b[92m/)/)//\u001b[0m       \u001b[93m******\u001b[0m      \u001b[91m))))))\u001b[0m \n",
            "          \u001b[94m##\u001b[0m      \u001b[94m.%%%%%%/\u001b[0m      \u001b[94m(%%%%%%,\u001b[0m                  \u001b[93m*******\u001b[0m      \u001b[91m))))))\u001b[0m  \n",
            "                \u001b[94m.%%%%%%/\u001b[0m      \u001b[94m*%%%%%%,\u001b[0m  \u001b[93m**.\u001b[0m             \u001b[93m/*******\u001b[0m      \u001b[91m.))))))\u001b[0m  \n",
            "              \u001b[94m*%%%%%%/\u001b[0m      \u001b[94m(%%%%%%\u001b[0m   \u001b[93m********/*..,*/*********\u001b[0m       \u001b[91m*))))))\u001b[0m   \n",
            "                \u001b[94m#%%/\u001b[0m      \u001b[94m(%%%%%%,\u001b[0m    \u001b[93m*********************/\u001b[0m        \u001b[91m)))))))\u001b[0m    \n",
            "                        \u001b[94m*%%%%%%,\u001b[0m         \u001b[93m,**************/\u001b[0m         \u001b[91m,))))))/\u001b[0m     \n",
            "                      \u001b[94m(%%%%%%\u001b[0m   \u001b[91m()\u001b[0m                              \u001b[91m))))))))\u001b[0m       \n",
            "                      \u001b[94m#%%%%,\u001b[0m  \u001b[91m())))))\u001b[0m                        \u001b[91m,)))))))),\u001b[0m        \n",
            "                        \u001b[94m#,\u001b[0m    \u001b[91m())))))))))\u001b[0m                \u001b[91m,)))))))))).\u001b[0m          \n",
            "                                 \u001b[91m()))))))))))))))))))))))))))))))/\u001b[0m             \n",
            "                                    \u001b[91m())))))))))))))))))))))))).\u001b[0m                \n",
            "                                         \u001b[91m())))))))))))))),\u001b[0m                     \n",
            "\n",
            "-=# \u001b[1;94m geomeTRIC started. Version: 1.0 \u001b[0m #=-\n",
            "Current date and time: 2023-04-20 00:07:45\n",
            "Custom engine selected.\n",
            "$freeze\n",
            "dihedral 1 2 3 4\n",
            "Bonds will be generated from interatomic distances less than 1.20 times sum of covalent radii\n",
            "12 internal coordinates being used (instead of 12 Cartesians)\n",
            "Internal coordinate system (atoms numbered from 1):\n",
            "Dihedral 1-2-3-4\n",
            "Distance 1-4\n",
            "Distance 2-4\n",
            "Distance 3-4\n",
            "Angle 1-4-2\n",
            "Angle 1-4-3\n",
            "Angle 2-4-3\n",
            "Translation-X 1-4\n",
            "Translation-Y 1-4\n",
            "Translation-Z 1-4\n",
            "Rotation-A 1-4\n",
            "Rotation-B 1-4\n",
            "Rotation-C 1-4\n",
            "<class 'geometric.internal.Dihedral'> : 1\n",
            "<class 'geometric.internal.Distance'> : 3\n",
            "<class 'geometric.internal.Angle'> : 3\n",
            "<class 'geometric.internal.TranslationX'> : 1\n",
            "<class 'geometric.internal.TranslationY'> : 1\n",
            "<class 'geometric.internal.TranslationZ'> : 1\n",
            "<class 'geometric.internal.RotationA'> : 1\n",
            "<class 'geometric.internal.RotationB'> : 1\n",
            "<class 'geometric.internal.RotationC'> : 1\n",
            "Constraint                         Current      Target       Diff.\n",
            "Dihedral 1-2-3-4                 -34.93252   -34.93252     0.00000\n",
            "> ===== Optimization Info: ====\n",
            "> Job type: Energy minimization\n",
            "> Maximum number of optimization cycles: 300\n",
            "> Initial / maximum trust radius (Angstrom): 0.100 / 0.300\n",
            "> Convergence Criteria:\n",
            "> Will converge when all 5 criteria are reached:\n",
            ">  |Delta-E| < 1.00e-06\n",
            ">  RMS-Ortho-Grad < 3.00e-04\n",
            ">  Max-Ortho-Grad < 4.50e-04\n",
            ">  RMS-Disp  < 1.20e-03\n",
            ">  Max-Disp  < 1.80e-03\n",
            "> \n",
            "> Constraints are requested. The following criterion is added:\n",
            ">  Max Constraint Violation (in Angstroms/degrees) < 1.00e-02 \n",
            "> === End Optimization Info ===\n"
          ]
        },
        {
          "output_type": "stream",
          "name": "stdout",
          "text": [
            "\n",
            "Geometry optimization cycle 1\n",
            "Cartesian coordinates (Angstrom)\n",
            " Atom        New coordinates             dX        dY        dZ\n",
            "   H   0.000000   0.000000   0.000000    0.000000  0.000000  0.000000\n",
            "   H   1.800000   0.000000   0.000000    0.000000  0.000000  0.000000\n",
            "   H   0.900000   0.000000   1.558846    0.000000  0.000000  0.000000\n",
            "   C   0.898859   0.363691   0.519404    0.000000  0.000000  0.000000\n",
            "converged SCF energy = -39.7940192410666\n",
            "--------------- SCF_Scanner gradients ---------------\n",
            "         x                y                z\n",
            "0 H     0.0000080408    -0.0143906433    -0.0000401925\n",
            "1 H     0.0009739750    -0.0147784372    -0.0004743179\n",
            "2 H     0.0001150286    -0.0146475247     0.0007187224\n",
            "3 C    -0.0010970720     0.0438175890    -0.0002052304\n",
            "----------------------------------------------\n",
            "cycle 1: E = -39.7940192411  dE = -39.794  norm(grad) = 0.0506258\n"
          ]
        },
        {
          "output_type": "stream",
          "name": "stderr",
          "text": [
            "Step    0 : Gradient = 1.609e-02/2.607e-02 (rms/max) Energy = -39.7940192411\n",
            "Hessian Eigenvalues: 5.00000e-02 5.00000e-02 5.00000e-02 ... 3.33661e-01 3.35135e-01 3.36048e-01\n"
          ]
        },
        {
          "output_type": "stream",
          "name": "stdout",
          "text": [
            "\n",
            "Geometry optimization cycle 2\n",
            "Cartesian coordinates (Angstrom)\n",
            " Atom        New coordinates             dX        dY        dZ\n",
            "   H   0.014841   0.002957   0.008615    0.014841  0.002957  0.008615\n",
            "   H   1.794002   0.012935  -0.035308   -0.005998  0.012935 -0.035308\n",
            "   H   0.866374   0.012852   1.571544   -0.033626  0.012852  0.012699\n",
            "   C   0.923643   0.334904   0.533442    0.024783 -0.028787  0.014038\n",
            "\n",
            "WARN: Large deviations found between the input molecule and the molecule from chkfile\n",
            "Initial guess density matrix may have large error.\n",
            "\n",
            "converged SCF energy = -39.795910894125\n",
            "--------------- SCF_Scanner gradients ---------------\n",
            "         x                y                z\n",
            "0 H    -0.0002154741    -0.0136242234    -0.0001414012\n",
            "1 H    -0.0074172640    -0.0092953812    -0.0042056991\n",
            "2 H    -0.0073361032    -0.0092927638    -0.0043181558\n",
            "3 C     0.0149688819     0.0322147242     0.0086640479\n",
            "----------------------------------------------\n",
            "cycle 2: E = -39.7959108941  dE = -0.00189165  norm(grad) = 0.0429015\n"
          ]
        },
        {
          "output_type": "stream",
          "name": "stderr",
          "text": [
            "Step    1 : Displace = \u001b[0m3.482e-02\u001b[0m/\u001b[0m4.049e-02\u001b[0m (rms/max) Trust = 1.000e-01 (=) Grad_T = \u001b[0m3.393e-03\u001b[0m/\u001b[0m5.544e-03\u001b[0m (rms/max) E (change) = -39.7959108941 (\u001b[0m-1.892e-03\u001b[0m) Quality = \u001b[0m1.210\u001b[0m\n",
            "Constraint                         Current      Target       Diff.\n",
            "Dihedral 1-2-3-4                 -34.82417   -34.93252     0.10835\n",
            "Hessian Eigenvalues: 5.00000e-02 5.00000e-02 5.00000e-02 ... 3.29461e-01 3.35130e-01 3.36274e-01\n"
          ]
        },
        {
          "output_type": "stream",
          "name": "stdout",
          "text": [
            "\n",
            "Geometry optimization cycle 3\n",
            "Cartesian coordinates (Angstrom)\n",
            " Atom        New coordinates             dX        dY        dZ\n",
            "   H   0.018986   0.003686   0.011101    0.004144  0.000729  0.002486\n",
            "   H   1.792417   0.016503  -0.045470   -0.001586  0.003567 -0.010162\n",
            "   H   0.856660   0.016455   1.575197   -0.009714  0.003603  0.003652\n",
            "   C   0.930796   0.326878   0.537531    0.007153 -0.008027  0.004089\n",
            "\n",
            "WARN: Large deviations found between the input molecule and the molecule from chkfile\n",
            "Initial guess density matrix may have large error.\n",
            "\n",
            "converged SCF energy = -39.7959733937732\n",
            "--------------- SCF_Scanner gradients ---------------\n",
            "         x                y                z\n",
            "0 H    -0.0004636522    -0.0134709981    -0.0002639819\n",
            "1 H    -0.0094854517    -0.0079840211    -0.0053110950\n",
            "2 H    -0.0093448840    -0.0079863681    -0.0055627168\n",
            "3 C     0.0192940455     0.0294434773     0.0111375185\n",
            "----------------------------------------------\n",
            "cycle 3: E = -39.7959733938  dE = -6.24996e-05  norm(grad) = 0.0436916\n"
          ]
        },
        {
          "output_type": "stream",
          "name": "stderr",
          "text": [
            "Step    2 : Displace = \u001b[0m9.942e-03\u001b[0m/\u001b[0m1.147e-02\u001b[0m (rms/max) Trust = 1.414e-01 (\u001b[92m+\u001b[0m) Grad_T = \u001b[92m1.688e-04\u001b[0m/\u001b[92m2.106e-04\u001b[0m (rms/max) E (change) = -39.7959733938 (\u001b[0m-6.250e-05\u001b[0m) Quality = \u001b[0m1.083\u001b[0m\n",
            "Constraint                         Current      Target       Diff.\n",
            "Dihedral 1-2-3-4                 -34.80790   -34.93252     0.12461\n",
            "Hessian Eigenvalues: 4.99998e-02 5.00000e-02 5.00000e-02 ... 3.32867e-01 3.35132e-01 3.37562e-01\n"
          ]
        },
        {
          "output_type": "stream",
          "name": "stdout",
          "text": [
            "\n",
            "Geometry optimization cycle 4\n",
            "Cartesian coordinates (Angstrom)\n",
            " Atom        New coordinates             dX        dY        dZ\n",
            "   H   0.019454   0.003552   0.011370    0.000468 -0.000134  0.000269\n",
            "   H   1.792326   0.016555  -0.046464   -0.000091  0.000053 -0.000994\n",
            "   H   0.855742   0.016554   1.575626   -0.000918  0.000099  0.000430\n",
            "   C   0.931334   0.326765   0.537839    0.000538 -0.000113  0.000308\n",
            "converged SCF energy = -39.7959291632701\n",
            "--------------- SCF_Scanner gradients ---------------\n",
            "         x                y                z\n",
            "0 H    -0.0004598510    -0.0135061371    -0.0002619161\n",
            "1 H    -0.0094840272    -0.0079786691    -0.0055267239\n",
            "2 H    -0.0095307885    -0.0079812044    -0.0054514755\n",
            "3 C     0.0194747265     0.0294680758     0.0112399109\n",
            "----------------------------------------------\n",
            "cycle 4: E = -39.7959291633  dE = 4.42305e-05  norm(grad) = 0.0438756\n"
          ]
        },
        {
          "output_type": "stream",
          "name": "stderr",
          "text": [
            "Step    3 : Displace = \u001b[92m8.274e-04\u001b[0m/\u001b[92m1.011e-03\u001b[0m (rms/max) Trust = 2.000e-01 (\u001b[92m+\u001b[0m) Grad_T = \u001b[92m1.982e-05\u001b[0m/\u001b[92m2.859e-05\u001b[0m (rms/max) E (change) = -39.7959291633 (\u001b[0m+4.423e-05\u001b[0m) Quality = \u001b[0m0.999\u001b[0m\n",
            "Constraint                         Current      Target       Diff.\n",
            "Dihedral 1-2-3-4                 -34.87042   -34.93252     0.06210\n",
            "Hessian Eigenvalues: 4.99572e-02 5.00000e-02 5.00000e-02 ... 3.32100e-01 3.35109e-01 3.40128e-01\n"
          ]
        },
        {
          "output_type": "stream",
          "name": "stdout",
          "text": [
            "\n",
            "Geometry optimization cycle 5\n",
            "Cartesian coordinates (Angstrom)\n",
            " Atom        New coordinates             dX        dY        dZ\n",
            "   H   0.019555   0.003473   0.011428    0.000101 -0.000079  0.000058\n",
            "   H   1.792242   0.016449  -0.046543   -0.000084 -0.000106 -0.000079\n",
            "   H   0.855621   0.016492   1.575602   -0.000121 -0.000062 -0.000025\n",
            "   C   0.931435   0.326911   0.537895    0.000101  0.000147  0.000056\n",
            "converged SCF energy = -39.79590685008\n",
            "--------------- SCF_Scanner gradients ---------------\n",
            "         x                y                z\n",
            "0 H    -0.0004738187    -0.0135353670    -0.0002699533\n",
            "1 H    -0.0095085096    -0.0079878257    -0.0055407745\n",
            "2 H    -0.0095550372    -0.0079901657    -0.0054657820\n",
            "3 C     0.0195374284     0.0295154238     0.0112763101\n",
            "----------------------------------------------\n",
            "cycle 5: E = -39.7959068501  dE = 2.23132e-05  norm(grad) = 0.0439712\n"
          ]
        },
        {
          "output_type": "stream",
          "name": "stderr",
          "text": [
            "Step    4 : Displace = \u001b[92m1.535e-04\u001b[0m/\u001b[92m2.049e-04\u001b[0m (rms/max) Trust = 2.828e-01 (\u001b[92m+\u001b[0m) Grad_T = \u001b[92m8.506e-06\u001b[0m/\u001b[92m1.109e-05\u001b[0m (rms/max) E (change) = -39.7959068501 (\u001b[0m+2.231e-05\u001b[0m) Quality = \u001b[0m1.000\u001b[0m\n",
            "Constraint                         Current      Target       Diff.\n",
            "Dihedral 1-2-3-4                 -34.90374   -34.93252     0.02877\n",
            "Hessian Eigenvalues: 4.86816e-02 5.00000e-02 5.00000e-02 ... 3.21842e-01 3.35100e-01 3.40638e-01\n"
          ]
        },
        {
          "output_type": "stream",
          "name": "stdout",
          "text": [
            "\n",
            "Geometry optimization cycle 6\n",
            "Cartesian coordinates (Angstrom)\n",
            " Atom        New coordinates             dX        dY        dZ\n",
            "   H   0.019588   0.003407   0.011448    0.000033 -0.000066  0.000020\n",
            "   H   1.792211   0.016352  -0.046548   -0.000031 -0.000097 -0.000005\n",
            "   H   0.855586   0.016454   1.575587   -0.000035 -0.000038 -0.000015\n",
            "   C   0.931464   0.326982   0.537908    0.000029  0.000070  0.000013\n",
            "converged SCF energy = -39.7958964995671\n",
            "--------------- SCF_Scanner gradients ---------------\n",
            "         x                y                z\n",
            "0 H    -0.0004823379    -0.0135504839    -0.0002744873\n",
            "1 H    -0.0095123984    -0.0079957243    -0.0055456439\n",
            "2 H    -0.0095612890    -0.0079979454    -0.0054666233\n",
            "3 C     0.0195560902     0.0295462201     0.0112865534\n",
            "----------------------------------------------\n",
            "cycle 6: E = -39.7958964996  dE = 1.03505e-05  norm(grad) = 0.0440133\n"
          ]
        },
        {
          "output_type": "stream",
          "name": "stderr",
          "text": [
            "Step    5 : Displace = \u001b[92m6.863e-05\u001b[0m/\u001b[92m1.075e-04\u001b[0m (rms/max) Trust = 3.000e-01 (\u001b[92m+\u001b[0m) Grad_T = \u001b[92m1.205e-06\u001b[0m/\u001b[92m2.068e-06\u001b[0m (rms/max) E (change) = -39.7958964996 (\u001b[0m+1.035e-05\u001b[0m) Quality = \u001b[0m1.000\u001b[0m\n",
            "Constraint                         Current      Target       Diff.\n",
            "Dihedral 1-2-3-4                 -34.91940   -34.93252     0.01312\n",
            "Hessian Eigenvalues: 4.36823e-02 5.00000e-02 5.00000e-02 ... 3.22971e-01 3.35101e-01 3.40863e-01\n"
          ]
        },
        {
          "output_type": "stream",
          "name": "stdout",
          "text": [
            "\n",
            "Geometry optimization cycle 7\n",
            "Cartesian coordinates (Angstrom)\n",
            " Atom        New coordinates             dX        dY        dZ\n",
            "   H   0.019609   0.003358   0.011461    0.000021 -0.000048  0.000013\n",
            "   H   1.792193   0.016267  -0.046543   -0.000018 -0.000085  0.000004\n",
            "   H   0.855562   0.016434   1.575579   -0.000023 -0.000020 -0.000008\n",
            "   C   0.931480   0.326990   0.537912    0.000016  0.000008  0.000004\n",
            "converged SCF energy = -39.7958917788127\n",
            "--------------- SCF_Scanner gradients ---------------\n",
            "         x                y                z\n",
            "0 H    -0.0004822889    -0.0135565141    -0.0002739863\n",
            "1 H    -0.0095175590    -0.0079992600    -0.0055462161\n",
            "2 H    -0.0095646082    -0.0080005329    -0.0054700344\n",
            "3 C     0.0195645227     0.0295583740     0.0112900346\n",
            "----------------------------------------------\n",
            "cycle 7: E = -39.7958917788  dE = 4.72075e-06  norm(grad) = 0.0440314\n"
          ]
        },
        {
          "output_type": "stream",
          "name": "stderr",
          "text": [
            "Step    6 : Displace = \u001b[92m3.251e-05\u001b[0m/\u001b[92m4.677e-05\u001b[0m (rms/max) Trust = 3.000e-01 (=) Grad_T = \u001b[92m7.857e-07\u001b[0m/\u001b[92m1.060e-06\u001b[0m (rms/max) E (change) = -39.7958917788 (\u001b[0m+4.721e-06\u001b[0m) Quality = \u001b[0m1.000\u001b[0m\n",
            "Constraint                         Current      Target       Diff.\n",
            "Dihedral 1-2-3-4                 -34.92653   -34.93252     0.00599\n",
            "Hessian Eigenvalues: 3.48886e-02 5.00000e-02 5.00000e-02 ... 3.23187e-01 3.35147e-01 3.41170e-01\n"
          ]
        },
        {
          "output_type": "stream",
          "name": "stdout",
          "text": [
            "\n",
            "Geometry optimization cycle 8\n",
            "Cartesian coordinates (Angstrom)\n",
            " Atom        New coordinates             dX        dY        dZ\n",
            "   H   0.019619   0.003314   0.011469    0.000010 -0.000044  0.000007\n",
            "   H   1.792186   0.016203  -0.046541   -0.000007 -0.000064  0.000002\n",
            "   H   0.855544   0.016406   1.575580   -0.000018 -0.000028  0.000001\n",
            "   C   0.931490   0.326967   0.537917    0.000010 -0.000022  0.000005\n",
            "converged SCF energy = -39.7958896228051\n",
            "--------------- SCF_Scanner gradients ---------------\n",
            "         x                y                z\n",
            "0 H    -0.0004830915    -0.0135590958    -0.0002739686\n",
            "1 H    -0.0095193857    -0.0079998452    -0.0055475865\n",
            "2 H    -0.0095669257    -0.0080014316    -0.0054713658\n",
            "3 C     0.0195694705     0.0295624397     0.0112927183\n",
            "----------------------------------------------\n",
            "cycle 8: E = -39.7958896228  dE = 2.15601e-06  norm(grad) = 0.0440393\n"
          ]
        },
        {
          "output_type": "stream",
          "name": "stderr",
          "text": [
            "Step    7 : Displace = \u001b[92m1.493e-05\u001b[0m/\u001b[92m1.988e-05\u001b[0m (rms/max) Trust = 3.000e-01 (=) Grad_T = \u001b[92m8.048e-07\u001b[0m/\u001b[92m1.178e-06\u001b[0m (rms/max) E (change) = -39.7958896228 (\u001b[0m+2.156e-06\u001b[0m) Quality = \u001b[0m1.000\u001b[0m\n",
            "Constraint                         Current      Target       Diff.\n",
            "Dihedral 1-2-3-4                 -34.92975   -34.93252     0.00276\n",
            "Hessian Eigenvalues: 1.55672e-02 4.99993e-02 5.00000e-02 ... 3.24876e-01 3.35581e-01 3.41675e-01\n"
          ]
        },
        {
          "output_type": "stream",
          "name": "stdout",
          "text": [
            "\n",
            "Geometry optimization cycle 9\n",
            "Cartesian coordinates (Angstrom)\n",
            " Atom        New coordinates             dX        dY        dZ\n",
            "   H   0.019624   0.003266   0.011473    0.000005 -0.000048  0.000004\n",
            "   H   1.792183   0.016121  -0.046532   -0.000003 -0.000082  0.000010\n",
            "   H   0.855531   0.016378   1.575585   -0.000013 -0.000027  0.000004\n",
            "   C   0.931495   0.326927   0.537918    0.000005 -0.000041  0.000001\n",
            "converged SCF energy = -39.7958886274548\n",
            "--------------- SCF_Scanner gradients ---------------\n",
            "         x                y                z\n",
            "0 H    -0.0004831393    -0.0135601138    -0.0002735965\n",
            "1 H    -0.0095204558    -0.0080003765    -0.0055477900\n",
            "2 H    -0.0095677606    -0.0080017916    -0.0054715962\n",
            "3 C     0.0195714248     0.0295643494     0.0112927789\n",
            "----------------------------------------------\n",
            "cycle 9: E = -39.7958886275  dE = 9.9535e-07  norm(grad) = 0.0440424\n"
          ]
        },
        {
          "output_type": "stream",
          "name": "stderr",
          "text": [
            "Step    8 : Displace = \u001b[92m6.896e-06\u001b[0m/\u001b[92m9.680e-06\u001b[0m (rms/max) Trust = 3.000e-01 (=) Grad_T = \u001b[92m6.834e-07\u001b[0m/\u001b[92m1.019e-06\u001b[0m (rms/max) E (change) = -39.7958886275 (\u001b[92m+9.954e-07\u001b[0m) Quality = \u001b[0m1.000\u001b[0m\n",
            "Constraint                         Current      Target       Diff.\n",
            "Dihedral 1-2-3-4                 -34.93125   -34.93252     0.00126\n",
            "Hessian Eigenvalues: 1.55672e-02 4.99993e-02 5.00000e-02 ... 3.24876e-01 3.35581e-01 3.41675e-01\n",
            "Converged! =D\n",
            "\n",
            "    #==========================================================================#\n",
            "    #| If this code has benefited your research, please support us by citing: |#\n",
            "    #|                                                                        |#\n",
            "    #| Wang, L.-P.; Song, C.C. (2016) \"Geometry optimization made simple with |#\n",
            "    #| translation and rotation coordinates\", J. Chem, Phys. 144, 214108.     |#\n",
            "    #| http://dx.doi.org/10.1063/1.4952956                                    |#\n",
            "    #==========================================================================#\n",
            "    Time elapsed since start of run_optimizer: 30.515 seconds\n"
          ]
        },
        {
          "output_type": "stream",
          "name": "stdout",
          "text": [
            "converged SCF energy = -39.7958886274615\n"
          ]
        },
        {
          "output_type": "stream",
          "name": "stderr",
          "text": [
            "[(0, 1), (1, 2), (2, 3)]Measuring dihedral angle for four atoms that aren't bonded.  Hope you know what you're doing!"
          ]
        }
      ]
    },
    {
      "cell_type": "markdown",
      "source": [
        "**Run the next code cell to summarise the calculation and show the geometry of the molecule**"
      ],
      "metadata": {
        "id": "cOaSK9JwuqIT"
      }
    },
    {
      "cell_type": "code",
      "source": [
        "#@title\n",
        "#print summary\n",
        "print('Initial dihedral before geometry optimisation:', initial_dihedral,\"degrees\")\n",
        "print('Final dihedral after geometry optimisation:', abs(dihedral[0]), 'degrees')\n",
        "print('Final energy after geometry optimisation:', mf.e_tot,\"Hartree\")\n",
        "\n",
        "# get the atomic positions\n",
        "atom_pos = mol.atom_coords()\n",
        "atom_symbol = mol._atom\n",
        "\n",
        "with open('mol.pdb', 'w') as f:\n",
        "    f.write('HEADER    Molecule\\n')\n",
        "    for i, (symbol, pos) in enumerate(zip(atom_symbol, atom_pos)):\n",
        "        f.write(f'HETATM {i+1:>4d}  {symbol[0]}  {pos[0]:>7.3f}{pos[1]:>7.3f}{pos[2]:>7.3f} MOL     1    ')\n",
        "        f.write(f\"{pos[0]:>7.3f}{pos[1]:>7.3f}{pos[2]:>7.3f}\")\n",
        "        f.write('  1.00  0.00           C\\n')\n",
        "    f.write('END\\n')\n",
        "\n",
        "view = py3Dmol.view()\n",
        "view.addModel(open('mol.pdb', 'r').read(),'pdb')\n",
        "view.setBackgroundColor('white')\n",
        "view.setStyle({\"stick\": {}})\n",
        "view.zoomTo()\n",
        "view.show()\n",
        "\n"
      ],
      "metadata": {
        "colab": {
          "base_uri": "https://localhost:8080/",
          "height": 548
        },
        "id": "nTnry5TZdc-i",
        "outputId": "7551edb7-4419-4ba0-c7aa-9d6f798a852a",
        "cellView": "form"
      },
      "execution_count": 4,
      "outputs": [
        {
          "output_type": "stream",
          "name": "stdout",
          "text": [
            "Initial dihedral before geometry optimisation: 35.0 degrees\n",
            "Final dihedral after geometry optimisation: 34.931266722576545 degrees\n",
            "Final energy after geometry optimisation: -39.79588862746154 Hartree\n"
          ]
        },
        {
          "output_type": "display_data",
          "data": {
            "application/3dmoljs_load.v0": "<div id=\"3dmolviewer_16819493151286817\"  style=\"position: relative; width: 640px; height: 480px\">\n        <p id=\"3dmolwarning_16819493151286817\" style=\"background-color:#ffcccc;color:black\">You appear to be running in JupyterLab (or JavaScript failed to load for some other reason).  You need to install the 3dmol extension: <br>\n        <tt>jupyter labextension install jupyterlab_3dmol</tt></p>\n        </div>\n<script>\n\nvar loadScriptAsync = function(uri){\n  return new Promise((resolve, reject) => {\n    //this is to ignore the existence of requirejs amd\n    var savedexports, savedmodule;\n    if (typeof exports !== 'undefined') savedexports = exports;\n    else exports = {}\n    if (typeof module !== 'undefined') savedmodule = module;\n    else module = {}\n\n    var tag = document.createElement('script');\n    tag.src = uri;\n    tag.async = true;\n    tag.onload = () => {\n        exports = savedexports;\n        module = savedmodule;\n        resolve();\n    };\n  var firstScriptTag = document.getElementsByTagName('script')[0];\n  firstScriptTag.parentNode.insertBefore(tag, firstScriptTag);\n});\n};\n\nif(typeof $3Dmolpromise === 'undefined') {\n$3Dmolpromise = null;\n  $3Dmolpromise = loadScriptAsync('https://cdnjs.cloudflare.com/ajax/libs/3Dmol/2.0.1/3Dmol-min.js');\n}\n\nvar viewer_16819493151286817 = null;\nvar warn = document.getElementById(\"3dmolwarning_16819493151286817\");\nif(warn) {\n    warn.parentNode.removeChild(warn);\n}\n$3Dmolpromise.then(function() {\nviewer_16819493151286817 = $3Dmol.createViewer(document.getElementById(\"3dmolviewer_16819493151286817\"),{backgroundColor:\"white\"});\nviewer_16819493151286817.zoomTo();\n\tviewer_16819493151286817.addModel(\"HEADER    Molecule\\nHETATM    1  H    0.000  0.000  0.000 MOL     1      0.000  0.000  0.000  1.00  0.00           C\\nHETATM    2  H    3.402  0.000  0.000 MOL     1      3.402  0.000  0.000  1.00  0.00           C\\nHETATM    3  H    1.701  0.000  2.946 MOL     1      1.701  0.000  2.946  1.00  0.00           C\\nHETATM    4  C    1.699  0.687  0.982 MOL     1      1.699  0.687  0.982  1.00  0.00           C\\nEND\\n\",\"pdb\");\n\tviewer_16819493151286817.setBackgroundColor(\"white\");\n\tviewer_16819493151286817.setStyle({\"stick\": {}});\n\tviewer_16819493151286817.zoomTo();\nviewer_16819493151286817.render();\n});\n</script>",
            "text/html": [
              "<div id=\"3dmolviewer_16819493151286817\"  style=\"position: relative; width: 640px; height: 480px\">\n",
              "        <p id=\"3dmolwarning_16819493151286817\" style=\"background-color:#ffcccc;color:black\">You appear to be running in JupyterLab (or JavaScript failed to load for some other reason).  You need to install the 3dmol extension: <br>\n",
              "        <tt>jupyter labextension install jupyterlab_3dmol</tt></p>\n",
              "        </div>\n",
              "<script>\n",
              "\n",
              "var loadScriptAsync = function(uri){\n",
              "  return new Promise((resolve, reject) => {\n",
              "    //this is to ignore the existence of requirejs amd\n",
              "    var savedexports, savedmodule;\n",
              "    if (typeof exports !== 'undefined') savedexports = exports;\n",
              "    else exports = {}\n",
              "    if (typeof module !== 'undefined') savedmodule = module;\n",
              "    else module = {}\n",
              "\n",
              "    var tag = document.createElement('script');\n",
              "    tag.src = uri;\n",
              "    tag.async = true;\n",
              "    tag.onload = () => {\n",
              "        exports = savedexports;\n",
              "        module = savedmodule;\n",
              "        resolve();\n",
              "    };\n",
              "  var firstScriptTag = document.getElementsByTagName('script')[0];\n",
              "  firstScriptTag.parentNode.insertBefore(tag, firstScriptTag);\n",
              "});\n",
              "};\n",
              "\n",
              "if(typeof $3Dmolpromise === 'undefined') {\n",
              "$3Dmolpromise = null;\n",
              "  $3Dmolpromise = loadScriptAsync('https://cdnjs.cloudflare.com/ajax/libs/3Dmol/2.0.1/3Dmol-min.js');\n",
              "}\n",
              "\n",
              "var viewer_16819493151286817 = null;\n",
              "var warn = document.getElementById(\"3dmolwarning_16819493151286817\");\n",
              "if(warn) {\n",
              "    warn.parentNode.removeChild(warn);\n",
              "}\n",
              "$3Dmolpromise.then(function() {\n",
              "viewer_16819493151286817 = $3Dmol.createViewer(document.getElementById(\"3dmolviewer_16819493151286817\"),{backgroundColor:\"white\"});\n",
              "viewer_16819493151286817.zoomTo();\n",
              "\tviewer_16819493151286817.addModel(\"HEADER    Molecule\\nHETATM    1  H    0.000  0.000  0.000 MOL     1      0.000  0.000  0.000  1.00  0.00           C\\nHETATM    2  H    3.402  0.000  0.000 MOL     1      3.402  0.000  0.000  1.00  0.00           C\\nHETATM    3  H    1.701  0.000  2.946 MOL     1      1.701  0.000  2.946  1.00  0.00           C\\nHETATM    4  C    1.699  0.687  0.982 MOL     1      1.699  0.687  0.982  1.00  0.00           C\\nEND\\n\",\"pdb\");\n",
              "\tviewer_16819493151286817.setBackgroundColor(\"white\");\n",
              "\tviewer_16819493151286817.setStyle({\"stick\": {}});\n",
              "\tviewer_16819493151286817.zoomTo();\n",
              "viewer_16819493151286817.render();\n",
              "});\n",
              "</script>"
            ]
          },
          "metadata": {}
        }
      ]
    },
    {
      "cell_type": "code",
      "source": [
        "# calculate MOs and show the molecule geometry\n",
        "import contextlib\n",
        "with contextlib.redirect_stdout(None):\n",
        "\n",
        "  def get_mo(mf, mol):\n",
        "      \"\"\"Get molecular orbitals\"\"\"\n",
        "      orbitals = {\"canonical\": mf.mo_coeff}\n",
        "\n",
        "      # Get intrinsic bonding orbitals and localized intrinsic valence virtual orbitals (livvo):\n",
        "      orbocc = mf.mo_coeff[:, 0 : mol.nelec[0]]\n",
        "      orbvirt = mf.mo_coeff[:, mol.nelec[0] :]\n",
        "\n",
        "      ovlpS = mol.intor_symmetric(\"int1e_ovlp\")\n",
        "\n",
        "      iaos = lo.iao.iao(mol, orbocc)\n",
        "      iaos = lo.orth.vec_lowdin(iaos, ovlpS)\n",
        "      ibos = lo.ibo.ibo(mol, orbocc, locmethod=\"IBO\")\n",
        "      orbitals[\"ibo\"] = ibos\n",
        "\n",
        "      livvo = lo.vvo.livvo(mol, orbocc, orbvirt)\n",
        "      orbitals[\"livvo\"] = livvo\n",
        "      return orbitals\n",
        "\n",
        "  orbitals = get_mo(mf, mol_eq);\n",
        "\n",
        "  def find_homo_lumo(mf):\n",
        "      lumo = float(\"inf\")\n",
        "      lumo_idx = None\n",
        "      homo = -float(\"inf\")\n",
        "      homo_idx = None\n",
        "      for i, (energy, occ) in enumerate(zip(mf.mo_energy, mf.mo_occ)):\n",
        "          if occ > 0 and energy > homo:\n",
        "              homo = energy\n",
        "              homo_idx = i\n",
        "          if occ == 0 and energy < lumo:\n",
        "              lumo = energy\n",
        "              lumo_idx = i\n",
        "\n",
        "      return homo, homo_idx, lumo, lumo_idx\n",
        "\n",
        "  _, homo_idx, _, lumo_idx = find_homo_lumo(mf)\n",
        "\n",
        "  tools.cubegen.orbital(\n",
        "      mol, \"opt.cube\", orbitals[\"canonical\"][:, homo_idx], margin=5,nx=10,ny=10,nz=10\n",
        "  );\n",
        "\n",
        "\n",
        "  data = None\n",
        "  with open(\"opt.cube\", \"r\") as infile:\n",
        "      data = infile.read()\n",
        "  view = py3Dmol.view()\n",
        "  view.addVolumetricData(\n",
        "      data,\n",
        "      \"cube\",\n",
        "      {\n",
        "          \"isoval\": 1.0,\n",
        "          \"volformat\": \"cube\",\n",
        "      },\n",
        "  )\n",
        "  view.addModel(data, \"cube\")\n",
        "  view.setStyle({\"stick\": {}})\n",
        "  view.zoomTo()\n",
        "  view.show()"
      ],
      "metadata": {
        "id": "83sb-V-i2gH9",
        "outputId": "2ad33a6e-0226-42f7-deab-389fffdee334",
        "colab": {
          "base_uri": "https://localhost:8080/",
          "height": 599
        }
      },
      "execution_count": 20,
      "outputs": [
        {
          "output_type": "stream",
          "name": "stdout",
          "text": [
            "[[0.         0.         0.        ]\n",
            " [3.40150702 0.         0.        ]\n",
            " [1.70075351 0.         2.94579149]\n",
            " [1.69859807 0.68727599 0.98153184]]\n",
            "[('H', [0.0, 0.0, 0.0]), ('H', [3.4015070242171115, 0.0, 0.0]), ('H', [1.7007535121085553, 0.0, 2.945791494123228]), ('C', [1.6985980681328494, 0.6872759929411557, 0.9815318394006194])]\n",
            "[('H', [0.0, 0.0, 0.0]), ('H', [3.4015070242171115, 0.0, 0.0]), ('H', [1.7007535121085553, 0.0, 2.945791494123228]), ('C', [1.6985980681328494, 0.6872759929411557, 0.9815318394006194])]\n"
          ]
        },
        {
          "output_type": "display_data",
          "data": {
            "application/3dmoljs_load.v0": "<div id=\"3dmolviewer_16819487311621773\"  style=\"position: relative; width: 640px; height: 480px\">\n        <p id=\"3dmolwarning_16819487311621773\" style=\"background-color:#ffcccc;color:black\">You appear to be running in JupyterLab (or JavaScript failed to load for some other reason).  You need to install the 3dmol extension: <br>\n        <tt>jupyter labextension install jupyterlab_3dmol</tt></p>\n        </div>\n<script>\n\nvar loadScriptAsync = function(uri){\n  return new Promise((resolve, reject) => {\n    //this is to ignore the existence of requirejs amd\n    var savedexports, savedmodule;\n    if (typeof exports !== 'undefined') savedexports = exports;\n    else exports = {}\n    if (typeof module !== 'undefined') savedmodule = module;\n    else module = {}\n\n    var tag = document.createElement('script');\n    tag.src = uri;\n    tag.async = true;\n    tag.onload = () => {\n        exports = savedexports;\n        module = savedmodule;\n        resolve();\n    };\n  var firstScriptTag = document.getElementsByTagName('script')[0];\n  firstScriptTag.parentNode.insertBefore(tag, firstScriptTag);\n});\n};\n\nif(typeof $3Dmolpromise === 'undefined') {\n$3Dmolpromise = null;\n  $3Dmolpromise = loadScriptAsync('https://cdnjs.cloudflare.com/ajax/libs/3Dmol/2.0.1/3Dmol-min.js');\n}\n\nvar viewer_16819487311621773 = null;\nvar warn = document.getElementById(\"3dmolwarning_16819487311621773\");\nif(warn) {\n    warn.parentNode.removeChild(warn);\n}\n$3Dmolpromise.then(function() {\nviewer_16819487311621773 = $3Dmol.createViewer(document.getElementById(\"3dmolviewer_16819487311621773\"),{backgroundColor:\"white\"});\nviewer_16819487311621773.zoomTo();\n\tviewer_16819487311621773.addModel(\"HEADER    Molecule\\nHETATM    1  H    0.000  0.000  0.000 MOL     1      0.000  0.000  0.000  1.00  0.00           C\\nHETATM    2  H    3.402  0.000  0.000 MOL     1      3.402  0.000  0.000  1.00  0.00           C\\nHETATM    3  H    1.701  0.000  2.946 MOL     1      1.701  0.000  2.946  1.00  0.00           C\\nHETATM    4  C    1.699  0.687  0.982 MOL     1      1.699  0.687  0.982  1.00  0.00           C\\nEND\\n\",\"pdb\");\n\tviewer_16819487311621773.setBackgroundColor(\"white\");\n\tviewer_16819487311621773.setStyle({\"stick\": {}});\n\tviewer_16819487311621773.zoomTo();\nviewer_16819487311621773.render();\n});\n</script>",
            "text/html": [
              "<div id=\"3dmolviewer_16819487311621773\"  style=\"position: relative; width: 640px; height: 480px\">\n",
              "        <p id=\"3dmolwarning_16819487311621773\" style=\"background-color:#ffcccc;color:black\">You appear to be running in JupyterLab (or JavaScript failed to load for some other reason).  You need to install the 3dmol extension: <br>\n",
              "        <tt>jupyter labextension install jupyterlab_3dmol</tt></p>\n",
              "        </div>\n",
              "<script>\n",
              "\n",
              "var loadScriptAsync = function(uri){\n",
              "  return new Promise((resolve, reject) => {\n",
              "    //this is to ignore the existence of requirejs amd\n",
              "    var savedexports, savedmodule;\n",
              "    if (typeof exports !== 'undefined') savedexports = exports;\n",
              "    else exports = {}\n",
              "    if (typeof module !== 'undefined') savedmodule = module;\n",
              "    else module = {}\n",
              "\n",
              "    var tag = document.createElement('script');\n",
              "    tag.src = uri;\n",
              "    tag.async = true;\n",
              "    tag.onload = () => {\n",
              "        exports = savedexports;\n",
              "        module = savedmodule;\n",
              "        resolve();\n",
              "    };\n",
              "  var firstScriptTag = document.getElementsByTagName('script')[0];\n",
              "  firstScriptTag.parentNode.insertBefore(tag, firstScriptTag);\n",
              "});\n",
              "};\n",
              "\n",
              "if(typeof $3Dmolpromise === 'undefined') {\n",
              "$3Dmolpromise = null;\n",
              "  $3Dmolpromise = loadScriptAsync('https://cdnjs.cloudflare.com/ajax/libs/3Dmol/2.0.1/3Dmol-min.js');\n",
              "}\n",
              "\n",
              "var viewer_16819487311621773 = null;\n",
              "var warn = document.getElementById(\"3dmolwarning_16819487311621773\");\n",
              "if(warn) {\n",
              "    warn.parentNode.removeChild(warn);\n",
              "}\n",
              "$3Dmolpromise.then(function() {\n",
              "viewer_16819487311621773 = $3Dmol.createViewer(document.getElementById(\"3dmolviewer_16819487311621773\"),{backgroundColor:\"white\"});\n",
              "viewer_16819487311621773.zoomTo();\n",
              "\tviewer_16819487311621773.addModel(\"HEADER    Molecule\\nHETATM    1  H    0.000  0.000  0.000 MOL     1      0.000  0.000  0.000  1.00  0.00           C\\nHETATM    2  H    3.402  0.000  0.000 MOL     1      3.402  0.000  0.000  1.00  0.00           C\\nHETATM    3  H    1.701  0.000  2.946 MOL     1      1.701  0.000  2.946  1.00  0.00           C\\nHETATM    4  C    1.699  0.687  0.982 MOL     1      1.699  0.687  0.982  1.00  0.00           C\\nEND\\n\",\"pdb\");\n",
              "\tviewer_16819487311621773.setBackgroundColor(\"white\");\n",
              "\tviewer_16819487311621773.setStyle({\"stick\": {}});\n",
              "\tviewer_16819487311621773.zoomTo();\n",
              "viewer_16819487311621773.render();\n",
              "});\n",
              "</script>"
            ]
          },
          "metadata": {}
        }
      ]
    },
    {
      "cell_type": "code",
      "source": [
        "with open('mol.pdb', 'r') as f:\n",
        "    contents = f.read()\n",
        "\n",
        "print(contents)"
      ],
      "metadata": {
        "id": "5h86Ni8D82fV",
        "outputId": "40b74371-f15c-475f-f836-9100944c815c",
        "colab": {
          "base_uri": "https://localhost:8080/"
        }
      },
      "execution_count": 7,
      "outputs": [
        {
          "output_type": "stream",
          "name": "stdout",
          "text": [
            "HEADER    Molecule\n",
            "HETATM    1  H    0.000  0.000  0.000 MOL     1      0.000  0.000  0.000  1.00  0.00           C\n",
            "HETATM    2  H    3.402  0.000  0.000 MOL     1      3.402  0.000  0.000  1.00  0.00           C\n",
            "HETATM    3  H    1.701  0.000  2.946 MOL     1      1.701  0.000  2.946  1.00  0.00           C\n",
            "HETATM    4  C    1.699  0.687  0.982 MOL     1      1.699  0.687  0.982  1.00  0.00           C\n",
            "END\n",
            "\n"
          ]
        }
      ]
    },
    {
      "cell_type": "code",
      "source": [],
      "metadata": {
        "id": "I1a2WKsA2s3e"
      },
      "execution_count": null,
      "outputs": []
    }
  ],
  "metadata": {
    "colab": {
      "provenance": [],
      "authorship_tag": "ABX9TyOmtvQvvT41C2Tv51qGRcff",
      "include_colab_link": true
    },
    "kernelspec": {
      "display_name": "Python 3",
      "name": "python3"
    },
    "language_info": {
      "name": "python"
    },
    "widgets": {
      "application/vnd.jupyter.widget-state+json": {
        "fa5171a875944fb8a5659a433a91d131": {
          "model_module": "@jupyter-widgets/controls",
          "model_name": "FloatTextModel",
          "model_module_version": "1.5.0",
          "state": {
            "_dom_classes": [],
            "_model_module": "@jupyter-widgets/controls",
            "_model_module_version": "1.5.0",
            "_model_name": "FloatTextModel",
            "_view_count": null,
            "_view_module": "@jupyter-widgets/controls",
            "_view_module_version": "1.5.0",
            "_view_name": "FloatTextView",
            "continuous_update": false,
            "description": "Dihedral Angle (degrees):",
            "description_tooltip": null,
            "disabled": false,
            "layout": "IPY_MODEL_22a9e14b1cd34c27888c9d17d3a61ca5",
            "step": null,
            "style": "IPY_MODEL_2a49ae1f1a2b419ca178ba692a0f3b40",
            "value": 35
          }
        },
        "22a9e14b1cd34c27888c9d17d3a61ca5": {
          "model_module": "@jupyter-widgets/base",
          "model_name": "LayoutModel",
          "model_module_version": "1.2.0",
          "state": {
            "_model_module": "@jupyter-widgets/base",
            "_model_module_version": "1.2.0",
            "_model_name": "LayoutModel",
            "_view_count": null,
            "_view_module": "@jupyter-widgets/base",
            "_view_module_version": "1.2.0",
            "_view_name": "LayoutView",
            "align_content": null,
            "align_items": null,
            "align_self": null,
            "border": null,
            "bottom": null,
            "display": null,
            "flex": null,
            "flex_flow": null,
            "grid_area": null,
            "grid_auto_columns": null,
            "grid_auto_flow": null,
            "grid_auto_rows": null,
            "grid_column": null,
            "grid_gap": null,
            "grid_row": null,
            "grid_template_areas": null,
            "grid_template_columns": null,
            "grid_template_rows": null,
            "height": null,
            "justify_content": null,
            "justify_items": null,
            "left": null,
            "margin": null,
            "max_height": null,
            "max_width": null,
            "min_height": null,
            "min_width": null,
            "object_fit": null,
            "object_position": null,
            "order": null,
            "overflow": null,
            "overflow_x": null,
            "overflow_y": null,
            "padding": null,
            "right": null,
            "top": null,
            "visibility": null,
            "width": null
          }
        },
        "2a49ae1f1a2b419ca178ba692a0f3b40": {
          "model_module": "@jupyter-widgets/controls",
          "model_name": "DescriptionStyleModel",
          "model_module_version": "1.5.0",
          "state": {
            "_model_module": "@jupyter-widgets/controls",
            "_model_module_version": "1.5.0",
            "_model_name": "DescriptionStyleModel",
            "_view_count": null,
            "_view_module": "@jupyter-widgets/base",
            "_view_module_version": "1.2.0",
            "_view_name": "StyleView",
            "description_width": ""
          }
        }
      }
    }
  },
  "nbformat": 4,
  "nbformat_minor": 0
}