{
  "cells": [
    {
      "cell_type": "markdown",
      "metadata": {
        "id": "view-in-github",
        "colab_type": "text"
      },
      "source": [
        "<a href=\"https://colab.research.google.com/github/alisterpage/CHEM3580-Jupyter-Notebooks/blob/main/twisting_carbenes.ipynb\" target=\"_parent\"><img src=\"https://colab.research.google.com/assets/colab-badge.svg\" alt=\"Open In Colab\"/></a>"
      ]
    },
    {
      "cell_type": "code",
      "execution_count": 20,
      "metadata": {
        "id": "kp6SqarFumzm"
      },
      "outputs": [],
      "source": [
        "!pip install pyscf pyberny py3Dmol fortecubeview pythreejs -q 2>&1 >/dev/null"
      ]
    },
    {
      "cell_type": "code",
      "execution_count": 25,
      "metadata": {
        "id": "P-tsQOfkuAt-"
      },
      "outputs": [],
      "source": [
        "import pyscf\n",
        "from pyscf import gto, scf, tools, lo, lib\n",
        "from pyscf.geomopt.berny_solver import optimize\n",
        "import py3Dmol\n",
        "import fortecubeview\n",
        "from google.colab import output\n",
        "output.enable_custom_widget_manager()\n",
        "import numpy as np\n",
        "#from __future__ import print_function\n",
        "#import sys\n",
        "#log = lib.logger.Logger(sys.stdout, 0)\n",
        "#log.verbose = 0\n"
      ]
    },
    {
      "cell_type": "code",
      "source": [
        "mol = gto.Mole()\n",
        "mol.atom = '''\n",
        "    C\n",
        "    H 1 1.1\n",
        "    H 1 1.1 2 109.5\n",
        "    H 1 1.1 2 109.5 3 120\n",
        "'''\n",
        "mol.basis = '6-31g(d)'\n",
        "mol.spin=1;\n",
        "mol.build();\n",
        "mf = scf.RHF(mol)\n",
        "mf.xc = 'b3lyp'\n",
        "\n",
        "# Optimize the geometry\n",
        "mol_eq = optimize(mf, maxsteps=100)\n",
        "#print(mol_eq.atom_coords())\n",
        "\n",
        "# Get the optimized energy\n",
        "mf = scf.RHF(mol)\n",
        "mf.xc = 'b3lyp'\n",
        "mf.scf()\n"
      ],
      "metadata": {
        "colab": {
          "base_uri": "https://localhost:8080/"
        },
        "id": "b1S5o567coDv",
        "outputId": "eaabfb32-68e8-4bba-f3d2-4e8a011aa023"
      },
      "execution_count": 26,
      "outputs": [
        {
          "output_type": "stream",
          "name": "stderr",
          "text": [
            "INFO:pyscf.geomopt.berny_solver.139863245647936:0 Internal coordinates:\n",
            "INFO:pyscf.geomopt.berny_solver.139863245647936:0 * Number of fragments: 1\n",
            "INFO:pyscf.geomopt.berny_solver.139863245647936:0 * Number of internal coordinates: 6\n",
            "INFO:pyscf.geomopt.berny_solver.139863245647936:0 * Number of strong bonds: 3\n",
            "INFO:pyscf.geomopt.berny_solver.139863245647936:0 * Number of strong angles: 3\n"
          ]
        },
        {
          "output_type": "stream",
          "name": "stdout",
          "text": [
            "\n",
            "Geometry optimization cycle 1\n",
            "Cartesian coordinates (Angstrom)\n",
            " Atom        New coordinates             dX        dY        dZ\n",
            "   C   0.000000   0.000000   0.000000    0.000000  0.000000  0.000000\n",
            "   H   1.100000   0.000000   0.000000    0.000000  0.000000  0.000000\n",
            "   H  -0.367188   0.000000   1.036906    0.000000  0.000000  0.000000\n",
            "   H  -0.367188   0.897987  -0.518453    0.000000  0.000000  0.000000\n",
            "converged SCF energy = -39.5454868007801\n",
            "--------------- SCF_Scanner gradients ---------------\n",
            "         x                y                z\n",
            "0 C    -0.0175293204    -0.0431944078    -0.0249383030\n",
            "1 H     0.0130335764     0.0121859067     0.0070355365\n",
            "2 H     0.0022478720     0.0122429619     0.0146001008\n",
            "3 H     0.0022478720     0.0187655392     0.0033026656\n",
            "----------------------------------------------\n",
            "cycle 1: E = -39.5454868008  dE = -39.5455  norm(grad) = 0.0624422\n"
          ]
        },
        {
          "output_type": "stream",
          "name": "stderr",
          "text": [
            "INFO:pyscf.geomopt.berny_solver.139863245647936:1 Energy: -39.5454868008\n",
            "INFO:pyscf.geomopt.berny_solver.139863245647936:1 Pure RFO step was performed:\n",
            "INFO:pyscf.geomopt.berny_solver.139863245647936:1 * Trust radius: 0.3\n",
            "INFO:pyscf.geomopt.berny_solver.139863245647936:1 * Number of negative eigenvalues: 0\n",
            "INFO:pyscf.geomopt.berny_solver.139863245647936:1 * Lowest eigenvalue: 0.164\n",
            "INFO:pyscf.geomopt.berny_solver.139863245647936:1 * lambda: -0.0154\n",
            "INFO:pyscf.geomopt.berny_solver.139863245647936:1 Quadratic step: RMS: 0.117, max: 0.164\n",
            "INFO:pyscf.geomopt.berny_solver.139863245647936:1 * Predicted energy change: -0.00835\n",
            "INFO:pyscf.geomopt.berny_solver.139863245647936:1 Total step: RMS: 0.117, max: 0.164\n",
            "INFO:pyscf.geomopt.berny_solver.139863245647936:1 Perfect transformation to cartesians in 19 iterations\n",
            "INFO:pyscf.geomopt.berny_solver.139863245647936:1 * RMS(dcart): 9.2e-07, RMS(dq): 1.13e-06\n",
            "INFO:pyscf.geomopt.berny_solver.139863245647936:1 Convergence criteria:\n",
            "INFO:pyscf.geomopt.berny_solver.139863245647936:1 * Gradient RMS: 0.0227 > 0.00015 => no\n",
            "INFO:pyscf.geomopt.berny_solver.139863245647936:1 * Gradient maximum: 0.0294 > 0.00045 => no\n",
            "INFO:pyscf.geomopt.berny_solver.139863245647936:1 * Step RMS: 0.117 > 0.0012 => no\n",
            "INFO:pyscf.geomopt.berny_solver.139863245647936:1 * Step maximum: 0.164 > 0.0018 => no\n"
          ]
        },
        {
          "output_type": "stream",
          "name": "stdout",
          "text": [
            "\n",
            "Geometry optimization cycle 2\n",
            "Cartesian coordinates (Angstrom)\n",
            " Atom        New coordinates             dX        dY        dZ\n",
            "   C   0.062224   0.152884   0.088268    0.062224  0.152884  0.088268\n",
            "   H   1.118982  -0.063113  -0.036438    0.018982 -0.063113 -0.036438\n",
            "   H  -0.407791  -0.063314   1.042909   -0.040603 -0.063314  0.006004\n",
            "   H  -0.407791   0.871529  -0.576286   -0.040603 -0.026458 -0.057833\n",
            "\n",
            "WARN: Large deviations found between the input molecule and the molecule from chkfile\n",
            "Initial guess density matrix may have large error.\n",
            "\n",
            "converged SCF energy = -39.5541244263193\n",
            "--------------- SCF_Scanner gradients ---------------\n",
            "         x                y                z\n",
            "0 C    -0.0011389066    -0.0028716497    -0.0016579477\n",
            "1 H     0.0096969994    -0.0018960245    -0.0010946702\n",
            "2 H    -0.0042790464    -0.0018941239     0.0087859548\n",
            "3 H    -0.0042790464     0.0066617981    -0.0060333368\n",
            "----------------------------------------------\n",
            "cycle 2: E = -39.5541244263  dE = -0.00863763  norm(grad) = 0.0175869\n"
          ]
        },
        {
          "output_type": "stream",
          "name": "stderr",
          "text": [
            "INFO:pyscf.geomopt.berny_solver.139863245647936:2 Energy: -39.5541244263\n",
            "INFO:pyscf.geomopt.berny_solver.139863245647936:2 Hessian update information:\n",
            "INFO:pyscf.geomopt.berny_solver.139863245647936:2 * Change: RMS: 0.014, max: 0.0178\n",
            "INFO:pyscf.geomopt.berny_solver.139863245647936:2 Trust update: Fletcher's parameter: 1.03\n",
            "INFO:pyscf.geomopt.berny_solver.139863245647936:2 Linear interpolation:\n",
            "INFO:pyscf.geomopt.berny_solver.139863245647936:2 * Energies: -39.554124, -39.545487\n",
            "INFO:pyscf.geomopt.berny_solver.139863245647936:2 * Derivatives: 0.00107, 0.0154\n",
            "INFO:pyscf.geomopt.berny_solver.139863245647936:2 * Quartic interpolation was performed: t = -0.0632\n",
            "INFO:pyscf.geomopt.berny_solver.139863245647936:2 * Interpolated energy: -39.554158\n",
            "INFO:pyscf.geomopt.berny_solver.139863245647936:2 Pure RFO step was performed:\n",
            "INFO:pyscf.geomopt.berny_solver.139863245647936:2 * Trust radius: 0.3\n",
            "INFO:pyscf.geomopt.berny_solver.139863245647936:2 * Number of negative eigenvalues: 0\n",
            "INFO:pyscf.geomopt.berny_solver.139863245647936:2 * Lowest eigenvalue: 0.164\n",
            "INFO:pyscf.geomopt.berny_solver.139863245647936:2 * lambda: -0.000651\n",
            "INFO:pyscf.geomopt.berny_solver.139863245647936:2 Quadratic step: RMS: 0.0157, max: 0.0222\n",
            "INFO:pyscf.geomopt.berny_solver.139863245647936:2 * Predicted energy change: -0.000326\n",
            "INFO:pyscf.geomopt.berny_solver.139863245647936:2 Total step: RMS: 0.0182, max: 0.0239\n",
            "INFO:pyscf.geomopt.berny_solver.139863245647936:2 Perfect transformation to cartesians in 8 iterations\n",
            "INFO:pyscf.geomopt.berny_solver.139863245647936:2 * RMS(dcart): 2.95e-07, RMS(dq): 2.42e-07\n",
            "INFO:pyscf.geomopt.berny_solver.139863245647936:2 Convergence criteria:\n",
            "INFO:pyscf.geomopt.berny_solver.139863245647936:2 * Gradient RMS: 0.00705 > 0.00015 => no\n",
            "INFO:pyscf.geomopt.berny_solver.139863245647936:2 * Gradient maximum: 0.00995 > 0.00045 => no\n",
            "INFO:pyscf.geomopt.berny_solver.139863245647936:2 * Step RMS: 0.0182 > 0.0012 => no\n",
            "INFO:pyscf.geomopt.berny_solver.139863245647936:2 * Step maximum: 0.0239 > 0.0018 => no\n"
          ]
        },
        {
          "output_type": "stream",
          "name": "stdout",
          "text": [
            "\n",
            "Geometry optimization cycle 3\n",
            "Cartesian coordinates (Angstrom)\n",
            " Atom        New coordinates             dX        dY        dZ\n",
            "   C   0.070871   0.174156   0.100549    0.008648  0.021272  0.012282\n",
            "   H   1.107148  -0.067463  -0.038950   -0.011834 -0.004350 -0.002512\n",
            "   H  -0.406197  -0.067690   1.030948    0.001593 -0.004376 -0.011961\n",
            "   H  -0.406197   0.858983  -0.574095    0.001593 -0.012547  0.002191\n",
            "\n",
            "WARN: Large deviations found between the input molecule and the molecule from chkfile\n",
            "Initial guess density matrix may have large error.\n",
            "\n",
            "converged SCF energy = -39.5545238996272\n",
            "--------------- SCF_Scanner gradients ---------------\n",
            "         x                y                z\n",
            "0 C    -0.0000237716    -0.0000774354    -0.0000447074\n",
            "1 H     0.0009803684    -0.0002721193    -0.0001571082\n",
            "2 H    -0.0004782984    -0.0002731278     0.0008767024\n",
            "3 H    -0.0004782984     0.0006226826    -0.0006748868\n",
            "----------------------------------------------\n",
            "cycle 3: E = -39.5545238996  dE = -0.000399473  norm(grad) = 0.00179231\n"
          ]
        },
        {
          "output_type": "stream",
          "name": "stderr",
          "text": [
            "INFO:pyscf.geomopt.berny_solver.139863245647936:3 Energy: -39.5545238996\n",
            "INFO:pyscf.geomopt.berny_solver.139863245647936:3 Hessian update information:\n",
            "INFO:pyscf.geomopt.berny_solver.139863245647936:3 * Change: RMS: 0.00882, max: 0.0163\n",
            "INFO:pyscf.geomopt.berny_solver.139863245647936:3 Trust update: Fletcher's parameter: 1.23\n",
            "INFO:pyscf.geomopt.berny_solver.139863245647936:3 Linear interpolation:\n",
            "INFO:pyscf.geomopt.berny_solver.139863245647936:3 * Energies: -39.554524, -39.554124\n",
            "INFO:pyscf.geomopt.berny_solver.139863245647936:3 * Derivatives: 6.29e-05, 0.000728\n",
            "INFO:pyscf.geomopt.berny_solver.139863245647936:3 * Quartic interpolation was performed: t = -0.091\n",
            "INFO:pyscf.geomopt.berny_solver.139863245647936:3 * Interpolated energy: -39.554527\n",
            "INFO:pyscf.geomopt.berny_solver.139863245647936:3 Pure RFO step was performed:\n",
            "INFO:pyscf.geomopt.berny_solver.139863245647936:3 * Trust radius: 0.3\n",
            "INFO:pyscf.geomopt.berny_solver.139863245647936:3 * Number of negative eigenvalues: 0\n",
            "INFO:pyscf.geomopt.berny_solver.139863245647936:3 * Lowest eigenvalue: 0.164\n",
            "INFO:pyscf.geomopt.berny_solver.139863245647936:3 * lambda: -3.48e-06\n",
            "INFO:pyscf.geomopt.berny_solver.139863245647936:3 Quadratic step: RMS: 0.0017, max: 0.00238\n",
            "INFO:pyscf.geomopt.berny_solver.139863245647936:3 * Predicted energy change: -1.74e-06\n",
            "INFO:pyscf.geomopt.berny_solver.139863245647936:3 Total step: RMS: 0.00206, max: 0.00251\n",
            "INFO:pyscf.geomopt.berny_solver.139863245647936:3 Perfect transformation to cartesians in 4 iterations\n",
            "INFO:pyscf.geomopt.berny_solver.139863245647936:3 * RMS(dcart): 2.85e-07, RMS(dq): 2.46e-07\n",
            "INFO:pyscf.geomopt.berny_solver.139863245647936:3 Convergence criteria:\n",
            "INFO:pyscf.geomopt.berny_solver.139863245647936:3 * Gradient RMS: 0.000776 > 0.00015 => no\n",
            "INFO:pyscf.geomopt.berny_solver.139863245647936:3 * Gradient maximum: 0.00103 > 0.00045 => no\n",
            "INFO:pyscf.geomopt.berny_solver.139863245647936:3 * Step RMS: 0.00206 > 0.0012 => no\n",
            "INFO:pyscf.geomopt.berny_solver.139863245647936:3 * Step maximum: 0.00251 > 0.0018 => no\n"
          ]
        },
        {
          "output_type": "stream",
          "name": "stdout",
          "text": [
            "\n",
            "Geometry optimization cycle 4\n",
            "Cartesian coordinates (Angstrom)\n",
            " Atom        New coordinates             dX        dY        dZ\n",
            "   C   0.069438   0.170654   0.098527   -0.001434 -0.003502 -0.002022\n",
            "   H   1.105943  -0.065780  -0.037978   -0.001205  0.001683  0.000971\n",
            "   H  -0.404878  -0.066008   1.030137    0.001319  0.001682 -0.000812\n",
            "   H  -0.404878   0.859120  -0.572233    0.001319  0.000138  0.001862\n",
            "converged SCF energy = -39.5545280627596\n",
            "--------------- SCF_Scanner gradients ---------------\n",
            "         x                y                z\n",
            "0 C    -0.0000068480    -0.0000189449    -0.0000109378\n",
            "1 H    -0.0000761899     0.0000302870     0.0000174862\n",
            "2 H     0.0000415189     0.0000301732    -0.0000653582\n",
            "3 H     0.0000415189    -0.0000415153     0.0000588099\n",
            "----------------------------------------------\n",
            "cycle 4: E = -39.5545280628  dE = -4.16313e-06  norm(grad) = 0.000146169\n"
          ]
        },
        {
          "output_type": "stream",
          "name": "stderr",
          "text": [
            "INFO:pyscf.geomopt.berny_solver.139863245647936:4 Energy: -39.5545280628\n",
            "INFO:pyscf.geomopt.berny_solver.139863245647936:4 Hessian update information:\n",
            "INFO:pyscf.geomopt.berny_solver.139863245647936:4 * Change: RMS: 0.00812, max: 0.00975\n",
            "INFO:pyscf.geomopt.berny_solver.139863245647936:4 Trust update: Fletcher's parameter: 2.39\n",
            "INFO:pyscf.geomopt.berny_solver.139863245647936:4 Linear interpolation:\n",
            "INFO:pyscf.geomopt.berny_solver.139863245647936:4 * Energies: -39.554528, -39.554524\n",
            "INFO:pyscf.geomopt.berny_solver.139863245647936:4 * Derivatives: -1.08e-06, 9.41e-06\n",
            "INFO:pyscf.geomopt.berny_solver.139863245647936:4 * Quartic interpolation was performed: t = 0.103\n",
            "INFO:pyscf.geomopt.berny_solver.139863245647936:4 * Interpolated energy: -39.554528\n",
            "INFO:pyscf.geomopt.berny_solver.139863245647936:4 Pure RFO step was performed:\n",
            "INFO:pyscf.geomopt.berny_solver.139863245647936:4 * Trust radius: 0.3\n",
            "INFO:pyscf.geomopt.berny_solver.139863245647936:4 * Number of negative eigenvalues: 0\n",
            "INFO:pyscf.geomopt.berny_solver.139863245647936:4 * Lowest eigenvalue: 0.164\n",
            "INFO:pyscf.geomopt.berny_solver.139863245647936:4 * lambda: -6.31e-08\n",
            "INFO:pyscf.geomopt.berny_solver.139863245647936:4 Quadratic step: RMS: 0.000236, max: 0.000307\n",
            "INFO:pyscf.geomopt.berny_solver.139863245647936:4 * Predicted energy change: -3.15e-08\n",
            "INFO:pyscf.geomopt.berny_solver.139863245647936:4 Total step: RMS: 0.000336, max: 0.000459\n",
            "INFO:pyscf.geomopt.berny_solver.139863245647936:4 Perfect transformation to cartesians in 3 iterations\n",
            "INFO:pyscf.geomopt.berny_solver.139863245647936:4 * RMS(dcart): 8.34e-08, RMS(dq): 7.08e-08\n",
            "INFO:pyscf.geomopt.berny_solver.139863245647936:4 Convergence criteria:\n",
            "INFO:pyscf.geomopt.berny_solver.139863245647936:4 * Gradient RMS: 9.36e-05 < 0.00015 => OK\n",
            "INFO:pyscf.geomopt.berny_solver.139863245647936:4 * Gradient maximum: 0.000104 < 0.00045 => OK\n",
            "INFO:pyscf.geomopt.berny_solver.139863245647936:4 * Step RMS: 0.000336 < 0.0012 => OK\n",
            "INFO:pyscf.geomopt.berny_solver.139863245647936:4 * Step maximum: 0.000459 < 0.0018 => OK\n",
            "INFO:pyscf.geomopt.berny_solver.139863245647936:4 * All criteria matched\n"
          ]
        },
        {
          "output_type": "stream",
          "name": "stdout",
          "text": [
            "converged SCF energy = -39.5454868007802\n"
          ]
        },
        {
          "output_type": "execute_result",
          "data": {
            "text/plain": [
              "-39.545486800780175"
            ]
          },
          "metadata": {},
          "execution_count": 26
        }
      ]
    },
    {
      "cell_type": "code",
      "source": [
        "def compute_dihedral_angle(a, b, c, d):\n",
        "    # Compute the vectors between the atoms\n",
        "    ab = np.subtract(b,a)\n",
        "    bc = np.subtract(c,b)\n",
        "    cd = np.subtract(d,c)\n",
        "    \n",
        "    # Compute the normal vectors to the planes formed by the vectors\n",
        "    n1 = np.cross(ab, bc)\n",
        "    n2 = np.cross(bc, cd)\n",
        "    \n",
        "    # Compute the dihedral angle using the dot product and cross product\n",
        "    dihedral_angle = np.arctan2(np.dot(n1, cd), np.dot(n1, n2)) * 180 / np.pi\n",
        "    \n",
        "    return dihedral_angle\n",
        "\n",
        "# Define the atomic coordinates\n",
        "xyz = mol.atom_coords()\n",
        "c = np.array([xyz[0][1], xyz[0][2], xyz[0][2]])\n",
        "h1 = np.array([xyz[1][1], xyz[1][2], xyz[1][2]])\n",
        "h2 = np.array([xyz[2][1], xyz[2][2], xyz[2][2]])\n",
        "h3 = np.array([xyz[3][1], xyz[3][2], xyz[3][2]])\n",
        "\n",
        "# Compute the dihedral angle\n",
        "dihedral_angle = compute_dihedral_angle(h1,h2,h3,c)\n",
        "\n",
        "# Print the dihedral angle\n",
        "print(\"Dihedral angle:\", dihedral_angle,\"deg.\\n\")\n",
        "\n",
        "print('Final Energy:', mf.e_tot,\"Hartree\\n\")\n",
        "print('Final coordinates (Angstroms)\\n',mol_eq.atom_coords())"
      ],
      "metadata": {
        "colab": {
          "base_uri": "https://localhost:8080/"
        },
        "id": "nTnry5TZdc-i",
        "outputId": "30b79623-d67a-400d-83da-2742ccd2a044"
      },
      "execution_count": 35,
      "outputs": [
        {
          "output_type": "stream",
          "name": "stdout",
          "text": [
            "Dihedral angle: 0.0 deg.\n",
            "\n",
            "Final Energy: -39.545486800780175 Hartree\n",
            "\n",
            "Final coordinates (Angstroms)\n",
            " [[ 0.13121854  0.32249009  0.18618974]\n",
            " [ 2.08992957 -0.12430654 -0.07176841]\n",
            " [-0.76510858 -0.12473705  1.94667593]\n",
            " [-0.76510858  1.62350229 -1.08136342]]\n"
          ]
        }
      ]
    },
    {
      "cell_type": "code",
      "execution_count": 31,
      "metadata": {
        "id": "HA2zdpXG0hJQ",
        "colab": {
          "base_uri": "https://localhost:8080/"
        },
        "outputId": "65efd769-0592-45eb-95fe-43350c648c10"
      },
      "outputs": [
        {
          "output_type": "stream",
          "name": "stdout",
          "text": [
            " Iterative localization: IB/P4/2x2, 6 iter; Final gradient 9.74e-10\n",
            " Iterative localization: IB/P4/2x2, 8 iter; Final gradient 7.14e-10\n"
          ]
        }
      ],
      "source": [
        "def get_mo(mf, mol):\n",
        "    \"\"\"Get molecular orbitals\"\"\"\n",
        "    orbitals = {\"canonical\": mf.mo_coeff}\n",
        "\n",
        "    # Get intrinsic bonding orbitals and localized intrinsic valence virtual orbitals (livvo):\n",
        "    orbocc = mf.mo_coeff[:, 0 : mol.nelec[0]]\n",
        "    orbvirt = mf.mo_coeff[:, mol.nelec[0] :]\n",
        "\n",
        "    ovlpS = mol.intor_symmetric(\"int1e_ovlp\")\n",
        "\n",
        "    iaos = lo.iao.iao(mol, orbocc)\n",
        "    iaos = lo.orth.vec_lowdin(iaos, ovlpS)\n",
        "    ibos = lo.ibo.ibo(mol, orbocc, locmethod=\"IBO\")\n",
        "    orbitals[\"ibo\"] = ibos\n",
        "\n",
        "    livvo = lo.vvo.livvo(mol, orbocc, orbvirt)\n",
        "    orbitals[\"livvo\"] = livvo\n",
        "    return orbitals\n",
        "\n",
        "orbitals = get_mo(mf, mol_eq);"
      ]
    },
    {
      "cell_type": "code",
      "execution_count": 32,
      "metadata": {
        "id": "xxFUUXJFS7X7"
      },
      "outputs": [],
      "source": [
        "def find_homo_lumo(mf):\n",
        "    lumo = float(\"inf\")\n",
        "    lumo_idx = None\n",
        "    homo = -float(\"inf\")\n",
        "    homo_idx = None\n",
        "    for i, (energy, occ) in enumerate(zip(mf.mo_energy, mf.mo_occ)):\n",
        "        if occ > 0 and energy > homo:\n",
        "            homo = energy\n",
        "            homo_idx = i\n",
        "        if occ == 0 and energy < lumo:\n",
        "            lumo = energy\n",
        "            lumo_idx = i\n",
        "\n",
        "    return homo, homo_idx, lumo, lumo_idx\n",
        "\n",
        "_, homo_idx, _, lumo_idx = find_homo_lumo(mf)"
      ]
    },
    {
      "cell_type": "code",
      "execution_count": 33,
      "metadata": {
        "id": "ZQDoNq1aVtvi"
      },
      "outputs": [],
      "source": [
        "tools.cubegen.orbital(\n",
        "    mol, \"opt.cube\", orbitals[\"canonical\"][:, homo_idx], margin=5,nx=10,ny=10,nz=10\n",
        ");"
      ]
    },
    {
      "cell_type": "code",
      "execution_count": 34,
      "metadata": {
        "colab": {
          "base_uri": "https://localhost:8080/",
          "height": 497
        },
        "id": "XHY5N_JjSMM1",
        "outputId": "ab5a7e36-ae75-4b0d-fb2f-087f25af1737"
      },
      "outputs": [
        {
          "output_type": "display_data",
          "data": {
            "application/3dmoljs_load.v0": "<div id=\"3dmolviewer_16753987067236004\"  style=\"position: relative; width: 640px; height: 480px\">\n        <p id=\"3dmolwarning_16753987067236004\" style=\"background-color:#ffcccc;color:black\">You appear to be running in JupyterLab (or JavaScript failed to load for some other reason).  You need to install the 3dmol extension: <br>\n        <tt>jupyter labextension install jupyterlab_3dmol</tt></p>\n        </div>\n<script>\n\nvar loadScriptAsync = function(uri){\n  return new Promise((resolve, reject) => {\n    //this is to ignore the existence of requirejs amd\n    var savedexports, savedmodule;\n    if (typeof exports !== 'undefined') savedexports = exports;\n    else exports = {}\n    if (typeof module !== 'undefined') savedmodule = module;\n    else module = {}\n\n    var tag = document.createElement('script');\n    tag.src = uri;\n    tag.async = true;\n    tag.onload = () => {\n        exports = savedexports;\n        module = savedmodule;\n        resolve();\n    };\n  var firstScriptTag = document.getElementsByTagName('script')[0];\n  firstScriptTag.parentNode.insertBefore(tag, firstScriptTag);\n});\n};\n\nif(typeof $3Dmolpromise === 'undefined') {\n$3Dmolpromise = null;\n  $3Dmolpromise = loadScriptAsync('https://cdn.jsdelivr.net/npm/3dmol@latest/build/3Dmol-min.min.js');\n}\n\nvar viewer_16753987067236004 = null;\nvar warn = document.getElementById(\"3dmolwarning_16753987067236004\");\nif(warn) {\n    warn.parentNode.removeChild(warn);\n}\n$3Dmolpromise.then(function() {\nviewer_16753987067236004 = $3Dmol.createViewer(document.getElementById(\"3dmolviewer_16753987067236004\"),{backgroundColor:\"white\"});\nviewer_16753987067236004.zoomTo();\n\tviewer_16753987067236004.addVolumetricData(\"Orbital value in real space (1/Bohr^3)\\nPySCF Version: 2.1.1  Date: Fri Feb  3 04:31:44 2023\\n    4   -5.693884   -5.000000   -5.979734\\n   10    1.419176    0.000000    0.000000\\n   10    0.000000    1.299661    0.000000\\n   10    0.000000    0.000000    1.437689\\n    6    0.000000    0.000000    0.000000    0.000000\\n    1    0.000000    2.078699    0.000000    0.000000\\n    1    0.000000   -0.693884    0.000000    1.959468\\n    1    0.000000   -0.693884    1.696949   -0.979734\\n -9.89829E-08 -1.18993E-06 -7.03231E-06 -2.03517E-05 -2.84295E-05 -1.82653E-05\\n -4.34567E-06  3.46182E-07  3.28124E-07  5.54464E-08\\n -5.77066E-07 -6.94475E-06 -4.08201E-05 -1.16868E-04 -1.60415E-04 -9.97299E-05\\n -2.12095E-05  3.35100E-06  2.15900E-06  3.50030E-07\\n -1.80323E-06 -2.19854E-05 -1.29054E-04 -3.65067E-04 -4.88753E-04 -2.87492E-04\\n -4.74572E-05  1.78692E-05  8.34595E-06  1.28717E-06\\n -2.79582E-06 -3.59965E-05 -2.14493E-04 -6.00828E-04 -7.74990E-04 -4.09902E-04\\n -2.46498E-05  5.18590E-05  1.88306E-05  2.75268E-06\\n -1.46592E-06 -2.55320E-05 -1.67118E-04 -4.73092E-04 -5.71536E-04 -2.23608E-04\\n  7.32553E-05  8.23968E-05  2.46511E-05  3.41736E-06\\n  1.24335E-06  1.71150E-06 -2.52203E-05 -9.92177E-05 -8.81845E-05  6.29468E-05\\n  1.30939E-04  7.24392E-05  1.86458E-05  2.45897E-06\\n  2.15484E-06  1.39597E-05  4.68087E-05  9.12773E-05  1.26185E-04  1.31003E-04\\n  8.90062E-05  3.57020E-05  8.13637E-06  1.02451E-06\\n  1.23948E-06  8.89335E-06  3.35964E-05  6.95113E-05  8.37660E-05  6.29759E-05\\n  3.09820E-05  1.00354E-05  2.05281E-06  2.47207E-07\\n  3.64655E-07  2.66995E-06  1.02168E-05  2.08281E-05  2.33522E-05  1.51380E-05\\n  6.10195E-06  1.64877E-06  3.01791E-07  3.46190E-08\\n  5.97890E-08  4.38590E-07  1.66979E-06  3.33286E-06  3.55026E-06  2.08674E-06\\n  7.22506E-07  1.63799E-07  2.62745E-08  2.82928E-09\\n -1.03153E-06 -1.23214E-05 -7.24585E-05 -2.09100E-04 -2.92952E-04 -1.92637E-04\\n -5.20458E-05 -9.77295E-07  2.06916E-06  3.85326E-07\\n -6.02637E-06 -7.17351E-05 -4.18192E-04 -1.19054E-03 -1.63481E-03 -1.03926E-03\\n -2.56896E-04  7.75915E-06  1.42614E-05  2.46172E-06\\n -1.90630E-05 -2.27566E-04 -1.31611E-03 -3.68314E-03 -4.91179E-03 -2.94922E-03\\n -6.02848E-04  9.29320E-05  5.78190E-05  9.17531E-06\\n -3.09818E-05 -3.79387E-04 -2.19187E-03 -6.00844E-03 -7.65253E-03 -4.10536E-03\\n -4.46346E-04  3.53779E-04  1.36288E-04  1.98963E-05\\n -2.10815E-05 -2.95223E-04 -1.76632E-03 -4.73416E-03 -5.49258E-03 -2.10763E-03\\n  5.57444E-04  6.39088E-04  1.85134E-04  2.50288E-05\\n  3.49109E-06 -4.07240E-05 -4.15269E-04 -1.12818E-03 -7.82136E-04  7.34899E-04\\n  1.20623E-03  6.00815E-04  1.44161E-04  1.82199E-05\\n  1.40288E-05  8.86694E-05  3.04485E-04  6.86439E-04  1.15628E-03  1.29377E-03\\n  8.38049E-04  3.06463E-04  6.42395E-05  7.66256E-06\\n  8.70977E-06  6.31623E-05  2.46821E-04  5.46947E-04  7.22921E-04  5.83051E-04\\n  2.87251E-04  8.71993E-05  1.64183E-05  1.86126E-06\\n  2.60460E-06  1.92719E-05  7.54611E-05  1.60342E-04  1.90805E-04  1.31470E-04\\n  5.44602E-05  1.42307E-05  2.42490E-06  2.61602E-07\\n  4.28025E-07  3.16218E-06  1.22094E-05  2.49803E-05  2.76349E-05  1.70184E-05\\n  6.11266E-06  1.37934E-06  2.10190E-07  2.13880E-08\\n -5.41341E-06 -6.42806E-05 -3.75980E-04 -1.08003E-03 -1.51060E-03 -1.00278E-03\\n -2.87985E-04 -1.85530E-05  6.59258E-06  1.39716E-06\\n -3.15660E-05 -3.72240E-04 -2.15212E-03 -6.08273E-03 -8.31633E-03 -5.31748E-03\\n -1.40326E-03 -3.48612E-05  4.91838E-05  9.08605E-06\\n -1.00158E-04 -1.17606E-03 -6.71141E-03 -1.86539E-02 -2.48878E-02 -1.48087E-02\\n -3.21622E-03  2.44622E-04  2.13995E-04  3.45193E-05\\n -1.66160E-04 -1.96606E-03 -1.10968E-02 -3.06737E-02 -4.03795E-02 -2.01106E-02\\n -1.90434E-03  1.42532E-03  5.34203E-04  7.62730E-05\\n -1.25681E-04 -1.58459E-03 -8.93579E-03 -2.36979E-02 -2.78061E-02 -7.87432E-03\\n  4.04878E-03  2.90503E-03  7.57912E-04  9.75997E-05\\n -9.37040E-06 -3.55446E-04 -2.26815E-03 -4.35675E-03 -8.11942E-04  6.46923E-03\\n  6.82155E-03  2.82721E-03  6.08628E-04  7.20753E-05\\n  4.74709E-05  3.01567E-04  1.18491E-03  3.66145E-03  6.90249E-03  7.44439E-03\\n  4.45945E-03  1.46502E-03  2.76819E-04  3.06489E-05\\n  3.22496E-05  2.40046E-04  9.97339E-04  2.44655E-03  3.55942E-03  3.02331E-03\\n  1.47499E-03  4.17873E-04  7.15555E-05  7.50023E-06\\n  9.78319E-06  7.37537E-05  2.99474E-04  6.74171E-04  8.61355E-04  6.31127E-04\\n  2.67280E-04  6.73346E-05  1.05940E-05  1.05798E-06\\n  1.60718E-06  1.20120E-05  4.73897E-05  1.00441E-04  1.16701E-04  7.58566E-05\\n  2.82926E-05  6.34008E-06  9.11724E-07  8.64611E-08\\n -1.42985E-05 -1.68796E-04 -9.81342E-04 -2.80159E-03 -3.89798E-03 -2.58793E-03\\n -7.63411E-04 -6.66228E-05  1.07451E-05  2.65969E-06\\n -8.29717E-05 -9.69828E-04 -5.55813E-03 -1.56026E-02 -2.12399E-02 -1.34577E-02\\n -3.61047E-03 -1.77789E-04  9.09702E-05  1.77339E-05\\n -2.62420E-04 -3.03682E-03 -1.71587E-02 -4.94775E-02 -7.10302E-02 -3.89263E-02\\n -7.60934E-03  4.39879E-04  4.33982E-04  6.90966E-05\\n -4.37349E-04 -5.03555E-03 -2.83748E-02 -9.73389E-02 -1.69084E-01 -5.99715E-02\\n  1.33829E-03  3.78695E-03  1.15568E-03  1.56287E-04\\n -3.45086E-04 -4.06358E-03 -2.23436E-02 -7.55662E-02 -1.09428E-01  2.50736E-03\\n  2.56100E-02  8.16796E-03  1.71170E-03  2.04045E-04\\n -6.10161E-05 -1.02190E-03 -4.56897E-03  2.56417E-03  2.79762E-02  4.05709E-02\\n  2.40557E-02  7.57601E-03  1.41055E-03  1.53119E-04\\n  8.60103E-05  5.91362E-04  3.20423E-03  1.53803E-02  2.76296E-02  2.46182E-02\\n  1.30695E-02  3.85316E-03  6.51756E-04  6.58782E-05\\n  6.36103E-05  4.96990E-04  2.26926E-03  6.37686E-03  9.94714E-03  8.56966E-03\\n  4.10190E-03  1.09027E-03  1.69744E-04  1.62399E-05\\n  1.94202E-05  1.50836E-04  6.44737E-04  1.55802E-03  2.14050E-03  1.65275E-03\\n  7.10138E-04  1.72735E-04  2.51149E-05  2.29756E-06\\n  3.17297E-06  2.41377E-05  9.81940E-05  2.17895E-04  2.68015E-04  1.84103E-04\\n  7.10361E-05  1.57836E-05  2.14065E-06  1.87467E-07\\n -1.89381E-05 -2.22221E-04 -1.28293E-03 -3.63284E-03 -5.00906E-03 -3.29865E-03\\n -9.75917E-04 -9.45326E-05  9.51116E-06  2.69256E-06\\n -1.09058E-04 -1.26330E-03 -7.16737E-03 -1.99408E-02 -2.69143E-02 -1.66782E-02\\n -4.38469E-03 -2.37114E-04  9.50375E-05  1.85368E-05\\n -3.41917E-04 -3.90011E-03 -2.17987E-02 -6.55849E-02 -1.00389E-01 -4.95794E-02\\n -8.12607E-03  7.09863E-04  4.97271E-04  7.44249E-05\\n -5.65299E-04 -6.34395E-03 -3.57557E-02 -1.48620E-01 -3.28830E-01 -7.44167E-02\\n  6.95005E-03  5.47515E-03  1.39628E-03  1.72758E-04\\n -4.47384E-04 -4.97477E-03 -2.67767E-02 -1.05568E-01  9.84906E-02  1.01532E-01\\n  4.43507E-02  1.15947E-02  2.13319E-03  2.30308E-04\\n -9.36272E-05 -1.16828E-03 -3.72950E-03  1.69243E-02  1.13425E-01  1.07849E-01\\n  4.03264E-02  1.08205E-02  1.79011E-03  1.75561E-04\\n  8.87767E-05  7.26716E-04  4.78540E-03  2.37140E-02  4.82353E-02  4.26775E-02\\n  2.02763E-02  5.46679E-03  8.34822E-04  7.63494E-05\\n  6.79638E-05  5.71662E-04  2.88718E-03  8.84410E-03  1.46780E-02  1.29178E-02\\n  6.05773E-03  1.52583E-03  2.17951E-04  1.89363E-05\\n  2.05228E-05  1.66428E-04  7.58602E-04  1.97434E-03  2.89342E-03  2.32432E-03\\n  1.00583E-03  2.37202E-04  3.21220E-05  2.68341E-06\\n  3.30553E-06  2.57931E-05  1.09261E-04  2.55993E-04  3.34125E-04  2.41355E-04\\n  9.56931E-05  2.10673E-05  2.70705E-06  2.18307E-07\\n -1.24240E-05 -1.44852E-04 -8.29024E-04 -2.32041E-03 -3.15070E-03 -2.03423E-03\\n -5.86979E-04 -5.51377E-05  5.42122E-06  1.48986E-06\\n -7.07268E-05 -8.11170E-04 -4.54029E-03 -1.23616E-02 -1.61547E-02 -9.67353E-03\\n -2.38377E-03 -8.00634E-05  6.06254E-05  1.06167E-05\\n -2.18157E-04 -2.44779E-03 -1.33095E-02 -3.64213E-02 -4.80474E-02 -2.29499E-02\\n -2.99023E-03  8.49788E-04  3.32567E-04  4.39074E-05\\n -3.52159E-04 -3.83348E-03 -2.01114E-02 -6.05892E-02 -7.61868E-02 -1.01262E-02\\n  8.09497E-03  4.43390E-03  9.53720E-04  1.04357E-04\\n -2.67597E-04 -2.78010E-03 -1.28847E-02 -2.59787E-02  4.86763E-02  7.50693E-02\\n  2.95131E-02  8.67624E-03  1.47175E-03  1.41608E-04\\n -4.71035E-05 -4.19311E-04  1.59744E-04  1.73243E-02  7.90544E-02  7.66904E-02\\n  3.10279E-02  8.24483E-03  1.24204E-03  1.09293E-04\\n  5.73720E-05  5.82185E-04  4.05241E-03  1.68591E-02  3.58068E-02  3.42596E-02\\n  1.62791E-02  4.14446E-03  5.79633E-04  4.79004E-05\\n  4.03976E-05  3.73392E-04  2.06612E-03  6.60373E-03  1.14113E-02  1.02245E-02\\n  4.71168E-03  1.13634E-03  1.50849E-04  1.19236E-05\\n  1.16916E-05  1.00409E-04  4.91795E-04  1.37047E-03  2.11167E-03  1.74072E-03\\n  7.54068E-04  1.73193E-04  2.20788E-05  1.68924E-06\\n  1.82900E-06  1.47789E-05  6.58100E-05  1.63553E-04  2.25756E-04  1.69988E-04\\n  6.87342E-05  1.49919E-05  1.83809E-06  1.36837E-07\\n -3.87238E-06 -4.48284E-05 -2.53255E-04 -6.94372E-04 -9.13159E-04 -5.59824E-04\\n -1.45987E-04 -8.79228E-06  2.47839E-06  4.78675E-07\\n -2.15890E-05 -2.44474E-04 -1.33910E-03 -3.51266E-03 -4.31257E-03 -2.32982E-03\\n -4.26854E-04  4.48371E-05  2.55979E-05  3.48977E-06\\n -6.43087E-05 -7.04721E-04 -3.66652E-03 -8.83898E-03 -9.09184E-03 -3.15165E-03\\n  5.59991E-04  5.85339E-04  1.34801E-04  1.46881E-05\\n -9.73476E-05 -1.00830E-03 -4.70382E-03 -8.20665E-03  2.23104E-03  8.44682E-03\\n  6.14252E-03  2.18895E-03  3.76995E-04  3.53516E-05\\n -6.28803E-05 -5.63340E-04 -1.63274E-03  4.29051E-03  3.48995E-02  3.01775E-02\\n  1.36959E-02  3.83815E-03  5.71905E-04  4.83744E-05\\n  2.66340E-06  1.27824E-04  1.91063E-03  1.12734E-02  2.97068E-02  2.87626E-02\\n  1.36031E-02  3.48101E-03  4.76645E-04  3.75219E-05\\n  2.52734E-05  2.97818E-04  2.10670E-03  8.04850E-03  1.56363E-02  1.48231E-02\\n  7.00453E-03  1.69790E-03  2.20168E-04  1.64809E-05\\n  1.40138E-05  1.43124E-04  8.51823E-04  2.80704E-03  4.87401E-03  4.33105E-03\\n  1.95541E-03  4.54690E-04  5.67615E-05  4.10142E-06\\n  3.69019E-06  3.40209E-05  1.79091E-04  5.27626E-04  8.39919E-04  7.01017E-04\\n  3.02379E-04  6.78695E-05  8.22538E-06  5.79503E-07\\n  5.45939E-07  4.62555E-06  2.18456E-05  5.76174E-05  8.34785E-05  6.48593E-05\\n  2.65593E-05  5.73941E-06  6.76185E-07  4.66855E-08\\n -4.77838E-07 -5.47650E-06 -2.99034E-05 -7.65765E-05 -8.83029E-05 -4.01739E-05\\n -2.00252E-06  3.20785E-06  8.83119E-07  9.99700E-08\\n -2.49148E-06 -2.74363E-05 -1.40464E-04 -3.20881E-04 -2.85964E-04 -2.88436E-05\\n  7.95729E-05  3.89514E-05  7.43474E-06  7.19638E-07\\n -6.45884E-06 -6.57435E-05 -2.87426E-04 -4.30601E-04  1.80890E-04  8.76793E-04\\n  6.81856E-04  2.20217E-04  3.48098E-05  2.99173E-06\\n -6.74554E-06 -5.18982E-05 -5.23730E-05  9.34966E-04  3.64273E-03  4.27730E-03\\n  2.33455E-03  6.39927E-04  9.04969E-05  7.12089E-06\\n  1.61018E-06  5.58101E-05  6.73322E-04  3.51777E-03  8.49773E-03  8.21915E-03\\n  3.95068E-03  9.93543E-04  1.30862E-04  9.65067E-06\\n  9.17748E-06  1.31085E-04  1.01678E-03  4.03735E-03  8.01177E-03  7.51456E-03\\n  3.51399E-03  8.40669E-04  1.05552E-04  7.42445E-06\\n  7.71413E-06  9.48944E-05  6.43513E-04  2.28643E-03  4.13134E-03  3.73813E-03\\n  1.69805E-03  3.92410E-04  4.76408E-05  3.23831E-06\\n  3.08071E-06  3.41011E-05  2.10269E-04  6.93252E-04  1.18401E-03  1.02921E-03\\n  4.53157E-04  1.01957E-04  1.20751E-05  8.00947E-07\\n  6.87895E-07  6.87172E-06  3.84992E-05  1.17579E-04  1.89806E-04  1.58405E-04\\n  6.76719E-05  1.48700E-05  1.72634E-06  1.12514E-07\\n  9.16960E-08  8.29348E-07  4.18828E-06  1.16808E-05  1.75792E-05  1.39457E-05\\n  5.74690E-06  1.23036E-06  1.40119E-07  9.00737E-09\\n  9.72577E-09  1.19363E-07  9.56310E-07  4.24838E-06  9.47474E-06  1.03157E-05\\n  5.50265E-06  1.46539E-06  2.01618E-07  1.51329E-08\\n  1.06610E-07  1.38058E-06  1.03369E-05  4.13958E-05  8.42519E-05  8.53910E-05\\n  4.30495E-05  1.09325E-05  1.43950E-06  1.03461E-07\\n  6.21376E-07  8.11044E-06  5.80055E-05  2.17737E-04  4.16442E-04  3.99943E-04\\n  1.92616E-04  4.69703E-05  5.94722E-06  4.10577E-07\\n  1.92177E-06  2.49019E-05  1.72371E-04  6.20211E-04  1.13770E-03  1.04929E-03\\n  4.87416E-04  1.15018E-04  1.40932E-05  9.39500E-07\\n  3.21327E-06  4.10281E-05  2.76612E-04  9.64919E-04  1.71649E-03  1.53642E-03\\n  6.94228E-04  1.59615E-04  1.90450E-05  1.23328E-06\\n  2.96557E-06  3.70428E-05  2.43571E-04  8.27496E-04  1.43371E-03  1.25567E-03\\n  5.55886E-04  1.25212E-04  1.46275E-05  9.25481E-07\\n  1.54521E-06  1.86850E-05  1.19417E-04  3.95594E-04  6.70059E-04  5.75773E-04\\n  2.50525E-04  5.54998E-05  6.37604E-06  3.96213E-07\\n  4.67174E-07  5.38301E-06  3.31318E-05  1.06596E-04  1.76427E-04  1.48780E-04\\n  6.37135E-05  1.39162E-05  1.57742E-06  9.67020E-08\\n  8.47706E-08  9.11663E-07  5.31702E-06  1.64390E-05  2.64287E-05  2.18106E-05\\n  9.18585E-06  1.97956E-06  2.21836E-07  1.34628E-08\\n  9.56257E-09  9.41451E-08  5.09235E-07  1.48586E-06  2.29078E-06  1.83527E-06\\n  7.56801E-07  1.60608E-07  1.77961E-08  1.07137E-09\\n  7.70700E-09  8.91133E-08  5.38355E-07  1.69490E-06  2.76845E-06  2.33481E-06\\n  1.01325E-06  2.26350E-07  2.62316E-08  1.61218E-09\\n  5.00632E-08  5.84061E-07  3.55478E-06  1.12484E-05  1.84157E-05  1.55251E-05\\n  6.71855E-06  1.49340E-06  1.71850E-07  1.04631E-08\\n  1.91432E-07  2.25161E-06  1.37870E-05  4.37694E-05  7.16878E-05  6.03017E-05\\n  2.59806E-05  5.73859E-06  6.55000E-07  3.94736E-08\\n  4.28668E-07  5.07363E-06  3.11926E-05  9.91619E-05  1.62207E-04  1.35961E-04\\n  5.82619E-05  1.27797E-05  1.44637E-06  8.62756E-08\\n  5.59491E-07  6.64433E-06  4.09146E-05  1.29995E-04  2.12079E-04  1.76974E-04\\n  7.53932E-05  1.64215E-05  1.84337E-06  1.08904E-07\\n  4.24519E-07  5.03770E-06  3.09782E-05  9.81672E-05  1.59524E-04  1.32443E-04\\n  5.60851E-05  1.21337E-05  1.35185E-06  7.91874E-08\\n  1.87481E-07  2.20980E-06  1.35148E-05  4.26055E-05  6.88617E-05  5.68446E-05\\n  2.39264E-05  5.14367E-06  5.69262E-07  3.31071E-08\\n  4.85412E-08  5.62986E-07  3.40325E-06  1.06320E-05  1.70536E-05  1.39819E-05\\n  5.84796E-06  1.24966E-06  1.37500E-07  7.95057E-09\\n  7.48742E-09  8.42080E-08  4.98074E-07  1.53195E-06  2.42894E-06  1.97362E-06\\n  8.19484E-07  1.74051E-07  1.90508E-08  1.09658E-09\\n  7.06776E-10  7.54928E-09  4.29943E-08  1.28739E-07  2.00305E-07  1.60589E-07\\n  6.60349E-08  1.39251E-08  1.51614E-09  8.69448E-11\\n\",\"cube\",{\"isoval\": 1.0, \"volformat\": \"cube\"});\n\tviewer_16753987067236004.addModel(\"Orbital value in real space (1/Bohr^3)\\nPySCF Version: 2.1.1  Date: Fri Feb  3 04:31:44 2023\\n    4   -5.693884   -5.000000   -5.979734\\n   10    1.419176    0.000000    0.000000\\n   10    0.000000    1.299661    0.000000\\n   10    0.000000    0.000000    1.437689\\n    6    0.000000    0.000000    0.000000    0.000000\\n    1    0.000000    2.078699    0.000000    0.000000\\n    1    0.000000   -0.693884    0.000000    1.959468\\n    1    0.000000   -0.693884    1.696949   -0.979734\\n -9.89829E-08 -1.18993E-06 -7.03231E-06 -2.03517E-05 -2.84295E-05 -1.82653E-05\\n -4.34567E-06  3.46182E-07  3.28124E-07  5.54464E-08\\n -5.77066E-07 -6.94475E-06 -4.08201E-05 -1.16868E-04 -1.60415E-04 -9.97299E-05\\n -2.12095E-05  3.35100E-06  2.15900E-06  3.50030E-07\\n -1.80323E-06 -2.19854E-05 -1.29054E-04 -3.65067E-04 -4.88753E-04 -2.87492E-04\\n -4.74572E-05  1.78692E-05  8.34595E-06  1.28717E-06\\n -2.79582E-06 -3.59965E-05 -2.14493E-04 -6.00828E-04 -7.74990E-04 -4.09902E-04\\n -2.46498E-05  5.18590E-05  1.88306E-05  2.75268E-06\\n -1.46592E-06 -2.55320E-05 -1.67118E-04 -4.73092E-04 -5.71536E-04 -2.23608E-04\\n  7.32553E-05  8.23968E-05  2.46511E-05  3.41736E-06\\n  1.24335E-06  1.71150E-06 -2.52203E-05 -9.92177E-05 -8.81845E-05  6.29468E-05\\n  1.30939E-04  7.24392E-05  1.86458E-05  2.45897E-06\\n  2.15484E-06  1.39597E-05  4.68087E-05  9.12773E-05  1.26185E-04  1.31003E-04\\n  8.90062E-05  3.57020E-05  8.13637E-06  1.02451E-06\\n  1.23948E-06  8.89335E-06  3.35964E-05  6.95113E-05  8.37660E-05  6.29759E-05\\n  3.09820E-05  1.00354E-05  2.05281E-06  2.47207E-07\\n  3.64655E-07  2.66995E-06  1.02168E-05  2.08281E-05  2.33522E-05  1.51380E-05\\n  6.10195E-06  1.64877E-06  3.01791E-07  3.46190E-08\\n  5.97890E-08  4.38590E-07  1.66979E-06  3.33286E-06  3.55026E-06  2.08674E-06\\n  7.22506E-07  1.63799E-07  2.62745E-08  2.82928E-09\\n -1.03153E-06 -1.23214E-05 -7.24585E-05 -2.09100E-04 -2.92952E-04 -1.92637E-04\\n -5.20458E-05 -9.77295E-07  2.06916E-06  3.85326E-07\\n -6.02637E-06 -7.17351E-05 -4.18192E-04 -1.19054E-03 -1.63481E-03 -1.03926E-03\\n -2.56896E-04  7.75915E-06  1.42614E-05  2.46172E-06\\n -1.90630E-05 -2.27566E-04 -1.31611E-03 -3.68314E-03 -4.91179E-03 -2.94922E-03\\n -6.02848E-04  9.29320E-05  5.78190E-05  9.17531E-06\\n -3.09818E-05 -3.79387E-04 -2.19187E-03 -6.00844E-03 -7.65253E-03 -4.10536E-03\\n -4.46346E-04  3.53779E-04  1.36288E-04  1.98963E-05\\n -2.10815E-05 -2.95223E-04 -1.76632E-03 -4.73416E-03 -5.49258E-03 -2.10763E-03\\n  5.57444E-04  6.39088E-04  1.85134E-04  2.50288E-05\\n  3.49109E-06 -4.07240E-05 -4.15269E-04 -1.12818E-03 -7.82136E-04  7.34899E-04\\n  1.20623E-03  6.00815E-04  1.44161E-04  1.82199E-05\\n  1.40288E-05  8.86694E-05  3.04485E-04  6.86439E-04  1.15628E-03  1.29377E-03\\n  8.38049E-04  3.06463E-04  6.42395E-05  7.66256E-06\\n  8.70977E-06  6.31623E-05  2.46821E-04  5.46947E-04  7.22921E-04  5.83051E-04\\n  2.87251E-04  8.71993E-05  1.64183E-05  1.86126E-06\\n  2.60460E-06  1.92719E-05  7.54611E-05  1.60342E-04  1.90805E-04  1.31470E-04\\n  5.44602E-05  1.42307E-05  2.42490E-06  2.61602E-07\\n  4.28025E-07  3.16218E-06  1.22094E-05  2.49803E-05  2.76349E-05  1.70184E-05\\n  6.11266E-06  1.37934E-06  2.10190E-07  2.13880E-08\\n -5.41341E-06 -6.42806E-05 -3.75980E-04 -1.08003E-03 -1.51060E-03 -1.00278E-03\\n -2.87985E-04 -1.85530E-05  6.59258E-06  1.39716E-06\\n -3.15660E-05 -3.72240E-04 -2.15212E-03 -6.08273E-03 -8.31633E-03 -5.31748E-03\\n -1.40326E-03 -3.48612E-05  4.91838E-05  9.08605E-06\\n -1.00158E-04 -1.17606E-03 -6.71141E-03 -1.86539E-02 -2.48878E-02 -1.48087E-02\\n -3.21622E-03  2.44622E-04  2.13995E-04  3.45193E-05\\n -1.66160E-04 -1.96606E-03 -1.10968E-02 -3.06737E-02 -4.03795E-02 -2.01106E-02\\n -1.90434E-03  1.42532E-03  5.34203E-04  7.62730E-05\\n -1.25681E-04 -1.58459E-03 -8.93579E-03 -2.36979E-02 -2.78061E-02 -7.87432E-03\\n  4.04878E-03  2.90503E-03  7.57912E-04  9.75997E-05\\n -9.37040E-06 -3.55446E-04 -2.26815E-03 -4.35675E-03 -8.11942E-04  6.46923E-03\\n  6.82155E-03  2.82721E-03  6.08628E-04  7.20753E-05\\n  4.74709E-05  3.01567E-04  1.18491E-03  3.66145E-03  6.90249E-03  7.44439E-03\\n  4.45945E-03  1.46502E-03  2.76819E-04  3.06489E-05\\n  3.22496E-05  2.40046E-04  9.97339E-04  2.44655E-03  3.55942E-03  3.02331E-03\\n  1.47499E-03  4.17873E-04  7.15555E-05  7.50023E-06\\n  9.78319E-06  7.37537E-05  2.99474E-04  6.74171E-04  8.61355E-04  6.31127E-04\\n  2.67280E-04  6.73346E-05  1.05940E-05  1.05798E-06\\n  1.60718E-06  1.20120E-05  4.73897E-05  1.00441E-04  1.16701E-04  7.58566E-05\\n  2.82926E-05  6.34008E-06  9.11724E-07  8.64611E-08\\n -1.42985E-05 -1.68796E-04 -9.81342E-04 -2.80159E-03 -3.89798E-03 -2.58793E-03\\n -7.63411E-04 -6.66228E-05  1.07451E-05  2.65969E-06\\n -8.29717E-05 -9.69828E-04 -5.55813E-03 -1.56026E-02 -2.12399E-02 -1.34577E-02\\n -3.61047E-03 -1.77789E-04  9.09702E-05  1.77339E-05\\n -2.62420E-04 -3.03682E-03 -1.71587E-02 -4.94775E-02 -7.10302E-02 -3.89263E-02\\n -7.60934E-03  4.39879E-04  4.33982E-04  6.90966E-05\\n -4.37349E-04 -5.03555E-03 -2.83748E-02 -9.73389E-02 -1.69084E-01 -5.99715E-02\\n  1.33829E-03  3.78695E-03  1.15568E-03  1.56287E-04\\n -3.45086E-04 -4.06358E-03 -2.23436E-02 -7.55662E-02 -1.09428E-01  2.50736E-03\\n  2.56100E-02  8.16796E-03  1.71170E-03  2.04045E-04\\n -6.10161E-05 -1.02190E-03 -4.56897E-03  2.56417E-03  2.79762E-02  4.05709E-02\\n  2.40557E-02  7.57601E-03  1.41055E-03  1.53119E-04\\n  8.60103E-05  5.91362E-04  3.20423E-03  1.53803E-02  2.76296E-02  2.46182E-02\\n  1.30695E-02  3.85316E-03  6.51756E-04  6.58782E-05\\n  6.36103E-05  4.96990E-04  2.26926E-03  6.37686E-03  9.94714E-03  8.56966E-03\\n  4.10190E-03  1.09027E-03  1.69744E-04  1.62399E-05\\n  1.94202E-05  1.50836E-04  6.44737E-04  1.55802E-03  2.14050E-03  1.65275E-03\\n  7.10138E-04  1.72735E-04  2.51149E-05  2.29756E-06\\n  3.17297E-06  2.41377E-05  9.81940E-05  2.17895E-04  2.68015E-04  1.84103E-04\\n  7.10361E-05  1.57836E-05  2.14065E-06  1.87467E-07\\n -1.89381E-05 -2.22221E-04 -1.28293E-03 -3.63284E-03 -5.00906E-03 -3.29865E-03\\n -9.75917E-04 -9.45326E-05  9.51116E-06  2.69256E-06\\n -1.09058E-04 -1.26330E-03 -7.16737E-03 -1.99408E-02 -2.69143E-02 -1.66782E-02\\n -4.38469E-03 -2.37114E-04  9.50375E-05  1.85368E-05\\n -3.41917E-04 -3.90011E-03 -2.17987E-02 -6.55849E-02 -1.00389E-01 -4.95794E-02\\n -8.12607E-03  7.09863E-04  4.97271E-04  7.44249E-05\\n -5.65299E-04 -6.34395E-03 -3.57557E-02 -1.48620E-01 -3.28830E-01 -7.44167E-02\\n  6.95005E-03  5.47515E-03  1.39628E-03  1.72758E-04\\n -4.47384E-04 -4.97477E-03 -2.67767E-02 -1.05568E-01  9.84906E-02  1.01532E-01\\n  4.43507E-02  1.15947E-02  2.13319E-03  2.30308E-04\\n -9.36272E-05 -1.16828E-03 -3.72950E-03  1.69243E-02  1.13425E-01  1.07849E-01\\n  4.03264E-02  1.08205E-02  1.79011E-03  1.75561E-04\\n  8.87767E-05  7.26716E-04  4.78540E-03  2.37140E-02  4.82353E-02  4.26775E-02\\n  2.02763E-02  5.46679E-03  8.34822E-04  7.63494E-05\\n  6.79638E-05  5.71662E-04  2.88718E-03  8.84410E-03  1.46780E-02  1.29178E-02\\n  6.05773E-03  1.52583E-03  2.17951E-04  1.89363E-05\\n  2.05228E-05  1.66428E-04  7.58602E-04  1.97434E-03  2.89342E-03  2.32432E-03\\n  1.00583E-03  2.37202E-04  3.21220E-05  2.68341E-06\\n  3.30553E-06  2.57931E-05  1.09261E-04  2.55993E-04  3.34125E-04  2.41355E-04\\n  9.56931E-05  2.10673E-05  2.70705E-06  2.18307E-07\\n -1.24240E-05 -1.44852E-04 -8.29024E-04 -2.32041E-03 -3.15070E-03 -2.03423E-03\\n -5.86979E-04 -5.51377E-05  5.42122E-06  1.48986E-06\\n -7.07268E-05 -8.11170E-04 -4.54029E-03 -1.23616E-02 -1.61547E-02 -9.67353E-03\\n -2.38377E-03 -8.00634E-05  6.06254E-05  1.06167E-05\\n -2.18157E-04 -2.44779E-03 -1.33095E-02 -3.64213E-02 -4.80474E-02 -2.29499E-02\\n -2.99023E-03  8.49788E-04  3.32567E-04  4.39074E-05\\n -3.52159E-04 -3.83348E-03 -2.01114E-02 -6.05892E-02 -7.61868E-02 -1.01262E-02\\n  8.09497E-03  4.43390E-03  9.53720E-04  1.04357E-04\\n -2.67597E-04 -2.78010E-03 -1.28847E-02 -2.59787E-02  4.86763E-02  7.50693E-02\\n  2.95131E-02  8.67624E-03  1.47175E-03  1.41608E-04\\n -4.71035E-05 -4.19311E-04  1.59744E-04  1.73243E-02  7.90544E-02  7.66904E-02\\n  3.10279E-02  8.24483E-03  1.24204E-03  1.09293E-04\\n  5.73720E-05  5.82185E-04  4.05241E-03  1.68591E-02  3.58068E-02  3.42596E-02\\n  1.62791E-02  4.14446E-03  5.79633E-04  4.79004E-05\\n  4.03976E-05  3.73392E-04  2.06612E-03  6.60373E-03  1.14113E-02  1.02245E-02\\n  4.71168E-03  1.13634E-03  1.50849E-04  1.19236E-05\\n  1.16916E-05  1.00409E-04  4.91795E-04  1.37047E-03  2.11167E-03  1.74072E-03\\n  7.54068E-04  1.73193E-04  2.20788E-05  1.68924E-06\\n  1.82900E-06  1.47789E-05  6.58100E-05  1.63553E-04  2.25756E-04  1.69988E-04\\n  6.87342E-05  1.49919E-05  1.83809E-06  1.36837E-07\\n -3.87238E-06 -4.48284E-05 -2.53255E-04 -6.94372E-04 -9.13159E-04 -5.59824E-04\\n -1.45987E-04 -8.79228E-06  2.47839E-06  4.78675E-07\\n -2.15890E-05 -2.44474E-04 -1.33910E-03 -3.51266E-03 -4.31257E-03 -2.32982E-03\\n -4.26854E-04  4.48371E-05  2.55979E-05  3.48977E-06\\n -6.43087E-05 -7.04721E-04 -3.66652E-03 -8.83898E-03 -9.09184E-03 -3.15165E-03\\n  5.59991E-04  5.85339E-04  1.34801E-04  1.46881E-05\\n -9.73476E-05 -1.00830E-03 -4.70382E-03 -8.20665E-03  2.23104E-03  8.44682E-03\\n  6.14252E-03  2.18895E-03  3.76995E-04  3.53516E-05\\n -6.28803E-05 -5.63340E-04 -1.63274E-03  4.29051E-03  3.48995E-02  3.01775E-02\\n  1.36959E-02  3.83815E-03  5.71905E-04  4.83744E-05\\n  2.66340E-06  1.27824E-04  1.91063E-03  1.12734E-02  2.97068E-02  2.87626E-02\\n  1.36031E-02  3.48101E-03  4.76645E-04  3.75219E-05\\n  2.52734E-05  2.97818E-04  2.10670E-03  8.04850E-03  1.56363E-02  1.48231E-02\\n  7.00453E-03  1.69790E-03  2.20168E-04  1.64809E-05\\n  1.40138E-05  1.43124E-04  8.51823E-04  2.80704E-03  4.87401E-03  4.33105E-03\\n  1.95541E-03  4.54690E-04  5.67615E-05  4.10142E-06\\n  3.69019E-06  3.40209E-05  1.79091E-04  5.27626E-04  8.39919E-04  7.01017E-04\\n  3.02379E-04  6.78695E-05  8.22538E-06  5.79503E-07\\n  5.45939E-07  4.62555E-06  2.18456E-05  5.76174E-05  8.34785E-05  6.48593E-05\\n  2.65593E-05  5.73941E-06  6.76185E-07  4.66855E-08\\n -4.77838E-07 -5.47650E-06 -2.99034E-05 -7.65765E-05 -8.83029E-05 -4.01739E-05\\n -2.00252E-06  3.20785E-06  8.83119E-07  9.99700E-08\\n -2.49148E-06 -2.74363E-05 -1.40464E-04 -3.20881E-04 -2.85964E-04 -2.88436E-05\\n  7.95729E-05  3.89514E-05  7.43474E-06  7.19638E-07\\n -6.45884E-06 -6.57435E-05 -2.87426E-04 -4.30601E-04  1.80890E-04  8.76793E-04\\n  6.81856E-04  2.20217E-04  3.48098E-05  2.99173E-06\\n -6.74554E-06 -5.18982E-05 -5.23730E-05  9.34966E-04  3.64273E-03  4.27730E-03\\n  2.33455E-03  6.39927E-04  9.04969E-05  7.12089E-06\\n  1.61018E-06  5.58101E-05  6.73322E-04  3.51777E-03  8.49773E-03  8.21915E-03\\n  3.95068E-03  9.93543E-04  1.30862E-04  9.65067E-06\\n  9.17748E-06  1.31085E-04  1.01678E-03  4.03735E-03  8.01177E-03  7.51456E-03\\n  3.51399E-03  8.40669E-04  1.05552E-04  7.42445E-06\\n  7.71413E-06  9.48944E-05  6.43513E-04  2.28643E-03  4.13134E-03  3.73813E-03\\n  1.69805E-03  3.92410E-04  4.76408E-05  3.23831E-06\\n  3.08071E-06  3.41011E-05  2.10269E-04  6.93252E-04  1.18401E-03  1.02921E-03\\n  4.53157E-04  1.01957E-04  1.20751E-05  8.00947E-07\\n  6.87895E-07  6.87172E-06  3.84992E-05  1.17579E-04  1.89806E-04  1.58405E-04\\n  6.76719E-05  1.48700E-05  1.72634E-06  1.12514E-07\\n  9.16960E-08  8.29348E-07  4.18828E-06  1.16808E-05  1.75792E-05  1.39457E-05\\n  5.74690E-06  1.23036E-06  1.40119E-07  9.00737E-09\\n  9.72577E-09  1.19363E-07  9.56310E-07  4.24838E-06  9.47474E-06  1.03157E-05\\n  5.50265E-06  1.46539E-06  2.01618E-07  1.51329E-08\\n  1.06610E-07  1.38058E-06  1.03369E-05  4.13958E-05  8.42519E-05  8.53910E-05\\n  4.30495E-05  1.09325E-05  1.43950E-06  1.03461E-07\\n  6.21376E-07  8.11044E-06  5.80055E-05  2.17737E-04  4.16442E-04  3.99943E-04\\n  1.92616E-04  4.69703E-05  5.94722E-06  4.10577E-07\\n  1.92177E-06  2.49019E-05  1.72371E-04  6.20211E-04  1.13770E-03  1.04929E-03\\n  4.87416E-04  1.15018E-04  1.40932E-05  9.39500E-07\\n  3.21327E-06  4.10281E-05  2.76612E-04  9.64919E-04  1.71649E-03  1.53642E-03\\n  6.94228E-04  1.59615E-04  1.90450E-05  1.23328E-06\\n  2.96557E-06  3.70428E-05  2.43571E-04  8.27496E-04  1.43371E-03  1.25567E-03\\n  5.55886E-04  1.25212E-04  1.46275E-05  9.25481E-07\\n  1.54521E-06  1.86850E-05  1.19417E-04  3.95594E-04  6.70059E-04  5.75773E-04\\n  2.50525E-04  5.54998E-05  6.37604E-06  3.96213E-07\\n  4.67174E-07  5.38301E-06  3.31318E-05  1.06596E-04  1.76427E-04  1.48780E-04\\n  6.37135E-05  1.39162E-05  1.57742E-06  9.67020E-08\\n  8.47706E-08  9.11663E-07  5.31702E-06  1.64390E-05  2.64287E-05  2.18106E-05\\n  9.18585E-06  1.97956E-06  2.21836E-07  1.34628E-08\\n  9.56257E-09  9.41451E-08  5.09235E-07  1.48586E-06  2.29078E-06  1.83527E-06\\n  7.56801E-07  1.60608E-07  1.77961E-08  1.07137E-09\\n  7.70700E-09  8.91133E-08  5.38355E-07  1.69490E-06  2.76845E-06  2.33481E-06\\n  1.01325E-06  2.26350E-07  2.62316E-08  1.61218E-09\\n  5.00632E-08  5.84061E-07  3.55478E-06  1.12484E-05  1.84157E-05  1.55251E-05\\n  6.71855E-06  1.49340E-06  1.71850E-07  1.04631E-08\\n  1.91432E-07  2.25161E-06  1.37870E-05  4.37694E-05  7.16878E-05  6.03017E-05\\n  2.59806E-05  5.73859E-06  6.55000E-07  3.94736E-08\\n  4.28668E-07  5.07363E-06  3.11926E-05  9.91619E-05  1.62207E-04  1.35961E-04\\n  5.82619E-05  1.27797E-05  1.44637E-06  8.62756E-08\\n  5.59491E-07  6.64433E-06  4.09146E-05  1.29995E-04  2.12079E-04  1.76974E-04\\n  7.53932E-05  1.64215E-05  1.84337E-06  1.08904E-07\\n  4.24519E-07  5.03770E-06  3.09782E-05  9.81672E-05  1.59524E-04  1.32443E-04\\n  5.60851E-05  1.21337E-05  1.35185E-06  7.91874E-08\\n  1.87481E-07  2.20980E-06  1.35148E-05  4.26055E-05  6.88617E-05  5.68446E-05\\n  2.39264E-05  5.14367E-06  5.69262E-07  3.31071E-08\\n  4.85412E-08  5.62986E-07  3.40325E-06  1.06320E-05  1.70536E-05  1.39819E-05\\n  5.84796E-06  1.24966E-06  1.37500E-07  7.95057E-09\\n  7.48742E-09  8.42080E-08  4.98074E-07  1.53195E-06  2.42894E-06  1.97362E-06\\n  8.19484E-07  1.74051E-07  1.90508E-08  1.09658E-09\\n  7.06776E-10  7.54928E-09  4.29943E-08  1.28739E-07  2.00305E-07  1.60589E-07\\n  6.60349E-08  1.39251E-08  1.51614E-09  8.69448E-11\\n\",\"cube\");\n\tviewer_16753987067236004.setStyle({\"stick\": {}});\n\tviewer_16753987067236004.zoomTo();\nviewer_16753987067236004.render();\n});\n</script>",
            "text/html": [
              "<div id=\"3dmolviewer_16753987067236004\"  style=\"position: relative; width: 640px; height: 480px\">\n",
              "        <p id=\"3dmolwarning_16753987067236004\" style=\"background-color:#ffcccc;color:black\">You appear to be running in JupyterLab (or JavaScript failed to load for some other reason).  You need to install the 3dmol extension: <br>\n",
              "        <tt>jupyter labextension install jupyterlab_3dmol</tt></p>\n",
              "        </div>\n",
              "<script>\n",
              "\n",
              "var loadScriptAsync = function(uri){\n",
              "  return new Promise((resolve, reject) => {\n",
              "    //this is to ignore the existence of requirejs amd\n",
              "    var savedexports, savedmodule;\n",
              "    if (typeof exports !== 'undefined') savedexports = exports;\n",
              "    else exports = {}\n",
              "    if (typeof module !== 'undefined') savedmodule = module;\n",
              "    else module = {}\n",
              "\n",
              "    var tag = document.createElement('script');\n",
              "    tag.src = uri;\n",
              "    tag.async = true;\n",
              "    tag.onload = () => {\n",
              "        exports = savedexports;\n",
              "        module = savedmodule;\n",
              "        resolve();\n",
              "    };\n",
              "  var firstScriptTag = document.getElementsByTagName('script')[0];\n",
              "  firstScriptTag.parentNode.insertBefore(tag, firstScriptTag);\n",
              "});\n",
              "};\n",
              "\n",
              "if(typeof $3Dmolpromise === 'undefined') {\n",
              "$3Dmolpromise = null;\n",
              "  $3Dmolpromise = loadScriptAsync('https://cdn.jsdelivr.net/npm/3dmol@latest/build/3Dmol-min.min.js');\n",
              "}\n",
              "\n",
              "var viewer_16753987067236004 = null;\n",
              "var warn = document.getElementById(\"3dmolwarning_16753987067236004\");\n",
              "if(warn) {\n",
              "    warn.parentNode.removeChild(warn);\n",
              "}\n",
              "$3Dmolpromise.then(function() {\n",
              "viewer_16753987067236004 = $3Dmol.createViewer(document.getElementById(\"3dmolviewer_16753987067236004\"),{backgroundColor:\"white\"});\n",
              "viewer_16753987067236004.zoomTo();\n",
              "\tviewer_16753987067236004.addVolumetricData(\"Orbital value in real space (1/Bohr^3)\\nPySCF Version: 2.1.1  Date: Fri Feb  3 04:31:44 2023\\n    4   -5.693884   -5.000000   -5.979734\\n   10    1.419176    0.000000    0.000000\\n   10    0.000000    1.299661    0.000000\\n   10    0.000000    0.000000    1.437689\\n    6    0.000000    0.000000    0.000000    0.000000\\n    1    0.000000    2.078699    0.000000    0.000000\\n    1    0.000000   -0.693884    0.000000    1.959468\\n    1    0.000000   -0.693884    1.696949   -0.979734\\n -9.89829E-08 -1.18993E-06 -7.03231E-06 -2.03517E-05 -2.84295E-05 -1.82653E-05\\n -4.34567E-06  3.46182E-07  3.28124E-07  5.54464E-08\\n -5.77066E-07 -6.94475E-06 -4.08201E-05 -1.16868E-04 -1.60415E-04 -9.97299E-05\\n -2.12095E-05  3.35100E-06  2.15900E-06  3.50030E-07\\n -1.80323E-06 -2.19854E-05 -1.29054E-04 -3.65067E-04 -4.88753E-04 -2.87492E-04\\n -4.74572E-05  1.78692E-05  8.34595E-06  1.28717E-06\\n -2.79582E-06 -3.59965E-05 -2.14493E-04 -6.00828E-04 -7.74990E-04 -4.09902E-04\\n -2.46498E-05  5.18590E-05  1.88306E-05  2.75268E-06\\n -1.46592E-06 -2.55320E-05 -1.67118E-04 -4.73092E-04 -5.71536E-04 -2.23608E-04\\n  7.32553E-05  8.23968E-05  2.46511E-05  3.41736E-06\\n  1.24335E-06  1.71150E-06 -2.52203E-05 -9.92177E-05 -8.81845E-05  6.29468E-05\\n  1.30939E-04  7.24392E-05  1.86458E-05  2.45897E-06\\n  2.15484E-06  1.39597E-05  4.68087E-05  9.12773E-05  1.26185E-04  1.31003E-04\\n  8.90062E-05  3.57020E-05  8.13637E-06  1.02451E-06\\n  1.23948E-06  8.89335E-06  3.35964E-05  6.95113E-05  8.37660E-05  6.29759E-05\\n  3.09820E-05  1.00354E-05  2.05281E-06  2.47207E-07\\n  3.64655E-07  2.66995E-06  1.02168E-05  2.08281E-05  2.33522E-05  1.51380E-05\\n  6.10195E-06  1.64877E-06  3.01791E-07  3.46190E-08\\n  5.97890E-08  4.38590E-07  1.66979E-06  3.33286E-06  3.55026E-06  2.08674E-06\\n  7.22506E-07  1.63799E-07  2.62745E-08  2.82928E-09\\n -1.03153E-06 -1.23214E-05 -7.24585E-05 -2.09100E-04 -2.92952E-04 -1.92637E-04\\n -5.20458E-05 -9.77295E-07  2.06916E-06  3.85326E-07\\n -6.02637E-06 -7.17351E-05 -4.18192E-04 -1.19054E-03 -1.63481E-03 -1.03926E-03\\n -2.56896E-04  7.75915E-06  1.42614E-05  2.46172E-06\\n -1.90630E-05 -2.27566E-04 -1.31611E-03 -3.68314E-03 -4.91179E-03 -2.94922E-03\\n -6.02848E-04  9.29320E-05  5.78190E-05  9.17531E-06\\n -3.09818E-05 -3.79387E-04 -2.19187E-03 -6.00844E-03 -7.65253E-03 -4.10536E-03\\n -4.46346E-04  3.53779E-04  1.36288E-04  1.98963E-05\\n -2.10815E-05 -2.95223E-04 -1.76632E-03 -4.73416E-03 -5.49258E-03 -2.10763E-03\\n  5.57444E-04  6.39088E-04  1.85134E-04  2.50288E-05\\n  3.49109E-06 -4.07240E-05 -4.15269E-04 -1.12818E-03 -7.82136E-04  7.34899E-04\\n  1.20623E-03  6.00815E-04  1.44161E-04  1.82199E-05\\n  1.40288E-05  8.86694E-05  3.04485E-04  6.86439E-04  1.15628E-03  1.29377E-03\\n  8.38049E-04  3.06463E-04  6.42395E-05  7.66256E-06\\n  8.70977E-06  6.31623E-05  2.46821E-04  5.46947E-04  7.22921E-04  5.83051E-04\\n  2.87251E-04  8.71993E-05  1.64183E-05  1.86126E-06\\n  2.60460E-06  1.92719E-05  7.54611E-05  1.60342E-04  1.90805E-04  1.31470E-04\\n  5.44602E-05  1.42307E-05  2.42490E-06  2.61602E-07\\n  4.28025E-07  3.16218E-06  1.22094E-05  2.49803E-05  2.76349E-05  1.70184E-05\\n  6.11266E-06  1.37934E-06  2.10190E-07  2.13880E-08\\n -5.41341E-06 -6.42806E-05 -3.75980E-04 -1.08003E-03 -1.51060E-03 -1.00278E-03\\n -2.87985E-04 -1.85530E-05  6.59258E-06  1.39716E-06\\n -3.15660E-05 -3.72240E-04 -2.15212E-03 -6.08273E-03 -8.31633E-03 -5.31748E-03\\n -1.40326E-03 -3.48612E-05  4.91838E-05  9.08605E-06\\n -1.00158E-04 -1.17606E-03 -6.71141E-03 -1.86539E-02 -2.48878E-02 -1.48087E-02\\n -3.21622E-03  2.44622E-04  2.13995E-04  3.45193E-05\\n -1.66160E-04 -1.96606E-03 -1.10968E-02 -3.06737E-02 -4.03795E-02 -2.01106E-02\\n -1.90434E-03  1.42532E-03  5.34203E-04  7.62730E-05\\n -1.25681E-04 -1.58459E-03 -8.93579E-03 -2.36979E-02 -2.78061E-02 -7.87432E-03\\n  4.04878E-03  2.90503E-03  7.57912E-04  9.75997E-05\\n -9.37040E-06 -3.55446E-04 -2.26815E-03 -4.35675E-03 -8.11942E-04  6.46923E-03\\n  6.82155E-03  2.82721E-03  6.08628E-04  7.20753E-05\\n  4.74709E-05  3.01567E-04  1.18491E-03  3.66145E-03  6.90249E-03  7.44439E-03\\n  4.45945E-03  1.46502E-03  2.76819E-04  3.06489E-05\\n  3.22496E-05  2.40046E-04  9.97339E-04  2.44655E-03  3.55942E-03  3.02331E-03\\n  1.47499E-03  4.17873E-04  7.15555E-05  7.50023E-06\\n  9.78319E-06  7.37537E-05  2.99474E-04  6.74171E-04  8.61355E-04  6.31127E-04\\n  2.67280E-04  6.73346E-05  1.05940E-05  1.05798E-06\\n  1.60718E-06  1.20120E-05  4.73897E-05  1.00441E-04  1.16701E-04  7.58566E-05\\n  2.82926E-05  6.34008E-06  9.11724E-07  8.64611E-08\\n -1.42985E-05 -1.68796E-04 -9.81342E-04 -2.80159E-03 -3.89798E-03 -2.58793E-03\\n -7.63411E-04 -6.66228E-05  1.07451E-05  2.65969E-06\\n -8.29717E-05 -9.69828E-04 -5.55813E-03 -1.56026E-02 -2.12399E-02 -1.34577E-02\\n -3.61047E-03 -1.77789E-04  9.09702E-05  1.77339E-05\\n -2.62420E-04 -3.03682E-03 -1.71587E-02 -4.94775E-02 -7.10302E-02 -3.89263E-02\\n -7.60934E-03  4.39879E-04  4.33982E-04  6.90966E-05\\n -4.37349E-04 -5.03555E-03 -2.83748E-02 -9.73389E-02 -1.69084E-01 -5.99715E-02\\n  1.33829E-03  3.78695E-03  1.15568E-03  1.56287E-04\\n -3.45086E-04 -4.06358E-03 -2.23436E-02 -7.55662E-02 -1.09428E-01  2.50736E-03\\n  2.56100E-02  8.16796E-03  1.71170E-03  2.04045E-04\\n -6.10161E-05 -1.02190E-03 -4.56897E-03  2.56417E-03  2.79762E-02  4.05709E-02\\n  2.40557E-02  7.57601E-03  1.41055E-03  1.53119E-04\\n  8.60103E-05  5.91362E-04  3.20423E-03  1.53803E-02  2.76296E-02  2.46182E-02\\n  1.30695E-02  3.85316E-03  6.51756E-04  6.58782E-05\\n  6.36103E-05  4.96990E-04  2.26926E-03  6.37686E-03  9.94714E-03  8.56966E-03\\n  4.10190E-03  1.09027E-03  1.69744E-04  1.62399E-05\\n  1.94202E-05  1.50836E-04  6.44737E-04  1.55802E-03  2.14050E-03  1.65275E-03\\n  7.10138E-04  1.72735E-04  2.51149E-05  2.29756E-06\\n  3.17297E-06  2.41377E-05  9.81940E-05  2.17895E-04  2.68015E-04  1.84103E-04\\n  7.10361E-05  1.57836E-05  2.14065E-06  1.87467E-07\\n -1.89381E-05 -2.22221E-04 -1.28293E-03 -3.63284E-03 -5.00906E-03 -3.29865E-03\\n -9.75917E-04 -9.45326E-05  9.51116E-06  2.69256E-06\\n -1.09058E-04 -1.26330E-03 -7.16737E-03 -1.99408E-02 -2.69143E-02 -1.66782E-02\\n -4.38469E-03 -2.37114E-04  9.50375E-05  1.85368E-05\\n -3.41917E-04 -3.90011E-03 -2.17987E-02 -6.55849E-02 -1.00389E-01 -4.95794E-02\\n -8.12607E-03  7.09863E-04  4.97271E-04  7.44249E-05\\n -5.65299E-04 -6.34395E-03 -3.57557E-02 -1.48620E-01 -3.28830E-01 -7.44167E-02\\n  6.95005E-03  5.47515E-03  1.39628E-03  1.72758E-04\\n -4.47384E-04 -4.97477E-03 -2.67767E-02 -1.05568E-01  9.84906E-02  1.01532E-01\\n  4.43507E-02  1.15947E-02  2.13319E-03  2.30308E-04\\n -9.36272E-05 -1.16828E-03 -3.72950E-03  1.69243E-02  1.13425E-01  1.07849E-01\\n  4.03264E-02  1.08205E-02  1.79011E-03  1.75561E-04\\n  8.87767E-05  7.26716E-04  4.78540E-03  2.37140E-02  4.82353E-02  4.26775E-02\\n  2.02763E-02  5.46679E-03  8.34822E-04  7.63494E-05\\n  6.79638E-05  5.71662E-04  2.88718E-03  8.84410E-03  1.46780E-02  1.29178E-02\\n  6.05773E-03  1.52583E-03  2.17951E-04  1.89363E-05\\n  2.05228E-05  1.66428E-04  7.58602E-04  1.97434E-03  2.89342E-03  2.32432E-03\\n  1.00583E-03  2.37202E-04  3.21220E-05  2.68341E-06\\n  3.30553E-06  2.57931E-05  1.09261E-04  2.55993E-04  3.34125E-04  2.41355E-04\\n  9.56931E-05  2.10673E-05  2.70705E-06  2.18307E-07\\n -1.24240E-05 -1.44852E-04 -8.29024E-04 -2.32041E-03 -3.15070E-03 -2.03423E-03\\n -5.86979E-04 -5.51377E-05  5.42122E-06  1.48986E-06\\n -7.07268E-05 -8.11170E-04 -4.54029E-03 -1.23616E-02 -1.61547E-02 -9.67353E-03\\n -2.38377E-03 -8.00634E-05  6.06254E-05  1.06167E-05\\n -2.18157E-04 -2.44779E-03 -1.33095E-02 -3.64213E-02 -4.80474E-02 -2.29499E-02\\n -2.99023E-03  8.49788E-04  3.32567E-04  4.39074E-05\\n -3.52159E-04 -3.83348E-03 -2.01114E-02 -6.05892E-02 -7.61868E-02 -1.01262E-02\\n  8.09497E-03  4.43390E-03  9.53720E-04  1.04357E-04\\n -2.67597E-04 -2.78010E-03 -1.28847E-02 -2.59787E-02  4.86763E-02  7.50693E-02\\n  2.95131E-02  8.67624E-03  1.47175E-03  1.41608E-04\\n -4.71035E-05 -4.19311E-04  1.59744E-04  1.73243E-02  7.90544E-02  7.66904E-02\\n  3.10279E-02  8.24483E-03  1.24204E-03  1.09293E-04\\n  5.73720E-05  5.82185E-04  4.05241E-03  1.68591E-02  3.58068E-02  3.42596E-02\\n  1.62791E-02  4.14446E-03  5.79633E-04  4.79004E-05\\n  4.03976E-05  3.73392E-04  2.06612E-03  6.60373E-03  1.14113E-02  1.02245E-02\\n  4.71168E-03  1.13634E-03  1.50849E-04  1.19236E-05\\n  1.16916E-05  1.00409E-04  4.91795E-04  1.37047E-03  2.11167E-03  1.74072E-03\\n  7.54068E-04  1.73193E-04  2.20788E-05  1.68924E-06\\n  1.82900E-06  1.47789E-05  6.58100E-05  1.63553E-04  2.25756E-04  1.69988E-04\\n  6.87342E-05  1.49919E-05  1.83809E-06  1.36837E-07\\n -3.87238E-06 -4.48284E-05 -2.53255E-04 -6.94372E-04 -9.13159E-04 -5.59824E-04\\n -1.45987E-04 -8.79228E-06  2.47839E-06  4.78675E-07\\n -2.15890E-05 -2.44474E-04 -1.33910E-03 -3.51266E-03 -4.31257E-03 -2.32982E-03\\n -4.26854E-04  4.48371E-05  2.55979E-05  3.48977E-06\\n -6.43087E-05 -7.04721E-04 -3.66652E-03 -8.83898E-03 -9.09184E-03 -3.15165E-03\\n  5.59991E-04  5.85339E-04  1.34801E-04  1.46881E-05\\n -9.73476E-05 -1.00830E-03 -4.70382E-03 -8.20665E-03  2.23104E-03  8.44682E-03\\n  6.14252E-03  2.18895E-03  3.76995E-04  3.53516E-05\\n -6.28803E-05 -5.63340E-04 -1.63274E-03  4.29051E-03  3.48995E-02  3.01775E-02\\n  1.36959E-02  3.83815E-03  5.71905E-04  4.83744E-05\\n  2.66340E-06  1.27824E-04  1.91063E-03  1.12734E-02  2.97068E-02  2.87626E-02\\n  1.36031E-02  3.48101E-03  4.76645E-04  3.75219E-05\\n  2.52734E-05  2.97818E-04  2.10670E-03  8.04850E-03  1.56363E-02  1.48231E-02\\n  7.00453E-03  1.69790E-03  2.20168E-04  1.64809E-05\\n  1.40138E-05  1.43124E-04  8.51823E-04  2.80704E-03  4.87401E-03  4.33105E-03\\n  1.95541E-03  4.54690E-04  5.67615E-05  4.10142E-06\\n  3.69019E-06  3.40209E-05  1.79091E-04  5.27626E-04  8.39919E-04  7.01017E-04\\n  3.02379E-04  6.78695E-05  8.22538E-06  5.79503E-07\\n  5.45939E-07  4.62555E-06  2.18456E-05  5.76174E-05  8.34785E-05  6.48593E-05\\n  2.65593E-05  5.73941E-06  6.76185E-07  4.66855E-08\\n -4.77838E-07 -5.47650E-06 -2.99034E-05 -7.65765E-05 -8.83029E-05 -4.01739E-05\\n -2.00252E-06  3.20785E-06  8.83119E-07  9.99700E-08\\n -2.49148E-06 -2.74363E-05 -1.40464E-04 -3.20881E-04 -2.85964E-04 -2.88436E-05\\n  7.95729E-05  3.89514E-05  7.43474E-06  7.19638E-07\\n -6.45884E-06 -6.57435E-05 -2.87426E-04 -4.30601E-04  1.80890E-04  8.76793E-04\\n  6.81856E-04  2.20217E-04  3.48098E-05  2.99173E-06\\n -6.74554E-06 -5.18982E-05 -5.23730E-05  9.34966E-04  3.64273E-03  4.27730E-03\\n  2.33455E-03  6.39927E-04  9.04969E-05  7.12089E-06\\n  1.61018E-06  5.58101E-05  6.73322E-04  3.51777E-03  8.49773E-03  8.21915E-03\\n  3.95068E-03  9.93543E-04  1.30862E-04  9.65067E-06\\n  9.17748E-06  1.31085E-04  1.01678E-03  4.03735E-03  8.01177E-03  7.51456E-03\\n  3.51399E-03  8.40669E-04  1.05552E-04  7.42445E-06\\n  7.71413E-06  9.48944E-05  6.43513E-04  2.28643E-03  4.13134E-03  3.73813E-03\\n  1.69805E-03  3.92410E-04  4.76408E-05  3.23831E-06\\n  3.08071E-06  3.41011E-05  2.10269E-04  6.93252E-04  1.18401E-03  1.02921E-03\\n  4.53157E-04  1.01957E-04  1.20751E-05  8.00947E-07\\n  6.87895E-07  6.87172E-06  3.84992E-05  1.17579E-04  1.89806E-04  1.58405E-04\\n  6.76719E-05  1.48700E-05  1.72634E-06  1.12514E-07\\n  9.16960E-08  8.29348E-07  4.18828E-06  1.16808E-05  1.75792E-05  1.39457E-05\\n  5.74690E-06  1.23036E-06  1.40119E-07  9.00737E-09\\n  9.72577E-09  1.19363E-07  9.56310E-07  4.24838E-06  9.47474E-06  1.03157E-05\\n  5.50265E-06  1.46539E-06  2.01618E-07  1.51329E-08\\n  1.06610E-07  1.38058E-06  1.03369E-05  4.13958E-05  8.42519E-05  8.53910E-05\\n  4.30495E-05  1.09325E-05  1.43950E-06  1.03461E-07\\n  6.21376E-07  8.11044E-06  5.80055E-05  2.17737E-04  4.16442E-04  3.99943E-04\\n  1.92616E-04  4.69703E-05  5.94722E-06  4.10577E-07\\n  1.92177E-06  2.49019E-05  1.72371E-04  6.20211E-04  1.13770E-03  1.04929E-03\\n  4.87416E-04  1.15018E-04  1.40932E-05  9.39500E-07\\n  3.21327E-06  4.10281E-05  2.76612E-04  9.64919E-04  1.71649E-03  1.53642E-03\\n  6.94228E-04  1.59615E-04  1.90450E-05  1.23328E-06\\n  2.96557E-06  3.70428E-05  2.43571E-04  8.27496E-04  1.43371E-03  1.25567E-03\\n  5.55886E-04  1.25212E-04  1.46275E-05  9.25481E-07\\n  1.54521E-06  1.86850E-05  1.19417E-04  3.95594E-04  6.70059E-04  5.75773E-04\\n  2.50525E-04  5.54998E-05  6.37604E-06  3.96213E-07\\n  4.67174E-07  5.38301E-06  3.31318E-05  1.06596E-04  1.76427E-04  1.48780E-04\\n  6.37135E-05  1.39162E-05  1.57742E-06  9.67020E-08\\n  8.47706E-08  9.11663E-07  5.31702E-06  1.64390E-05  2.64287E-05  2.18106E-05\\n  9.18585E-06  1.97956E-06  2.21836E-07  1.34628E-08\\n  9.56257E-09  9.41451E-08  5.09235E-07  1.48586E-06  2.29078E-06  1.83527E-06\\n  7.56801E-07  1.60608E-07  1.77961E-08  1.07137E-09\\n  7.70700E-09  8.91133E-08  5.38355E-07  1.69490E-06  2.76845E-06  2.33481E-06\\n  1.01325E-06  2.26350E-07  2.62316E-08  1.61218E-09\\n  5.00632E-08  5.84061E-07  3.55478E-06  1.12484E-05  1.84157E-05  1.55251E-05\\n  6.71855E-06  1.49340E-06  1.71850E-07  1.04631E-08\\n  1.91432E-07  2.25161E-06  1.37870E-05  4.37694E-05  7.16878E-05  6.03017E-05\\n  2.59806E-05  5.73859E-06  6.55000E-07  3.94736E-08\\n  4.28668E-07  5.07363E-06  3.11926E-05  9.91619E-05  1.62207E-04  1.35961E-04\\n  5.82619E-05  1.27797E-05  1.44637E-06  8.62756E-08\\n  5.59491E-07  6.64433E-06  4.09146E-05  1.29995E-04  2.12079E-04  1.76974E-04\\n  7.53932E-05  1.64215E-05  1.84337E-06  1.08904E-07\\n  4.24519E-07  5.03770E-06  3.09782E-05  9.81672E-05  1.59524E-04  1.32443E-04\\n  5.60851E-05  1.21337E-05  1.35185E-06  7.91874E-08\\n  1.87481E-07  2.20980E-06  1.35148E-05  4.26055E-05  6.88617E-05  5.68446E-05\\n  2.39264E-05  5.14367E-06  5.69262E-07  3.31071E-08\\n  4.85412E-08  5.62986E-07  3.40325E-06  1.06320E-05  1.70536E-05  1.39819E-05\\n  5.84796E-06  1.24966E-06  1.37500E-07  7.95057E-09\\n  7.48742E-09  8.42080E-08  4.98074E-07  1.53195E-06  2.42894E-06  1.97362E-06\\n  8.19484E-07  1.74051E-07  1.90508E-08  1.09658E-09\\n  7.06776E-10  7.54928E-09  4.29943E-08  1.28739E-07  2.00305E-07  1.60589E-07\\n  6.60349E-08  1.39251E-08  1.51614E-09  8.69448E-11\\n\",\"cube\",{\"isoval\": 1.0, \"volformat\": \"cube\"});\n",
              "\tviewer_16753987067236004.addModel(\"Orbital value in real space (1/Bohr^3)\\nPySCF Version: 2.1.1  Date: Fri Feb  3 04:31:44 2023\\n    4   -5.693884   -5.000000   -5.979734\\n   10    1.419176    0.000000    0.000000\\n   10    0.000000    1.299661    0.000000\\n   10    0.000000    0.000000    1.437689\\n    6    0.000000    0.000000    0.000000    0.000000\\n    1    0.000000    2.078699    0.000000    0.000000\\n    1    0.000000   -0.693884    0.000000    1.959468\\n    1    0.000000   -0.693884    1.696949   -0.979734\\n -9.89829E-08 -1.18993E-06 -7.03231E-06 -2.03517E-05 -2.84295E-05 -1.82653E-05\\n -4.34567E-06  3.46182E-07  3.28124E-07  5.54464E-08\\n -5.77066E-07 -6.94475E-06 -4.08201E-05 -1.16868E-04 -1.60415E-04 -9.97299E-05\\n -2.12095E-05  3.35100E-06  2.15900E-06  3.50030E-07\\n -1.80323E-06 -2.19854E-05 -1.29054E-04 -3.65067E-04 -4.88753E-04 -2.87492E-04\\n -4.74572E-05  1.78692E-05  8.34595E-06  1.28717E-06\\n -2.79582E-06 -3.59965E-05 -2.14493E-04 -6.00828E-04 -7.74990E-04 -4.09902E-04\\n -2.46498E-05  5.18590E-05  1.88306E-05  2.75268E-06\\n -1.46592E-06 -2.55320E-05 -1.67118E-04 -4.73092E-04 -5.71536E-04 -2.23608E-04\\n  7.32553E-05  8.23968E-05  2.46511E-05  3.41736E-06\\n  1.24335E-06  1.71150E-06 -2.52203E-05 -9.92177E-05 -8.81845E-05  6.29468E-05\\n  1.30939E-04  7.24392E-05  1.86458E-05  2.45897E-06\\n  2.15484E-06  1.39597E-05  4.68087E-05  9.12773E-05  1.26185E-04  1.31003E-04\\n  8.90062E-05  3.57020E-05  8.13637E-06  1.02451E-06\\n  1.23948E-06  8.89335E-06  3.35964E-05  6.95113E-05  8.37660E-05  6.29759E-05\\n  3.09820E-05  1.00354E-05  2.05281E-06  2.47207E-07\\n  3.64655E-07  2.66995E-06  1.02168E-05  2.08281E-05  2.33522E-05  1.51380E-05\\n  6.10195E-06  1.64877E-06  3.01791E-07  3.46190E-08\\n  5.97890E-08  4.38590E-07  1.66979E-06  3.33286E-06  3.55026E-06  2.08674E-06\\n  7.22506E-07  1.63799E-07  2.62745E-08  2.82928E-09\\n -1.03153E-06 -1.23214E-05 -7.24585E-05 -2.09100E-04 -2.92952E-04 -1.92637E-04\\n -5.20458E-05 -9.77295E-07  2.06916E-06  3.85326E-07\\n -6.02637E-06 -7.17351E-05 -4.18192E-04 -1.19054E-03 -1.63481E-03 -1.03926E-03\\n -2.56896E-04  7.75915E-06  1.42614E-05  2.46172E-06\\n -1.90630E-05 -2.27566E-04 -1.31611E-03 -3.68314E-03 -4.91179E-03 -2.94922E-03\\n -6.02848E-04  9.29320E-05  5.78190E-05  9.17531E-06\\n -3.09818E-05 -3.79387E-04 -2.19187E-03 -6.00844E-03 -7.65253E-03 -4.10536E-03\\n -4.46346E-04  3.53779E-04  1.36288E-04  1.98963E-05\\n -2.10815E-05 -2.95223E-04 -1.76632E-03 -4.73416E-03 -5.49258E-03 -2.10763E-03\\n  5.57444E-04  6.39088E-04  1.85134E-04  2.50288E-05\\n  3.49109E-06 -4.07240E-05 -4.15269E-04 -1.12818E-03 -7.82136E-04  7.34899E-04\\n  1.20623E-03  6.00815E-04  1.44161E-04  1.82199E-05\\n  1.40288E-05  8.86694E-05  3.04485E-04  6.86439E-04  1.15628E-03  1.29377E-03\\n  8.38049E-04  3.06463E-04  6.42395E-05  7.66256E-06\\n  8.70977E-06  6.31623E-05  2.46821E-04  5.46947E-04  7.22921E-04  5.83051E-04\\n  2.87251E-04  8.71993E-05  1.64183E-05  1.86126E-06\\n  2.60460E-06  1.92719E-05  7.54611E-05  1.60342E-04  1.90805E-04  1.31470E-04\\n  5.44602E-05  1.42307E-05  2.42490E-06  2.61602E-07\\n  4.28025E-07  3.16218E-06  1.22094E-05  2.49803E-05  2.76349E-05  1.70184E-05\\n  6.11266E-06  1.37934E-06  2.10190E-07  2.13880E-08\\n -5.41341E-06 -6.42806E-05 -3.75980E-04 -1.08003E-03 -1.51060E-03 -1.00278E-03\\n -2.87985E-04 -1.85530E-05  6.59258E-06  1.39716E-06\\n -3.15660E-05 -3.72240E-04 -2.15212E-03 -6.08273E-03 -8.31633E-03 -5.31748E-03\\n -1.40326E-03 -3.48612E-05  4.91838E-05  9.08605E-06\\n -1.00158E-04 -1.17606E-03 -6.71141E-03 -1.86539E-02 -2.48878E-02 -1.48087E-02\\n -3.21622E-03  2.44622E-04  2.13995E-04  3.45193E-05\\n -1.66160E-04 -1.96606E-03 -1.10968E-02 -3.06737E-02 -4.03795E-02 -2.01106E-02\\n -1.90434E-03  1.42532E-03  5.34203E-04  7.62730E-05\\n -1.25681E-04 -1.58459E-03 -8.93579E-03 -2.36979E-02 -2.78061E-02 -7.87432E-03\\n  4.04878E-03  2.90503E-03  7.57912E-04  9.75997E-05\\n -9.37040E-06 -3.55446E-04 -2.26815E-03 -4.35675E-03 -8.11942E-04  6.46923E-03\\n  6.82155E-03  2.82721E-03  6.08628E-04  7.20753E-05\\n  4.74709E-05  3.01567E-04  1.18491E-03  3.66145E-03  6.90249E-03  7.44439E-03\\n  4.45945E-03  1.46502E-03  2.76819E-04  3.06489E-05\\n  3.22496E-05  2.40046E-04  9.97339E-04  2.44655E-03  3.55942E-03  3.02331E-03\\n  1.47499E-03  4.17873E-04  7.15555E-05  7.50023E-06\\n  9.78319E-06  7.37537E-05  2.99474E-04  6.74171E-04  8.61355E-04  6.31127E-04\\n  2.67280E-04  6.73346E-05  1.05940E-05  1.05798E-06\\n  1.60718E-06  1.20120E-05  4.73897E-05  1.00441E-04  1.16701E-04  7.58566E-05\\n  2.82926E-05  6.34008E-06  9.11724E-07  8.64611E-08\\n -1.42985E-05 -1.68796E-04 -9.81342E-04 -2.80159E-03 -3.89798E-03 -2.58793E-03\\n -7.63411E-04 -6.66228E-05  1.07451E-05  2.65969E-06\\n -8.29717E-05 -9.69828E-04 -5.55813E-03 -1.56026E-02 -2.12399E-02 -1.34577E-02\\n -3.61047E-03 -1.77789E-04  9.09702E-05  1.77339E-05\\n -2.62420E-04 -3.03682E-03 -1.71587E-02 -4.94775E-02 -7.10302E-02 -3.89263E-02\\n -7.60934E-03  4.39879E-04  4.33982E-04  6.90966E-05\\n -4.37349E-04 -5.03555E-03 -2.83748E-02 -9.73389E-02 -1.69084E-01 -5.99715E-02\\n  1.33829E-03  3.78695E-03  1.15568E-03  1.56287E-04\\n -3.45086E-04 -4.06358E-03 -2.23436E-02 -7.55662E-02 -1.09428E-01  2.50736E-03\\n  2.56100E-02  8.16796E-03  1.71170E-03  2.04045E-04\\n -6.10161E-05 -1.02190E-03 -4.56897E-03  2.56417E-03  2.79762E-02  4.05709E-02\\n  2.40557E-02  7.57601E-03  1.41055E-03  1.53119E-04\\n  8.60103E-05  5.91362E-04  3.20423E-03  1.53803E-02  2.76296E-02  2.46182E-02\\n  1.30695E-02  3.85316E-03  6.51756E-04  6.58782E-05\\n  6.36103E-05  4.96990E-04  2.26926E-03  6.37686E-03  9.94714E-03  8.56966E-03\\n  4.10190E-03  1.09027E-03  1.69744E-04  1.62399E-05\\n  1.94202E-05  1.50836E-04  6.44737E-04  1.55802E-03  2.14050E-03  1.65275E-03\\n  7.10138E-04  1.72735E-04  2.51149E-05  2.29756E-06\\n  3.17297E-06  2.41377E-05  9.81940E-05  2.17895E-04  2.68015E-04  1.84103E-04\\n  7.10361E-05  1.57836E-05  2.14065E-06  1.87467E-07\\n -1.89381E-05 -2.22221E-04 -1.28293E-03 -3.63284E-03 -5.00906E-03 -3.29865E-03\\n -9.75917E-04 -9.45326E-05  9.51116E-06  2.69256E-06\\n -1.09058E-04 -1.26330E-03 -7.16737E-03 -1.99408E-02 -2.69143E-02 -1.66782E-02\\n -4.38469E-03 -2.37114E-04  9.50375E-05  1.85368E-05\\n -3.41917E-04 -3.90011E-03 -2.17987E-02 -6.55849E-02 -1.00389E-01 -4.95794E-02\\n -8.12607E-03  7.09863E-04  4.97271E-04  7.44249E-05\\n -5.65299E-04 -6.34395E-03 -3.57557E-02 -1.48620E-01 -3.28830E-01 -7.44167E-02\\n  6.95005E-03  5.47515E-03  1.39628E-03  1.72758E-04\\n -4.47384E-04 -4.97477E-03 -2.67767E-02 -1.05568E-01  9.84906E-02  1.01532E-01\\n  4.43507E-02  1.15947E-02  2.13319E-03  2.30308E-04\\n -9.36272E-05 -1.16828E-03 -3.72950E-03  1.69243E-02  1.13425E-01  1.07849E-01\\n  4.03264E-02  1.08205E-02  1.79011E-03  1.75561E-04\\n  8.87767E-05  7.26716E-04  4.78540E-03  2.37140E-02  4.82353E-02  4.26775E-02\\n  2.02763E-02  5.46679E-03  8.34822E-04  7.63494E-05\\n  6.79638E-05  5.71662E-04  2.88718E-03  8.84410E-03  1.46780E-02  1.29178E-02\\n  6.05773E-03  1.52583E-03  2.17951E-04  1.89363E-05\\n  2.05228E-05  1.66428E-04  7.58602E-04  1.97434E-03  2.89342E-03  2.32432E-03\\n  1.00583E-03  2.37202E-04  3.21220E-05  2.68341E-06\\n  3.30553E-06  2.57931E-05  1.09261E-04  2.55993E-04  3.34125E-04  2.41355E-04\\n  9.56931E-05  2.10673E-05  2.70705E-06  2.18307E-07\\n -1.24240E-05 -1.44852E-04 -8.29024E-04 -2.32041E-03 -3.15070E-03 -2.03423E-03\\n -5.86979E-04 -5.51377E-05  5.42122E-06  1.48986E-06\\n -7.07268E-05 -8.11170E-04 -4.54029E-03 -1.23616E-02 -1.61547E-02 -9.67353E-03\\n -2.38377E-03 -8.00634E-05  6.06254E-05  1.06167E-05\\n -2.18157E-04 -2.44779E-03 -1.33095E-02 -3.64213E-02 -4.80474E-02 -2.29499E-02\\n -2.99023E-03  8.49788E-04  3.32567E-04  4.39074E-05\\n -3.52159E-04 -3.83348E-03 -2.01114E-02 -6.05892E-02 -7.61868E-02 -1.01262E-02\\n  8.09497E-03  4.43390E-03  9.53720E-04  1.04357E-04\\n -2.67597E-04 -2.78010E-03 -1.28847E-02 -2.59787E-02  4.86763E-02  7.50693E-02\\n  2.95131E-02  8.67624E-03  1.47175E-03  1.41608E-04\\n -4.71035E-05 -4.19311E-04  1.59744E-04  1.73243E-02  7.90544E-02  7.66904E-02\\n  3.10279E-02  8.24483E-03  1.24204E-03  1.09293E-04\\n  5.73720E-05  5.82185E-04  4.05241E-03  1.68591E-02  3.58068E-02  3.42596E-02\\n  1.62791E-02  4.14446E-03  5.79633E-04  4.79004E-05\\n  4.03976E-05  3.73392E-04  2.06612E-03  6.60373E-03  1.14113E-02  1.02245E-02\\n  4.71168E-03  1.13634E-03  1.50849E-04  1.19236E-05\\n  1.16916E-05  1.00409E-04  4.91795E-04  1.37047E-03  2.11167E-03  1.74072E-03\\n  7.54068E-04  1.73193E-04  2.20788E-05  1.68924E-06\\n  1.82900E-06  1.47789E-05  6.58100E-05  1.63553E-04  2.25756E-04  1.69988E-04\\n  6.87342E-05  1.49919E-05  1.83809E-06  1.36837E-07\\n -3.87238E-06 -4.48284E-05 -2.53255E-04 -6.94372E-04 -9.13159E-04 -5.59824E-04\\n -1.45987E-04 -8.79228E-06  2.47839E-06  4.78675E-07\\n -2.15890E-05 -2.44474E-04 -1.33910E-03 -3.51266E-03 -4.31257E-03 -2.32982E-03\\n -4.26854E-04  4.48371E-05  2.55979E-05  3.48977E-06\\n -6.43087E-05 -7.04721E-04 -3.66652E-03 -8.83898E-03 -9.09184E-03 -3.15165E-03\\n  5.59991E-04  5.85339E-04  1.34801E-04  1.46881E-05\\n -9.73476E-05 -1.00830E-03 -4.70382E-03 -8.20665E-03  2.23104E-03  8.44682E-03\\n  6.14252E-03  2.18895E-03  3.76995E-04  3.53516E-05\\n -6.28803E-05 -5.63340E-04 -1.63274E-03  4.29051E-03  3.48995E-02  3.01775E-02\\n  1.36959E-02  3.83815E-03  5.71905E-04  4.83744E-05\\n  2.66340E-06  1.27824E-04  1.91063E-03  1.12734E-02  2.97068E-02  2.87626E-02\\n  1.36031E-02  3.48101E-03  4.76645E-04  3.75219E-05\\n  2.52734E-05  2.97818E-04  2.10670E-03  8.04850E-03  1.56363E-02  1.48231E-02\\n  7.00453E-03  1.69790E-03  2.20168E-04  1.64809E-05\\n  1.40138E-05  1.43124E-04  8.51823E-04  2.80704E-03  4.87401E-03  4.33105E-03\\n  1.95541E-03  4.54690E-04  5.67615E-05  4.10142E-06\\n  3.69019E-06  3.40209E-05  1.79091E-04  5.27626E-04  8.39919E-04  7.01017E-04\\n  3.02379E-04  6.78695E-05  8.22538E-06  5.79503E-07\\n  5.45939E-07  4.62555E-06  2.18456E-05  5.76174E-05  8.34785E-05  6.48593E-05\\n  2.65593E-05  5.73941E-06  6.76185E-07  4.66855E-08\\n -4.77838E-07 -5.47650E-06 -2.99034E-05 -7.65765E-05 -8.83029E-05 -4.01739E-05\\n -2.00252E-06  3.20785E-06  8.83119E-07  9.99700E-08\\n -2.49148E-06 -2.74363E-05 -1.40464E-04 -3.20881E-04 -2.85964E-04 -2.88436E-05\\n  7.95729E-05  3.89514E-05  7.43474E-06  7.19638E-07\\n -6.45884E-06 -6.57435E-05 -2.87426E-04 -4.30601E-04  1.80890E-04  8.76793E-04\\n  6.81856E-04  2.20217E-04  3.48098E-05  2.99173E-06\\n -6.74554E-06 -5.18982E-05 -5.23730E-05  9.34966E-04  3.64273E-03  4.27730E-03\\n  2.33455E-03  6.39927E-04  9.04969E-05  7.12089E-06\\n  1.61018E-06  5.58101E-05  6.73322E-04  3.51777E-03  8.49773E-03  8.21915E-03\\n  3.95068E-03  9.93543E-04  1.30862E-04  9.65067E-06\\n  9.17748E-06  1.31085E-04  1.01678E-03  4.03735E-03  8.01177E-03  7.51456E-03\\n  3.51399E-03  8.40669E-04  1.05552E-04  7.42445E-06\\n  7.71413E-06  9.48944E-05  6.43513E-04  2.28643E-03  4.13134E-03  3.73813E-03\\n  1.69805E-03  3.92410E-04  4.76408E-05  3.23831E-06\\n  3.08071E-06  3.41011E-05  2.10269E-04  6.93252E-04  1.18401E-03  1.02921E-03\\n  4.53157E-04  1.01957E-04  1.20751E-05  8.00947E-07\\n  6.87895E-07  6.87172E-06  3.84992E-05  1.17579E-04  1.89806E-04  1.58405E-04\\n  6.76719E-05  1.48700E-05  1.72634E-06  1.12514E-07\\n  9.16960E-08  8.29348E-07  4.18828E-06  1.16808E-05  1.75792E-05  1.39457E-05\\n  5.74690E-06  1.23036E-06  1.40119E-07  9.00737E-09\\n  9.72577E-09  1.19363E-07  9.56310E-07  4.24838E-06  9.47474E-06  1.03157E-05\\n  5.50265E-06  1.46539E-06  2.01618E-07  1.51329E-08\\n  1.06610E-07  1.38058E-06  1.03369E-05  4.13958E-05  8.42519E-05  8.53910E-05\\n  4.30495E-05  1.09325E-05  1.43950E-06  1.03461E-07\\n  6.21376E-07  8.11044E-06  5.80055E-05  2.17737E-04  4.16442E-04  3.99943E-04\\n  1.92616E-04  4.69703E-05  5.94722E-06  4.10577E-07\\n  1.92177E-06  2.49019E-05  1.72371E-04  6.20211E-04  1.13770E-03  1.04929E-03\\n  4.87416E-04  1.15018E-04  1.40932E-05  9.39500E-07\\n  3.21327E-06  4.10281E-05  2.76612E-04  9.64919E-04  1.71649E-03  1.53642E-03\\n  6.94228E-04  1.59615E-04  1.90450E-05  1.23328E-06\\n  2.96557E-06  3.70428E-05  2.43571E-04  8.27496E-04  1.43371E-03  1.25567E-03\\n  5.55886E-04  1.25212E-04  1.46275E-05  9.25481E-07\\n  1.54521E-06  1.86850E-05  1.19417E-04  3.95594E-04  6.70059E-04  5.75773E-04\\n  2.50525E-04  5.54998E-05  6.37604E-06  3.96213E-07\\n  4.67174E-07  5.38301E-06  3.31318E-05  1.06596E-04  1.76427E-04  1.48780E-04\\n  6.37135E-05  1.39162E-05  1.57742E-06  9.67020E-08\\n  8.47706E-08  9.11663E-07  5.31702E-06  1.64390E-05  2.64287E-05  2.18106E-05\\n  9.18585E-06  1.97956E-06  2.21836E-07  1.34628E-08\\n  9.56257E-09  9.41451E-08  5.09235E-07  1.48586E-06  2.29078E-06  1.83527E-06\\n  7.56801E-07  1.60608E-07  1.77961E-08  1.07137E-09\\n  7.70700E-09  8.91133E-08  5.38355E-07  1.69490E-06  2.76845E-06  2.33481E-06\\n  1.01325E-06  2.26350E-07  2.62316E-08  1.61218E-09\\n  5.00632E-08  5.84061E-07  3.55478E-06  1.12484E-05  1.84157E-05  1.55251E-05\\n  6.71855E-06  1.49340E-06  1.71850E-07  1.04631E-08\\n  1.91432E-07  2.25161E-06  1.37870E-05  4.37694E-05  7.16878E-05  6.03017E-05\\n  2.59806E-05  5.73859E-06  6.55000E-07  3.94736E-08\\n  4.28668E-07  5.07363E-06  3.11926E-05  9.91619E-05  1.62207E-04  1.35961E-04\\n  5.82619E-05  1.27797E-05  1.44637E-06  8.62756E-08\\n  5.59491E-07  6.64433E-06  4.09146E-05  1.29995E-04  2.12079E-04  1.76974E-04\\n  7.53932E-05  1.64215E-05  1.84337E-06  1.08904E-07\\n  4.24519E-07  5.03770E-06  3.09782E-05  9.81672E-05  1.59524E-04  1.32443E-04\\n  5.60851E-05  1.21337E-05  1.35185E-06  7.91874E-08\\n  1.87481E-07  2.20980E-06  1.35148E-05  4.26055E-05  6.88617E-05  5.68446E-05\\n  2.39264E-05  5.14367E-06  5.69262E-07  3.31071E-08\\n  4.85412E-08  5.62986E-07  3.40325E-06  1.06320E-05  1.70536E-05  1.39819E-05\\n  5.84796E-06  1.24966E-06  1.37500E-07  7.95057E-09\\n  7.48742E-09  8.42080E-08  4.98074E-07  1.53195E-06  2.42894E-06  1.97362E-06\\n  8.19484E-07  1.74051E-07  1.90508E-08  1.09658E-09\\n  7.06776E-10  7.54928E-09  4.29943E-08  1.28739E-07  2.00305E-07  1.60589E-07\\n  6.60349E-08  1.39251E-08  1.51614E-09  8.69448E-11\\n\",\"cube\");\n",
              "\tviewer_16753987067236004.setStyle({\"stick\": {}});\n",
              "\tviewer_16753987067236004.zoomTo();\n",
              "viewer_16753987067236004.render();\n",
              "});\n",
              "</script>"
            ]
          },
          "metadata": {}
        }
      ],
      "source": [
        "\n",
        "data = None\n",
        "with open(\"opt.cube\", \"r\") as infile:\n",
        "    data = infile.read()\n",
        "view = py3Dmol.view()\n",
        "view.addVolumetricData(\n",
        "    data,\n",
        "    \"cube\",\n",
        "    {\n",
        "        \"isoval\": 1.0,\n",
        "        \"volformat\": \"cube\",\n",
        "    },\n",
        ")\n",
        "view.addModel(data, \"cube\")\n",
        "view.setStyle({\"stick\": {}})\n",
        "view.zoomTo()\n",
        "view.show()"
      ]
    },
    {
      "cell_type": "code",
      "execution_count": 6,
      "metadata": {
        "id": "vPFJLvRP-nK_"
      },
      "outputs": [],
      "source": []
    }
  ],
  "metadata": {
    "colab": {
      "provenance": [],
      "authorship_tag": "ABX9TyNnmg6BqzJoMNLZovTc1rme",
      "include_colab_link": true
    },
    "kernelspec": {
      "display_name": "Python 3",
      "name": "python3"
    },
    "language_info": {
      "name": "python"
    }
  },
  "nbformat": 4,
  "nbformat_minor": 0
}