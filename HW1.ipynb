{
  "nbformat": 4,
  "nbformat_minor": 0,
  "metadata": {
    "colab": {
      "provenance": [],
      "authorship_tag": "ABX9TyOq1hhTangn44eAW70CnO/a",
      "include_colab_link": true
    },
    "kernelspec": {
      "name": "python3",
      "display_name": "Python 3"
    },
    "language_info": {
      "name": "python"
    }
  },
  "cells": [
    {
      "cell_type": "markdown",
      "metadata": {
        "id": "view-in-github",
        "colab_type": "text"
      },
      "source": [
        "<a href=\"https://colab.research.google.com/github/alisterpage/CHEM3580-Jupyter-Notebooks/blob/main/HW1.ipynb\" target=\"_parent\"><img src=\"https://colab.research.google.com/assets/colab-badge.svg\" alt=\"Open In Colab\"/></a>"
      ]
    },
    {
      "cell_type": "code",
      "execution_count": null,
      "metadata": {
        "id": "auMXWgNKqzTF"
      },
      "outputs": [],
      "source": [
        "!pip install pyscf geometric py3Dmol pythreejs -q 2>&1 >/dev/null\n",
        "import pyscf\n",
        "from pyscf import gto, scf, tools, lo, lib, dft\n",
        "#from pyscf.geomopt.berny_solver import optimize\n",
        "from pyscf.geomopt.geometric_solver import optimize\n",
        "from geometric.molecule import Molecule\n",
        "import py3Dmol\n",
        "from google.colab import output\n",
        "output.enable_custom_widget_manager()\n",
        "import numpy as np\n",
        "from __future__ import print_function\n",
        "import sys"
      ]
    },
    {
      "cell_type": "code",
      "source": [
        "import ipywidgets as widgets\n",
        "\n",
        "dihedral_textbox = widgets.FloatText(\n",
        "    value=0.0,\n",
        "    description='Dihedral Angle (degrees):',\n",
        "    disabled=False\n",
        ")\n",
        "\n",
        "display(dihedral_textbox)\n",
        "\n",
        "# Get the value entered by the user in the widget and store it as a float variable called dihedral\n"
      ],
      "metadata": {
        "id": "cgvqgoA0rNDy"
      },
      "execution_count": null,
      "outputs": []
    },
    {
      "cell_type": "code",
      "source": [
        "#define molecule\n",
        "initial_dihedral = dihedral_textbox.value\n",
        "mol = gto.Mole()\n",
        "#mol.atom = '''\n",
        "#    H\n",
        "#    H 1 1.8\n",
        "#    H 2 1.8 1 60.0\n",
        "#    C 1 1.1 2 35.2 3 {}\n",
        "#'''.format(initial_dihedral)\n",
        "\n",
        "\n",
        "mol.atom = '''\n",
        "C\n",
        "C  1  1.5288\n",
        "C  2  1.5369  1  a3\n",
        "C  3  1.5288  2  a4  1  d4\n",
        "H  2  r5  1  a5  3  d5\n",
        "H  2  r6  1  a6  3  d6\n",
        "H  3  r7  2  a7  1  d7\n",
        "H  3  r8  2  a8  1  d8\n",
        "H  4  r9  3  a9  2  d9\n",
        "H  4  r10  3  a10  2  d10\n",
        "H  4  r11  3  a11  2  d11\n",
        "H  1  r12  2  a12  3  d12\n",
        "H  1  r13  2  a13  3  d13\n",
        "H  1  r14  2  a14  3  d14\n",
        "Variables:\n",
        "r2= \n",
        "r3= \n",
        "a3= 113.35\n",
        "r4= 1.5288\n",
        "a4= 113.35\n",
        "d4=  64.43\n",
        "r5= 1.1116\n",
        "a5= 107.90\n",
        "d5= 240.40\n",
        "r6= 1.1117\n",
        "a6= 109.51\n",
        "d6= 122.95\n",
        "r7= 1.1117\n",
        "a7= 109.78\n",
        "d7= 301.63\n",
        "r8= 1.1116\n",
        "a8= 108.04\n",
        "d8= 183.95\n",
        "r9= 1.1089\n",
        "a9= 111.26\n",
        "d9= 296.51\n",
        "r10= 1.1104\n",
        "a10= 109.33\n",
        "d10= 177.48\n",
        "r11= 1.1107\n",
        "a11= 110.27\n",
        "d11=  58.12\n",
        "r12= 1.1107\n",
        "a12= 110.27\n",
        "d12=  58.12\n",
        "r13= 1.1089\n",
        "a13= 111.26\n",
        "d13= 296.50\n",
        "r14= 1.1104\n",
        "a14= 109.33\n",
        "d14= 177.47\n",
        "'''\n",
        "\n",
        "#define model chemistry & calculation \n",
        "mol.basis = '6-31g(d)'\n",
        "mol.spin=1;\n",
        "mol.build();\n",
        "mf = dft.ROKS(mol)\n",
        "mf.xc = 'b3lyp'\n",
        "mf = mf.newton()\n",
        "mf.kernel()\n",
        "\n",
        "# Optimize the geometry\n",
        "text = \"$freeze\\ndihedral 1 2 3 4\\n\"\n",
        "with open(\"constraints.txt\", \"w\") as f:\n",
        "    f.write(text)\n",
        "params = {\"constraints\": \"constraints.txt\",}\n",
        "mol_eq = optimize(mf, **params)\n",
        "\n",
        "#print(mol_eq.atom_coords())\n",
        "\n",
        "# Get the optimized energy\n",
        "mf = dft.ROKS(mol_eq)\n",
        "mf.xc = 'b3lyp'\n",
        "mf = mf.newton()\n",
        "mf.kernel()\n",
        "\n",
        "# Create a temporary XYZ file with the optimized coordinates\n",
        "symbols = [atom[0] for atom in mol_eq.atom];\n",
        "coords = mol_eq.atom_coords();\n",
        "with open(\"temp.xyz\", \"w\") as f:\n",
        "    f.write(\"%d\\n\" % len(symbols))\n",
        "    f.write(\"Generated by PySCF and Geometric\\n\")\n",
        "    for i in range(len(symbols)):\n",
        "        f.write(\"%s %f %f %f\\n\" % (symbols[i], coords[i,0], coords[i,1], coords[i,2]))\n",
        "\n",
        "# Convert the PySCF object to a `Molecule` object using the XYZ file and store dihedral angle.\n",
        "mol_geom = Molecule(\"temp.xyz\");\n",
        "dihedral=Molecule.measure_dihedrals(mol_geom,0,1,2,3);"
      ],
      "metadata": {
        "id": "rpAEpHburOF6"
      },
      "execution_count": null,
      "outputs": []
    }
  ]
}