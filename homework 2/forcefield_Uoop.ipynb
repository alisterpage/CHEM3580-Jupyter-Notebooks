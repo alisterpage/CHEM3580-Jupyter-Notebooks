{
  "cells": [
    {
      "cell_type": "markdown",
      "metadata": {
        "colab_type": "text",
        "id": "view-in-github"
      },
      "source": [
        "<a href=\"https://colab.research.google.com/github/alisterpage/CHEM3580-Jupyter-Notebooks/blob/main/twisting_carbenes.ipynb\" target=\"_parent\"><img src=\"https://colab.research.google.com/assets/colab-badge.svg\" alt=\"Open In Colab\"/></a>"
      ]
    },
    {
      "cell_type": "markdown",
      "metadata": {},
      "source": [
        "## Homework - Forcefield Parameter Development: U$_\\text{oop}$\n",
        "\n",
        "For this homework exercise, we will use quantum chemistry to develop the forcefield parameters for the out-of-plane bending term ($U_\\text{oop}(\\chi$)) for two molecules - the methylene radical, and formaldehyde. \n",
        " "
      ]
    },
    {
      "cell_type": "markdown",
      "metadata": {
        "id": "DeDCU9IOrUjN"
      },
      "source": [
        "**Run the code cell below to setup the environment and software you need for this exercise.** (It may take a minute or so to run...)\n"
      ]
    },
    {
      "cell_type": "code",
      "execution_count": null,
      "metadata": {
        "cellView": "form",
        "id": "kp6SqarFumzm"
      },
      "outputs": [],
      "source": [
        "#@title\n",
        "!pip install pyscf geometric py3Dmol fortecubeview pythreejs -q 2>&1 >/dev/null\n",
        "import pyscf\n",
        "from pyscf import gto, scf, tools, lo, lib, dft\n",
        "#from pyscf.geomopt.berny_solver import optimize\n",
        "from pyscf.geomopt.geometric_solver import optimize\n",
        "from geometric.molecule import Molecule\n",
        "import py3Dmol\n",
        "import fortecubeview\n",
        "from google.colab import output\n",
        "output.enable_custom_widget_manager()\n",
        "import numpy as np\n",
        "from __future__ import print_function\n",
        "import sys"
      ]
    },
    {
      "cell_type": "markdown",
      "metadata": {},
      "source": [
        "### Part 1: Methylene Radical \n",
        "\n",
        "The code cells below will optimise the geometry of the methylene radical with the H-H-H-C dihedral angle $\\chi$ frozen at the value you specify. The code will use density functional theory (B3LYP/6-31G(d)), which you have used previously in CHEM2410. \n",
        "\n",
        "Use this code to calculate the constrained energy of the methylene radical as a function of $\\chi$, for several different $\\chi$ values (consider a range of 0 - 50 degrees). Ensure that the optimised χ value (reported at the end of the calculation) is approximately the same as the value you fixed it at, and inspect the optimised structure to ensure that it is reasonable. Repeat the calculation as many times as you think necessary to get a reliable correlation between the optimised energy and the dihedral angle $\\chi$.\n",
        "\n"
      ]
    },
    {
      "cell_type": "markdown",
      "metadata": {
        "id": "FvGDWqHUrhnp"
      },
      "source": [
        "**Enter the value of the dihedral angle you want in the text box below.**"
      ]
    },
    {
      "cell_type": "code",
      "execution_count": null,
      "metadata": {
        "cellView": "form",
        "colab": {
          "base_uri": "https://localhost:8080/",
          "height": 50,
          "referenced_widgets": [
            "e37c891cc1bd4f7faa909369bea2df87",
            "99e302f989f7473ba32185791645cda9",
            "67466ad79e604a78b304dcd4289127f4"
          ]
        },
        "id": "as-PIjVUr-54",
        "outputId": "f068cdb4-04cc-42d4-e419-332f33015431"
      },
      "outputs": [],
      "source": [
        "#@title\n",
        "import ipywidgets as widgets\n",
        "\n",
        "dihedral_textbox = widgets.FloatText(\n",
        "    value=0.0,\n",
        "    description='Dihedral Angle (degrees):',\n",
        "    disabled=False\n",
        ")\n",
        "\n",
        "display(dihedral_textbox)\n",
        "\n",
        "# Get the value entered by the user in the widget and store it as a float variable called dihedral\n"
      ]
    },
    {
      "cell_type": "markdown",
      "metadata": {
        "id": "vxfm_YE1rNJS"
      },
      "source": [
        "**Run the next code cell to do the B3LYP/6-31G(d) geometry optimisation**\n",
        "\n",
        "(You can ignore the output from this cell - the cell below summarises the key results for you)"
      ]
    },
    {
      "cell_type": "code",
      "execution_count": null,
      "metadata": {
        "cellView": "form",
        "colab": {
          "base_uri": "https://localhost:8080/"
        },
        "collapsed": true,
        "id": "oidfKFQ42McO",
        "outputId": "b789a29a-dfa6-401c-dc4d-63697621da04"
      },
      "outputs": [],
      "source": [
        "#@title\n",
        "#define molecule\n",
        "initial_dihedral = dihedral_textbox.value\n",
        "mol = gto.Mole()\n",
        "mol.atom = '''\n",
        "    H\n",
        "    H 1 1.8\n",
        "    H 2 1.8 1 60.0\n",
        "    C 1 1.1 2 35.2 3 {}\n",
        "'''.format(initial_dihedral)\n",
        "\n",
        "#define model chemistry & calculation \n",
        "mol.basis = '6-31g(d)'\n",
        "mol.spin=1;\n",
        "mol.build();\n",
        "mf = dft.ROKS(mol)\n",
        "mf.xc = 'b3lyp'\n",
        "mf = mf.newton()\n",
        "mf.kernel()\n",
        "\n",
        "# Optimize the geometry\n",
        "text = \"$freeze\\ndihedral 1 2 3 4\\n\"\n",
        "with open(\"constraints.txt\", \"w\") as f:\n",
        "    f.write(text)\n",
        "params = {\"constraints\": \"constraints.txt\",}\n",
        "mol_eq = optimize(mf, **params)\n",
        "\n",
        "#print(mol_eq.atom_coords())\n",
        "\n",
        "# Get the optimized energy\n",
        "mf = dft.ROKS(mol_eq)\n",
        "mf.xc = 'b3lyp'\n",
        "mf = mf.newton()\n",
        "mf.kernel()\n",
        "\n",
        "# Create a temporary XYZ file with the optimized coordinates\n",
        "symbols = [atom[0] for atom in mol_eq.atom];\n",
        "coords = mol_eq.atom_coords();\n",
        "with open(\"temp.xyz\", \"w\") as f:\n",
        "    f.write(\"%d\\n\" % len(symbols))\n",
        "    f.write(\"Generated by PySCF and Geometric\\n\")\n",
        "    for i in range(len(symbols)):\n",
        "        f.write(\"%s %f %f %f\\n\" % (symbols[i], coords[i,0], coords[i,1], coords[i,2]))\n",
        "\n",
        "# Convert the PySCF object to a `Molecule` object using the XYZ file and store dihedral angle.\n",
        "mol_geom = Molecule(\"temp.xyz\");\n",
        "dihedral=Molecule.measure_dihedrals(mol_geom,0,1,2,3);"
      ]
    },
    {
      "cell_type": "markdown",
      "metadata": {
        "id": "cOaSK9JwuqIT"
      },
      "source": [
        "**Run the next code cell to summarise the calculation and show the geometry of the molecule**"
      ]
    },
    {
      "cell_type": "code",
      "execution_count": null,
      "metadata": {
        "cellView": "form",
        "colab": {
          "base_uri": "https://localhost:8080/",
          "height": 548
        },
        "id": "nTnry5TZdc-i",
        "outputId": "04c8a45f-a335-4aa4-cb8f-26f1ef994cf6"
      },
      "outputs": [],
      "source": [
        "#@title\n",
        "#print summary\n",
        "print('Initial dihedral before geometry optimisation:', initial_dihedral,\"degrees\")\n",
        "print('Final dihedral after geometry optimisation:', abs(dihedral[0]), 'degrees')\n",
        "print('Final energy after geometry optimisation:', mf.e_tot,\"Hartree\")\n",
        "\n",
        "# get the atomic positions & write PDB file\n",
        "atom_pos = mol.atom_coords()\n",
        "atom_symbol = mol._atom\n",
        "\n",
        "with open('mol.xyz', 'w') as f:\n",
        "    f.write(f'{len(mol._atom)}\\n')\n",
        "    f.write('opt geom\\n')\n",
        "    for i, (symbol, pos) in enumerate(zip(atom_symbol, atom_pos)):\n",
        "        f.write(f'{symbol[0]}  {pos[0]:>7.3f}{pos[1]:>7.3f}{pos[2]:>7.3f}\\n')\n",
        "\n",
        "\n",
        "view = py3Dmol.view()\n",
        "view.addModel(open('mol.xyz', 'r').read(),'xyz')\n",
        "view.setBackgroundColor('#CFB691')\n",
        "view.setStyle({'sphere': {'radius': 0.5}})\n",
        "view.zoomTo()\n",
        "view.show()\n"
      ]
    },
    {
      "cell_type": "markdown",
      "metadata": {},
      "source": [
        "### Part 2: Formaldehyde\n",
        "\n",
        "The code cells below will optimise the geometry of formaldehyde with the O-H-H-C dihedral angle $\\chi$ frozen at the value you specify. The code will use density functional theory (B3LYP/6-31G(d)), which you have used previously in CHEM2410. _This is the same level of theory used for methylene, above_.\n",
        "\n",
        "Use this code to calculate the constrained energy of formaldehyde as a function of $\\chi$, for several different $\\chi$ values (consider a range of 0 - 50 degrees). Ensure that the optimised χ value (reported at the end of the calculation) is approximately the same as the value you fixed it at, and inspect the optimised structure to ensure that it is reasonable. Repeat the calculation as many times as you think necessary to get a reliable correlation between the optimised energy and the dihedral angle $\\chi$.\n",
        "\n"
      ]
    },
    {
      "cell_type": "markdown",
      "metadata": {},
      "source": [
        "**Enter the value of the dihedral angle you want in the text box below.**"
      ]
    },
    {
      "cell_type": "code",
      "execution_count": null,
      "metadata": {},
      "outputs": [],
      "source": [
        "#@title\n",
        "import ipywidgets as widgets\n",
        "\n",
        "dihedral_textbox = widgets.FloatText(\n",
        "    value=0.0,\n",
        "    description='Dihedral Angle (degrees):',\n",
        "    disabled=False\n",
        ")\n",
        "\n",
        "display(dihedral_textbox)\n",
        "\n",
        "# Get the value entered by the user in the widget and store it as a float variable called dihedral\n"
      ]
    },
    {
      "cell_type": "markdown",
      "metadata": {},
      "source": [
        "**Run the next code cell to do the B3LYP/6-31G(d) geometry optimisation**\n",
        "\n",
        "(You can ignore the output from this cell - the cell below summarises the key results for you)"
      ]
    },
    {
      "cell_type": "code",
      "execution_count": null,
      "metadata": {},
      "outputs": [],
      "source": [
        "#@title\n",
        "#define molecule\n",
        "initial_dihedral = dihedral_textbox.value\n",
        "mol = gto.Mole()\n",
        "mol.atom = '''\n",
        "    O\n",
        "    H 1 2.03\n",
        "    H 2 1.87 1 62.0\n",
        "    C 1 1.2 2 27.5 3 {}\n",
        "'''.format(initial_dihedral)\n",
        "\n",
        "#define model chemistry & calculation \n",
        "mol.basis = '6-31g(d)'\n",
        "mol.spin=0;\n",
        "mol.build();\n",
        "mf = dft.RKS(mol)\n",
        "mf.xc = 'b3lyp'\n",
        "mf = mf.newton()\n",
        "mf.kernel()\n",
        "\n",
        "# Optimize the geometry\n",
        "text = \"$freeze\\ndihedral 1 2 3 4\\n\"\n",
        "with open(\"constraints.txt\", \"w\") as f:\n",
        "    f.write(text)\n",
        "params = {\"constraints\": \"constraints.txt\",}\n",
        "mol_eq = optimize(mf, **params)\n",
        "\n",
        "#print(mol_eq.atom_coords())\n",
        "\n",
        "# Get the optimized energy\n",
        "mf = dft.RKS(mol_eq)\n",
        "mf.xc = 'b3lyp'\n",
        "mf = mf.newton()\n",
        "mf.kernel()\n",
        "\n",
        "# Create a temporary XYZ file with the optimized coordinates\n",
        "symbols = [atom[0] for atom in mol_eq.atom];\n",
        "coords = mol_eq.atom_coords();\n",
        "with open(\"temp.xyz\", \"w\") as f:\n",
        "    f.write(\"%d\\n\" % len(symbols))\n",
        "    f.write(\"Generated by PySCF and Geometric\\n\")\n",
        "    for i in range(len(symbols)):\n",
        "        f.write(\"%s %f %f %f\\n\" % (symbols[i], coords[i,0], coords[i,1], coords[i,2]))\n",
        "\n",
        "# Convert the PySCF object to a `Molecule` object using the XYZ file and store dihedral angle.\n",
        "mol_geom = Molecule(\"temp.xyz\");\n",
        "dihedral=Molecule.measure_dihedrals(mol_geom,0,1,2,3);"
      ]
    },
    {
      "cell_type": "markdown",
      "metadata": {},
      "source": [
        "**Run the next code cell to summarise the calculation and show the geometry of the molecule**\n",
        "\n",
        "**NOTE: The 'Final dihedral' value is the one you need to use in determining $k_c$.**"
      ]
    },
    {
      "cell_type": "code",
      "execution_count": null,
      "metadata": {},
      "outputs": [],
      "source": [
        "#@title\n",
        "#print summary\n",
        "print('Initial dihedral before geometry optimisation:', initial_dihedral,\"degrees\")\n",
        "print('Final dihedral after geometry optimisation:', abs(dihedral[0]), 'degrees')\n",
        "print('Final energy after geometry optimisation:', mf.e_tot,\"Hartree\")\n",
        "\n",
        "# get the atomic positions & write PDB file\n",
        "atom_pos = mol.atom_coords()\n",
        "atom_symbol = mol._atom\n",
        "\n",
        "with open('mol.xyz', 'w') as f:\n",
        "    f.write(f'{len(mol._atom)}\\n')\n",
        "    f.write('opt geom\\n')\n",
        "    for i, (symbol, pos) in enumerate(zip(atom_symbol, atom_pos)):\n",
        "        f.write(f'{symbol[0]}  {pos[0]:>7.3f}{pos[1]:>7.3f}{pos[2]:>7.3f}\\n')\n",
        "\n",
        "\n",
        "view = py3Dmol.view()\n",
        "view.addModel(open('mol.xyz', 'r').read(),'xyz')\n",
        "view.setBackgroundColor('#CFB691')\n",
        "view.setStyle({'sphere': {'radius': 0.5}})\n",
        "view.zoomTo()\n",
        "view.show()\n"
      ]
    },
    {
      "cell_type": "markdown",
      "metadata": {},
      "source": [
        "### Questions \n",
        "\n",
        "1. Use your data to estimate the out-of-plane bending force constant $k^c$ for the out-of-plane bending potentials in the methylene radical and formaldeyde. (It is easiest to do this analysis in Microsoft Excel.)\n",
        "1. Both of these molecules have equivalent structure and a central sp$^2$-hybridised carbon atom. Why do you think the $k^c$ values for these two potentials are so different? Explain your answer in terms of the electronic structure and bonding in these molecules.\n",
        "\n",
        "**Submit your homework as a single MS excel file. You will be assessed on (1) the accuracy of your force constant value, and its $\\pm$ margin of error, and (2) your answer to question 2, above.**"
      ]
    },
    {
      "cell_type": "markdown",
      "metadata": {},
      "source": []
    }
  ],
  "metadata": {
    "colab": {
      "authorship_tag": "ABX9TyP0Ymn58kLPMBYXZKqXbWML",
      "include_colab_link": true,
      "provenance": []
    },
    "kernelspec": {
      "display_name": "Python 3",
      "name": "python3"
    },
    "language_info": {
      "name": "python"
    },
    "widgets": {
      "application/vnd.jupyter.widget-state+json": {
        "67466ad79e604a78b304dcd4289127f4": {
          "model_module": "@jupyter-widgets/controls",
          "model_module_version": "1.5.0",
          "model_name": "DescriptionStyleModel",
          "state": {
            "_model_module": "@jupyter-widgets/controls",
            "_model_module_version": "1.5.0",
            "_model_name": "DescriptionStyleModel",
            "_view_count": null,
            "_view_module": "@jupyter-widgets/base",
            "_view_module_version": "1.2.0",
            "_view_name": "StyleView",
            "description_width": ""
          }
        },
        "99e302f989f7473ba32185791645cda9": {
          "model_module": "@jupyter-widgets/base",
          "model_module_version": "1.2.0",
          "model_name": "LayoutModel",
          "state": {
            "_model_module": "@jupyter-widgets/base",
            "_model_module_version": "1.2.0",
            "_model_name": "LayoutModel",
            "_view_count": null,
            "_view_module": "@jupyter-widgets/base",
            "_view_module_version": "1.2.0",
            "_view_name": "LayoutView",
            "align_content": null,
            "align_items": null,
            "align_self": null,
            "border": null,
            "bottom": null,
            "display": null,
            "flex": null,
            "flex_flow": null,
            "grid_area": null,
            "grid_auto_columns": null,
            "grid_auto_flow": null,
            "grid_auto_rows": null,
            "grid_column": null,
            "grid_gap": null,
            "grid_row": null,
            "grid_template_areas": null,
            "grid_template_columns": null,
            "grid_template_rows": null,
            "height": null,
            "justify_content": null,
            "justify_items": null,
            "left": null,
            "margin": null,
            "max_height": null,
            "max_width": null,
            "min_height": null,
            "min_width": null,
            "object_fit": null,
            "object_position": null,
            "order": null,
            "overflow": null,
            "overflow_x": null,
            "overflow_y": null,
            "padding": null,
            "right": null,
            "top": null,
            "visibility": null,
            "width": null
          }
        },
        "e37c891cc1bd4f7faa909369bea2df87": {
          "model_module": "@jupyter-widgets/controls",
          "model_module_version": "1.5.0",
          "model_name": "FloatTextModel",
          "state": {
            "_dom_classes": [],
            "_model_module": "@jupyter-widgets/controls",
            "_model_module_version": "1.5.0",
            "_model_name": "FloatTextModel",
            "_view_count": null,
            "_view_module": "@jupyter-widgets/controls",
            "_view_module_version": "1.5.0",
            "_view_name": "FloatTextView",
            "continuous_update": false,
            "description": "Dihedral Angle (degrees):",
            "description_tooltip": null,
            "disabled": false,
            "layout": "IPY_MODEL_99e302f989f7473ba32185791645cda9",
            "step": null,
            "style": "IPY_MODEL_67466ad79e604a78b304dcd4289127f4",
            "value": 25
          }
        }
      }
    }
  },
  "nbformat": 4,
  "nbformat_minor": 0
}
