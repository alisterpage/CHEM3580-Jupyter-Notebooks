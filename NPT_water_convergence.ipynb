{
  "nbformat": 4,
  "nbformat_minor": 0,
  "metadata": {
    "colab": {
      "provenance": [],
      "authorship_tag": "ABX9TyMccxO9yWu7J8w5XOMblqUF",
      "include_colab_link": true
    },
    "kernelspec": {
      "name": "python3",
      "display_name": "Python 3"
    },
    "language_info": {
      "name": "python"
    },
    "widgets": {
      "application/vnd.jupyter.widget-state+json": {
        "fcfc0e5f1a4d4b9499ae259d8e555b30": {
          "model_module": "@jupyter-widgets/controls",
          "model_name": "FloatTextModel",
          "model_module_version": "1.5.0",
          "state": {
            "_dom_classes": [],
            "_model_module": "@jupyter-widgets/controls",
            "_model_module_version": "1.5.0",
            "_model_name": "FloatTextModel",
            "_view_count": null,
            "_view_module": "@jupyter-widgets/controls",
            "_view_module_version": "1.5.0",
            "_view_name": "FloatTextView",
            "continuous_update": false,
            "description": "Simulation Temperature (K):",
            "description_tooltip": null,
            "disabled": false,
            "layout": "IPY_MODEL_00252ac4725a4d16844bd2b63b7f5874",
            "step": 1,
            "style": "IPY_MODEL_5430a72bef0c4559b3c435052c7c2209",
            "value": 298
          }
        },
        "00252ac4725a4d16844bd2b63b7f5874": {
          "model_module": "@jupyter-widgets/base",
          "model_name": "LayoutModel",
          "model_module_version": "1.2.0",
          "state": {
            "_model_module": "@jupyter-widgets/base",
            "_model_module_version": "1.2.0",
            "_model_name": "LayoutModel",
            "_view_count": null,
            "_view_module": "@jupyter-widgets/base",
            "_view_module_version": "1.2.0",
            "_view_name": "LayoutView",
            "align_content": null,
            "align_items": null,
            "align_self": null,
            "border": null,
            "bottom": null,
            "display": null,
            "flex": null,
            "flex_flow": null,
            "grid_area": null,
            "grid_auto_columns": null,
            "grid_auto_flow": null,
            "grid_auto_rows": null,
            "grid_column": null,
            "grid_gap": null,
            "grid_row": null,
            "grid_template_areas": null,
            "grid_template_columns": null,
            "grid_template_rows": null,
            "height": null,
            "justify_content": null,
            "justify_items": null,
            "left": null,
            "margin": null,
            "max_height": null,
            "max_width": null,
            "min_height": null,
            "min_width": null,
            "object_fit": null,
            "object_position": null,
            "order": null,
            "overflow": null,
            "overflow_x": null,
            "overflow_y": null,
            "padding": null,
            "right": null,
            "top": null,
            "visibility": null,
            "width": "auto"
          }
        },
        "5430a72bef0c4559b3c435052c7c2209": {
          "model_module": "@jupyter-widgets/controls",
          "model_name": "DescriptionStyleModel",
          "model_module_version": "1.5.0",
          "state": {
            "_model_module": "@jupyter-widgets/controls",
            "_model_module_version": "1.5.0",
            "_model_name": "DescriptionStyleModel",
            "_view_count": null,
            "_view_module": "@jupyter-widgets/base",
            "_view_module_version": "1.2.0",
            "_view_name": "StyleView",
            "description_width": "initial"
          }
        },
        "cc534a017fa7425ab74c5dcc5667aefd": {
          "model_module": "@jupyter-widgets/controls",
          "model_name": "FloatTextModel",
          "model_module_version": "1.5.0",
          "state": {
            "_dom_classes": [],
            "_model_module": "@jupyter-widgets/controls",
            "_model_module_version": "1.5.0",
            "_model_name": "FloatTextModel",
            "_view_count": null,
            "_view_module": "@jupyter-widgets/controls",
            "_view_module_version": "1.5.0",
            "_view_name": "FloatTextView",
            "continuous_update": false,
            "description": "Simulation pressure (atm):",
            "description_tooltip": null,
            "disabled": false,
            "layout": "IPY_MODEL_e2390d5ba9e9433aadd5d13090ee4b63",
            "step": 0.1,
            "style": "IPY_MODEL_48df0b2305114ae58fe611b89b6ec60f",
            "value": 1
          }
        },
        "e2390d5ba9e9433aadd5d13090ee4b63": {
          "model_module": "@jupyter-widgets/base",
          "model_name": "LayoutModel",
          "model_module_version": "1.2.0",
          "state": {
            "_model_module": "@jupyter-widgets/base",
            "_model_module_version": "1.2.0",
            "_model_name": "LayoutModel",
            "_view_count": null,
            "_view_module": "@jupyter-widgets/base",
            "_view_module_version": "1.2.0",
            "_view_name": "LayoutView",
            "align_content": null,
            "align_items": null,
            "align_self": null,
            "border": null,
            "bottom": null,
            "display": null,
            "flex": null,
            "flex_flow": null,
            "grid_area": null,
            "grid_auto_columns": null,
            "grid_auto_flow": null,
            "grid_auto_rows": null,
            "grid_column": null,
            "grid_gap": null,
            "grid_row": null,
            "grid_template_areas": null,
            "grid_template_columns": null,
            "grid_template_rows": null,
            "height": null,
            "justify_content": null,
            "justify_items": null,
            "left": null,
            "margin": null,
            "max_height": null,
            "max_width": null,
            "min_height": null,
            "min_width": null,
            "object_fit": null,
            "object_position": null,
            "order": null,
            "overflow": null,
            "overflow_x": null,
            "overflow_y": null,
            "padding": null,
            "right": null,
            "top": null,
            "visibility": null,
            "width": "auto"
          }
        },
        "48df0b2305114ae58fe611b89b6ec60f": {
          "model_module": "@jupyter-widgets/controls",
          "model_name": "DescriptionStyleModel",
          "model_module_version": "1.5.0",
          "state": {
            "_model_module": "@jupyter-widgets/controls",
            "_model_module_version": "1.5.0",
            "_model_name": "DescriptionStyleModel",
            "_view_count": null,
            "_view_module": "@jupyter-widgets/base",
            "_view_module_version": "1.2.0",
            "_view_name": "StyleView",
            "description_width": "initial"
          }
        },
        "cdbc4d7b4bbc4971906f150f09d71f75": {
          "model_module": "@jupyter-widgets/controls",
          "model_name": "FloatTextModel",
          "model_module_version": "1.5.0",
          "state": {
            "_dom_classes": [],
            "_model_module": "@jupyter-widgets/controls",
            "_model_module_version": "1.5.0",
            "_model_name": "FloatTextModel",
            "_view_count": null,
            "_view_module": "@jupyter-widgets/controls",
            "_view_module_version": "1.5.0",
            "_view_name": "FloatTextView",
            "continuous_update": false,
            "description": "Box Size (Angstrom):",
            "description_tooltip": null,
            "disabled": false,
            "layout": "IPY_MODEL_f8d458a0d69a4b59a6361bc786662fcf",
            "step": 1,
            "style": "IPY_MODEL_b0820135c7174d86bb611720279ba129",
            "value": 24
          }
        },
        "f8d458a0d69a4b59a6361bc786662fcf": {
          "model_module": "@jupyter-widgets/base",
          "model_name": "LayoutModel",
          "model_module_version": "1.2.0",
          "state": {
            "_model_module": "@jupyter-widgets/base",
            "_model_module_version": "1.2.0",
            "_model_name": "LayoutModel",
            "_view_count": null,
            "_view_module": "@jupyter-widgets/base",
            "_view_module_version": "1.2.0",
            "_view_name": "LayoutView",
            "align_content": null,
            "align_items": null,
            "align_self": null,
            "border": null,
            "bottom": null,
            "display": null,
            "flex": null,
            "flex_flow": null,
            "grid_area": null,
            "grid_auto_columns": null,
            "grid_auto_flow": null,
            "grid_auto_rows": null,
            "grid_column": null,
            "grid_gap": null,
            "grid_row": null,
            "grid_template_areas": null,
            "grid_template_columns": null,
            "grid_template_rows": null,
            "height": null,
            "justify_content": null,
            "justify_items": null,
            "left": null,
            "margin": null,
            "max_height": null,
            "max_width": null,
            "min_height": null,
            "min_width": null,
            "object_fit": null,
            "object_position": null,
            "order": null,
            "overflow": null,
            "overflow_x": null,
            "overflow_y": null,
            "padding": null,
            "right": null,
            "top": null,
            "visibility": null,
            "width": "auto"
          }
        },
        "b0820135c7174d86bb611720279ba129": {
          "model_module": "@jupyter-widgets/controls",
          "model_name": "DescriptionStyleModel",
          "model_module_version": "1.5.0",
          "state": {
            "_model_module": "@jupyter-widgets/controls",
            "_model_module_version": "1.5.0",
            "_model_name": "DescriptionStyleModel",
            "_view_count": null,
            "_view_module": "@jupyter-widgets/base",
            "_view_module_version": "1.2.0",
            "_view_name": "StyleView",
            "description_width": "initial"
          }
        },
        "d309e22698b94505b25ef09728398495": {
          "model_module": "@jupyter-widgets/controls",
          "model_name": "FloatTextModel",
          "model_module_version": "1.5.0",
          "state": {
            "_dom_classes": [],
            "_model_module": "@jupyter-widgets/controls",
            "_model_module_version": "1.5.0",
            "_model_name": "FloatTextModel",
            "_view_count": null,
            "_view_module": "@jupyter-widgets/controls",
            "_view_module_version": "1.5.0",
            "_view_name": "FloatTextView",
            "continuous_update": false,
            "description": "Thermostat Coupling constant (/ps):",
            "description_tooltip": null,
            "disabled": false,
            "layout": "IPY_MODEL_662ca2026be34fc0896dbd43583e9326",
            "step": 0.1,
            "style": "IPY_MODEL_f44fc10b73104caea16be4be7f10d98c",
            "value": 0.1
          }
        },
        "662ca2026be34fc0896dbd43583e9326": {
          "model_module": "@jupyter-widgets/base",
          "model_name": "LayoutModel",
          "model_module_version": "1.2.0",
          "state": {
            "_model_module": "@jupyter-widgets/base",
            "_model_module_version": "1.2.0",
            "_model_name": "LayoutModel",
            "_view_count": null,
            "_view_module": "@jupyter-widgets/base",
            "_view_module_version": "1.2.0",
            "_view_name": "LayoutView",
            "align_content": null,
            "align_items": null,
            "align_self": null,
            "border": null,
            "bottom": null,
            "display": null,
            "flex": null,
            "flex_flow": null,
            "grid_area": null,
            "grid_auto_columns": null,
            "grid_auto_flow": null,
            "grid_auto_rows": null,
            "grid_column": null,
            "grid_gap": null,
            "grid_row": null,
            "grid_template_areas": null,
            "grid_template_columns": null,
            "grid_template_rows": null,
            "height": null,
            "justify_content": null,
            "justify_items": null,
            "left": null,
            "margin": null,
            "max_height": null,
            "max_width": null,
            "min_height": null,
            "min_width": null,
            "object_fit": null,
            "object_position": null,
            "order": null,
            "overflow": null,
            "overflow_x": null,
            "overflow_y": null,
            "padding": null,
            "right": null,
            "top": null,
            "visibility": null,
            "width": "auto"
          }
        },
        "f44fc10b73104caea16be4be7f10d98c": {
          "model_module": "@jupyter-widgets/controls",
          "model_name": "DescriptionStyleModel",
          "model_module_version": "1.5.0",
          "state": {
            "_model_module": "@jupyter-widgets/controls",
            "_model_module_version": "1.5.0",
            "_model_name": "DescriptionStyleModel",
            "_view_count": null,
            "_view_module": "@jupyter-widgets/base",
            "_view_module_version": "1.2.0",
            "_view_name": "StyleView",
            "description_width": "initial"
          }
        },
        "728610a470ec47a187dfe82f6998ada9": {
          "model_module": "@jupyter-widgets/controls",
          "model_name": "FloatTextModel",
          "model_module_version": "1.5.0",
          "state": {
            "_dom_classes": [],
            "_model_module": "@jupyter-widgets/controls",
            "_model_module_version": "1.5.0",
            "_model_name": "FloatTextModel",
            "_view_count": null,
            "_view_module": "@jupyter-widgets/controls",
            "_view_module_version": "1.5.0",
            "_view_name": "FloatTextView",
            "continuous_update": false,
            "description": "Barostat Coupling constant (/time steps):",
            "description_tooltip": null,
            "disabled": false,
            "layout": "IPY_MODEL_6b6723e030234e25aa1de7850504cacc",
            "step": 1,
            "style": "IPY_MODEL_8cf9456be8824b6ebf705ffe7146b0d9",
            "value": 1
          }
        },
        "6b6723e030234e25aa1de7850504cacc": {
          "model_module": "@jupyter-widgets/base",
          "model_name": "LayoutModel",
          "model_module_version": "1.2.0",
          "state": {
            "_model_module": "@jupyter-widgets/base",
            "_model_module_version": "1.2.0",
            "_model_name": "LayoutModel",
            "_view_count": null,
            "_view_module": "@jupyter-widgets/base",
            "_view_module_version": "1.2.0",
            "_view_name": "LayoutView",
            "align_content": null,
            "align_items": null,
            "align_self": null,
            "border": null,
            "bottom": null,
            "display": null,
            "flex": null,
            "flex_flow": null,
            "grid_area": null,
            "grid_auto_columns": null,
            "grid_auto_flow": null,
            "grid_auto_rows": null,
            "grid_column": null,
            "grid_gap": null,
            "grid_row": null,
            "grid_template_areas": null,
            "grid_template_columns": null,
            "grid_template_rows": null,
            "height": null,
            "justify_content": null,
            "justify_items": null,
            "left": null,
            "margin": null,
            "max_height": null,
            "max_width": null,
            "min_height": null,
            "min_width": null,
            "object_fit": null,
            "object_position": null,
            "order": null,
            "overflow": null,
            "overflow_x": null,
            "overflow_y": null,
            "padding": null,
            "right": null,
            "top": null,
            "visibility": null,
            "width": "auto"
          }
        },
        "8cf9456be8824b6ebf705ffe7146b0d9": {
          "model_module": "@jupyter-widgets/controls",
          "model_name": "DescriptionStyleModel",
          "model_module_version": "1.5.0",
          "state": {
            "_model_module": "@jupyter-widgets/controls",
            "_model_module_version": "1.5.0",
            "_model_name": "DescriptionStyleModel",
            "_view_count": null,
            "_view_module": "@jupyter-widgets/base",
            "_view_module_version": "1.2.0",
            "_view_name": "StyleView",
            "description_width": "initial"
          }
        },
        "574aba9d4e8d472bbe0b92aafa198e83": {
          "model_module": "@jupyter-widgets/controls",
          "model_name": "FloatTextModel",
          "model_module_version": "1.5.0",
          "state": {
            "_dom_classes": [],
            "_model_module": "@jupyter-widgets/controls",
            "_model_module_version": "1.5.0",
            "_model_name": "FloatTextModel",
            "_view_count": null,
            "_view_module": "@jupyter-widgets/controls",
            "_view_module_version": "1.5.0",
            "_view_name": "FloatTextView",
            "continuous_update": false,
            "description": "Time step (fs):",
            "description_tooltip": null,
            "disabled": false,
            "layout": "IPY_MODEL_55b509b8008741f58ad22907c2a6567d",
            "step": 0.5,
            "style": "IPY_MODEL_e1d0b0d8b19b45dfa0a2eb75d9b00b92",
            "value": 1
          }
        },
        "55b509b8008741f58ad22907c2a6567d": {
          "model_module": "@jupyter-widgets/base",
          "model_name": "LayoutModel",
          "model_module_version": "1.2.0",
          "state": {
            "_model_module": "@jupyter-widgets/base",
            "_model_module_version": "1.2.0",
            "_model_name": "LayoutModel",
            "_view_count": null,
            "_view_module": "@jupyter-widgets/base",
            "_view_module_version": "1.2.0",
            "_view_name": "LayoutView",
            "align_content": null,
            "align_items": null,
            "align_self": null,
            "border": null,
            "bottom": null,
            "display": null,
            "flex": null,
            "flex_flow": null,
            "grid_area": null,
            "grid_auto_columns": null,
            "grid_auto_flow": null,
            "grid_auto_rows": null,
            "grid_column": null,
            "grid_gap": null,
            "grid_row": null,
            "grid_template_areas": null,
            "grid_template_columns": null,
            "grid_template_rows": null,
            "height": null,
            "justify_content": null,
            "justify_items": null,
            "left": null,
            "margin": null,
            "max_height": null,
            "max_width": null,
            "min_height": null,
            "min_width": null,
            "object_fit": null,
            "object_position": null,
            "order": null,
            "overflow": null,
            "overflow_x": null,
            "overflow_y": null,
            "padding": null,
            "right": null,
            "top": null,
            "visibility": null,
            "width": "auto"
          }
        },
        "e1d0b0d8b19b45dfa0a2eb75d9b00b92": {
          "model_module": "@jupyter-widgets/controls",
          "model_name": "DescriptionStyleModel",
          "model_module_version": "1.5.0",
          "state": {
            "_model_module": "@jupyter-widgets/controls",
            "_model_module_version": "1.5.0",
            "_model_name": "DescriptionStyleModel",
            "_view_count": null,
            "_view_module": "@jupyter-widgets/base",
            "_view_module_version": "1.2.0",
            "_view_name": "StyleView",
            "description_width": "initial"
          }
        },
        "78dbd0cd46fd40488fd0a0fa68f70c08": {
          "model_module": "@jupyter-widgets/controls",
          "model_name": "FloatTextModel",
          "model_module_version": "1.5.0",
          "state": {
            "_dom_classes": [],
            "_model_module": "@jupyter-widgets/controls",
            "_model_module_version": "1.5.0",
            "_model_name": "FloatTextModel",
            "_view_count": null,
            "_view_module": "@jupyter-widgets/controls",
            "_view_module_version": "1.5.0",
            "_view_name": "FloatTextView",
            "continuous_update": false,
            "description": "# MD steps:",
            "description_tooltip": null,
            "disabled": false,
            "layout": "IPY_MODEL_2f424fba6823419bb2f1a9b5515b7c40",
            "step": 100,
            "style": "IPY_MODEL_348ed2f7dd5548a99ac91493fbfc2547",
            "value": 100000
          }
        },
        "2f424fba6823419bb2f1a9b5515b7c40": {
          "model_module": "@jupyter-widgets/base",
          "model_name": "LayoutModel",
          "model_module_version": "1.2.0",
          "state": {
            "_model_module": "@jupyter-widgets/base",
            "_model_module_version": "1.2.0",
            "_model_name": "LayoutModel",
            "_view_count": null,
            "_view_module": "@jupyter-widgets/base",
            "_view_module_version": "1.2.0",
            "_view_name": "LayoutView",
            "align_content": null,
            "align_items": null,
            "align_self": null,
            "border": null,
            "bottom": null,
            "display": null,
            "flex": null,
            "flex_flow": null,
            "grid_area": null,
            "grid_auto_columns": null,
            "grid_auto_flow": null,
            "grid_auto_rows": null,
            "grid_column": null,
            "grid_gap": null,
            "grid_row": null,
            "grid_template_areas": null,
            "grid_template_columns": null,
            "grid_template_rows": null,
            "height": null,
            "justify_content": null,
            "justify_items": null,
            "left": null,
            "margin": null,
            "max_height": null,
            "max_width": null,
            "min_height": null,
            "min_width": null,
            "object_fit": null,
            "object_position": null,
            "order": null,
            "overflow": null,
            "overflow_x": null,
            "overflow_y": null,
            "padding": null,
            "right": null,
            "top": null,
            "visibility": null,
            "width": "auto"
          }
        },
        "348ed2f7dd5548a99ac91493fbfc2547": {
          "model_module": "@jupyter-widgets/controls",
          "model_name": "DescriptionStyleModel",
          "model_module_version": "1.5.0",
          "state": {
            "_model_module": "@jupyter-widgets/controls",
            "_model_module_version": "1.5.0",
            "_model_name": "DescriptionStyleModel",
            "_view_count": null,
            "_view_module": "@jupyter-widgets/base",
            "_view_module_version": "1.2.0",
            "_view_name": "StyleView",
            "description_width": "initial"
          }
        }
      }
    }
  },
  "cells": [
    {
      "cell_type": "markdown",
      "metadata": {
        "id": "view-in-github",
        "colab_type": "text"
      },
      "source": [
        "<a href=\"https://colab.research.google.com/github/alisterpage/CHEM3580-Jupyter-Notebooks/blob/main/NPT_water_convergence.ipynb\" target=\"_parent\"><img src=\"https://colab.research.google.com/assets/colab-badge.svg\" alt=\"Open In Colab\"/></a>"
      ]
    },
    {
      "cell_type": "code",
      "execution_count": 1,
      "metadata": {
        "colab": {
          "base_uri": "https://localhost:8080/"
        },
        "cellView": "form",
        "id": "PFeX_xnhPhPd",
        "outputId": "6f5800be-4cd7-4c7f-dbd7-0bc102b67039"
      },
      "outputs": [
        {
          "output_type": "stream",
          "name": "stdout",
          "text": [
            "⏬ Downloading https://github.com/jaimergp/miniforge/releases/latest/download/Mambaforge-colab-Linux-x86_64.sh...\n",
            "📦 Installing...\n",
            "📌 Adjusting configuration...\n",
            "🩹 Patching environment...\n",
            "⏲ Done in 0:00:19\n",
            "🔁 Restarting kernel...\n"
          ]
        }
      ],
      "source": [
        "#@title Setup Environment\n",
        "!pip install -q condacolab\n",
        "import condacolab\n",
        "condacolab.install()\n",
        "!conda install -c conda-forge packmol openmm -q 2>&1 >/dev/null\n",
        "from openmm.app import *\n",
        "from openmm import *\n",
        "from openmm.unit import *\n",
        "from sys import stdout\n",
        "import re\n",
        "import time\n",
        "import numpy as np"
      ]
    },
    {
      "cell_type": "code",
      "source": [
        "#@title Set Simulation Parameters\n",
        "import ipywidgets as widgets \n",
        "from IPython.display import display\n",
        "\n",
        "#SIMULATION TEMPERATURE\n",
        "# create a float text widget to input variable\n",
        "temp_text = widgets.FloatText(\n",
        "    value=298.0,  # default value \n",
        "    description='Simulation Temperature (K):',\n",
        "    step=1.0,  # step size\n",
        ")\n",
        "# adjust the layout of the widget\n",
        "temp_text.layout.width = 'auto'\n",
        "temp_text.style.description_width = 'initial'\n",
        "# define a function to update the variable\n",
        "def update_temp_text(change):\n",
        "    global simTemperature\n",
        "    simTemperature = change.new\n",
        "# register the update function with the widget\n",
        "temp_text.observe(update_temp_text, 'value')\n",
        "# display the widget\n",
        "display(temp_text)\n",
        "# access the selected temperature value\n",
        "simTemperature = temp_text.value*kelvin\n",
        "\n",
        "#PRESSURE\n",
        "# create a float text widget to input variable\n",
        "temp_text = widgets.FloatText(\n",
        "    value=1.0,  # default value \n",
        "    description='Simulation pressure (atm):',\n",
        "    step=0.10,  # step size \n",
        ")\n",
        "# adjust the layout of the widget\n",
        "temp_text.layout.width = 'auto'\n",
        "temp_text.style.description_width = 'initial'\n",
        "# define a function to update the variable\n",
        "def update_temp_text(change):\n",
        "    global simPressure\n",
        "    simPressure = change.new\n",
        "# register the update function with the widget\n",
        "temp_text.observe(update_temp_text, 'value')\n",
        "# display the widget\n",
        "display(temp_text)\n",
        "# access the selected temperature value\n",
        "simPressure = temp_text.value*atmospheres\n",
        "\n",
        "\n",
        "#BOXSIZE\n",
        "# create a float text widget to input variable\n",
        "temp_text = widgets.FloatText(\n",
        "    value=24.0,  # default value \n",
        "    description='Box Size (Angstrom):',\n",
        "    step=1.0,  # step size \n",
        ")\n",
        "# adjust the layout of the widget\n",
        "temp_text.layout.width = 'auto'\n",
        "temp_text.style.description_width = 'initial'\n",
        "# define a function to update the variable\n",
        "def update_temp_text(change):\n",
        "    global boxsize\n",
        "    boxsize = change.new\n",
        "# register the update function with the widget\n",
        "temp_text.observe(update_temp_text, 'value')\n",
        "# display the widget\n",
        "display(temp_text)\n",
        "# access the selected temperature value\n",
        "boxsize = temp_text.value\n",
        "\n",
        "#THERMOSTAT TAU VALUE\n",
        "# create a float text widget to input variable\n",
        "temp_text = widgets.FloatText(\n",
        "    value=0.1,  # default value \n",
        "    description='Thermostat Coupling constant (/ps):',\n",
        "    step=0.1,  # step size \n",
        ")\n",
        "# adjust the layout of the widget\n",
        "temp_text.layout.width = 'auto'\n",
        "temp_text.style.description_width = 'initial'\n",
        "# define a function to update the variable\n",
        "def update_temp_text(change):\n",
        "    global simtau\n",
        "    simtau = change.new\n",
        "# register the update function with the widget\n",
        "temp_text.observe(update_temp_text, 'value')\n",
        "# display the widget\n",
        "display(temp_text)\n",
        "# access the selected temperature value\n",
        "simtau = temp_text.value\n",
        "\n",
        "#BAROSTAT TAU VALUE\n",
        "# create a float text widget to input variable\n",
        "temp_text = widgets.FloatText(\n",
        "    value=1,  # default value \n",
        "    description='Barostat Coupling constant (/time steps):',\n",
        "    step=1,  # step size \n",
        ")\n",
        "# adjust the layout of the widget\n",
        "temp_text.layout.width = 'auto'\n",
        "temp_text.style.description_width = 'initial'\n",
        "# define a function to update the variable\n",
        "def update_temp_text(change):\n",
        "    global simbarofreq\n",
        "    simbarofreq = change.new\n",
        "# register the update function with the widget\n",
        "temp_text.observe(update_temp_text, 'value')\n",
        "# display the widget\n",
        "display(temp_text)\n",
        "# access the selected temperature value\n",
        "simbarofreq = temp_text.value\n",
        "\n",
        "\n",
        "#TIMESTEP\n",
        "# create a float text widget to input variable\n",
        "temp_text = widgets.FloatText(\n",
        "    value=1.0,  # default value \n",
        "    description='Time step (fs):',\n",
        "    step=0.5,  # step size \n",
        ")\n",
        "# adjust the layout of the widget\n",
        "temp_text.layout.width = 'auto'\n",
        "temp_text.style.description_width = 'initial'\n",
        "# define a function to update the variable\n",
        "def update_temp_text(change):\n",
        "    global simTimestep\n",
        "    simTimestep = change.new\n",
        "# register the update function with the widget\n",
        "temp_text.observe(update_temp_text, 'value')\n",
        "# display the widget\n",
        "display(temp_text)\n",
        "# access the selected temperature value\n",
        "simTimestep = temp_text.value*femtoseconds\n",
        "\n",
        "#STEPS\n",
        "# create a float text widget to input variable\n",
        "temp_text = widgets.FloatText(\n",
        "    value=100000,  # default value \n",
        "    description='# MD steps:',\n",
        "    step=100,  # step size \n",
        ")\n",
        "# adjust the layout of the widget\n",
        "temp_text.layout.width = 'auto'\n",
        "temp_text.style.description_width = 'initial'\n",
        "# define a function to update the variable\n",
        "def update_temp_text(change):\n",
        "    global simNumSteps\n",
        "    simNumSteps = change.new\n",
        "# register the update function with the widget\n",
        "temp_text.observe(update_temp_text, 'value')\n",
        "# display the widget\n",
        "display(temp_text)\n",
        "# access the selected temperature value\n",
        "simNumSteps = temp_text.value"
      ],
      "metadata": {
        "colab": {
          "base_uri": "https://localhost:8080/",
          "height": 236,
          "referenced_widgets": [
            "fcfc0e5f1a4d4b9499ae259d8e555b30",
            "00252ac4725a4d16844bd2b63b7f5874",
            "5430a72bef0c4559b3c435052c7c2209",
            "cc534a017fa7425ab74c5dcc5667aefd",
            "e2390d5ba9e9433aadd5d13090ee4b63",
            "48df0b2305114ae58fe611b89b6ec60f",
            "cdbc4d7b4bbc4971906f150f09d71f75",
            "f8d458a0d69a4b59a6361bc786662fcf",
            "b0820135c7174d86bb611720279ba129",
            "d309e22698b94505b25ef09728398495",
            "662ca2026be34fc0896dbd43583e9326",
            "f44fc10b73104caea16be4be7f10d98c",
            "728610a470ec47a187dfe82f6998ada9",
            "6b6723e030234e25aa1de7850504cacc",
            "8cf9456be8824b6ebf705ffe7146b0d9",
            "574aba9d4e8d472bbe0b92aafa198e83",
            "55b509b8008741f58ad22907c2a6567d",
            "e1d0b0d8b19b45dfa0a2eb75d9b00b92",
            "78dbd0cd46fd40488fd0a0fa68f70c08",
            "2f424fba6823419bb2f1a9b5515b7c40",
            "348ed2f7dd5548a99ac91493fbfc2547"
          ]
        },
        "cellView": "form",
        "id": "Ca6chkaQQLc-",
        "outputId": "d366efc2-093f-43fe-b839-f0182b6f5296"
      },
      "execution_count": 24,
      "outputs": [
        {
          "output_type": "display_data",
          "data": {
            "text/plain": [
              "FloatText(value=298.0, description='Simulation Temperature (K):', layout=Layout(width='auto'), step=1.0, style…"
            ],
            "application/vnd.jupyter.widget-view+json": {
              "version_major": 2,
              "version_minor": 0,
              "model_id": "fcfc0e5f1a4d4b9499ae259d8e555b30"
            }
          },
          "metadata": {}
        },
        {
          "output_type": "display_data",
          "data": {
            "text/plain": [
              "FloatText(value=1.0, description='Simulation pressure (atm):', layout=Layout(width='auto'), step=0.1, style=De…"
            ],
            "application/vnd.jupyter.widget-view+json": {
              "version_major": 2,
              "version_minor": 0,
              "model_id": "cc534a017fa7425ab74c5dcc5667aefd"
            }
          },
          "metadata": {}
        },
        {
          "output_type": "display_data",
          "data": {
            "text/plain": [
              "FloatText(value=24.0, description='Box Size (Angstrom):', layout=Layout(width='auto'), step=1.0, style=Descrip…"
            ],
            "application/vnd.jupyter.widget-view+json": {
              "version_major": 2,
              "version_minor": 0,
              "model_id": "cdbc4d7b4bbc4971906f150f09d71f75"
            }
          },
          "metadata": {}
        },
        {
          "output_type": "display_data",
          "data": {
            "text/plain": [
              "FloatText(value=0.1, description='Thermostat Coupling constant (/ps):', layout=Layout(width='auto'), step=0.1,…"
            ],
            "application/vnd.jupyter.widget-view+json": {
              "version_major": 2,
              "version_minor": 0,
              "model_id": "d309e22698b94505b25ef09728398495"
            }
          },
          "metadata": {}
        },
        {
          "output_type": "display_data",
          "data": {
            "text/plain": [
              "FloatText(value=1.0, description='Barostat Coupling constant (/time steps):', layout=Layout(width='auto'), ste…"
            ],
            "application/vnd.jupyter.widget-view+json": {
              "version_major": 2,
              "version_minor": 0,
              "model_id": "728610a470ec47a187dfe82f6998ada9"
            }
          },
          "metadata": {}
        },
        {
          "output_type": "display_data",
          "data": {
            "text/plain": [
              "FloatText(value=1.0, description='Time step (fs):', layout=Layout(width='auto'), step=0.5, style=DescriptionSt…"
            ],
            "application/vnd.jupyter.widget-view+json": {
              "version_major": 2,
              "version_minor": 0,
              "model_id": "574aba9d4e8d472bbe0b92aafa198e83"
            }
          },
          "metadata": {}
        },
        {
          "output_type": "display_data",
          "data": {
            "text/plain": [
              "FloatText(value=100000.0, description='# MD steps:', layout=Layout(width='auto'), step=100.0, style=Descriptio…"
            ],
            "application/vnd.jupyter.widget-view+json": {
              "version_major": 2,
              "version_minor": 0,
              "model_id": "78dbd0cd46fd40488fd0a0fa68f70c08"
            }
          },
          "metadata": {}
        }
      ]
    },
    {
      "cell_type": "code",
      "source": [
        "#@title Parameter Summary\n",
        "density=0.99705\n",
        "water=int(boxsize**3*density*1e6*(1e-10)**3/(18.01)*6.02214e23)\n",
        "print(\"Box size of\",boxsize,\"angstroms at density,\",density,\"g/cm3 requires \",water,\" water molecules\")\n",
        "print(f\"Simulation size: {water} waters\")\n",
        "print(f\"Box size: {boxsize} Ang.\")\n",
        "print(f\"Density: {density} g/cm3.\")\n",
        "print(f\"Simulation temperature: {simTemperature} coupled every {simtau} ps\")\n",
        "print(f\"Simulation pressure: {simPressure} coupled every {simbarofreq} MD time steps\")\n",
        "print(f\"Simulation time step: {simTimestep}\")\n",
        "print(f\"# MD steps: {simNumSteps} ; Total simulation length: {simNumSteps * simTimestep} = {simNumSteps*simTimestep / 1000 / 1000 / femtoseconds * nanoseconds}.\")\n",
        "pdbFile = 'system.pdb'"
      ],
      "metadata": {
        "colab": {
          "base_uri": "https://localhost:8080/"
        },
        "cellView": "form",
        "id": "ZRoXWbvYQTBu",
        "outputId": "3ae7c547-7bb4-43dc-cb4d-f3de7874773e"
      },
      "execution_count": 25,
      "outputs": [
        {
          "output_type": "stream",
          "name": "stdout",
          "text": [
            "Box size of 24.0 angstroms at density, 0.99705 g/cm3 requires  460  water molecules\n",
            "Simulation size: 460 waters\n",
            "Box size: 24.0 Ang.\n",
            "Density: 0.99705 g/cm3.\n",
            "Simulation temperature: 298.0 K coupled every 0.1 ps\n",
            "Simulation pressure: 1.0 atm coupled every 1.0 MD time steps\n",
            "Simulation time step: 1.0 fs\n",
            "# MD steps: 100000.0 ; Total simulation length: 100000.0 fs = 0.1 ns.\n"
          ]
        }
      ]
    },
    {
      "cell_type": "code",
      "source": [
        "\n",
        "#@title Build Simulation Box\n",
        "with open(\"packmol.in\", \"w\") as f:\n",
        "    f.write(\"tolerance 2.0\\n\")\n",
        "    f.write(\"filetype pdb\\n\")\n",
        "    f.write(\"output system.pdb\\n\")\n",
        "    f.write(\"\\n\")\n",
        "    f.write(\"structure water.pdb\\n\")\n",
        "    f.write(\"  number {0}\\n\".format(int(water)))\n",
        "    f.write(\"  inside cube 2. 2. 2. {0}\\n\".format(boxsize))\n",
        "    f.write(\"end structure\\n\")\n",
        "    f.write(\"\\n\")\n",
        "    f.write(\"add_box_sides 1.0\\n\")\n",
        "\n",
        "text = '''ATOM      1  O   HOH A   1       4.125  13.679  13.761  1.00  0.00           O\n",
        "ATOM      2  H1  HOH A   1       4.025  14.428  14.348  1.00  0.00           H\n",
        "ATOM      3  H2  HOH A   1       4.670  13.062  14.249  1.00  0.00           H'''\n",
        "\n",
        "with open('water.pdb', 'w') as f:\n",
        "    f.write(text)\n",
        "\n",
        "#%%bash\n",
        "!packmol < packmol.in > packmol.out\n",
        "with open('packmol.out', 'r') as f:\n",
        "    text = f.read()\n",
        "    print(text)\n",
        "#with open('system.pdb', 'r') as f:\n",
        "#    text = f.read()\n",
        "#    print(text)    "
      ],
      "metadata": {
        "cellView": "form",
        "id": "A1N63EZVQUjQ"
      },
      "execution_count": 9,
      "outputs": []
    },
    {
      "cell_type": "code",
      "source": [
        "#@title Setup MD Simulation\n",
        "\n",
        "pdb = PDBFile('system.pdb')\n",
        "\n",
        "tip3p_forcefield = ForceField('tip3p.xml')\n",
        "\n",
        "tip3p_system = tip3p_forcefield.createSystem(\n",
        "    pdb.topology,\n",
        "    nonbondedMethod=PME,\n",
        "    nonbondedCutoff=8*angstrom,\n",
        "    constraints=HBonds,\n",
        "    rigidWater=True)\n",
        "\n",
        "tip3p_system.addForce(MonteCarloBarostat(simPressure, simTemperature, simbarofreq))\n",
        "\n",
        "tip3p_integrator = NoseHooverIntegrator(\n",
        "    simTemperature, \n",
        "    simtau/picosecond, \n",
        "    simTimestep\n",
        ")\n",
        "tip3p_simulation = Simulation(pdb.topology, tip3p_system, tip3p_integrator)\n",
        "tip3p_simulation.context.setPositions(pdb.positions)\n",
        "\n",
        "tip3p_simulation.reporters.append(DCDReporter('tip3p_data.dcd', 10))\n",
        "tip3p_simulation.reporters.append(StateDataReporter(\n",
        "    'tip3p_data.csv', \n",
        "    10, \n",
        "    step=True,\n",
        "    temperature=True, \n",
        "    potentialEnergy=True, \n",
        "    kineticEnergy=True,\n",
        "    totalEnergy=True, \n",
        "    volume=True, \n",
        "    density=True\n",
        "))"
      ],
      "metadata": {
        "id": "7JcMuJCURDcP"
      },
      "execution_count": 13,
      "outputs": []
    },
    {
      "cell_type": "code",
      "source": [
        "#@title Run Energy Minimisation\n",
        "print(\"Running Energy Minimisation:\")\n",
        "t0 = time.time()\n",
        "tip3p_simulation.minimizeEnergy()\n",
        "t1 = time.time()\n",
        "minTime = t1-t0\n",
        "print(\"Minimisation took {} seconds\".format(minTime))"
      ],
      "metadata": {
        "colab": {
          "base_uri": "https://localhost:8080/"
        },
        "cellView": "form",
        "id": "hI5zT4dQRNoj",
        "outputId": "eada5409-5fe9-4f53-e8bd-0d3b0cde54bd"
      },
      "execution_count": 14,
      "outputs": [
        {
          "output_type": "stream",
          "name": "stdout",
          "text": [
            "Running Energy Minimisation:\n",
            "Minimisation took 2.399061679840088 seconds\n"
          ]
        }
      ]
    },
    {
      "cell_type": "code",
      "source": [
        "#@title Run MD Simulation\n",
        "\n",
        "print('Start Simulation')\n",
        "t0 = time.time()\n",
        "tip3p_simulation.step(simNumSteps)\n",
        "t1 = time.time()\n",
        "simTime = t1-t0\n",
        "print(\"Simulation took {} seconds for {} timesteps\".format(simTime,simNumSteps)) "
      ],
      "metadata": {
        "colab": {
          "base_uri": "https://localhost:8080/"
        },
        "cellView": "form",
        "id": "_mtDw9A8RRzP",
        "outputId": "c50913b6-4d2f-43a4-ad09-da9d10e34888"
      },
      "execution_count": 16,
      "outputs": [
        {
          "output_type": "stream",
          "name": "stdout",
          "text": [
            "Start Simulation\n",
            "Simulation took 1046.105595111847 seconds for 100000.0 timesteps\n"
          ]
        }
      ]
    },
    {
      "cell_type": "code",
      "source": [],
      "metadata": {
        "id": "Skv8LzL8RWc3"
      },
      "execution_count": null,
      "outputs": []
    }
  ]
}