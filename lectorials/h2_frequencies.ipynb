{
  "nbformat": 4,
  "nbformat_minor": 0,
  "metadata": {
    "colab": {
      "provenance": [],
      "authorship_tag": "ABX9TyNUOZZHKJVSmkpRpu2DznIE",
      "include_colab_link": true
    },
    "kernelspec": {
      "name": "python3",
      "display_name": "Python 3"
    },
    "language_info": {
      "name": "python"
    },
    "widgets": {
      "application/vnd.jupyter.widget-state+json": {
        "d66982531f0c495289fb95808990a345": {
          "model_module": "@jupyter-widgets/controls",
          "model_name": "VBoxModel",
          "model_module_version": "1.5.0",
          "state": {
            "_dom_classes": [
              "widget-interact"
            ],
            "_model_module": "@jupyter-widgets/controls",
            "_model_module_version": "1.5.0",
            "_model_name": "VBoxModel",
            "_view_count": null,
            "_view_module": "@jupyter-widgets/controls",
            "_view_module_version": "1.5.0",
            "_view_name": "VBoxView",
            "box_style": "",
            "children": [
              "IPY_MODEL_95ea5f16940142da90d716a1e250209f",
              "IPY_MODEL_c4a4bff38b4f48dd9a2206f57340dafb"
            ],
            "layout": "IPY_MODEL_753712a6265e40db8953e71218e4ecfa"
          }
        },
        "95ea5f16940142da90d716a1e250209f": {
          "model_module": "@jupyter-widgets/controls",
          "model_name": "FloatSliderModel",
          "model_module_version": "1.5.0",
          "state": {
            "_dom_classes": [],
            "_model_module": "@jupyter-widgets/controls",
            "_model_module_version": "1.5.0",
            "_model_name": "FloatSliderModel",
            "_view_count": null,
            "_view_module": "@jupyter-widgets/controls",
            "_view_module_version": "1.5.0",
            "_view_name": "FloatSliderView",
            "continuous_update": true,
            "description": "value",
            "description_tooltip": null,
            "disabled": false,
            "layout": "IPY_MODEL_21ef186ef86c4e3f95305fdc9aacd49b",
            "max": 2000,
            "min": 1,
            "orientation": "horizontal",
            "readout": true,
            "readout_format": ".2f",
            "step": 0.1,
            "style": "IPY_MODEL_3051ec72eda04aae856b0ea7d2946621",
            "value": 1322.4
          }
        },
        "c4a4bff38b4f48dd9a2206f57340dafb": {
          "model_module": "@jupyter-widgets/output",
          "model_name": "OutputModel",
          "model_module_version": "1.0.0",
          "state": {
            "_dom_classes": [],
            "_model_module": "@jupyter-widgets/output",
            "_model_module_version": "1.0.0",
            "_model_name": "OutputModel",
            "_view_count": null,
            "_view_module": "@jupyter-widgets/output",
            "_view_module_version": "1.0.0",
            "_view_name": "OutputView",
            "layout": "IPY_MODEL_f5b0073318364cc0bd5d4d0f9e00db74",
            "msg_id": "",
            "outputs": [
              {
                "output_type": "display_data",
                "data": {
                  "text/plain": "<pandas.io.formats.style.Styler at 0x7f97c207b040>",
                  "text/html": "<style type=\"text/css\">\n</style>\n<table id=\"T_704c4\" class=\"dataframe\">\n  <thead>\n    <tr>\n      <th id=\"T_704c4_level0_col0\" class=\"col_heading level0 col0\" >n</th>\n      <th id=\"T_704c4_level0_col1\" class=\"col_heading level0 col1\" >Energy (J)</th>\n      <th id=\"T_704c4_level0_col2\" class=\"col_heading level0 col2\" >Harmonic ν̃ (cm-1)</th>\n      <th id=\"T_704c4_level0_col3\" class=\"col_heading level0 col3\" >Exp. ν̃ (cm-1)</th>\n      <th id=\"T_704c4_level0_col4\" class=\"col_heading level0 col4\" >Difference (cm-1)</th>\n    </tr>\n  </thead>\n  <tbody>\n    <tr>\n      <td id=\"T_704c4_row0_col0\" class=\"data row0 col0\" >0</td>\n      <td id=\"T_704c4_row0_col1\" class=\"data row0 col1\" >6.403264e-20</td>\n      <td id=\"T_704c4_row0_col2\" class=\"data row0 col2\" >0.0</td>\n      <td id=\"T_704c4_row0_col3\" class=\"data row0 col3\" >0.0</td>\n      <td id=\"T_704c4_row0_col4\" class=\"data row0 col4\" >0.0</td>\n    </tr>\n    <tr>\n      <td id=\"T_704c4_row1_col0\" class=\"data row1 col0\" >1</td>\n      <td id=\"T_704c4_row1_col1\" class=\"data row1 col1\" >1.920979e-19</td>\n      <td id=\"T_704c4_row1_col2\" class=\"data row1 col2\" >6442.56</td>\n      <td id=\"T_704c4_row1_col3\" class=\"data row1 col3\" >4161.0</td>\n      <td id=\"T_704c4_row1_col4\" class=\"data row1 col4\" >2281.56</td>\n    </tr>\n    <tr>\n      <td id=\"T_704c4_row2_col0\" class=\"data row2 col0\" >2</td>\n      <td id=\"T_704c4_row2_col1\" class=\"data row2 col1\" >3.201632e-19</td>\n      <td id=\"T_704c4_row2_col2\" class=\"data row2 col2\" >12885.13</td>\n      <td id=\"T_704c4_row2_col3\" class=\"data row2 col3\" >8087.0</td>\n      <td id=\"T_704c4_row2_col4\" class=\"data row2 col4\" >4798.13</td>\n    </tr>\n    <tr>\n      <td id=\"T_704c4_row3_col0\" class=\"data row3 col0\" >3</td>\n      <td id=\"T_704c4_row3_col1\" class=\"data row3 col1\" >4.482285e-19</td>\n      <td id=\"T_704c4_row3_col2\" class=\"data row3 col2\" >19327.69</td>\n      <td id=\"T_704c4_row3_col3\" class=\"data row3 col3\" >11782.0</td>\n      <td id=\"T_704c4_row3_col4\" class=\"data row3 col4\" >7545.69</td>\n    </tr>\n    <tr>\n      <td id=\"T_704c4_row4_col0\" class=\"data row4 col0\" >4</td>\n      <td id=\"T_704c4_row4_col1\" class=\"data row4 col1\" >5.762938e-19</td>\n      <td id=\"T_704c4_row4_col2\" class=\"data row4 col2\" >25770.26</td>\n      <td id=\"T_704c4_row4_col3\" class=\"data row4 col3\" >15250.0</td>\n      <td id=\"T_704c4_row4_col4\" class=\"data row4 col4\" >10520.26</td>\n    </tr>\n  </tbody>\n</table>\n"
                },
                "metadata": {}
              }
            ]
          }
        },
        "753712a6265e40db8953e71218e4ecfa": {
          "model_module": "@jupyter-widgets/base",
          "model_name": "LayoutModel",
          "model_module_version": "1.2.0",
          "state": {
            "_model_module": "@jupyter-widgets/base",
            "_model_module_version": "1.2.0",
            "_model_name": "LayoutModel",
            "_view_count": null,
            "_view_module": "@jupyter-widgets/base",
            "_view_module_version": "1.2.0",
            "_view_name": "LayoutView",
            "align_content": null,
            "align_items": null,
            "align_self": null,
            "border": null,
            "bottom": null,
            "display": null,
            "flex": null,
            "flex_flow": null,
            "grid_area": null,
            "grid_auto_columns": null,
            "grid_auto_flow": null,
            "grid_auto_rows": null,
            "grid_column": null,
            "grid_gap": null,
            "grid_row": null,
            "grid_template_areas": null,
            "grid_template_columns": null,
            "grid_template_rows": null,
            "height": null,
            "justify_content": null,
            "justify_items": null,
            "left": null,
            "margin": null,
            "max_height": null,
            "max_width": null,
            "min_height": null,
            "min_width": null,
            "object_fit": null,
            "object_position": null,
            "order": null,
            "overflow": null,
            "overflow_x": null,
            "overflow_y": null,
            "padding": null,
            "right": null,
            "top": null,
            "visibility": null,
            "width": null
          }
        },
        "21ef186ef86c4e3f95305fdc9aacd49b": {
          "model_module": "@jupyter-widgets/base",
          "model_name": "LayoutModel",
          "model_module_version": "1.2.0",
          "state": {
            "_model_module": "@jupyter-widgets/base",
            "_model_module_version": "1.2.0",
            "_model_name": "LayoutModel",
            "_view_count": null,
            "_view_module": "@jupyter-widgets/base",
            "_view_module_version": "1.2.0",
            "_view_name": "LayoutView",
            "align_content": null,
            "align_items": null,
            "align_self": null,
            "border": null,
            "bottom": null,
            "display": null,
            "flex": null,
            "flex_flow": null,
            "grid_area": null,
            "grid_auto_columns": null,
            "grid_auto_flow": null,
            "grid_auto_rows": null,
            "grid_column": null,
            "grid_gap": null,
            "grid_row": null,
            "grid_template_areas": null,
            "grid_template_columns": null,
            "grid_template_rows": null,
            "height": null,
            "justify_content": null,
            "justify_items": null,
            "left": null,
            "margin": null,
            "max_height": null,
            "max_width": null,
            "min_height": null,
            "min_width": null,
            "object_fit": null,
            "object_position": null,
            "order": null,
            "overflow": null,
            "overflow_x": null,
            "overflow_y": null,
            "padding": null,
            "right": null,
            "top": null,
            "visibility": null,
            "width": null
          }
        },
        "3051ec72eda04aae856b0ea7d2946621": {
          "model_module": "@jupyter-widgets/controls",
          "model_name": "SliderStyleModel",
          "model_module_version": "1.5.0",
          "state": {
            "_model_module": "@jupyter-widgets/controls",
            "_model_module_version": "1.5.0",
            "_model_name": "SliderStyleModel",
            "_view_count": null,
            "_view_module": "@jupyter-widgets/base",
            "_view_module_version": "1.2.0",
            "_view_name": "StyleView",
            "description_width": "",
            "handle_color": null
          }
        },
        "f5b0073318364cc0bd5d4d0f9e00db74": {
          "model_module": "@jupyter-widgets/base",
          "model_name": "LayoutModel",
          "model_module_version": "1.2.0",
          "state": {
            "_model_module": "@jupyter-widgets/base",
            "_model_module_version": "1.2.0",
            "_model_name": "LayoutModel",
            "_view_count": null,
            "_view_module": "@jupyter-widgets/base",
            "_view_module_version": "1.2.0",
            "_view_name": "LayoutView",
            "align_content": null,
            "align_items": null,
            "align_self": null,
            "border": null,
            "bottom": null,
            "display": null,
            "flex": null,
            "flex_flow": null,
            "grid_area": null,
            "grid_auto_columns": null,
            "grid_auto_flow": null,
            "grid_auto_rows": null,
            "grid_column": null,
            "grid_gap": null,
            "grid_row": null,
            "grid_template_areas": null,
            "grid_template_columns": null,
            "grid_template_rows": null,
            "height": null,
            "justify_content": null,
            "justify_items": null,
            "left": null,
            "margin": null,
            "max_height": null,
            "max_width": null,
            "min_height": null,
            "min_width": null,
            "object_fit": null,
            "object_position": null,
            "order": null,
            "overflow": null,
            "overflow_x": null,
            "overflow_y": null,
            "padding": null,
            "right": null,
            "top": null,
            "visibility": null,
            "width": null
          }
        },
        "73ba46f6450b4f64bfa186c3a3c1b828": {
          "model_module": "jupyter-matplotlib",
          "model_name": "MPLCanvasModel",
          "model_module_version": "^0.11",
          "state": {
            "_cursor": "default",
            "_data_url": "data:image/png;base64,iVBORw0KGgoAAAANSUhEUgAAAZAAAAEsCAYAAADtt+XCAAAAOXRFWHRTb2Z0d2FyZQBNYXRwbG90bGliIHZlcnNpb24zLjcuMSwgaHR0cHM6Ly9tYXRwbG90bGliLm9yZy/bCgiHAAAACXBIWXMAAA9hAAAPYQGoP6dpAAA9EElEQVR4nO3de1wTV94/8E8CSRDlbiHSIkWt4AXvLeKdRwQr3S6ta6tlrT+XamvhWZGuWrdbq7Zdqj62ta2Xuvts3de2ttVt5WkVtVlEsRpvCIqoVCtqqwYKCFHRJJDz+2OagQiBJCZMJvm+Xy9eSSYnyTfHkQ8zc+aMhDHGQAghhNhIKnQBhBBCxIkChBBCiF0oQAghhNiFAoQQQohdKEAIIYTYhQKEEEKIXShACCGE2IUChBBCiF0oQAghhNiFAoQQQohdKEAIIYTYhQKEEEKIXShACCGE2IUChBBCiF0oQAghhNiFAoQQQohdKEAIIYTYhQKEEEKIXShACCGE2IUChBBCiF0oQAghhNiFAoQQQohdKEAIIYTYhQKEEEKIXShACCGE2IUChBBCiF0oQAghhNiFAoQQQohdKEAIIYTYhQKEEEKIXShACCGE2IUChBBCiF0oQAghhNiFAoQQQohdvIUuwBGMRiOuXbsGPz8/SCQSocshhJD7xhjDzZs3ER4eDqnUNf/Wd4sAuXbtGiIiIoQugxBCHO6nn37CQw89JHQZbXKLAPHz8wMAVFRUIDg4WOBq7PfLL0CfPtz9qipAoXDu5xkMBnz33XdISkqCTCZz7oe5ic7qswMHgCeeAHr1AoqLnfYxnYbWNdvV1tYiKiqK//3mitwiQEy7rfz8/ODv7y9wNfbz8wO6dQNu3QJqaoCYGOd+nsFggK+vL/z9/ek/tZU6q8+uXeNuo6MBEa/SPFrXbGcwGADApXfLu+aONQ8lkTRvgVy4IGwtRFjnz3O3jzwibB2EtIcCxMX07cvd/vCDsHUQYVGAEDGgAHExpgApLxe2DiIsChAiBhQgLoa2QIjRCPz4I3efAoS4MgoQF0MBQn7+Gbh7F5DJgJ49ha6GEMsoQFyMKUCuXeNGYxHPY9p9FRUFeLvFOEnirihAXExQEPDAA9x90y8S4lno+AcRCwoQF0S7sTwbBQgRC2l4eDgkEglyc3MtNnrppZcgkUjw/vvvmy2vra1FWloa/P39ERgYiPT0dNy6Z7/LqVOnMHbsWPj4+CAiIgKrVq1q9f7btm1DTEwMfHx8EBsbi7y8PEd8N9GiAPFsFCBELKTr1q1rt8H27dtx+PBhhIeHt3ouLS0NZWVlUKlU2LFjBwoLCzF37lz+ea1Wi6SkJERGRqKoqAirV6/GsmXLsGnTJr7NoUOHMGPGDKSnp6O4uBipqalITU3F6dOnHfctRYaG8no2ChAiGowxBoBt376d3evnn39mDz74IDt9+jSLjIxk7733Hv/cmTNnGAB27NgxftmuXbuYRCJhV69eZYwxtn79ehYUFMR0Oh3fZvHixSw6Opp//Mwzz7CUlBSzz42Li2Mvvvhiq3osqa+vZwBYdXW11a9xZV99xRjA2KOPOvdz9Ho9y83NZXq93rkf5Eac3WeNjYzJ5dy/f0WFUz5CELSu2a66upoBYPX19UKXYpHFMR5GoxEzZ87EwoULMWDAgFbPq9VqBAYGYsSIEfyyxMRESKVSHDlyBE899RTUajXGjRsHuVzOt0lOTsbKlStx48YNBAUFQa1WIzs72+y9k5OT292lptPpoNPp+MdarRYAN3eMaf4YMYuKAgAZfviBQa9vhLOmwjH1lTv0WWdxdp9dugTo9TLI5QxKZSPc5Z+G1jXbiaGvLAbIypUr4e3tjT/+8Y9tPq/RaBAaGmr+Zt7eCA4Ohkaj4dtEcb8NeWFhYfxzQUFB0Gg0/LKWbUzv0ZacnBwsX7681fKCggL4+vpafJ1Y6PVSSCRPoL5egs8//w8CA/VO/TyVSuXU93dHzuqzkpIHAIxCaOgt7Nmz1ymfISRa16zX0NAgdAkdajNAioqKsHbtWpw4ccIlZ4JcsmSJ2VaLVqtFREQEEhISEBISImBljhMZyf01Ghk5CaNHM6d8hsFggEqlwqRJk2iGVCs5u8+uXOEGRg4e3BVTpkxx+PsLhdY129XU1AhdQofaDJADBw6gqqoKPVucBtvU1IRXXnkF77//Pi5dugSlUomqqiqz1zU2NqK2thZKpRIAoFQqUVlZadbG9LijNqbn26JQKKBo42IZMpnMbVbOvn25ALl40RsTJjj3s9yp3zqLs/rs4kXuNjpaCpnM/UbZ07pmPTH0U5tr6MyZM3Hq1CmUlJTwP+Hh4Vi4cCH27NkDAIiPj0ddXR2Kior41+3duxdGoxFxcXF8m8LCQrN9eSqVCtHR0QgKCuLb5Ofnm32+SqVCfHy8Y7+pyNBQXs9EI7CImHiXlJQA4K7mV1JSguDgYPTs2bPVriCZTAalUono6GgAQL9+/TB58mTMmTMHGzduhMFgQGZmJqZPn84P+X3uueewfPlypKenY/HixTh9+jTWrl2L9957j3/f+fPnY/z48VizZg1SUlLwxRdf4Pjx42ZDfT0RBYhnogAhYiIdOnQoACA7OxtDhw7F0qVLrX7xZ599hpiYGEycOBFTpkzBmDFjzH7xBwQE4LvvvkNFRQWGDx+OV155BUuXLjU7V2TUqFHYsmULNm3ahMGDB+Pf//43cnNzMXDgQMd9SxGic0E8T2Nj8y4sChAiBt6MWXeA9tKlS62WBQcHY8uWLe2+btCgQThw4EC7baZNm4Zp06ZZVYenMAXIhQtAUxPg5SVsPcT5Ll/mQsTHB3joIaGrIaRj7neUzk307AkoFIBeD1y5InQ1pDOYdl/17g1I6X8mEQFaTV2Ul1fz9dHpOIhnMAWI6d+dEFdHAeLC6EC6ZzEd74qJEbYOQqxFAeLCKEA8y7lz3C0FCBELChAXRgHiWShAiNhQgLgwGsrrOW7eBK5e5e7/eqoVIS6PAsSFmQLkyhXgzh1hayHOZfojISyMu6wxIWJAAeLCHngACAgAGAN+/FHoaogz0e4rIkYUIC5MImnenUHHQdwbBQgRIwoQF0cH0j3D2bPcLQUIERMKEBdHAeIZaAuEiBEFiIujAHF/jY3NZ6FTgBAxoQBxcRQg7q+iAjAYgC5duDnQCBELChAXZ5rW+5dfgBs3hK2FOIdp91V0NE2iSMSFVlcX160b8Ov1uWgrxE3R8Q8iVhQgImAaymv6RUPcCwUIESsKEBHo14+7NQ31JO6FAoSIFQWICFCAuC/G6BwQIl4UICLQvz93e+aMsHUQx6uu5gZHSCR0HXQiPhQgImDaArl4Ebh7V9haiGOZdl9FRgK+vsLWQoitpOHh4ZBIJMjNzeUXGgwGLF68GLGxsejatSvCw8Px/PPP49q1a2Yvrq2tRVpaGvz9/REYGIj09HTcunXLrM2pU6cwduxY+Pj4ICIiAqtWrWpVxLZt2xATEwMfHx/ExsYiLy/PKV9WrJRKIDAQMBppJJa7oeMfRMyk69ata7WwoaEBJ06cwOuvv44TJ07g66+/Rnl5OZ588kmzdmlpaSgrK4NKpcKOHTtQWFiIuXPn8s9rtVokJSUhMjISRUVFWL16NZYtW4ZNmzbxbQ4dOoQZM2YgPT0dxcXFSE1NRWpqKk6fPu28by0yEgkdB3FXFCBE1BhjDADbvn07a8/Ro0cZAHb58mXGGGNnzpxhANixY8f4Nrt27WISiYRdvXqVMcbY+vXrWVBQENPpdHybxYsXs+joaP7xM888w1JSUsw+Ky4ujr344ovt1tNSfX09A8Cqq6utfo3YpKczBjC2dKnj3lOv17Pc3Fym1+sd96ZuztF9NmUK9++6caND3s5l0bpmu+rqagaA1dfXC12KRd7WBk19fT0kEgkCAwMBAGq1GoGBgRgxYgTfJjExEVKpFEeOHMFTTz0FtVqNcePGQS6X822Sk5OxcuVK3LhxA0FBQVCr1cjOzjb7rOTkZLNdavfS6XTQ6XT8Y61WC4Db9WYwGKz9SqLSt68UgBfKyowwGJoc8p6mvnLXPnMGR/fZuXPeACTo06cRBgNzyHu6IlrXbCeGvrIqQO7evYvFixdjxowZ8Pf3BwBoNBqEhoaav5m3N4KDg6HRaPg2UVFRZm3CwsL454KCgqDRaPhlLduY3qMtOTk5WL58eavlBQUF8HXTI5G3boUCiMexY7eQl1fg0PdWqVQOfT9P4Ig+0+ulqKh4AgDw88//QV6eroNXiB+ta9ZraGgQuoQOdRggBoMBzzzzDBhj2LBhQ2fU1KElS5aYbbVotVpEREQgISEBISEhAlbmPP37A2++CVy/7oekpCnwtnrb0TKDwQCVSoVJkyZBJpPd/xt6AEf2WWkpwJgEgYEMM2ZMhETioCJdEK1rtqupqRG6hA61+2vIFB6XL1/G3r17+a0PAFAqlaiqqjJr39jYiNraWiiVSr5NZWWlWRvT447amJ5vi0KhgEKhaLVcJpO57crZuzc3zLOhQYIrV2T89CaO4M795iyO6DPTZYpjYiSQyz2j/2lds54Y+snieSCm8Dh//jz+85//tPrLPj4+HnV1dSgqKuKX7d27F0ajEXFxcXybwsJCs315KpUK0dHRCAoK4tvk5+ebvbdKpUJ8fPz9fzs3IpU2j9ShkVjugUZgEbGTlpSUAAAqKipQUlKCK1euwGAw4He/+x2OHz+Ozz77DE1NTdBoNNBoNNDr9QCAfv36YfLkyZgzZw6OHj2KgwcPIjMzE9OnT0f4r9PHPvfcc5DL5UhPT0dZWRm+/PJLrF271mz30/z587F7926sWbMG586dw7Jly3D8+HFkZmZ2eme4OtMZ6RQg7oEChLgD1vJn1qxZrKKigt273PRTUFDAD+GqqalhM2bMYN26dWP+/v5s9uzZ7ObNm2bDvE6ePMnGjBnDFAoFe/DBB9k777zTaijY1q1bWd++fZlcLmcDBgxgO3futGkomScM42WMsbff5oZ8/v73jnk/GlppO0f22bBh3L9nbq4DCnNxtK7ZThTDeBlre+igpeUtBQcHY8uWLe22GTRoEA4cONBum2nTpmHatGkdfp6noy0Q92E00hYIET+aC0tEWp6NbjQKWwu5P1evAg0NgEwG9OoldDWE2IcCRER69+Z+4TQ0AD/9JHQ15H6Ytj769OH+TQkRIwoQEfH2Bvr25e7T1O7iRruviDugABEZmlTRPZj+AKAAIWJGASIydHEp92CabHrgQGHrIOR+UICIDG2BiB9jQFkZd58ChIgZBYjItNwCsWKkNXFB169zl7H18oJDp6QhpLNRgIhM377ctCZ1dcA9U4gRkTDtvnrkEaCNKd0IEQ0KEJHx8Wk+b4COg4gTHf8g7oICRIToOIi4UYAQd0EBIkI0EkvcTAfQBwwQtg5C7hcFiAjRFoh4GY00Aou4DwoQEaItEPG6fBm4fRuQy7lpTAgRMwoQETKdvVxZCdTWClsLsY3p+Ee/fnDIZYkJERIFiAj5+QEREdx92o0lLnT8g7gTChCRMh0Hod1Y4kIjsIg7oQARKdMvINMvJCIOFCDEnVCAiFRsLHd76pSwdRDrNTY273KkACHugAJEpAYN4m5LS2lOLLG4cAHQ6wFfXyAyUuhqCLl/0vDwcEgkEuTm5po9wRjD0qVL0aNHD3Tp0gWJiYk4f/68WZva2lqkpaXB398fgYGBSE9Px61bt8zanDp1CmPHjoWPjw8iIiKwatWqVkVs27YNMTEx8PHxQWxsLPLy8hz+Rd1N//7cnFg1NdzkfMT1tTyALqU/3YgbkK5bt67NJ1atWoUPPvgAGzduxJEjR9C1a1ckJyfj7t27fJu0tDSUlZVBpVJhx44dKCwsxNy5c/nntVotkpKSEBkZiaKiIqxevRrLli3Dpk2b+DaHDh3CjBkzkJ6ejuLiYqSmpiI1NRWnaed+u3x8mq9OWFoqbC3EOnT8g7gdxhgDwLZv385MjEYjUyqVbPXq1fyyuro6plAo2Oeff84YY+zMmTMMADt27BjfZteuXUwikbCrV68yxhhbv349CwoKYjqdjm+zePFiFh0dzT9+5plnWEpKCmspLi6Ovfjii8xa9fX1DACrrq62+jXu4JlnGAMYW7XKvtfr9XqWm5vL9Hq9YwtzY/fTZ7/7HffvtWaNEwpzcbSu2a66upoBYPX19UKXYlGbG9IVFRXQaDRITEzklwUEBCAuLg5qtRoAoFarERgYiBEjRvBtEhMTIZVKceTIEb7NuHHjIJfL+TbJyckoLy/HjRs3+DYtP8fUxvQ5xDLTgXTaAhEH0xYInQNC3EWb58JqNBoAQFhYmNnysLAw/jmNRoPQ0FDzN/P2RnBwsFmbqKioVu9hei4oKAgajabdz2mLTqeDTqfjH2u1WgCAwWCAwWCw+Dp307+/BIA3Tp5kMBgabX69qa88qc/ul719ptMB5897A5AgOtoAT+tyWtdsJ4a+EuVkCjk5OVi+fHmr5QUFBfD19RWgImFUV/sCmIQzZ4z45ptd8Pa2bziWSqVybGEewNY+u3TJH01NCejaVY+Skl04edJJhbk4Wtes19DQIHQJHWozQJRKJQCgsrISPXr04JdXVlZiyJAhfJuqqiqz1zU2NqK2tpZ/vVKpROU9l80zPe6ojen5tixZsgTZ2dn8Y61Wi4iICCQkJCAkJMTyt3UzRiPwpz8x3Lzphd69H7d514jBYIBKpcKkSZMgk8mcU6SbsbfPPv9cAgAYMsQbKSlTnFWey6J1zXY1NTVCl9ChNgMkKioKSqUS+fn5fGBotVocOXIE8+bNAwDEx8ejrq4ORUVFGD58OABg7969MBqNiIuL49u89tprMBgM/EqjUqkQHR2NoKAgvk1+fj6ysrL4z1epVIiPj7dYtEKhgKKNa4HKZDKPWzkHDgTUauDcORl+/aeymSf22/2ytc/OneNuY2OlkMk8dwwvrWvWE0M/SUtKSgBwB85LSkpw5coVSCQSZGVl4a233sI333yD0tJSPP/88wgPD0dqaioAoF+/fpg8eTLmzJmDo0eP4uDBg8jMzMT06dMRHh4OAHjuuecgl8uRnp6OsrIyfPnll1i7dq3Z1sP8+fOxe/durFmzBufOncOyZctw/PhxZGZmdnZfiJLphEI6I9210QF04q5Yy59Zs2YxxrihvK+//joLCwtjCoWCTZw4kZWXl5sN4aqpqWEzZsxg3bp1Y/7+/mz27Nns5s2bZm1OnjzJxowZwxQKBXvwwQfZO++802oo2NatW1nfvn2ZXC5nAwYMYDt37rRpKJmnDuNljLGPPuKGhj7xhO2vpaGVtrO3z3r14v6dCgqcU5ero3XNdmIYxuvNLMyDIZFIsGLFCqxYscJi8gQHB2PLli3tptOgQYNw4MCBdttMmzYN06ZNa7cNaRttgbi+27eBixe5+7QFQtyJ5+6MdROms5qvXAHq64WthbTNNOV+WBjwwAPC1kKII1GAiFxQUPPFpeiEQtdExz+Iu6IAcQM0tbtrM02iSHNgEXdDAeIGWk7tTlyP6aRBChDibihA3AAdSHddjAG/jpTH0KGClkKIw1GAuIGWkyrSxaVcy9WrQHU14OVFWyDE/VCAuIHoaEAmA27eBC5fFroa0pJp66NfP+4aLoS4EwoQNyCTcb+gADoO4mpMAWLvNDOEuDIKEDdBx0FcU3Exd0vHP4g7ogBxE3RxKddEWyDEnVGAuAnaAnE99fXNU5hQgBB3RAHiJkxbID/8ANy9K2wthGM6/6NnTyA4WNhaCHEGChA3ER7O/ZJqagLOnhW6GgLQ7ivi/ihA3IREQsdBXA0FCHF3FCBuxHQcxPSLiwiLAoS4OwoQNzJsGHd74oSwdRBAr2+ehZeG8BJ3RQHiRkwBUlwMGI3C1uLpzp4FDAYgIACIjBS6GkKcgwLEjfTvz02XodU2Dx8lwmi5+0oiEbISQpyHAsSNeHs3HwcpKhK2Fk9HZ6ATT0AB4mboOIhroAPoxBNYDJCmpia8/vrriIqKQpcuXdC7d2+8+eabYC3mC2eMYenSpejRowe6dOmCxMREnD9/3ux9amtrkZaWBn9/fwQGBiI9PR23bt0ya3Pq1CmMHTsWPj4+iIiIwKpVqxz8NT3H8OHcLW2BCKflNUAoQIg7sxggK1euxIYNG/DRRx/h7NmzWLlyJVatWoUPP/yQb7Nq1Sp88MEH2LhxI44cOYKuXbsiOTkZd1ucCp2WloaysjKoVCrs2LEDhYWFmDt3Lv+8VqtFUlISIiMjUVRUhNWrV2PZsmXYtGmTk76ye2u5BULXBhHG5cvcNCZyefMsyYS4JWZBSkoK+8Mf/mC27Omnn2ZpaWmMMcaMRiNTKpVs9erV/PN1dXVMoVCwzz//nDHG2JkzZxgAduzYMb7Nrl27mEQiYVevXmWMMbZ+/XoWFBTEdDod32bx4sUsOjraUmmt1NfXMwCsurra6te4K52OMZmMMYCxior22+r1epabm8v0en2n1OYOrOmzr7/m+n/o0E4szMXRuma76upqBoDV19cLXYpFFrdARo0ahfz8fPzwww8AgJMnT+L777/H448/DgCoqKiARqNBYmIi/5qAgADExcVBrVYDANRqNQIDAzFixAi+TWJiIqRSKY4cOcK3GTduHORyOd8mOTkZ5eXluHHjhqNy0mPI5c1npNNuLGHQ7iviKbwtPfHqq69Cq9UiJiYGXl5eaGpqwttvv420tDQAgEajAQCEhYWZvS4sLIx/TqPRIDQ01PwDvb0RHBxs1iYqKqrVe5ieCwoKalWbTqeDTqfjH2u1WgCAwWCAwWCw4mu7tyFDvHDihBTHjjXhySctnxBi6ivqM+tZ02cnTngBkCI2tgkGA52QA9C6Zg8x9JXFANm6dSs+++wzbNmyBQMGDEBJSQmysrIQHh6OWbNmdWaNreTk5GD58uWtlhcUFMDX11eAilyLXP4wgMH47rtqxMcf7rC9SqVyek3upr0+O3x4EgBf3LlzCHl5tZ1XlAjQuma9hoYGoUvokMUAWbhwIV599VVMnz4dABAbG4vLly8jJycHs2bNglKpBABUVlaiR48e/OsqKysx5Ndtd6VSiaqqKrP3bWxsRG1tLf96pVKJyspKszamx6Y291qyZAmys7P5x1qtFhEREUhISEBISIhVX9ydPfCABBs3Aj//HIrHH59i8UQ2g8EAlUqFSZMmQSaTdW6RItVRn9XUANXV3PK5c0ciIKCzK3RNtK7ZrqamRugSOmQxQBoaGiCVmh8i8fLygvHXOTKioqKgVCqRn5/PB4ZWq8WRI0cwb948AEB8fDzq6upQVFSE4b+OL927dy+MRiPi4uL4Nq+99hoMBgO/YqlUKkRHR7e5+woAFAoFFApFq+UymYxWTnAjsby8gF9+kaCyUoaIiPbbU7/ZzlKfnTnD3fbqBXTvTn16L1rXrCeGfrJ4EP03v/kN3n77bezcuROXLl3C9u3b8e677+Kpp54CAEgkEmRlZeGtt97CN998g9LSUjz//PMIDw9HamoqAKBfv36YPHky5syZg6NHj+LgwYPIzMzE9OnTER4eDgB47rnnIJfLkZ6ejrKyMnz55ZdYu3at2RYGsY2PDzBgAHefTijsXHQGOvEkFrdAPvzwQ7z++ut4+eWXUVVVhfDwcLz44otYunQp32bRokW4ffs25s6di7q6OowZMwa7d++Gj48P3+azzz5DZmYmJk6cCKlUiqlTp+KDDz7gnw8ICMB3332HjIwMDB8+HN27d8fSpUvNzhUhths+nLu87YkTwG9/K3Q1noNGYBFPYjFA/Pz88P777+P999+3+GKJRIIVK1ZgxYoVFtsEBwdjy5Yt7RYxaNAgHDhwoONqidWGDQM++YSG8na248e5W9oCIZ6A5sJyUzQnVuerrwfOnePuP/aYsLUQ0hkoQNzU4MGAVApcv879EOczbe09/DDwwAOClkJIp6AAcVNduwIxMdx92grpHEePcre09UE8BQWIGzPNzEsB0jkoQIinoQBxY6bjIHQgvXNQgBBPQwHixuhAeue5epX7kUqb+50Qd0cB4sZMQ0l/+gn45Rdha3F3x45xtwMGcMefCPEEFCBuzM8P6NuXu09bIc5Fu6+IJ6IAcXN0idvOYdoCoQAhnoQCxM2ZAsT0C444ntFIAUI8EwWImxs5krs9fJiuke4s589zZ6F36dI8iSUhnoACxM0NGwZ4ewMaDXD5stDVuCfT8Y9hwwARzMBNiMNQgLi5Ll2aZ4Y93PHFCYkdTAHy6KPC1kFIZ6MA8QDx8dytWi1sHe6KRmART0UB4gFaHgchjqXXN18DhAKEeBoKEA9g2gIpLgbu3hW2Fndz6hQXIsHB3GVsCfEkFCAe4OGHgdBQwGCgEwodreXuK4lE2FoI6WwUIB5AIqHjIM5Cxz+IJ6MA8RB0HMQ5aAQW8WQUIB6CtkAcr+UlbClAiCdqN0CuXr2K3//+9wgJCUGXLl0QGxuL48eP888zxrB06VL06NEDXbp0QWJiIs6fP2/2HrW1tUhLS4O/vz8CAwORnp6OW7dumbU5deoUxo4dCx8fH0RERGDVqlUO/IoEAEaMALy8uCnHf/5Z6GrcQ1ERd3Z/ZCQQFiZ0NYR0PosBcuPGDYwePRoymQy7du3CmTNnsGbNGgQFBfFtVq1ahQ8++AAbN27EkSNH0LVrVyQnJ+Nui6E+aWlpKCsrg0qlwo4dO1BYWIi5c+fyz2u1WiQlJSEyMhJFRUVYvXo1li1bhk2bNjnpK3umrl2BQYO4+7QV4hg0/xXxeMyCxYsXszFjxlh6mhmNRqZUKtnq1av5ZXV1dUyhULDPP/+cMcbYmTNnGAB27Ngxvs2uXbuYRCJhV69eZYwxtn79ehYUFMR0Op3ZZ0dHR1v87HvV19czAKy6utrq13iiefMYAxjLzuYe6/V6lpuby/R6vbCFiUjLPnv6aa4/W/wXIBbQuma76upqBoDV19cLXYpFFrdAvvnmG4wYMQLTpk1DaGgohg4dir/97W/88xUVFdBoNEhMTOSXBQQEIC4uDupf/8RVq9UIDAzEiBEj+DaJiYmQSqU4cuQI32bcuHGQy+V8m+TkZJSXl+PGjRsOikkC0HEQR2KsuR9pC4R4Km9LT1y8eBEbNmxAdnY2/vznP+PYsWP44x//CLlcjlmzZkGj0QAAwu7Z+RsWFsY/p9FoEBoaav6B3t4IDg42axMVFdXqPUzPtdxlZqLT6aDT6fjHWq0WAGAwGGAwGKz75h6Im9pdhhMnGG7daoRUyvUV9Zn1TH31ww+NuH5dBpmMYciQRlAXts/Ub7SuWU8MfWUxQIxGI0aMGIG//vWvAIChQ4fi9OnT2LhxI2bNmtVpBbYlJycHy5cvb7W8oKAAvr6+AlQkDowBfn6TcfOmAhs2qNG3L7eFp1KpBK5MfDZtOgtgGHr3rkVBwfdClyMatK5Zr6GhQegSOmQxQHr06IH+/fubLevXrx+++uorAIBSqQQAVFZWokePHnybyspKDPl1+lelUomqqiqz92hsbERtbS3/eqVSicrKSrM2psemNvdasmQJsrOz+cdarRYRERFISEhASEiI5W9LMHasF/LyAC+v0Zg0SQeVSoVJkyZBRvOQW8VgMEClUqG+nhuR8MQTgZgyZYrAVbk+U7/Ruma9mpoaoUvokMUAGT16NMrLy82W/fDDD4iMjAQAREVFQalUIj8/nw8MrVaLI0eOYN68eQCA+Ph41NXVoaioCMN/vTTe3r17YTQaERcXx7d57bXXYDAY+BVLpVIhOjq6zd1XAKBQKKBQKFotl8lktHJ2YNQoIC8POHrUC//931xfUb/Z7tAhLwDA+PFekMm8BK5GPGhds54Y+sniQfQFCxbg8OHD+Otf/4oLFy5gy5Yt2LRpEzIyMgAAEokEWVlZeOutt/DNN9+gtLQUzz//PMLDw5GamgqA22KZPHky5syZg6NHj+LgwYPIzMzE9OnTER4eDgB47rnnIJfLkZ6ejrKyMnz55ZdYu3at2RYGcRw6I/3+3bihwIULEkgkwOjRQldDiIDaG6L17bffsoEDBzKFQsFiYmLYpk2bzJ43Go3s9ddfZ2FhYUyhULCJEyey8vJyszY1NTVsxowZrFu3bszf35/Nnj2b3bx506zNyZMn2ZgxY5hCoWAPPvgge+edd2waSkbDeK2n1TImkXDDTy9fpqGVttLr9WzRoiMMYCw2VuhqxIOG8dpODMN4JYyJ/0rZWq0WAQEBqK6upmMgVhg0CCgtBbZubYRcvhNTpkwRxeayKzAYDHj66SvYsaM3Xn4ZWLdO6IrEwWAwIC8vj9Y1G9TU1KB79+6or6+Hv7+/0OW0iebC8kCm80EOH6b5x+1x5gz3R8rYsQIXQojAKEA8kOk4yKFDFCC20mqBS5cCAABjxghcDCECowDxQOPHc7fHj0tw9y6NILLF4cMSGI0SPPwww0MPCV0NIcKiAPFAUVFAz55AY6ME584FC12OqHz/PbfVNnq06A8dEnLfKEA8kEQCTJjA3S8t7S5oLWJj2u03ZoxR4EoIER4FiIcyBcjp0xQg1tLpgKNHaQuEEBMKEA9lCpALFwJxz/W9iAVFRcDduxIEBOgQHS10NYQIjwLEQ0VFAZGRDE1NUqjVNBrLGgcOcLf9+tVAQl1GCAWIJxs3jtsNs38//Ta0RnOA1ApbCCEuggLEg40fzx0ILiykAOmI0QgcPMjd79/f9WdJJaQzUIB4MNMWyPHjEjoO0oGyMqCuDujalaFXr3qhyyHEJVCAeLCHHwYeeKABjY0S/q9r0jbT7quRIxm8vGgEFiEABYjHi42tBgDs2ydsHa7OFCA0fJeQZhQgHm7gQAqQjjAGFBZy98eMoQAhxIQCxMMNGMAFyLFjoOMgFpw9C1y7BigUQFwcBQghJhQgHi4s7A4efpihqQn4/nuhq3FNKhV3O24c0KWLsLUQ4kooQAjGj+f+qqbdWG377jvuNilJ2DoIcTUUIATjxnHng1CAtKbTNfcLBQgh5ihASIvzQYCbNwUuxsUcOgQ0NABhYUBsrNDVEOJaKEAIIiO5ubGamkDng9yj5e4rmv+KEHNWB8g777wDiUSCrKwsftndu3eRkZGBkJAQdOvWDVOnTkVlZaXZ665cuYKUlBT4+voiNDQUCxcuRGNjo1mbffv2YdiwYVAoFOjTpw82b958X1+K2C4hgbstKBC2DldDxz8IscyqADl27Bg+/vhjDBo0yGz5ggUL8O2332Lbtm3Yv38/rl27hqeffpp/vqmpCSkpKdDr9Th06BD++c9/YvPmzVi6dCnfpqKiAikpKUhISEBJSQmysrLwwgsvYM+ePQ76isQapund9+4VtAyX8ssvwIkT3P3ERGFrIcQlsQ7cvHmTPfLII0ylUrHx48ez+fPnM8YYq6urYzKZjG3bto1ve/bsWQaAqdVqxhhjeXl5TCqVMo1Gw7fZsGED8/f3ZzqdjjHG2KJFi9iAAQPMPvPZZ59lycnJHZXGq6+vZwBYdXW11a8hjOn1epabm8v0ej27do0x7pQ5xlr8c3m0LVu4/hg8uHlZyz4j1qN+s111dTUDwOrr64UuxSLvjgImIyMDKSkpSExMxFtvvcUvLyoqgsFgQGKLP81iYmLQs2dPqNVqjBw5Emq1GrGxsQgLC+PbJCcnY968eSgrK8PQoUOhVqvN3sPUpuWusnvpdDrodDr+sVarBQAYDAYYDIaOvhL5lamvDAYDuncHhg71RnGxBDt2NOL55+mEud27vQBIMXFiEwwGbqRayz4j1qN+s50Y+qrdAPniiy9w4sQJHDt2rNVzGo0GcrkcgYGBZsvDwsKg0Wj4Ni3Dw/S86bn22mi1Wty5cwdd2jhzKycnB8uXL2+1vKCgAL6+vu19JdIG1a9nyvXpE4Pi4mh88kklunc/LnBVwmIM2LkzCUAXBAQcQV7eL2bPm/qM2Ib6zXoNDQ1Cl9AhiwHy008/Yf78+VCpVPDx8enMmjq0ZMkSZGdn84+1Wi0iIiKQkJCAkJAQASsTF4PBAJVKhUmTJkEmkyEkRIJt24DTp8MxadIUyGRCVyicM2eAmhoZfHwYFix4FKb/Avf2GbEO9Zvtampc/7ozFgOkqKgIVVVVGDZsGL+sqakJhYWF+Oijj7Bnzx7o9XrU1dWZbYVUVlZCqVQCAJRKJY4ePWr2vqZRWi3b3Dtyq7KyEv7+/m1ufQCAQqGAQqFotVwmk9HKaQdTv8XHA927A9XVEhw/LsO4cUJXJhzTaLRx4yTw82u9TtG6Zh/qN+uJoZ8sjsKaOHEiSktLUVJSwv+MGDECaWlp/H2ZTIb8/Hz+NeXl5bhy5Qri4+MBAPHx8SgtLUVVVRXfRqVSwd/fH/379+fbtHwPUxvTe5DO4+UFTJ7M3c/LE7YWodHwXUI6ZjFA/Pz8MHDgQLOfrl27IiQkBAMHDkRAQADS09ORnZ2NgoICFBUVYfbs2YiPj8fIkSMBAElJSejfvz9mzpyJkydPYs+ePfjLX/6CjIwMfgvipZdewsWLF7Fo0SKcO3cO69evx9atW7FgwYLO6QFiZsoU7nbnTmHrEBJNX0KIde7rTPT33nsPTzzxBKZOnYpx48ZBqVTi66+/5p/38vLCjh074OXlhfj4ePz+97/H888/jxUrVvBtoqKisHPnTqhUKgwePBhr1qzB3//+dyQnJ99PacROycmAVAqcPg1cuSJ0NcI4eBC4cwdQKoGBA4WuhhDX1eEw3pb23TPbno+PD9atW4d169ZZfE1kZCTyOtgfMmHCBBQXF9tSCnGS4GAgPp77JZqXB7z0ktAVdT6avoQQ69BcWKSVlBTu1lOPg9DxD0KsQwFCWjEdB8nPB+7eFbaWznbtGmDaGKbpSwhpHwUIaWXQIODBB7lpzPfvF7qazrV9O3c7ahQ3hTshxDIKENKKROK5o7FMY0BazAlKCLGAAoS0yXQcZOdObloPT1Bd3bzF9dRTwtZCiBhQgJA2TZwIyOXAxYvADz8IXU3n+PZb7qJaQ4YAvXoJXQ0hro8ChLSpWzdg/HjuvqeMxqLdV4TYhgKEWORJx0Fu3mwevksBQoh1KECIRU88wd3u388dH3BnO3cCej3Qty/w6zRthJAOUIAQi/r0AYYOBRobga++Eroa5zLtvpo6lc4+J8RaFCCkXTNmcLdffCFsHc50507zcR7afUWI9ShASLuefZa73b8fuHpV2FqcRaUCbt8GIiKA4cOFroYQ8aAAIe3q2RMYPZo7F2TbNqGrcY6Wo69o9xUh1qMAIR2aPp27/fxzYetwBoMB+OYb7j7tviLENhQgpEPTpnHXCDl6lDux0J3s2wfcuAGEhnJbWoQQ61GAkA6FhQH/9V/cfXc7mG7afZWayl3SlxBiPQoQYhV3HI1lNAK5udx92n1FiO0oQIhVnnoKkMmA0lKgrEzoahwjPx/QaIDAQCAhQehqCBEfChBilaAg4PHHufvushXy979zt2lp3MSRhBDbUIAQq7UcjSX2Kd6rq5t3X73wgqClECJaFgMkJycHjz76KPz8/BAaGorU1FSUl5ebtbl79y4yMjIQEhKCbt26YerUqaisrDRrc+XKFaSkpMDX1xehoaFYuHAhGhsbzdrs27cPw4YNg0KhQJ8+fbB582bHfUPiME8+Cfj6Aj/+CBQVCV3N/fn0U27uq2HDuOnbCSG2sxgg+/fvR0ZGBg4fPgyVSgWDwYCkpCTcvn2bb7NgwQJ8++232LZtG/bv349r167h6RZHI5uampCSkgK9Xo9Dhw7hn//8JzZv3oylS5fybSoqKpCSkoKEhASUlJQgKysLL7zwAvbs2eOkr0zs1bUr8JvfcPfFfE4IY8D//i93n7Y+CLkPzEpVVVUMANu/fz9jjLG6ujomk8nYtm3b+DZnz55lAJharWaMMZaXl8ekUinTaDR8mw0bNjB/f3+m0+kYY4wtWrSIDRgwwOyznn32WZacnGxtaay+vp4BYNXV1Va/hjCm1+tZbm4u0+v1Vr8mN5cxgLHwcMYMBicW50SHD3PfwceHsRs3bHutPX1GqN/sUV1dzQCw+vp6oUuxyNvaoKmvrwcABAcHAwCKiopgMBiQmJjIt4mJiUHPnj2hVqsxcuRIqNVqxMbGIiwsjG+TnJyMefPmoaysDEOHDoVarTZ7D1ObrKwsi7XodDrodDr+sVarBQAYDAYYDAZrv5LHM/WVLX02cSIQEuKNa9ck2L69Eamp4jsY8re/eQGQYupUI7p2bYItq4w9fUao3+whhr6yKkCMRiOysrIwevRoDBw4EACg0Wggl8sRGBho1jYsLAwajYZv0zI8TM+bnmuvjVarxZ07d9ClS5dW9eTk5GD58uWtlhcUFMDX19ear0RaUKlUNrWfMKEfvvqqL9588wbk8kNOqso57tzxwmefTQYgRf/+h5CXV2PX+9jaZ4RD/Wa9hoYGoUvokFUBkpGRgdOnT+P77793dj1WWbJkCbKzs/nHWq0WERERSEhIQEhIiICViYvBYIBKpcKkSZMgk8msft3AgcD27QylpQ+gZ88p+PVvClHYvFmCu3e90acPw5/+FGfz5In29pmno36zXU2NfX/cdKYOAyQzMxM7duxAYWEhHnroIX65UqmEXq9HXV2d2VZIZWUllEol3+bo0aNm72capdWyzb0jtyorK+Hv79/m1gcAKBQKKBSKVstlMhmtnHawtd969+am/vj6a+Djj2XYuNF5tTmaaYDfCy9IIJfbv67QumYf6jfriaGfLI7CYowhMzMT27dvx969exEVFWX2/PDhwyGTyZCfn88vKy8vx5UrVxAfHw8AiI+PR2lpKaqqqvg2KpUK/v7+6P/rdUPj4+PN3sPUxvQexDX9939zt//6FzcZoRicPQscOsTNeTVrltDVECJ+FgMkIyMDn376KbZs2QI/Pz9oNBpoNBrcuXMHABAQEID09HRkZ2ejoKAARUVFmD17NuLj4zFy5EgAQFJSEvr374+ZM2fi5MmT2LNnD/7yl78gIyOD34J46aWXcPHiRSxatAjnzp3D+vXrsXXrVixYsKATvj6x1/jx3K6shgbgk0+ErsY6pqG7TzwB/LoBTAi5H5aGZwFo8+eTTz7h29y5c4e9/PLLLCgoiPn6+rKnnnqKXb9+3ex9Ll26xB5//HHWpUsX1r17d/bKK68wwz3jPwsKCtiQIUOYXC5nvXr1MvsMa9AwXvvc79DKjz/mhsP26sVYY6ODi3MwnY6x7t25er/91v73oeGo9qF+s52oh/EyK+aq8PHxwbp167Bu3TqLbSIjI5FnuuC0BRMmTEBxcXGHn0dcS1oasHgxd42QXbu4v+xd1aefctOXhIcDkycLXQ0h7oHmwiJ269oVSE/n7n/4obC1tMdgAN5+m7ufnQ14W332EyGkPRQg5L68/DJ3HfHvvgPumSrNZWzZwm0lPfAA8NJLQldDiPugACH3pVev5l1XH30kbC1taWwE3nqLu/+nP3FbTYQQx6AAIffNNKR382agtlbQUlr54gvgwgUgJITbWiKEOA4FCLlviYnAoEHArVvNf+27gqam5npeeQXo1k3YeghxNxQg5L5JJMDq1dz9jz7irhfiCrZu5Y7LBAcDmZlCV0OI+6EAIQ6RlAQkJ3Mjnl59VehquK2PN9/k7i9YAPj5CVsPIe6IAoQ4zOrVgFQK/Pvf3JQhQvrqK27qksDA5mM0hBDHogAhDhMbC/zhD9z9V14R7rrpRiOwYgV3PysLCAgQpg5C3B0FCHGoFSu466YfPgxs2yZMDZ98ApSVAf7+wPz5wtRAiCegACEO1aMHsGgRd//VV4EWF47sFJcvc8c8AOD117ldWIQQ56AAIQ73pz9xQVJRAbQzTZrDGY3c1Co3bwKjRjUHCSHEOShAiMN17do8AurNN4Hr1zvnczduBPLzgS5duJMavbw653MJ8VQUIMQp/t//A4YMAerqgN/9DtDrnft5Fy4ACxdy91euBB55xLmfRwihACFO4uXFncgXEMAN6c3Kct5nNTUBs2dzF7dKSAAyMpz3WYSQZhQgxGkeeQT47DPuTPUNG5qvCOhoa9cC33/PTVXyj39w56IQQpyP/qsRp0pJaT4n4+WXgaNHHfv+J04Af/4zd3/NGuDhhx37/oQQyyhAiNP9+c9Aaip3HOTpp4HKSse874ED3C4rnY67yuCcOY55X0KIdShAiNNJpcA//wnExABXrwLTpnHHK+5HXh43/5ZWC4wbB3z5JberjBDSeVwmQNatW4eHH34YPj4+iIuLw1FH7+sggvL3B3JzudsDB4Bhw4CiIvve6/PPgd/+Frh7l9tFtns3976EkM7lEgHy5ZdfIjs7G2+88QZOnDiBwYMHIzk5GVVVVUKXRhwoOhrYsQMID+emWR85EnjnHW4UlbU2bADS0rgrDT73HLB9O3feByGk87lEgLz77ruYM2cOZs+ejf79+2Pjxo3w9fXFP/7xD6FLIw42dixw6hQwdSoXAkuWABMnAleuWH7NnTvcdc0TE7kD8Yxxt//6FyCTdV7thBBz3kIXoNfrUVRUhCVLlvDLpFIpEhMToVarBayMOEtICDfR4ubN3FTr+/cD/fsDw4cD/fpxP/37c5MybtnC/dTVca+VSLg5rpYto2MehAhN8ACprq5GU1MTwsLCzJaHhYXh3Llzbb5Gp9NB12KWvvr6egBAratdkNvFGQwGNDQ0oKamBjIB/pR/8klg4EBg3jwvFBVJUVgIFBa23TYigmHGDCOmTzeiZ0/hrr0udJ+JFfWb7Uy/z5hQ10WwguABYo+cnBwsX7681fK+ffsKUA3pDD/9BKxaxf0Q4klqamoQ4KIXtRE8QLp37w4vLy9U3nNyQGVlJZRKZZuvWbJkCbKzs/nHdXV1iIyMxJUrV1y2o12RVqtFREQEfvrpJ/jTMCarUJ/Zh/rNdvX19ejZsyeCg4OFLsUiwQNELpdj+PDhyM/PR2pqKgDAaDQiPz8fmZmZbb5GoVBAoVC0Wh4QEEArpx38/f2p32xEfWYf6jfbSV14bh7BAwQAsrOzMWvWLIwYMQKPPfYY3n//fdy+fRuzZ88WujRCCCEWuESAPPvss/jll1+wdOlSaDQaDBkyBLt37251YJ0QQojrcIkAAYDMzEyLu6w6olAo8MYbb7S5W4tYRv1mO+oz+1C/2U4MfSZhrjxGjBBCiMty3aMzhBBCXBoFCCGEELtQgBBCCLELBQghhBC7iCZAbL1eyLZt2xATEwMfHx/ExsYiLy+vkyp1Hbb02ebNmyGRSMx+fHx8OrFa11BYWIjf/OY3CA8Ph0QiQW5uboev2bdvH4YNGwaFQoE+ffpg8+bNTq/TldjaZ/v27Wu1rkkkEmg0ms4p2AXk5OTg0UcfhZ+fH0JDQ5Gamory8vIOX+dqv9dEESC2Xi/k0KFDmDFjBtLT01FcXIzU1FSkpqbi9OnTnVy5cOy5xoq/vz+uX7/O/1y+fLkTK3YNt2/fxuDBg7Fu3Tqr2ldUVCAlJQUJCQkoKSlBVlYWXnjhBezZs8fJlboOW/vMpLy83Gx9Cw0NdVKFrmf//v3IyMjA4cOHoVKpYDAYkJSUhNu3b1t8jUv+XmMi8Nhjj7GMjAz+cVNTEwsPD2c5OTlttn/mmWdYSkqK2bK4uDj24osvOrVOV2Jrn33yyScsICCgk6oTBwBs+/bt7bZZtGgRGzBggNmyZ599liUnJzuxMtdlTZ8VFBQwAOzGjRudUpMYVFVVMQBs//79Ftu44u81l98CMV0vJDExkV/W0fVC1Gq1WXsASE5O9pjri9jTZwBw69YtREZGIiIiAr/97W9RVlbWGeWKmqeva/djyJAh6NGjByZNmoSDBw8KXY6gTJekaG/iRFdc11w+QNq7XoilfaYajcam9u7Gnj6Ljo7GP/7xD/zf//0fPv30UxiNRowaNQo///xzZ5QsWpbWNa1Wizt37ghUlWvr0aMHNm7ciK+++gpfffUVIiIiMGHCBJw4cULo0gRhNBqRlZWF0aNHY+DAgRbbueLvNZeZyoQIKz4+HvHx8fzjUaNGoV+/fvj444/x5ptvClgZcTfR0dGIjo7mH48aNQo//vgj3nvvPfzrX/8SsDJhZGRk4PTp0/j++++FLsVmLr8FYs/1QpRKpU3t3Y09fXYvmUyGoUOH4sKFC84o0W1YWtf8/f3RpUsXgaoSn8cee8wj17XMzEzs2LEDBQUFeOihh9pt64q/11w+QFpeL8TEdL2Qln8xtxQfH2/WHgBUKpXF9u7Gnj67V1NTE0pLS9GjRw9nlekWPH1dc5SSkhKPWtcYY8jMzMT27duxd+9eREVFdfgal1zXBDt8b4MvvviCKRQKtnnzZnbmzBk2d+5cFhgYyDQaDWOMsZkzZ7JXX32Vb3/w4EHm7e3N/ud//oedPXuWvfHGG0wmk7HS0lKhvkKns7XPli9fzvbs2cN+/PFHVlRUxKZPn858fHxYWVmZUF9BEDdv3mTFxcWsuLiYAWDvvvsuKy4uZpcvX2aMMfbqq6+ymTNn8u0vXrzIfH192cKFC9nZs2fZunXrmJeXF9u9e7dQX6HT2dpn7733HsvNzWXnz59npaWlbP78+UwqlbL//Oc/Qn2FTjdv3jwWEBDA9u3bx65fv87/NDQ08G3E8HtNFAHCGGMffvgh69mzJ5PL5eyxxx5jhw8f5p8bP348mzVrlln7rVu3sr59+zK5XM4GDBjAdu7c2ckVC8+WPsvKyuLbhoWFsSlTprATJ04IULWwTENM7/0x9dWsWbPY+PHjW71myJAhTC6Xs169erFPPvmk0+sWkq19tnLlSta7d2/m4+PDgoOD2YQJE9jevXuFKV4gbfUXALN1Rwy/12g6d0IIIXZx+WMghBBCXBMFCCGEELtQgBBCCLELBQghhBC7UIAQQgixCwUIIYQQu1CAEEIIsQsFCCGEELtQgBBCCLELBQghpE07duxAVFQUHnvsMZw/f17ocogLoqlMCCFtio6Oxrp161BWVga1Wo0vvvhC6JKIi/n/midr/cZzpr4AAAAASUVORK5CYII=",
            "_dom_classes": [],
            "_figure_label": "Figure 22",
            "_image_mode": "full",
            "_message": "",
            "_model_module": "jupyter-matplotlib",
            "_model_module_version": "^0.11",
            "_model_name": "MPLCanvasModel",
            "_rubberband_height": 0,
            "_rubberband_width": 0,
            "_rubberband_x": 0,
            "_rubberband_y": 0,
            "_size": [
              499,
              878.9999999999999
            ],
            "_view_count": null,
            "_view_module": "jupyter-matplotlib",
            "_view_module_version": "^0.11",
            "_view_name": "MPLCanvasView",
            "capture_scroll": false,
            "footer_visible": true,
            "header_visible": true,
            "layout": "IPY_MODEL_6e5a54b27aa148e38efbb2757365bb01",
            "pan_zoom_throttle": 33,
            "resizable": true,
            "toolbar": "IPY_MODEL_a80ae0c8f9b44eb283bb982529ca5950",
            "toolbar_position": "left",
            "toolbar_visible": "fade-in-fade-out"
          }
        },
        "6e5a54b27aa148e38efbb2757365bb01": {
          "model_module": "@jupyter-widgets/base",
          "model_name": "LayoutModel",
          "model_module_version": "1.2.0",
          "state": {
            "_model_module": "@jupyter-widgets/base",
            "_model_module_version": "1.2.0",
            "_model_name": "LayoutModel",
            "_view_count": null,
            "_view_module": "@jupyter-widgets/base",
            "_view_module_version": "1.2.0",
            "_view_name": "LayoutView",
            "align_content": null,
            "align_items": null,
            "align_self": null,
            "border": null,
            "bottom": null,
            "display": null,
            "flex": null,
            "flex_flow": null,
            "grid_area": null,
            "grid_auto_columns": null,
            "grid_auto_flow": null,
            "grid_auto_rows": null,
            "grid_column": null,
            "grid_gap": null,
            "grid_row": null,
            "grid_template_areas": null,
            "grid_template_columns": null,
            "grid_template_rows": null,
            "height": null,
            "justify_content": null,
            "justify_items": null,
            "left": null,
            "margin": null,
            "max_height": null,
            "max_width": null,
            "min_height": null,
            "min_width": null,
            "object_fit": null,
            "object_position": null,
            "order": null,
            "overflow": null,
            "overflow_x": null,
            "overflow_y": null,
            "padding": null,
            "right": null,
            "top": null,
            "visibility": null,
            "width": null
          }
        },
        "a80ae0c8f9b44eb283bb982529ca5950": {
          "model_module": "jupyter-matplotlib",
          "model_name": "ToolbarModel",
          "model_module_version": "^0.11",
          "state": {
            "_current_action": "",
            "_dom_classes": [],
            "_model_module": "jupyter-matplotlib",
            "_model_module_version": "^0.11",
            "_model_name": "ToolbarModel",
            "_view_count": null,
            "_view_module": "jupyter-matplotlib",
            "_view_module_version": "^0.11",
            "_view_name": "ToolbarView",
            "button_style": "",
            "collapsed": true,
            "layout": "IPY_MODEL_9d1c6007409944f1868519b7f0658b85",
            "orientation": "vertical",
            "toolitems": [
              [
                "Home",
                "Reset original view",
                "home",
                "home"
              ],
              [
                "Back",
                "Back to previous view",
                "arrow-left",
                "back"
              ],
              [
                "Forward",
                "Forward to next view",
                "arrow-right",
                "forward"
              ],
              [
                "Pan",
                "Left button pans, Right button zooms\nx/y fixes axis, CTRL fixes aspect",
                "arrows",
                "pan"
              ],
              [
                "Zoom",
                "Zoom to rectangle\nx/y fixes axis",
                "square-o",
                "zoom"
              ],
              [
                "Download",
                "Download plot",
                "floppy-o",
                "save_figure"
              ]
            ]
          }
        },
        "9d1c6007409944f1868519b7f0658b85": {
          "model_module": "@jupyter-widgets/base",
          "model_name": "LayoutModel",
          "model_module_version": "1.2.0",
          "state": {
            "_model_module": "@jupyter-widgets/base",
            "_model_module_version": "1.2.0",
            "_model_name": "LayoutModel",
            "_view_count": null,
            "_view_module": "@jupyter-widgets/base",
            "_view_module_version": "1.2.0",
            "_view_name": "LayoutView",
            "align_content": null,
            "align_items": null,
            "align_self": null,
            "border": null,
            "bottom": null,
            "display": null,
            "flex": null,
            "flex_flow": null,
            "grid_area": null,
            "grid_auto_columns": null,
            "grid_auto_flow": null,
            "grid_auto_rows": null,
            "grid_column": null,
            "grid_gap": null,
            "grid_row": null,
            "grid_template_areas": null,
            "grid_template_columns": null,
            "grid_template_rows": null,
            "height": null,
            "justify_content": null,
            "justify_items": null,
            "left": null,
            "margin": null,
            "max_height": null,
            "max_width": null,
            "min_height": null,
            "min_width": null,
            "object_fit": null,
            "object_position": null,
            "order": null,
            "overflow": null,
            "overflow_x": null,
            "overflow_y": null,
            "padding": null,
            "right": null,
            "top": null,
            "visibility": null,
            "width": null
          }
        }
      }
    }
  },
  "cells": [
    {
      "cell_type": "markdown",
      "metadata": {
        "id": "view-in-github",
        "colab_type": "text"
      },
      "source": [
        "<a href=\"https://colab.research.google.com/github/alisterpage/CHEM3580-Jupyter-Notebooks/blob/main/h2_frequencies.ipynb\" target=\"_parent\"><img src=\"https://colab.research.google.com/assets/colab-badge.svg\" alt=\"Open In Colab\"/></a>"
      ]
    },
    {
      "cell_type": "code",
      "execution_count": 4,
      "metadata": {
        "id": "eVJse8fH7_Z-",
        "cellView": "form"
      },
      "outputs": [],
      "source": [
        "#@title\n",
        "!pip install ipympl -q 2>&1 >/dev/null\n",
        "!pip install ipysheet -q 2>&1 >/dev/null"
      ]
    },
    {
      "cell_type": "markdown",
      "source": [
        "The equilibrium bond length of the H$_{2}$ molecule is 0.751 $\\mathring A$, and the bond dissociation energy is 436 kJ/mol. The potential energy surface of the H$_{2}$ molecule can be approximated using a <font color='blue'>harmonic potential energy surface</font>,\n",
        "\n",
        "<center>$U_{\\text{stretch}} = k(\\Delta R)^2$</center>\n",
        "\n",
        "where the harmonic force constant for H$_{2}$ is $k = 1.02 × 10^{3}$ N m$^{-1}$.\n",
        "\n",
        "What about quantum mechanics though?? According to quantum mechanics, this bond will vibrate with one of an <b>infinite set of frequencies</b> - in the same way that the motion and energy of any quantum mechanical particle is quantised (recall the 'particle-in-a-box' from CHEM2410!!). \n",
        " <br> <br>\n",
        "It can be shown that for this H$_{2}$ molecule, the energies of these different vibrations can be expressed quite simply, \n",
        "\n",
        "<center>$E_{n} = h \\left( n + \\frac{1}{2} \\right) \\nu$</center>\n",
        "\n",
        "where $n = 0, 1, 2, ...$ is the vibrational quantum number  of the molecule, and $\\nu$ is the fundamental frequency of the vibration (s$^{-1}$),\n",
        "\n",
        "<center>$\\nu = \\frac{1}{2\\pi}\\left( \\sqrt{\\frac{2k}{m}} \\right)$</center>\n",
        " <br> <br>\n",
        "It is possible to measure the energies $E_{n}$ very accurately spectroscopically, and these energies for the first few vibrational states of the H$_{2}$ molecule are provided in the table below. \n",
        "\n",
        "<style>\n",
        "table {\n",
        "    width: 1%;\n",
        "}\n",
        "td {\n",
        "    white-space: nowrap;\n",
        "    overflow: hidden;\n",
        "    text-overflow: ellipsis;\n",
        "}\n",
        "</style>\n",
        "\n",
        "<table>\n",
        "  <thead>\n",
        "    <tr>\n",
        "      <th>$n$</th>\n",
        "      <th>$E_{n}$ (J)</th>\n",
        "      <th>$\\tilde{\\nu}$ (cm$^{-1}$)</th>\n",
        "    </tr>\n",
        "  </thead>\n",
        "  <tbody>\n",
        "    <tr>\n",
        "      <td>0</td>\n",
        "      <td>$5.62 \\times 10^{-20}$</td>\n",
        "      <td>-</td>\n",
        "    </tr>\n",
        "    <tr>\n",
        "      <td>1</td>\n",
        "      <td>$1.69 \\times 10^{-20}$</td>\n",
        "      <td>4,161</td>\n",
        "    </tr>\n",
        "    <tr>\n",
        "      <td>2</td>\n",
        "      <td>$2.81 \\times 10^{-20}$</td>\n",
        "      <td>8,087</td>\n",
        "    </tr>\n",
        "    <tr>\n",
        "      <td>3</td>\n",
        "      <td>$3.94 \\times 10^{-20}$</td>\n",
        "      <td>11,782</td>\n",
        "    </tr>\n",
        "    <tr>\n",
        "      <td>4</td>\n",
        "      <td>$5.07 \\times 10^{-20}$</td>\n",
        "      <td>15,250</td>\n",
        "    </tr>\n",
        "  </tbody>\n",
        "</table>\n"
      ],
      "metadata": {
        "id": "6yYQW4Tx8A87"
      }
    },
    {
      "cell_type": "markdown",
      "source": [
        "The widget below calculates the vibrational energies of H$_{2}$, $E_{n}$, assuming a Harmonic potential energy $U_{\\text{stretch}}$. Change the value of the Harmonic force constant $k$ and quantum number $n$ to answer the following questions. \n",
        "\n",
        "1. How do the vibrational energies change with the value of $k$?\n",
        "2. Is it possible to adjust $k$ to reproduce the low-energy experimental frequencies?\n",
        "3. Is it possible to adjust $k$ to reproduce the high-energy experimental frequencies?\n",
        "4. Is it possible to adjust $k$ to reproduce <b>both</b> the low- and high-energy experimental frequencies at the same time?"
      ],
      "metadata": {
        "id": "t8Sb4reESVbA"
      }
    },
    {
      "cell_type": "code",
      "source": [
        "#@title\n",
        "%matplotlib widget\n",
        "import ipywidgets as widgets\n",
        "from IPython.display import display\n",
        "import pandas as pd\n",
        "from array import array\n",
        "import numpy as np\n",
        "from math import sqrt\n",
        "import matplotlib.pyplot as plt\n",
        "import warnings\n",
        "warnings.filterwarnings('ignore')\n",
        "\n",
        "# Create a slider widget\n",
        "slider = widgets.FloatSlider(min=1.0, max=2e3, value=1e3)\n",
        "\n",
        "#define globals\n",
        "x = np.linspace(0.1, 5, 150)\n",
        "fig, ax = plt.subplots(figsize=(4, 3))\n",
        "ax.set_ylim([0, 15000])\n",
        "ax.set_xlim([0,2])\n",
        "ax.set_ylabel(\"Energy (cm$^{-1}$)\")\n",
        "ax.set_xlabel(\"Bond distance R ($\\AA$)\")\n",
        "ax.set_title(None)\n",
        "ax.grid(True)\n",
        "\n",
        "def update(value):\n",
        "  #update the figure\n",
        "  [l.remove() for l in ax.lines]\n",
        "  ax.plot(x, harmonic(value),color='blue')\n",
        "  ax.set_title(None)\n",
        "  \n",
        "  #update the table\n",
        "  data = np.empty((0, 5))\n",
        "  nvalues = np.array([0.0, 1.0, 2.0, 3.0, 4.0])\n",
        "  exp_values = np.array([4161.0,  8087.0,  11782.0, 15250.0] )\n",
        "  data = np.append(data, [[nvalues[0],E_n(0,value),0,0,0]],axis=0)\n",
        "  for i in range(1,5):\n",
        "    data = np.append(data, [[nvalues[i],float(E_n(i,value)),nu_tilde(i,value),exp_values[i-1],nu_tilde(i,value) - exp_values[i-1]]],axis=0)\n",
        "    \n",
        "  df = pd.DataFrame(data, columns=[\"n\", \"Energy (J)\",  \"Harmonic ν̃ (cm-1)\", \"Exp. ν̃ (cm-1)\", \"Difference (cm-1)\"])\n",
        "  df[\"Energy (J)\"] = df[\"Energy (J)\"].apply(lambda x: \"{:.6e}\".format(x))\n",
        "  df[\"n\"] = df[\"n\"].astype(int)\n",
        "  df[\"Exp. ν̃ (cm-1)\"] = df[\"Exp. ν̃ (cm-1)\"].apply(lambda x: str(round(x, 1)))\n",
        "  df[\"Harmonic ν̃ (cm-1)\"] = df[\"Harmonic ν̃ (cm-1)\"].apply(lambda x: str(round(x, 2)))\n",
        "  df[\"Difference (cm-1)\"] = df[\"Difference (cm-1)\"].apply(lambda x: str(round(x, 2)))\n",
        "  display(df.style.hide_index())\n",
        "\n",
        "def E_n(n, value):\n",
        "  c = 3.0e8\n",
        "  h = 6.626e-34\n",
        "  mu = 1.08*1.08/(1.08+1.08)*1.66054E-27\n",
        "  nu = 1/(2*np.pi)*sqrt(value/mu)\n",
        "  return h*(n+0.5)*nu\n",
        "\n",
        "def nu_tilde(n, value):\n",
        "  c = 3.0e8\n",
        "  h = 6.626e-34\n",
        "  mu = 1.08*1.08/(1.08+1.08)*1.66054E-27\n",
        "  nu = 1/(2*np.pi)*sqrt(2*value/mu)\n",
        "  my_lambda=h*c/(E_n(n,value)-E_n(0,value))/1e-9\n",
        "  return 1e7/my_lambda\n",
        "\n",
        "def harmonic(value):\n",
        "  xmin=0.751\n",
        "  return value*(x-xmin)**2/0.0119627\n",
        "\n",
        "\n",
        "# Link the slider to the table & figure\n",
        "widgets.interact(update, value=slider);\n"
      ],
      "metadata": {
        "colab": {
          "base_uri": "https://localhost:8080/",
          "height": 1000,
          "referenced_widgets": [
            "d66982531f0c495289fb95808990a345",
            "95ea5f16940142da90d716a1e250209f",
            "c4a4bff38b4f48dd9a2206f57340dafb",
            "753712a6265e40db8953e71218e4ecfa",
            "21ef186ef86c4e3f95305fdc9aacd49b",
            "3051ec72eda04aae856b0ea7d2946621",
            "f5b0073318364cc0bd5d4d0f9e00db74",
            "73ba46f6450b4f64bfa186c3a3c1b828",
            "6e5a54b27aa148e38efbb2757365bb01",
            "a80ae0c8f9b44eb283bb982529ca5950",
            "9d1c6007409944f1868519b7f0658b85"
          ]
        },
        "id": "tgkf4ax99AGU",
        "outputId": "90d27d32-1ef1-40c0-e4dd-262ac315f628"
      },
      "execution_count": 126,
      "outputs": [
        {
          "output_type": "display_data",
          "data": {
            "text/plain": [
              "interactive(children=(FloatSlider(value=1000.0, description='value', max=2000.0, min=1.0), Output()), _dom_cla…"
            ],
            "application/vnd.jupyter.widget-view+json": {
              "version_major": 2,
              "version_minor": 0,
              "model_id": "d66982531f0c495289fb95808990a345"
            }
          },
          "metadata": {
            "application/vnd.jupyter.widget-view+json": {
              "colab": {
                "custom_widget_manager": {
                  "url": "https://ssl.gstatic.com/colaboratory-static/widgets/colab-cdn-widget-manager/b3e629b1971e1542/manager.min.js"
                }
              }
            }
          }
        },
        {
          "output_type": "display_data",
          "data": {
            "text/plain": [
              "Canvas(toolbar=Toolbar(toolitems=[('Home', 'Reset original view', 'home', 'home'), ('Back', 'Back to previous …"
            ],
            "image/png": "[encoded data removed]",
            "text/html": [
              "\n",
              "            <div style=\"display: inline-block;\">\n",
              "                <div class=\"jupyter-widgets widget-label\" style=\"text-align: center;\">\n",
              "                    Figure\n",
              "                </div>\n",
              "                <img src='data:image/png;base64,iVBORw0KGgoAAAANSUhEUgAAAZAAAAEsCAYAAADtt+XCAAAAOXRFWHRTb2Z0d2FyZQBNYXRwbG90bGliIHZlcnNpb24zLjcuMSwgaHR0cHM6Ly9tYXRwbG90bGliLm9yZy/bCgiHAAAACXBIWXMAAA9hAAAPYQGoP6dpAAA9EElEQVR4nO3de1wTV94/8E8CSRDlbiHSIkWt4AXvLeKdRwQr3S6ta6tlrT+XamvhWZGuWrdbq7Zdqj62ta2Xuvts3de2ttVt5WkVtVlEsRpvCIqoVCtqqwYKCFHRJJDz+2OagQiBJCZMJvm+Xy9eSSYnyTfHkQ8zc+aMhDHGQAghhNhIKnQBhBBCxIkChBBCiF0oQAghhNiFAoQQQohdKEAIIYTYhQKEEEKIXShACCGE2IUChBBCiF0oQAghhNiFAoQQQohdKEAIIYTYhQKEEEKIXShACCGE2IUChBBCiF0oQAghhNiFAoQQQohdKEAIIYTYhQKEEEKIXShACCGE2IUChBBCiF0oQAghhNiFAoQQQohdKEAIIYTYhQKEEEKIXShACCGE2IUChBBCiF0oQAghhNiFAoQQQohdKEAIIYTYhQKEEEKIXShACCGE2IUChBBCiF0oQAghhNiFAoQQQohdvIUuwBGMRiOuXbsGPz8/SCQSocshhJD7xhjDzZs3ER4eDqnUNf/Wd4sAuXbtGiIiIoQugxBCHO6nn37CQw89JHQZbXKLAPHz8wMAVFRUIDg4WOBq7PfLL0CfPtz9qipAoXDu5xkMBnz33XdISkqCTCZz7oe5ic7qswMHgCeeAHr1AoqLnfYxnYbWNdvV1tYiKiqK//3mitwiQEy7rfz8/ODv7y9wNfbz8wO6dQNu3QJqaoCYGOd+nsFggK+vL/z9/ek/tZU6q8+uXeNuo6MBEa/SPFrXbGcwGADApXfLu+aONQ8lkTRvgVy4IGwtRFjnz3O3jzwibB2EtIcCxMX07cvd/vCDsHUQYVGAEDGgAHExpgApLxe2DiIsChAiBhQgLoa2QIjRCPz4I3efAoS4MgoQF0MBQn7+Gbh7F5DJgJ49ha6GEMsoQFyMKUCuXeNGYxHPY9p9FRUFeLvFOEnirihAXExQEPDAA9x90y8S4lno+AcRCwoQF0S7sTwbBQgRC2l4eDgkEglyc3MtNnrppZcgkUjw/vvvmy2vra1FWloa/P39ERgYiPT0dNy6Z7/LqVOnMHbsWPj4+CAiIgKrVq1q9f7btm1DTEwMfHx8EBsbi7y8PEd8N9GiAPFsFCBELKTr1q1rt8H27dtx+PBhhIeHt3ouLS0NZWVlUKlU2LFjBwoLCzF37lz+ea1Wi6SkJERGRqKoqAirV6/GsmXLsGnTJr7NoUOHMGPGDKSnp6O4uBipqalITU3F6dOnHfctRYaG8no2ChAiGowxBoBt376d3evnn39mDz74IDt9+jSLjIxk7733Hv/cmTNnGAB27NgxftmuXbuYRCJhV69eZYwxtn79ehYUFMR0Oh3fZvHixSw6Opp//Mwzz7CUlBSzz42Li2Mvvvhiq3osqa+vZwBYdXW11a9xZV99xRjA2KOPOvdz9Ho9y83NZXq93rkf5Eac3WeNjYzJ5dy/f0WFUz5CELSu2a66upoBYPX19UKXYpHFMR5GoxEzZ87EwoULMWDAgFbPq9VqBAYGYsSIEfyyxMRESKVSHDlyBE899RTUajXGjRsHuVzOt0lOTsbKlStx48YNBAUFQa1WIzs72+y9k5OT292lptPpoNPp+MdarRYAN3eMaf4YMYuKAgAZfviBQa9vhLOmwjH1lTv0WWdxdp9dugTo9TLI5QxKZSPc5Z+G1jXbiaGvLAbIypUr4e3tjT/+8Y9tPq/RaBAaGmr+Zt7eCA4Ohkaj4dtEcb8NeWFhYfxzQUFB0Gg0/LKWbUzv0ZacnBwsX7681fKCggL4+vpafJ1Y6PVSSCRPoL5egs8//w8CA/VO/TyVSuXU93dHzuqzkpIHAIxCaOgt7Nmz1ymfISRa16zX0NAgdAkdajNAioqKsHbtWpw4ccIlZ4JcsmSJ2VaLVqtFREQEEhISEBISImBljhMZyf01Ghk5CaNHM6d8hsFggEqlwqRJk2iGVCs5u8+uXOEGRg4e3BVTpkxx+PsLhdY129XU1AhdQofaDJADBw6gqqoKPVucBtvU1IRXXnkF77//Pi5dugSlUomqqiqz1zU2NqK2thZKpRIAoFQqUVlZadbG9LijNqbn26JQKKBo42IZMpnMbVbOvn25ALl40RsTJjj3s9yp3zqLs/rs4kXuNjpaCpnM/UbZ07pmPTH0U5tr6MyZM3Hq1CmUlJTwP+Hh4Vi4cCH27NkDAIiPj0ddXR2Kior41+3duxdGoxFxcXF8m8LCQrN9eSqVCtHR0QgKCuLb5Ofnm32+SqVCfHy8Y7+pyNBQXs9EI7CImHiXlJQA4K7mV1JSguDgYPTs2bPVriCZTAalUono6GgAQL9+/TB58mTMmTMHGzduhMFgQGZmJqZPn84P+X3uueewfPlypKenY/HixTh9+jTWrl2L9957j3/f+fPnY/z48VizZg1SUlLwxRdf4Pjx42ZDfT0RBYhnogAhYiIdOnQoACA7OxtDhw7F0qVLrX7xZ599hpiYGEycOBFTpkzBmDFjzH7xBwQE4LvvvkNFRQWGDx+OV155BUuXLjU7V2TUqFHYsmULNm3ahMGDB+Pf//43cnNzMXDgQMd9SxGic0E8T2Nj8y4sChAiBt6MWXeA9tKlS62WBQcHY8uWLe2+btCgQThw4EC7baZNm4Zp06ZZVYenMAXIhQtAUxPg5SVsPcT5Ll/mQsTHB3joIaGrIaRj7neUzk307AkoFIBeD1y5InQ1pDOYdl/17g1I6X8mEQFaTV2Ul1fz9dHpOIhnMAWI6d+dEFdHAeLC6EC6ZzEd74qJEbYOQqxFAeLCKEA8y7lz3C0FCBELChAXRgHiWShAiNhQgLgwGsrrOW7eBK5e5e7/eqoVIS6PAsSFmQLkyhXgzh1hayHOZfojISyMu6wxIWJAAeLCHngACAgAGAN+/FHoaogz0e4rIkYUIC5MImnenUHHQdwbBQgRIwoQF0cH0j3D2bPcLQUIERMKEBdHAeIZaAuEiBEFiIujAHF/jY3NZ6FTgBAxoQBxcRQg7q+iAjAYgC5duDnQCBELChAXZ5rW+5dfgBs3hK2FOIdp91V0NE2iSMSFVlcX160b8Ov1uWgrxE3R8Q8iVhQgImAaymv6RUPcCwUIESsKEBHo14+7NQ31JO6FAoSIFQWICFCAuC/G6BwQIl4UICLQvz93e+aMsHUQx6uu5gZHSCR0HXQiPhQgImDaArl4Ebh7V9haiGOZdl9FRgK+vsLWQoitpOHh4ZBIJMjNzeUXGgwGLF68GLGxsejatSvCw8Px/PPP49q1a2Yvrq2tRVpaGvz9/REYGIj09HTcunXLrM2pU6cwduxY+Pj4ICIiAqtWrWpVxLZt2xATEwMfHx/ExsYiLy/PKV9WrJRKIDAQMBppJJa7oeMfRMyk69ata7WwoaEBJ06cwOuvv44TJ07g66+/Rnl5OZ588kmzdmlpaSgrK4NKpcKOHTtQWFiIuXPn8s9rtVokJSUhMjISRUVFWL16NZYtW4ZNmzbxbQ4dOoQZM2YgPT0dxcXFSE1NRWpqKk6fPu28by0yEgkdB3FXFCBE1BhjDADbvn07a8/Ro0cZAHb58mXGGGNnzpxhANixY8f4Nrt27WISiYRdvXqVMcbY+vXrWVBQENPpdHybxYsXs+joaP7xM888w1JSUsw+Ky4ujr344ovt1tNSfX09A8Cqq6utfo3YpKczBjC2dKnj3lOv17Pc3Fym1+sd96ZuztF9NmUK9++6caND3s5l0bpmu+rqagaA1dfXC12KRd7WBk19fT0kEgkCAwMBAGq1GoGBgRgxYgTfJjExEVKpFEeOHMFTTz0FtVqNcePGQS6X822Sk5OxcuVK3LhxA0FBQVCr1cjOzjb7rOTkZLNdavfS6XTQ6XT8Y61WC4Db9WYwGKz9SqLSt68UgBfKyowwGJoc8p6mvnLXPnMGR/fZuXPeACTo06cRBgNzyHu6IlrXbCeGvrIqQO7evYvFixdjxowZ8Pf3BwBoNBqEhoaav5m3N4KDg6HRaPg2UVFRZm3CwsL454KCgqDRaPhlLduY3qMtOTk5WL58eavlBQUF8HXTI5G3boUCiMexY7eQl1fg0PdWqVQOfT9P4Ig+0+ulqKh4AgDw88//QV6eroNXiB+ta9ZraGgQuoQOdRggBoMBzzzzDBhj2LBhQ2fU1KElS5aYbbVotVpEREQgISEBISEhAlbmPP37A2++CVy/7oekpCnwtnrb0TKDwQCVSoVJkyZBJpPd/xt6AEf2WWkpwJgEgYEMM2ZMhETioCJdEK1rtqupqRG6hA61+2vIFB6XL1/G3r17+a0PAFAqlaiqqjJr39jYiNraWiiVSr5NZWWlWRvT447amJ5vi0KhgEKhaLVcJpO57crZuzc3zLOhQYIrV2T89CaO4M795iyO6DPTZYpjYiSQyz2j/2lds54Y+snieSCm8Dh//jz+85//tPrLPj4+HnV1dSgqKuKX7d27F0ajEXFxcXybwsJCs315KpUK0dHRCAoK4tvk5+ebvbdKpUJ8fPz9fzs3IpU2j9ShkVjugUZgEbGTlpSUAAAqKipQUlKCK1euwGAw4He/+x2OHz+Ozz77DE1NTdBoNNBoNNDr9QCAfv36YfLkyZgzZw6OHj2KgwcPIjMzE9OnT0f4r9PHPvfcc5DL5UhPT0dZWRm+/PJLrF271mz30/z587F7926sWbMG586dw7Jly3D8+HFkZmZ2eme4OtMZ6RQg7oEChLgD1vJn1qxZrKKigt273PRTUFDAD+GqqalhM2bMYN26dWP+/v5s9uzZ7ObNm2bDvE6ePMnGjBnDFAoFe/DBB9k777zTaijY1q1bWd++fZlcLmcDBgxgO3futGkomScM42WMsbff5oZ8/v73jnk/GlppO0f22bBh3L9nbq4DCnNxtK7ZThTDeBlre+igpeUtBQcHY8uWLe22GTRoEA4cONBum2nTpmHatGkdfp6noy0Q92E00hYIET+aC0tEWp6NbjQKWwu5P1evAg0NgEwG9OoldDWE2IcCRER69+Z+4TQ0AD/9JHQ15H6Ytj769OH+TQkRIwoQEfH2Bvr25e7T1O7iRruviDugABEZmlTRPZj+AKAAIWJGASIydHEp92CabHrgQGHrIOR+UICIDG2BiB9jQFkZd58ChIgZBYjItNwCsWKkNXFB169zl7H18oJDp6QhpLNRgIhM377ctCZ1dcA9U4gRkTDtvnrkEaCNKd0IEQ0KEJHx8Wk+b4COg4gTHf8g7oICRIToOIi4UYAQd0EBIkI0EkvcTAfQBwwQtg5C7hcFiAjRFoh4GY00Aou4DwoQEaItEPG6fBm4fRuQy7lpTAgRMwoQETKdvVxZCdTWClsLsY3p+Ee/fnDIZYkJERIFiAj5+QEREdx92o0lLnT8g7gTChCRMh0Hod1Y4kIjsIg7oQARKdMvINMvJCIOFCDEnVCAiFRsLHd76pSwdRDrNTY273KkACHugAJEpAYN4m5LS2lOLLG4cAHQ6wFfXyAyUuhqCLl/0vDwcEgkEuTm5po9wRjD0qVL0aNHD3Tp0gWJiYk4f/68WZva2lqkpaXB398fgYGBSE9Px61bt8zanDp1CmPHjoWPjw8iIiKwatWqVkVs27YNMTEx8PHxQWxsLPLy8hz+Rd1N//7cnFg1NdzkfMT1tTyALqU/3YgbkK5bt67NJ1atWoUPPvgAGzduxJEjR9C1a1ckJyfj7t27fJu0tDSUlZVBpVJhx44dKCwsxNy5c/nntVotkpKSEBkZiaKiIqxevRrLli3Dpk2b+DaHDh3CjBkzkJ6ejuLiYqSmpiI1NRWnaed+u3x8mq9OWFoqbC3EOnT8g7gdxhgDwLZv385MjEYjUyqVbPXq1fyyuro6plAo2Oeff84YY+zMmTMMADt27BjfZteuXUwikbCrV68yxhhbv349CwoKYjqdjm+zePFiFh0dzT9+5plnWEpKCmspLi6Ovfjii8xa9fX1DACrrq62+jXu4JlnGAMYW7XKvtfr9XqWm5vL9Hq9YwtzY/fTZ7/7HffvtWaNEwpzcbSu2a66upoBYPX19UKXYlGbG9IVFRXQaDRITEzklwUEBCAuLg5qtRoAoFarERgYiBEjRvBtEhMTIZVKceTIEb7NuHHjIJfL+TbJyckoLy/HjRs3+DYtP8fUxvQ5xDLTgXTaAhEH0xYInQNC3EWb58JqNBoAQFhYmNnysLAw/jmNRoPQ0FDzN/P2RnBwsFmbqKioVu9hei4oKAgajabdz2mLTqeDTqfjH2u1WgCAwWCAwWCw+Dp307+/BIA3Tp5kMBgabX69qa88qc/ul719ptMB5897A5AgOtoAT+tyWtdsJ4a+EuVkCjk5OVi+fHmr5QUFBfD19RWgImFUV/sCmIQzZ4z45ptd8Pa2bziWSqVybGEewNY+u3TJH01NCejaVY+Skl04edJJhbk4Wtes19DQIHQJHWozQJRKJQCgsrISPXr04JdXVlZiyJAhfJuqqiqz1zU2NqK2tpZ/vVKpROU9l80zPe6ojen5tixZsgTZ2dn8Y61Wi4iICCQkJCAkJMTyt3UzRiPwpz8x3Lzphd69H7d514jBYIBKpcKkSZMgk8mcU6SbsbfPPv9cAgAYMsQbKSlTnFWey6J1zXY1NTVCl9ChNgMkKioKSqUS+fn5fGBotVocOXIE8+bNAwDEx8ejrq4ORUVFGD58OABg7969MBqNiIuL49u89tprMBgM/EqjUqkQHR2NoKAgvk1+fj6ysrL4z1epVIiPj7dYtEKhgKKNa4HKZDKPWzkHDgTUauDcORl+/aeymSf22/2ytc/OneNuY2OlkMk8dwwvrWvWE0M/SUtKSgBwB85LSkpw5coVSCQSZGVl4a233sI333yD0tJSPP/88wgPD0dqaioAoF+/fpg8eTLmzJmDo0eP4uDBg8jMzMT06dMRHh4OAHjuuecgl8uRnp6OsrIyfPnll1i7dq3Z1sP8+fOxe/durFmzBufOncOyZctw/PhxZGZmdnZfiJLphEI6I9210QF04q5Yy59Zs2YxxrihvK+//joLCwtjCoWCTZw4kZWXl5sN4aqpqWEzZsxg3bp1Y/7+/mz27Nns5s2bZm1OnjzJxowZwxQKBXvwwQfZO++802oo2NatW1nfvn2ZXC5nAwYMYDt37rRpKJmnDuNljLGPPuKGhj7xhO2vpaGVtrO3z3r14v6dCgqcU5ero3XNdmIYxuvNLMyDIZFIsGLFCqxYscJi8gQHB2PLli3tptOgQYNw4MCBdttMmzYN06ZNa7cNaRttgbi+27eBixe5+7QFQtyJ5+6MdROms5qvXAHq64WthbTNNOV+WBjwwAPC1kKII1GAiFxQUPPFpeiEQtdExz+Iu6IAcQM0tbtrM02iSHNgEXdDAeIGWk7tTlyP6aRBChDibihA3AAdSHddjAG/jpTH0KGClkKIw1GAuIGWkyrSxaVcy9WrQHU14OVFWyDE/VCAuIHoaEAmA27eBC5fFroa0pJp66NfP+4aLoS4EwoQNyCTcb+gADoO4mpMAWLvNDOEuDIKEDdBx0FcU3Exd0vHP4g7ogBxE3RxKddEWyDEnVGAuAnaAnE99fXNU5hQgBB3RAHiJkxbID/8ANy9K2wthGM6/6NnTyA4WNhaCHEGChA3ER7O/ZJqagLOnhW6GgLQ7ivi/ihA3IREQsdBXA0FCHF3FCBuxHQcxPSLiwiLAoS4OwoQNzJsGHd74oSwdRBAr2+ehZeG8BJ3RQHiRkwBUlwMGI3C1uLpzp4FDAYgIACIjBS6GkKcgwLEjfTvz02XodU2Dx8lwmi5+0oiEbISQpyHAsSNeHs3HwcpKhK2Fk9HZ6ATT0AB4mboOIhroAPoxBNYDJCmpia8/vrriIqKQpcuXdC7d2+8+eabYC3mC2eMYenSpejRowe6dOmCxMREnD9/3ux9amtrkZaWBn9/fwQGBiI9PR23bt0ya3Pq1CmMHTsWPj4+iIiIwKpVqxz8NT3H8OHcLW2BCKflNUAoQIg7sxggK1euxIYNG/DRRx/h7NmzWLlyJVatWoUPP/yQb7Nq1Sp88MEH2LhxI44cOYKuXbsiOTkZd1ucCp2WloaysjKoVCrs2LEDhYWFmDt3Lv+8VqtFUlISIiMjUVRUhNWrV2PZsmXYtGmTk76ye2u5BULXBhHG5cvcNCZyefMsyYS4JWZBSkoK+8Mf/mC27Omnn2ZpaWmMMcaMRiNTKpVs9erV/PN1dXVMoVCwzz//nDHG2JkzZxgAduzYMb7Nrl27mEQiYVevXmWMMbZ+/XoWFBTEdDod32bx4sUsOjraUmmt1NfXMwCsurra6te4K52OMZmMMYCxior22+r1epabm8v0en2n1OYOrOmzr7/m+n/o0E4szMXRuma76upqBoDV19cLXYpFFrdARo0ahfz8fPzwww8AgJMnT+L777/H448/DgCoqKiARqNBYmIi/5qAgADExcVBrVYDANRqNQIDAzFixAi+TWJiIqRSKY4cOcK3GTduHORyOd8mOTkZ5eXluHHjhqNy0mPI5c1npNNuLGHQ7iviKbwtPfHqq69Cq9UiJiYGXl5eaGpqwttvv420tDQAgEajAQCEhYWZvS4sLIx/TqPRIDQ01PwDvb0RHBxs1iYqKqrVe5ieCwoKalWbTqeDTqfjH2u1WgCAwWCAwWCw4mu7tyFDvHDihBTHjjXhySctnxBi6ivqM+tZ02cnTngBkCI2tgkGA52QA9C6Zg8x9JXFANm6dSs+++wzbNmyBQMGDEBJSQmysrIQHh6OWbNmdWaNreTk5GD58uWtlhcUFMDX11eAilyLXP4wgMH47rtqxMcf7rC9SqVyek3upr0+O3x4EgBf3LlzCHl5tZ1XlAjQuma9hoYGoUvokMUAWbhwIV599VVMnz4dABAbG4vLly8jJycHs2bNglKpBABUVlaiR48e/OsqKysx5Ndtd6VSiaqqKrP3bWxsRG1tLf96pVKJyspKszamx6Y291qyZAmys7P5x1qtFhEREUhISEBISIhVX9ydPfCABBs3Aj//HIrHH59i8UQ2g8EAlUqFSZMmQSaTdW6RItVRn9XUANXV3PK5c0ciIKCzK3RNtK7ZrqamRugSOmQxQBoaGiCVmh8i8fLygvHXOTKioqKgVCqRn5/PB4ZWq8WRI0cwb948AEB8fDzq6upQVFSE4b+OL927dy+MRiPi4uL4Nq+99hoMBgO/YqlUKkRHR7e5+woAFAoFFApFq+UymYxWTnAjsby8gF9+kaCyUoaIiPbbU7/ZzlKfnTnD3fbqBXTvTn16L1rXrCeGfrJ4EP03v/kN3n77bezcuROXLl3C9u3b8e677+Kpp54CAEgkEmRlZeGtt97CN998g9LSUjz//PMIDw9HamoqAKBfv36YPHky5syZg6NHj+LgwYPIzMzE9OnTER4eDgB47rnnIJfLkZ6ejrKyMnz55ZdYu3at2RYGsY2PDzBgAHefTijsXHQGOvEkFrdAPvzwQ7z++ut4+eWXUVVVhfDwcLz44otYunQp32bRokW4ffs25s6di7q6OowZMwa7d++Gj48P3+azzz5DZmYmJk6cCKlUiqlTp+KDDz7gnw8ICMB3332HjIwMDB8+HN27d8fSpUvNzhUhths+nLu87YkTwG9/K3Q1noNGYBFPYjFA/Pz88P777+P999+3+GKJRIIVK1ZgxYoVFtsEBwdjy5Yt7RYxaNAgHDhwoONqidWGDQM++YSG8na248e5W9oCIZ6A5sJyUzQnVuerrwfOnePuP/aYsLUQ0hkoQNzU4MGAVApcv879EOczbe09/DDwwAOClkJIp6AAcVNduwIxMdx92grpHEePcre09UE8BQWIGzPNzEsB0jkoQIinoQBxY6bjIHQgvXNQgBBPQwHixuhAeue5epX7kUqb+50Qd0cB4sZMQ0l/+gn45Rdha3F3x45xtwMGcMefCPEEFCBuzM8P6NuXu09bIc5Fu6+IJ6IAcXN0idvOYdoCoQAhnoQCxM2ZAsT0C444ntFIAUI8EwWImxs5krs9fJiuke4s589zZ6F36dI8iSUhnoACxM0NGwZ4ewMaDXD5stDVuCfT8Y9hwwARzMBNiMNQgLi5Ll2aZ4Y93PHFCYkdTAHy6KPC1kFIZ6MA8QDx8dytWi1sHe6KRmART0UB4gFaHgchjqXXN18DhAKEeBoKEA9g2gIpLgbu3hW2Fndz6hQXIsHB3GVsCfEkFCAe4OGHgdBQwGCgEwodreXuK4lE2FoI6WwUIB5AIqHjIM5Cxz+IJ6MA8RB0HMQ5aAQW8WQUIB6CtkAcr+UlbClAiCdqN0CuXr2K3//+9wgJCUGXLl0QGxuL48eP888zxrB06VL06NEDXbp0QWJiIs6fP2/2HrW1tUhLS4O/vz8CAwORnp6OW7dumbU5deoUxo4dCx8fH0RERGDVqlUO/IoEAEaMALy8uCnHf/5Z6GrcQ1ERd3Z/ZCQQFiZ0NYR0PosBcuPGDYwePRoymQy7du3CmTNnsGbNGgQFBfFtVq1ahQ8++AAbN27EkSNH0LVrVyQnJ+Nui6E+aWlpKCsrg0qlwo4dO1BYWIi5c+fyz2u1WiQlJSEyMhJFRUVYvXo1li1bhk2bNjnpK3umrl2BQYO4+7QV4hg0/xXxeMyCxYsXszFjxlh6mhmNRqZUKtnq1av5ZXV1dUyhULDPP/+cMcbYmTNnGAB27Ngxvs2uXbuYRCJhV69eZYwxtn79ehYUFMR0Op3ZZ0dHR1v87HvV19czAKy6utrq13iiefMYAxjLzuYe6/V6lpuby/R6vbCFiUjLPnv6aa4/W/wXIBbQuma76upqBoDV19cLXYpFFrdAvvnmG4wYMQLTpk1DaGgohg4dir/97W/88xUVFdBoNEhMTOSXBQQEIC4uDupf/8RVq9UIDAzEiBEj+DaJiYmQSqU4cuQI32bcuHGQy+V8m+TkZJSXl+PGjRsOikkC0HEQR2KsuR9pC4R4Km9LT1y8eBEbNmxAdnY2/vznP+PYsWP44x//CLlcjlmzZkGj0QAAwu7Z+RsWFsY/p9FoEBoaav6B3t4IDg42axMVFdXqPUzPtdxlZqLT6aDT6fjHWq0WAGAwGGAwGKz75h6Im9pdhhMnGG7daoRUyvUV9Zn1TH31ww+NuH5dBpmMYciQRlAXts/Ub7SuWU8MfWUxQIxGI0aMGIG//vWvAIChQ4fi9OnT2LhxI2bNmtVpBbYlJycHy5cvb7W8oKAAvr6+AlQkDowBfn6TcfOmAhs2qNG3L7eFp1KpBK5MfDZtOgtgGHr3rkVBwfdClyMatK5Zr6GhQegSOmQxQHr06IH+/fubLevXrx+++uorAIBSqQQAVFZWokePHnybyspKDPl1+lelUomqqiqz92hsbERtbS3/eqVSicrKSrM2psemNvdasmQJsrOz+cdarRYRERFISEhASEiI5W9LMHasF/LyAC+v0Zg0SQeVSoVJkyZBRvOQW8VgMEClUqG+nhuR8MQTgZgyZYrAVbk+U7/Ruma9mpoaoUvokMUAGT16NMrLy82W/fDDD4iMjAQAREVFQalUIj8/nw8MrVaLI0eOYN68eQCA+Ph41NXVoaioCMN/vTTe3r17YTQaERcXx7d57bXXYDAY+BVLpVIhOjq6zd1XAKBQKKBQKFotl8lktHJ2YNQoIC8POHrUC//931xfUb/Z7tAhLwDA+PFekMm8BK5GPGhds54Y+sniQfQFCxbg8OHD+Otf/4oLFy5gy5Yt2LRpEzIyMgAAEokEWVlZeOutt/DNN9+gtLQUzz//PMLDw5GamgqA22KZPHky5syZg6NHj+LgwYPIzMzE9OnTER4eDgB47rnnIJfLkZ6ejrKyMnz55ZdYu3at2RYGcRw6I/3+3bihwIULEkgkwOjRQldDiIDaG6L17bffsoEDBzKFQsFiYmLYpk2bzJ43Go3s9ddfZ2FhYUyhULCJEyey8vJyszY1NTVsxowZrFu3bszf35/Nnj2b3bx506zNyZMn2ZgxY5hCoWAPPvgge+edd2waSkbDeK2n1TImkXDDTy9fpqGVttLr9WzRoiMMYCw2VuhqxIOG8dpODMN4JYyJ/0rZWq0WAQEBqK6upmMgVhg0CCgtBbZubYRcvhNTpkwRxeayKzAYDHj66SvYsaM3Xn4ZWLdO6IrEwWAwIC8vj9Y1G9TU1KB79+6or6+Hv7+/0OW0iebC8kCm80EOH6b5x+1x5gz3R8rYsQIXQojAKEA8kOk4yKFDFCC20mqBS5cCAABjxghcDCECowDxQOPHc7fHj0tw9y6NILLF4cMSGI0SPPwww0MPCV0NIcKiAPFAUVFAz55AY6ME584FC12OqHz/PbfVNnq06A8dEnLfKEA8kEQCTJjA3S8t7S5oLWJj2u03ZoxR4EoIER4FiIcyBcjp0xQg1tLpgKNHaQuEEBMKEA9lCpALFwJxz/W9iAVFRcDduxIEBOgQHS10NYQIjwLEQ0VFAZGRDE1NUqjVNBrLGgcOcLf9+tVAQl1GCAWIJxs3jtsNs38//Ta0RnOA1ApbCCEuggLEg40fzx0ILiykAOmI0QgcPMjd79/f9WdJJaQzUIB4MNMWyPHjEjoO0oGyMqCuDujalaFXr3qhyyHEJVCAeLCHHwYeeKABjY0S/q9r0jbT7quRIxm8vGgEFiEABYjHi42tBgDs2ydsHa7OFCA0fJeQZhQgHm7gQAqQjjAGFBZy98eMoQAhxIQCxMMNGMAFyLFjoOMgFpw9C1y7BigUQFwcBQghJhQgHi4s7A4efpihqQn4/nuhq3FNKhV3O24c0KWLsLUQ4kooQAjGj+f+qqbdWG377jvuNilJ2DoIcTUUIATjxnHng1CAtKbTNfcLBQgh5ihASIvzQYCbNwUuxsUcOgQ0NABhYUBsrNDVEOJaKEAIIiO5ubGamkDng9yj5e4rmv+KEHNWB8g777wDiUSCrKwsftndu3eRkZGBkJAQdOvWDVOnTkVlZaXZ665cuYKUlBT4+voiNDQUCxcuRGNjo1mbffv2YdiwYVAoFOjTpw82b958X1+K2C4hgbstKBC2DldDxz8IscyqADl27Bg+/vhjDBo0yGz5ggUL8O2332Lbtm3Yv38/rl27hqeffpp/vqmpCSkpKdDr9Th06BD++c9/YvPmzVi6dCnfpqKiAikpKUhISEBJSQmysrLwwgsvYM+ePQ76isQapund9+4VtAyX8ssvwIkT3P3ERGFrIcQlsQ7cvHmTPfLII0ylUrHx48ez+fPnM8YYq6urYzKZjG3bto1ve/bsWQaAqdVqxhhjeXl5TCqVMo1Gw7fZsGED8/f3ZzqdjjHG2KJFi9iAAQPMPvPZZ59lycnJHZXGq6+vZwBYdXW11a8hjOn1epabm8v0ej27do0x7pQ5xlr8c3m0LVu4/hg8uHlZyz4j1qN+s111dTUDwOrr64UuxSLvjgImIyMDKSkpSExMxFtvvcUvLyoqgsFgQGKLP81iYmLQs2dPqNVqjBw5Emq1GrGxsQgLC+PbJCcnY968eSgrK8PQoUOhVqvN3sPUpuWusnvpdDrodDr+sVarBQAYDAYYDIaOvhL5lamvDAYDuncHhg71RnGxBDt2NOL55+mEud27vQBIMXFiEwwGbqRayz4j1qN+s50Y+qrdAPniiy9w4sQJHDt2rNVzGo0GcrkcgYGBZsvDwsKg0Wj4Ni3Dw/S86bn22mi1Wty5cwdd2jhzKycnB8uXL2+1vKCgAL6+vu19JdIG1a9nyvXpE4Pi4mh88kklunc/LnBVwmIM2LkzCUAXBAQcQV7eL2bPm/qM2Ib6zXoNDQ1Cl9AhiwHy008/Yf78+VCpVPDx8enMmjq0ZMkSZGdn84+1Wi0iIiKQkJCAkJAQASsTF4PBAJVKhUmTJkEmkyEkRIJt24DTp8MxadIUyGRCVyicM2eAmhoZfHwYFix4FKb/Avf2GbEO9Zvtampc/7ozFgOkqKgIVVVVGDZsGL+sqakJhYWF+Oijj7Bnzx7o9XrU1dWZbYVUVlZCqVQCAJRKJY4ePWr2vqZRWi3b3Dtyq7KyEv7+/m1ufQCAQqGAQqFotVwmk9HKaQdTv8XHA927A9XVEhw/LsO4cUJXJhzTaLRx4yTw82u9TtG6Zh/qN+uJoZ8sjsKaOHEiSktLUVJSwv+MGDECaWlp/H2ZTIb8/Hz+NeXl5bhy5Qri4+MBAPHx8SgtLUVVVRXfRqVSwd/fH/379+fbtHwPUxvTe5DO4+UFTJ7M3c/LE7YWodHwXUI6ZjFA/Pz8MHDgQLOfrl27IiQkBAMHDkRAQADS09ORnZ2NgoICFBUVYfbs2YiPj8fIkSMBAElJSejfvz9mzpyJkydPYs+ePfjLX/6CjIwMfgvipZdewsWLF7Fo0SKcO3cO69evx9atW7FgwYLO6QFiZsoU7nbnTmHrEBJNX0KIde7rTPT33nsPTzzxBKZOnYpx48ZBqVTi66+/5p/38vLCjh074OXlhfj4ePz+97/H888/jxUrVvBtoqKisHPnTqhUKgwePBhr1qzB3//+dyQnJ99PacROycmAVAqcPg1cuSJ0NcI4eBC4cwdQKoGBA4WuhhDX1eEw3pb23TPbno+PD9atW4d169ZZfE1kZCTyOtgfMmHCBBQXF9tSCnGS4GAgPp77JZqXB7z0ktAVdT6avoQQ69BcWKSVlBTu1lOPg9DxD0KsQwFCWjEdB8nPB+7eFbaWznbtGmDaGKbpSwhpHwUIaWXQIODBB7lpzPfvF7qazrV9O3c7ahQ3hTshxDIKENKKROK5o7FMY0BazAlKCLGAAoS0yXQcZOdObloPT1Bd3bzF9dRTwtZCiBhQgJA2TZwIyOXAxYvADz8IXU3n+PZb7qJaQ4YAvXoJXQ0hro8ChLSpWzdg/HjuvqeMxqLdV4TYhgKEWORJx0Fu3mwevksBQoh1KECIRU88wd3u388dH3BnO3cCej3Qty/w6zRthJAOUIAQi/r0AYYOBRobga++Eroa5zLtvpo6lc4+J8RaFCCkXTNmcLdffCFsHc50507zcR7afUWI9ShASLuefZa73b8fuHpV2FqcRaUCbt8GIiKA4cOFroYQ8aAAIe3q2RMYPZo7F2TbNqGrcY6Wo69o9xUh1qMAIR2aPp27/fxzYetwBoMB+OYb7j7tviLENhQgpEPTpnHXCDl6lDux0J3s2wfcuAGEhnJbWoQQ61GAkA6FhQH/9V/cfXc7mG7afZWayl3SlxBiPQoQYhV3HI1lNAK5udx92n1FiO0oQIhVnnoKkMmA0lKgrEzoahwjPx/QaIDAQCAhQehqCBEfChBilaAg4PHHufvushXy979zt2lp3MSRhBDbUIAQq7UcjSX2Kd6rq5t3X73wgqClECJaFgMkJycHjz76KPz8/BAaGorU1FSUl5ebtbl79y4yMjIQEhKCbt26YerUqaisrDRrc+XKFaSkpMDX1xehoaFYuHAhGhsbzdrs27cPw4YNg0KhQJ8+fbB582bHfUPiME8+Cfj6Aj/+CBQVCV3N/fn0U27uq2HDuOnbCSG2sxgg+/fvR0ZGBg4fPgyVSgWDwYCkpCTcvn2bb7NgwQJ8++232LZtG/bv349r167h6RZHI5uampCSkgK9Xo9Dhw7hn//8JzZv3oylS5fybSoqKpCSkoKEhASUlJQgKysLL7zwAvbs2eOkr0zs1bUr8JvfcPfFfE4IY8D//i93n7Y+CLkPzEpVVVUMANu/fz9jjLG6ujomk8nYtm3b+DZnz55lAJharWaMMZaXl8ekUinTaDR8mw0bNjB/f3+m0+kYY4wtWrSIDRgwwOyznn32WZacnGxtaay+vp4BYNXV1Va/hjCm1+tZbm4u0+v1Vr8mN5cxgLHwcMYMBicW50SHD3PfwceHsRs3bHutPX1GqN/sUV1dzQCw+vp6oUuxyNvaoKmvrwcABAcHAwCKiopgMBiQmJjIt4mJiUHPnj2hVqsxcuRIqNVqxMbGIiwsjG+TnJyMefPmoaysDEOHDoVarTZ7D1ObrKwsi7XodDrodDr+sVarBQAYDAYYDAZrv5LHM/WVLX02cSIQEuKNa9ck2L69Eamp4jsY8re/eQGQYupUI7p2bYItq4w9fUao3+whhr6yKkCMRiOysrIwevRoDBw4EACg0Wggl8sRGBho1jYsLAwajYZv0zI8TM+bnmuvjVarxZ07d9ClS5dW9eTk5GD58uWtlhcUFMDX19ear0RaUKlUNrWfMKEfvvqqL9588wbk8kNOqso57tzxwmefTQYgRf/+h5CXV2PX+9jaZ4RD/Wa9hoYGoUvokFUBkpGRgdOnT+P77793dj1WWbJkCbKzs/nHWq0WERERSEhIQEhIiICViYvBYIBKpcKkSZMgk8msft3AgcD27QylpQ+gZ88p+PVvClHYvFmCu3e90acPw5/+FGfz5In29pmno36zXU2NfX/cdKYOAyQzMxM7duxAYWEhHnroIX65UqmEXq9HXV2d2VZIZWUllEol3+bo0aNm72capdWyzb0jtyorK+Hv79/m1gcAKBQKKBSKVstlMhmtnHawtd969+am/vj6a+Djj2XYuNF5tTmaaYDfCy9IIJfbv67QumYf6jfriaGfLI7CYowhMzMT27dvx969exEVFWX2/PDhwyGTyZCfn88vKy8vx5UrVxAfHw8AiI+PR2lpKaqqqvg2KpUK/v7+6P/rdUPj4+PN3sPUxvQexDX9939zt//6FzcZoRicPQscOsTNeTVrltDVECJ+FgMkIyMDn376KbZs2QI/Pz9oNBpoNBrcuXMHABAQEID09HRkZ2ejoKAARUVFmD17NuLj4zFy5EgAQFJSEvr374+ZM2fi5MmT2LNnD/7yl78gIyOD34J46aWXcPHiRSxatAjnzp3D+vXrsXXrVixYsKATvj6x1/jx3K6shgbgk0+ErsY6pqG7TzwB/LoBTAi5H5aGZwFo8+eTTz7h29y5c4e9/PLLLCgoiPn6+rKnnnqKXb9+3ex9Ll26xB5//HHWpUsX1r17d/bKK68wwz3jPwsKCtiQIUOYXC5nvXr1MvsMa9AwXvvc79DKjz/mhsP26sVYY6ODi3MwnY6x7t25er/91v73oeGo9qF+s52oh/EyK+aq8PHxwbp167Bu3TqLbSIjI5FnuuC0BRMmTEBxcXGHn0dcS1oasHgxd42QXbu4v+xd1aefctOXhIcDkycLXQ0h7oHmwiJ269oVSE/n7n/4obC1tMdgAN5+m7ufnQ14W332EyGkPRQg5L68/DJ3HfHvvgPumSrNZWzZwm0lPfAA8NJLQldDiPugACH3pVev5l1XH30kbC1taWwE3nqLu/+nP3FbTYQQx6AAIffNNKR382agtlbQUlr54gvgwgUgJITbWiKEOA4FCLlviYnAoEHArVvNf+27gqam5npeeQXo1k3YeghxNxQg5L5JJMDq1dz9jz7irhfiCrZu5Y7LBAcDmZlCV0OI+6EAIQ6RlAQkJ3Mjnl59VehquK2PN9/k7i9YAPj5CVsPIe6IAoQ4zOrVgFQK/Pvf3JQhQvrqK27qksDA5mM0hBDHogAhDhMbC/zhD9z9V14R7rrpRiOwYgV3PysLCAgQpg5C3B0FCHGoFSu466YfPgxs2yZMDZ98ApSVAf7+wPz5wtRAiCegACEO1aMHsGgRd//VV4EWF47sFJcvc8c8AOD117ldWIQQ56AAIQ73pz9xQVJRAbQzTZrDGY3c1Co3bwKjRjUHCSHEOShAiMN17do8AurNN4Hr1zvnczduBPLzgS5duJMavbw653MJ8VQUIMQp/t//A4YMAerqgN/9DtDrnft5Fy4ACxdy91euBB55xLmfRwihACFO4uXFncgXEMAN6c3Kct5nNTUBs2dzF7dKSAAyMpz3WYSQZhQgxGkeeQT47DPuTPUNG5qvCOhoa9cC33/PTVXyj39w56IQQpyP/qsRp0pJaT4n4+WXgaNHHfv+J04Af/4zd3/NGuDhhx37/oQQyyhAiNP9+c9Aaip3HOTpp4HKSse874ED3C4rnY67yuCcOY55X0KIdShAiNNJpcA//wnExABXrwLTpnHHK+5HXh43/5ZWC4wbB3z5JberjBDSeVwmQNatW4eHH34YPj4+iIuLw1FH7+sggvL3B3JzudsDB4Bhw4CiIvve6/PPgd/+Frh7l9tFtns3976EkM7lEgHy5ZdfIjs7G2+88QZOnDiBwYMHIzk5GVVVVUKXRhwoOhrYsQMID+emWR85EnjnHW4UlbU2bADS0rgrDT73HLB9O3feByGk87lEgLz77ruYM2cOZs+ejf79+2Pjxo3w9fXFP/7xD6FLIw42dixw6hQwdSoXAkuWABMnAleuWH7NnTvcdc0TE7kD8Yxxt//6FyCTdV7thBBz3kIXoNfrUVRUhCVLlvDLpFIpEhMToVarBayMOEtICDfR4ubN3FTr+/cD/fsDw4cD/fpxP/37c5MybtnC/dTVca+VSLg5rpYto2MehAhN8ACprq5GU1MTwsLCzJaHhYXh3Llzbb5Gp9NB12KWvvr6egBAratdkNvFGQwGNDQ0oKamBjIB/pR/8klg4EBg3jwvFBVJUVgIFBa23TYigmHGDCOmTzeiZ0/hrr0udJ+JFfWb7Uy/z5hQ10WwguABYo+cnBwsX7681fK+ffsKUA3pDD/9BKxaxf0Q4klqamoQ4KIXtRE8QLp37w4vLy9U3nNyQGVlJZRKZZuvWbJkCbKzs/nHdXV1iIyMxJUrV1y2o12RVqtFREQEfvrpJ/jTMCarUJ/Zh/rNdvX19ejZsyeCg4OFLsUiwQNELpdj+PDhyM/PR2pqKgDAaDQiPz8fmZmZbb5GoVBAoVC0Wh4QEEArpx38/f2p32xEfWYf6jfbSV14bh7BAwQAsrOzMWvWLIwYMQKPPfYY3n//fdy+fRuzZ88WujRCCCEWuESAPPvss/jll1+wdOlSaDQaDBkyBLt37251YJ0QQojrcIkAAYDMzEyLu6w6olAo8MYbb7S5W4tYRv1mO+oz+1C/2U4MfSZhrjxGjBBCiMty3aMzhBBCXBoFCCGEELtQgBBCCLELBQghhBC7iCZAbL1eyLZt2xATEwMfHx/ExsYiLy+vkyp1Hbb02ebNmyGRSMx+fHx8OrFa11BYWIjf/OY3CA8Ph0QiQW5uboev2bdvH4YNGwaFQoE+ffpg8+bNTq/TldjaZ/v27Wu1rkkkEmg0ms4p2AXk5OTg0UcfhZ+fH0JDQ5Gamory8vIOX+dqv9dEESC2Xi/k0KFDmDFjBtLT01FcXIzU1FSkpqbi9OnTnVy5cOy5xoq/vz+uX7/O/1y+fLkTK3YNt2/fxuDBg7Fu3Tqr2ldUVCAlJQUJCQkoKSlBVlYWXnjhBezZs8fJlboOW/vMpLy83Gx9Cw0NdVKFrmf//v3IyMjA4cOHoVKpYDAYkJSUhNu3b1t8jUv+XmMi8Nhjj7GMjAz+cVNTEwsPD2c5OTlttn/mmWdYSkqK2bK4uDj24osvOrVOV2Jrn33yyScsICCgk6oTBwBs+/bt7bZZtGgRGzBggNmyZ599liUnJzuxMtdlTZ8VFBQwAOzGjRudUpMYVFVVMQBs//79Ftu44u81l98CMV0vJDExkV/W0fVC1Gq1WXsASE5O9pjri9jTZwBw69YtREZGIiIiAr/97W9RVlbWGeWKmqeva/djyJAh6NGjByZNmoSDBw8KXY6gTJekaG/iRFdc11w+QNq7XoilfaYajcam9u7Gnj6Ljo7GP/7xD/zf//0fPv30UxiNRowaNQo///xzZ5QsWpbWNa1Wizt37ghUlWvr0aMHNm7ciK+++gpfffUVIiIiMGHCBJw4cULo0gRhNBqRlZWF0aNHY+DAgRbbueLvNZeZyoQIKz4+HvHx8fzjUaNGoV+/fvj444/x5ptvClgZcTfR0dGIjo7mH48aNQo//vgj3nvvPfzrX/8SsDJhZGRk4PTp0/j++++FLsVmLr8FYs/1QpRKpU3t3Y09fXYvmUyGoUOH4sKFC84o0W1YWtf8/f3RpUsXgaoSn8cee8wj17XMzEzs2LEDBQUFeOihh9pt64q/11w+QFpeL8TEdL2Qln8xtxQfH2/WHgBUKpXF9u7Gnj67V1NTE0pLS9GjRw9nlekWPH1dc5SSkhKPWtcYY8jMzMT27duxd+9eREVFdfgal1zXBDt8b4MvvviCKRQKtnnzZnbmzBk2d+5cFhgYyDQaDWOMsZkzZ7JXX32Vb3/w4EHm7e3N/ud//oedPXuWvfHGG0wmk7HS0lKhvkKns7XPli9fzvbs2cN+/PFHVlRUxKZPn858fHxYWVmZUF9BEDdv3mTFxcWsuLiYAWDvvvsuKy4uZpcvX2aMMfbqq6+ymTNn8u0vXrzIfH192cKFC9nZs2fZunXrmJeXF9u9e7dQX6HT2dpn7733HsvNzWXnz59npaWlbP78+UwqlbL//Oc/Qn2FTjdv3jwWEBDA9u3bx65fv87/NDQ08G3E8HtNFAHCGGMffvgh69mzJ5PL5eyxxx5jhw8f5p8bP348mzVrlln7rVu3sr59+zK5XM4GDBjAdu7c2ckVC8+WPsvKyuLbhoWFsSlTprATJ04IULWwTENM7/0x9dWsWbPY+PHjW71myJAhTC6Xs169erFPPvmk0+sWkq19tnLlSta7d2/m4+PDgoOD2YQJE9jevXuFKV4gbfUXALN1Rwy/12g6d0IIIXZx+WMghBBCXBMFCCGEELtQgBBCCLELBQghhBC7UIAQQgixCwUIIYQQu1CAEEIIsQsFCCGEELtQgBBCCLELBQghpE07duxAVFQUHnvsMZw/f17ocogLoqlMCCFtio6Oxrp161BWVga1Wo0vvvhC6JKIi/n/midr/cZzpr4AAAAASUVORK5CYII=' width=400.0/>\n",
              "            </div>\n",
              "        "
            ],
            "application/vnd.jupyter.widget-view+json": {
              "version_major": 2,
              "version_minor": 0,
              "model_id": "73ba46f6450b4f64bfa186c3a3c1b828"
            }
          },
          "metadata": {
            "application/vnd.jupyter.widget-view+json": {
              "colab": {
                "custom_widget_manager": {
                  "url": "https://ssl.gstatic.com/colaboratory-static/widgets/colab-cdn-widget-manager/b3e629b1971e1542/manager.min.js"
                }
              }
            }
          }
        }
      ]
    },
    {
      "cell_type": "code",
      "source": [],
      "metadata": {
        "id": "NIrBkJazAXZr"
      },
      "execution_count": 101,
      "outputs": []
    }
  ]
}