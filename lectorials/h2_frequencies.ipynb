{
  "cells": [
    {
      "cell_type": "markdown",
      "metadata": {
        "id": "view-in-github",
        "colab_type": "text"
      },
      "source": [
        "<a href=\"https://colab.research.google.com/github/alisterpage/CHEM3580-Jupyter-Notebooks/blob/main/lectorials/h2_frequencies.ipynb\" target=\"_parent\"><img src=\"https://colab.research.google.com/assets/colab-badge.svg\" alt=\"Open In Colab\"/></a>"
      ]
    },
    {
      "cell_type": "code",
      "execution_count": 7,
      "metadata": {
        "id": "eVJse8fH7_Z-"
      },
      "outputs": [],
      "source": [
        "#@title\n",
        "!pip install ipympl -q 2>&1 >/dev/null\n",
        "!pip install ipysheet -q 2>&1 >/dev/null\n",
        "from google.colab import output\n",
        "output.enable_custom_widget_manager()"
      ]
    },
    {
      "cell_type": "markdown",
      "metadata": {
        "id": "6yYQW4Tx8A87"
      },
      "source": [
        "The equilibrium bond length of the H$_{2}$ molecule is 0.751 $\\mathring A$, and the bond dissociation energy is 436 kJ/mol. The potential energy surface of the H$_{2}$ molecule can be approximated using a <font color='blue'>harmonic potential energy surface</font>,\n",
        "\n",
        "<center>$U_{\\text{stretch}} = k(\\Delta R)^2$</center>\n",
        "\n",
        "where the harmonic force constant for H$_{2}$ is $k = 1.02 × 10^{3}$ N m$^{-1}$.\n",
        "\n",
        "What about quantum mechanics though?? According to quantum mechanics, this bond will vibrate with one of an <b>infinite set of frequencies</b> - in the same way that the motion and energy of any quantum mechanical particle is quantised (recall the 'particle-in-a-box' from CHEM2410!!).\n",
        " <br> <br>\n",
        "It can be shown that for this H$_{2}$ molecule, the energies of these different vibrations can be expressed quite simply,\n",
        "\n",
        "<center>$E_{n} = h \\left( n + \\frac{1}{2} \\right) \\nu$</center>\n",
        "\n",
        "where $n = 0, 1, 2, ...$ is the vibrational quantum number  of the molecule, and $\\nu$ is the fundamental frequency of the vibration (s$^{-1}$),\n",
        "\n",
        "<center>$\\nu = \\frac{1}{2\\pi}\\left( \\sqrt{\\frac{2k}{m}} \\right)$</center>\n",
        " <br> <br>\n",
        "It is possible to measure the energies $E_{n}$ very accurately spectroscopically, and these energies for the first few vibrational states of the H$_{2}$ molecule are provided in the table below.\n",
        "\n",
        "<style>\n",
        "table {\n",
        "    width: 1%;\n",
        "}\n",
        "td {\n",
        "    white-space: nowrap;\n",
        "    overflow: hidden;\n",
        "    text-overflow: ellipsis;\n",
        "}\n",
        "</style>\n",
        "\n",
        "<table>\n",
        "  <thead>\n",
        "    <tr>\n",
        "      <th>$n$</th>\n",
        "      <th>$E_{n}$ (J)</th>\n",
        "      <th>$\\tilde{\\nu}$ (cm$^{-1}$)</th>\n",
        "    </tr>\n",
        "  </thead>\n",
        "  <tbody>\n",
        "    <tr>\n",
        "      <td>0</td>\n",
        "      <td>$5.62 \\times 10^{-20}$</td>\n",
        "      <td>-</td>\n",
        "    </tr>\n",
        "    <tr>\n",
        "      <td>1</td>\n",
        "      <td>$1.69 \\times 10^{-20}$</td>\n",
        "      <td>4,161</td>\n",
        "    </tr>\n",
        "    <tr>\n",
        "      <td>2</td>\n",
        "      <td>$2.81 \\times 10^{-20}$</td>\n",
        "      <td>8,087</td>\n",
        "    </tr>\n",
        "    <tr>\n",
        "      <td>3</td>\n",
        "      <td>$3.94 \\times 10^{-20}$</td>\n",
        "      <td>11,782</td>\n",
        "    </tr>\n",
        "    <tr>\n",
        "      <td>4</td>\n",
        "      <td>$5.07 \\times 10^{-20}$</td>\n",
        "      <td>15,250</td>\n",
        "    </tr>\n",
        "  </tbody>\n",
        "</table>\n"
      ]
    },
    {
      "cell_type": "markdown",
      "metadata": {
        "id": "t8Sb4reESVbA"
      },
      "source": [
        "The widget below calculates the vibrational energies of H$_{2}$, $E_{n}$, assuming a Harmonic potential energy $U_{\\text{stretch}}$. Change the value of the Harmonic force constant $k$ and quantum number $n$ to answer the following questions.\n",
        "\n",
        "1. How do the vibrational energies change with the value of $k$?\n",
        "2. Is it possible to adjust $k$ to reproduce the low-energy experimental frequencies?\n",
        "3. Is it possible to adjust $k$ to reproduce the high-energy experimental frequencies?\n",
        "4. Is it possible to adjust $k$ to reproduce <b>both</b> the low- and high-energy experimental frequencies at the same time?"
      ]
    },
    {
      "cell_type": "code",
      "execution_count": 9,
      "metadata": {
        "colab": {
          "base_uri": "https://localhost:8080/",
          "height": 851,
          "referenced_widgets": [
            "41133cf984144c85acca0e40a155ee46",
            "1ba6de7247254549be1d4657477f85e8",
            "4828b3ce6c82462b8286a6be141c0e88",
            "36b43c8a06754b83b0c4ee05b94bd4e0",
            "d0485ee4fb4d4bd2ad2c424ef29acb98",
            "41aede59013445178e41359d1c86e56a",
            "c2221ff2d47244e7a52dbefda4670236"
          ]
        },
        "id": "tgkf4ax99AGU",
        "outputId": "6e6ab779-2010-45c3-e6fc-38cb71d854ba"
      },
      "outputs": [
        {
          "output_type": "display_data",
          "data": {
            "text/plain": [
              "<Figure size 400x300 with 1 Axes>"
            ],
            "image/png": "[encoded data removed]"
          },
          "metadata": {}
        },
        {
          "output_type": "display_data",
          "data": {
            "text/plain": [
              "interactive(children=(FloatSlider(value=1000.0, description='value', max=2000.0, min=1.0), Output()), _dom_cla…"
            ],
            "application/vnd.jupyter.widget-view+json": {
              "version_major": 2,
              "version_minor": 0,
              "model_id": "41133cf984144c85acca0e40a155ee46"
            }
          },
          "metadata": {
            "application/vnd.jupyter.widget-view+json": {
              "colab": {
                "custom_widget_manager": {
                  "url": "https://ssl.gstatic.com/colaboratory-static/widgets/colab-cdn-widget-manager/2b70e893a8ba7c0f/manager.min.js"
                }
              }
            }
          }
        }
      ],
      "source": [
        "%matplotlib inline\n",
        "import ipywidgets as widgets\n",
        "from IPython.display import display, clear_output\n",
        "import pandas as pd\n",
        "import numpy as np\n",
        "from math import sqrt\n",
        "import matplotlib.pyplot as plt\n",
        "import warnings\n",
        "warnings.filterwarnings('ignore')\n",
        "\n",
        "# Create slider\n",
        "slider = widgets.FloatSlider(min=1.0, max=2e3, value=1e3)\n",
        "\n",
        "# Define globals\n",
        "x = np.linspace(0.1, 5, 150)\n",
        "fig, ax = plt.subplots(figsize=(4, 3))\n",
        "ax.set_ylim([0, 15000])\n",
        "ax.set_xlim([0, 2])\n",
        "ax.set_ylabel(\"Energy (cm$^{-1}$)\")\n",
        "ax.set_xlabel(\"Bond distance R ($\\AA$)\")\n",
        "ax.set_title(None)\n",
        "ax.grid(True)\n",
        "\n",
        "def E_n(n, value):\n",
        "    c = 3.0e8\n",
        "    h = 6.626e-34\n",
        "    mu = 1.08 * 1.08 / (1.08 + 1.08) * 1.66054E-27\n",
        "    nu = 1 / (2 * np.pi) * sqrt(value / mu)\n",
        "    return h * (n + 0.5) * nu\n",
        "\n",
        "def nu_tilde(n, value):\n",
        "    c = 3.0e8\n",
        "    h = 6.626e-34\n",
        "    mu = 1.08 * 1.08 / (1.08 + 1.08) * 1.66054E-27\n",
        "    nu = 1 / (2 * np.pi) * sqrt(2 * value / mu)\n",
        "    my_lambda = h * c / (E_n(n, value) - E_n(0, value)) / 1e-9\n",
        "    return 1e7 / my_lambda\n",
        "\n",
        "def harmonic(value):\n",
        "    xmin = 0.751\n",
        "    return value * (x - xmin) ** 2 / 0.0119627\n",
        "\n",
        "def update(value):\n",
        "    clear_output(wait=True)\n",
        "    fig, ax = plt.subplots(figsize=(4, 3))\n",
        "    ax.set_ylim([0, 15000])\n",
        "    ax.set_xlim([0, 2])\n",
        "    ax.set_ylabel(\"Energy (cm$^{-1}$)\")\n",
        "    ax.set_xlabel(\"Bond distance R ($\\AA$)\")\n",
        "    ax.set_title(None)\n",
        "    ax.grid(True)\n",
        "    ax.plot(x, harmonic(value), color='blue')\n",
        "    plt.show()\n",
        "    plt.close(fig)\n",
        "\n",
        "    # Update table\n",
        "    nvalues = np.array([0.0, 1.0, 2.0, 3.0, 4.0])\n",
        "    exp_values = np.array([4161.0, 8087.0, 11782.0, 15250.0])\n",
        "    data = []\n",
        "    data.append([nvalues[0], E_n(0, value), 0, 0, 0])\n",
        "    for i in range(1, 5):\n",
        "        data.append([nvalues[i], float(E_n(i, value)), nu_tilde(i, value), exp_values[i-1], nu_tilde(i, value) - exp_values[i-1]])\n",
        "\n",
        "    df = pd.DataFrame(data, columns=[\"n\", \"Energy (J)\", \"Harmonic ν̃ (cm-1)\", \"Exp. ν̃ (cm-1)\", \"Difference (cm-1)\"])\n",
        "    df[\"Energy (J)\"] = df[\"Energy (J)\"].apply(lambda x: \"{:.6e}\".format(x))\n",
        "    df[\"n\"] = df[\"n\"].astype(int)\n",
        "    df[\"Exp. ν̃ (cm-1)\"] = df[\"Exp. ν̃ (cm-1)\"].apply(lambda x: str(round(x, 1)))\n",
        "    df[\"Harmonic ν̃ (cm-1)\"] = df[\"Harmonic ν̃ (cm-1)\"].apply(lambda x: str(round(x, 2)))\n",
        "    df[\"Difference (cm-1)\"] = df[\"Difference (cm-1)\"].apply(lambda x: str(round(x, 2)))\n",
        "    display(df)\n",
        "\n",
        "widgets.interact(update, value=slider);"
      ]
    },
    {
      "cell_type": "code",
      "execution_count": null,
      "metadata": {
        "id": "NIrBkJazAXZr"
      },
      "outputs": [],
      "source": []
    }
  ],
  "metadata": {
    "colab": {
      "provenance": [],
      "include_colab_link": true
    },
    "kernelspec": {
      "display_name": "Python 3",
      "name": "python3"
    },
    "language_info": {
      "name": "python"
    },
    "widgets": {
      "application/vnd.jupyter.widget-state+json": {
        "41133cf984144c85acca0e40a155ee46": {
          "model_module": "@jupyter-widgets/controls",
          "model_name": "VBoxModel",
          "model_module_version": "1.5.0",
          "state": {
            "_dom_classes": [
              "widget-interact"
            ],
            "_model_module": "@jupyter-widgets/controls",
            "_model_module_version": "1.5.0",
            "_model_name": "VBoxModel",
            "_view_count": null,
            "_view_module": "@jupyter-widgets/controls",
            "_view_module_version": "1.5.0",
            "_view_name": "VBoxView",
            "box_style": "",
            "children": [
              "IPY_MODEL_1ba6de7247254549be1d4657477f85e8",
              "IPY_MODEL_4828b3ce6c82462b8286a6be141c0e88"
            ],
            "layout": "IPY_MODEL_36b43c8a06754b83b0c4ee05b94bd4e0"
          }
        },
        "1ba6de7247254549be1d4657477f85e8": {
          "model_module": "@jupyter-widgets/controls",
          "model_name": "FloatSliderModel",
          "model_module_version": "1.5.0",
          "state": {
            "_dom_classes": [],
            "_model_module": "@jupyter-widgets/controls",
            "_model_module_version": "1.5.0",
            "_model_name": "FloatSliderModel",
            "_view_count": null,
            "_view_module": "@jupyter-widgets/controls",
            "_view_module_version": "1.5.0",
            "_view_name": "FloatSliderView",
            "continuous_update": true,
            "description": "value",
            "description_tooltip": null,
            "disabled": false,
            "layout": "IPY_MODEL_d0485ee4fb4d4bd2ad2c424ef29acb98",
            "max": 2000,
            "min": 1,
            "orientation": "horizontal",
            "readout": true,
            "readout_format": ".2f",
            "step": 0.1,
            "style": "IPY_MODEL_41aede59013445178e41359d1c86e56a",
            "value": 613.0999999999999
          }
        },
        "4828b3ce6c82462b8286a6be141c0e88": {
          "model_module": "@jupyter-widgets/output",
          "model_name": "OutputModel",
          "model_module_version": "1.0.0",
          "state": {
            "_dom_classes": [],
            "_model_module": "@jupyter-widgets/output",
            "_model_module_version": "1.0.0",
            "_model_name": "OutputModel",
            "_view_count": null,
            "_view_module": "@jupyter-widgets/output",
            "_view_module_version": "1.0.0",
            "_view_name": "OutputView",
            "layout": "IPY_MODEL_c2221ff2d47244e7a52dbefda4670236",
            "msg_id": "",
            "outputs": [
              {
                "output_type": "display_data",
                "data": {
                  "text/plain": "<Figure size 400x300 with 1 Axes>",
                  "image/png": "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\n"
                },
                "metadata": {}
              },
              {
                "output_type": "display_data",
                "data": {
                  "text/plain": "   n    Energy (J) Harmonic ν̃ (cm-1) Exp. ν̃ (cm-1) Difference (cm-1)\n0  0  4.359992e-20                0.0            0.0               0.0\n1  1  1.307998e-19            4386.75         4161.0            225.75\n2  2  2.179996e-19             8773.5         8087.0             686.5\n3  3  3.051994e-19           13160.25        11782.0           1378.25\n4  4  3.923993e-19            17547.0        15250.0            2297.0",
                  "text/html": "\n  <div id=\"df-0d5da402-42f5-43b0-a6db-09b2610abca7\" class=\"colab-df-container\">\n    <div>\n<style scoped>\n    .dataframe tbody tr th:only-of-type {\n        vertical-align: middle;\n    }\n\n    .dataframe tbody tr th {\n        vertical-align: top;\n    }\n\n    .dataframe thead th {\n        text-align: right;\n    }\n</style>\n<table border=\"1\" class=\"dataframe\">\n  <thead>\n    <tr style=\"text-align: right;\">\n      <th></th>\n      <th>n</th>\n      <th>Energy (J)</th>\n      <th>Harmonic ν̃ (cm-1)</th>\n      <th>Exp. ν̃ (cm-1)</th>\n      <th>Difference (cm-1)</th>\n    </tr>\n  </thead>\n  <tbody>\n    <tr>\n      <th>0</th>\n      <td>0</td>\n      <td>4.359992e-20</td>\n      <td>0.0</td>\n      <td>0.0</td>\n      <td>0.0</td>\n    </tr>\n    <tr>\n      <th>1</th>\n      <td>1</td>\n      <td>1.307998e-19</td>\n      <td>4386.75</td>\n      <td>4161.0</td>\n      <td>225.75</td>\n    </tr>\n    <tr>\n      <th>2</th>\n      <td>2</td>\n      <td>2.179996e-19</td>\n      <td>8773.5</td>\n      <td>8087.0</td>\n      <td>686.5</td>\n    </tr>\n    <tr>\n      <th>3</th>\n      <td>3</td>\n      <td>3.051994e-19</td>\n      <td>13160.25</td>\n      <td>11782.0</td>\n      <td>1378.25</td>\n    </tr>\n    <tr>\n      <th>4</th>\n      <td>4</td>\n      <td>3.923993e-19</td>\n      <td>17547.0</td>\n      <td>15250.0</td>\n      <td>2297.0</td>\n    </tr>\n  </tbody>\n</table>\n</div>\n    <div class=\"colab-df-buttons\">\n\n  <div class=\"colab-df-container\">\n    <button class=\"colab-df-convert\" onclick=\"convertToInteractive('df-0d5da402-42f5-43b0-a6db-09b2610abca7')\"\n            title=\"Convert this dataframe to an interactive table.\"\n            style=\"display:none;\">\n\n  <svg xmlns=\"http://www.w3.org/2000/svg\" height=\"24px\" viewBox=\"0 -960 960 960\">\n    <path d=\"M120-120v-720h720v720H120Zm60-500h600v-160H180v160Zm220 220h160v-160H400v160Zm0 220h160v-160H400v160ZM180-400h160v-160H180v160Zm440 0h160v-160H620v160ZM180-180h160v-160H180v160Zm440 0h160v-160H620v160Z\"/>\n  </svg>\n    </button>\n\n  <style>\n    .colab-df-container {\n      display:flex;\n      gap: 12px;\n    }\n\n    .colab-df-convert {\n      background-color: #E8F0FE;\n      border: none;\n      border-radius: 50%;\n      cursor: pointer;\n      display: none;\n      fill: #1967D2;\n      height: 32px;\n      padding: 0 0 0 0;\n      width: 32px;\n    }\n\n    .colab-df-convert:hover {\n      background-color: #E2EBFA;\n      box-shadow: 0px 1px 2px rgba(60, 64, 67, 0.3), 0px 1px 3px 1px rgba(60, 64, 67, 0.15);\n      fill: #174EA6;\n    }\n\n    .colab-df-buttons div {\n      margin-bottom: 4px;\n    }\n\n    [theme=dark] .colab-df-convert {\n      background-color: #3B4455;\n      fill: #D2E3FC;\n    }\n\n    [theme=dark] .colab-df-convert:hover {\n      background-color: #434B5C;\n      box-shadow: 0px 1px 3px 1px rgba(0, 0, 0, 0.15);\n      filter: drop-shadow(0px 1px 2px rgba(0, 0, 0, 0.3));\n      fill: #FFFFFF;\n    }\n  </style>\n\n    <script>\n      const buttonEl =\n        document.querySelector('#df-0d5da402-42f5-43b0-a6db-09b2610abca7 button.colab-df-convert');\n      buttonEl.style.display =\n        google.colab.kernel.accessAllowed ? 'block' : 'none';\n\n      async function convertToInteractive(key) {\n        const element = document.querySelector('#df-0d5da402-42f5-43b0-a6db-09b2610abca7');\n        const dataTable =\n          await google.colab.kernel.invokeFunction('convertToInteractive',\n                                                    [key], {});\n        if (!dataTable) return;\n\n        const docLinkHtml = 'Like what you see? Visit the ' +\n          '<a target=\"_blank\" href=https://colab.research.google.com/notebooks/data_table.ipynb>data table notebook</a>'\n          + ' to learn more about interactive tables.';\n        element.innerHTML = '';\n        dataTable['output_type'] = 'display_data';\n        await google.colab.output.renderOutput(dataTable, element);\n        const docLink = document.createElement('div');\n        docLink.innerHTML = docLinkHtml;\n        element.appendChild(docLink);\n      }\n    </script>\n  </div>\n\n\n    <div id=\"df-31af7a9c-d173-4771-8d26-59970fb02bdb\">\n      <button class=\"colab-df-quickchart\" onclick=\"quickchart('df-31af7a9c-d173-4771-8d26-59970fb02bdb')\"\n                title=\"Suggest charts\"\n                style=\"display:none;\">\n\n<svg xmlns=\"http://www.w3.org/2000/svg\" height=\"24px\"viewBox=\"0 0 24 24\"\n     width=\"24px\">\n    <g>\n        <path d=\"M19 3H5c-1.1 0-2 .9-2 2v14c0 1.1.9 2 2 2h14c1.1 0 2-.9 2-2V5c0-1.1-.9-2-2-2zM9 17H7v-7h2v7zm4 0h-2V7h2v10zm4 0h-2v-4h2v4z\"/>\n    </g>\n</svg>\n      </button>\n\n<style>\n  .colab-df-quickchart {\n      --bg-color: #E8F0FE;\n      --fill-color: #1967D2;\n      --hover-bg-color: #E2EBFA;\n      --hover-fill-color: #174EA6;\n      --disabled-fill-color: #AAA;\n      --disabled-bg-color: #DDD;\n  }\n\n  [theme=dark] .colab-df-quickchart {\n      --bg-color: #3B4455;\n      --fill-color: #D2E3FC;\n      --hover-bg-color: #434B5C;\n      --hover-fill-color: #FFFFFF;\n      --disabled-bg-color: #3B4455;\n      --disabled-fill-color: #666;\n  }\n\n  .colab-df-quickchart {\n    background-color: var(--bg-color);\n    border: none;\n    border-radius: 50%;\n    cursor: pointer;\n    display: none;\n    fill: var(--fill-color);\n    height: 32px;\n    padding: 0;\n    width: 32px;\n  }\n\n  .colab-df-quickchart:hover {\n    background-color: var(--hover-bg-color);\n    box-shadow: 0 1px 2px rgba(60, 64, 67, 0.3), 0 1px 3px 1px rgba(60, 64, 67, 0.15);\n    fill: var(--button-hover-fill-color);\n  }\n\n  .colab-df-quickchart-complete:disabled,\n  .colab-df-quickchart-complete:disabled:hover {\n    background-color: var(--disabled-bg-color);\n    fill: var(--disabled-fill-color);\n    box-shadow: none;\n  }\n\n  .colab-df-spinner {\n    border: 2px solid var(--fill-color);\n    border-color: transparent;\n    border-bottom-color: var(--fill-color);\n    animation:\n      spin 1s steps(1) infinite;\n  }\n\n  @keyframes spin {\n    0% {\n      border-color: transparent;\n      border-bottom-color: var(--fill-color);\n      border-left-color: var(--fill-color);\n    }\n    20% {\n      border-color: transparent;\n      border-left-color: var(--fill-color);\n      border-top-color: var(--fill-color);\n    }\n    30% {\n      border-color: transparent;\n      border-left-color: var(--fill-color);\n      border-top-color: var(--fill-color);\n      border-right-color: var(--fill-color);\n    }\n    40% {\n      border-color: transparent;\n      border-right-color: var(--fill-color);\n      border-top-color: var(--fill-color);\n    }\n    60% {\n      border-color: transparent;\n      border-right-color: var(--fill-color);\n    }\n    80% {\n      border-color: transparent;\n      border-right-color: var(--fill-color);\n      border-bottom-color: var(--fill-color);\n    }\n    90% {\n      border-color: transparent;\n      border-bottom-color: var(--fill-color);\n    }\n  }\n</style>\n\n      <script>\n        async function quickchart(key) {\n          const quickchartButtonEl =\n            document.querySelector('#' + key + ' button');\n          quickchartButtonEl.disabled = true;  // To prevent multiple clicks.\n          quickchartButtonEl.classList.add('colab-df-spinner');\n          try {\n            const charts = await google.colab.kernel.invokeFunction(\n                'suggestCharts', [key], {});\n          } catch (error) {\n            console.error('Error during call to suggestCharts:', error);\n          }\n          quickchartButtonEl.classList.remove('colab-df-spinner');\n          quickchartButtonEl.classList.add('colab-df-quickchart-complete');\n        }\n        (() => {\n          let quickchartButtonEl =\n            document.querySelector('#df-31af7a9c-d173-4771-8d26-59970fb02bdb button');\n          quickchartButtonEl.style.display =\n            google.colab.kernel.accessAllowed ? 'block' : 'none';\n        })();\n      </script>\n    </div>\n\n    </div>\n  </div>\n",
                  "application/vnd.google.colaboratory.intrinsic+json": {
                    "type": "dataframe",
                    "summary": "{\n  \"name\": \"widgets\",\n  \"rows\": 5,\n  \"fields\": [\n    {\n      \"column\": \"n\",\n      \"properties\": {\n        \"dtype\": \"number\",\n        \"std\": 1,\n        \"min\": 0,\n        \"max\": 4,\n        \"num_unique_values\": 5,\n        \"samples\": [\n          1,\n          4,\n          2\n        ],\n        \"semantic_type\": \"\",\n        \"description\": \"\"\n      }\n    },\n    {\n      \"column\": \"Energy (J)\",\n      \"properties\": {\n        \"dtype\": \"string\",\n        \"num_unique_values\": 5,\n        \"samples\": [\n          \"1.307998e-19\",\n          \"3.923993e-19\",\n          \"2.179996e-19\"\n        ],\n        \"semantic_type\": \"\",\n        \"description\": \"\"\n      }\n    },\n    {\n      \"column\": \"Harmonic \\u03bd\\u0303 (cm-1)\",\n      \"properties\": {\n        \"dtype\": \"string\",\n        \"num_unique_values\": 5,\n        \"samples\": [\n          \"4386.75\",\n          \"17547.0\",\n          \"8773.5\"\n        ],\n        \"semantic_type\": \"\",\n        \"description\": \"\"\n      }\n    },\n    {\n      \"column\": \"Exp. \\u03bd\\u0303 (cm-1)\",\n      \"properties\": {\n        \"dtype\": \"string\",\n        \"num_unique_values\": 5,\n        \"samples\": [\n          \"4161.0\",\n          \"15250.0\",\n          \"8087.0\"\n        ],\n        \"semantic_type\": \"\",\n        \"description\": \"\"\n      }\n    },\n    {\n      \"column\": \"Difference (cm-1)\",\n      \"properties\": {\n        \"dtype\": \"string\",\n        \"num_unique_values\": 5,\n        \"samples\": [\n          \"225.75\",\n          \"2297.0\",\n          \"686.5\"\n        ],\n        \"semantic_type\": \"\",\n        \"description\": \"\"\n      }\n    }\n  ]\n}"
                  }
                },
                "metadata": {}
              }
            ]
          }
        },
        "36b43c8a06754b83b0c4ee05b94bd4e0": {
          "model_module": "@jupyter-widgets/base",
          "model_name": "LayoutModel",
          "model_module_version": "1.2.0",
          "state": {
            "_model_module": "@jupyter-widgets/base",
            "_model_module_version": "1.2.0",
            "_model_name": "LayoutModel",
            "_view_count": null,
            "_view_module": "@jupyter-widgets/base",
            "_view_module_version": "1.2.0",
            "_view_name": "LayoutView",
            "align_content": null,
            "align_items": null,
            "align_self": null,
            "border": null,
            "bottom": null,
            "display": null,
            "flex": null,
            "flex_flow": null,
            "grid_area": null,
            "grid_auto_columns": null,
            "grid_auto_flow": null,
            "grid_auto_rows": null,
            "grid_column": null,
            "grid_gap": null,
            "grid_row": null,
            "grid_template_areas": null,
            "grid_template_columns": null,
            "grid_template_rows": null,
            "height": null,
            "justify_content": null,
            "justify_items": null,
            "left": null,
            "margin": null,
            "max_height": null,
            "max_width": null,
            "min_height": null,
            "min_width": null,
            "object_fit": null,
            "object_position": null,
            "order": null,
            "overflow": null,
            "overflow_x": null,
            "overflow_y": null,
            "padding": null,
            "right": null,
            "top": null,
            "visibility": null,
            "width": null
          }
        },
        "d0485ee4fb4d4bd2ad2c424ef29acb98": {
          "model_module": "@jupyter-widgets/base",
          "model_name": "LayoutModel",
          "model_module_version": "1.2.0",
          "state": {
            "_model_module": "@jupyter-widgets/base",
            "_model_module_version": "1.2.0",
            "_model_name": "LayoutModel",
            "_view_count": null,
            "_view_module": "@jupyter-widgets/base",
            "_view_module_version": "1.2.0",
            "_view_name": "LayoutView",
            "align_content": null,
            "align_items": null,
            "align_self": null,
            "border": null,
            "bottom": null,
            "display": null,
            "flex": null,
            "flex_flow": null,
            "grid_area": null,
            "grid_auto_columns": null,
            "grid_auto_flow": null,
            "grid_auto_rows": null,
            "grid_column": null,
            "grid_gap": null,
            "grid_row": null,
            "grid_template_areas": null,
            "grid_template_columns": null,
            "grid_template_rows": null,
            "height": null,
            "justify_content": null,
            "justify_items": null,
            "left": null,
            "margin": null,
            "max_height": null,
            "max_width": null,
            "min_height": null,
            "min_width": null,
            "object_fit": null,
            "object_position": null,
            "order": null,
            "overflow": null,
            "overflow_x": null,
            "overflow_y": null,
            "padding": null,
            "right": null,
            "top": null,
            "visibility": null,
            "width": null
          }
        },
        "41aede59013445178e41359d1c86e56a": {
          "model_module": "@jupyter-widgets/controls",
          "model_name": "SliderStyleModel",
          "model_module_version": "1.5.0",
          "state": {
            "_model_module": "@jupyter-widgets/controls",
            "_model_module_version": "1.5.0",
            "_model_name": "SliderStyleModel",
            "_view_count": null,
            "_view_module": "@jupyter-widgets/base",
            "_view_module_version": "1.2.0",
            "_view_name": "StyleView",
            "description_width": "",
            "handle_color": null
          }
        },
        "c2221ff2d47244e7a52dbefda4670236": {
          "model_module": "@jupyter-widgets/base",
          "model_name": "LayoutModel",
          "model_module_version": "1.2.0",
          "state": {
            "_model_module": "@jupyter-widgets/base",
            "_model_module_version": "1.2.0",
            "_model_name": "LayoutModel",
            "_view_count": null,
            "_view_module": "@jupyter-widgets/base",
            "_view_module_version": "1.2.0",
            "_view_name": "LayoutView",
            "align_content": null,
            "align_items": null,
            "align_self": null,
            "border": null,
            "bottom": null,
            "display": null,
            "flex": null,
            "flex_flow": null,
            "grid_area": null,
            "grid_auto_columns": null,
            "grid_auto_flow": null,
            "grid_auto_rows": null,
            "grid_column": null,
            "grid_gap": null,
            "grid_row": null,
            "grid_template_areas": null,
            "grid_template_columns": null,
            "grid_template_rows": null,
            "height": null,
            "justify_content": null,
            "justify_items": null,
            "left": null,
            "margin": null,
            "max_height": null,
            "max_width": null,
            "min_height": null,
            "min_width": null,
            "object_fit": null,
            "object_position": null,
            "order": null,
            "overflow": null,
            "overflow_x": null,
            "overflow_y": null,
            "padding": null,
            "right": null,
            "top": null,
            "visibility": null,
            "width": null
          }
        }
      }
    }
  },
  "nbformat": 4,
  "nbformat_minor": 0
}