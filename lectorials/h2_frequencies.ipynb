{
  "cells": [
    {
      "cell_type": "markdown",
      "metadata": {
        "id": "view-in-github",
        "colab_type": "text"
      },
      "source": [
        "<a href=\"https://colab.research.google.com/github/alisterpage/CHEM3580-Jupyter-Notebooks/blob/main/lectorials/h2_frequencies.ipynb\" target=\"_parent\"><img src=\"https://colab.research.google.com/assets/colab-badge.svg\" alt=\"Open In Colab\"/></a>"
      ]
    },
    {
      "cell_type": "code",
      "execution_count": 1,
      "metadata": {
        "id": "eVJse8fH7_Z-"
      },
      "outputs": [],
      "source": [
        "#@title\n",
        "!pip install ipympl -q 2>&1 >/dev/null\n",
        "!pip install ipysheet -q 2>&1 >/dev/null\n",
        "from google.colab import output\n",
        "output.enable_custom_widget_manager()"
      ]
    },
    {
      "cell_type": "markdown",
      "metadata": {
        "id": "6yYQW4Tx8A87"
      },
      "source": [
        "The equilibrium bond length of the H$_{2}$ molecule is 0.751 $\\mathring A$, and the bond dissociation energy is 436 kJ/mol. The potential energy surface of the H$_{2}$ molecule can be approximated using a <font color='blue'>harmonic potential energy surface</font>,\n",
        "\n",
        "<center>$U_{\\text{stretch}} = k(\\Delta R)^2$</center>\n",
        "\n",
        "where the harmonic force constant for H$_{2}$ is $k = 1.02 × 10^{3}$ N m$^{-1}$.\n",
        "\n",
        "What about quantum mechanics though?? According to quantum mechanics, this bond will vibrate with one of an <b>infinite set of frequencies</b> - in the same way that the motion and energy of any quantum mechanical particle is quantised (recall the 'particle-in-a-box' from CHEM2410!!).\n",
        " <br> <br>\n",
        "It can be shown that for this H$_{2}$ molecule, the energies of these different vibrations can be expressed quite simply,\n",
        "\n",
        "<center>$E_{n} = h \\left( n + \\frac{1}{2} \\right) \\nu$</center>\n",
        "\n",
        "where $n = 0, 1, 2, ...$ is the vibrational quantum number  of the molecule, and $\\nu$ is the fundamental frequency of the vibration (s$^{-1}$),\n",
        "\n",
        "<center>$\\nu = \\frac{1}{2\\pi}\\left( \\sqrt{\\frac{2k}{m}} \\right)$</center>\n",
        " <br> <br>\n",
        "It is possible to measure the energies $E_{n}$ very accurately spectroscopically, and these energies for the first few vibrational states of the H$_{2}$ molecule are provided in the table below.\n",
        "\n",
        "<style>\n",
        "table {\n",
        "    width: 1%;\n",
        "}\n",
        "td {\n",
        "    white-space: nowrap;\n",
        "    overflow: hidden;\n",
        "    text-overflow: ellipsis;\n",
        "}\n",
        "</style>\n",
        "\n",
        "<table>\n",
        "  <thead>\n",
        "    <tr>\n",
        "      <th>$n$</th>\n",
        "      <th>$E_{n}$ (J)</th>\n",
        "      <th>$\\tilde{\\nu}$ (cm$^{-1}$)</th>\n",
        "    </tr>\n",
        "  </thead>\n",
        "  <tbody>\n",
        "    <tr>\n",
        "      <td>0</td>\n",
        "      <td>$5.62 \\times 10^{-20}$</td>\n",
        "      <td>-</td>\n",
        "    </tr>\n",
        "    <tr>\n",
        "      <td>1</td>\n",
        "      <td>$1.69 \\times 10^{-20}$</td>\n",
        "      <td>4,161</td>\n",
        "    </tr>\n",
        "    <tr>\n",
        "      <td>2</td>\n",
        "      <td>$2.81 \\times 10^{-20}$</td>\n",
        "      <td>8,087</td>\n",
        "    </tr>\n",
        "    <tr>\n",
        "      <td>3</td>\n",
        "      <td>$3.94 \\times 10^{-20}$</td>\n",
        "      <td>11,782</td>\n",
        "    </tr>\n",
        "    <tr>\n",
        "      <td>4</td>\n",
        "      <td>$5.07 \\times 10^{-20}$</td>\n",
        "      <td>15,250</td>\n",
        "    </tr>\n",
        "  </tbody>\n",
        "</table>\n"
      ]
    },
    {
      "cell_type": "markdown",
      "metadata": {
        "id": "t8Sb4reESVbA"
      },
      "source": [
        "The widget below calculates the vibrational energies of H$_{2}$, $E_{n}$, assuming a Harmonic potential energy $U_{\\text{stretch}}$. Change the value of the Harmonic force constant $k$ and quantum number $n$ to answer the following questions.\n",
        "\n",
        "1. How do the vibrational energies change with the value of $k$?\n",
        "2. Is it possible to adjust $k$ to reproduce the low-energy experimental frequencies?\n",
        "3. Is it possible to adjust $k$ to reproduce the high-energy experimental frequencies?\n",
        "4. Is it possible to adjust $k$ to reproduce <b>both</b> the low- and high-energy experimental frequencies at the same time?"
      ]
    },
    {
      "cell_type": "code",
      "execution_count": 3,
      "metadata": {
        "colab": {
          "base_uri": "https://localhost:8080/",
          "height": 828,
          "referenced_widgets": [
            "0842627ee1494f4ab5d2f9099cacf36b",
            "595861da6ea74f878d8452d7af0dc276",
            "e4a46abf588b46aab1435119cf84ab8c",
            "930e60ff2f6d47bd8c81ebae468088dc",
            "de8e565a8de34a3a97308921c699382b",
            "995cc08a534c4e0d86ea5c6f3a8614b6",
            "d1d4d455d43147dfa68350c8e40d2240"
          ]
        },
        "id": "tgkf4ax99AGU",
        "outputId": "a543dfe2-8081-42c1-c75e-e6375570c64f"
      },
      "outputs": [
        {
          "output_type": "display_data",
          "data": {
            "text/plain": [
              "<Figure size 400x300 with 1 Axes>"
            ],
            "image/png": "[encoded data removed]"
          },
          "metadata": {}
        },
        {
          "output_type": "display_data",
          "data": {
            "text/plain": [
              "interactive(children=(FloatSlider(value=1000.0, description='k', max=2000.0, min=1.0), Output()), _dom_classes…"
            ],
            "application/vnd.jupyter.widget-view+json": {
              "version_major": 2,
              "version_minor": 0,
              "model_id": "0842627ee1494f4ab5d2f9099cacf36b"
            }
          },
          "metadata": {
            "application/vnd.jupyter.widget-view+json": {
              "colab": {
                "custom_widget_manager": {
                  "url": "https://ssl.gstatic.com/colaboratory-static/widgets/colab-cdn-widget-manager/2b70e893a8ba7c0f/manager.min.js"
                }
              }
            }
          }
        }
      ],
      "source": [
        "# @title Run this code to generate the widget\n",
        "%matplotlib inline\n",
        "import ipywidgets as widgets\n",
        "from IPython.display import display, clear_output\n",
        "import pandas as pd\n",
        "import numpy as np\n",
        "from math import sqrt\n",
        "import matplotlib.pyplot as plt\n",
        "import warnings\n",
        "warnings.filterwarnings('ignore')\n",
        "\n",
        "# Create slider\n",
        "slider = widgets.FloatSlider(min=1.0, max=2e3, value=1e3,description='k')\n",
        "\n",
        "# Define globals\n",
        "x = np.linspace(0.1, 5, 150)\n",
        "fig, ax = plt.subplots(figsize=(4, 3))\n",
        "ax.set_ylim([0, 15000])\n",
        "ax.set_xlim([0, 2])\n",
        "ax.set_ylabel(\"Energy (cm$^{-1}$)\")\n",
        "ax.set_xlabel(\"Bond distance R ($\\AA$)\")\n",
        "ax.set_title(None)\n",
        "ax.grid(True)\n",
        "\n",
        "def E_n(n, value):\n",
        "    c = 3.0e8\n",
        "    h = 6.626e-34\n",
        "    mu = 1.08 * 1.08 / (1.08 + 1.08) * 1.66054E-27\n",
        "    nu = 1 / (2 * np.pi) * sqrt(value / mu)\n",
        "    return h * (n + 0.5) * nu\n",
        "\n",
        "def nu_tilde(n, value):\n",
        "    c = 3.0e8\n",
        "    h = 6.626e-34\n",
        "    mu = 1.08 * 1.08 / (1.08 + 1.08) * 1.66054E-27\n",
        "    nu = 1 / (2 * np.pi) * sqrt(2 * value / mu)\n",
        "    my_lambda = h * c / (E_n(n, value) - E_n(0, value)) / 1e-9\n",
        "    return 1e7 / my_lambda\n",
        "\n",
        "def harmonic(value):\n",
        "    xmin = 0.751\n",
        "    return value * (x - xmin) ** 2 / 0.0119627\n",
        "\n",
        "def update(value):\n",
        "    clear_output(wait=True)\n",
        "    fig, ax = plt.subplots(figsize=(4, 3))\n",
        "    ax.set_ylim([0, 15000])\n",
        "    ax.set_xlim([0, 2])\n",
        "    ax.set_ylabel(\"Energy (cm$^{-1}$)\")\n",
        "    ax.set_xlabel(\"Bond distance R ($\\AA$)\")\n",
        "    ax.set_title(None)\n",
        "    ax.grid(True)\n",
        "    ax.plot(x, harmonic(value), color='blue')\n",
        "    plt.show()\n",
        "    plt.close(fig)\n",
        "\n",
        "    # Update table\n",
        "    nvalues = np.array([0.0, 1.0, 2.0, 3.0, 4.0])\n",
        "    exp_values = np.array([4161.0, 8087.0, 11782.0, 15250.0])\n",
        "    data = []\n",
        "    data.append([nvalues[0], E_n(0, value), 0, 0, 0])\n",
        "    for i in range(1, 5):\n",
        "        data.append([nvalues[i], float(E_n(i, value)), nu_tilde(i, value), exp_values[i-1], nu_tilde(i, value) - exp_values[i-1]])\n",
        "\n",
        "    df = pd.DataFrame(data, columns=[\"n\", \"Energy (J)\", \"Harmonic ν̃ (cm-1)\", \"Exp. ν̃ (cm-1)\", \"Difference (cm-1)\"])\n",
        "    df[\"Energy (J)\"] = df[\"Energy (J)\"].apply(lambda x: \"{:.6e}\".format(x))\n",
        "    df[\"n\"] = df[\"n\"].astype(int)\n",
        "    df[\"Exp. ν̃ (cm-1)\"] = df[\"Exp. ν̃ (cm-1)\"].apply(lambda x: str(round(x, 1)))\n",
        "    df[\"Harmonic ν̃ (cm-1)\"] = df[\"Harmonic ν̃ (cm-1)\"].apply(lambda x: str(round(x, 2)))\n",
        "    df[\"Difference (cm-1)\"] = df[\"Difference (cm-1)\"].apply(lambda x: str(round(x, 2)))\n",
        "    display(df)\n",
        "\n",
        "widgets.interact(update, value=slider);"
      ]
    },
    {
      "cell_type": "code",
      "execution_count": null,
      "metadata": {
        "id": "NIrBkJazAXZr"
      },
      "outputs": [],
      "source": []
    }
  ],
  "metadata": {
    "colab": {
      "provenance": [],
      "include_colab_link": true
    },
    "kernelspec": {
      "display_name": "Python 3",
      "name": "python3"
    },
    "language_info": {
      "name": "python"
    },
    "widgets": {
      "application/vnd.jupyter.widget-state+json": {
        "0842627ee1494f4ab5d2f9099cacf36b": {
          "model_module": "@jupyter-widgets/controls",
          "model_name": "VBoxModel",
          "model_module_version": "1.5.0",
          "state": {
            "_dom_classes": [
              "widget-interact"
            ],
            "_model_module": "@jupyter-widgets/controls",
            "_model_module_version": "1.5.0",
            "_model_name": "VBoxModel",
            "_view_count": null,
            "_view_module": "@jupyter-widgets/controls",
            "_view_module_version": "1.5.0",
            "_view_name": "VBoxView",
            "box_style": "",
            "children": [
              "IPY_MODEL_595861da6ea74f878d8452d7af0dc276",
              "IPY_MODEL_e4a46abf588b46aab1435119cf84ab8c"
            ],
            "layout": "IPY_MODEL_930e60ff2f6d47bd8c81ebae468088dc"
          }
        },
        "595861da6ea74f878d8452d7af0dc276": {
          "model_module": "@jupyter-widgets/controls",
          "model_name": "FloatSliderModel",
          "model_module_version": "1.5.0",
          "state": {
            "_dom_classes": [],
            "_model_module": "@jupyter-widgets/controls",
            "_model_module_version": "1.5.0",
            "_model_name": "FloatSliderModel",
            "_view_count": null,
            "_view_module": "@jupyter-widgets/controls",
            "_view_module_version": "1.5.0",
            "_view_name": "FloatSliderView",
            "continuous_update": true,
            "description": "k",
            "description_tooltip": null,
            "disabled": false,
            "layout": "IPY_MODEL_de8e565a8de34a3a97308921c699382b",
            "max": 2000,
            "min": 1,
            "orientation": "horizontal",
            "readout": true,
            "readout_format": ".2f",
            "step": 0.1,
            "style": "IPY_MODEL_995cc08a534c4e0d86ea5c6f3a8614b6",
            "value": 1000
          }
        },
        "e4a46abf588b46aab1435119cf84ab8c": {
          "model_module": "@jupyter-widgets/output",
          "model_name": "OutputModel",
          "model_module_version": "1.0.0",
          "state": {
            "_dom_classes": [],
            "_model_module": "@jupyter-widgets/output",
            "_model_module_version": "1.0.0",
            "_model_name": "OutputModel",
            "_view_count": null,
            "_view_module": "@jupyter-widgets/output",
            "_view_module_version": "1.0.0",
            "_view_name": "OutputView",
            "layout": "IPY_MODEL_d1d4d455d43147dfa68350c8e40d2240",
            "msg_id": "",
            "outputs": [
              {
                "output_type": "display_data",
                "data": {
                  "text/plain": "<Figure size 400x300 with 1 Axes>",
                  "image/png": "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\n"
                },
                "metadata": {}
              },
              {
                "output_type": "display_data",
                "data": {
                  "text/plain": "   n    Energy (J) Harmonic ν̃ (cm-1) Exp. ν̃ (cm-1) Difference (cm-1)\n0  0  5.568267e-20                0.0            0.0               0.0\n1  1  1.670480e-19            5602.44         4161.0           1441.44\n2  2  2.784133e-19           11204.88         8087.0           3117.88\n3  3  3.897787e-19           16807.32        11782.0           5025.32\n4  4  5.011440e-19           22409.77        15250.0           7159.77",
                  "text/html": "\n  <div id=\"df-e79f9dc2-4954-40f2-b39e-21bb38b03a24\" class=\"colab-df-container\">\n    <div>\n<style scoped>\n    .dataframe tbody tr th:only-of-type {\n        vertical-align: middle;\n    }\n\n    .dataframe tbody tr th {\n        vertical-align: top;\n    }\n\n    .dataframe thead th {\n        text-align: right;\n    }\n</style>\n<table border=\"1\" class=\"dataframe\">\n  <thead>\n    <tr style=\"text-align: right;\">\n      <th></th>\n      <th>n</th>\n      <th>Energy (J)</th>\n      <th>Harmonic ν̃ (cm-1)</th>\n      <th>Exp. ν̃ (cm-1)</th>\n      <th>Difference (cm-1)</th>\n    </tr>\n  </thead>\n  <tbody>\n    <tr>\n      <th>0</th>\n      <td>0</td>\n      <td>5.568267e-20</td>\n      <td>0.0</td>\n      <td>0.0</td>\n      <td>0.0</td>\n    </tr>\n    <tr>\n      <th>1</th>\n      <td>1</td>\n      <td>1.670480e-19</td>\n      <td>5602.44</td>\n      <td>4161.0</td>\n      <td>1441.44</td>\n    </tr>\n    <tr>\n      <th>2</th>\n      <td>2</td>\n      <td>2.784133e-19</td>\n      <td>11204.88</td>\n      <td>8087.0</td>\n      <td>3117.88</td>\n    </tr>\n    <tr>\n      <th>3</th>\n      <td>3</td>\n      <td>3.897787e-19</td>\n      <td>16807.32</td>\n      <td>11782.0</td>\n      <td>5025.32</td>\n    </tr>\n    <tr>\n      <th>4</th>\n      <td>4</td>\n      <td>5.011440e-19</td>\n      <td>22409.77</td>\n      <td>15250.0</td>\n      <td>7159.77</td>\n    </tr>\n  </tbody>\n</table>\n</div>\n    <div class=\"colab-df-buttons\">\n\n  <div class=\"colab-df-container\">\n    <button class=\"colab-df-convert\" onclick=\"convertToInteractive('df-e79f9dc2-4954-40f2-b39e-21bb38b03a24')\"\n            title=\"Convert this dataframe to an interactive table.\"\n            style=\"display:none;\">\n\n  <svg xmlns=\"http://www.w3.org/2000/svg\" height=\"24px\" viewBox=\"0 -960 960 960\">\n    <path d=\"M120-120v-720h720v720H120Zm60-500h600v-160H180v160Zm220 220h160v-160H400v160Zm0 220h160v-160H400v160ZM180-400h160v-160H180v160Zm440 0h160v-160H620v160ZM180-180h160v-160H180v160Zm440 0h160v-160H620v160Z\"/>\n  </svg>\n    </button>\n\n  <style>\n    .colab-df-container {\n      display:flex;\n      gap: 12px;\n    }\n\n    .colab-df-convert {\n      background-color: #E8F0FE;\n      border: none;\n      border-radius: 50%;\n      cursor: pointer;\n      display: none;\n      fill: #1967D2;\n      height: 32px;\n      padding: 0 0 0 0;\n      width: 32px;\n    }\n\n    .colab-df-convert:hover {\n      background-color: #E2EBFA;\n      box-shadow: 0px 1px 2px rgba(60, 64, 67, 0.3), 0px 1px 3px 1px rgba(60, 64, 67, 0.15);\n      fill: #174EA6;\n    }\n\n    .colab-df-buttons div {\n      margin-bottom: 4px;\n    }\n\n    [theme=dark] .colab-df-convert {\n      background-color: #3B4455;\n      fill: #D2E3FC;\n    }\n\n    [theme=dark] .colab-df-convert:hover {\n      background-color: #434B5C;\n      box-shadow: 0px 1px 3px 1px rgba(0, 0, 0, 0.15);\n      filter: drop-shadow(0px 1px 2px rgba(0, 0, 0, 0.3));\n      fill: #FFFFFF;\n    }\n  </style>\n\n    <script>\n      const buttonEl =\n        document.querySelector('#df-e79f9dc2-4954-40f2-b39e-21bb38b03a24 button.colab-df-convert');\n      buttonEl.style.display =\n        google.colab.kernel.accessAllowed ? 'block' : 'none';\n\n      async function convertToInteractive(key) {\n        const element = document.querySelector('#df-e79f9dc2-4954-40f2-b39e-21bb38b03a24');\n        const dataTable =\n          await google.colab.kernel.invokeFunction('convertToInteractive',\n                                                    [key], {});\n        if (!dataTable) return;\n\n        const docLinkHtml = 'Like what you see? Visit the ' +\n          '<a target=\"_blank\" href=https://colab.research.google.com/notebooks/data_table.ipynb>data table notebook</a>'\n          + ' to learn more about interactive tables.';\n        element.innerHTML = '';\n        dataTable['output_type'] = 'display_data';\n        await google.colab.output.renderOutput(dataTable, element);\n        const docLink = document.createElement('div');\n        docLink.innerHTML = docLinkHtml;\n        element.appendChild(docLink);\n      }\n    </script>\n  </div>\n\n\n    <div id=\"df-7082ef8e-8646-430a-9470-d712b49c3063\">\n      <button class=\"colab-df-quickchart\" onclick=\"quickchart('df-7082ef8e-8646-430a-9470-d712b49c3063')\"\n                title=\"Suggest charts\"\n                style=\"display:none;\">\n\n<svg xmlns=\"http://www.w3.org/2000/svg\" height=\"24px\"viewBox=\"0 0 24 24\"\n     width=\"24px\">\n    <g>\n        <path d=\"M19 3H5c-1.1 0-2 .9-2 2v14c0 1.1.9 2 2 2h14c1.1 0 2-.9 2-2V5c0-1.1-.9-2-2-2zM9 17H7v-7h2v7zm4 0h-2V7h2v10zm4 0h-2v-4h2v4z\"/>\n    </g>\n</svg>\n      </button>\n\n<style>\n  .colab-df-quickchart {\n      --bg-color: #E8F0FE;\n      --fill-color: #1967D2;\n      --hover-bg-color: #E2EBFA;\n      --hover-fill-color: #174EA6;\n      --disabled-fill-color: #AAA;\n      --disabled-bg-color: #DDD;\n  }\n\n  [theme=dark] .colab-df-quickchart {\n      --bg-color: #3B4455;\n      --fill-color: #D2E3FC;\n      --hover-bg-color: #434B5C;\n      --hover-fill-color: #FFFFFF;\n      --disabled-bg-color: #3B4455;\n      --disabled-fill-color: #666;\n  }\n\n  .colab-df-quickchart {\n    background-color: var(--bg-color);\n    border: none;\n    border-radius: 50%;\n    cursor: pointer;\n    display: none;\n    fill: var(--fill-color);\n    height: 32px;\n    padding: 0;\n    width: 32px;\n  }\n\n  .colab-df-quickchart:hover {\n    background-color: var(--hover-bg-color);\n    box-shadow: 0 1px 2px rgba(60, 64, 67, 0.3), 0 1px 3px 1px rgba(60, 64, 67, 0.15);\n    fill: var(--button-hover-fill-color);\n  }\n\n  .colab-df-quickchart-complete:disabled,\n  .colab-df-quickchart-complete:disabled:hover {\n    background-color: var(--disabled-bg-color);\n    fill: var(--disabled-fill-color);\n    box-shadow: none;\n  }\n\n  .colab-df-spinner {\n    border: 2px solid var(--fill-color);\n    border-color: transparent;\n    border-bottom-color: var(--fill-color);\n    animation:\n      spin 1s steps(1) infinite;\n  }\n\n  @keyframes spin {\n    0% {\n      border-color: transparent;\n      border-bottom-color: var(--fill-color);\n      border-left-color: var(--fill-color);\n    }\n    20% {\n      border-color: transparent;\n      border-left-color: var(--fill-color);\n      border-top-color: var(--fill-color);\n    }\n    30% {\n      border-color: transparent;\n      border-left-color: var(--fill-color);\n      border-top-color: var(--fill-color);\n      border-right-color: var(--fill-color);\n    }\n    40% {\n      border-color: transparent;\n      border-right-color: var(--fill-color);\n      border-top-color: var(--fill-color);\n    }\n    60% {\n      border-color: transparent;\n      border-right-color: var(--fill-color);\n    }\n    80% {\n      border-color: transparent;\n      border-right-color: var(--fill-color);\n      border-bottom-color: var(--fill-color);\n    }\n    90% {\n      border-color: transparent;\n      border-bottom-color: var(--fill-color);\n    }\n  }\n</style>\n\n      <script>\n        async function quickchart(key) {\n          const quickchartButtonEl =\n            document.querySelector('#' + key + ' button');\n          quickchartButtonEl.disabled = true;  // To prevent multiple clicks.\n          quickchartButtonEl.classList.add('colab-df-spinner');\n          try {\n            const charts = await google.colab.kernel.invokeFunction(\n                'suggestCharts', [key], {});\n          } catch (error) {\n            console.error('Error during call to suggestCharts:', error);\n          }\n          quickchartButtonEl.classList.remove('colab-df-spinner');\n          quickchartButtonEl.classList.add('colab-df-quickchart-complete');\n        }\n        (() => {\n          let quickchartButtonEl =\n            document.querySelector('#df-7082ef8e-8646-430a-9470-d712b49c3063 button');\n          quickchartButtonEl.style.display =\n            google.colab.kernel.accessAllowed ? 'block' : 'none';\n        })();\n      </script>\n    </div>\n\n    </div>\n  </div>\n",
                  "application/vnd.google.colaboratory.intrinsic+json": {
                    "type": "dataframe",
                    "summary": "{\n  \"name\": \"widgets\",\n  \"rows\": 5,\n  \"fields\": [\n    {\n      \"column\": \"n\",\n      \"properties\": {\n        \"dtype\": \"number\",\n        \"std\": 1,\n        \"min\": 0,\n        \"max\": 4,\n        \"num_unique_values\": 5,\n        \"samples\": [\n          1,\n          4,\n          2\n        ],\n        \"semantic_type\": \"\",\n        \"description\": \"\"\n      }\n    },\n    {\n      \"column\": \"Energy (J)\",\n      \"properties\": {\n        \"dtype\": \"string\",\n        \"num_unique_values\": 5,\n        \"samples\": [\n          \"1.670480e-19\",\n          \"5.011440e-19\",\n          \"2.784133e-19\"\n        ],\n        \"semantic_type\": \"\",\n        \"description\": \"\"\n      }\n    },\n    {\n      \"column\": \"Harmonic \\u03bd\\u0303 (cm-1)\",\n      \"properties\": {\n        \"dtype\": \"string\",\n        \"num_unique_values\": 5,\n        \"samples\": [\n          \"5602.44\",\n          \"22409.77\",\n          \"11204.88\"\n        ],\n        \"semantic_type\": \"\",\n        \"description\": \"\"\n      }\n    },\n    {\n      \"column\": \"Exp. \\u03bd\\u0303 (cm-1)\",\n      \"properties\": {\n        \"dtype\": \"string\",\n        \"num_unique_values\": 5,\n        \"samples\": [\n          \"4161.0\",\n          \"15250.0\",\n          \"8087.0\"\n        ],\n        \"semantic_type\": \"\",\n        \"description\": \"\"\n      }\n    },\n    {\n      \"column\": \"Difference (cm-1)\",\n      \"properties\": {\n        \"dtype\": \"string\",\n        \"num_unique_values\": 5,\n        \"samples\": [\n          \"1441.44\",\n          \"7159.77\",\n          \"3117.88\"\n        ],\n        \"semantic_type\": \"\",\n        \"description\": \"\"\n      }\n    }\n  ]\n}"
                  }
                },
                "metadata": {}
              }
            ]
          }
        },
        "930e60ff2f6d47bd8c81ebae468088dc": {
          "model_module": "@jupyter-widgets/base",
          "model_name": "LayoutModel",
          "model_module_version": "1.2.0",
          "state": {
            "_model_module": "@jupyter-widgets/base",
            "_model_module_version": "1.2.0",
            "_model_name": "LayoutModel",
            "_view_count": null,
            "_view_module": "@jupyter-widgets/base",
            "_view_module_version": "1.2.0",
            "_view_name": "LayoutView",
            "align_content": null,
            "align_items": null,
            "align_self": null,
            "border": null,
            "bottom": null,
            "display": null,
            "flex": null,
            "flex_flow": null,
            "grid_area": null,
            "grid_auto_columns": null,
            "grid_auto_flow": null,
            "grid_auto_rows": null,
            "grid_column": null,
            "grid_gap": null,
            "grid_row": null,
            "grid_template_areas": null,
            "grid_template_columns": null,
            "grid_template_rows": null,
            "height": null,
            "justify_content": null,
            "justify_items": null,
            "left": null,
            "margin": null,
            "max_height": null,
            "max_width": null,
            "min_height": null,
            "min_width": null,
            "object_fit": null,
            "object_position": null,
            "order": null,
            "overflow": null,
            "overflow_x": null,
            "overflow_y": null,
            "padding": null,
            "right": null,
            "top": null,
            "visibility": null,
            "width": null
          }
        },
        "de8e565a8de34a3a97308921c699382b": {
          "model_module": "@jupyter-widgets/base",
          "model_name": "LayoutModel",
          "model_module_version": "1.2.0",
          "state": {
            "_model_module": "@jupyter-widgets/base",
            "_model_module_version": "1.2.0",
            "_model_name": "LayoutModel",
            "_view_count": null,
            "_view_module": "@jupyter-widgets/base",
            "_view_module_version": "1.2.0",
            "_view_name": "LayoutView",
            "align_content": null,
            "align_items": null,
            "align_self": null,
            "border": null,
            "bottom": null,
            "display": null,
            "flex": null,
            "flex_flow": null,
            "grid_area": null,
            "grid_auto_columns": null,
            "grid_auto_flow": null,
            "grid_auto_rows": null,
            "grid_column": null,
            "grid_gap": null,
            "grid_row": null,
            "grid_template_areas": null,
            "grid_template_columns": null,
            "grid_template_rows": null,
            "height": null,
            "justify_content": null,
            "justify_items": null,
            "left": null,
            "margin": null,
            "max_height": null,
            "max_width": null,
            "min_height": null,
            "min_width": null,
            "object_fit": null,
            "object_position": null,
            "order": null,
            "overflow": null,
            "overflow_x": null,
            "overflow_y": null,
            "padding": null,
            "right": null,
            "top": null,
            "visibility": null,
            "width": null
          }
        },
        "995cc08a534c4e0d86ea5c6f3a8614b6": {
          "model_module": "@jupyter-widgets/controls",
          "model_name": "SliderStyleModel",
          "model_module_version": "1.5.0",
          "state": {
            "_model_module": "@jupyter-widgets/controls",
            "_model_module_version": "1.5.0",
            "_model_name": "SliderStyleModel",
            "_view_count": null,
            "_view_module": "@jupyter-widgets/base",
            "_view_module_version": "1.2.0",
            "_view_name": "StyleView",
            "description_width": "",
            "handle_color": null
          }
        },
        "d1d4d455d43147dfa68350c8e40d2240": {
          "model_module": "@jupyter-widgets/base",
          "model_name": "LayoutModel",
          "model_module_version": "1.2.0",
          "state": {
            "_model_module": "@jupyter-widgets/base",
            "_model_module_version": "1.2.0",
            "_model_name": "LayoutModel",
            "_view_count": null,
            "_view_module": "@jupyter-widgets/base",
            "_view_module_version": "1.2.0",
            "_view_name": "LayoutView",
            "align_content": null,
            "align_items": null,
            "align_self": null,
            "border": null,
            "bottom": null,
            "display": null,
            "flex": null,
            "flex_flow": null,
            "grid_area": null,
            "grid_auto_columns": null,
            "grid_auto_flow": null,
            "grid_auto_rows": null,
            "grid_column": null,
            "grid_gap": null,
            "grid_row": null,
            "grid_template_areas": null,
            "grid_template_columns": null,
            "grid_template_rows": null,
            "height": null,
            "justify_content": null,
            "justify_items": null,
            "left": null,
            "margin": null,
            "max_height": null,
            "max_width": null,
            "min_height": null,
            "min_width": null,
            "object_fit": null,
            "object_position": null,
            "order": null,
            "overflow": null,
            "overflow_x": null,
            "overflow_y": null,
            "padding": null,
            "right": null,
            "top": null,
            "visibility": null,
            "width": null
          }
        }
      }
    }
  },
  "nbformat": 4,
  "nbformat_minor": 0
}