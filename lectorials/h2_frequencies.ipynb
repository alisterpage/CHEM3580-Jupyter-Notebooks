{
  "cells": [
    {
      "cell_type": "markdown",
      "metadata": {
        "id": "view-in-github",
        "colab_type": "text"
      },
      "source": [
        "<a href=\"https://colab.research.google.com/github/alisterpage/CHEM3580-Jupyter-Notebooks/blob/main/lectorials/h2_frequencies.ipynb\" target=\"_parent\"><img src=\"https://colab.research.google.com/assets/colab-badge.svg\" alt=\"Open In Colab\"/></a>"
      ]
    },
    {
      "cell_type": "markdown",
      "metadata": {
        "id": "6yYQW4Tx8A87"
      },
      "source": [
        "# How Good is a Harmonic U$_{\\text{stretch}}$?\n",
        "\n",
        "The equilibrium bond length of the H$_{2}$ molecule is 0.751 $\\mathring A$, and the bond dissociation energy is 436 kJ/mol. The potential energy surface of the H$_{2}$ molecule can be approximated using a <font color='blue'>harmonic potential energy surface</font>,\n",
        "\n",
        "<center>$U_{\\text{stretch}} = k(\\Delta R)^2$</center>\n",
        "\n",
        "where the harmonic force constant for H$_{2}$ is $k = 1.02 × 10^{3}$ N m$^{-1}$.\n",
        "\n",
        "What about quantum mechanics though?? According to quantum mechanics, this bond will vibrate with one of an <b>infinite set of frequencies</b> - in the same way that the motion and energy of any quantum mechanical particle is quantised (recall the 'particle-in-a-box' from CHEM2410!!).\n",
        " <br> <br>\n",
        "It can be shown that for this H$_{2}$ molecule, the energies of these different vibrations can be expressed quite simply,\n",
        "\n",
        "<center>$E_{n} = h \\left( n + \\frac{1}{2} \\right) \\nu$</center>\n",
        "\n",
        "where $n = 0, 1, 2, ...$ is the vibrational quantum number  of the molecule, and $\\nu$ is the fundamental frequency of the vibration (s$^{-1}$),\n",
        "\n",
        "<center>$\\nu = \\frac{1}{2\\pi}\\left( \\sqrt{\\frac{2k}{m}} \\right)$</center>\n",
        " <br> <br>\n",
        "It is possible to measure the energies $E_{n}$ very accurately spectroscopically, and these energies for the first few vibrational states of the H$_{2}$ molecule are provided in the table below.\n",
        "\n",
        "<style>\n",
        "table {\n",
        "    width: 1%;\n",
        "}\n",
        "td {\n",
        "    white-space: nowrap;\n",
        "    overflow: hidden;\n",
        "    text-overflow: ellipsis;\n",
        "}\n",
        "</style>\n",
        "\n",
        "<table>\n",
        "  <thead>\n",
        "    <tr>\n",
        "      <th>$n$</th>\n",
        "      <th>$E_{n}$ (J)</th>\n",
        "      <th>$\\tilde{\\nu}$ (cm$^{-1}$)</th>\n",
        "    </tr>\n",
        "  </thead>\n",
        "  <tbody>\n",
        "    <tr>\n",
        "      <td>0</td>\n",
        "      <td>$5.62 \\times 10^{-20}$</td>\n",
        "      <td>-</td>\n",
        "    </tr>\n",
        "    <tr>\n",
        "      <td>1</td>\n",
        "      <td>$1.69 \\times 10^{-20}$</td>\n",
        "      <td>4,161</td>\n",
        "    </tr>\n",
        "    <tr>\n",
        "      <td>2</td>\n",
        "      <td>$2.81 \\times 10^{-20}$</td>\n",
        "      <td>8,087</td>\n",
        "    </tr>\n",
        "    <tr>\n",
        "      <td>3</td>\n",
        "      <td>$3.94 \\times 10^{-20}$</td>\n",
        "      <td>11,782</td>\n",
        "    </tr>\n",
        "    <tr>\n",
        "      <td>4</td>\n",
        "      <td>$5.07 \\times 10^{-20}$</td>\n",
        "      <td>15,250</td>\n",
        "    </tr>\n",
        "  </tbody>\n",
        "</table>\n"
      ]
    },
    {
      "cell_type": "markdown",
      "metadata": {
        "id": "t8Sb4reESVbA"
      },
      "source": [
        "The widget below calculates the vibrational energies of H$_{2}$, $E_{n}$, assuming a Harmonic potential energy $U_{\\text{stretch}}$. Change the value of the Harmonic force constant $k$ and quantum number $n$ to answer the following questions.\n",
        "\n",
        "1. How do the vibrational energies change with the value of $k$?\n",
        "2. Is it possible to adjust $k$ to reproduce the low-energy experimental frequencies?\n",
        "3. Is it possible to adjust $k$ to reproduce the high-energy experimental frequencies?\n",
        "4. Is it possible to adjust $k$ to reproduce <b>both</b> the low- and high-energy experimental frequencies at the same time?"
      ]
    },
    {
      "cell_type": "code",
      "execution_count": null,
      "metadata": {
        "id": "eVJse8fH7_Z-",
        "cellView": "form"
      },
      "outputs": [],
      "source": [
        "#@title Setup Environment\n",
        "!pip install ipympl -q 2>&1 >/dev/null\n",
        "!pip install ipysheet -q 2>&1 >/dev/null\n",
        "from google.colab import output\n",
        "output.enable_custom_widget_manager()"
      ]
    },
    {
      "cell_type": "code",
      "execution_count": null,
      "metadata": {
        "id": "tgkf4ax99AGU",
        "cellView": "form"
      },
      "outputs": [],
      "source": [
        "# @title Run this code to generate the widget\n",
        "%matplotlib inline\n",
        "import ipywidgets as widgets\n",
        "from IPython.display import display, clear_output\n",
        "import pandas as pd\n",
        "import numpy as np\n",
        "from math import sqrt\n",
        "import matplotlib.pyplot as plt\n",
        "import warnings\n",
        "warnings.filterwarnings('ignore')\n",
        "\n",
        "# Create slider\n",
        "slider = widgets.FloatSlider(min=1.0, max=2e3, value=1e3,description='k')\n",
        "\n",
        "# Define globals\n",
        "x = np.linspace(0.1, 5, 150)\n",
        "fig, ax = plt.subplots(figsize=(4, 3))\n",
        "ax.set_ylim([0, 15000])\n",
        "ax.set_xlim([0, 2])\n",
        "ax.set_ylabel(\"Energy (cm$^{-1}$)\")\n",
        "ax.set_xlabel(\"Bond distance R ($\\AA$)\")\n",
        "ax.set_title(None)\n",
        "ax.grid(True)\n",
        "\n",
        "def E_n(n, value):\n",
        "    c = 3.0e8\n",
        "    h = 6.626e-34\n",
        "    mu = 1.08 * 1.08 / (1.08 + 1.08) * 1.66054E-27\n",
        "    nu = 1 / (2 * np.pi) * sqrt(value / mu)\n",
        "    return h * (n + 0.5) * nu\n",
        "\n",
        "def nu_tilde(n, value):\n",
        "    c = 3.0e8\n",
        "    h = 6.626e-34\n",
        "    mu = 1.08 * 1.08 / (1.08 + 1.08) * 1.66054E-27\n",
        "    nu = 1 / (2 * np.pi) * sqrt(2 * value / mu)\n",
        "    my_lambda = h * c / (E_n(n, value) - E_n(0, value)) / 1e-9\n",
        "    return 1e7 / my_lambda\n",
        "\n",
        "def harmonic(value):\n",
        "    xmin = 0.751\n",
        "    return value * (x - xmin) ** 2 / 0.0119627\n",
        "\n",
        "def update(value):\n",
        "    clear_output(wait=True)\n",
        "    fig, ax = plt.subplots(figsize=(4, 3))\n",
        "    ax.set_ylim([0, 15000])\n",
        "    ax.set_xlim([0, 2])\n",
        "    ax.set_ylabel(\"Energy (cm$^{-1}$)\")\n",
        "    ax.set_xlabel(\"Bond distance R ($\\AA$)\")\n",
        "    ax.set_title(None)\n",
        "    ax.grid(True)\n",
        "    ax.plot(x, harmonic(value), color='blue')\n",
        "    plt.show()\n",
        "    plt.close(fig)\n",
        "\n",
        "    # Update table\n",
        "    nvalues = np.array([0.0, 1.0, 2.0, 3.0, 4.0])\n",
        "    exp_values = np.array([4161.0, 8087.0, 11782.0, 15250.0])\n",
        "    data = []\n",
        "    data.append([nvalues[0], E_n(0, value), 0, 0, 0])\n",
        "    for i in range(1, 5):\n",
        "        data.append([nvalues[i], float(E_n(i, value)), nu_tilde(i, value), exp_values[i-1], nu_tilde(i, value) - exp_values[i-1]])\n",
        "\n",
        "    df = pd.DataFrame(data, columns=[\"n\", \"Energy (J)\", \"Harmonic ν̃ (cm-1)\", \"Exp. ν̃ (cm-1)\", \"Difference (cm-1)\"])\n",
        "    df[\"Energy (J)\"] = df[\"Energy (J)\"].apply(lambda x: \"{:.6e}\".format(x))\n",
        "    df[\"n\"] = df[\"n\"].astype(int)\n",
        "    df[\"Exp. ν̃ (cm-1)\"] = df[\"Exp. ν̃ (cm-1)\"].apply(lambda x: str(round(x, 1)))\n",
        "    df[\"Harmonic ν̃ (cm-1)\"] = df[\"Harmonic ν̃ (cm-1)\"].apply(lambda x: str(round(x, 2)))\n",
        "    df[\"Difference (cm-1)\"] = df[\"Difference (cm-1)\"].apply(lambda x: str(round(x, 2)))\n",
        "    display(df)\n",
        "\n",
        "widgets.interact(update, value=slider);"
      ]
    },
    {
      "cell_type": "code",
      "execution_count": null,
      "metadata": {
        "id": "NIrBkJazAXZr"
      },
      "outputs": [],
      "source": []
    }
  ],
  "metadata": {
    "colab": {
      "provenance": [],
      "include_colab_link": true
    },
    "kernelspec": {
      "display_name": "Python 3",
      "name": "python3"
    },
    "language_info": {
      "name": "python"
    }
  },
  "nbformat": 4,
  "nbformat_minor": 0
}