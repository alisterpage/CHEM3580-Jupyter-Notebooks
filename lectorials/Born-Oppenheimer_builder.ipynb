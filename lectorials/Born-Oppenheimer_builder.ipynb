{
  "cells": [
    {
      "cell_type": "markdown",
      "metadata": {
        "id": "view-in-github",
        "colab_type": "text"
      },
      "source": [
        "<a href=\"https://colab.research.google.com/github/alisterpage/CHEM3580-Jupyter-Notebooks/blob/main/Born-Oppenheimer_builder.ipynb\" target=\"_parent\"><img src=\"https://colab.research.google.com/assets/colab-badge.svg\" alt=\"Open In Colab\"/></a>"
      ]
    },
    {
      "cell_type": "markdown",
      "source": [
        "# DIY Potential Energy Surface Builder\n",
        "\n",
        "In this exercise, we will take a closer look at the potential energy surface of the simplest molecule in chemistry - that of the H$_{2}$ molecule. As we will see later, this potential energy surface provides a good 'model' for the bond-stretching potentials for many other bonds, but also challenges for the Harmonic stretchign potentials used in most MD forcefields. \n",
        "\n",
        "1. Using the widget below, calculate the B3LYP/6-31G(d) energy for the H$_{2}$ molecule for H-H bond lengths between 0.3 and 2.0 Angstrom. \n",
        "2. Copy/paste each energy you calculate into MS Excel. \n",
        "3. What is the equilibrium bond length of H$_{2}$ according to B3LYP/6-31G(d)?\n",
        "4. What is the dissociation energy of H$_{2}$ according to B3LYP/6-31G(d) in kJ/mol? (Note - 1 Hartree = 2625.5095 kJ/mol). "
      ],
      "metadata": {
        "id": "rcQ8u3UDwfJX"
      }
    },
    {
      "cell_type": "code",
      "execution_count": 1,
      "metadata": {
        "id": "kp6SqarFumzm",
        "cellView": "form"
      },
      "outputs": [],
      "source": [
        "#@title Setup Environment (only run this once!)\n",
        "!pip install pyscf geometric py3Dmol fortecubeview pythreejs -q 2>&1 >/dev/null\n",
        "import pyscf\n",
        "from pyscf import gto, scf, tools, lo, lib, dft\n",
        "#from pyscf.geomopt.berny_solver import optimize\n",
        "from pyscf.geomopt.geometric_solver import optimize\n",
        "from geometric.molecule import Molecule\n",
        "import py3Dmol\n",
        "import fortecubeview\n",
        "from google.colab import output\n",
        "output.enable_custom_widget_manager()\n",
        "import numpy as np\n",
        "from __future__ import print_function\n",
        "import sys"
      ]
    },
    {
      "cell_type": "code",
      "source": [
        "#@title Specify Bond Length\n",
        "import ipywidgets as widgets\n",
        "\n",
        "bond_textbox = widgets.FloatText(\n",
        "    value=1.0,\n",
        "    description='Bond Length (angstrom):',\n",
        "    disabled=False\n",
        ")\n",
        "\n",
        "display(bond_textbox)\n",
        "\n",
        "# Get the value entered by the user in the widget and store it as a float variable called dihedral\n"
      ],
      "metadata": {
        "id": "as-PIjVUr-54",
        "outputId": "b982a0c5-9ab7-416e-8a69-f92c8768ea23",
        "colab": {
          "base_uri": "https://localhost:8080/",
          "height": 50,
          "referenced_widgets": [
            "c232671d3d5447f8b864b4db91779b0b",
            "22b4865ca95142e198f9fab12c8de528",
            "67d114e80abf42e3af459a1cd22d3e3d"
          ]
        },
        "cellView": "form"
      },
      "execution_count": 2,
      "outputs": [
        {
          "output_type": "display_data",
          "data": {
            "text/plain": [
              "FloatText(value=1.0, description='Bond Length (angstrom):')"
            ],
            "application/vnd.jupyter.widget-view+json": {
              "version_major": 2,
              "version_minor": 0,
              "model_id": "c232671d3d5447f8b864b4db91779b0b"
            }
          },
          "metadata": {
            "application/vnd.jupyter.widget-view+json": {
              "colab": {
                "custom_widget_manager": {
                  "url": "https://ssl.gstatic.com/colaboratory-static/widgets/colab-cdn-widget-manager/b3e629b1971e1542/manager.min.js"
                }
              }
            }
          }
        }
      ]
    },
    {
      "cell_type": "code",
      "source": [
        "#@title Calculate Energy\n",
        "\n",
        "bond = bond_textbox.value\n",
        "mol = gto.Mole()\n",
        "mol.atom = '''\n",
        "    H\n",
        "    H 1 {}\n",
        "'''.format(bond)\n",
        "\n",
        "#define model chemistry & calculation \n",
        "mol.basis = '6-31g(d)'\n",
        "mol.spin=0;\n",
        "mol.build();\n",
        "mf = dft.ROKS(mol)\n",
        "mf.xc = 'b3lyp'\n",
        "mf = mf.newton()\n",
        "mf.kernel();\n"
      ],
      "metadata": {
        "colab": {
          "base_uri": "https://localhost:8080/"
        },
        "id": "oidfKFQ42McO",
        "outputId": "530e9a1e-f354-4a6a-9ee1-edb5532b14dc",
        "collapsed": true,
        "cellView": "form"
      },
      "execution_count": 19,
      "outputs": [
        {
          "output_type": "stream",
          "name": "stdout",
          "text": [
            "converged SCF energy = -1.14162437814635\n"
          ]
        }
      ]
    }
  ],
  "metadata": {
    "colab": {
      "provenance": [],
      "authorship_tag": "ABX9TyN1U2bdY0UR+mR0ZpOMsnc1",
      "include_colab_link": true
    },
    "kernelspec": {
      "display_name": "Python 3",
      "name": "python3"
    },
    "language_info": {
      "name": "python"
    },
    "widgets": {
      "application/vnd.jupyter.widget-state+json": {
        "c232671d3d5447f8b864b4db91779b0b": {
          "model_module": "@jupyter-widgets/controls",
          "model_name": "FloatTextModel",
          "model_module_version": "1.5.0",
          "state": {
            "_dom_classes": [],
            "_model_module": "@jupyter-widgets/controls",
            "_model_module_version": "1.5.0",
            "_model_name": "FloatTextModel",
            "_view_count": null,
            "_view_module": "@jupyter-widgets/controls",
            "_view_module_version": "1.5.0",
            "_view_name": "FloatTextView",
            "continuous_update": false,
            "description": "Bond Length (angstrom):",
            "description_tooltip": null,
            "disabled": false,
            "layout": "IPY_MODEL_22b4865ca95142e198f9fab12c8de528",
            "step": null,
            "style": "IPY_MODEL_67d114e80abf42e3af459a1cd22d3e3d",
            "value": 1
          }
        },
        "22b4865ca95142e198f9fab12c8de528": {
          "model_module": "@jupyter-widgets/base",
          "model_name": "LayoutModel",
          "model_module_version": "1.2.0",
          "state": {
            "_model_module": "@jupyter-widgets/base",
            "_model_module_version": "1.2.0",
            "_model_name": "LayoutModel",
            "_view_count": null,
            "_view_module": "@jupyter-widgets/base",
            "_view_module_version": "1.2.0",
            "_view_name": "LayoutView",
            "align_content": null,
            "align_items": null,
            "align_self": null,
            "border": null,
            "bottom": null,
            "display": null,
            "flex": null,
            "flex_flow": null,
            "grid_area": null,
            "grid_auto_columns": null,
            "grid_auto_flow": null,
            "grid_auto_rows": null,
            "grid_column": null,
            "grid_gap": null,
            "grid_row": null,
            "grid_template_areas": null,
            "grid_template_columns": null,
            "grid_template_rows": null,
            "height": null,
            "justify_content": null,
            "justify_items": null,
            "left": null,
            "margin": null,
            "max_height": null,
            "max_width": null,
            "min_height": null,
            "min_width": null,
            "object_fit": null,
            "object_position": null,
            "order": null,
            "overflow": null,
            "overflow_x": null,
            "overflow_y": null,
            "padding": null,
            "right": null,
            "top": null,
            "visibility": null,
            "width": null
          }
        },
        "67d114e80abf42e3af459a1cd22d3e3d": {
          "model_module": "@jupyter-widgets/controls",
          "model_name": "DescriptionStyleModel",
          "model_module_version": "1.5.0",
          "state": {
            "_model_module": "@jupyter-widgets/controls",
            "_model_module_version": "1.5.0",
            "_model_name": "DescriptionStyleModel",
            "_view_count": null,
            "_view_module": "@jupyter-widgets/base",
            "_view_module_version": "1.2.0",
            "_view_name": "StyleView",
            "description_width": ""
          }
        }
      }
    }
  },
  "nbformat": 4,
  "nbformat_minor": 0
}