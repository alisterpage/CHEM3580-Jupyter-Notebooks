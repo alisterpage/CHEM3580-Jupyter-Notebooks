{
  "cells": [
    {
      "cell_type": "markdown",
      "metadata": {
        "id": "view-in-github",
        "colab_type": "text"
      },
      "source": [
        "<a href=\"https://colab.research.google.com/github/alisterpage/CHEM3580-Jupyter-Notebooks/blob/main/lectorials/harmonic_vs_morse.ipynb\" target=\"_parent\"><img src=\"https://colab.research.google.com/assets/colab-badge.svg\" alt=\"Open In Colab\"/></a>"
      ]
    },
    {
      "cell_type": "markdown",
      "id": "b13fe58f-758d-4385-a0e0-c944e12b8ad3",
      "metadata": {
        "id": "b13fe58f-758d-4385-a0e0-c944e12b8ad3",
        "tags": []
      },
      "source": [
        "# Are There Better Ways to Model $U_{\\text{stretch}}$?\n",
        "\n",
        "The equilibrium bond length of the H$_{2}$ molecule is 0.751 $\\mathring A$, and the bond dissociation energy is 436 kJ/mol. The potential energy surface of the H$_{2}$ molecule can be modelled in different ways, i.e.:\n",
        "\n",
        " 1. Using a <font color='blue'>harmonic potential energy surface: $U_{\\text{stretch}} = k(\\Delta R)^2$.</font> (*The single variable that defines this potential is the harmonic force constant $k$.*)\n",
        "\n",
        " 2. Using a <font color='red'>Morse potential energy surface: $U_{\\text{stretch}} = D(1 - e^{-\\alpha\\Delta R})^2$.</font> (*This potential requires 2 variables, $D$ (the H$_{2}$ bond dissociation enthalpy) and $\\alpha$ (defined by the equation $\\alpha = \\sqrt{\\frac{k}{2D}}$*))\n",
        "\n",
        "\n",
        "<br></br>\n",
        "The widget below plots both of these potentials for the H$_{2}$ model on the same graph. Using the 3 slider bars, vary the values of $k$, $D$ and $\\alpha$ to answer the following questions.\n",
        "\n",
        "1. Describe the physical property/properties that each of the parameters $k$, $D$ and $\\alpha$ describe.\n",
        "\n",
        "2. Why is the Morse potential more physically realistic than the harmonic potential? (*Hint - what is the bond dissociation energy of this molecule according to the harmonic potential?*)\n",
        "\n",
        "3. Molecular dynamics almost always relies on harmonic potentials to describe bond stretching, rather than more accurate potentials such as the Morse potential. Can you explain why? (Consider how different the two potentials are at energies typical of molecular vibration, e.g. ~ 40 kJ/mol. *You may want to rescale the y-axis of the graph. Do this by changing* ```# ax.set_ylim()``` *and re-running the cell below.*)\n"
      ]
    },
    {
      "cell_type": "code",
      "execution_count": null,
      "id": "KO-DovvqfoB7",
      "metadata": {
        "id": "KO-DovvqfoB7",
        "cellView": "form"
      },
      "outputs": [],
      "source": [
        "#@title Setup Environment\n",
        "!pip install ipympl -q 2>&1 >/dev/null"
      ]
    },
    {
      "cell_type": "code",
      "execution_count": null,
      "id": "269463ec-4258-4c3a-baca-7408ef272355",
      "metadata": {
        "id": "269463ec-4258-4c3a-baca-7408ef272355",
        "tags": [],
        "cellView": "form"
      },
      "outputs": [],
      "source": [
        "#@title Generate the Widget\n",
        "%matplotlib inline\n",
        "import ipywidgets as widgets\n",
        "import matplotlib.pyplot as plt\n",
        "import numpy as np\n",
        "from IPython.display import clear_output\n",
        "\n",
        "# generate x values\n",
        "x = np.linspace(0.251, 5, 100)\n",
        "xmin = 0.751\n",
        "\n",
        "def harmonic(k, x, xmin):\n",
        "    \"\"\"\n",
        "    Return a harmonic potential for x with force constant k\n",
        "    \"\"\"\n",
        "    return k * (x - xmin) ** 2\n",
        "\n",
        "def morse(D, alpha, x, xmin):\n",
        "    \"\"\"\n",
        "    Return a Morse potential for x with constants D, alpha\n",
        "    \"\"\"\n",
        "    return D * (1 - np.exp(-alpha * (x - xmin))) ** 2\n",
        "\n",
        "@widgets.interact(k=(0, 500, 1), D=(0, 100, 1), alpha=(0, 3, 0.1))\n",
        "def update(k=0, D=0, alpha=0):\n",
        "    clear_output(wait=True)\n",
        "    fig, ax = plt.subplots(figsize=(6, 4));\n",
        "    ax.set_ylim([0, 40])\n",
        "    ax.set_xlim([0, 6])\n",
        "    ax.set_ylabel(\"Energy (kJ/mol)\")\n",
        "    ax.set_xlabel(\"Bond distance R ($\\AA$)\")\n",
        "    ax.grid(True)\n",
        "    ax.plot(x, harmonic(k, x, xmin), color='blue', label='Harmonic')\n",
        "    ax.plot(x, morse(D, alpha, x, xmin), color='red', label='Morse')\n",
        "    ax.legend()\n",
        "    plt.show()\n",
        "    plt.close(fig)"
      ]
    },
    {
      "cell_type": "code",
      "execution_count": null,
      "id": "bee15f08-c1f7-4bc5-8206-cc0030190f48",
      "metadata": {
        "id": "bee15f08-c1f7-4bc5-8206-cc0030190f48"
      },
      "outputs": [],
      "source": []
    }
  ],
  "metadata": {
    "colab": {
      "provenance": [],
      "include_colab_link": true
    },
    "kernelspec": {
      "display_name": "base",
      "language": "python",
      "name": "base"
    },
    "language_info": {
      "codemirror_mode": {
        "name": "ipython",
        "version": 3
      },
      "file_extension": ".py",
      "mimetype": "text/x-python",
      "name": "python",
      "nbconvert_exporter": "python",
      "pygments_lexer": "ipython3",
      "version": "3.10.9"
    }
  },
  "nbformat": 4,
  "nbformat_minor": 5
}