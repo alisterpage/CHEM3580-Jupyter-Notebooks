{
  "cells": [
    {
      "cell_type": "markdown",
      "metadata": {
        "id": "view-in-github",
        "colab_type": "text"
      },
      "source": [
        "<a href=\"https://colab.research.google.com/github/alisterpage/CHEM3580-Jupyter-Notebooks/blob/main/lectorials/harmonic_vs_morse.ipynb\" target=\"_parent\"><img src=\"https://colab.research.google.com/assets/colab-badge.svg\" alt=\"Open In Colab\"/></a>"
      ]
    },
    {
      "cell_type": "code",
      "execution_count": 1,
      "id": "KO-DovvqfoB7",
      "metadata": {
        "id": "KO-DovvqfoB7"
      },
      "outputs": [],
      "source": [
        "!pip install ipympl -q 2>&1 >/dev/null"
      ]
    },
    {
      "cell_type": "markdown",
      "id": "b13fe58f-758d-4385-a0e0-c944e12b8ad3",
      "metadata": {
        "id": "b13fe58f-758d-4385-a0e0-c944e12b8ad3",
        "tags": []
      },
      "source": [
        "\n",
        "The equilibrium bond length of the H$_{2}$ molecule is 0.751 $\\mathring A$, and the bond dissociation energy is 436 kJ/mol. The potential energy surface of the H$_{2}$ molecule can be modelled in different ways, i.e.:\n",
        "\n",
        " 1. Using a <font color='blue'>harmonic potential energy surface: $U_{\\text{stretch}} = k(\\Delta R)^2$.</font> (*The single variable that defines this potential is the harmonic force constant $k$.*)\n",
        "\n",
        " 2. Using a <font color='red'>Morse potential energy surface: $U_{\\text{stretch}} = D(1 - e^{-\\alpha\\Delta R})^2$.</font> (*This potential requires 2 variables, $D$ (the H$_{2}$ bond dissociation enthalpy) and $\\alpha$ (defined by the equation $\\alpha = \\sqrt{\\frac{k}{2D}}$*))\n",
        "\n",
        "The widget below plots both of these potentials for the H$_{2}$ model on the same graph. Using the 3 slider bars, vary the values of $k$, $D$ and $\\alpha$ to answer the following questions.\n",
        "\n",
        "1. Describe the physical property/properties that each of the parameters $k$, $D$ and $\\alpha$ describe.\n",
        "\n",
        "2. Why is the Morse potential more physically realistic than the harmonic potential? (*Hint - what is the bond dissociation energy of this molecule according to the harmonic potential?*)\n",
        "\n",
        "3. Molecular dynamics almost always relies on harmonic potentials to describe bond stretching, rather than more accurate potentials such as the Morse potential. Can you explain why? (Consider how different the two potentials are at energies typical of molecular vibration, e.g. ~ 40 kJ/mol. *You may want to rescale the y-axis of the graph. Do this by changing* ```# ax.set_ylim()``` *and re-running the cell below.*)\n"
      ]
    },
    {
      "cell_type": "code",
      "execution_count": 3,
      "id": "269463ec-4258-4c3a-baca-7408ef272355",
      "metadata": {
        "colab": {
          "base_uri": "https://localhost:8080/",
          "height": 513,
          "referenced_widgets": [
            "3ff8a763daa9476085d94e5769732323",
            "99f048421ea748c5a479289441b516d6",
            "893e59ada3cd464890f8a579cbbd2acc",
            "5f54a38fe3624d988777d915c3a10be4",
            "68292d8328b4434598343d8897982fef",
            "5c1c7d41c11647bcb477cdde3fa2aac5",
            "73c84d1ff441445f9afe8f761676b366",
            "1f2067dd08594db3b18e418498918233",
            "e4603ca376e8452f9c0d26d2e9eb1ac3",
            "526428f5deed44fd9abf2873fa41e362",
            "34335cac904c4a0d8ddab96e8f6593b9",
            "a02c1a309d654c7da08b052539fb320b",
            "490d64a53b7e488394c68c811ae57be3"
          ]
        },
        "id": "269463ec-4258-4c3a-baca-7408ef272355",
        "outputId": "2988cc5c-3350-4be9-aef4-22133c74d1b5",
        "tags": []
      },
      "outputs": [
        {
          "output_type": "display_data",
          "data": {
            "text/plain": [
              "interactive(children=(IntSlider(value=0, description='k', max=500), IntSlider(value=0, description='D'), Float…"
            ],
            "application/vnd.jupyter.widget-view+json": {
              "version_major": 2,
              "version_minor": 0,
              "model_id": "3ff8a763daa9476085d94e5769732323"
            }
          },
          "metadata": {}
        }
      ],
      "source": [
        "%matplotlib inline\n",
        "import ipywidgets as widgets\n",
        "import matplotlib.pyplot as plt\n",
        "import numpy as np\n",
        "from IPython.display import clear_output\n",
        "\n",
        "# generate x values\n",
        "x = np.linspace(0.251, 5, 100)\n",
        "xmin = 0.751\n",
        "\n",
        "def harmonic(k, x, xmin):\n",
        "    \"\"\"\n",
        "    Return a harmonic potential for x with force constant k\n",
        "    \"\"\"\n",
        "    return k * (x - xmin) ** 2\n",
        "\n",
        "def morse(D, alpha, x, xmin):\n",
        "    \"\"\"\n",
        "    Return a Morse potential for x with constants D, alpha\n",
        "    \"\"\"\n",
        "    return D * (1 - np.exp(-alpha * (x - xmin))) ** 2\n",
        "\n",
        "@widgets.interact(k=(0, 500, 1), D=(0, 100, 1), alpha=(0, 3, 0.1))\n",
        "def update(k=0, D=0, alpha=0):\n",
        "    clear_output(wait=True)\n",
        "    fig, ax = plt.subplots(figsize=(6, 4));\n",
        "    ax.set_ylim([0, 40])\n",
        "    ax.set_xlim([0, 6])\n",
        "    ax.set_ylabel(\"Energy (kJ/mol)\")\n",
        "    ax.set_xlabel(\"Bond distance R ($\\AA$)\")\n",
        "    ax.grid(True)\n",
        "    ax.plot(x, harmonic(k, x, xmin), color='blue', label='Harmonic')\n",
        "    ax.plot(x, morse(D, alpha, x, xmin), color='red', label='Morse')\n",
        "    ax.legend()\n",
        "    plt.show()\n",
        "    plt.close(fig)"
      ]
    },
    {
      "cell_type": "code",
      "execution_count": null,
      "id": "bee15f08-c1f7-4bc5-8206-cc0030190f48",
      "metadata": {
        "id": "bee15f08-c1f7-4bc5-8206-cc0030190f48"
      },
      "outputs": [],
      "source": []
    }
  ],
  "metadata": {
    "colab": {
      "provenance": [],
      "include_colab_link": true
    },
    "kernelspec": {
      "display_name": "base",
      "language": "python",
      "name": "base"
    },
    "language_info": {
      "codemirror_mode": {
        "name": "ipython",
        "version": 3
      },
      "file_extension": ".py",
      "mimetype": "text/x-python",
      "name": "python",
      "nbconvert_exporter": "python",
      "pygments_lexer": "ipython3",
      "version": "3.10.9"
    },
    "widgets": {
      "application/vnd.jupyter.widget-state+json": {
        "3ff8a763daa9476085d94e5769732323": {
          "model_module": "@jupyter-widgets/controls",
          "model_name": "VBoxModel",
          "model_module_version": "1.5.0",
          "state": {
            "_dom_classes": [
              "widget-interact"
            ],
            "_model_module": "@jupyter-widgets/controls",
            "_model_module_version": "1.5.0",
            "_model_name": "VBoxModel",
            "_view_count": null,
            "_view_module": "@jupyter-widgets/controls",
            "_view_module_version": "1.5.0",
            "_view_name": "VBoxView",
            "box_style": "",
            "children": [
              "IPY_MODEL_99f048421ea748c5a479289441b516d6",
              "IPY_MODEL_893e59ada3cd464890f8a579cbbd2acc",
              "IPY_MODEL_5f54a38fe3624d988777d915c3a10be4",
              "IPY_MODEL_68292d8328b4434598343d8897982fef"
            ],
            "layout": "IPY_MODEL_5c1c7d41c11647bcb477cdde3fa2aac5"
          }
        },
        "99f048421ea748c5a479289441b516d6": {
          "model_module": "@jupyter-widgets/controls",
          "model_name": "IntSliderModel",
          "model_module_version": "1.5.0",
          "state": {
            "_dom_classes": [],
            "_model_module": "@jupyter-widgets/controls",
            "_model_module_version": "1.5.0",
            "_model_name": "IntSliderModel",
            "_view_count": null,
            "_view_module": "@jupyter-widgets/controls",
            "_view_module_version": "1.5.0",
            "_view_name": "IntSliderView",
            "continuous_update": true,
            "description": "k",
            "description_tooltip": null,
            "disabled": false,
            "layout": "IPY_MODEL_73c84d1ff441445f9afe8f761676b366",
            "max": 500,
            "min": 0,
            "orientation": "horizontal",
            "readout": true,
            "readout_format": "d",
            "step": 1,
            "style": "IPY_MODEL_1f2067dd08594db3b18e418498918233",
            "value": 18
          }
        },
        "893e59ada3cd464890f8a579cbbd2acc": {
          "model_module": "@jupyter-widgets/controls",
          "model_name": "IntSliderModel",
          "model_module_version": "1.5.0",
          "state": {
            "_dom_classes": [],
            "_model_module": "@jupyter-widgets/controls",
            "_model_module_version": "1.5.0",
            "_model_name": "IntSliderModel",
            "_view_count": null,
            "_view_module": "@jupyter-widgets/controls",
            "_view_module_version": "1.5.0",
            "_view_name": "IntSliderView",
            "continuous_update": true,
            "description": "D",
            "description_tooltip": null,
            "disabled": false,
            "layout": "IPY_MODEL_e4603ca376e8452f9c0d26d2e9eb1ac3",
            "max": 100,
            "min": 0,
            "orientation": "horizontal",
            "readout": true,
            "readout_format": "d",
            "step": 1,
            "style": "IPY_MODEL_526428f5deed44fd9abf2873fa41e362",
            "value": 38
          }
        },
        "5f54a38fe3624d988777d915c3a10be4": {
          "model_module": "@jupyter-widgets/controls",
          "model_name": "FloatSliderModel",
          "model_module_version": "1.5.0",
          "state": {
            "_dom_classes": [],
            "_model_module": "@jupyter-widgets/controls",
            "_model_module_version": "1.5.0",
            "_model_name": "FloatSliderModel",
            "_view_count": null,
            "_view_module": "@jupyter-widgets/controls",
            "_view_module_version": "1.5.0",
            "_view_name": "FloatSliderView",
            "continuous_update": true,
            "description": "alpha",
            "description_tooltip": null,
            "disabled": false,
            "layout": "IPY_MODEL_34335cac904c4a0d8ddab96e8f6593b9",
            "max": 3,
            "min": 0,
            "orientation": "horizontal",
            "readout": true,
            "readout_format": ".2f",
            "step": 0.1,
            "style": "IPY_MODEL_a02c1a309d654c7da08b052539fb320b",
            "value": 0.9
          }
        },
        "68292d8328b4434598343d8897982fef": {
          "model_module": "@jupyter-widgets/output",
          "model_name": "OutputModel",
          "model_module_version": "1.0.0",
          "state": {
            "_dom_classes": [],
            "_model_module": "@jupyter-widgets/output",
            "_model_module_version": "1.0.0",
            "_model_name": "OutputModel",
            "_view_count": null,
            "_view_module": "@jupyter-widgets/output",
            "_view_module_version": "1.0.0",
            "_view_name": "OutputView",
            "layout": "IPY_MODEL_490d64a53b7e488394c68c811ae57be3",
            "msg_id": "",
            "outputs": [
              {
                "output_type": "display_data",
                "data": {
                  "text/plain": "<Figure size 600x400 with 1 Axes>",
                  "image/png": "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\n"
                },
                "metadata": {}
              }
            ]
          }
        },
        "5c1c7d41c11647bcb477cdde3fa2aac5": {
          "model_module": "@jupyter-widgets/base",
          "model_name": "LayoutModel",
          "model_module_version": "1.2.0",
          "state": {
            "_model_module": "@jupyter-widgets/base",
            "_model_module_version": "1.2.0",
            "_model_name": "LayoutModel",
            "_view_count": null,
            "_view_module": "@jupyter-widgets/base",
            "_view_module_version": "1.2.0",
            "_view_name": "LayoutView",
            "align_content": null,
            "align_items": null,
            "align_self": null,
            "border": null,
            "bottom": null,
            "display": null,
            "flex": null,
            "flex_flow": null,
            "grid_area": null,
            "grid_auto_columns": null,
            "grid_auto_flow": null,
            "grid_auto_rows": null,
            "grid_column": null,
            "grid_gap": null,
            "grid_row": null,
            "grid_template_areas": null,
            "grid_template_columns": null,
            "grid_template_rows": null,
            "height": null,
            "justify_content": null,
            "justify_items": null,
            "left": null,
            "margin": null,
            "max_height": null,
            "max_width": null,
            "min_height": null,
            "min_width": null,
            "object_fit": null,
            "object_position": null,
            "order": null,
            "overflow": null,
            "overflow_x": null,
            "overflow_y": null,
            "padding": null,
            "right": null,
            "top": null,
            "visibility": null,
            "width": null
          }
        },
        "73c84d1ff441445f9afe8f761676b366": {
          "model_module": "@jupyter-widgets/base",
          "model_name": "LayoutModel",
          "model_module_version": "1.2.0",
          "state": {
            "_model_module": "@jupyter-widgets/base",
            "_model_module_version": "1.2.0",
            "_model_name": "LayoutModel",
            "_view_count": null,
            "_view_module": "@jupyter-widgets/base",
            "_view_module_version": "1.2.0",
            "_view_name": "LayoutView",
            "align_content": null,
            "align_items": null,
            "align_self": null,
            "border": null,
            "bottom": null,
            "display": null,
            "flex": null,
            "flex_flow": null,
            "grid_area": null,
            "grid_auto_columns": null,
            "grid_auto_flow": null,
            "grid_auto_rows": null,
            "grid_column": null,
            "grid_gap": null,
            "grid_row": null,
            "grid_template_areas": null,
            "grid_template_columns": null,
            "grid_template_rows": null,
            "height": null,
            "justify_content": null,
            "justify_items": null,
            "left": null,
            "margin": null,
            "max_height": null,
            "max_width": null,
            "min_height": null,
            "min_width": null,
            "object_fit": null,
            "object_position": null,
            "order": null,
            "overflow": null,
            "overflow_x": null,
            "overflow_y": null,
            "padding": null,
            "right": null,
            "top": null,
            "visibility": null,
            "width": null
          }
        },
        "1f2067dd08594db3b18e418498918233": {
          "model_module": "@jupyter-widgets/controls",
          "model_name": "SliderStyleModel",
          "model_module_version": "1.5.0",
          "state": {
            "_model_module": "@jupyter-widgets/controls",
            "_model_module_version": "1.5.0",
            "_model_name": "SliderStyleModel",
            "_view_count": null,
            "_view_module": "@jupyter-widgets/base",
            "_view_module_version": "1.2.0",
            "_view_name": "StyleView",
            "description_width": "",
            "handle_color": null
          }
        },
        "e4603ca376e8452f9c0d26d2e9eb1ac3": {
          "model_module": "@jupyter-widgets/base",
          "model_name": "LayoutModel",
          "model_module_version": "1.2.0",
          "state": {
            "_model_module": "@jupyter-widgets/base",
            "_model_module_version": "1.2.0",
            "_model_name": "LayoutModel",
            "_view_count": null,
            "_view_module": "@jupyter-widgets/base",
            "_view_module_version": "1.2.0",
            "_view_name": "LayoutView",
            "align_content": null,
            "align_items": null,
            "align_self": null,
            "border": null,
            "bottom": null,
            "display": null,
            "flex": null,
            "flex_flow": null,
            "grid_area": null,
            "grid_auto_columns": null,
            "grid_auto_flow": null,
            "grid_auto_rows": null,
            "grid_column": null,
            "grid_gap": null,
            "grid_row": null,
            "grid_template_areas": null,
            "grid_template_columns": null,
            "grid_template_rows": null,
            "height": null,
            "justify_content": null,
            "justify_items": null,
            "left": null,
            "margin": null,
            "max_height": null,
            "max_width": null,
            "min_height": null,
            "min_width": null,
            "object_fit": null,
            "object_position": null,
            "order": null,
            "overflow": null,
            "overflow_x": null,
            "overflow_y": null,
            "padding": null,
            "right": null,
            "top": null,
            "visibility": null,
            "width": null
          }
        },
        "526428f5deed44fd9abf2873fa41e362": {
          "model_module": "@jupyter-widgets/controls",
          "model_name": "SliderStyleModel",
          "model_module_version": "1.5.0",
          "state": {
            "_model_module": "@jupyter-widgets/controls",
            "_model_module_version": "1.5.0",
            "_model_name": "SliderStyleModel",
            "_view_count": null,
            "_view_module": "@jupyter-widgets/base",
            "_view_module_version": "1.2.0",
            "_view_name": "StyleView",
            "description_width": "",
            "handle_color": null
          }
        },
        "34335cac904c4a0d8ddab96e8f6593b9": {
          "model_module": "@jupyter-widgets/base",
          "model_name": "LayoutModel",
          "model_module_version": "1.2.0",
          "state": {
            "_model_module": "@jupyter-widgets/base",
            "_model_module_version": "1.2.0",
            "_model_name": "LayoutModel",
            "_view_count": null,
            "_view_module": "@jupyter-widgets/base",
            "_view_module_version": "1.2.0",
            "_view_name": "LayoutView",
            "align_content": null,
            "align_items": null,
            "align_self": null,
            "border": null,
            "bottom": null,
            "display": null,
            "flex": null,
            "flex_flow": null,
            "grid_area": null,
            "grid_auto_columns": null,
            "grid_auto_flow": null,
            "grid_auto_rows": null,
            "grid_column": null,
            "grid_gap": null,
            "grid_row": null,
            "grid_template_areas": null,
            "grid_template_columns": null,
            "grid_template_rows": null,
            "height": null,
            "justify_content": null,
            "justify_items": null,
            "left": null,
            "margin": null,
            "max_height": null,
            "max_width": null,
            "min_height": null,
            "min_width": null,
            "object_fit": null,
            "object_position": null,
            "order": null,
            "overflow": null,
            "overflow_x": null,
            "overflow_y": null,
            "padding": null,
            "right": null,
            "top": null,
            "visibility": null,
            "width": null
          }
        },
        "a02c1a309d654c7da08b052539fb320b": {
          "model_module": "@jupyter-widgets/controls",
          "model_name": "SliderStyleModel",
          "model_module_version": "1.5.0",
          "state": {
            "_model_module": "@jupyter-widgets/controls",
            "_model_module_version": "1.5.0",
            "_model_name": "SliderStyleModel",
            "_view_count": null,
            "_view_module": "@jupyter-widgets/base",
            "_view_module_version": "1.2.0",
            "_view_name": "StyleView",
            "description_width": "",
            "handle_color": null
          }
        },
        "490d64a53b7e488394c68c811ae57be3": {
          "model_module": "@jupyter-widgets/base",
          "model_name": "LayoutModel",
          "model_module_version": "1.2.0",
          "state": {
            "_model_module": "@jupyter-widgets/base",
            "_model_module_version": "1.2.0",
            "_model_name": "LayoutModel",
            "_view_count": null,
            "_view_module": "@jupyter-widgets/base",
            "_view_module_version": "1.2.0",
            "_view_name": "LayoutView",
            "align_content": null,
            "align_items": null,
            "align_self": null,
            "border": null,
            "bottom": null,
            "display": null,
            "flex": null,
            "flex_flow": null,
            "grid_area": null,
            "grid_auto_columns": null,
            "grid_auto_flow": null,
            "grid_auto_rows": null,
            "grid_column": null,
            "grid_gap": null,
            "grid_row": null,
            "grid_template_areas": null,
            "grid_template_columns": null,
            "grid_template_rows": null,
            "height": null,
            "justify_content": null,
            "justify_items": null,
            "left": null,
            "margin": null,
            "max_height": null,
            "max_width": null,
            "min_height": null,
            "min_width": null,
            "object_fit": null,
            "object_position": null,
            "order": null,
            "overflow": null,
            "overflow_x": null,
            "overflow_y": null,
            "padding": null,
            "right": null,
            "top": null,
            "visibility": null,
            "width": null
          }
        }
      }
    }
  },
  "nbformat": 4,
  "nbformat_minor": 5
}