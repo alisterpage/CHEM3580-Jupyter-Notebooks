{
  "cells": [
    {
      "cell_type": "markdown",
      "metadata": {
        "id": "view-in-github",
        "colab_type": "text"
      },
      "source": [
        "<a href=\"https://colab.research.google.com/github/alisterpage/CHEM3580-Jupyter-Notebooks/blob/main/lectorials/H2_phasespace.ipynb\" target=\"_parent\"><img src=\"https://colab.research.google.com/assets/colab-badge.svg\" alt=\"Open In Colab\"/></a>"
      ]
    },
    {
      "cell_type": "markdown",
      "metadata": {
        "id": "If_i0r8yu_ND"
      },
      "source": [
        "# Phase Space - Vibration of H$_{2}$\n",
        "\n",
        "Let's look more closely at the vibrational motion in the H$_{2}$ molecule.\n",
        "\n",
        "We have seen already that, provided the nuclei do not deviate too far from their equilibrium position, the potential energy surface for this molecule can be approximated as a simple harmonic potential,\n",
        "\n",
        "<center> $U_{\\text{stretch}} = k(\\Delta R)^{2}$.</center>\n",
        "\n",
        "Run the two code cells below. Click play to see how the energy of the molecule changes with the H-H bond length as a function of time Use the controls to control the speed etc. of the animation.\n",
        "\n"
      ]
    },
    {
      "cell_type": "code",
      "execution_count": 16,
      "metadata": {
        "id": "cVGeV69j5HZy"
      },
      "outputs": [],
      "source": [
        "!pip install ipympl -q 2>&1 >/dev/null"
      ]
    },
    {
      "cell_type": "code",
      "execution_count": 17,
      "metadata": {
        "colab": {
          "base_uri": "https://localhost:8080/",
          "height": 427,
          "referenced_widgets": [
            "ec9bddcab8c849c2a5f30766fcad7e20",
            "79d80d464c4e4cc4b67a9b465a1d0765",
            "046605394aa84467ab5884fa64780520",
            "3afd8b3370f94a53a6ef4baf6fa63f80",
            "662d7a81be75492c82400adec372747f",
            "ec4c02f8f605481c9fb7c6a23ee95b01",
            "276e4fd180db45ccb0911942c9c5112a"
          ]
        },
        "collapsed": true,
        "id": "cgRwcN4zwezP",
        "outputId": "ed07776d-b7e6-4019-f148-ea6870d2d6f4"
      },
      "outputs": [
        {
          "output_type": "display_data",
          "data": {
            "text/plain": [
              "interactive(children=(FloatSlider(value=0.751, continuous_update=False, description='Bond length R (Å)', max=1…"
            ],
            "application/vnd.jupyter.widget-view+json": {
              "version_major": 2,
              "version_minor": 0,
              "model_id": "ec9bddcab8c849c2a5f30766fcad7e20"
            }
          },
          "metadata": {}
        }
      ],
      "source": [
        "%matplotlib inline\n",
        "import ipywidgets as widgets\n",
        "import matplotlib.pyplot as plt\n",
        "import numpy as np\n",
        "from IPython.display import clear_output, display\n",
        "import warnings\n",
        "warnings.filterwarnings(\"ignore\", category=DeprecationWarning)\n",
        "\n",
        "# globals\n",
        "xmin = 0.751\n",
        "k = 1020.0\n",
        "\n",
        "def harmonic_energy(k, r, xmin):\n",
        "    return k * (r - xmin) ** 2\n",
        "\n",
        "# slider widget (bond length)\n",
        "slider = widgets.FloatSlider(\n",
        "    value=0.751,\n",
        "    min=0.2,\n",
        "    max=1.3,\n",
        "    step=0.001,\n",
        "    description=\"Bond length R (Å)\",\n",
        "    disabled=False,\n",
        "    continuous_update=False,\n",
        "    orientation=\"horizontal\",\n",
        "    readout=True,\n",
        "    readout_format=\".3f\",\n",
        ")\n",
        "\n",
        "def update_plot(r):\n",
        "    clear_output(wait=True)\n",
        "    fig, ax = plt.subplots(figsize=(6, 4));\n",
        "    ax.set_ylim([0, 400])\n",
        "    ax.set_xlim([0.2, 1.3])\n",
        "    ax.set_ylabel(\"Energy (kJ/mol)\")\n",
        "    ax.set_xlabel(\"Bond length R (Å)\")\n",
        "    ax.grid(True)\n",
        "\n",
        "    # full curve over bond lengths\n",
        "    x_positions = np.linspace(0.2, 1.3, 500)\n",
        "    y_energies = harmonic_energy(k, x_positions, xmin)\n",
        "    ax.plot(x_positions, y_energies, color='blue', label='Harmonic curve')\n",
        "\n",
        "    # red marker at selected bond length\n",
        "    x_marker = r\n",
        "    y_marker = harmonic_energy(k, r, xmin)\n",
        "    ax.plot([x_marker], [y_marker], marker=\"o\", color='red', markersize=10, label='Current state')\n",
        "\n",
        "    ax.legend()\n",
        "    plt.show()\n",
        "    plt.close(fig)\n",
        "\n",
        "# connect widget to update and suppress spurious output\n",
        "interactive_plot = widgets.interactive(update_plot, r=slider)\n",
        "display(interactive_plot)"
      ]
    },
    {
      "cell_type": "code",
      "execution_count": null,
      "metadata": {
        "cellView": "form",
        "id": "UFSaQGvMwvpa"
      },
      "outputs": [],
      "source": [
        "#@title\n",
        "# create the animation using FuncAnimation\n",
        "ani = FuncAnimation(fig, update_plot, frames=np.arange(0.351, 1.151, 0.01), interval=15, repeat=True)\n",
        "\n",
        "# display the widgets and animation\n",
        "widgets.VBox([slider, play])\n",
        "HTML(ani.to_jshtml())"
      ]
    },
    {
      "cell_type": "markdown",
      "metadata": {
        "id": "A7Wx49qixc3t"
      },
      "source": [
        "\n",
        "Is there a more useful way of visualising the vibrational motion of this bond?? Let's consider how the bond length itself changes over time, rather than the energy. A harmonic potential means that the force that changes the H-H bond length is,\n",
        "\n",
        "<center> $\\mathbf{F} = m\\mathbf{a} = -kR$ </center>\n",
        "\n",
        "This force leads to the bond length $R$ and momentum $p$ changing over time $t$ according to,\n",
        "\n",
        "<center> $R(t) \\sim A\\cos(\\omega R)$ </center>\n",
        "\n",
        "where $\\omega$ is the frequency of the bond vibration,\n",
        "\n",
        "<center> $\\omega = \\sqrt{\\frac{k}{m}} $</center>\n",
        "\n",
        "and $A$ is the amplitude (which we artificially set to 0.5 Angstrom in this example). Similarly, since the bond is in motion, it has an effective momentum (recall that $p = mv$!) of\n",
        "\n",
        "<center> $p(t) = mv = m\\frac{dR}{dt} \\sim -Am\\omega\\sin(\\omega R)$ </center>\n",
        "\n",
        "Run the following code cells to visualise how the bond length $R$ and corresponding momentum $p$ evolve over time, as the bond vibrates."
      ]
    },
    {
      "cell_type": "code",
      "execution_count": null,
      "metadata": {
        "cellView": "form",
        "id": "whOl8pmnvQF4"
      },
      "outputs": [],
      "source": [
        "#@title\n",
        "%matplotlib widget\n",
        "import ipywidgets as widgets\n",
        "import matplotlib.pyplot as plt\n",
        "import numpy as np\n",
        "from matplotlib.animation import FuncAnimation\n",
        "from IPython.display import HTML\n",
        "from google.colab import output\n",
        "output.enable_custom_widget_manager()\n",
        "import warnings\n",
        "warnings.filterwarnings(\"ignore\", category=DeprecationWarning)\n",
        "\n",
        "#declare globals\n",
        "xmin=0.751\n",
        "k = 1020.0\n",
        "A = 0.5\n",
        "m = 1.08*1.08/(1.08+1.08)\n",
        "w = np.sqrt(k/m)\n",
        "x0=xmin\n",
        "tstart=0.0\n",
        "tend=3*2*np.pi/w\n",
        "tarray = np.linspace(tstart,tend, 2000)\n",
        "\n",
        "def harmonic_curve(k, xarray, xmin):\n",
        "    return k*(xarray-xmin)**2\n",
        "\n",
        "def harmonic_energy(k, r, xmin):\n",
        "    return k*(r-xmin)**2\n",
        "\n",
        "def harmonic_position(w,t,A):\n",
        "    return A*np.cos(w*t)\n",
        "\n",
        "def harmonic_momentum(w,t,m):\n",
        "    return -m*w*np.sin(w*t)\n",
        "\n",
        "\n",
        "# set up plot\n",
        "fig, ax = plt.subplots(nrows=1,ncols=2, figsize=(6, 4), gridspec_kw={'wspace': 0.4})\n",
        "#ax[0].set_ylim([0, 400])\n",
        "#ax[0].set_xlim([0.2,1.3])\n",
        "ax[1].set_ylabel(\"Momentum (amu m/s)\")\n",
        "ax[0].set_xlabel(\"Time\")\n",
        "ax[0].grid(True)\n",
        "ax[1].set_xlabel(\"Time\")\n",
        "ax[0].set_ylabel(\"Bond length R ($\\AA$)\")\n",
        "#ax1[1].set_xlim([0.251,1.251])\n",
        "#ax1[1].set_ylim([-20.0,+20.0])\n",
        "ax[1].grid(True)\n",
        "ax[0].plot(tarray, xmin+harmonic_position(w,tarray,A),color='blue')\n",
        "ax[1].plot(tarray,harmonic_momentum(w,tarray,m),color='red')"
      ]
    },
    {
      "cell_type": "markdown",
      "metadata": {
        "id": "PAehfXcUrmwD"
      },
      "source": [
        "Clearly, the momentum and bond length here are related to each other. Instead of plotting them side by side, we can instead plot them on the same graph - to show directly how a change in one leads to a change in the other (and vice versa).\n",
        "\n",
        "Such a plot is known as the **phase space** of the molecule. A molecule's phase space is a complete description of how the motion of the atoms in the molecule are determined by their position.\n",
        "\n",
        "What does the phase space here look like? Run the following code cell to plot the harmonic potential and corresponding phase space below. Click play to see how the energy of the molecule changes with the H-H bond length as a function of time, and how the bond length and momentum trace out a **trajectory** in phase space. Use the controls to control the speed etc. of the animation."
      ]
    },
    {
      "cell_type": "code",
      "execution_count": null,
      "metadata": {
        "cellView": "form",
        "collapsed": true,
        "id": "uL6_4asaiw1d"
      },
      "outputs": [],
      "source": [
        "#@title\n",
        "# create the play widget\n",
        "play = widgets.Play(\n",
        "    value=0.751,\n",
        "    min=0.5,\n",
        "    max=1.0,\n",
        "    step=0.01,\n",
        "    interval=100,\n",
        "    description=\"Bond length R ($\\AA$)\",\n",
        "    disabled=False,\n",
        ")\n",
        "\n",
        "# create the slider widget\n",
        "slider = widgets.FloatSlider(\n",
        "    value=0.751,\n",
        "    min=0.5,\n",
        "    max=1.0,\n",
        "    step=0.01,\n",
        "    description=\"Bond length R ($\\AA$)\",\n",
        "    disabled=False,\n",
        "    continuous_update=False,\n",
        "    orientation=\"horizontal\",\n",
        "    readout=True,\n",
        "    readout_format=\".2f\",\n",
        ")\n",
        "\n",
        "# create plot\n",
        "fig, ax = plt.subplots(nrows=1,ncols=2, figsize=(6, 4), gridspec_kw={'wspace': 0.4})\n",
        "tarray = np.linspace(tstart,tend, 2000)\n",
        "ax[0].set_ylim([0, 400])\n",
        "ax[0].set_xlim([0.2,1.3])\n",
        "ax[0].set_ylabel(\"Energy (kJ/mol)\")\n",
        "ax[0].set_xlabel(\"Bond length R ($\\AA$)\")\n",
        "ax[0].grid(True)\n",
        "ax[1].set_xlabel(\"Bond length R ($\\AA$)\")\n",
        "ax[1].set_ylabel(\"Momentum (amu m/s)\")\n",
        "ax[1].grid(True)\n",
        "curve_line0, = ax[0].plot(xmin+harmonic_position(w,tarray,A), harmonic_curve(k,xmin+harmonic_position(w,tarray,A),xmin),color='blue')\n",
        "curve_line1, = ax[1].plot(xmin+harmonic_position(w,tarray,A),harmonic_momentum(w,tarray,m),color='blue')\n",
        "marker_line0, = ax[0].plot(xmin+harmonic_position(w,play.value,A), harmonic_energy(k, xmin+harmonic_position(w,play.value,A), xmin), marker=\"o\", color='red')\n",
        "marker_line1, = ax[1].plot(xmin+harmonic_position(w,play.value,A), harmonic_momentum(w, play.value, m), marker=\"o\", color='red')\n",
        "\n",
        "# function to update the marker position\n",
        "def update_marker(r):\n",
        "    marker_line0.set_xdata(xmin+harmonic_position(w,r,A))\n",
        "    marker_line0.set_ydata(harmonic_energy(k,xmin+harmonic_position(w,r,A),xmin))\n",
        "    marker_line1.set_xdata(xmin+harmonic_position(w,r,A))\n",
        "    marker_line1.set_ydata(harmonic_momentum(w, r, m))\n",
        "\n",
        "# function to update the plot\n",
        "def update_plot(r):\n",
        "    curve_line0, = ax[0].plot(xmin+harmonic_position(w,tarray,A), harmonic_curve(k,xmin+harmonic_position(w,tarray,A),xmin),color='blue')\n",
        "    curve_line1, = ax[1].plot(xmin+harmonic_position(w,tarray,A),harmonic_momentum(w,tarray,m),color='blue')\n",
        "    update_marker(r)"
      ]
    },
    {
      "cell_type": "code",
      "execution_count": null,
      "metadata": {
        "cellView": "form",
        "id": "sOSivjJCqn8X"
      },
      "outputs": [],
      "source": [
        "#@title\n",
        "# create the animation using FuncAnimation\n",
        "ani = FuncAnimation(fig, update_plot, frames=np.arange(0.5, 1.0, 0.01), interval=15, repeat=True)\n",
        "\n",
        "# display the widgets and animation\n",
        "widgets.VBox([slider, play])\n",
        "HTML(ani.to_jshtml())\n"
      ]
    },
    {
      "cell_type": "markdown",
      "metadata": {
        "id": "qEbTL_ogtfLo"
      },
      "source": [
        "Why is understanding phase space important for running molecular dynamics??\n",
        "\n",
        "**Because it leads to one of the most important aspects of any molecular dynamics simulation - the <u>simulation time step</u>.**\n",
        "\n",
        "To see why, lets look at the evolution of the bond length $R$ and momentum $p$ over time again. This time, we will use a slightly longer time scale."
      ]
    },
    {
      "cell_type": "code",
      "execution_count": null,
      "metadata": {
        "cellView": "form",
        "id": "Qvvbec8utr7I"
      },
      "outputs": [],
      "source": [
        "#@title\n",
        "%matplotlib widget\n",
        "import ipywidgets as widgets\n",
        "import matplotlib.pyplot as plt\n",
        "import numpy as np\n",
        "from matplotlib.animation import FuncAnimation\n",
        "from IPython.display import HTML\n",
        "from google.colab import output\n",
        "output.enable_custom_widget_manager()\n",
        "import warnings\n",
        "warnings.filterwarnings(\"ignore\", category=DeprecationWarning)\n",
        "\n",
        "#declare globals\n",
        "xmin=0.751\n",
        "k = 1020.0\n",
        "A = 0.5\n",
        "m = 1.08*1.08/(1.08+1.08)\n",
        "w = np.sqrt(k/m)\n",
        "x0=xmin\n",
        "tstart=0.0\n",
        "tend=8*2*np.pi/w\n",
        "tarray = np.linspace(tstart,tend, 2000)\n",
        "\n",
        "def harmonic_curve(k, xarray, xmin):\n",
        "    return k*(xarray-xmin)**2\n",
        "\n",
        "def harmonic_energy(k, r, xmin):\n",
        "    return k*(r-xmin)**2\n",
        "\n",
        "def harmonic_position(w,t,A):\n",
        "    return A*np.cos(w*t)\n",
        "\n",
        "def harmonic_momentum(w,t,m):\n",
        "    return -m*w*np.sin(w*t)\n",
        "\n",
        "\n",
        "# set up plot\n",
        "fig, ax = plt.subplots(nrows=1,ncols=3, figsize=(9, 4), gridspec_kw={'wspace': 0.4})\n",
        "#ax[0].set_ylim([0, 400])\n",
        "#ax[0].set_xlim([0.2,1.3])\n",
        "ax[1].set_ylabel(\"Momentum (amu m/s)\")\n",
        "ax[0].set_xlabel(\"Time\")\n",
        "ax[0].grid(True)\n",
        "ax[1].set_xlabel(\"Time\")\n",
        "ax[0].set_ylabel(\"Bond length R ($\\AA$)\")\n",
        "ax[2].set_ylabel(\"Momentum (amu m/s)\")\n",
        "ax[2].set_xlabel(\"Bond length R ($\\AA$)\")\n",
        "#ax1[1].set_xlim([0.251,1.251])\n",
        "#ax1[1].set_ylim([-20.0,+20.0])\n",
        "ax[1].grid(True)\n",
        "ax[2].grid(True)\n",
        "ax[0].plot(tarray, xmin+harmonic_position(w,tarray,A),color='blue')\n",
        "ax[1].plot(tarray,harmonic_momentum(w,tarray,m),color='red')\n",
        "ax[2].plot(xmin+harmonic_position(w,tarray,A),harmonic_momentum(w,tarray,m),color='green')\n",
        "\n",
        "@widgets.interact(timestep=(0.005, 0.25, 0.005),continuous_update=True)\n",
        "def update(timestep = 0.1):\n",
        "    approx_tarray = np.linspace(tstart,tend, int((tend-tstart)/timestep))\n",
        "    [l.remove() for l in ax[0].lines]\n",
        "    [l.remove() for l in ax[1].lines]\n",
        "    [l.remove() for l in ax[2].lines]\n",
        "    ax[0].plot(tarray, xmin+harmonic_position(w,tarray,A),color='blue')\n",
        "    ax[1].plot(tarray,harmonic_momentum(w,tarray,m),color='red')\n",
        "    ax[2].plot(xmin+harmonic_position(w,tarray,A),harmonic_momentum(w,tarray,m),color='green')\n",
        "    ax[0].plot(approx_tarray, xmin+harmonic_position(w,approx_tarray,A),color='black',linestyle='dotted',marker='.')\n",
        "    ax[1].plot(approx_tarray,harmonic_momentum(w,approx_tarray,m),color='black',linestyle='dotted',marker='.')\n",
        "    ax[2].plot(xmin+harmonic_position(w,approx_tarray,A),harmonic_momentum(w,approx_tarray,m),color='black',linestyle='dotted',marker='.')"
      ]
    },
    {
      "cell_type": "markdown",
      "metadata": {
        "id": "uLtf6yRNudYf"
      },
      "source": [
        "The plots above show the **exact** bond length (blue) and momentum (red) curves that we have already seen. They also show an **approximate** value of the bond length and momentum (dotted black lines) that are obtained by simulating the vibration of the H-H bond discretely, i.e. just like we do in any molecular dynamics simulation.\n",
        "\n",
        "Use the slider bar to decrease and increase the MD timestep, and consider the following questions.\n",
        "\n",
        "1. What do you notice about the description of the bond length, momentum, and trajectory in phase space??\n",
        "2. Relative to the frequency of the vibration, what would you say is a 'good' time step? Explain your answer"
      ]
    }
  ],
  "metadata": {
    "colab": {
      "provenance": [],
      "authorship_tag": "ABX9TyM2wIUJCDyXCESUWsI/ED0Q",
      "include_colab_link": true
    },
    "kernelspec": {
      "display_name": "Python 3",
      "name": "python3"
    },
    "language_info": {
      "name": "python"
    },
    "widgets": {
      "application/vnd.jupyter.widget-state+json": {
        "ec9bddcab8c849c2a5f30766fcad7e20": {
          "model_module": "@jupyter-widgets/controls",
          "model_name": "VBoxModel",
          "model_module_version": "1.5.0",
          "state": {
            "_dom_classes": [
              "widget-interact"
            ],
            "_model_module": "@jupyter-widgets/controls",
            "_model_module_version": "1.5.0",
            "_model_name": "VBoxModel",
            "_view_count": null,
            "_view_module": "@jupyter-widgets/controls",
            "_view_module_version": "1.5.0",
            "_view_name": "VBoxView",
            "box_style": "",
            "children": [
              "IPY_MODEL_79d80d464c4e4cc4b67a9b465a1d0765",
              "IPY_MODEL_046605394aa84467ab5884fa64780520"
            ],
            "layout": "IPY_MODEL_3afd8b3370f94a53a6ef4baf6fa63f80"
          }
        },
        "79d80d464c4e4cc4b67a9b465a1d0765": {
          "model_module": "@jupyter-widgets/controls",
          "model_name": "FloatSliderModel",
          "model_module_version": "1.5.0",
          "state": {
            "_dom_classes": [],
            "_model_module": "@jupyter-widgets/controls",
            "_model_module_version": "1.5.0",
            "_model_name": "FloatSliderModel",
            "_view_count": null,
            "_view_module": "@jupyter-widgets/controls",
            "_view_module_version": "1.5.0",
            "_view_name": "FloatSliderView",
            "continuous_update": false,
            "description": "Bond length R (Å)",
            "description_tooltip": null,
            "disabled": false,
            "layout": "IPY_MODEL_662d7a81be75492c82400adec372747f",
            "max": 1.3,
            "min": 0.2,
            "orientation": "horizontal",
            "readout": true,
            "readout_format": ".3f",
            "step": 0.001,
            "style": "IPY_MODEL_ec4c02f8f605481c9fb7c6a23ee95b01",
            "value": 0.457
          }
        },
        "046605394aa84467ab5884fa64780520": {
          "model_module": "@jupyter-widgets/output",
          "model_name": "OutputModel",
          "model_module_version": "1.0.0",
          "state": {
            "_dom_classes": [],
            "_model_module": "@jupyter-widgets/output",
            "_model_module_version": "1.0.0",
            "_model_name": "OutputModel",
            "_view_count": null,
            "_view_module": "@jupyter-widgets/output",
            "_view_module_version": "1.0.0",
            "_view_name": "OutputView",
            "layout": "IPY_MODEL_276e4fd180db45ccb0911942c9c5112a",
            "msg_id": "",
            "outputs": [
              {
                "output_type": "display_data",
                "data": {
                  "text/plain": "<Figure size 600x400 with 1 Axes>",
                  "image/png": "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\n"
                },
                "metadata": {}
              }
            ]
          }
        },
        "3afd8b3370f94a53a6ef4baf6fa63f80": {
          "model_module": "@jupyter-widgets/base",
          "model_name": "LayoutModel",
          "model_module_version": "1.2.0",
          "state": {
            "_model_module": "@jupyter-widgets/base",
            "_model_module_version": "1.2.0",
            "_model_name": "LayoutModel",
            "_view_count": null,
            "_view_module": "@jupyter-widgets/base",
            "_view_module_version": "1.2.0",
            "_view_name": "LayoutView",
            "align_content": null,
            "align_items": null,
            "align_self": null,
            "border": null,
            "bottom": null,
            "display": null,
            "flex": null,
            "flex_flow": null,
            "grid_area": null,
            "grid_auto_columns": null,
            "grid_auto_flow": null,
            "grid_auto_rows": null,
            "grid_column": null,
            "grid_gap": null,
            "grid_row": null,
            "grid_template_areas": null,
            "grid_template_columns": null,
            "grid_template_rows": null,
            "height": null,
            "justify_content": null,
            "justify_items": null,
            "left": null,
            "margin": null,
            "max_height": null,
            "max_width": null,
            "min_height": null,
            "min_width": null,
            "object_fit": null,
            "object_position": null,
            "order": null,
            "overflow": null,
            "overflow_x": null,
            "overflow_y": null,
            "padding": null,
            "right": null,
            "top": null,
            "visibility": null,
            "width": null
          }
        },
        "662d7a81be75492c82400adec372747f": {
          "model_module": "@jupyter-widgets/base",
          "model_name": "LayoutModel",
          "model_module_version": "1.2.0",
          "state": {
            "_model_module": "@jupyter-widgets/base",
            "_model_module_version": "1.2.0",
            "_model_name": "LayoutModel",
            "_view_count": null,
            "_view_module": "@jupyter-widgets/base",
            "_view_module_version": "1.2.0",
            "_view_name": "LayoutView",
            "align_content": null,
            "align_items": null,
            "align_self": null,
            "border": null,
            "bottom": null,
            "display": null,
            "flex": null,
            "flex_flow": null,
            "grid_area": null,
            "grid_auto_columns": null,
            "grid_auto_flow": null,
            "grid_auto_rows": null,
            "grid_column": null,
            "grid_gap": null,
            "grid_row": null,
            "grid_template_areas": null,
            "grid_template_columns": null,
            "grid_template_rows": null,
            "height": null,
            "justify_content": null,
            "justify_items": null,
            "left": null,
            "margin": null,
            "max_height": null,
            "max_width": null,
            "min_height": null,
            "min_width": null,
            "object_fit": null,
            "object_position": null,
            "order": null,
            "overflow": null,
            "overflow_x": null,
            "overflow_y": null,
            "padding": null,
            "right": null,
            "top": null,
            "visibility": null,
            "width": null
          }
        },
        "ec4c02f8f605481c9fb7c6a23ee95b01": {
          "model_module": "@jupyter-widgets/controls",
          "model_name": "SliderStyleModel",
          "model_module_version": "1.5.0",
          "state": {
            "_model_module": "@jupyter-widgets/controls",
            "_model_module_version": "1.5.0",
            "_model_name": "SliderStyleModel",
            "_view_count": null,
            "_view_module": "@jupyter-widgets/base",
            "_view_module_version": "1.2.0",
            "_view_name": "StyleView",
            "description_width": "",
            "handle_color": null
          }
        },
        "276e4fd180db45ccb0911942c9c5112a": {
          "model_module": "@jupyter-widgets/base",
          "model_name": "LayoutModel",
          "model_module_version": "1.2.0",
          "state": {
            "_model_module": "@jupyter-widgets/base",
            "_model_module_version": "1.2.0",
            "_model_name": "LayoutModel",
            "_view_count": null,
            "_view_module": "@jupyter-widgets/base",
            "_view_module_version": "1.2.0",
            "_view_name": "LayoutView",
            "align_content": null,
            "align_items": null,
            "align_self": null,
            "border": null,
            "bottom": null,
            "display": null,
            "flex": null,
            "flex_flow": null,
            "grid_area": null,
            "grid_auto_columns": null,
            "grid_auto_flow": null,
            "grid_auto_rows": null,
            "grid_column": null,
            "grid_gap": null,
            "grid_row": null,
            "grid_template_areas": null,
            "grid_template_columns": null,
            "grid_template_rows": null,
            "height": null,
            "justify_content": null,
            "justify_items": null,
            "left": null,
            "margin": null,
            "max_height": null,
            "max_width": null,
            "min_height": null,
            "min_width": null,
            "object_fit": null,
            "object_position": null,
            "order": null,
            "overflow": null,
            "overflow_x": null,
            "overflow_y": null,
            "padding": null,
            "right": null,
            "top": null,
            "visibility": null,
            "width": null
          }
        }
      }
    }
  },
  "nbformat": 4,
  "nbformat_minor": 0
}